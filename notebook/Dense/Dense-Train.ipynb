{
 "cells": [
  {
   "cell_type": "code",
   "execution_count": 1,
   "metadata": {},
   "outputs": [],
   "source": [
    "import matplotlib.pyplot as plt\n",
    "%matplotlib inline\n",
    "import IPython.display\n",
    "import librosa.display\n",
    "import numpy as np\n",
    "import librosa\n",
    "import tensorflow as tf\n",
    "import glob"
   ]
  },
  {
   "cell_type": "markdown",
   "metadata": {},
   "source": [
    "### If you have been save the data, you don't have to preprocessing and save the data"
   ]
  },
  {
   "cell_type": "code",
   "execution_count": 2,
   "metadata": {},
   "outputs": [],
   "source": [
    "drone_path = '../../data/drone/*.wav'\n",
    "background_path = '../../data/background-tmp/*.wav'\n",
    "\n",
    "drone_files = glob.glob(drone_path)\n",
    "background_files = glob.glob(background_path)"
   ]
  },
  {
   "cell_type": "code",
   "execution_count": 3,
   "metadata": {},
   "outputs": [],
   "source": [
    "CHUNK_SIZE = 8192\n",
    "SR = 22050\n",
    "N_MFCC = 16"
   ]
  },
  {
   "cell_type": "code",
   "execution_count": 4,
   "metadata": {},
   "outputs": [],
   "source": [
    "def load(files, sr=22050):\n",
    "    [raw, sr] = librosa.load(files[0], sr=sr)\n",
    "    for f in files[1:]:\n",
    "        [array, sr] = librosa.load(f, sr=sr)\n",
    "        raw = np.hstack((raw, array))\n",
    "    print(raw.shape)\n",
    "    return raw"
   ]
  },
  {
   "cell_type": "code",
   "execution_count": 5,
   "metadata": {},
   "outputs": [
    {
     "name": "stdout",
     "output_type": "stream",
     "text": [
      "(11406619,)\n",
      "(11127941,)\n"
     ]
    }
   ],
   "source": [
    "drone_raw = load(drone_files)\n",
    "background_raw = load(background_files)"
   ]
  },
  {
   "cell_type": "markdown",
   "metadata": {},
   "source": [
    "# Data preprocessing"
   ]
  },
  {
   "cell_type": "markdown",
   "metadata": {},
   "source": [
    "Chose `mfcc4` among functions below:\n",
    "- input size 16x16; `n_mfcc=16`, used first 16 data points from 16x17 mfcc of a chunk with size 8192\n",
    "- chunk siez 8192, overlapped half of it"
   ]
  },
  {
   "cell_type": "code",
   "execution_count": 6,
   "metadata": {},
   "outputs": [],
   "source": [
    "def mfcc4(raw, label, chunk_size=8192, window_size=4096, sr=22050, n_mfcc=16, n_frame=16):\n",
    "    mfcc = np.empty((0, n_mfcc, n_frame))\n",
    "    y = []\n",
    "    print(raw.shape)\n",
    "    for i in range(0, len(raw), chunk_size//2):\n",
    "        mfcc_slice = librosa.feature.mfcc(raw[i:i+chunk_size], sr=sr, n_mfcc=n_mfcc) #n_mfcc,17\n",
    "        if mfcc_slice.shape[1] < 17:\n",
    "            print(\"small end:\", mfcc_slice.shape)\n",
    "            continue\n",
    "        mfcc_slice = mfcc_slice[:,:-1]\n",
    "        mfcc_slice = mfcc_slice.reshape((1, mfcc_slice.shape[0], mfcc_slice.shape[1]))\n",
    "        mfcc = np.vstack((mfcc, mfcc_slice))\n",
    "        y.append(label)\n",
    "    y = np.array(y)\n",
    "    return mfcc, y"
   ]
  },
  {
   "cell_type": "code",
   "execution_count": 7,
   "metadata": {},
   "outputs": [
    {
     "name": "stdout",
     "output_type": "stream",
     "text": [
      "(11406619,)\n",
      "small end: (16, 15)\n",
      "small end: (16, 7)\n",
      "(11127941,)\n",
      "small end: (16, 15)\n",
      "small end: (16, 7)\n",
      "(2783, 16, 16) (2783,)\n",
      "(2715, 16, 16) (2715,)\n"
     ]
    }
   ],
   "source": [
    "mfcc_drone, y_drone = mfcc4(drone_raw, 1)\n",
    "mfcc_background, y_background = mfcc4(background_raw, 0)\n",
    "\n",
    "print(mfcc_drone.shape, y_drone.shape)\n",
    "print(mfcc_background.shape, y_background.shape)"
   ]
  },
  {
   "cell_type": "code",
   "execution_count": 8,
   "metadata": {},
   "outputs": [
    {
     "name": "stdout",
     "output_type": "stream",
     "text": [
      "(5498, 16, 16) (5498,)\n"
     ]
    }
   ],
   "source": [
    "X = np.concatenate((mfcc_drone, mfcc_background), axis=0)\n",
    "y = np.hstack((y_drone, y_background))\n",
    "print(X.shape, y.shape)"
   ]
  },
  {
   "cell_type": "code",
   "execution_count": 9,
   "metadata": {},
   "outputs": [],
   "source": [
    "X = np.reshape(X,(X.shape[0],-1))"
   ]
  },
  {
   "cell_type": "code",
   "execution_count": 10,
   "metadata": {},
   "outputs": [
    {
     "data": {
      "text/plain": [
       "(5498, 256)"
      ]
     },
     "execution_count": 10,
     "metadata": {},
     "output_type": "execute_result"
    }
   ],
   "source": [
    "X.shape"
   ]
  },
  {
   "cell_type": "code",
   "execution_count": 11,
   "metadata": {},
   "outputs": [
    {
     "name": "stdout",
     "output_type": "stream",
     "text": [
      "(5498, 2)\n"
     ]
    }
   ],
   "source": [
    "n_labels = y.shape[0]\n",
    "n_unique_labels = 2\n",
    "y_encoded = np.zeros((n_labels, n_unique_labels))\n",
    "y_encoded[np.arange(n_labels), y] = 1\n",
    "print(y_encoded.shape)"
   ]
  },
  {
   "cell_type": "code",
   "execution_count": 12,
   "metadata": {},
   "outputs": [],
   "source": [
    "# Split data\n",
    "from sklearn import model_selection\n",
    "X_train, X_test, y_train, y_test = model_selection.train_test_split(X, y_encoded, test_size=0.2, random_state=42)\n",
    "X_train, X_val, y_train, y_val = model_selection.train_test_split(X_train, y_train, test_size=0.2, random_state=42)"
   ]
  },
  {
   "cell_type": "code",
   "execution_count": 13,
   "metadata": {},
   "outputs": [
    {
     "name": "stdout",
     "output_type": "stream",
     "text": [
      "(3518, 256) (3518, 2)\n",
      "(880, 256) (880, 2)\n",
      "(1100, 256) (1100, 2)\n"
     ]
    }
   ],
   "source": [
    "print(X_train.shape,y_train.shape)\n",
    "print(X_val.shape, y_val.shape)\n",
    "print(X_test.shape, y_test.shape)"
   ]
  },
  {
   "cell_type": "code",
   "execution_count": 14,
   "metadata": {},
   "outputs": [],
   "source": [
    "# Save Data\n",
    "np.save('../../model/X_train', X_train)\n",
    "np.save('../../model/X_test', X_test)\n",
    "np.save('../../model/X_val', X_val)\n",
    "np.save('../../model/y_val', y_val)\n",
    "np.save('../../model/y_train', y_train)\n",
    "np.save('../../model/y_test', y_test)"
   ]
  },
  {
   "cell_type": "markdown",
   "metadata": {},
   "source": [
    "### Until this part"
   ]
  },
  {
   "cell_type": "code",
   "execution_count": 15,
   "metadata": {},
   "outputs": [],
   "source": [
    "# Load Data\n",
    "X_train = np.load('../../model/X_train.npy')\n",
    "X_test = np.load('../../model/X_test.npy')\n",
    "X_val = np.load('../../model/X_val.npy')\n",
    "y_val = np.load('../../model/y_val.npy')\n",
    "y_train = np.load('../../model/y_train.npy')\n",
    "y_test = np.load('../../model/y_test.npy')"
   ]
  },
  {
   "cell_type": "markdown",
   "metadata": {},
   "source": [
    "# Experiment 3 - One convolutional layer /w no dropout\n"
   ]
  },
  {
   "cell_type": "markdown",
   "metadata": {},
   "source": [
    "##Experiment 3-2\n",
    "- learning rate 0.005\n",
    "- pooling stride 1x1\n",
    "- #filter 1\n",
    "- best result among every other settings\n",
    "- cost kept fluctuated during training. (0.8 -> 1.3) -- why is that?"
   ]
  },
  {
   "cell_type": "code",
   "execution_count": 16,
   "metadata": {},
   "outputs": [],
   "source": [
    "tf.reset_default_graph()"
   ]
  },
  {
   "cell_type": "code",
   "execution_count": 17,
   "metadata": {},
   "outputs": [],
   "source": [
    "n_mfcc = 16\n",
    "n_frame = 16\n",
    "n_classes = 2\n",
    "n_channels = 1\n",
    "\n",
    "kernel_size = 3\n",
    "stride = 1\n",
    "pad = \"SAME\"\n",
    "\n",
    "learning_rate = 0.0002  # 0.005\n",
    "training_epochs = 500 # 수정해야해"
   ]
  },
  {
   "cell_type": "markdown",
   "metadata": {},
   "source": [
    "# Layer"
   ]
  },
  {
   "cell_type": "markdown",
   "metadata": {},
   "source": [
    "## Experiment\n",
    "- learning rate 0.0002\n",
    "- no cnn/ pooling \n",
    "- just dense with dropout "
   ]
  },
  {
   "cell_type": "code",
   "execution_count": 18,
   "metadata": {},
   "outputs": [],
   "source": [
    "X = tf.placeholder(tf.float32, shape=[None,n_mfcc*n_frame*n_channels])\n",
    "Y = tf.placeholder(tf.float32, shape=[None,n_classes])\n",
    "\n",
    "keep_prob = tf.placeholder(tf.float32)\n",
    "\n",
    "dense1 = tf.layers.dense(inputs=X, units=256, activation=tf.nn.relu)\n",
    "dropout1 = tf.nn.dropout(dense1, keep_prob=keep_prob)\n",
    "dense2 = tf.layers.dense(inputs=dropout1, units=256, activation=tf.nn.relu)\n",
    "dropout2 = tf.nn.dropout(dense2, keep_prob=keep_prob)\n",
    "dense3 = tf.layers.dense(inputs=dropout2, units=512, activation=tf.nn.relu)\n",
    "dropout3 = tf.nn.dropout(dense3, keep_prob=keep_prob)\n",
    "dense4 = tf.layers.dense(inputs=dropout3, units=512, activation=tf.nn.relu)\n",
    "dropout4 = tf.nn.dropout(dense4, keep_prob=keep_prob)\n",
    "dense5 = tf.layers.dense(inputs=dropout4, units=256, activation=tf.nn.relu)\n",
    "dropout5 = tf.nn.dropout(dense5, keep_prob=keep_prob)\n",
    "\n",
    "logits= tf.layers.dense(inputs=dropout5, units=2)"
   ]
  },
  {
   "cell_type": "code",
   "execution_count": 19,
   "metadata": {},
   "outputs": [],
   "source": [
    "cost = tf.reduce_mean(tf.nn.softmax_cross_entropy_with_logits_v2(logits=logits, labels=Y))\n",
    "optimizer = tf.train.AdamOptimizer(learning_rate=learning_rate).minimize(cost)"
   ]
  },
  {
   "cell_type": "code",
   "execution_count": 20,
   "metadata": {},
   "outputs": [],
   "source": [
    "sess = tf.Session()\n",
    "sess.run(tf.global_variables_initializer())"
   ]
  },
  {
   "cell_type": "code",
   "execution_count": 21,
   "metadata": {},
   "outputs": [],
   "source": [
    "# model save\n",
    "model_path = '../../model/Dense/dense_model'\n",
    "saver = tf.train.Saver()"
   ]
  },
  {
   "cell_type": "markdown",
   "metadata": {},
   "source": [
    "# Trainning"
   ]
  },
  {
   "cell_type": "code",
   "execution_count": 22,
   "metadata": {},
   "outputs": [],
   "source": [
    "import math"
   ]
  },
  {
   "cell_type": "code",
   "execution_count": 23,
   "metadata": {
    "scrolled": false
   },
   "outputs": [],
   "source": [
    "with tf.name_scope(\"eval\"):\n",
    "    correct = tf.nn.in_top_k(logits, y, 1)\n",
    "    accuracy = tf.reduce_mean(tf.cast(correct, tf.float32))\n",
    "#    accuracy_summary = tf.summary.scalar('accuracy', accuracy)"
   ]
  },
  {
   "cell_type": "code",
   "execution_count": 24,
   "metadata": {},
   "outputs": [],
   "source": [
    "from sklearn.metrics import accuracy_score"
   ]
  },
  {
   "cell_type": "code",
   "execution_count": 25,
   "metadata": {
    "scrolled": false
   },
   "outputs": [
    {
     "name": "stdout",
     "output_type": "stream",
     "text": [
      "Epoch: 0001 cost =  0.606964248 \t검증 세트 정확도: 85.909%\n",
      "Epoch: 0002 cost =  0.198912285 \t검증 세트 정확도: 94.091%\n",
      "Epoch: 0003 cost =  0.091206105 \t검증 세트 정확도: 95.795%\n",
      "Epoch: 0004 cost =  0.045486195 \t검증 세트 정확도: 96.023%\n",
      "Epoch: 0005 cost =  0.032039448 \t검증 세트 정확도: 96.364%\n",
      "Epoch: 0006 cost =  0.019455443 \t검증 세트 정확도: 96.136%\n",
      "Epoch: 0007 cost =  0.014943494 \t검증 세트 정확도: 96.023%\n",
      "Epoch: 0008 cost =  0.012261162 \t검증 세트 정확도: 96.591%\n",
      "Epoch: 0009 cost =  0.009717329 \t검증 세트 정확도: 96.818%\n",
      "Epoch: 0010 cost =  0.007641516 \t검증 세트 정확도: 97.386%\n",
      "Epoch: 0011 cost =  0.006602936 \t검증 세트 정확도: 97.386%\n",
      "Epoch: 0012 cost =  0.006564065 \t검증 세트 정확도: 97.841%\n",
      "Epoch: 0013 cost =  0.006086010 \t검증 세트 정확도: 97.955%\n",
      "Epoch: 0014 cost =  0.004745619 \t검증 세트 정확도: 98.295%\n",
      "Epoch: 0015 cost =  0.003794081 \t검증 세트 정확도: 98.182%\n",
      "Epoch: 0016 cost =  0.004130826 \t검증 세트 정확도: 98.182%\n",
      "Epoch: 0017 cost =  0.002976743 \t검증 세트 정확도: 98.182%\n",
      "Epoch: 0018 cost =  0.003631025 \t검증 세트 정확도: 98.295%\n",
      "Epoch: 0019 cost =  0.003330978 \t검증 세트 정확도: 98.182%\n",
      "Epoch: 0020 cost =  0.002532607 \t검증 세트 정확도: 98.636%\n",
      "Epoch: 0021 cost =  0.002496952 \t검증 세트 정확도: 98.523%\n",
      "Epoch: 0022 cost =  0.002806616 \t검증 세트 정확도: 98.409%\n",
      "Epoch: 0023 cost =  0.002122177 \t검증 세트 정확도: 98.750%\n",
      "Epoch: 0024 cost =  0.002117458 \t검증 세트 정확도: 98.636%\n",
      "Epoch: 0025 cost =  0.001692049 \t검증 세트 정확도: 98.636%\n",
      "Epoch: 0026 cost =  0.001932338 \t검증 세트 정확도: 98.750%\n",
      "Epoch: 0027 cost =  0.002043191 \t검증 세트 정확도: 98.750%\n",
      "Epoch: 0028 cost =  0.001663837 \t검증 세트 정확도: 98.636%\n",
      "Epoch: 0029 cost =  0.001744385 \t검증 세트 정확도: 98.636%\n",
      "Epoch: 0030 cost =  0.001503278 \t검증 세트 정확도: 98.750%\n",
      "Epoch: 0031 cost =  0.001474542 \t검증 세트 정확도: 98.750%\n",
      "Epoch: 0032 cost =  0.001195928 \t검증 세트 정확도: 98.977%\n",
      "Epoch: 0033 cost =  0.001202222 \t검증 세트 정확도: 99.091%\n",
      "Epoch: 0034 cost =  0.001440452 \t검증 세트 정확도: 98.977%\n",
      "Epoch: 0035 cost =  0.000973864 \t검증 세트 정확도: 99.091%\n",
      "Epoch: 0036 cost =  0.001152564 \t검증 세트 정확도: 98.864%\n",
      "Epoch: 0037 cost =  0.001242105 \t검증 세트 정확도: 99.205%\n",
      "Epoch: 0038 cost =  0.000937908 \t검증 세트 정확도: 98.977%\n",
      "Epoch: 0039 cost =  0.001247657 \t검증 세트 정확도: 99.205%\n",
      "Epoch: 0040 cost =  0.000729465 \t검증 세트 정확도: 99.318%\n",
      "Epoch: 0041 cost =  0.001069871 \t검증 세트 정확도: 98.977%\n",
      "Epoch: 0042 cost =  0.000982903 \t검증 세트 정확도: 99.318%\n",
      "Epoch: 0043 cost =  0.000894327 \t검증 세트 정확도: 99.205%\n",
      "Epoch: 0044 cost =  0.000815523 \t검증 세트 정확도: 99.432%\n",
      "Epoch: 0045 cost =  0.000897965 \t검증 세트 정확도: 98.977%\n",
      "Epoch: 0046 cost =  0.001317810 \t검증 세트 정확도: 98.977%\n",
      "Epoch: 0047 cost =  0.001001032 \t검증 세트 정확도: 99.205%\n",
      "Epoch: 0048 cost =  0.001094127 \t검증 세트 정확도: 99.205%\n",
      "Epoch: 0049 cost =  0.001170568 \t검증 세트 정확도: 98.977%\n",
      "Epoch: 0050 cost =  0.000993452 \t검증 세트 정확도: 99.091%\n",
      "Epoch: 0051 cost =  0.000985257 \t검증 세트 정확도: 99.205%\n",
      "Epoch: 0052 cost =  0.000887346 \t검증 세트 정확도: 99.205%\n",
      "Epoch: 0053 cost =  0.000963557 \t검증 세트 정확도: 99.205%\n",
      "Epoch: 0054 cost =  0.001038199 \t검증 세트 정확도: 99.318%\n",
      "Epoch: 0055 cost =  0.001049763 \t검증 세트 정확도: 99.432%\n",
      "Epoch: 0056 cost =  0.001012033 \t검증 세트 정확도: 99.545%\n",
      "Epoch: 0057 cost =  0.000878050 \t검증 세트 정확도: 99.318%\n",
      "Epoch: 0058 cost =  0.000632372 \t검증 세트 정확도: 99.318%\n",
      "Epoch: 0059 cost =  0.000650891 \t검증 세트 정확도: 98.977%\n",
      "Epoch: 0060 cost =  0.001017089 \t검증 세트 정확도: 99.205%\n",
      "Epoch: 0061 cost =  0.000814714 \t검증 세트 정확도: 99.545%\n",
      "Epoch: 0062 cost =  0.000769378 \t검증 세트 정확도: 99.205%\n",
      "Epoch: 0063 cost =  0.000852716 \t검증 세트 정확도: 98.864%\n",
      "Epoch: 0064 cost =  0.000718480 \t검증 세트 정확도: 99.205%\n",
      "Epoch: 0065 cost =  0.000955452 \t검증 세트 정확도: 99.205%\n",
      "Epoch: 0066 cost =  0.000748437 \t검증 세트 정확도: 99.318%\n",
      "Epoch: 0067 cost =  0.000660637 \t검증 세트 정확도: 99.318%\n",
      "Epoch: 0068 cost =  0.000875318 \t검증 세트 정확도: 99.091%\n",
      "Epoch: 0069 cost =  0.000611822 \t검증 세트 정확도: 99.432%\n",
      "Epoch: 0070 cost =  0.000912079 \t검증 세트 정확도: 99.318%\n",
      "Epoch: 0071 cost =  0.000860896 \t검증 세트 정확도: 99.205%\n",
      "Epoch: 0072 cost =  0.000676998 \t검증 세트 정확도: 99.432%\n",
      "Epoch: 0073 cost =  0.000789123 \t검증 세트 정확도: 99.432%\n",
      "Epoch: 0074 cost =  0.000760623 \t검증 세트 정확도: 99.545%\n",
      "Epoch: 0075 cost =  0.000759171 \t검증 세트 정확도: 99.545%\n",
      "Epoch: 0076 cost =  0.000571122 \t검증 세트 정확도: 99.318%\n",
      "Epoch: 0077 cost =  0.000645498 \t검증 세트 정확도: 99.545%\n",
      "Epoch: 0078 cost =  0.000792443 \t검증 세트 정확도: 99.318%\n",
      "Epoch: 0079 cost =  0.000880242 \t검증 세트 정확도: 99.318%\n",
      "Epoch: 0080 cost =  0.000638032 \t검증 세트 정확도: 99.432%\n",
      "Epoch: 0081 cost =  0.000840283 \t검증 세트 정확도: 99.432%\n",
      "Epoch: 0082 cost =  0.000370099 \t검증 세트 정확도: 99.432%\n",
      "Epoch: 0083 cost =  0.000671447 \t검증 세트 정확도: 99.091%\n",
      "Epoch: 0084 cost =  0.000777493 \t검증 세트 정확도: 99.432%\n",
      "Epoch: 0085 cost =  0.000452958 \t검증 세트 정확도: 99.205%\n",
      "Epoch: 0086 cost =  0.000863016 \t검증 세트 정확도: 99.091%\n",
      "Epoch: 0087 cost =  0.000761244 \t검증 세트 정확도: 99.659%\n",
      "Epoch: 0088 cost =  0.000651247 \t검증 세트 정확도: 99.773%\n",
      "Epoch: 0089 cost =  0.000677321 \t검증 세트 정확도: 99.091%\n",
      "Epoch: 0090 cost =  0.000838324 \t검증 세트 정확도: 99.318%\n",
      "Epoch: 0091 cost =  0.000754532 \t검증 세트 정확도: 99.091%\n",
      "Epoch: 0092 cost =  0.000623134 \t검증 세트 정확도: 99.432%\n",
      "Epoch: 0093 cost =  0.000704257 \t검증 세트 정확도: 99.432%\n",
      "Epoch: 0094 cost =  0.000538822 \t검증 세트 정확도: 99.545%\n",
      "Epoch: 0095 cost =  0.000469034 \t검증 세트 정확도: 99.659%\n",
      "Epoch: 0096 cost =  0.000533899 \t검증 세트 정확도: 99.205%\n",
      "Epoch: 0097 cost =  0.000715258 \t검증 세트 정확도: 99.545%\n",
      "Epoch: 0098 cost =  0.000507544 \t검증 세트 정확도: 99.659%\n",
      "Epoch: 0099 cost =  0.000587236 \t검증 세트 정확도: 99.659%\n",
      "Epoch: 0100 cost =  0.000653667 \t검증 세트 정확도: 99.659%\n",
      "Epoch: 0101 cost =  0.000678322 \t검증 세트 정확도: 99.545%\n",
      "Epoch: 0102 cost =  0.000679310 \t검증 세트 정확도: 99.659%\n",
      "Epoch: 0103 cost =  0.000549236 \t검증 세트 정확도: 99.318%\n",
      "Epoch: 0104 cost =  0.000771190 \t검증 세트 정확도: 99.659%\n",
      "Epoch: 0105 cost =  0.000519226 \t검증 세트 정확도: 99.659%\n",
      "Epoch: 0106 cost =  0.000568930 \t검증 세트 정확도: 99.545%\n",
      "Epoch: 0107 cost =  0.000518510 \t검증 세트 정확도: 99.659%\n",
      "Epoch: 0108 cost =  0.000632434 \t검증 세트 정확도: 99.318%\n",
      "Epoch: 0109 cost =  0.000750062 \t검증 세트 정확도: 99.205%\n",
      "Epoch: 0110 cost =  0.000528655 \t검증 세트 정확도: 99.318%\n",
      "Epoch: 0111 cost =  0.000618827 \t검증 세트 정확도: 99.205%\n",
      "Epoch: 0112 cost =  0.000578316 \t검증 세트 정확도: 99.545%\n",
      "Epoch: 0113 cost =  0.000486697 \t검증 세트 정확도: 99.205%\n",
      "Epoch: 0114 cost =  0.000546028 \t검증 세트 정확도: 99.545%\n",
      "Epoch: 0115 cost =  0.000512959 \t검증 세트 정확도: 99.432%\n",
      "Epoch: 0116 cost =  0.000623415 \t검증 세트 정확도: 99.318%\n",
      "Epoch: 0117 cost =  0.000473583 \t검증 세트 정확도: 99.432%\n",
      "Epoch: 0118 cost =  0.000412334 \t검증 세트 정확도: 99.773%\n",
      "Epoch: 0119 cost =  0.000810406 \t검증 세트 정확도: 99.773%\n",
      "Epoch: 0120 cost =  0.000325624 \t검증 세트 정확도: 99.545%\n",
      "Epoch: 0121 cost =  0.000527996 \t검증 세트 정확도: 99.545%\n",
      "Epoch: 0122 cost =  0.000547229 \t검증 세트 정확도: 99.659%\n",
      "Epoch: 0123 cost =  0.000512600 \t검증 세트 정확도: 99.318%\n",
      "Epoch: 0124 cost =  0.000423761 \t검증 세트 정확도: 99.659%\n",
      "Epoch: 0125 cost =  0.000378205 \t검증 세트 정확도: 99.545%\n",
      "Epoch: 0126 cost =  0.000621634 \t검증 세트 정확도: 99.773%\n",
      "Epoch: 0127 cost =  0.000655226 \t검증 세트 정확도: 99.659%\n",
      "Epoch: 0128 cost =  0.000428063 \t검증 세트 정확도: 99.432%\n",
      "Epoch: 0129 cost =  0.000480654 \t검증 세트 정확도: 99.886%\n",
      "Epoch: 0130 cost =  0.000668079 \t검증 세트 정확도: 99.659%\n",
      "Epoch: 0131 cost =  0.000326385 \t검증 세트 정확도: 99.886%\n",
      "Epoch: 0132 cost =  0.000472583 \t검증 세트 정확도: 99.091%\n",
      "Epoch: 0133 cost =  0.000474553 \t검증 세트 정확도: 99.545%\n",
      "Epoch: 0134 cost =  0.000868660 \t검증 세트 정확도: 99.545%\n",
      "Epoch: 0135 cost =  0.000626499 \t검증 세트 정확도: 99.545%\n",
      "Epoch: 0136 cost =  0.000545465 \t검증 세트 정확도: 99.773%\n",
      "Epoch: 0137 cost =  0.000429526 \t검증 세트 정확도: 99.545%\n",
      "Epoch: 0138 cost =  0.000501542 \t검증 세트 정확도: 99.659%\n",
      "Epoch: 0139 cost =  0.000601023 \t검증 세트 정확도: 99.545%\n",
      "Epoch: 0140 cost =  0.000656642 \t검증 세트 정확도: 99.659%\n",
      "Epoch: 0141 cost =  0.000622635 \t검증 세트 정확도: 99.205%\n",
      "Epoch: 0142 cost =  0.000386626 \t검증 세트 정확도: 99.318%\n",
      "Epoch: 0143 cost =  0.000490677 \t검증 세트 정확도: 99.432%\n",
      "Epoch: 0144 cost =  0.000630609 \t검증 세트 정확도: 98.750%\n",
      "Epoch: 0145 cost =  0.000553607 \t검증 세트 정확도: 99.545%\n",
      "Epoch: 0146 cost =  0.000328816 \t검증 세트 정확도: 99.545%\n",
      "Epoch: 0147 cost =  0.000726179 \t검증 세트 정확도: 99.432%\n",
      "Epoch: 0148 cost =  0.000450205 \t검증 세트 정확도: 99.659%\n",
      "Epoch: 0149 cost =  0.000728222 \t검증 세트 정확도: 99.545%\n",
      "Epoch: 0150 cost =  0.000445372 \t검증 세트 정확도: 99.545%\n",
      "Epoch: 0151 cost =  0.000349815 \t검증 세트 정확도: 99.545%\n",
      "Epoch: 0152 cost =  0.000452856 \t검증 세트 정확도: 99.773%\n",
      "Epoch: 0153 cost =  0.000484305 \t검증 세트 정확도: 99.773%\n",
      "Epoch: 0154 cost =  0.000385278 \t검증 세트 정확도: 99.659%\n",
      "Epoch: 0155 cost =  0.000641023 \t검증 세트 정확도: 99.318%\n",
      "Epoch: 0156 cost =  0.000391664 \t검증 세트 정확도: 99.659%\n",
      "Epoch: 0157 cost =  0.000288836 \t검증 세트 정확도: 99.659%\n",
      "Epoch: 0158 cost =  0.000517051 \t검증 세트 정확도: 99.773%\n"
     ]
    },
    {
     "name": "stdout",
     "output_type": "stream",
     "text": [
      "Epoch: 0159 cost =  0.000441742 \t검증 세트 정확도: 99.318%\n",
      "Epoch: 0160 cost =  0.000435247 \t검증 세트 정확도: 99.545%\n",
      "Epoch: 0161 cost =  0.000531248 \t검증 세트 정확도: 99.545%\n",
      "Epoch: 0162 cost =  0.000439785 \t검증 세트 정확도: 99.545%\n",
      "Epoch: 0163 cost =  0.000306255 \t검증 세트 정확도: 99.318%\n",
      "Epoch: 0164 cost =  0.000591209 \t검증 세트 정확도: 99.659%\n",
      "Epoch: 0165 cost =  0.001079590 \t검증 세트 정확도: 99.545%\n",
      "Epoch: 0166 cost =  0.000580476 \t검증 세트 정확도: 99.659%\n",
      "Epoch: 0167 cost =  0.000457486 \t검증 세트 정확도: 99.659%\n",
      "Epoch: 0168 cost =  0.000318251 \t검증 세트 정확도: 99.659%\n",
      "Epoch: 0169 cost =  0.000601145 \t검증 세트 정확도: 99.659%\n",
      "Epoch: 0170 cost =  0.000559989 \t검증 세트 정확도: 99.545%\n",
      "Epoch: 0171 cost =  0.000475881 \t검증 세트 정확도: 99.773%\n",
      "Epoch: 0172 cost =  0.000391158 \t검증 세트 정확도: 99.432%\n",
      "Epoch: 0173 cost =  0.000959320 \t검증 세트 정확도: 99.432%\n",
      "Epoch: 0174 cost =  0.000613368 \t검증 세트 정확도: 99.318%\n",
      "Epoch: 0175 cost =  0.000679167 \t검증 세트 정확도: 99.545%\n",
      "Epoch: 0176 cost =  0.000627115 \t검증 세트 정확도: 99.545%\n",
      "Epoch: 0177 cost =  0.000327751 \t검증 세트 정확도: 99.886%\n",
      "Epoch: 0178 cost =  0.000328111 \t검증 세트 정확도: 99.773%\n",
      "Epoch: 0179 cost =  0.000684750 \t검증 세트 정확도: 99.432%\n",
      "Epoch: 0180 cost =  0.000549052 \t검증 세트 정확도: 99.659%\n",
      "Epoch: 0181 cost =  0.000340357 \t검증 세트 정확도: 99.773%\n",
      "Epoch: 0182 cost =  0.000353185 \t검증 세트 정확도: 100.000%\n",
      "Epoch: 0183 cost =  0.000403262 \t검증 세트 정확도: 99.886%\n",
      "Epoch: 0184 cost =  0.000806676 \t검증 세트 정확도: 99.659%\n",
      "Epoch: 0185 cost =  0.000528096 \t검증 세트 정확도: 99.432%\n",
      "Epoch: 0186 cost =  0.000765616 \t검증 세트 정확도: 100.000%\n",
      "Epoch: 0187 cost =  0.000359830 \t검증 세트 정확도: 99.432%\n",
      "Epoch: 0188 cost =  0.000896186 \t검증 세트 정확도: 99.659%\n",
      "Epoch: 0189 cost =  0.000511801 \t검증 세트 정확도: 99.545%\n",
      "Epoch: 0190 cost =  0.000271850 \t검증 세트 정확도: 99.773%\n",
      "Epoch: 0191 cost =  0.000280930 \t검증 세트 정확도: 99.886%\n",
      "Epoch: 0192 cost =  0.000583608 \t검증 세트 정확도: 99.773%\n",
      "Epoch: 0193 cost =  0.001026979 \t검증 세트 정확도: 99.545%\n",
      "Epoch: 0194 cost =  0.000556654 \t검증 세트 정확도: 99.545%\n",
      "Epoch: 0195 cost =  0.000486611 \t검증 세트 정확도: 99.659%\n",
      "Epoch: 0196 cost =  0.000386755 \t검증 세트 정확도: 99.659%\n",
      "Epoch: 0197 cost =  0.000717101 \t검증 세트 정확도: 99.659%\n",
      "Epoch: 0198 cost =  0.001010717 \t검증 세트 정확도: 99.659%\n",
      "Epoch: 0199 cost =  0.001020544 \t검증 세트 정확도: 99.205%\n"
     ]
    },
    {
     "data": {
      "text/plain": [
       "'../../model/Dense/dense_model'"
      ]
     },
     "execution_count": 25,
     "metadata": {},
     "output_type": "execute_result"
    }
   ],
   "source": [
    "#original \n",
    "batch_size = 32\n",
    "cost_history = np.empty(shape=[1], dtype=float)\n",
    "with tf.device(\"/gpu:0\"):\n",
    "    for epoch in range(1,200):\n",
    "        avg_cost = 0    \n",
    "    #    total_batch = int(X_train.shape[0] / batch_size)\n",
    "        for i in range( int(math.ceil(len(X_train)/batch_size)) ): # 배치 사이즈로 나눈 나머지 다 돌 수 있게 \n",
    "            x_ = X_train[batch_size * i: batch_size * (i + 1)]\n",
    "            y_ = y_train[batch_size * i: batch_size * (i + 1)]\n",
    "            feed_dict={X:x_, Y:y_, keep_prob:0.6}    \n",
    "            c, _ = sess.run([cost, optimizer], feed_dict=feed_dict)\n",
    "            cost_history = np.append(cost_history,cost)\n",
    "            avg_cost += c\n",
    "        #accuracy_val = sess.run([accuracy], feed_dict={X:X_val, Y:y_val\n",
    "        val_pred = sess.run(tf.argmax(logits,1),feed_dict={X: X_val , keep_prob:1})  \n",
    "        val_true = sess.run(tf.argmax(y_val,1))\n",
    "        accuracy_val = accuracy_score(val_pred, val_true)\n",
    "        print('Epoch:', '%04d' % (epoch), 'cost = ', '{:.9f}'.format(avg_cost / len(X_train)), \"\\t검증 세트 정확도: {:.3f}%\".format(accuracy_val * 100),)\n",
    "saver.save(sess, model_path)\n",
    "\n",
    "#if epoch% 20 == 0:\n",
    "#   save"
   ]
  },
  {
   "cell_type": "markdown",
   "metadata": {},
   "source": [
    "## Prediction"
   ]
  },
  {
   "cell_type": "code",
   "execution_count": 26,
   "metadata": {},
   "outputs": [],
   "source": [
    "y_pred = sess.run(tf.argmax(logits,1),feed_dict={X: X_test , keep_prob:1}) \n",
    "y_true = sess.run(tf.argmax(y_test,1))"
   ]
  },
  {
   "cell_type": "code",
   "execution_count": 27,
   "metadata": {},
   "outputs": [
    {
     "name": "stdout",
     "output_type": "stream",
     "text": [
      "F-Score: 0.997\n",
      "Accuracy:  0.9972727272727273\n",
      "              precision    recall  f1-score   support\n",
      "\n",
      "           0       1.00      1.00      1.00       517\n",
      "           1       1.00      1.00      1.00       583\n",
      "\n",
      "   micro avg       1.00      1.00      1.00      1100\n",
      "   macro avg       1.00      1.00      1.00      1100\n",
      "weighted avg       1.00      1.00      1.00      1100\n",
      "\n",
      "[[515   2]\n",
      " [  1 582]]\n"
     ]
    }
   ],
   "source": [
    "# Ptint Result\n",
    "\n",
    "from sklearn.metrics import precision_recall_fscore_support\n",
    "p,r,f,s = precision_recall_fscore_support(y_true, y_pred, average='micro')\n",
    "print(\"F-Score:\", round(f,3))\n",
    "from sklearn.metrics import accuracy_score\n",
    "print(\"Accuracy: \", accuracy_score(y_true, y_pred))\n",
    "\n",
    "from sklearn.metrics import classification_report\n",
    "print(classification_report(y_true, y_pred))\n",
    "from sklearn.metrics import confusion_matrix\n",
    "print(confusion_matrix(y_true, y_pred))"
   ]
  }
 ],
 "metadata": {
  "kernelspec": {
   "display_name": "Python 3",
   "language": "python",
   "name": "python3"
  },
  "language_info": {
   "codemirror_mode": {
    "name": "ipython",
    "version": 3
   },
   "file_extension": ".py",
   "mimetype": "text/x-python",
   "name": "python",
   "nbconvert_exporter": "python",
   "pygments_lexer": "ipython3",
   "version": "3.6.7"
  }
 },
 "nbformat": 4,
 "nbformat_minor": 2
}
