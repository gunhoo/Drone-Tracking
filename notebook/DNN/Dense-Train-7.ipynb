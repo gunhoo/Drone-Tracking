{
 "cells": [
  {
   "cell_type": "code",
   "execution_count": 1,
   "metadata": {},
   "outputs": [],
   "source": [
    "import matplotlib.pyplot as plt\n",
    "%matplotlib inline\n",
    "import IPython.display\n",
    "import librosa.display\n",
    "import numpy as np\n",
    "import librosa\n",
    "import tensorflow as tf\n",
    "import glob"
   ]
  },
  {
   "cell_type": "markdown",
   "metadata": {},
   "source": [
    "### If you have been save the data, you don't have to preprocessing and save the data"
   ]
  },
  {
   "cell_type": "code",
   "execution_count": 2,
   "metadata": {},
   "outputs": [],
   "source": [
    "drone_path_1 = '../../data/1m/*.wav'\n",
    "drone_path_10 = '../../data/10m/*.wav'\n",
    "drone_path_20 = '../../data/20m/*.wav'\n",
    "drone_path_30 = '../../data/30m/*.wav'\n",
    "drone_path_40 = '../../data/40m/*.wav'\n",
    "drone_path_50 = '../../data/50m/*.wav'\n",
    "background_path = '../../data/background/*.wav'\n",
    "\n",
    "drone_files_1 = glob.glob(drone_path_1)\n",
    "drone_files_10 = glob.glob(drone_path_10)\n",
    "drone_files_20 = glob.glob(drone_path_20)\n",
    "drone_files_30 = glob.glob(drone_path_30)\n",
    "drone_files_40 = glob.glob(drone_path_40)\n",
    "drone_files_50 = glob.glob(drone_path_50)\n",
    "background_files = glob.glob(background_path)"
   ]
  },
  {
   "cell_type": "code",
   "execution_count": 3,
   "metadata": {},
   "outputs": [],
   "source": [
    "CHUNK_SIZE = 8192\n",
    "SR = 22050\n",
    "N_MFCC = 16"
   ]
  },
  {
   "cell_type": "code",
   "execution_count": 4,
   "metadata": {},
   "outputs": [],
   "source": [
    "def load(files, sr=22050):\n",
    "    [raw, sr] = librosa.load(files[0], sr=sr)\n",
    "    for f in files[1:]:\n",
    "        [array, sr] = librosa.load(f, sr=sr)\n",
    "        raw = np.hstack((raw, array))\n",
    "    print(raw.shape)\n",
    "    return raw"
   ]
  },
  {
   "cell_type": "code",
   "execution_count": 5,
   "metadata": {},
   "outputs": [
    {
     "name": "stdout",
     "output_type": "stream",
     "text": [
      "(2088960,)\n",
      "(2088960,)\n",
      "(2088960,)\n",
      "(2072565,)\n",
      "(2085722,)\n",
      "(2723840,)\n",
      "(6032517,)\n"
     ]
    }
   ],
   "source": [
    "drone_raw_1 = load(drone_files_1)\n",
    "drone_raw_10 = load(drone_files_10)\n",
    "drone_raw_20 = load(drone_files_20)\n",
    "drone_raw_30 = load(drone_files_30)\n",
    "drone_raw_40 = load(drone_files_40)\n",
    "drone_raw_50 = load(drone_files_50)\n",
    "\n",
    "background_raw = load(background_files)"
   ]
  },
  {
   "cell_type": "markdown",
   "metadata": {},
   "source": [
    "# Data preprocessing"
   ]
  },
  {
   "cell_type": "markdown",
   "metadata": {},
   "source": [
    "Chose `mfcc4` among functions below:\n",
    "- input size 16x16; `n_mfcc=16`, used first 16 data points from 16x17 mfcc of a chunk with size 8192\n",
    "- chunk siez 8192, overlapped half of it"
   ]
  },
  {
   "cell_type": "code",
   "execution_count": 6,
   "metadata": {},
   "outputs": [],
   "source": [
    "def mfcc4(raw, label, chunk_size=8192, window_size=4096, sr=22050, n_mfcc=16, n_frame=16):\n",
    "    mfcc = np.empty((0, n_mfcc, n_frame))\n",
    "    y = []\n",
    "    print(raw.shape)\n",
    "    for i in range(0, len(raw), chunk_size//2):\n",
    "        mfcc_slice = librosa.feature.mfcc(raw[i:i+chunk_size], sr=sr, n_mfcc=n_mfcc) #n_mfcc,17\n",
    "        if mfcc_slice.shape[1] < 17:\n",
    "            print(\"small end:\", mfcc_slice.shape)\n",
    "            continue\n",
    "        mfcc_slice = mfcc_slice[:,:-1]\n",
    "        mfcc_slice = mfcc_slice.reshape((1, mfcc_slice.shape[0], mfcc_slice.shape[1]))\n",
    "        mfcc = np.vstack((mfcc, mfcc_slice))\n",
    "        y.append(label)\n",
    "    y = np.array(y)\n",
    "    return mfcc, y"
   ]
  },
  {
   "cell_type": "code",
   "execution_count": 7,
   "metadata": {},
   "outputs": [
    {
     "name": "stdout",
     "output_type": "stream",
     "text": [
      "(2088960,)\n",
      "small end: (16, 9)\n",
      "(2088960,)\n",
      "small end: (16, 9)\n",
      "(2088960,)\n",
      "small end: (16, 9)\n",
      "(2072565,)\n",
      "small end: (16, 16)\n",
      "small end: (16, 8)\n",
      "(2085722,)\n",
      "small end: (16, 10)\n",
      "small end: (16, 2)\n",
      "(2723840,)\n",
      "small end: (16, 9)\n",
      "(6032517,)\n",
      "small end: (16, 15)\n",
      "small end: (16, 7)\n"
     ]
    }
   ],
   "source": [
    "mfcc_drone_1, y_drone_1 = mfcc4(drone_raw_1, 0)\n",
    "mfcc_drone_10, y_drone_10 = mfcc4(drone_raw_10, 1)\n",
    "mfcc_drone_20, y_drone_20 = mfcc4(drone_raw_20, 2)\n",
    "mfcc_drone_30, y_drone_30 = mfcc4(drone_raw_30, 3)\n",
    "mfcc_drone_40, y_drone_40 = mfcc4(drone_raw_40, 4)\n",
    "mfcc_drone_50, y_drone_50 = mfcc4(drone_raw_50, 5)\n",
    "\n",
    "mfcc_background, y_background = mfcc4(background_raw, 6)"
   ]
  },
  {
   "cell_type": "code",
   "execution_count": 8,
   "metadata": {},
   "outputs": [
    {
     "name": "stdout",
     "output_type": "stream",
     "text": [
      "(509, 16, 16) (509,)\n",
      "(509, 16, 16) (509,)\n",
      "(509, 16, 16) (509,)\n",
      "(504, 16, 16) (504,)\n",
      "(508, 16, 16) (508,)\n",
      "(664, 16, 16) (664,)\n",
      "(1471, 16, 16) (1471,)\n"
     ]
    }
   ],
   "source": [
    "print(mfcc_drone_1.shape, y_drone_1.shape)\n",
    "print(mfcc_drone_10.shape, y_drone_10.shape)\n",
    "print(mfcc_drone_20.shape, y_drone_20.shape)\n",
    "print(mfcc_drone_30.shape, y_drone_30.shape)\n",
    "print(mfcc_drone_40.shape, y_drone_40.shape)\n",
    "print(mfcc_drone_50.shape, y_drone_50.shape)\n",
    "print(mfcc_background.shape, y_background.shape)"
   ]
  },
  {
   "cell_type": "code",
   "execution_count": 9,
   "metadata": {},
   "outputs": [
    {
     "name": "stdout",
     "output_type": "stream",
     "text": [
      "(4674, 16, 16) (4674,)\n"
     ]
    }
   ],
   "source": [
    "X = np.concatenate((mfcc_drone_1,mfcc_drone_10,mfcc_drone_20,mfcc_drone_30,mfcc_drone_40,mfcc_drone_50, mfcc_background), axis=0)\n",
    "y = np.hstack((y_drone_1, y_drone_10, y_drone_20, y_drone_30, y_drone_40, y_drone_50, y_background))\n",
    "print(X.shape, y.shape)"
   ]
  },
  {
   "cell_type": "code",
   "execution_count": 10,
   "metadata": {},
   "outputs": [],
   "source": [
    "X = np.reshape(X,(X.shape[0],-1))"
   ]
  },
  {
   "cell_type": "code",
   "execution_count": 11,
   "metadata": {},
   "outputs": [
    {
     "data": {
      "text/plain": [
       "(4674, 256)"
      ]
     },
     "execution_count": 11,
     "metadata": {},
     "output_type": "execute_result"
    }
   ],
   "source": [
    "X.shape"
   ]
  },
  {
   "cell_type": "code",
   "execution_count": 12,
   "metadata": {},
   "outputs": [
    {
     "name": "stdout",
     "output_type": "stream",
     "text": [
      "(4674, 7)\n"
     ]
    }
   ],
   "source": [
    "n_labels = y.shape[0]\n",
    "n_unique_labels = 7\n",
    "y_encoded = np.zeros((n_labels, n_unique_labels))\n",
    "y_encoded[np.arange(n_labels), y] = 1\n",
    "print(y_encoded.shape)"
   ]
  },
  {
   "cell_type": "code",
   "execution_count": 13,
   "metadata": {},
   "outputs": [],
   "source": [
    "# Split data\n",
    "from sklearn import model_selection\n",
    "X_train, X_test, y_train, y_test = model_selection.train_test_split(X, y_encoded, test_size=0.2, random_state=42)\n",
    "X_train, X_val, y_train, y_val = model_selection.train_test_split(X_train, y_train, test_size=0.2, random_state=42)"
   ]
  },
  {
   "cell_type": "code",
   "execution_count": 14,
   "metadata": {},
   "outputs": [
    {
     "name": "stdout",
     "output_type": "stream",
     "text": [
      "(2991, 256) (2991, 7)\n",
      "(748, 256) (748, 7)\n",
      "(935, 256) (935, 7)\n"
     ]
    }
   ],
   "source": [
    "print(X_train.shape,y_train.shape)\n",
    "print(X_val.shape, y_val.shape)\n",
    "print(X_test.shape, y_test.shape)"
   ]
  },
  {
   "cell_type": "code",
   "execution_count": 15,
   "metadata": {},
   "outputs": [],
   "source": [
    "# Save Data\n",
    "np.save('../../model/X_train', X_train)\n",
    "np.save('../../model/X_test', X_test)\n",
    "np.save('../../model/X_val', X_val)\n",
    "np.save('../../model/y_val', y_val)\n",
    "np.save('../../model/y_train', y_train)\n",
    "np.save('../../model/y_test', y_test)"
   ]
  },
  {
   "cell_type": "markdown",
   "metadata": {},
   "source": [
    "### Until this part"
   ]
  },
  {
   "cell_type": "code",
   "execution_count": 16,
   "metadata": {},
   "outputs": [],
   "source": [
    "# Load Data\n",
    "X_train = np.load('../../model/X_train.npy')\n",
    "X_test = np.load('../../model/X_test.npy')\n",
    "X_val = np.load('../../model/X_val.npy')\n",
    "y_val = np.load('../../model/y_val.npy')\n",
    "y_train = np.load('../../model/y_train.npy')\n",
    "y_test = np.load('../../model/y_test.npy')"
   ]
  },
  {
   "cell_type": "markdown",
   "metadata": {},
   "source": [
    "# Experiment 3 - One convolutional layer /w no dropout\n"
   ]
  },
  {
   "cell_type": "markdown",
   "metadata": {},
   "source": [
    "##Experiment 3-2\n",
    "- learning rate 0.005\n",
    "- pooling stride 1x1\n",
    "- #filter 1\n",
    "- best result among every other settings\n",
    "- cost kept fluctuated during training. (0.8 -> 1.3) -- why is that?"
   ]
  },
  {
   "cell_type": "code",
   "execution_count": 17,
   "metadata": {},
   "outputs": [],
   "source": [
    "tf.reset_default_graph()"
   ]
  },
  {
   "cell_type": "code",
   "execution_count": 18,
   "metadata": {},
   "outputs": [],
   "source": [
    "n_mfcc = 16\n",
    "n_frame = 16\n",
    "n_classes = 7\n",
    "n_channels = 1\n",
    "\n",
    "kernel_size = 3\n",
    "stride = 1\n",
    "pad = \"SAME\"\n",
    "\n",
    "learning_rate = 0.0002  # 0.005\n",
    "training_epochs = 500 # 수정해야해"
   ]
  },
  {
   "cell_type": "markdown",
   "metadata": {},
   "source": [
    "# Layer"
   ]
  },
  {
   "cell_type": "markdown",
   "metadata": {},
   "source": [
    "## Experiment\n",
    "- learning rate 0.0002\n",
    "- no cnn/ pooling \n",
    "- just dense with dropout "
   ]
  },
  {
   "cell_type": "code",
   "execution_count": 19,
   "metadata": {},
   "outputs": [],
   "source": [
    "X = tf.placeholder(tf.float32, shape=[None,n_mfcc*n_frame*n_channels])\n",
    "Y = tf.placeholder(tf.float32, shape=[None,n_classes])\n",
    "\n",
    "keep_prob = tf.placeholder(tf.float32)\n",
    "\n",
    "dense1 = tf.layers.dense(inputs=X, units=256, activation=tf.nn.relu)\n",
    "dropout1 = tf.nn.dropout(dense1, keep_prob=keep_prob)\n",
    "dense2 = tf.layers.dense(inputs=dropout1, units=256, activation=tf.nn.relu)\n",
    "dropout2 = tf.nn.dropout(dense2, keep_prob=keep_prob)\n",
    "dense3 = tf.layers.dense(inputs=dropout2, units=512, activation=tf.nn.relu)\n",
    "dropout3 = tf.nn.dropout(dense3, keep_prob=keep_prob)\n",
    "dense4 = tf.layers.dense(inputs=dropout3, units=512, activation=tf.nn.relu)\n",
    "dropout4 = tf.nn.dropout(dense4, keep_prob=keep_prob)\n",
    "dense5 = tf.layers.dense(inputs=dropout4, units=256, activation=tf.nn.relu)\n",
    "dropout5 = tf.nn.dropout(dense5, keep_prob=keep_prob)\n",
    "\n",
    "logits= tf.layers.dense(inputs=dropout5, units=7)"
   ]
  },
  {
   "cell_type": "code",
   "execution_count": 20,
   "metadata": {},
   "outputs": [],
   "source": [
    "cost = tf.reduce_mean(tf.nn.softmax_cross_entropy_with_logits_v2(logits=logits, labels=Y))\n",
    "optimizer = tf.train.AdamOptimizer(learning_rate=learning_rate).minimize(cost)"
   ]
  },
  {
   "cell_type": "code",
   "execution_count": 21,
   "metadata": {},
   "outputs": [],
   "source": [
    "#sess = tf.Session()\n",
    "#\n",
    "config = tf.ConfigProto(allow_soft_placement = True)\n",
    "sess = tf.Session(config = config)\n",
    "sess.run(tf.global_variables_initializer())"
   ]
  },
  {
   "cell_type": "code",
   "execution_count": 22,
   "metadata": {},
   "outputs": [],
   "source": [
    "# model save\n",
    "model_path = '../../model/DNN/7_dense_model'\n",
    "saver = tf.train.Saver()"
   ]
  },
  {
   "cell_type": "markdown",
   "metadata": {},
   "source": [
    "# Trainning"
   ]
  },
  {
   "cell_type": "code",
   "execution_count": 23,
   "metadata": {},
   "outputs": [],
   "source": [
    "import math"
   ]
  },
  {
   "cell_type": "code",
   "execution_count": 24,
   "metadata": {
    "scrolled": false
   },
   "outputs": [],
   "source": [
    "with tf.name_scope(\"eval\"):\n",
    "    correct = tf.nn.in_top_k(logits, y, 1)\n",
    "    accuracy = tf.reduce_mean(tf.cast(correct, tf.float32))\n",
    "#    accuracy_summary = tf.summary.scalar('accuracy', accuracy)"
   ]
  },
  {
   "cell_type": "code",
   "execution_count": 25,
   "metadata": {},
   "outputs": [],
   "source": [
    "from sklearn.metrics import accuracy_score"
   ]
  },
  {
   "cell_type": "code",
   "execution_count": 26,
   "metadata": {
    "scrolled": false
   },
   "outputs": [
    {
     "name": "stdout",
     "output_type": "stream",
     "text": [
      "Epoch: 0001 cost =  1.090883516 \t검증 세트 정확도: 25.802%\n",
      "Epoch: 0002 cost =  0.292768560 \t검증 세트 정확도: 37.968%\n",
      "Epoch: 0003 cost =  0.131394966 \t검증 세트 정확도: 39.572%\n",
      "Epoch: 0004 cost =  0.085053965 \t검증 세트 정확도: 51.070%\n",
      "Epoch: 0005 cost =  0.066055403 \t검증 세트 정확도: 44.251%\n",
      "Epoch: 0006 cost =  0.057231019 \t검증 세트 정확도: 55.080%\n",
      "Epoch: 0007 cost =  0.052465839 \t검증 세트 정확도: 53.075%\n",
      "Epoch: 0008 cost =  0.048578476 \t검증 세트 정확도: 49.866%\n",
      "Epoch: 0009 cost =  0.046006017 \t검증 세트 정확도: 49.733%\n",
      "Epoch: 0010 cost =  0.043829467 \t검증 세트 정확도: 57.353%\n",
      "Epoch: 0011 cost =  0.042128849 \t검증 세트 정확도: 55.615%\n",
      "Epoch: 0012 cost =  0.040461005 \t검증 세트 정확도: 55.481%\n",
      "Epoch: 0013 cost =  0.039251292 \t검증 세트 정확도: 58.021%\n",
      "Epoch: 0014 cost =  0.038224727 \t검증 세트 정확도: 57.219%\n",
      "Epoch: 0015 cost =  0.036704645 \t검증 세트 정확도: 60.695%\n",
      "Epoch: 0016 cost =  0.036136555 \t검증 세트 정확도: 58.690%\n",
      "Epoch: 0017 cost =  0.035350478 \t검증 세트 정확도: 62.166%\n",
      "Epoch: 0018 cost =  0.034621868 \t검증 세트 정확도: 62.834%\n",
      "Epoch: 0019 cost =  0.033596163 \t검증 세트 정확도: 64.973%\n",
      "Epoch: 0020 cost =  0.033263872 \t검증 세트 정확도: 65.909%\n",
      "Epoch: 0021 cost =  0.032240851 \t검증 세트 정확도: 65.508%\n",
      "Epoch: 0022 cost =  0.031300545 \t검증 세트 정확도: 65.374%\n",
      "Epoch: 0023 cost =  0.030825740 \t검증 세트 정확도: 67.647%\n",
      "Epoch: 0024 cost =  0.030384792 \t검증 세트 정확도: 67.781%\n",
      "Epoch: 0025 cost =  0.029254680 \t검증 세트 정확도: 69.385%\n",
      "Epoch: 0026 cost =  0.028519090 \t검증 세트 정확도: 69.786%\n",
      "Epoch: 0027 cost =  0.026866847 \t검증 세트 정확도: 71.524%\n",
      "Epoch: 0028 cost =  0.026105375 \t검증 세트 정확도: 74.733%\n",
      "Epoch: 0029 cost =  0.024704073 \t검증 세트 정확도: 74.198%\n",
      "Epoch: 0030 cost =  0.023848379 \t검증 세트 정확도: 75.401%\n",
      "Epoch: 0031 cost =  0.023360283 \t검증 세트 정확도: 75.401%\n",
      "Epoch: 0032 cost =  0.023451217 \t검증 세트 정확도: 75.668%\n",
      "Epoch: 0033 cost =  0.022313610 \t검증 세트 정확도: 74.866%\n",
      "Epoch: 0034 cost =  0.020954385 \t검증 세트 정확도: 76.471%\n",
      "Epoch: 0035 cost =  0.021520129 \t검증 세트 정확도: 77.005%\n",
      "Epoch: 0036 cost =  0.019939783 \t검증 세트 정확도: 75.134%\n",
      "Epoch: 0037 cost =  0.020345084 \t검증 세트 정확도: 74.599%\n",
      "Epoch: 0038 cost =  0.020291451 \t검증 세트 정확도: 76.872%\n",
      "Epoch: 0039 cost =  0.018490259 \t검증 세트 정확도: 76.337%\n",
      "Epoch: 0040 cost =  0.019155114 \t검증 세트 정확도: 77.005%\n",
      "Epoch: 0041 cost =  0.018585003 \t검증 세트 정확도: 78.209%\n",
      "Epoch: 0042 cost =  0.018784663 \t검증 세트 정확도: 77.273%\n",
      "Epoch: 0043 cost =  0.017289064 \t검증 세트 정확도: 76.872%\n",
      "Epoch: 0044 cost =  0.017704401 \t검증 세트 정확도: 77.807%\n",
      "Epoch: 0045 cost =  0.017584574 \t검증 세트 정확도: 78.743%\n",
      "Epoch: 0046 cost =  0.017654909 \t검증 세트 정확도: 79.813%\n",
      "Epoch: 0047 cost =  0.017856143 \t검증 세트 정확도: 77.139%\n",
      "Epoch: 0048 cost =  0.017104897 \t검증 세트 정확도: 77.807%\n",
      "Epoch: 0049 cost =  0.016958800 \t검증 세트 정확도: 80.481%\n",
      "Epoch: 0050 cost =  0.016274864 \t검증 세트 정확도: 78.476%\n",
      "Epoch: 0051 cost =  0.016923247 \t검증 세트 정확도: 78.877%\n",
      "Epoch: 0052 cost =  0.016658516 \t검증 세트 정확도: 80.481%\n",
      "Epoch: 0053 cost =  0.017361959 \t검증 세트 정확도: 79.813%\n",
      "Epoch: 0054 cost =  0.016433538 \t검증 세트 정확도: 80.348%\n",
      "Epoch: 0055 cost =  0.015938131 \t검증 세트 정확도: 84.759%\n",
      "Epoch: 0056 cost =  0.016406551 \t검증 세트 정확도: 80.882%\n",
      "Epoch: 0057 cost =  0.015841395 \t검증 세트 정확도: 79.679%\n",
      "Epoch: 0058 cost =  0.015296403 \t검증 세트 정확도: 78.743%\n",
      "Epoch: 0059 cost =  0.015570194 \t검증 세트 정확도: 81.952%\n",
      "Epoch: 0060 cost =  0.015909523 \t검증 세트 정확도: 81.551%\n",
      "Epoch: 0061 cost =  0.015711543 \t검증 세트 정확도: 81.417%\n",
      "Epoch: 0062 cost =  0.015937685 \t검증 세트 정확도: 82.620%\n",
      "Epoch: 0063 cost =  0.015117326 \t검증 세트 정확도: 80.080%\n",
      "Epoch: 0064 cost =  0.015428605 \t검증 세트 정확도: 82.086%\n",
      "Epoch: 0065 cost =  0.014714826 \t검증 세트 정확도: 81.551%\n",
      "Epoch: 0066 cost =  0.015308975 \t검증 세트 정확도: 81.952%\n",
      "Epoch: 0067 cost =  0.015202917 \t검증 세트 정확도: 83.422%\n",
      "Epoch: 0068 cost =  0.015136890 \t검증 세트 정확도: 80.882%\n",
      "Epoch: 0069 cost =  0.014765575 \t검증 세트 정확도: 82.487%\n",
      "Epoch: 0070 cost =  0.014806117 \t검증 세트 정확도: 79.813%\n",
      "Epoch: 0071 cost =  0.014295446 \t검증 세트 정확도: 82.754%\n",
      "Epoch: 0072 cost =  0.014417924 \t검증 세트 정확도: 81.417%\n",
      "Epoch: 0073 cost =  0.014471384 \t검증 세트 정확도: 82.086%\n",
      "Epoch: 0074 cost =  0.013966771 \t검증 세트 정확도: 82.353%\n",
      "Epoch: 0075 cost =  0.014097275 \t검증 세트 정확도: 83.155%\n",
      "Epoch: 0076 cost =  0.013973531 \t검증 세트 정확도: 82.620%\n",
      "Epoch: 0077 cost =  0.013461526 \t검증 세트 정확도: 83.556%\n",
      "Epoch: 0078 cost =  0.014829721 \t검증 세트 정확도: 82.888%\n",
      "Epoch: 0079 cost =  0.015281763 \t검증 세트 정확도: 83.155%\n",
      "Epoch: 0080 cost =  0.013706054 \t검증 세트 정확도: 83.289%\n",
      "Epoch: 0081 cost =  0.013863362 \t검증 세트 정확도: 82.888%\n",
      "Epoch: 0082 cost =  0.014114816 \t검증 세트 정확도: 80.481%\n",
      "Epoch: 0083 cost =  0.014916959 \t검증 세트 정확도: 81.952%\n",
      "Epoch: 0084 cost =  0.013981808 \t검증 세트 정확도: 82.086%\n",
      "Epoch: 0085 cost =  0.013548410 \t검증 세트 정확도: 81.417%\n",
      "Epoch: 0086 cost =  0.012908412 \t검증 세트 정확도: 82.888%\n",
      "Epoch: 0087 cost =  0.014102072 \t검증 세트 정확도: 83.556%\n",
      "Epoch: 0088 cost =  0.013844680 \t검증 세트 정확도: 83.422%\n",
      "Epoch: 0089 cost =  0.013873017 \t검증 세트 정확도: 83.289%\n",
      "Epoch: 0090 cost =  0.013299540 \t검증 세트 정확도: 82.487%\n",
      "Epoch: 0091 cost =  0.013403250 \t검증 세트 정확도: 84.893%\n",
      "Epoch: 0092 cost =  0.013628084 \t검증 세트 정확도: 82.353%\n",
      "Epoch: 0093 cost =  0.012867336 \t검증 세트 정확도: 81.818%\n",
      "Epoch: 0094 cost =  0.012862791 \t검증 세트 정확도: 83.021%\n",
      "Epoch: 0095 cost =  0.012994052 \t검증 세트 정확도: 82.353%\n",
      "Epoch: 0096 cost =  0.012449023 \t검증 세트 정확도: 82.754%\n",
      "Epoch: 0097 cost =  0.013340097 \t검증 세트 정확도: 83.289%\n",
      "Epoch: 0098 cost =  0.013428566 \t검증 세트 정확도: 82.620%\n",
      "Epoch: 0099 cost =  0.012764432 \t검증 세트 정확도: 83.422%\n",
      "Epoch: 0100 cost =  0.012827257 \t검증 세트 정확도: 83.289%\n",
      "Epoch: 0101 cost =  0.013211582 \t검증 세트 정확도: 82.754%\n",
      "Epoch: 0102 cost =  0.012727068 \t검증 세트 정확도: 82.888%\n",
      "Epoch: 0103 cost =  0.011929275 \t검증 세트 정확도: 83.289%\n",
      "Epoch: 0104 cost =  0.012488179 \t검증 세트 정확도: 83.021%\n",
      "Epoch: 0105 cost =  0.012767437 \t검증 세트 정확도: 82.487%\n",
      "Epoch: 0106 cost =  0.011942089 \t검증 세트 정확도: 82.086%\n",
      "Epoch: 0107 cost =  0.012738118 \t검증 세트 정확도: 81.952%\n",
      "Epoch: 0108 cost =  0.012972056 \t검증 세트 정확도: 83.289%\n",
      "Epoch: 0109 cost =  0.012294221 \t검증 세트 정확도: 83.289%\n",
      "Epoch: 0110 cost =  0.012052452 \t검증 세트 정확도: 83.556%\n",
      "Epoch: 0111 cost =  0.012558826 \t검증 세트 정확도: 83.422%\n",
      "Epoch: 0112 cost =  0.011859931 \t검증 세트 정확도: 82.219%\n",
      "Epoch: 0113 cost =  0.012208932 \t검증 세트 정확도: 82.888%\n",
      "Epoch: 0114 cost =  0.012246675 \t검증 세트 정확도: 83.155%\n",
      "Epoch: 0115 cost =  0.011571801 \t검증 세트 정확도: 80.615%\n",
      "Epoch: 0116 cost =  0.011387471 \t검증 세트 정확도: 86.096%\n",
      "Epoch: 0117 cost =  0.011647255 \t검증 세트 정확도: 82.888%\n",
      "Epoch: 0118 cost =  0.011978291 \t검증 세트 정확도: 83.289%\n",
      "Epoch: 0119 cost =  0.012639623 \t검증 세트 정확도: 84.091%\n",
      "Epoch: 0120 cost =  0.012281598 \t검증 세트 정확도: 81.417%\n",
      "Epoch: 0121 cost =  0.012139158 \t검증 세트 정확도: 81.417%\n",
      "Epoch: 0122 cost =  0.011705527 \t검증 세트 정확도: 83.021%\n",
      "Epoch: 0123 cost =  0.011974048 \t검증 세트 정확도: 84.626%\n",
      "Epoch: 0124 cost =  0.012056181 \t검증 세트 정확도: 83.155%\n",
      "Epoch: 0125 cost =  0.012361228 \t검증 세트 정확도: 82.487%\n",
      "Epoch: 0126 cost =  0.011603242 \t검증 세트 정확도: 83.021%\n",
      "Epoch: 0127 cost =  0.011636504 \t검증 세트 정확도: 82.219%\n",
      "Epoch: 0128 cost =  0.011658468 \t검증 세트 정확도: 83.289%\n",
      "Epoch: 0129 cost =  0.011596509 \t검증 세트 정확도: 81.952%\n",
      "Epoch: 0130 cost =  0.011697305 \t검증 세트 정확도: 81.150%\n",
      "Epoch: 0131 cost =  0.010750424 \t검증 세트 정확도: 82.620%\n",
      "Epoch: 0132 cost =  0.011193680 \t검증 세트 정확도: 82.888%\n",
      "Epoch: 0133 cost =  0.011229609 \t검증 세트 정확도: 82.219%\n",
      "Epoch: 0134 cost =  0.011539737 \t검증 세트 정확도: 81.684%\n",
      "Epoch: 0135 cost =  0.010905854 \t검증 세트 정확도: 83.422%\n",
      "Epoch: 0136 cost =  0.011960770 \t검증 세트 정확도: 84.091%\n",
      "Epoch: 0137 cost =  0.011949053 \t검증 세트 정확도: 83.824%\n",
      "Epoch: 0138 cost =  0.011242651 \t검증 세트 정확도: 82.487%\n",
      "Epoch: 0139 cost =  0.010813923 \t검증 세트 정확도: 83.556%\n",
      "Epoch: 0140 cost =  0.011273651 \t검증 세트 정확도: 81.150%\n",
      "Epoch: 0141 cost =  0.011966655 \t검증 세트 정확도: 81.684%\n",
      "Epoch: 0142 cost =  0.011183933 \t검증 세트 정확도: 83.824%\n",
      "Epoch: 0143 cost =  0.011605754 \t검증 세트 정확도: 83.021%\n",
      "Epoch: 0144 cost =  0.011219625 \t검증 세트 정확도: 82.620%\n",
      "Epoch: 0145 cost =  0.011212080 \t검증 세트 정확도: 83.824%\n",
      "Epoch: 0146 cost =  0.011206510 \t검증 세트 정확도: 82.754%\n",
      "Epoch: 0147 cost =  0.011047504 \t검증 세트 정확도: 82.219%\n",
      "Epoch: 0148 cost =  0.010440526 \t검증 세트 정확도: 80.749%\n",
      "Epoch: 0149 cost =  0.010557493 \t검증 세트 정확도: 82.487%\n",
      "Epoch: 0150 cost =  0.011423614 \t검증 세트 정확도: 84.893%\n",
      "Epoch: 0151 cost =  0.011697134 \t검증 세트 정확도: 82.353%\n",
      "Epoch: 0152 cost =  0.010623803 \t검증 세트 정확도: 84.225%\n",
      "Epoch: 0153 cost =  0.011690846 \t검증 세트 정확도: 84.358%\n",
      "Epoch: 0154 cost =  0.011360106 \t검증 세트 정확도: 80.882%\n",
      "Epoch: 0155 cost =  0.010618835 \t검증 세트 정확도: 84.225%\n",
      "Epoch: 0156 cost =  0.010655318 \t검증 세트 정확도: 82.487%\n",
      "Epoch: 0157 cost =  0.010832793 \t검증 세트 정확도: 82.353%\n",
      "Epoch: 0158 cost =  0.010511854 \t검증 세트 정확도: 84.225%\n"
     ]
    },
    {
     "name": "stdout",
     "output_type": "stream",
     "text": [
      "Epoch: 0159 cost =  0.011857903 \t검증 세트 정확도: 84.626%\n",
      "Epoch: 0160 cost =  0.011795096 \t검증 세트 정확도: 83.155%\n",
      "Epoch: 0161 cost =  0.012230368 \t검증 세트 정확도: 83.289%\n",
      "Epoch: 0162 cost =  0.011599896 \t검증 세트 정확도: 83.690%\n",
      "Epoch: 0163 cost =  0.010789585 \t검증 세트 정확도: 83.422%\n",
      "Epoch: 0164 cost =  0.011517830 \t검증 세트 정확도: 84.225%\n",
      "Epoch: 0165 cost =  0.010541883 \t검증 세트 정확도: 85.294%\n",
      "Epoch: 0166 cost =  0.011526632 \t검증 세트 정확도: 81.684%\n",
      "Epoch: 0167 cost =  0.011913046 \t검증 세트 정확도: 82.487%\n",
      "Epoch: 0168 cost =  0.010915761 \t검증 세트 정확도: 82.487%\n",
      "Epoch: 0169 cost =  0.010717176 \t검증 세트 정확도: 84.358%\n",
      "Epoch: 0170 cost =  0.011216213 \t검증 세트 정확도: 82.754%\n",
      "Epoch: 0171 cost =  0.010205921 \t검증 세트 정확도: 82.620%\n",
      "Epoch: 0172 cost =  0.011207235 \t검증 세트 정확도: 85.027%\n",
      "Epoch: 0173 cost =  0.010580567 \t검증 세트 정확도: 83.556%\n",
      "Epoch: 0174 cost =  0.011498328 \t검증 세트 정확도: 84.492%\n",
      "Epoch: 0175 cost =  0.010626323 \t검증 세트 정확도: 84.893%\n",
      "Epoch: 0176 cost =  0.010954015 \t검증 세트 정확도: 83.556%\n",
      "Epoch: 0177 cost =  0.010066100 \t검증 세트 정확도: 83.289%\n",
      "Epoch: 0178 cost =  0.009759538 \t검증 세트 정확도: 83.155%\n",
      "Epoch: 0179 cost =  0.010242039 \t검증 세트 정확도: 81.283%\n",
      "Epoch: 0180 cost =  0.010402941 \t검증 세트 정확도: 84.358%\n",
      "Epoch: 0181 cost =  0.010390812 \t검증 세트 정확도: 83.824%\n",
      "Epoch: 0182 cost =  0.010373009 \t검증 세트 정확도: 81.818%\n",
      "Epoch: 0183 cost =  0.010491424 \t검증 세트 정확도: 82.620%\n",
      "Epoch: 0184 cost =  0.010211883 \t검증 세트 정확도: 87.567%\n",
      "Epoch: 0185 cost =  0.010216920 \t검증 세트 정확도: 88.102%\n",
      "Epoch: 0186 cost =  0.010072207 \t검증 세트 정확도: 87.433%\n",
      "Epoch: 0187 cost =  0.010011599 \t검증 세트 정확도: 89.706%\n",
      "Epoch: 0188 cost =  0.009732848 \t검증 세트 정확도: 89.305%\n",
      "Epoch: 0189 cost =  0.008944392 \t검증 세트 정확도: 88.770%\n",
      "Epoch: 0190 cost =  0.009107084 \t검증 세트 정확도: 87.701%\n",
      "Epoch: 0191 cost =  0.009548969 \t검증 세트 정확도: 91.043%\n",
      "Epoch: 0192 cost =  0.009959392 \t검증 세트 정확도: 90.642%\n",
      "Epoch: 0193 cost =  0.009097474 \t검증 세트 정확도: 90.374%\n",
      "Epoch: 0194 cost =  0.009172741 \t검증 세트 정확도: 92.112%\n",
      "Epoch: 0195 cost =  0.008626245 \t검증 세트 정확도: 91.711%\n",
      "Epoch: 0196 cost =  0.009134864 \t검증 세트 정확도: 92.246%\n",
      "Epoch: 0197 cost =  0.008916038 \t검증 세트 정확도: 91.176%\n",
      "Epoch: 0198 cost =  0.008773777 \t검증 세트 정확도: 92.246%\n",
      "Epoch: 0199 cost =  0.008115266 \t검증 세트 정확도: 92.246%\n",
      "Epoch: 0200 cost =  0.008848293 \t검증 세트 정확도: 91.979%\n",
      "Epoch: 0201 cost =  0.008709827 \t검증 세트 정확도: 93.048%\n",
      "Epoch: 0202 cost =  0.008855565 \t검증 세트 정확도: 94.385%\n",
      "Epoch: 0203 cost =  0.008229288 \t검증 세트 정확도: 92.914%\n",
      "Epoch: 0204 cost =  0.008250641 \t검증 세트 정확도: 91.176%\n",
      "Epoch: 0205 cost =  0.007937100 \t검증 세트 정확도: 90.107%\n",
      "Epoch: 0206 cost =  0.008465787 \t검증 세트 정확도: 93.048%\n",
      "Epoch: 0207 cost =  0.008110368 \t검증 세트 정확도: 91.043%\n",
      "Epoch: 0208 cost =  0.007890327 \t검증 세트 정확도: 90.241%\n",
      "Epoch: 0209 cost =  0.008239052 \t검증 세트 정확도: 90.374%\n",
      "Epoch: 0210 cost =  0.007943249 \t검증 세트 정확도: 91.444%\n",
      "Epoch: 0211 cost =  0.008537596 \t검증 세트 정확도: 90.909%\n",
      "Epoch: 0212 cost =  0.008046123 \t검증 세트 정확도: 90.107%\n",
      "Epoch: 0213 cost =  0.007165900 \t검증 세트 정확도: 89.973%\n",
      "Epoch: 0214 cost =  0.008204096 \t검증 세트 정확도: 92.246%\n",
      "Epoch: 0215 cost =  0.007895299 \t검증 세트 정확도: 92.112%\n",
      "Epoch: 0216 cost =  0.007258387 \t검증 세트 정확도: 92.246%\n",
      "Epoch: 0217 cost =  0.006627802 \t검증 세트 정확도: 91.043%\n",
      "Epoch: 0218 cost =  0.008680778 \t검증 세트 정확도: 91.176%\n",
      "Epoch: 0219 cost =  0.007480329 \t검증 세트 정확도: 91.578%\n",
      "Epoch: 0220 cost =  0.007868067 \t검증 세트 정확도: 92.380%\n",
      "Epoch: 0221 cost =  0.007755924 \t검증 세트 정확도: 91.711%\n",
      "Epoch: 0222 cost =  0.007332696 \t검증 세트 정확도: 91.845%\n",
      "Epoch: 0223 cost =  0.008948655 \t검증 세트 정확도: 90.909%\n",
      "Epoch: 0224 cost =  0.006799255 \t검증 세트 정확도: 94.652%\n",
      "Epoch: 0225 cost =  0.007604899 \t검증 세트 정확도: 92.380%\n",
      "Epoch: 0226 cost =  0.007139770 \t검증 세트 정확도: 93.316%\n",
      "Epoch: 0227 cost =  0.007314343 \t검증 세트 정확도: 94.786%\n",
      "Epoch: 0228 cost =  0.006892018 \t검증 세트 정확도: 92.112%\n",
      "Epoch: 0229 cost =  0.007179577 \t검증 세트 정확도: 93.048%\n",
      "Epoch: 0230 cost =  0.007593685 \t검증 세트 정확도: 94.118%\n",
      "Epoch: 0231 cost =  0.007762932 \t검증 세트 정확도: 92.246%\n",
      "Epoch: 0232 cost =  0.006907720 \t검증 세트 정확도: 92.781%\n",
      "Epoch: 0233 cost =  0.007242309 \t검증 세트 정확도: 93.717%\n",
      "Epoch: 0234 cost =  0.007265729 \t검증 세트 정확도: 92.914%\n",
      "Epoch: 0235 cost =  0.006728694 \t검증 세트 정확도: 93.583%\n",
      "Epoch: 0236 cost =  0.007120042 \t검증 세트 정확도: 95.722%\n",
      "Epoch: 0237 cost =  0.006022345 \t검증 세트 정확도: 92.914%\n",
      "Epoch: 0238 cost =  0.007431047 \t검증 세트 정확도: 88.770%\n",
      "Epoch: 0239 cost =  0.007073253 \t검증 세트 정확도: 94.385%\n",
      "Epoch: 0240 cost =  0.006167239 \t검증 세트 정확도: 92.781%\n",
      "Epoch: 0241 cost =  0.006562257 \t검증 세트 정확도: 93.984%\n",
      "Epoch: 0242 cost =  0.006869486 \t검증 세트 정확도: 93.449%\n",
      "Epoch: 0243 cost =  0.006386932 \t검증 세트 정확도: 92.781%\n",
      "Epoch: 0244 cost =  0.007636905 \t검증 세트 정확도: 91.845%\n",
      "Epoch: 0245 cost =  0.006749421 \t검증 세트 정확도: 92.380%\n",
      "Epoch: 0246 cost =  0.007472254 \t검증 세트 정확도: 93.984%\n",
      "Epoch: 0247 cost =  0.007242578 \t검증 세트 정확도: 92.246%\n",
      "Epoch: 0248 cost =  0.006561545 \t검증 세트 정확도: 91.711%\n",
      "Epoch: 0249 cost =  0.006552063 \t검증 세트 정확도: 91.845%\n",
      "Epoch: 0250 cost =  0.007031821 \t검증 세트 정확도: 91.176%\n",
      "Epoch: 0251 cost =  0.006665858 \t검증 세트 정확도: 93.449%\n",
      "Epoch: 0252 cost =  0.006301198 \t검증 세트 정확도: 89.439%\n",
      "Epoch: 0253 cost =  0.006680312 \t검증 세트 정확도: 95.187%\n",
      "Epoch: 0254 cost =  0.006895845 \t검증 세트 정확도: 93.449%\n",
      "Epoch: 0255 cost =  0.006297250 \t검증 세트 정확도: 95.187%\n",
      "Epoch: 0256 cost =  0.006549419 \t검증 세트 정확도: 93.048%\n",
      "Epoch: 0257 cost =  0.006065706 \t검증 세트 정확도: 91.310%\n",
      "Epoch: 0258 cost =  0.006145242 \t검증 세트 정확도: 93.316%\n",
      "Epoch: 0259 cost =  0.006674670 \t검증 세트 정확도: 92.246%\n",
      "Epoch: 0260 cost =  0.006672741 \t검증 세트 정확도: 93.048%\n",
      "Epoch: 0261 cost =  0.006367909 \t검증 세트 정확도: 92.647%\n",
      "Epoch: 0262 cost =  0.004908788 \t검증 세트 정확도: 93.717%\n",
      "Epoch: 0263 cost =  0.006405092 \t검증 세트 정확도: 92.513%\n",
      "Epoch: 0264 cost =  0.005376027 \t검증 세트 정확도: 92.246%\n",
      "Epoch: 0265 cost =  0.005401295 \t검증 세트 정확도: 95.187%\n",
      "Epoch: 0266 cost =  0.006047413 \t검증 세트 정확도: 93.048%\n",
      "Epoch: 0267 cost =  0.006011145 \t검증 세트 정확도: 93.048%\n",
      "Epoch: 0268 cost =  0.006285713 \t검증 세트 정확도: 92.513%\n",
      "Epoch: 0269 cost =  0.006390847 \t검증 세트 정확도: 90.909%\n",
      "Epoch: 0270 cost =  0.006497054 \t검증 세트 정확도: 93.449%\n",
      "Epoch: 0271 cost =  0.006011870 \t검증 세트 정확도: 93.449%\n",
      "Epoch: 0272 cost =  0.006010122 \t검증 세트 정확도: 91.578%\n",
      "Epoch: 0273 cost =  0.006352891 \t검증 세트 정확도: 92.380%\n",
      "Epoch: 0274 cost =  0.006164216 \t검증 세트 정확도: 92.380%\n",
      "Epoch: 0275 cost =  0.006803046 \t검증 세트 정확도: 93.182%\n",
      "Epoch: 0276 cost =  0.005623682 \t검증 세트 정확도: 91.444%\n",
      "Epoch: 0277 cost =  0.005240145 \t검증 세트 정확도: 91.979%\n",
      "Epoch: 0278 cost =  0.006033693 \t검증 세트 정확도: 93.182%\n",
      "Epoch: 0279 cost =  0.005830564 \t검증 세트 정확도: 96.257%\n",
      "Epoch: 0280 cost =  0.005669807 \t검증 세트 정확도: 94.251%\n",
      "Epoch: 0281 cost =  0.006174950 \t검증 세트 정확도: 92.380%\n",
      "Epoch: 0282 cost =  0.005609433 \t검증 세트 정확도: 94.118%\n",
      "Epoch: 0283 cost =  0.005877085 \t검증 세트 정확도: 91.711%\n",
      "Epoch: 0284 cost =  0.006388496 \t검증 세트 정확도: 91.979%\n",
      "Epoch: 0285 cost =  0.005320849 \t검증 세트 정확도: 91.444%\n",
      "Epoch: 0286 cost =  0.005194648 \t검증 세트 정확도: 91.578%\n",
      "Epoch: 0287 cost =  0.005612276 \t검증 세트 정확도: 92.914%\n",
      "Epoch: 0288 cost =  0.006240845 \t검증 세트 정확도: 92.246%\n",
      "Epoch: 0289 cost =  0.005538502 \t검증 세트 정확도: 93.316%\n",
      "Epoch: 0290 cost =  0.004808115 \t검증 세트 정확도: 94.519%\n",
      "Epoch: 0291 cost =  0.005650675 \t검증 세트 정확도: 92.647%\n",
      "Epoch: 0292 cost =  0.005856315 \t검증 세트 정확도: 93.850%\n",
      "Epoch: 0293 cost =  0.005801242 \t검증 세트 정확도: 92.246%\n",
      "Epoch: 0294 cost =  0.005607535 \t검증 세트 정확도: 92.914%\n",
      "Epoch: 0295 cost =  0.005512505 \t검증 세트 정확도: 94.251%\n",
      "Epoch: 0296 cost =  0.005120157 \t검증 세트 정확도: 95.053%\n",
      "Epoch: 0297 cost =  0.007105262 \t검증 세트 정확도: 92.914%\n",
      "Epoch: 0298 cost =  0.005929022 \t검증 세트 정확도: 91.578%\n",
      "Epoch: 0299 cost =  0.005005647 \t검증 세트 정확도: 93.182%\n",
      "Epoch: 0300 cost =  0.005242285 \t검증 세트 정확도: 93.449%\n",
      "Epoch: 0301 cost =  0.004936024 \t검증 세트 정확도: 93.182%\n",
      "Epoch: 0302 cost =  0.005446876 \t검증 세트 정확도: 96.390%\n",
      "Epoch: 0303 cost =  0.006142151 \t검증 세트 정확도: 93.316%\n",
      "Epoch: 0304 cost =  0.005518689 \t검증 세트 정확도: 93.850%\n",
      "Epoch: 0305 cost =  0.005521545 \t검증 세트 정확도: 93.583%\n",
      "Epoch: 0306 cost =  0.005634065 \t검증 세트 정확도: 93.717%\n",
      "Epoch: 0307 cost =  0.005978854 \t검증 세트 정확도: 93.984%\n",
      "Epoch: 0308 cost =  0.006443297 \t검증 세트 정확도: 92.647%\n",
      "Epoch: 0309 cost =  0.005574541 \t검증 세트 정확도: 93.048%\n",
      "Epoch: 0310 cost =  0.005106552 \t검증 세트 정확도: 94.118%\n",
      "Epoch: 0311 cost =  0.006597390 \t검증 세트 정확도: 89.572%\n",
      "Epoch: 0312 cost =  0.006597179 \t검증 세트 정확도: 93.850%\n",
      "Epoch: 0313 cost =  0.005777210 \t검증 세트 정확도: 93.984%\n",
      "Epoch: 0314 cost =  0.005318358 \t검증 세트 정확도: 94.652%\n",
      "Epoch: 0315 cost =  0.005472741 \t검증 세트 정확도: 94.118%\n",
      "Epoch: 0316 cost =  0.005108715 \t검증 세트 정확도: 95.053%\n"
     ]
    },
    {
     "name": "stdout",
     "output_type": "stream",
     "text": [
      "Epoch: 0317 cost =  0.005419731 \t검증 세트 정확도: 94.251%\n",
      "Epoch: 0318 cost =  0.006121619 \t검증 세트 정확도: 93.048%\n",
      "Epoch: 0319 cost =  0.006080696 \t검증 세트 정확도: 92.914%\n",
      "Epoch: 0320 cost =  0.005583123 \t검증 세트 정확도: 93.583%\n",
      "Epoch: 0321 cost =  0.005950192 \t검증 세트 정확도: 92.914%\n",
      "Epoch: 0322 cost =  0.005620964 \t검증 세트 정확도: 93.717%\n",
      "Epoch: 0323 cost =  0.006267237 \t검증 세트 정확도: 93.182%\n",
      "Epoch: 0324 cost =  0.005384384 \t검증 세트 정확도: 93.182%\n",
      "Epoch: 0325 cost =  0.005340311 \t검증 세트 정확도: 92.380%\n",
      "Epoch: 0326 cost =  0.005838645 \t검증 세트 정확도: 94.920%\n",
      "Epoch: 0327 cost =  0.006403150 \t검증 세트 정확도: 93.583%\n",
      "Epoch: 0328 cost =  0.006107671 \t검증 세트 정확도: 94.118%\n",
      "Epoch: 0329 cost =  0.004987740 \t검증 세트 정확도: 93.717%\n",
      "Epoch: 0330 cost =  0.006008157 \t검증 세트 정확도: 95.187%\n",
      "Epoch: 0331 cost =  0.005460932 \t검증 세트 정확도: 93.850%\n",
      "Epoch: 0332 cost =  0.005044229 \t검증 세트 정확도: 95.588%\n",
      "Epoch: 0333 cost =  0.005596256 \t검증 세트 정확도: 93.316%\n",
      "Epoch: 0334 cost =  0.005810279 \t검증 세트 정확도: 94.251%\n",
      "Epoch: 0335 cost =  0.004829198 \t검증 세트 정확도: 93.182%\n",
      "Epoch: 0336 cost =  0.005311336 \t검증 세트 정확도: 93.449%\n",
      "Epoch: 0337 cost =  0.005254673 \t검증 세트 정확도: 93.984%\n",
      "Epoch: 0338 cost =  0.005414552 \t검증 세트 정확도: 94.118%\n",
      "Epoch: 0339 cost =  0.005856386 \t검증 세트 정확도: 94.251%\n",
      "Epoch: 0340 cost =  0.005312360 \t검증 세트 정확도: 95.187%\n",
      "Epoch: 0341 cost =  0.004742899 \t검증 세트 정확도: 93.984%\n",
      "Epoch: 0342 cost =  0.004864656 \t검증 세트 정확도: 91.711%\n",
      "Epoch: 0343 cost =  0.006195032 \t검증 세트 정확도: 95.187%\n",
      "Epoch: 0344 cost =  0.005151930 \t검증 세트 정확도: 93.316%\n",
      "Epoch: 0345 cost =  0.005120427 \t검증 세트 정확도: 91.711%\n",
      "Epoch: 0346 cost =  0.005159697 \t검증 세트 정확도: 93.048%\n",
      "Epoch: 0347 cost =  0.005444947 \t검증 세트 정확도: 93.048%\n",
      "Epoch: 0348 cost =  0.005162945 \t검증 세트 정확도: 92.513%\n",
      "Epoch: 0349 cost =  0.005652849 \t검증 세트 정확도: 93.850%\n",
      "Epoch: 0350 cost =  0.005463130 \t검증 세트 정확도: 93.850%\n",
      "Epoch: 0351 cost =  0.004651220 \t검증 세트 정확도: 94.251%\n",
      "Epoch: 0352 cost =  0.005185065 \t검증 세트 정확도: 93.048%\n",
      "Epoch: 0353 cost =  0.005861004 \t검증 세트 정확도: 95.989%\n",
      "Epoch: 0354 cost =  0.006155239 \t검증 세트 정확도: 93.316%\n",
      "Epoch: 0355 cost =  0.005663485 \t검증 세트 정확도: 92.914%\n",
      "Epoch: 0356 cost =  0.006508535 \t검증 세트 정확도: 91.578%\n",
      "Epoch: 0357 cost =  0.005321901 \t검증 세트 정확도: 94.652%\n",
      "Epoch: 0358 cost =  0.004863015 \t검증 세트 정확도: 94.786%\n",
      "Epoch: 0359 cost =  0.005773230 \t검증 세트 정확도: 92.647%\n",
      "Epoch: 0360 cost =  0.005315346 \t검증 세트 정확도: 94.786%\n",
      "Epoch: 0361 cost =  0.004982447 \t검증 세트 정확도: 92.781%\n",
      "Epoch: 0362 cost =  0.005176891 \t검증 세트 정확도: 93.316%\n",
      "Epoch: 0363 cost =  0.004842490 \t검증 세트 정확도: 93.583%\n",
      "Epoch: 0364 cost =  0.004700438 \t검증 세트 정확도: 92.513%\n",
      "Epoch: 0365 cost =  0.005409250 \t검증 세트 정확도: 91.444%\n",
      "Epoch: 0366 cost =  0.004432107 \t검증 세트 정확도: 94.652%\n",
      "Epoch: 0367 cost =  0.005126059 \t검증 세트 정확도: 96.123%\n",
      "Epoch: 0368 cost =  0.005506506 \t검증 세트 정확도: 93.850%\n",
      "Epoch: 0369 cost =  0.005270613 \t검증 세트 정확도: 92.112%\n",
      "Epoch: 0370 cost =  0.004368770 \t검증 세트 정확도: 92.781%\n",
      "Epoch: 0371 cost =  0.004838975 \t검증 세트 정확도: 94.385%\n",
      "Epoch: 0372 cost =  0.004806609 \t검증 세트 정확도: 92.781%\n",
      "Epoch: 0373 cost =  0.005371332 \t검증 세트 정확도: 92.781%\n",
      "Epoch: 0374 cost =  0.005290465 \t검증 세트 정확도: 93.984%\n",
      "Epoch: 0375 cost =  0.005349961 \t검증 세트 정확도: 94.118%\n",
      "Epoch: 0376 cost =  0.006190541 \t검증 세트 정확도: 90.508%\n",
      "Epoch: 0377 cost =  0.005393564 \t검증 세트 정확도: 95.321%\n",
      "Epoch: 0378 cost =  0.005007782 \t검증 세트 정확도: 91.845%\n",
      "Epoch: 0379 cost =  0.005131472 \t검증 세트 정확도: 92.914%\n",
      "Epoch: 0380 cost =  0.005050899 \t검증 세트 정확도: 94.118%\n",
      "Epoch: 0381 cost =  0.005627091 \t검증 세트 정확도: 93.984%\n",
      "Epoch: 0382 cost =  0.004949092 \t검증 세트 정확도: 93.182%\n",
      "Epoch: 0383 cost =  0.004978610 \t검증 세트 정확도: 94.385%\n",
      "Epoch: 0384 cost =  0.004744730 \t검증 세트 정확도: 92.112%\n",
      "Epoch: 0385 cost =  0.004475696 \t검증 세트 정확도: 94.118%\n",
      "Epoch: 0386 cost =  0.004391984 \t검증 세트 정확도: 93.850%\n",
      "Epoch: 0387 cost =  0.004540472 \t검증 세트 정확도: 93.048%\n",
      "Epoch: 0388 cost =  0.004535325 \t검증 세트 정확도: 91.979%\n",
      "Epoch: 0389 cost =  0.005176069 \t검증 세트 정확도: 94.118%\n",
      "Epoch: 0390 cost =  0.004808265 \t검증 세트 정확도: 94.385%\n",
      "Epoch: 0391 cost =  0.004558431 \t검증 세트 정확도: 93.984%\n",
      "Epoch: 0392 cost =  0.005156933 \t검증 세트 정확도: 92.246%\n",
      "Epoch: 0393 cost =  0.005344759 \t검증 세트 정확도: 91.310%\n",
      "Epoch: 0394 cost =  0.005421848 \t검증 세트 정확도: 92.781%\n",
      "Epoch: 0395 cost =  0.004843595 \t검증 세트 정확도: 90.642%\n",
      "Epoch: 0396 cost =  0.005197097 \t검증 세트 정확도: 94.519%\n",
      "Epoch: 0397 cost =  0.003812256 \t검증 세트 정확도: 94.118%\n",
      "Epoch: 0398 cost =  0.005208806 \t검증 세트 정확도: 93.850%\n",
      "Epoch: 0399 cost =  0.004774352 \t검증 세트 정확도: 93.984%\n",
      "Epoch: 0400 cost =  0.004297657 \t검증 세트 정확도: 94.385%\n",
      "Epoch: 0401 cost =  0.004496601 \t검증 세트 정확도: 93.583%\n",
      "Epoch: 0402 cost =  0.005076322 \t검증 세트 정확도: 94.118%\n",
      "Epoch: 0403 cost =  0.004921104 \t검증 세트 정확도: 93.182%\n",
      "Epoch: 0404 cost =  0.004836405 \t검증 세트 정확도: 94.251%\n",
      "Epoch: 0405 cost =  0.005406412 \t검증 세트 정확도: 92.914%\n",
      "Epoch: 0406 cost =  0.005421887 \t검증 세트 정확도: 91.711%\n",
      "Epoch: 0407 cost =  0.004338440 \t검증 세트 정확도: 92.914%\n",
      "Epoch: 0408 cost =  0.004765473 \t검증 세트 정확도: 93.316%\n",
      "Epoch: 0409 cost =  0.004198858 \t검증 세트 정확도: 95.321%\n",
      "Epoch: 0410 cost =  0.005437574 \t검증 세트 정확도: 93.316%\n",
      "Epoch: 0411 cost =  0.005084833 \t검증 세트 정확도: 93.717%\n",
      "Epoch: 0412 cost =  0.004938847 \t검증 세트 정확도: 93.717%\n",
      "Epoch: 0413 cost =  0.004670345 \t검증 세트 정확도: 93.048%\n",
      "Epoch: 0414 cost =  0.004121712 \t검증 세트 정확도: 92.781%\n",
      "Epoch: 0415 cost =  0.004020335 \t검증 세트 정확도: 93.449%\n",
      "Epoch: 0416 cost =  0.004557263 \t검증 세트 정확도: 93.449%\n",
      "Epoch: 0417 cost =  0.004501964 \t검증 세트 정확도: 93.048%\n",
      "Epoch: 0418 cost =  0.005664052 \t검증 세트 정확도: 93.182%\n",
      "Epoch: 0419 cost =  0.005520713 \t검증 세트 정확도: 93.316%\n",
      "Epoch: 0420 cost =  0.005169176 \t검증 세트 정확도: 94.118%\n",
      "Epoch: 0421 cost =  0.004461158 \t검증 세트 정확도: 94.118%\n",
      "Epoch: 0422 cost =  0.004693279 \t검증 세트 정확도: 92.513%\n",
      "Epoch: 0423 cost =  0.004706178 \t검증 세트 정확도: 91.444%\n",
      "Epoch: 0424 cost =  0.004347877 \t검증 세트 정확도: 93.717%\n",
      "Epoch: 0425 cost =  0.004711190 \t검증 세트 정확도: 94.652%\n",
      "Epoch: 0426 cost =  0.004782309 \t검증 세트 정확도: 93.583%\n",
      "Epoch: 0427 cost =  0.004815396 \t검증 세트 정확도: 93.182%\n",
      "Epoch: 0428 cost =  0.004839316 \t검증 세트 정확도: 91.578%\n",
      "Epoch: 0429 cost =  0.004762545 \t검증 세트 정확도: 93.850%\n",
      "Epoch: 0430 cost =  0.004265091 \t검증 세트 정확도: 95.187%\n",
      "Epoch: 0431 cost =  0.004085215 \t검증 세트 정확도: 93.449%\n",
      "Epoch: 0432 cost =  0.004147292 \t검증 세트 정확도: 94.786%\n",
      "Epoch: 0433 cost =  0.004430675 \t검증 세트 정확도: 93.048%\n",
      "Epoch: 0434 cost =  0.004348834 \t검증 세트 정확도: 93.449%\n",
      "Epoch: 0435 cost =  0.004700019 \t검증 세트 정확도: 94.385%\n",
      "Epoch: 0436 cost =  0.003962714 \t검증 세트 정확도: 92.647%\n",
      "Epoch: 0437 cost =  0.005028461 \t검증 세트 정확도: 92.380%\n",
      "Epoch: 0438 cost =  0.004269893 \t검증 세트 정확도: 92.513%\n",
      "Epoch: 0439 cost =  0.004507763 \t검증 세트 정확도: 94.118%\n",
      "Epoch: 0440 cost =  0.004776574 \t검증 세트 정확도: 92.246%\n",
      "Epoch: 0441 cost =  0.004067715 \t검증 세트 정확도: 91.310%\n",
      "Epoch: 0442 cost =  0.004500928 \t검증 세트 정확도: 95.321%\n",
      "Epoch: 0443 cost =  0.004805043 \t검증 세트 정확도: 94.920%\n",
      "Epoch: 0444 cost =  0.004498897 \t검증 세트 정확도: 92.246%\n",
      "Epoch: 0445 cost =  0.005049618 \t검증 세트 정확도: 93.583%\n",
      "Epoch: 0446 cost =  0.005244338 \t검증 세트 정확도: 95.455%\n",
      "Epoch: 0447 cost =  0.004556150 \t검증 세트 정확도: 92.513%\n",
      "Epoch: 0448 cost =  0.005078349 \t검증 세트 정확도: 92.513%\n",
      "Epoch: 0449 cost =  0.004523101 \t검증 세트 정확도: 93.449%\n",
      "Epoch: 0450 cost =  0.004768434 \t검증 세트 정확도: 92.914%\n",
      "Epoch: 0451 cost =  0.006529628 \t검증 세트 정확도: 94.920%\n",
      "Epoch: 0452 cost =  0.006107611 \t검증 세트 정확도: 94.251%\n",
      "Epoch: 0453 cost =  0.005599107 \t검증 세트 정확도: 93.583%\n",
      "Epoch: 0454 cost =  0.005491256 \t검증 세트 정확도: 93.850%\n",
      "Epoch: 0455 cost =  0.005602489 \t검증 세트 정확도: 93.048%\n",
      "Epoch: 0456 cost =  0.005623300 \t검증 세트 정확도: 91.444%\n",
      "Epoch: 0457 cost =  0.005855038 \t검증 세트 정확도: 91.979%\n",
      "Epoch: 0458 cost =  0.005150687 \t검증 세트 정확도: 93.316%\n",
      "Epoch: 0459 cost =  0.004761728 \t검증 세트 정확도: 94.251%\n",
      "Epoch: 0460 cost =  0.005603090 \t검증 세트 정확도: 91.711%\n",
      "Epoch: 0461 cost =  0.006297334 \t검증 세트 정확도: 94.786%\n",
      "Epoch: 0462 cost =  0.005040499 \t검증 세트 정확도: 94.251%\n",
      "Epoch: 0463 cost =  0.005052755 \t검증 세트 정확도: 93.316%\n",
      "Epoch: 0464 cost =  0.005439073 \t검증 세트 정확도: 93.717%\n",
      "Epoch: 0465 cost =  0.005041415 \t검증 세트 정확도: 94.118%\n",
      "Epoch: 0466 cost =  0.004684852 \t검증 세트 정확도: 95.321%\n",
      "Epoch: 0467 cost =  0.004612376 \t검증 세트 정확도: 94.652%\n",
      "Epoch: 0468 cost =  0.004685595 \t검증 세트 정확도: 90.241%\n",
      "Epoch: 0469 cost =  0.006220650 \t검증 세트 정확도: 93.449%\n",
      "Epoch: 0470 cost =  0.004566044 \t검증 세트 정확도: 94.786%\n",
      "Epoch: 0471 cost =  0.004619979 \t검증 세트 정확도: 93.717%\n",
      "Epoch: 0472 cost =  0.005008590 \t검증 세트 정확도: 92.781%\n",
      "Epoch: 0473 cost =  0.004877073 \t검증 세트 정확도: 92.781%\n",
      "Epoch: 0474 cost =  0.004393918 \t검증 세트 정확도: 94.652%\n"
     ]
    },
    {
     "name": "stdout",
     "output_type": "stream",
     "text": [
      "Epoch: 0475 cost =  0.005126151 \t검증 세트 정확도: 93.717%\n",
      "Epoch: 0476 cost =  0.004945075 \t검증 세트 정확도: 94.786%\n",
      "Epoch: 0477 cost =  0.006374626 \t검증 세트 정확도: 92.112%\n",
      "Epoch: 0478 cost =  0.005338669 \t검증 세트 정확도: 93.048%\n",
      "Epoch: 0479 cost =  0.005045999 \t검증 세트 정확도: 93.717%\n",
      "Epoch: 0480 cost =  0.004979462 \t검증 세트 정확도: 93.850%\n",
      "Epoch: 0481 cost =  0.005965601 \t검증 세트 정확도: 94.385%\n",
      "Epoch: 0482 cost =  0.004702282 \t검증 세트 정확도: 93.984%\n",
      "Epoch: 0483 cost =  0.004472178 \t검증 세트 정확도: 93.182%\n",
      "Epoch: 0484 cost =  0.004450052 \t검증 세트 정확도: 92.380%\n",
      "Epoch: 0485 cost =  0.005781753 \t검증 세트 정확도: 92.647%\n",
      "Epoch: 0486 cost =  0.005148717 \t검증 세트 정확도: 91.176%\n",
      "Epoch: 0487 cost =  0.004296308 \t검증 세트 정확도: 93.449%\n",
      "Epoch: 0488 cost =  0.004577401 \t검증 세트 정확도: 92.246%\n",
      "Epoch: 0489 cost =  0.004460933 \t검증 세트 정확도: 92.647%\n",
      "Epoch: 0490 cost =  0.003842208 \t검증 세트 정확도: 93.850%\n",
      "Epoch: 0491 cost =  0.003726343 \t검증 세트 정확도: 93.316%\n",
      "Epoch: 0492 cost =  0.004625736 \t검증 세트 정확도: 94.251%\n",
      "Epoch: 0493 cost =  0.004880330 \t검증 세트 정확도: 93.316%\n",
      "Epoch: 0494 cost =  0.003953178 \t검증 세트 정확도: 93.717%\n",
      "Epoch: 0495 cost =  0.004424581 \t검증 세트 정확도: 94.385%\n",
      "Epoch: 0496 cost =  0.004250751 \t검증 세트 정확도: 94.385%\n",
      "Epoch: 0497 cost =  0.004032302 \t검증 세트 정확도: 93.316%\n",
      "Epoch: 0498 cost =  0.004248120 \t검증 세트 정확도: 94.652%\n",
      "Epoch: 0499 cost =  0.004781242 \t검증 세트 정확도: 94.786%\n"
     ]
    },
    {
     "data": {
      "text/plain": [
       "'../../model/DNN/7_dense_model'"
      ]
     },
     "execution_count": 26,
     "metadata": {},
     "output_type": "execute_result"
    }
   ],
   "source": [
    "#original \n",
    "batch_size = 32\n",
    "cost_history = np.empty(shape=[1], dtype=float)\n",
    "with tf.device(\"/gpu:0\"):\n",
    "    for epoch in range(1,500):\n",
    "        avg_cost = 0    \n",
    "#    total_batch = int(X_train.shape[0] / batch_size)\n",
    "        for i in range( int(math.ceil(len(X_train)/batch_size)) ): # 배치 사이즈로 나눈 나머지 다 돌 수 있게 \n",
    "            x_ = X_train[batch_size * i: batch_size * (i + 1)]\n",
    "            y_ = y_train[batch_size * i: batch_size * (i + 1)]\n",
    "            feed_dict={X:x_, Y:y_, keep_prob:0.6}    \n",
    "            c, _ = sess.run([cost, optimizer], feed_dict=feed_dict)\n",
    "            cost_history = np.append(cost_history,cost)\n",
    "            avg_cost += c\n",
    "            #accuracy_val = sess.run([accuracy], feed_dict={X:X_val, Y:y_val})\n",
    "        val_pred = sess.run(tf.argmax(logits,1),feed_dict={X: X_val , keep_prob:1})  \n",
    "        val_true = sess.run(tf.argmax(y_val,1))\n",
    "        accuracy_val = accuracy_score(val_pred, val_true)\n",
    "        print('Epoch:', '%04d' % (epoch), 'cost = ', '{:.9f}'.format(avg_cost / len(X_train)), \"\\t검증 세트 정확도: {:.3f}%\".format(accuracy_val * 100),)\n",
    "saver.save(sess, model_path)"
   ]
  },
  {
   "cell_type": "markdown",
   "metadata": {},
   "source": [
    "## Prediction"
   ]
  },
  {
   "cell_type": "code",
   "execution_count": 27,
   "metadata": {},
   "outputs": [],
   "source": [
    "y_pred = sess.run(tf.argmax(logits,1),feed_dict={X: X_test , keep_prob:1}) \n",
    "y_true = sess.run(tf.argmax(y_test,1))"
   ]
  },
  {
   "cell_type": "code",
   "execution_count": 28,
   "metadata": {},
   "outputs": [
    {
     "name": "stdout",
     "output_type": "stream",
     "text": [
      "F-Score: 0.944\n",
      "Accuracy:  0.9443850267379679\n",
      "              precision    recall  f1-score   support\n",
      "\n",
      "           0       0.99      0.97      0.98       117\n",
      "           1       0.95      0.88      0.92        94\n",
      "           2       0.75      0.95      0.84       113\n",
      "           3       0.99      0.99      0.99       106\n",
      "           4       0.99      1.00      0.99        88\n",
      "           5       0.93      0.77      0.84       128\n",
      "           6       0.99      1.00      0.99       289\n",
      "\n",
      "   micro avg       0.94      0.94      0.94       935\n",
      "   macro avg       0.94      0.94      0.94       935\n",
      "weighted avg       0.95      0.94      0.94       935\n",
      "\n",
      "[[113   0   1   0   0   3   0]\n",
      " [  0  83   8   0   0   3   0]\n",
      " [  0   2 107   0   0   2   2]\n",
      " [  0   0   0 105   1   0   0]\n",
      " [  0   0   0   0  88   0   0]\n",
      " [  1   2  26   0   0  99   0]\n",
      " [  0   0   0   1   0   0 288]]\n"
     ]
    }
   ],
   "source": [
    "# Ptint Result\n",
    "\n",
    "from sklearn.metrics import precision_recall_fscore_support\n",
    "p,r,f,s = precision_recall_fscore_support(y_true, y_pred, average='micro')\n",
    "print(\"F-Score:\", round(f,3))\n",
    "from sklearn.metrics import accuracy_score\n",
    "print(\"Accuracy: \", accuracy_score(y_true, y_pred))\n",
    "\n",
    "from sklearn.metrics import classification_report\n",
    "print(classification_report(y_true, y_pred))\n",
    "from sklearn.metrics import confusion_matrix\n",
    "print(confusion_matrix(y_true, y_pred))"
   ]
  },
  {
   "cell_type": "code",
   "execution_count": null,
   "metadata": {},
   "outputs": [],
   "source": []
  }
 ],
 "metadata": {
  "kernelspec": {
   "display_name": "Python 3",
   "language": "python",
   "name": "python3"
  },
  "language_info": {
   "codemirror_mode": {
    "name": "ipython",
    "version": 3
   },
   "file_extension": ".py",
   "mimetype": "text/x-python",
   "name": "python",
   "nbconvert_exporter": "python",
   "pygments_lexer": "ipython3",
   "version": "3.6.7"
  }
 },
 "nbformat": 4,
 "nbformat_minor": 2
}
