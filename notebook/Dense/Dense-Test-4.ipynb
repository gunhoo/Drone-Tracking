{
 "cells": [
  {
   "cell_type": "code",
   "execution_count": 1,
   "metadata": {
    "scrolled": true
   },
   "outputs": [],
   "source": [
    "import matplotlib.pyplot as plt\n",
    "%matplotlib inline\n",
    "import IPython.display\n",
    "import librosa.display\n",
    "import numpy as np\n",
    "import librosa\n",
    "import tensorflow as tf\n",
    "import glob"
   ]
  },
  {
   "cell_type": "code",
   "execution_count": 2,
   "metadata": {},
   "outputs": [],
   "source": [
    "c_drone_path = '../../../1mtmp/second-0-15:48:01.wav'\n",
    "m_drone_path = '../../../20mtmp/second-20-16:41:43.wav'\n",
    "f_drone_path = '../../../back/second*.wav'\n",
    "background_path = '../../../backgroundsample.wav'\n",
    "c_drone_files = glob.glob(c_drone_path)\n",
    "m_drone_files = glob.glob(m_drone_path)\n",
    "f_drone_files = glob.glob(f_drone_path)\n",
    "background_files = glob.glob(background_path)"
   ]
  },
  {
   "cell_type": "code",
   "execution_count": 3,
   "metadata": {},
   "outputs": [],
   "source": [
    "CHUNK_SIZE = 8192\n",
    "SR = 22050\n",
    "N_MFCC = 16"
   ]
  },
  {
   "cell_type": "code",
   "execution_count": 4,
   "metadata": {},
   "outputs": [],
   "source": [
    "def load(files, sr=22050):\n",
    "    [raw, sr] = librosa.load(files[0], sr=sr)\n",
    "    for f in files[1:]:\n",
    "        [array, sr] = librosa.load(f, sr=sr)\n",
    "        raw = np.hstack((raw, array))\n",
    "    print(raw.shape)\n",
    "    return raw"
   ]
  },
  {
   "cell_type": "code",
   "execution_count": 5,
   "metadata": {},
   "outputs": [
    {
     "name": "stdout",
     "output_type": "stream",
     "text": [
      "(20480,)\n",
      "(20480,)\n",
      "(634880,)\n",
      "(20480,)\n"
     ]
    }
   ],
   "source": [
    "c_drone_raw = load(c_drone_files)\n",
    "m_drone_raw = load(m_drone_files)\n",
    "f_drone_raw = load(f_drone_files)\n",
    "background_raw = load(background_files)"
   ]
  },
  {
   "cell_type": "code",
   "execution_count": 6,
   "metadata": {},
   "outputs": [],
   "source": [
    "def mfcc4(raw, label, chunk_size=8192, window_size=4096, sr=22050, n_mfcc=16, n_frame=16):\n",
    "    mfcc = np.empty((0, n_mfcc, n_frame))\n",
    "    y = []\n",
    "    print(raw.shape)\n",
    "    for i in range(0, len(raw), chunk_size//2):\n",
    "        mfcc_slice = librosa.feature.mfcc(raw[i:i+chunk_size], sr=sr, n_mfcc=n_mfcc) #n_mfcc,17\n",
    "        if mfcc_slice.shape[1] < 17:\n",
    "            print(i,\">small end:\", mfcc_slice.shape)\n",
    "            continue\n",
    "        mfcc_slice = mfcc_slice[:,:-1]\n",
    "        mfcc_slice = mfcc_slice.reshape((1, mfcc_slice.shape[0], mfcc_slice.shape[1]))\n",
    "        mfcc = np.vstack((mfcc, mfcc_slice))\n",
    "        y.append(label)\n",
    "    y = np.array(y)\n",
    "    return mfcc, y"
   ]
  },
  {
   "cell_type": "code",
   "execution_count": 7,
   "metadata": {},
   "outputs": [
    {
     "name": "stdout",
     "output_type": "stream",
     "text": [
      "(20480,)\n",
      "16384 >small end: (16, 9)\n",
      "(20480,)\n",
      "16384 >small end: (16, 9)\n",
      "(634880,)\n",
      "630784 >small end: (16, 9)\n",
      "(20480,)\n",
      "16384 >small end: (16, 9)\n",
      "(4, 16, 16) (4,)\n",
      "(4, 16, 16) (4,)\n",
      "(154, 16, 16) (154,)\n",
      "(4, 16, 16) (4,)\n"
     ]
    }
   ],
   "source": [
    "c_mfcc_drone, c_y_drone = mfcc4(c_drone_raw, 3)\n",
    "m_mfcc_drone, m_y_drone = mfcc4(m_drone_raw, 2)\n",
    "f_mfcc_drone, f_y_drone = mfcc4(f_drone_raw, 1)\n",
    "mfcc_background, y_background = mfcc4(background_raw, 0)\n",
    "\n",
    "print(c_mfcc_drone.shape, c_y_drone.shape)\n",
    "print(m_mfcc_drone.shape, m_y_drone.shape)\n",
    "print(f_mfcc_drone.shape, f_y_drone.shape)\n",
    "\n",
    "print(mfcc_background.shape, y_background.shape)"
   ]
  },
  {
   "cell_type": "code",
   "execution_count": 8,
   "metadata": {},
   "outputs": [
    {
     "name": "stdout",
     "output_type": "stream",
     "text": [
      "(166, 16, 16) (166,)\n"
     ]
    }
   ],
   "source": [
    "X = np.concatenate((c_mfcc_drone, m_mfcc_drone, f_mfcc_drone, mfcc_background), axis=0)\n",
    "y = np.hstack((c_y_drone, m_y_drone, f_y_drone, y_background))\n",
    "print(X.shape, y.shape)"
   ]
  },
  {
   "cell_type": "code",
   "execution_count": 9,
   "metadata": {},
   "outputs": [
    {
     "name": "stdout",
     "output_type": "stream",
     "text": [
      "(166, 256)\n",
      "<class 'numpy.ndarray'>\n"
     ]
    }
   ],
   "source": [
    "X_test = np.reshape(X,(X.shape[0],-1))\n",
    "print(X_test.shape)\n",
    "print(type(X_test))"
   ]
  },
  {
   "cell_type": "code",
   "execution_count": 10,
   "metadata": {},
   "outputs": [],
   "source": [
    "#X_train2 = X.reshape(X.shape[0], X.shape[1], X.shape[2], 1) ############# 리셰입 해야 "
   ]
  },
  {
   "cell_type": "code",
   "execution_count": 11,
   "metadata": {},
   "outputs": [
    {
     "name": "stdout",
     "output_type": "stream",
     "text": [
      "(166, 4)\n"
     ]
    }
   ],
   "source": [
    "n_labels = y.shape[0]\n",
    "n_unique_labels = 4\n",
    "y_encoded = np.zeros((n_labels, n_unique_labels))\n",
    "y_encoded[np.arange(n_labels), y] = 1\n",
    "print(y_encoded.shape)"
   ]
  },
  {
   "cell_type": "markdown",
   "metadata": {},
   "source": [
    "# test init"
   ]
  },
  {
   "cell_type": "code",
   "execution_count": 12,
   "metadata": {},
   "outputs": [],
   "source": [
    "tf.reset_default_graph()"
   ]
  },
  {
   "cell_type": "code",
   "execution_count": 13,
   "metadata": {},
   "outputs": [],
   "source": [
    "n_mfcc = 16\n",
    "n_frame = 16\n",
    "n_classes = 4\n",
    "n_channels = 1\n",
    "\n",
    "kernel_size = 3\n",
    "stride = 1\n",
    "pad = \"SAME\"\n",
    "\n",
    "learning_rate = 0.0002"
   ]
  },
  {
   "cell_type": "code",
   "execution_count": 14,
   "metadata": {},
   "outputs": [],
   "source": [
    "X = tf.placeholder(tf.float32, shape=[None,n_mfcc*n_frame*n_channels])\n",
    "#X = tf.reshape(X, [-1, n_mfcc, n_frame, n_channels]) #fully connected에는 리셰입 안해도 된다 \n",
    "Y = tf.placeholder(tf.float32, shape=[None,n_classes])\n",
    "\n",
    "keep_prob = tf.placeholder(tf.float32)\n",
    "\n",
    "#dense2 = tf.layers.dense(inputs=flat, units=625, activation=tf.nn.relu)\n",
    "#dropout2 = tf.layers.dropout(inputs=dense2, rate=0.5, training=True)\n",
    "dense1 = tf.layers.dense(inputs=X, units=256, activation=tf.nn.relu)\n",
    "dropout1 = tf.nn.dropout(dense1, keep_prob=keep_prob)\n",
    "dense2 = tf.layers.dense(inputs=dropout1, units=256, activation=tf.nn.relu)\n",
    "dropout2 = tf.nn.dropout(dense2, keep_prob=keep_prob)\n",
    "dense3 = tf.layers.dense(inputs=dropout2, units=512, activation=tf.nn.relu)\n",
    "dropout3 = tf.nn.dropout(dense3, keep_prob=keep_prob)\n",
    "#이거 지워보고 돌려보고 \n",
    "dense4 = tf.layers.dense(inputs=dropout3, units=512, activation=tf.nn.relu)\n",
    "dropout4 = tf.nn.dropout(dense4, keep_prob=keep_prob)\n",
    "dense5 = tf.layers.dense(inputs=dropout4, units=256, activation=tf.nn.relu)\n",
    "dropout5 = tf.nn.dropout(dense5, keep_prob=keep_prob)\n",
    "\n",
    "logits= tf.layers.dense(inputs=dropout5, units=4)"
   ]
  },
  {
   "cell_type": "code",
   "execution_count": 15,
   "metadata": {},
   "outputs": [],
   "source": [
    "cost = tf.reduce_mean(tf.nn.softmax_cross_entropy_with_logits_v2(logits=logits, labels=Y))\n",
    "optimizer = tf.train.AdamOptimizer(learning_rate=learning_rate).minimize(cost)"
   ]
  },
  {
   "cell_type": "code",
   "execution_count": 16,
   "metadata": {
    "scrolled": true
   },
   "outputs": [
    {
     "name": "stdout",
     "output_type": "stream",
     "text": [
      "INFO:tensorflow:Restoring parameters from ../../model/Dense/4_dense_model\n"
     ]
    }
   ],
   "source": [
    "# Model Save\n",
    "sess=tf.Session()\n",
    "saver = tf.train.Saver()\n",
    "saver.restore(sess, '../../model/Dense/4_dense_model')"
   ]
  },
  {
   "cell_type": "code",
   "execution_count": 17,
   "metadata": {
    "scrolled": true
   },
   "outputs": [],
   "source": [
    "# Prediction\n",
    "y_pred = sess.run(tf.argmax(logits,1),feed_dict={X: X_test , keep_prob:1}) \n",
    "y_true = sess.run(tf.argmax(y_encoded,1))"
   ]
  },
  {
   "cell_type": "code",
   "execution_count": 18,
   "metadata": {
    "scrolled": false
   },
   "outputs": [
    {
     "name": "stdout",
     "output_type": "stream",
     "text": [
      "F-Score: 0.42\n",
      "Accuracy:  0.41566265060240964\n",
      "              precision    recall  f1-score   support\n",
      "\n",
      "           0       0.57      1.00      0.73         4\n",
      "           1       1.00      0.37      0.54       154\n",
      "           2       0.17      1.00      0.29         4\n",
      "           3       0.05      1.00      0.10         4\n",
      "\n",
      "   micro avg       0.42      0.42      0.42       166\n",
      "   macro avg       0.45      0.84      0.41       166\n",
      "weighted avg       0.95      0.42      0.53       166\n",
      "\n",
      "[[ 4  0  0  0]\n",
      " [ 3 57 20 74]\n",
      " [ 0  0  4  0]\n",
      " [ 0  0  0  4]]\n"
     ]
    },
    {
     "data": {
      "image/png": "[encoded data removed]",
      "text/plain": [
       "<Figure size 1080x648 with 1 Axes>"
      ]
     },
     "metadata": {
      "needs_background": "light"
     },
     "output_type": "display_data"
    },
    {
     "data": {
      "image/png": "[encoded data removed]",
      "text/plain": [
       "<Figure size 1080x648 with 1 Axes>"
      ]
     },
     "metadata": {
      "needs_background": "light"
     },
     "output_type": "display_data"
    }
   ],
   "source": [
    "# Print Result\n",
    "\n",
    "from sklearn.metrics import precision_recall_fscore_support\n",
    "y_true = y_true\n",
    "y_pred = y_pred\n",
    "\n",
    "p,r,f,s = precision_recall_fscore_support(y_true, y_pred, average='micro')\n",
    "print(\"F-Score:\", round(f,2))\n",
    "from sklearn.metrics import accuracy_score\n",
    "print(\"Accuracy: \", accuracy_score(y_true, y_pred))\n",
    "\n",
    "\n",
    "fig = plt.figure(figsize=(15,9))\n",
    "ax = fig.add_subplot(1,1,1)\n",
    "ax.plot(np.linspace(0,len(y_pred), len(y_pred)),y_true, 'x')\n",
    "\n",
    "fig = plt.figure(figsize=(15,9))\n",
    "ax = fig.add_subplot(1,1,1)\n",
    "ax.plot(np.linspace(0,len(y_pred), len(y_pred)),y_pred, 'x')\n",
    "\n",
    "from sklearn.metrics import classification_report\n",
    "print(classification_report(y_true, y_pred))\n",
    "from sklearn.metrics import confusion_matrix\n",
    "print(confusion_matrix(y_true, y_pred))"
   ]
  },
  {
   "cell_type": "code",
   "execution_count": null,
   "metadata": {},
   "outputs": [],
   "source": []
  },
  {
   "cell_type": "code",
   "execution_count": null,
   "metadata": {},
   "outputs": [],
   "source": []
  }
 ],
 "metadata": {
  "kernelspec": {
   "display_name": "Python 3",
   "language": "python",
   "name": "python3"
  },
  "language_info": {
   "codemirror_mode": {
    "name": "ipython",
    "version": 3
   },
   "file_extension": ".py",
   "mimetype": "text/x-python",
   "name": "python",
   "nbconvert_exporter": "python",
   "pygments_lexer": "ipython3",
   "version": "3.6.7"
  }
 },
 "nbformat": 4,
 "nbformat_minor": 2
}
