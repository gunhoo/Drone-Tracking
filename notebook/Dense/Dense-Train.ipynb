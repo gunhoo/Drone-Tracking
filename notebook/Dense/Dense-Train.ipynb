{
 "cells": [
  {
   "cell_type": "code",
   "execution_count": 1,
   "metadata": {},
   "outputs": [],
   "source": [
    "import matplotlib.pyplot as plt\n",
    "%matplotlib inline\n",
    "import IPython.display\n",
    "import librosa.display\n",
    "import numpy as np\n",
    "import librosa\n",
    "import tensorflow as tf\n",
    "import glob"
   ]
  },
  {
   "cell_type": "markdown",
   "metadata": {},
   "source": [
    "### If you have been save the data, you don't have to preprocessing and save the data"
   ]
  },
  {
   "cell_type": "code",
   "execution_count": 2,
   "metadata": {},
   "outputs": [],
   "source": [
    "drone_path = '../../../1m/*.wav'\n",
    "background_path = '../../data/background/*.wav'\n",
    "\n",
    "drone_files = glob.glob(drone_path)\n",
    "background_files = glob.glob(background_path)"
   ]
  },
  {
   "cell_type": "code",
   "execution_count": 3,
   "metadata": {},
   "outputs": [],
   "source": [
    "CHUNK_SIZE = 8192\n",
    "SR = 22050\n",
    "N_MFCC = 16"
   ]
  },
  {
   "cell_type": "code",
   "execution_count": 4,
   "metadata": {},
   "outputs": [],
   "source": [
    "def load(files, sr=22050):\n",
    "    [raw, sr] = librosa.load(files[0], sr=sr)\n",
    "    for f in files[1:]:\n",
    "        [array, sr] = librosa.load(f, sr=sr)\n",
    "        raw = np.hstack((raw, array))\n",
    "    print(raw.shape)\n",
    "    return raw"
   ]
  },
  {
   "cell_type": "code",
   "execution_count": 5,
   "metadata": {},
   "outputs": [
    {
     "name": "stdout",
     "output_type": "stream",
     "text": [
      "(2232320,)\n",
      "(23317637,)\n"
     ]
    }
   ],
   "source": [
    "drone_raw = load(drone_files)\n",
    "background_raw = load(background_files)"
   ]
  },
  {
   "cell_type": "markdown",
   "metadata": {},
   "source": [
    "# Data preprocessing"
   ]
  },
  {
   "cell_type": "markdown",
   "metadata": {},
   "source": [
    "Chose `mfcc4` among functions below:\n",
    "- input size 16x16; `n_mfcc=16`, used first 16 data points from 16x17 mfcc of a chunk with size 8192\n",
    "- chunk siez 8192, overlapped half of it"
   ]
  },
  {
   "cell_type": "code",
   "execution_count": 6,
   "metadata": {},
   "outputs": [],
   "source": [
    "def mfcc4(raw, label, chunk_size=8192, window_size=4096, sr=22050, n_mfcc=16, n_frame=16):\n",
    "    mfcc = np.empty((0, n_mfcc, n_frame))\n",
    "    y = []\n",
    "    print(raw.shape)\n",
    "    for i in range(0, len(raw), chunk_size//2):\n",
    "        mfcc_slice = librosa.feature.mfcc(raw[i:i+chunk_size], sr=sr, n_mfcc=n_mfcc) #n_mfcc,17\n",
    "        if mfcc_slice.shape[1] < 17:\n",
    "            print(\"small end:\", mfcc_slice.shape)\n",
    "            continue\n",
    "        mfcc_slice = mfcc_slice[:,:-1]\n",
    "        mfcc_slice = mfcc_slice.reshape((1, mfcc_slice.shape[0], mfcc_slice.shape[1]))\n",
    "        mfcc = np.vstack((mfcc, mfcc_slice))\n",
    "        y.append(label)\n",
    "    y = np.array(y)\n",
    "    return mfcc, y"
   ]
  },
  {
   "cell_type": "code",
   "execution_count": 7,
   "metadata": {},
   "outputs": [
    {
     "name": "stdout",
     "output_type": "stream",
     "text": [
      "(2232320,)\n",
      "small end: (16, 9)\n",
      "(23317637,)\n",
      "small end: (16, 15)\n",
      "small end: (16, 7)\n",
      "(544, 16, 16) (544,)\n",
      "(5691, 16, 16) (5691,)\n"
     ]
    }
   ],
   "source": [
    "mfcc_drone, y_drone = mfcc4(drone_raw, 1)\n",
    "mfcc_background, y_background = mfcc4(background_raw, 0)\n",
    "\n",
    "print(mfcc_drone.shape, y_drone.shape)\n",
    "print(mfcc_background.shape, y_background.shape)"
   ]
  },
  {
   "cell_type": "code",
   "execution_count": 8,
   "metadata": {},
   "outputs": [
    {
     "name": "stdout",
     "output_type": "stream",
     "text": [
      "(6235, 16, 16) (6235,)\n"
     ]
    }
   ],
   "source": [
    "X = np.concatenate((mfcc_drone, mfcc_background), axis=0)\n",
    "y = np.hstack((y_drone, y_background))\n",
    "print(X.shape, y.shape)"
   ]
  },
  {
   "cell_type": "code",
   "execution_count": 9,
   "metadata": {},
   "outputs": [],
   "source": [
    "X = np.reshape(X,(X.shape[0],-1))"
   ]
  },
  {
   "cell_type": "code",
   "execution_count": 10,
   "metadata": {},
   "outputs": [
    {
     "data": {
      "text/plain": [
       "(6235, 256)"
      ]
     },
     "execution_count": 10,
     "metadata": {},
     "output_type": "execute_result"
    }
   ],
   "source": [
    "X.shape"
   ]
  },
  {
   "cell_type": "code",
   "execution_count": 11,
   "metadata": {},
   "outputs": [
    {
     "name": "stdout",
     "output_type": "stream",
     "text": [
      "(6235, 2)\n"
     ]
    }
   ],
   "source": [
    "n_labels = y.shape[0]\n",
    "n_unique_labels = 2\n",
    "y_encoded = np.zeros((n_labels, n_unique_labels))\n",
    "y_encoded[np.arange(n_labels), y] = 1\n",
    "print(y_encoded.shape)"
   ]
  },
  {
   "cell_type": "code",
   "execution_count": 12,
   "metadata": {},
   "outputs": [],
   "source": [
    "# Split data\n",
    "from sklearn import model_selection\n",
    "X_train, X_test, y_train, y_test = model_selection.train_test_split(X, y_encoded, test_size=0.2, random_state=42)\n",
    "X_train, X_val, y_train, y_val = model_selection.train_test_split(X_train, y_train, test_size=0.2, random_state=42)"
   ]
  },
  {
   "cell_type": "code",
   "execution_count": 13,
   "metadata": {},
   "outputs": [
    {
     "name": "stdout",
     "output_type": "stream",
     "text": [
      "(3990, 256) (3990, 2)\n",
      "(998, 256) (998, 2)\n",
      "(1247, 256) (1247, 2)\n"
     ]
    }
   ],
   "source": [
    "print(X_train.shape,y_train.shape)\n",
    "print(X_val.shape, y_val.shape)\n",
    "print(X_test.shape, y_test.shape)"
   ]
  },
  {
   "cell_type": "code",
   "execution_count": 14,
   "metadata": {},
   "outputs": [],
   "source": [
    "# Save Data\n",
    "np.save('../../model/X_train', X_train)\n",
    "np.save('../../model/X_test', X_test)\n",
    "np.save('../../model/X_val', X_val)\n",
    "np.save('../../model/y_val', y_val)\n",
    "np.save('../../model/y_train', y_train)\n",
    "np.save('../../model/y_test', y_test)"
   ]
  },
  {
   "cell_type": "markdown",
   "metadata": {},
   "source": [
    "### Until this part"
   ]
  },
  {
   "cell_type": "code",
   "execution_count": 15,
   "metadata": {},
   "outputs": [],
   "source": [
    "# Load Data\n",
    "X_train = np.load('../../model/X_train.npy')\n",
    "X_test = np.load('../../model/X_test.npy')\n",
    "X_val = np.load('../../model/X_val.npy')\n",
    "y_val = np.load('../../model/y_val.npy')\n",
    "y_train = np.load('../../model/y_train.npy')\n",
    "y_test = np.load('../../model/y_test.npy')"
   ]
  },
  {
   "cell_type": "markdown",
   "metadata": {},
   "source": [
    "# Experiment 3 - One convolutional layer /w no dropout\n"
   ]
  },
  {
   "cell_type": "markdown",
   "metadata": {},
   "source": [
    "##Experiment 3-2\n",
    "- learning rate 0.005\n",
    "- pooling stride 1x1\n",
    "- #filter 1\n",
    "- best result among every other settings\n",
    "- cost kept fluctuated during training. (0.8 -> 1.3) -- why is that?"
   ]
  },
  {
   "cell_type": "code",
   "execution_count": 16,
   "metadata": {},
   "outputs": [],
   "source": [
    "tf.reset_default_graph()"
   ]
  },
  {
   "cell_type": "code",
   "execution_count": 17,
   "metadata": {},
   "outputs": [],
   "source": [
    "n_mfcc = 16\n",
    "n_frame = 16\n",
    "n_classes = 2\n",
    "n_channels = 1\n",
    "\n",
    "kernel_size = 3\n",
    "stride = 1\n",
    "pad = \"SAME\"\n",
    "\n",
    "learning_rate = 0.0002  # 0.005\n",
    "training_epochs = 500 # 수정해야해"
   ]
  },
  {
   "cell_type": "markdown",
   "metadata": {},
   "source": [
    "# Layer"
   ]
  },
  {
   "cell_type": "markdown",
   "metadata": {},
   "source": [
    "## Experiment\n",
    "- learning rate 0.0002\n",
    "- no cnn/ pooling \n",
    "- just dense with dropout "
   ]
  },
  {
   "cell_type": "code",
   "execution_count": 18,
   "metadata": {},
   "outputs": [],
   "source": [
    "X = tf.placeholder(tf.float32, shape=[None,n_mfcc*n_frame*n_channels])\n",
    "Y = tf.placeholder(tf.float32, shape=[None,n_classes])\n",
    "\n",
    "keep_prob = tf.placeholder(tf.float32)\n",
    "\n",
    "dense1 = tf.layers.dense(inputs=X, units=256, activation=tf.nn.relu)\n",
    "dropout1 = tf.nn.dropout(dense1, keep_prob=keep_prob)\n",
    "dense2 = tf.layers.dense(inputs=dropout1, units=256, activation=tf.nn.relu)\n",
    "dropout2 = tf.nn.dropout(dense2, keep_prob=keep_prob)\n",
    "dense3 = tf.layers.dense(inputs=dropout2, units=512, activation=tf.nn.relu)\n",
    "dropout3 = tf.nn.dropout(dense3, keep_prob=keep_prob)\n",
    "dense4 = tf.layers.dense(inputs=dropout3, units=512, activation=tf.nn.relu)\n",
    "dropout4 = tf.nn.dropout(dense4, keep_prob=keep_prob)\n",
    "dense5 = tf.layers.dense(inputs=dropout4, units=256, activation=tf.nn.relu)\n",
    "dropout5 = tf.nn.dropout(dense5, keep_prob=keep_prob)\n",
    "\n",
    "logits= tf.layers.dense(inputs=dropout5, units=2)"
   ]
  },
  {
   "cell_type": "code",
   "execution_count": 19,
   "metadata": {},
   "outputs": [],
   "source": [
    "cost = tf.reduce_mean(tf.nn.softmax_cross_entropy_with_logits_v2(logits=logits, labels=Y))\n",
    "optimizer = tf.train.AdamOptimizer(learning_rate=learning_rate).minimize(cost)"
   ]
  },
  {
   "cell_type": "code",
   "execution_count": 20,
   "metadata": {},
   "outputs": [],
   "source": [
    "sess = tf.Session()\n",
    "sess.run(tf.global_variables_initializer())"
   ]
  },
  {
   "cell_type": "code",
   "execution_count": 21,
   "metadata": {},
   "outputs": [],
   "source": [
    "# model save\n",
    "model_path = '../../model/Dense/dense_model'\n",
    "saver = tf.train.Saver()"
   ]
  },
  {
   "cell_type": "markdown",
   "metadata": {},
   "source": [
    "# Trainning"
   ]
  },
  {
   "cell_type": "code",
   "execution_count": 22,
   "metadata": {},
   "outputs": [],
   "source": [
    "import math"
   ]
  },
  {
   "cell_type": "code",
   "execution_count": 23,
   "metadata": {
    "scrolled": false
   },
   "outputs": [],
   "source": [
    "with tf.name_scope(\"eval\"):\n",
    "    correct = tf.nn.in_top_k(logits, y, 1)\n",
    "    accuracy = tf.reduce_mean(tf.cast(correct, tf.float32))\n",
    "#    accuracy_summary = tf.summary.scalar('accuracy', accuracy)"
   ]
  },
  {
   "cell_type": "code",
   "execution_count": 24,
   "metadata": {},
   "outputs": [],
   "source": [
    "from sklearn.metrics import accuracy_score"
   ]
  },
  {
   "cell_type": "code",
   "execution_count": 25,
   "metadata": {
    "scrolled": false
   },
   "outputs": [
    {
     "name": "stdout",
     "output_type": "stream",
     "text": [
      "Epoch: 0001 cost =  0.194588024 \t검증 세트 정확도: 95.691%\n",
      "Epoch: 0002 cost =  0.050430063 \t검증 세트 정확도: 99.198%\n",
      "Epoch: 0003 cost =  0.014611540 \t검증 세트 정확도: 99.699%\n",
      "Epoch: 0004 cost =  0.005062831 \t검증 세트 정확도: 99.699%\n",
      "Epoch: 0005 cost =  0.002776596 \t검증 세트 정확도: 99.699%\n",
      "Epoch: 0006 cost =  0.003217500 \t검증 세트 정확도: 99.800%\n",
      "Epoch: 0007 cost =  0.001705140 \t검증 세트 정확도: 99.900%\n",
      "Epoch: 0008 cost =  0.001940180 \t검증 세트 정확도: 99.900%\n",
      "Epoch: 0009 cost =  0.001466835 \t검증 세트 정확도: 99.900%\n",
      "Epoch: 0010 cost =  0.000942227 \t검증 세트 정확도: 99.900%\n",
      "Epoch: 0011 cost =  0.000588821 \t검증 세트 정확도: 99.900%\n",
      "Epoch: 0012 cost =  0.000322634 \t검증 세트 정확도: 99.900%\n",
      "Epoch: 0013 cost =  0.000554964 \t검증 세트 정확도: 99.800%\n",
      "Epoch: 0014 cost =  0.000561606 \t검증 세트 정확도: 99.900%\n",
      "Epoch: 0015 cost =  0.000734121 \t검증 세트 정확도: 99.900%\n",
      "Epoch: 0016 cost =  0.000309085 \t검증 세트 정확도: 99.900%\n",
      "Epoch: 0017 cost =  0.000887444 \t검증 세트 정확도: 99.800%\n",
      "Epoch: 0018 cost =  0.000237247 \t검증 세트 정확도: 99.900%\n",
      "Epoch: 0019 cost =  0.000451222 \t검증 세트 정확도: 99.900%\n",
      "Epoch: 0020 cost =  0.000540880 \t검증 세트 정확도: 99.900%\n",
      "Epoch: 0021 cost =  0.000324997 \t검증 세트 정확도: 99.900%\n",
      "Epoch: 0022 cost =  0.000309505 \t검증 세트 정확도: 99.900%\n",
      "Epoch: 0023 cost =  0.000387838 \t검증 세트 정확도: 99.900%\n",
      "Epoch: 0024 cost =  0.000276443 \t검증 세트 정확도: 99.900%\n",
      "Epoch: 0025 cost =  0.000092202 \t검증 세트 정확도: 99.900%\n",
      "Epoch: 0026 cost =  0.000268010 \t검증 세트 정확도: 99.800%\n",
      "Epoch: 0027 cost =  0.000236853 \t검증 세트 정확도: 99.900%\n",
      "Epoch: 0028 cost =  0.000490387 \t검증 세트 정확도: 99.900%\n",
      "Epoch: 0029 cost =  0.000610373 \t검증 세트 정확도: 99.900%\n",
      "Epoch: 0030 cost =  0.000415568 \t검증 세트 정확도: 99.800%\n",
      "Epoch: 0031 cost =  0.000450389 \t검증 세트 정확도: 99.900%\n",
      "Epoch: 0032 cost =  0.000049504 \t검증 세트 정확도: 99.699%\n",
      "Epoch: 0033 cost =  0.000031551 \t검증 세트 정확도: 99.699%\n",
      "Epoch: 0034 cost =  0.000184839 \t검증 세트 정확도: 99.800%\n",
      "Epoch: 0035 cost =  0.000247688 \t검증 세트 정확도: 99.800%\n",
      "Epoch: 0036 cost =  0.000191011 \t검증 세트 정확도: 99.800%\n",
      "Epoch: 0037 cost =  0.000074899 \t검증 세트 정확도: 99.900%\n",
      "Epoch: 0038 cost =  0.000106065 \t검증 세트 정확도: 99.599%\n",
      "Epoch: 0039 cost =  0.000049361 \t검증 세트 정확도: 99.900%\n",
      "Epoch: 0040 cost =  0.000231891 \t검증 세트 정확도: 99.800%\n",
      "Epoch: 0041 cost =  0.000160250 \t검증 세트 정확도: 99.900%\n",
      "Epoch: 0042 cost =  0.000328485 \t검증 세트 정확도: 99.900%\n",
      "Epoch: 0043 cost =  0.000445437 \t검증 세트 정확도: 99.499%\n",
      "Epoch: 0044 cost =  0.000645980 \t검증 세트 정확도: 99.900%\n",
      "Epoch: 0045 cost =  0.000145768 \t검증 세트 정확도: 99.699%\n",
      "Epoch: 0046 cost =  0.000028427 \t검증 세트 정확도: 99.900%\n",
      "Epoch: 0047 cost =  0.000069293 \t검증 세트 정확도: 99.900%\n",
      "Epoch: 0048 cost =  0.000043783 \t검증 세트 정확도: 99.599%\n",
      "Epoch: 0049 cost =  0.000222170 \t검증 세트 정확도: 99.900%\n",
      "Epoch: 0050 cost =  0.000093505 \t검증 세트 정확도: 99.900%\n",
      "Epoch: 0051 cost =  0.000757597 \t검증 세트 정확도: 99.399%\n",
      "Epoch: 0052 cost =  0.000130783 \t검증 세트 정확도: 99.399%\n",
      "Epoch: 0053 cost =  0.000124268 \t검증 세트 정확도: 99.900%\n",
      "Epoch: 0054 cost =  0.000071103 \t검증 세트 정확도: 100.000%\n",
      "Epoch: 0055 cost =  0.000196112 \t검증 세트 정확도: 100.000%\n",
      "Epoch: 0056 cost =  0.000218557 \t검증 세트 정확도: 99.900%\n",
      "Epoch: 0057 cost =  0.000076773 \t검증 세트 정확도: 99.800%\n",
      "Epoch: 0058 cost =  0.000110494 \t검증 세트 정확도: 99.900%\n",
      "Epoch: 0059 cost =  0.000298482 \t검증 세트 정확도: 99.599%\n",
      "Epoch: 0060 cost =  0.000150379 \t검증 세트 정확도: 99.900%\n",
      "Epoch: 0061 cost =  0.000386612 \t검증 세트 정확도: 99.900%\n",
      "Epoch: 0062 cost =  0.000002272 \t검증 세트 정확도: 99.900%\n",
      "Epoch: 0063 cost =  0.000000000 \t검증 세트 정확도: 99.900%\n",
      "Epoch: 0064 cost =  0.000030061 \t검증 세트 정확도: 99.900%\n",
      "Epoch: 0065 cost =  0.000033875 \t검증 세트 정확도: 99.900%\n",
      "Epoch: 0066 cost =  0.000437647 \t검증 세트 정확도: 99.800%\n",
      "Epoch: 0067 cost =  0.000004165 \t검증 세트 정확도: 99.900%\n",
      "Epoch: 0068 cost =  0.000000000 \t검증 세트 정확도: 99.900%\n",
      "Epoch: 0069 cost =  0.000000027 \t검증 세트 정확도: 99.900%\n",
      "Epoch: 0070 cost =  0.000000018 \t검증 세트 정확도: 99.900%\n",
      "Epoch: 0071 cost =  0.000274925 \t검증 세트 정확도: 99.900%\n",
      "Epoch: 0072 cost =  0.000883302 \t검증 세트 정확도: 99.800%\n",
      "Epoch: 0073 cost =  0.000244438 \t검증 세트 정확도: 100.000%\n",
      "Epoch: 0074 cost =  0.000010531 \t검증 세트 정확도: 99.900%\n",
      "Epoch: 0075 cost =  0.000000325 \t검증 세트 정확도: 99.900%\n",
      "Epoch: 0076 cost =  0.000159792 \t검증 세트 정확도: 99.800%\n",
      "Epoch: 0077 cost =  0.000009246 \t검증 세트 정확도: 99.900%\n",
      "Epoch: 0078 cost =  0.000092393 \t검증 세트 정확도: 99.699%\n",
      "Epoch: 0079 cost =  0.000005571 \t검증 세트 정확도: 99.900%\n",
      "Epoch: 0080 cost =  0.000000007 \t검증 세트 정확도: 99.900%\n",
      "Epoch: 0081 cost =  0.000388204 \t검증 세트 정확도: 99.900%\n",
      "Epoch: 0082 cost =  0.000000033 \t검증 세트 정확도: 99.900%\n",
      "Epoch: 0083 cost =  0.000296950 \t검증 세트 정확도: 99.900%\n",
      "Epoch: 0084 cost =  0.000182790 \t검증 세트 정확도: 99.900%\n",
      "Epoch: 0085 cost =  0.000278775 \t검증 세트 정확도: 99.599%\n",
      "Epoch: 0086 cost =  0.000032579 \t검증 세트 정확도: 99.900%\n",
      "Epoch: 0087 cost =  0.000044945 \t검증 세트 정확도: 99.900%\n",
      "Epoch: 0088 cost =  0.000054243 \t검증 세트 정확도: 100.000%\n",
      "Epoch: 0089 cost =  0.000019128 \t검증 세트 정확도: 99.900%\n",
      "Epoch: 0090 cost =  0.000000005 \t검증 세트 정확도: 99.900%\n",
      "Epoch: 0091 cost =  0.000006927 \t검증 세트 정확도: 100.000%\n",
      "Epoch: 0092 cost =  0.000000000 \t검증 세트 정확도: 100.000%\n",
      "Epoch: 0093 cost =  0.000134904 \t검증 세트 정확도: 99.900%\n",
      "Epoch: 0094 cost =  0.000035856 \t검증 세트 정확도: 99.499%\n",
      "Epoch: 0095 cost =  0.000007914 \t검증 세트 정확도: 99.900%\n",
      "Epoch: 0096 cost =  0.000000014 \t검증 세트 정확도: 99.900%\n",
      "Epoch: 0097 cost =  0.000000000 \t검증 세트 정확도: 99.900%\n",
      "Epoch: 0098 cost =  0.000000002 \t검증 세트 정확도: 99.900%\n",
      "Epoch: 0099 cost =  0.000000004 \t검증 세트 정확도: 99.900%\n",
      "Epoch: 0100 cost =  0.000099540 \t검증 세트 정확도: 99.900%\n",
      "Epoch: 0101 cost =  0.000000000 \t검증 세트 정확도: 99.900%\n",
      "Epoch: 0102 cost =  0.000000000 \t검증 세트 정확도: 99.900%\n",
      "Epoch: 0103 cost =  0.000376097 \t검증 세트 정확도: 100.000%\n",
      "Epoch: 0104 cost =  0.000003765 \t검증 세트 정확도: 99.900%\n",
      "Epoch: 0105 cost =  0.000000007 \t검증 세트 정확도: 99.900%\n",
      "Epoch: 0106 cost =  0.000065298 \t검증 세트 정확도: 99.699%\n",
      "Epoch: 0107 cost =  0.000021595 \t검증 세트 정확도: 99.800%\n",
      "Epoch: 0108 cost =  0.000070807 \t검증 세트 정확도: 99.900%\n",
      "Epoch: 0109 cost =  0.000000009 \t검증 세트 정확도: 99.900%\n",
      "Epoch: 0110 cost =  0.000000207 \t검증 세트 정확도: 99.900%\n",
      "Epoch: 0111 cost =  0.000000000 \t검증 세트 정확도: 99.900%\n",
      "Epoch: 0112 cost =  0.000000000 \t검증 세트 정확도: 99.900%\n",
      "Epoch: 0113 cost =  0.000120273 \t검증 세트 정확도: 99.800%\n",
      "Epoch: 0114 cost =  0.000476511 \t검증 세트 정확도: 99.900%\n",
      "Epoch: 0115 cost =  0.000060571 \t검증 세트 정확도: 99.900%\n",
      "Epoch: 0116 cost =  0.000067753 \t검증 세트 정확도: 99.900%\n",
      "Epoch: 0117 cost =  0.000000000 \t검증 세트 정확도: 99.900%\n",
      "Epoch: 0118 cost =  0.000000000 \t검증 세트 정확도: 99.900%\n",
      "Epoch: 0119 cost =  0.000000000 \t검증 세트 정확도: 99.900%\n",
      "Epoch: 0120 cost =  0.000000000 \t검증 세트 정확도: 99.900%\n",
      "Epoch: 0121 cost =  0.000000000 \t검증 세트 정확도: 99.900%\n",
      "Epoch: 0122 cost =  0.000000000 \t검증 세트 정확도: 99.900%\n",
      "Epoch: 0123 cost =  0.000000000 \t검증 세트 정확도: 99.900%\n",
      "Epoch: 0124 cost =  0.000000000 \t검증 세트 정확도: 99.900%\n",
      "Epoch: 0125 cost =  0.000000000 \t검증 세트 정확도: 99.900%\n",
      "Epoch: 0126 cost =  0.000274948 \t검증 세트 정확도: 99.800%\n",
      "Epoch: 0127 cost =  0.000174016 \t검증 세트 정확도: 99.800%\n",
      "Epoch: 0128 cost =  0.000023817 \t검증 세트 정확도: 100.000%\n",
      "Epoch: 0129 cost =  0.000081648 \t검증 세트 정확도: 99.800%\n",
      "Epoch: 0130 cost =  0.000365493 \t검증 세트 정확도: 99.900%\n",
      "Epoch: 0131 cost =  0.000001258 \t검증 세트 정확도: 99.900%\n",
      "Epoch: 0132 cost =  0.000000000 \t검증 세트 정확도: 99.900%\n",
      "Epoch: 0133 cost =  0.000008417 \t검증 세트 정확도: 100.000%\n",
      "Epoch: 0134 cost =  0.000079834 \t검증 세트 정확도: 99.900%\n",
      "Epoch: 0135 cost =  0.000000272 \t검증 세트 정확도: 99.900%\n",
      "Epoch: 0136 cost =  0.000037166 \t검증 세트 정확도: 99.900%\n",
      "Epoch: 0137 cost =  0.000021058 \t검증 세트 정확도: 99.900%\n",
      "Epoch: 0138 cost =  0.000000000 \t검증 세트 정확도: 99.900%\n",
      "Epoch: 0139 cost =  0.000016240 \t검증 세트 정확도: 100.000%\n",
      "Epoch: 0140 cost =  0.000044902 \t검증 세트 정확도: 99.800%\n",
      "Epoch: 0141 cost =  0.000126437 \t검증 세트 정확도: 99.900%\n",
      "Epoch: 0142 cost =  0.000000000 \t검증 세트 정확도: 99.900%\n",
      "Epoch: 0143 cost =  0.000419644 \t검증 세트 정확도: 99.900%\n",
      "Epoch: 0144 cost =  0.000000173 \t검증 세트 정확도: 99.900%\n",
      "Epoch: 0145 cost =  0.000000000 \t검증 세트 정확도: 99.900%\n",
      "Epoch: 0146 cost =  0.000000057 \t검증 세트 정확도: 99.900%\n",
      "Epoch: 0147 cost =  0.000000015 \t검증 세트 정확도: 99.900%\n",
      "Epoch: 0148 cost =  0.000392922 \t검증 세트 정확도: 99.900%\n",
      "Epoch: 0149 cost =  0.000000000 \t검증 세트 정확도: 99.900%\n",
      "Epoch: 0150 cost =  0.000000000 \t검증 세트 정확도: 99.900%\n",
      "Epoch: 0151 cost =  0.000026647 \t검증 세트 정확도: 99.800%\n",
      "Epoch: 0152 cost =  0.000071807 \t검증 세트 정확도: 99.800%\n",
      "Epoch: 0153 cost =  0.000001985 \t검증 세트 정확도: 100.000%\n",
      "Epoch: 0154 cost =  0.000216748 \t검증 세트 정확도: 99.900%\n",
      "Epoch: 0155 cost =  0.000106932 \t검증 세트 정확도: 99.900%\n",
      "Epoch: 0156 cost =  0.000000000 \t검증 세트 정확도: 99.900%\n",
      "Epoch: 0157 cost =  0.000000021 \t검증 세트 정확도: 99.900%\n",
      "Epoch: 0158 cost =  0.000000000 \t검증 세트 정확도: 99.900%\n"
     ]
    },
    {
     "name": "stdout",
     "output_type": "stream",
     "text": [
      "Epoch: 0159 cost =  0.000000000 \t검증 세트 정확도: 99.900%\n",
      "Epoch: 0160 cost =  0.000000001 \t검증 세트 정확도: 99.900%\n",
      "Epoch: 0161 cost =  0.000000000 \t검증 세트 정확도: 99.900%\n",
      "Epoch: 0162 cost =  0.000000000 \t검증 세트 정확도: 99.900%\n",
      "Epoch: 0163 cost =  0.000000011 \t검증 세트 정확도: 99.900%\n",
      "Epoch: 0164 cost =  0.000000001 \t검증 세트 정확도: 99.900%\n",
      "Epoch: 0165 cost =  0.000000000 \t검증 세트 정확도: 99.900%\n",
      "Epoch: 0166 cost =  0.000000000 \t검증 세트 정확도: 99.900%\n",
      "Epoch: 0167 cost =  0.000000000 \t검증 세트 정확도: 99.900%\n",
      "Epoch: 0168 cost =  0.000000000 \t검증 세트 정확도: 99.900%\n",
      "Epoch: 0169 cost =  0.000000000 \t검증 세트 정확도: 99.900%\n",
      "Epoch: 0170 cost =  0.000000000 \t검증 세트 정확도: 99.900%\n",
      "Epoch: 0171 cost =  0.000000000 \t검증 세트 정확도: 99.900%\n",
      "Epoch: 0172 cost =  0.000000002 \t검증 세트 정확도: 99.900%\n",
      "Epoch: 0173 cost =  0.000000643 \t검증 세트 정확도: 99.900%\n",
      "Epoch: 0174 cost =  0.000024137 \t검증 세트 정확도: 99.800%\n",
      "Epoch: 0175 cost =  0.000185309 \t검증 세트 정확도: 99.900%\n",
      "Epoch: 0176 cost =  0.000000000 \t검증 세트 정확도: 99.900%\n",
      "Epoch: 0177 cost =  0.000049839 \t검증 세트 정확도: 99.900%\n",
      "Epoch: 0178 cost =  0.000000000 \t검증 세트 정확도: 99.900%\n",
      "Epoch: 0179 cost =  0.000000000 \t검증 세트 정확도: 99.900%\n",
      "Epoch: 0180 cost =  0.000000000 \t검증 세트 정확도: 99.900%\n",
      "Epoch: 0181 cost =  0.000000000 \t검증 세트 정확도: 99.900%\n",
      "Epoch: 0182 cost =  0.000002796 \t검증 세트 정확도: 99.900%\n",
      "Epoch: 0183 cost =  0.000017120 \t검증 세트 정확도: 99.900%\n",
      "Epoch: 0184 cost =  0.000000000 \t검증 세트 정확도: 99.900%\n",
      "Epoch: 0185 cost =  0.000000008 \t검증 세트 정확도: 99.900%\n",
      "Epoch: 0186 cost =  0.000000000 \t검증 세트 정확도: 99.900%\n",
      "Epoch: 0187 cost =  0.000000000 \t검증 세트 정확도: 99.900%\n",
      "Epoch: 0188 cost =  0.000000003 \t검증 세트 정확도: 99.900%\n",
      "Epoch: 0189 cost =  0.000000000 \t검증 세트 정확도: 99.900%\n",
      "Epoch: 0190 cost =  0.000000000 \t검증 세트 정확도: 99.900%\n",
      "Epoch: 0191 cost =  0.000000001 \t검증 세트 정확도: 99.900%\n",
      "Epoch: 0192 cost =  0.000000000 \t검증 세트 정확도: 99.900%\n",
      "Epoch: 0193 cost =  0.000000000 \t검증 세트 정확도: 99.900%\n",
      "Epoch: 0194 cost =  0.000000000 \t검증 세트 정확도: 99.900%\n",
      "Epoch: 0195 cost =  0.000000000 \t검증 세트 정확도: 99.900%\n",
      "Epoch: 0196 cost =  0.000000000 \t검증 세트 정확도: 99.900%\n",
      "Epoch: 0197 cost =  0.000171081 \t검증 세트 정확도: 99.800%\n",
      "Epoch: 0198 cost =  0.000185576 \t검증 세트 정확도: 99.900%\n",
      "Epoch: 0199 cost =  0.000018337 \t검증 세트 정확도: 99.800%\n",
      "Epoch: 0200 cost =  0.000216361 \t검증 세트 정확도: 99.800%\n",
      "Epoch: 0201 cost =  0.000000068 \t검증 세트 정확도: 99.800%\n",
      "Epoch: 0202 cost =  0.000091940 \t검증 세트 정확도: 99.599%\n",
      "Epoch: 0203 cost =  0.000246956 \t검증 세트 정확도: 99.900%\n",
      "Epoch: 0204 cost =  0.000111836 \t검증 세트 정확도: 99.900%\n",
      "Epoch: 0205 cost =  0.000007528 \t검증 세트 정확도: 99.800%\n",
      "Epoch: 0206 cost =  0.000033713 \t검증 세트 정확도: 99.900%\n",
      "Epoch: 0207 cost =  0.000000000 \t검증 세트 정확도: 99.900%\n",
      "Epoch: 0208 cost =  0.000000000 \t검증 세트 정확도: 99.900%\n",
      "Epoch: 0209 cost =  0.000000000 \t검증 세트 정확도: 99.900%\n",
      "Epoch: 0210 cost =  0.000000000 \t검증 세트 정확도: 99.900%\n",
      "Epoch: 0211 cost =  0.000000000 \t검증 세트 정확도: 99.900%\n",
      "Epoch: 0212 cost =  0.000000674 \t검증 세트 정확도: 99.900%\n",
      "Epoch: 0213 cost =  0.000000000 \t검증 세트 정확도: 99.900%\n",
      "Epoch: 0214 cost =  0.000435035 \t검증 세트 정확도: 99.800%\n",
      "Epoch: 0215 cost =  0.000000000 \t검증 세트 정확도: 99.800%\n",
      "Epoch: 0216 cost =  0.000000120 \t검증 세트 정확도: 99.800%\n",
      "Epoch: 0217 cost =  0.000003778 \t검증 세트 정확도: 99.900%\n",
      "Epoch: 0218 cost =  0.000177878 \t검증 세트 정확도: 99.900%\n",
      "Epoch: 0219 cost =  0.000000000 \t검증 세트 정확도: 99.900%\n",
      "Epoch: 0220 cost =  0.000277763 \t검증 세트 정확도: 99.900%\n",
      "Epoch: 0221 cost =  0.000000000 \t검증 세트 정확도: 99.900%\n",
      "Epoch: 0222 cost =  0.000000000 \t검증 세트 정확도: 99.900%\n",
      "Epoch: 0223 cost =  0.000816779 \t검증 세트 정확도: 99.900%\n",
      "Epoch: 0224 cost =  0.000283819 \t검증 세트 정확도: 100.000%\n",
      "Epoch: 0225 cost =  0.000000000 \t검증 세트 정확도: 99.900%\n",
      "Epoch: 0226 cost =  0.000000001 \t검증 세트 정확도: 99.900%\n",
      "Epoch: 0227 cost =  0.000000000 \t검증 세트 정확도: 99.900%\n",
      "Epoch: 0228 cost =  0.000002801 \t검증 세트 정확도: 100.000%\n",
      "Epoch: 0229 cost =  0.000000000 \t검증 세트 정확도: 100.000%\n",
      "Epoch: 0230 cost =  0.000428052 \t검증 세트 정확도: 99.900%\n",
      "Epoch: 0231 cost =  0.000000000 \t검증 세트 정확도: 99.900%\n",
      "Epoch: 0232 cost =  0.000000000 \t검증 세트 정확도: 99.900%\n",
      "Epoch: 0233 cost =  0.000095408 \t검증 세트 정확도: 99.900%\n",
      "Epoch: 0234 cost =  0.000002133 \t검증 세트 정확도: 100.000%\n",
      "Epoch: 0235 cost =  0.000000000 \t검증 세트 정확도: 100.000%\n",
      "Epoch: 0236 cost =  0.000000000 \t검증 세트 정확도: 100.000%\n",
      "Epoch: 0237 cost =  0.000000000 \t검증 세트 정확도: 100.000%\n",
      "Epoch: 0238 cost =  0.000000000 \t검증 세트 정확도: 100.000%\n",
      "Epoch: 0239 cost =  0.000000000 \t검증 세트 정확도: 100.000%\n",
      "Epoch: 0240 cost =  0.000000000 \t검증 세트 정확도: 100.000%\n",
      "Epoch: 0241 cost =  0.000000000 \t검증 세트 정확도: 100.000%\n",
      "Epoch: 0242 cost =  0.000000000 \t검증 세트 정확도: 100.000%\n",
      "Epoch: 0243 cost =  0.000000000 \t검증 세트 정확도: 100.000%\n",
      "Epoch: 0244 cost =  0.000000000 \t검증 세트 정확도: 100.000%\n",
      "Epoch: 0245 cost =  0.000000000 \t검증 세트 정확도: 100.000%\n",
      "Epoch: 0246 cost =  0.000000000 \t검증 세트 정확도: 100.000%\n",
      "Epoch: 0247 cost =  0.000000000 \t검증 세트 정확도: 100.000%\n",
      "Epoch: 0248 cost =  0.000000000 \t검증 세트 정확도: 100.000%\n",
      "Epoch: 0249 cost =  0.000000000 \t검증 세트 정확도: 100.000%\n",
      "Epoch: 0250 cost =  0.000000000 \t검증 세트 정확도: 100.000%\n",
      "Epoch: 0251 cost =  0.000000124 \t검증 세트 정확도: 99.900%\n",
      "Epoch: 0252 cost =  0.000000000 \t검증 세트 정확도: 99.900%\n",
      "Epoch: 0253 cost =  0.000000000 \t검증 세트 정확도: 99.900%\n",
      "Epoch: 0254 cost =  0.000000000 \t검증 세트 정확도: 99.900%\n",
      "Epoch: 0255 cost =  0.000000000 \t검증 세트 정확도: 99.900%\n",
      "Epoch: 0256 cost =  0.000000000 \t검증 세트 정확도: 99.900%\n",
      "Epoch: 0257 cost =  0.000000000 \t검증 세트 정확도: 99.900%\n",
      "Epoch: 0258 cost =  0.000000000 \t검증 세트 정확도: 99.900%\n",
      "Epoch: 0259 cost =  0.000000000 \t검증 세트 정확도: 99.900%\n",
      "Epoch: 0260 cost =  0.000000000 \t검증 세트 정확도: 99.900%\n",
      "Epoch: 0261 cost =  0.000000000 \t검증 세트 정확도: 99.900%\n",
      "Epoch: 0262 cost =  0.000000000 \t검증 세트 정확도: 99.900%\n",
      "Epoch: 0263 cost =  0.000000000 \t검증 세트 정확도: 99.900%\n",
      "Epoch: 0264 cost =  0.000000000 \t검증 세트 정확도: 99.900%\n",
      "Epoch: 0265 cost =  0.000000000 \t검증 세트 정확도: 99.900%\n",
      "Epoch: 0266 cost =  0.000000000 \t검증 세트 정확도: 99.900%\n",
      "Epoch: 0267 cost =  0.000000000 \t검증 세트 정확도: 99.900%\n",
      "Epoch: 0268 cost =  0.000000000 \t검증 세트 정확도: 99.900%\n",
      "Epoch: 0269 cost =  0.000000000 \t검증 세트 정확도: 99.900%\n",
      "Epoch: 0270 cost =  0.000000000 \t검증 세트 정확도: 99.900%\n",
      "Epoch: 0271 cost =  0.000000000 \t검증 세트 정확도: 99.900%\n",
      "Epoch: 0272 cost =  0.000000000 \t검증 세트 정확도: 99.900%\n",
      "Epoch: 0273 cost =  0.000000000 \t검증 세트 정확도: 99.900%\n",
      "Epoch: 0274 cost =  0.000000000 \t검증 세트 정확도: 99.900%\n",
      "Epoch: 0275 cost =  0.000000000 \t검증 세트 정확도: 99.900%\n",
      "Epoch: 0276 cost =  0.000000000 \t검증 세트 정확도: 99.900%\n",
      "Epoch: 0277 cost =  0.000000000 \t검증 세트 정확도: 99.900%\n",
      "Epoch: 0278 cost =  0.000000000 \t검증 세트 정확도: 99.900%\n",
      "Epoch: 0279 cost =  0.000000000 \t검증 세트 정확도: 99.900%\n",
      "Epoch: 0280 cost =  0.000000000 \t검증 세트 정확도: 99.900%\n",
      "Epoch: 0281 cost =  0.000000000 \t검증 세트 정확도: 99.900%\n",
      "Epoch: 0282 cost =  0.000000000 \t검증 세트 정확도: 99.900%\n",
      "Epoch: 0283 cost =  0.000000000 \t검증 세트 정확도: 99.900%\n",
      "Epoch: 0284 cost =  0.000000000 \t검증 세트 정확도: 99.900%\n",
      "Epoch: 0285 cost =  0.000000000 \t검증 세트 정확도: 99.900%\n",
      "Epoch: 0286 cost =  0.000000000 \t검증 세트 정확도: 99.900%\n",
      "Epoch: 0287 cost =  0.000000000 \t검증 세트 정확도: 99.900%\n",
      "Epoch: 0288 cost =  0.000000000 \t검증 세트 정확도: 99.900%\n",
      "Epoch: 0289 cost =  0.000000000 \t검증 세트 정확도: 99.900%\n",
      "Epoch: 0290 cost =  0.000000000 \t검증 세트 정확도: 99.900%\n",
      "Epoch: 0291 cost =  0.000000000 \t검증 세트 정확도: 99.900%\n",
      "Epoch: 0292 cost =  0.000000000 \t검증 세트 정확도: 99.900%\n",
      "Epoch: 0293 cost =  0.000000000 \t검증 세트 정확도: 99.900%\n",
      "Epoch: 0294 cost =  0.000000000 \t검증 세트 정확도: 99.900%\n",
      "Epoch: 0295 cost =  0.000000000 \t검증 세트 정확도: 99.900%\n",
      "Epoch: 0296 cost =  0.000341343 \t검증 세트 정확도: 99.699%\n",
      "Epoch: 0297 cost =  0.000287024 \t검증 세트 정확도: 99.900%\n",
      "Epoch: 0298 cost =  0.000000007 \t검증 세트 정확도: 99.900%\n",
      "Epoch: 0299 cost =  0.000000024 \t검증 세트 정확도: 99.900%\n",
      "Epoch: 0300 cost =  0.000000000 \t검증 세트 정확도: 99.900%\n",
      "Epoch: 0301 cost =  0.000000026 \t검증 세트 정확도: 99.900%\n",
      "Epoch: 0302 cost =  0.000160878 \t검증 세트 정확도: 99.900%\n",
      "Epoch: 0303 cost =  0.000000000 \t검증 세트 정확도: 99.900%\n",
      "Epoch: 0304 cost =  0.000000004 \t검증 세트 정확도: 99.900%\n",
      "Epoch: 0305 cost =  0.000000020 \t검증 세트 정확도: 99.900%\n",
      "Epoch: 0306 cost =  0.000000000 \t검증 세트 정확도: 99.900%\n",
      "Epoch: 0307 cost =  0.000002333 \t검증 세트 정확도: 99.900%\n",
      "Epoch: 0308 cost =  0.000000000 \t검증 세트 정확도: 99.900%\n",
      "Epoch: 0309 cost =  0.000498814 \t검증 세트 정확도: 99.699%\n",
      "Epoch: 0310 cost =  0.000362720 \t검증 세트 정확도: 99.900%\n",
      "Epoch: 0311 cost =  0.000000000 \t검증 세트 정확도: 99.900%\n",
      "Epoch: 0312 cost =  0.000013461 \t검증 세트 정확도: 99.800%\n",
      "Epoch: 0313 cost =  0.000091411 \t검증 세트 정확도: 99.900%\n",
      "Epoch: 0314 cost =  0.000002198 \t검증 세트 정확도: 99.900%\n",
      "Epoch: 0315 cost =  0.000369213 \t검증 세트 정확도: 99.800%\n",
      "Epoch: 0316 cost =  0.000295442 \t검증 세트 정확도: 99.900%\n"
     ]
    },
    {
     "name": "stdout",
     "output_type": "stream",
     "text": [
      "Epoch: 0317 cost =  0.000000000 \t검증 세트 정확도: 99.900%\n",
      "Epoch: 0318 cost =  0.000038699 \t검증 세트 정확도: 99.900%\n",
      "Epoch: 0319 cost =  0.000013568 \t검증 세트 정확도: 99.900%\n",
      "Epoch: 0320 cost =  0.000000000 \t검증 세트 정확도: 99.900%\n",
      "Epoch: 0321 cost =  0.000000000 \t검증 세트 정확도: 99.900%\n",
      "Epoch: 0322 cost =  0.000000000 \t검증 세트 정확도: 99.900%\n",
      "Epoch: 0323 cost =  0.000000000 \t검증 세트 정확도: 99.900%\n",
      "Epoch: 0324 cost =  0.000062690 \t검증 세트 정확도: 99.900%\n",
      "Epoch: 0325 cost =  0.000000000 \t검증 세트 정확도: 99.900%\n",
      "Epoch: 0326 cost =  0.000000000 \t검증 세트 정확도: 99.900%\n",
      "Epoch: 0327 cost =  0.000000000 \t검증 세트 정확도: 99.900%\n",
      "Epoch: 0328 cost =  0.000000000 \t검증 세트 정확도: 99.900%\n",
      "Epoch: 0329 cost =  0.000000000 \t검증 세트 정확도: 99.900%\n",
      "Epoch: 0330 cost =  0.000000001 \t검증 세트 정확도: 99.900%\n",
      "Epoch: 0331 cost =  0.000000000 \t검증 세트 정확도: 99.900%\n",
      "Epoch: 0332 cost =  0.000000000 \t검증 세트 정확도: 99.900%\n",
      "Epoch: 0333 cost =  0.000020028 \t검증 세트 정확도: 99.800%\n",
      "Epoch: 0334 cost =  0.000000000 \t검증 세트 정확도: 99.800%\n",
      "Epoch: 0335 cost =  0.000000000 \t검증 세트 정확도: 99.800%\n",
      "Epoch: 0336 cost =  0.000000000 \t검증 세트 정확도: 99.800%\n",
      "Epoch: 0337 cost =  0.000091114 \t검증 세트 정확도: 100.000%\n",
      "Epoch: 0338 cost =  0.000000000 \t검증 세트 정확도: 100.000%\n",
      "Epoch: 0339 cost =  0.000004229 \t검증 세트 정확도: 99.900%\n",
      "Epoch: 0340 cost =  0.000000000 \t검증 세트 정확도: 99.900%\n",
      "Epoch: 0341 cost =  0.000000000 \t검증 세트 정확도: 99.900%\n",
      "Epoch: 0342 cost =  0.000000000 \t검증 세트 정확도: 99.900%\n",
      "Epoch: 0343 cost =  0.000000000 \t검증 세트 정확도: 99.900%\n",
      "Epoch: 0344 cost =  0.000000000 \t검증 세트 정확도: 99.900%\n",
      "Epoch: 0345 cost =  0.000000000 \t검증 세트 정확도: 99.900%\n",
      "Epoch: 0346 cost =  0.000384858 \t검증 세트 정확도: 99.900%\n",
      "Epoch: 0347 cost =  0.000000000 \t검증 세트 정확도: 99.900%\n",
      "Epoch: 0348 cost =  0.000000000 \t검증 세트 정확도: 99.900%\n",
      "Epoch: 0349 cost =  0.000000000 \t검증 세트 정확도: 99.900%\n",
      "Epoch: 0350 cost =  0.000000000 \t검증 세트 정확도: 99.900%\n",
      "Epoch: 0351 cost =  0.000000000 \t검증 세트 정확도: 99.900%\n",
      "Epoch: 0352 cost =  0.000000000 \t검증 세트 정확도: 99.900%\n",
      "Epoch: 0353 cost =  0.000000000 \t검증 세트 정확도: 99.900%\n",
      "Epoch: 0354 cost =  0.000000000 \t검증 세트 정확도: 99.900%\n",
      "Epoch: 0355 cost =  0.000000000 \t검증 세트 정확도: 99.900%\n",
      "Epoch: 0356 cost =  0.000000125 \t검증 세트 정확도: 99.900%\n",
      "Epoch: 0357 cost =  0.000000000 \t검증 세트 정확도: 99.900%\n",
      "Epoch: 0358 cost =  0.000000000 \t검증 세트 정확도: 99.900%\n",
      "Epoch: 0359 cost =  0.000128748 \t검증 세트 정확도: 99.900%\n",
      "Epoch: 0360 cost =  0.000000000 \t검증 세트 정확도: 99.900%\n",
      "Epoch: 0361 cost =  0.000000000 \t검증 세트 정확도: 99.900%\n",
      "Epoch: 0362 cost =  0.000018083 \t검증 세트 정확도: 99.900%\n",
      "Epoch: 0363 cost =  0.000000000 \t검증 세트 정확도: 99.900%\n",
      "Epoch: 0364 cost =  0.000000000 \t검증 세트 정확도: 99.900%\n",
      "Epoch: 0365 cost =  0.000000000 \t검증 세트 정확도: 99.900%\n",
      "Epoch: 0366 cost =  0.000000000 \t검증 세트 정확도: 99.900%\n",
      "Epoch: 0367 cost =  0.000000000 \t검증 세트 정확도: 99.900%\n",
      "Epoch: 0368 cost =  0.000000000 \t검증 세트 정확도: 99.900%\n",
      "Epoch: 0369 cost =  0.000000000 \t검증 세트 정확도: 99.900%\n",
      "Epoch: 0370 cost =  0.000000000 \t검증 세트 정확도: 99.900%\n",
      "Epoch: 0371 cost =  0.000000000 \t검증 세트 정확도: 99.900%\n",
      "Epoch: 0372 cost =  0.000000000 \t검증 세트 정확도: 99.900%\n",
      "Epoch: 0373 cost =  0.000000000 \t검증 세트 정확도: 99.900%\n",
      "Epoch: 0374 cost =  0.000000000 \t검증 세트 정확도: 99.900%\n",
      "Epoch: 0375 cost =  0.000000000 \t검증 세트 정확도: 99.900%\n",
      "Epoch: 0376 cost =  0.000000000 \t검증 세트 정확도: 99.900%\n",
      "Epoch: 0377 cost =  0.000000000 \t검증 세트 정확도: 99.900%\n",
      "Epoch: 0378 cost =  0.000000000 \t검증 세트 정확도: 99.900%\n",
      "Epoch: 0379 cost =  0.000000000 \t검증 세트 정확도: 99.900%\n",
      "Epoch: 0380 cost =  0.000000000 \t검증 세트 정확도: 99.900%\n",
      "Epoch: 0381 cost =  0.000000000 \t검증 세트 정확도: 99.900%\n",
      "Epoch: 0382 cost =  0.000212200 \t검증 세트 정확도: 99.599%\n",
      "Epoch: 0383 cost =  0.000000000 \t검증 세트 정확도: 99.900%\n",
      "Epoch: 0384 cost =  0.000000001 \t검증 세트 정확도: 99.900%\n",
      "Epoch: 0385 cost =  0.000000011 \t검증 세트 정확도: 99.900%\n",
      "Epoch: 0386 cost =  0.000000000 \t검증 세트 정확도: 99.900%\n",
      "Epoch: 0387 cost =  0.000000000 \t검증 세트 정확도: 99.900%\n",
      "Epoch: 0388 cost =  0.000000000 \t검증 세트 정확도: 99.900%\n",
      "Epoch: 0389 cost =  0.000000000 \t검증 세트 정확도: 99.900%\n",
      "Epoch: 0390 cost =  0.000000000 \t검증 세트 정확도: 99.900%\n",
      "Epoch: 0391 cost =  0.000000000 \t검증 세트 정확도: 99.900%\n",
      "Epoch: 0392 cost =  0.000000001 \t검증 세트 정확도: 99.900%\n",
      "Epoch: 0393 cost =  0.000542386 \t검증 세트 정확도: 99.900%\n",
      "Epoch: 0394 cost =  0.000106055 \t검증 세트 정확도: 99.900%\n",
      "Epoch: 0395 cost =  0.000000001 \t검증 세트 정확도: 99.900%\n",
      "Epoch: 0396 cost =  0.000000000 \t검증 세트 정확도: 99.900%\n",
      "Epoch: 0397 cost =  0.000000000 \t검증 세트 정확도: 99.900%\n",
      "Epoch: 0398 cost =  0.000079039 \t검증 세트 정확도: 99.900%\n",
      "Epoch: 0399 cost =  0.000000000 \t검증 세트 정확도: 99.900%\n",
      "Epoch: 0400 cost =  0.000000000 \t검증 세트 정확도: 99.900%\n",
      "Epoch: 0401 cost =  0.000000000 \t검증 세트 정확도: 99.900%\n",
      "Epoch: 0402 cost =  0.000000000 \t검증 세트 정확도: 99.900%\n",
      "Epoch: 0403 cost =  0.000000000 \t검증 세트 정확도: 99.900%\n",
      "Epoch: 0404 cost =  0.000000013 \t검증 세트 정확도: 99.900%\n",
      "Epoch: 0405 cost =  0.000000000 \t검증 세트 정확도: 99.900%\n",
      "Epoch: 0406 cost =  0.000000056 \t검증 세트 정확도: 99.900%\n",
      "Epoch: 0407 cost =  0.000000000 \t검증 세트 정확도: 99.900%\n",
      "Epoch: 0408 cost =  0.000000000 \t검증 세트 정확도: 99.900%\n",
      "Epoch: 0409 cost =  0.000000000 \t검증 세트 정확도: 99.900%\n",
      "Epoch: 0410 cost =  0.000000000 \t검증 세트 정확도: 99.900%\n",
      "Epoch: 0411 cost =  0.000000000 \t검증 세트 정확도: 99.900%\n",
      "Epoch: 0412 cost =  0.000003710 \t검증 세트 정확도: 99.900%\n",
      "Epoch: 0413 cost =  0.000021423 \t검증 세트 정확도: 99.699%\n",
      "Epoch: 0414 cost =  0.000000057 \t검증 세트 정확도: 99.800%\n",
      "Epoch: 0415 cost =  0.000147016 \t검증 세트 정확도: 99.800%\n",
      "Epoch: 0416 cost =  0.000000001 \t검증 세트 정확도: 99.900%\n",
      "Epoch: 0417 cost =  0.000064188 \t검증 세트 정확도: 100.000%\n",
      "Epoch: 0418 cost =  0.000049759 \t검증 세트 정확도: 99.800%\n",
      "Epoch: 0419 cost =  0.000006916 \t검증 세트 정확도: 99.900%\n",
      "Epoch: 0420 cost =  0.000000000 \t검증 세트 정확도: 99.900%\n",
      "Epoch: 0421 cost =  0.000000000 \t검증 세트 정확도: 99.900%\n",
      "Epoch: 0422 cost =  0.000000000 \t검증 세트 정확도: 99.900%\n",
      "Epoch: 0423 cost =  0.000000000 \t검증 세트 정확도: 99.900%\n",
      "Epoch: 0424 cost =  0.000000000 \t검증 세트 정확도: 99.900%\n",
      "Epoch: 0425 cost =  0.000000000 \t검증 세트 정확도: 99.900%\n",
      "Epoch: 0426 cost =  0.000000000 \t검증 세트 정확도: 99.900%\n",
      "Epoch: 0427 cost =  0.000000000 \t검증 세트 정확도: 99.900%\n",
      "Epoch: 0428 cost =  0.000000000 \t검증 세트 정확도: 99.900%\n",
      "Epoch: 0429 cost =  0.000000000 \t검증 세트 정확도: 99.900%\n",
      "Epoch: 0430 cost =  0.000000000 \t검증 세트 정확도: 99.900%\n",
      "Epoch: 0431 cost =  0.000000000 \t검증 세트 정확도: 99.900%\n",
      "Epoch: 0432 cost =  0.000000000 \t검증 세트 정확도: 99.900%\n",
      "Epoch: 0433 cost =  0.000000000 \t검증 세트 정확도: 99.900%\n",
      "Epoch: 0434 cost =  0.000000000 \t검증 세트 정확도: 99.900%\n",
      "Epoch: 0435 cost =  0.000000000 \t검증 세트 정확도: 99.900%\n",
      "Epoch: 0436 cost =  0.000000000 \t검증 세트 정확도: 99.900%\n",
      "Epoch: 0437 cost =  0.000000000 \t검증 세트 정확도: 99.900%\n",
      "Epoch: 0438 cost =  0.000000000 \t검증 세트 정확도: 99.900%\n",
      "Epoch: 0439 cost =  0.000000000 \t검증 세트 정확도: 99.900%\n",
      "Epoch: 0440 cost =  0.000178484 \t검증 세트 정확도: 100.000%\n",
      "Epoch: 0441 cost =  0.000000000 \t검증 세트 정확도: 100.000%\n",
      "Epoch: 0442 cost =  0.000080086 \t검증 세트 정확도: 99.900%\n",
      "Epoch: 0443 cost =  0.000000393 \t검증 세트 정확도: 99.900%\n",
      "Epoch: 0444 cost =  0.000000000 \t검증 세트 정확도: 99.900%\n",
      "Epoch: 0445 cost =  0.000000144 \t검증 세트 정확도: 99.900%\n",
      "Epoch: 0446 cost =  0.000000000 \t검증 세트 정확도: 99.900%\n",
      "Epoch: 0447 cost =  0.000000000 \t검증 세트 정확도: 99.900%\n",
      "Epoch: 0448 cost =  0.000000000 \t검증 세트 정확도: 99.900%\n",
      "Epoch: 0449 cost =  0.000000000 \t검증 세트 정확도: 99.900%\n",
      "Epoch: 0450 cost =  0.000000000 \t검증 세트 정확도: 99.900%\n",
      "Epoch: 0451 cost =  0.000000000 \t검증 세트 정확도: 99.900%\n",
      "Epoch: 0452 cost =  0.000000000 \t검증 세트 정확도: 99.900%\n",
      "Epoch: 0453 cost =  0.000000000 \t검증 세트 정확도: 99.900%\n",
      "Epoch: 0454 cost =  0.000000000 \t검증 세트 정확도: 99.900%\n",
      "Epoch: 0455 cost =  0.000000000 \t검증 세트 정확도: 99.900%\n",
      "Epoch: 0456 cost =  0.000046294 \t검증 세트 정확도: 99.900%\n",
      "Epoch: 0457 cost =  0.000000000 \t검증 세트 정확도: 99.900%\n",
      "Epoch: 0458 cost =  0.000000000 \t검증 세트 정확도: 99.900%\n",
      "Epoch: 0459 cost =  0.000000000 \t검증 세트 정확도: 99.900%\n",
      "Epoch: 0460 cost =  0.000000000 \t검증 세트 정확도: 99.900%\n",
      "Epoch: 0461 cost =  0.000000000 \t검증 세트 정확도: 99.900%\n",
      "Epoch: 0462 cost =  0.000000000 \t검증 세트 정확도: 99.900%\n",
      "Epoch: 0463 cost =  0.000000000 \t검증 세트 정확도: 99.900%\n",
      "Epoch: 0464 cost =  0.000000000 \t검증 세트 정확도: 99.900%\n",
      "Epoch: 0465 cost =  0.000000000 \t검증 세트 정확도: 99.900%\n",
      "Epoch: 0466 cost =  0.000000000 \t검증 세트 정확도: 99.900%\n",
      "Epoch: 0467 cost =  0.000000000 \t검증 세트 정확도: 99.900%\n",
      "Epoch: 0468 cost =  0.000000000 \t검증 세트 정확도: 99.900%\n",
      "Epoch: 0469 cost =  0.000000000 \t검증 세트 정확도: 99.900%\n",
      "Epoch: 0470 cost =  0.000000000 \t검증 세트 정확도: 99.900%\n",
      "Epoch: 0471 cost =  0.000000001 \t검증 세트 정확도: 99.900%\n",
      "Epoch: 0472 cost =  0.000000000 \t검증 세트 정확도: 99.900%\n",
      "Epoch: 0473 cost =  0.000000000 \t검증 세트 정확도: 99.900%\n",
      "Epoch: 0474 cost =  0.000000000 \t검증 세트 정확도: 99.900%\n"
     ]
    },
    {
     "name": "stdout",
     "output_type": "stream",
     "text": [
      "Epoch: 0475 cost =  0.000000000 \t검증 세트 정확도: 99.900%\n",
      "Epoch: 0476 cost =  0.000000000 \t검증 세트 정확도: 99.900%\n",
      "Epoch: 0477 cost =  0.000000000 \t검증 세트 정확도: 99.900%\n",
      "Epoch: 0478 cost =  0.000000000 \t검증 세트 정확도: 99.900%\n",
      "Epoch: 0479 cost =  0.000000000 \t검증 세트 정확도: 99.900%\n",
      "Epoch: 0480 cost =  0.000000000 \t검증 세트 정확도: 99.900%\n",
      "Epoch: 0481 cost =  0.000000000 \t검증 세트 정확도: 99.900%\n",
      "Epoch: 0482 cost =  0.000000000 \t검증 세트 정확도: 99.900%\n",
      "Epoch: 0483 cost =  0.000000000 \t검증 세트 정확도: 99.900%\n",
      "Epoch: 0484 cost =  0.000000000 \t검증 세트 정확도: 99.900%\n",
      "Epoch: 0485 cost =  0.000000000 \t검증 세트 정확도: 99.900%\n",
      "Epoch: 0486 cost =  0.000000000 \t검증 세트 정확도: 99.900%\n",
      "Epoch: 0487 cost =  0.000000000 \t검증 세트 정확도: 99.900%\n",
      "Epoch: 0488 cost =  0.000003702 \t검증 세트 정확도: 99.800%\n",
      "Epoch: 0489 cost =  0.000000012 \t검증 세트 정확도: 99.800%\n",
      "Epoch: 0490 cost =  0.000009620 \t검증 세트 정확도: 99.900%\n",
      "Epoch: 0491 cost =  0.000000000 \t검증 세트 정확도: 99.900%\n",
      "Epoch: 0492 cost =  0.000000014 \t검증 세트 정확도: 99.900%\n",
      "Epoch: 0493 cost =  0.000000000 \t검증 세트 정확도: 99.900%\n",
      "Epoch: 0494 cost =  0.000000000 \t검증 세트 정확도: 99.900%\n",
      "Epoch: 0495 cost =  0.000000000 \t검증 세트 정확도: 99.900%\n",
      "Epoch: 0496 cost =  0.000000000 \t검증 세트 정확도: 99.900%\n",
      "Epoch: 0497 cost =  0.000000000 \t검증 세트 정확도: 99.900%\n",
      "Epoch: 0498 cost =  0.000000000 \t검증 세트 정확도: 99.900%\n",
      "Epoch: 0499 cost =  0.000000003 \t검증 세트 정확도: 99.900%\n"
     ]
    },
    {
     "data": {
      "text/plain": [
       "'../../model/Dense/dense_model'"
      ]
     },
     "execution_count": 25,
     "metadata": {},
     "output_type": "execute_result"
    }
   ],
   "source": [
    "#original \n",
    "batch_size = 32\n",
    "cost_history = np.empty(shape=[1], dtype=float)\n",
    "with tf.device(\"/gpu:0\"):\n",
    "    for epoch in range(1,500):\n",
    "        avg_cost = 0    \n",
    "    #    total_batch = int(X_train.shape[0] / batch_size)\n",
    "        for i in range( int(math.ceil(len(X_train)/batch_size)) ): # 배치 사이즈로 나눈 나머지 다 돌 수 있게 \n",
    "            x_ = X_train[batch_size * i: batch_size * (i + 1)]\n",
    "            y_ = y_train[batch_size * i: batch_size * (i + 1)]\n",
    "            feed_dict={X:x_, Y:y_, keep_prob:0.6}    \n",
    "            c, _ = sess.run([cost, optimizer], feed_dict=feed_dict)\n",
    "            cost_history = np.append(cost_history,cost)\n",
    "            avg_cost += c\n",
    "        #accuracy_val = sess.run([accuracy], feed_dict={X:X_val, Y:y_val\n",
    "        val_pred = sess.run(tf.argmax(logits,1),feed_dict={X: X_val , keep_prob:1})  \n",
    "        val_true = sess.run(tf.argmax(y_val,1))\n",
    "        accuracy_val = accuracy_score(val_pred, val_true)\n",
    "        print('Epoch:', '%04d' % (epoch), 'cost = ', '{:.9f}'.format(avg_cost / len(X_train)), \"\\t검증 세트 정확도: {:.3f}%\".format(accuracy_val * 100),)\n",
    "saver.save(sess, model_path)\n",
    "\n",
    "#if epoch% 20 == 0:\n",
    "#   save"
   ]
  },
  {
   "cell_type": "markdown",
   "metadata": {},
   "source": [
    "## Prediction"
   ]
  },
  {
   "cell_type": "code",
   "execution_count": 26,
   "metadata": {},
   "outputs": [],
   "source": [
    "y_pred = sess.run(tf.argmax(logits,1),feed_dict={X: X_test , keep_prob:1}) \n",
    "y_true = sess.run(tf.argmax(y_test,1))"
   ]
  },
  {
   "cell_type": "code",
   "execution_count": 27,
   "metadata": {},
   "outputs": [
    {
     "name": "stdout",
     "output_type": "stream",
     "text": [
      "F-Score: 1.0\n",
      "Accuracy:  1.0\n",
      "              precision    recall  f1-score   support\n",
      "\n",
      "           0       1.00      1.00      1.00      1117\n",
      "           1       1.00      1.00      1.00       130\n",
      "\n",
      "   micro avg       1.00      1.00      1.00      1247\n",
      "   macro avg       1.00      1.00      1.00      1247\n",
      "weighted avg       1.00      1.00      1.00      1247\n",
      "\n",
      "[[1117    0]\n",
      " [   0  130]]\n"
     ]
    }
   ],
   "source": [
    "# Ptint Result\n",
    "\n",
    "from sklearn.metrics import precision_recall_fscore_support\n",
    "p,r,f,s = precision_recall_fscore_support(y_true, y_pred, average='micro')\n",
    "print(\"F-Score:\", round(f,3))\n",
    "from sklearn.metrics import accuracy_score\n",
    "print(\"Accuracy: \", accuracy_score(y_true, y_pred))\n",
    "\n",
    "from sklearn.metrics import classification_report\n",
    "print(classification_report(y_true, y_pred))\n",
    "from sklearn.metrics import confusion_matrix\n",
    "print(confusion_matrix(y_true, y_pred))"
   ]
  }
 ],
 "metadata": {
  "kernelspec": {
   "display_name": "Python 3",
   "language": "python",
   "name": "python3"
  },
  "language_info": {
   "codemirror_mode": {
    "name": "ipython",
    "version": 3
   },
   "file_extension": ".py",
   "mimetype": "text/x-python",
   "name": "python",
   "nbconvert_exporter": "python",
   "pygments_lexer": "ipython3",
   "version": "3.6.7"
  }
 },
 "nbformat": 4,
 "nbformat_minor": 2
}
