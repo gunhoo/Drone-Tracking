{
 "cells": [
  {
   "cell_type": "code",
   "execution_count": 1,
   "metadata": {},
   "outputs": [],
   "source": [
    "import matplotlib.pyplot as plt\n",
    "%matplotlib inline\n",
    "import IPython.display\n",
    "import librosa.display\n",
    "import numpy as np\n",
    "import librosa\n",
    "import tensorflow as tf\n",
    "import glob"
   ]
  },
  {
   "cell_type": "markdown",
   "metadata": {},
   "source": [
    "### If you have been save the data, you don't have to preprocessing and save the data"
   ]
  },
  {
   "cell_type": "code",
   "execution_count": 2,
   "metadata": {},
   "outputs": [],
   "source": [
    "c_drone_path = '../../data/1m/*.wav'\n",
    "cm_drone_path = '../../data/10m/*.wav'\n",
    "m_drone_path = '../../data/20m/*.wav'\n",
    "f_drone_path = '../../data/50m/*.wav'\n",
    "background_path = '../../data/background/*.wav'\n",
    "\n",
    "c_drone_files = glob.glob(c_drone_path)\n",
    "cm_drone_files = glob.glob(cm_drone_path)\n",
    "m_drone_files = glob.glob(m_drone_path)\n",
    "f_drone_files = glob.glob(f_drone_path)\n",
    "background_files = glob.glob(background_path)"
   ]
  },
  {
   "cell_type": "code",
   "execution_count": 3,
   "metadata": {},
   "outputs": [],
   "source": [
    "CHUNK_SIZE = 8192\n",
    "SR = 22050\n",
    "N_MFCC = 16"
   ]
  },
  {
   "cell_type": "code",
   "execution_count": 4,
   "metadata": {},
   "outputs": [],
   "source": [
    "def load(files, sr=22050):\n",
    "    [raw, sr] = librosa.load(files[0], sr=sr)\n",
    "    for f in files[1:]:\n",
    "        [array, sr] = librosa.load(f, sr=sr)\n",
    "        raw = np.hstack((raw, array))\n",
    "    print(raw.shape)\n",
    "    return raw"
   ]
  },
  {
   "cell_type": "code",
   "execution_count": 5,
   "metadata": {},
   "outputs": [
    {
     "name": "stdout",
     "output_type": "stream",
     "text": [
      "(2600960,)\n",
      "(2748416,)\n",
      "(2637824,)\n",
      "(2723840,)\n",
      "(6032517,)\n"
     ]
    }
   ],
   "source": [
    "c_drone_raw = load(c_drone_files)\n",
    "cm_drone_raw = load(cm_drone_files)\n",
    "m_drone_raw = load(m_drone_files)\n",
    "f_drone_raw = load(f_drone_files)\n",
    "background_raw = load(background_files)"
   ]
  },
  {
   "cell_type": "markdown",
   "metadata": {},
   "source": [
    "# Data preprocessing"
   ]
  },
  {
   "cell_type": "markdown",
   "metadata": {},
   "source": [
    "Chose `mfcc4` among functions below:\n",
    "- input size 16x16; `n_mfcc=16`, used first 16 data points from 16x17 mfcc of a chunk with size 8192\n",
    "- chunk siez 8192, overlapped half of it"
   ]
  },
  {
   "cell_type": "code",
   "execution_count": 6,
   "metadata": {},
   "outputs": [],
   "source": [
    "def mfcc4(raw, label, chunk_size=8192, window_size=4096, sr=22050, n_mfcc=16, n_frame=16):\n",
    "    mfcc = np.empty((0, n_mfcc, n_frame))\n",
    "    y = []\n",
    "    print(raw.shape)\n",
    "    for i in range(0, len(raw), chunk_size//2):\n",
    "        mfcc_slice = librosa.feature.mfcc(raw[i:i+chunk_size], sr=sr, n_mfcc=n_mfcc) #n_mfcc,17\n",
    "        if mfcc_slice.shape[1] < 17:\n",
    "            print(\"small end:\", mfcc_slice.shape)\n",
    "            continue\n",
    "        mfcc_slice = mfcc_slice[:,:-1]\n",
    "        mfcc_slice = mfcc_slice.reshape((1, mfcc_slice.shape[0], mfcc_slice.shape[1]))\n",
    "        mfcc = np.vstack((mfcc, mfcc_slice))\n",
    "        y.append(label)\n",
    "    y = np.array(y)\n",
    "    return mfcc, y"
   ]
  },
  {
   "cell_type": "code",
   "execution_count": 7,
   "metadata": {},
   "outputs": [
    {
     "name": "stdout",
     "output_type": "stream",
     "text": [
      "(2600960,)\n",
      "small end: (16, 9)\n",
      "(2748416,)\n",
      "small end: (16, 9)\n",
      "(2637824,)\n",
      "small end: (16, 9)\n",
      "(2723840,)\n",
      "small end: (16, 9)\n",
      "(6032517,)\n",
      "small end: (16, 15)\n",
      "small end: (16, 7)\n",
      "(634, 16, 16) (634,)\n",
      "(670, 16, 16) (670,)\n",
      "(643, 16, 16) (643,)\n",
      "(664, 16, 16) (664,)\n",
      "(1471, 16, 16) (1471,)\n"
     ]
    }
   ],
   "source": [
    "c_mfcc_drone, c_y_drone = mfcc4(c_drone_raw, 4)\n",
    "cm_mfcc_drone, cm_y_drone = mfcc4(cm_drone_raw, 3)\n",
    "m_mfcc_drone, m_y_drone = mfcc4(m_drone_raw, 2)\n",
    "f_mfcc_drone, f_y_drone = mfcc4(f_drone_raw, 1)\n",
    "mfcc_background, y_background = mfcc4(background_raw, 0)\n",
    "\n",
    "print(c_mfcc_drone.shape, c_y_drone.shape)\n",
    "print(cm_mfcc_drone.shape, cm_y_drone.shape)\n",
    "print(m_mfcc_drone.shape, m_y_drone.shape)\n",
    "print(f_mfcc_drone.shape, f_y_drone.shape)\n",
    "print(mfcc_background.shape, y_background.shape)"
   ]
  },
  {
   "cell_type": "code",
   "execution_count": 8,
   "metadata": {},
   "outputs": [
    {
     "name": "stdout",
     "output_type": "stream",
     "text": [
      "(4082, 16, 16) (4082,)\n"
     ]
    }
   ],
   "source": [
    "X = np.concatenate((c_mfcc_drone,cm_mfcc_drone,m_mfcc_drone,f_mfcc_drone, mfcc_background), axis=0)\n",
    "y = np.hstack((c_y_drone, cm_y_drone, m_y_drone, f_y_drone, y_background))\n",
    "print(X.shape, y.shape)"
   ]
  },
  {
   "cell_type": "code",
   "execution_count": 9,
   "metadata": {},
   "outputs": [],
   "source": [
    "X = np.reshape(X,(X.shape[0],-1))"
   ]
  },
  {
   "cell_type": "code",
   "execution_count": 10,
   "metadata": {},
   "outputs": [
    {
     "data": {
      "text/plain": [
       "(4082, 256)"
      ]
     },
     "execution_count": 10,
     "metadata": {},
     "output_type": "execute_result"
    }
   ],
   "source": [
    "X.shape"
   ]
  },
  {
   "cell_type": "code",
   "execution_count": 11,
   "metadata": {},
   "outputs": [
    {
     "name": "stdout",
     "output_type": "stream",
     "text": [
      "(4082, 5)\n"
     ]
    }
   ],
   "source": [
    "n_labels = y.shape[0]\n",
    "n_unique_labels = 5\n",
    "y_encoded = np.zeros((n_labels, n_unique_labels))\n",
    "y_encoded[np.arange(n_labels), y] = 1\n",
    "print(y_encoded.shape)"
   ]
  },
  {
   "cell_type": "code",
   "execution_count": 12,
   "metadata": {},
   "outputs": [],
   "source": [
    "# Split data\n",
    "from sklearn import model_selection\n",
    "X_train, X_test, y_train, y_test = model_selection.train_test_split(X, y_encoded, test_size=0.2, random_state=42)\n",
    "X_train, X_val, y_train, y_val = model_selection.train_test_split(X_train, y_train, test_size=0.2, random_state=42)"
   ]
  },
  {
   "cell_type": "code",
   "execution_count": 13,
   "metadata": {},
   "outputs": [
    {
     "name": "stdout",
     "output_type": "stream",
     "text": [
      "(2612, 256) (2612, 5)\n",
      "(653, 256) (653, 5)\n",
      "(817, 256) (817, 5)\n"
     ]
    }
   ],
   "source": [
    "print(X_train.shape,y_train.shape)\n",
    "print(X_val.shape, y_val.shape)\n",
    "print(X_test.shape, y_test.shape)"
   ]
  },
  {
   "cell_type": "code",
   "execution_count": 14,
   "metadata": {},
   "outputs": [],
   "source": [
    "# Save Data\n",
    "np.save('../../model/X_train', X_train)\n",
    "np.save('../../model/X_test', X_test)\n",
    "np.save('../../model/X_val', X_val)\n",
    "np.save('../../model/y_val', y_val)\n",
    "np.save('../../model/y_train', y_train)\n",
    "np.save('../../model/y_test', y_test)"
   ]
  },
  {
   "cell_type": "markdown",
   "metadata": {},
   "source": [
    "### Until this part"
   ]
  },
  {
   "cell_type": "code",
   "execution_count": 15,
   "metadata": {},
   "outputs": [],
   "source": [
    "# Load Data\n",
    "X_train = np.load('../../model/X_train.npy')\n",
    "X_test = np.load('../../model/X_test.npy')\n",
    "X_val = np.load('../../model/X_val.npy')\n",
    "y_val = np.load('../../model/y_val.npy')\n",
    "y_train = np.load('../../model/y_train.npy')\n",
    "y_test = np.load('../../model/y_test.npy')"
   ]
  },
  {
   "cell_type": "markdown",
   "metadata": {},
   "source": [
    "# Experiment 3 - One convolutional layer /w no dropout\n"
   ]
  },
  {
   "cell_type": "markdown",
   "metadata": {},
   "source": [
    "##Experiment 3-2\n",
    "- learning rate 0.005\n",
    "- pooling stride 1x1\n",
    "- #filter 1\n",
    "- best result among every other settings\n",
    "- cost kept fluctuated during training. (0.8 -> 1.3) -- why is that?"
   ]
  },
  {
   "cell_type": "code",
   "execution_count": 16,
   "metadata": {},
   "outputs": [],
   "source": [
    "tf.reset_default_graph()"
   ]
  },
  {
   "cell_type": "code",
   "execution_count": 17,
   "metadata": {},
   "outputs": [],
   "source": [
    "n_mfcc = 16\n",
    "n_frame = 16\n",
    "n_classes = 5\n",
    "n_channels = 1\n",
    "\n",
    "kernel_size = 3\n",
    "stride = 1\n",
    "pad = \"SAME\"\n",
    "\n",
    "learning_rate = 0.0002  # 0.005\n",
    "training_epochs = 200 # 수정해야해"
   ]
  },
  {
   "cell_type": "markdown",
   "metadata": {},
   "source": [
    "# Layer"
   ]
  },
  {
   "cell_type": "markdown",
   "metadata": {},
   "source": [
    "## Experiment\n",
    "- learning rate 0.0002\n",
    "- no cnn/ pooling \n",
    "- just dense with dropout "
   ]
  },
  {
   "cell_type": "code",
   "execution_count": 18,
   "metadata": {},
   "outputs": [],
   "source": [
    "X = tf.placeholder(tf.float32, shape=[None,n_mfcc*n_frame*n_channels])\n",
    "Y = tf.placeholder(tf.float32, shape=[None,n_classes])\n",
    "\n",
    "keep_prob = tf.placeholder(tf.float32)\n",
    "\n",
    "dense1 = tf.layers.dense(inputs=X, units=256, activation=tf.nn.relu)\n",
    "dropout1 = tf.nn.dropout(dense1, keep_prob=keep_prob)\n",
    "dense2 = tf.layers.dense(inputs=dropout1, units=256, activation=tf.nn.relu)\n",
    "dropout2 = tf.nn.dropout(dense2, keep_prob=keep_prob)\n",
    "dense3 = tf.layers.dense(inputs=dropout2, units=512, activation=tf.nn.relu)\n",
    "dropout3 = tf.nn.dropout(dense3, keep_prob=keep_prob)\n",
    "dense4 = tf.layers.dense(inputs=dropout3, units=512, activation=tf.nn.relu)\n",
    "dropout4 = tf.nn.dropout(dense4, keep_prob=keep_prob)\n",
    "dense5 = tf.layers.dense(inputs=dropout4, units=256, activation=tf.nn.relu)\n",
    "dropout5 = tf.nn.dropout(dense5, keep_prob=keep_prob)\n",
    "\n",
    "logits= tf.layers.dense(inputs=dropout5, units=5)"
   ]
  },
  {
   "cell_type": "code",
   "execution_count": 19,
   "metadata": {},
   "outputs": [],
   "source": [
    "cost = tf.reduce_mean(tf.nn.softmax_cross_entropy_with_logits_v2(logits=logits, labels=Y))\n",
    "optimizer = tf.train.AdamOptimizer(learning_rate=learning_rate).minimize(cost)"
   ]
  },
  {
   "cell_type": "code",
   "execution_count": 20,
   "metadata": {},
   "outputs": [],
   "source": [
    "sess = tf.Session()\n",
    "sess.run(tf.global_variables_initializer())"
   ]
  },
  {
   "cell_type": "code",
   "execution_count": 21,
   "metadata": {},
   "outputs": [],
   "source": [
    "# model save\n",
    "model_path = '../../model/Dense/4_dense_model'\n",
    "saver = tf.train.Saver()"
   ]
  },
  {
   "cell_type": "markdown",
   "metadata": {},
   "source": [
    "# Trainning"
   ]
  },
  {
   "cell_type": "code",
   "execution_count": 22,
   "metadata": {},
   "outputs": [],
   "source": [
    "import math"
   ]
  },
  {
   "cell_type": "code",
   "execution_count": 23,
   "metadata": {
    "scrolled": false
   },
   "outputs": [],
   "source": [
    "with tf.name_scope(\"eval\"):\n",
    "    correct = tf.nn.in_top_k(logits, y, 1)\n",
    "    accuracy = tf.reduce_mean(tf.cast(correct, tf.float32))\n",
    "#    accuracy_summary = tf.summary.scalar('accuracy', accuracy)"
   ]
  },
  {
   "cell_type": "code",
   "execution_count": 24,
   "metadata": {},
   "outputs": [],
   "source": [
    "from sklearn.metrics import accuracy_score"
   ]
  },
  {
   "cell_type": "code",
   "execution_count": 25,
   "metadata": {
    "scrolled": false
   },
   "outputs": [
    {
     "name": "stdout",
     "output_type": "stream",
     "text": [
      "Epoch: 0001 cost =  1.232716564 \t검증 세트 정확도: 43.185%\n",
      "Epoch: 0002 cost =  0.397567459 \t검증 세트 정확도: 39.663%\n",
      "Epoch: 0003 cost =  0.203165970 \t검증 세트 정확도: 45.636%\n",
      "Epoch: 0004 cost =  0.130873869 \t검증 세트 정확도: 49.311%\n",
      "Epoch: 0005 cost =  0.091640627 \t검증 세트 정확도: 47.167%\n",
      "Epoch: 0006 cost =  0.069793503 \t검증 세트 정확도: 57.121%\n",
      "Epoch: 0007 cost =  0.058325699 \t검증 세트 정확도: 62.787%\n",
      "Epoch: 0008 cost =  0.051268557 \t검증 세트 정확도: 67.381%\n",
      "Epoch: 0009 cost =  0.046255898 \t검증 세트 정확도: 70.291%\n",
      "Epoch: 0010 cost =  0.043543846 \t검증 세트 정확도: 75.651%\n",
      "Epoch: 0011 cost =  0.038959113 \t검증 세트 정확도: 75.498%\n",
      "Epoch: 0012 cost =  0.037450718 \t검증 세트 정확도: 79.173%\n",
      "Epoch: 0013 cost =  0.035204150 \t검증 세트 정확도: 75.345%\n",
      "Epoch: 0014 cost =  0.033616620 \t검증 세트 정확도: 84.074%\n",
      "Epoch: 0015 cost =  0.032714984 \t검증 세트 정확도: 77.489%\n",
      "Epoch: 0016 cost =  0.031485110 \t검증 세트 정확도: 77.795%\n",
      "Epoch: 0017 cost =  0.029792272 \t검증 세트 정확도: 82.542%\n",
      "Epoch: 0018 cost =  0.028756371 \t검증 세트 정확도: 84.533%\n",
      "Epoch: 0019 cost =  0.027529770 \t검증 세트 정확도: 80.858%\n",
      "Epoch: 0020 cost =  0.027120268 \t검증 세트 정확도: 80.858%\n",
      "Epoch: 0021 cost =  0.024462144 \t검증 세트 정확도: 78.101%\n",
      "Epoch: 0022 cost =  0.023572347 \t검증 세트 정확도: 84.992%\n",
      "Epoch: 0023 cost =  0.022639417 \t검증 세트 정확도: 86.217%\n",
      "Epoch: 0024 cost =  0.022098675 \t검증 세트 정확도: 88.055%\n",
      "Epoch: 0025 cost =  0.021099487 \t검증 세트 정확도: 88.821%\n",
      "Epoch: 0026 cost =  0.019356527 \t검증 세트 정확도: 89.893%\n",
      "Epoch: 0027 cost =  0.019699913 \t검증 세트 정확도: 90.199%\n",
      "Epoch: 0028 cost =  0.017607890 \t검증 세트 정확도: 88.208%\n",
      "Epoch: 0029 cost =  0.017905947 \t검증 세트 정확도: 90.505%\n",
      "Epoch: 0030 cost =  0.015955178 \t검증 세트 정확도: 91.577%\n",
      "Epoch: 0031 cost =  0.015721211 \t검증 세트 정확도: 90.658%\n",
      "Epoch: 0032 cost =  0.013992020 \t검증 세트 정확도: 91.118%\n",
      "Epoch: 0033 cost =  0.014189539 \t검증 세트 정확도: 90.965%\n",
      "Epoch: 0034 cost =  0.012675567 \t검증 세트 정확도: 90.352%\n",
      "Epoch: 0035 cost =  0.012702823 \t검증 세트 정확도: 92.190%\n",
      "Epoch: 0036 cost =  0.012953655 \t검증 세트 정확도: 92.037%\n",
      "Epoch: 0037 cost =  0.010821214 \t검증 세트 정확도: 93.262%\n",
      "Epoch: 0038 cost =  0.010554970 \t검증 세트 정확도: 92.190%\n",
      "Epoch: 0039 cost =  0.011550961 \t검증 세트 정확도: 92.956%\n",
      "Epoch: 0040 cost =  0.009849456 \t검증 세트 정확도: 92.956%\n",
      "Epoch: 0041 cost =  0.009795774 \t검증 세트 정확도: 93.262%\n",
      "Epoch: 0042 cost =  0.009328624 \t검증 세트 정확도: 93.262%\n",
      "Epoch: 0043 cost =  0.008975322 \t검증 세트 정확도: 94.334%\n",
      "Epoch: 0044 cost =  0.008671152 \t검증 세트 정확도: 94.334%\n",
      "Epoch: 0045 cost =  0.008430383 \t검증 세트 정확도: 95.559%\n",
      "Epoch: 0046 cost =  0.007626980 \t검증 세트 정확도: 94.640%\n",
      "Epoch: 0047 cost =  0.007609294 \t검증 세트 정확도: 94.946%\n",
      "Epoch: 0048 cost =  0.007681900 \t검증 세트 정확도: 93.262%\n",
      "Epoch: 0049 cost =  0.007834537 \t검증 세트 정확도: 95.559%\n",
      "Epoch: 0050 cost =  0.007693310 \t검증 세트 정확도: 94.946%\n",
      "Epoch: 0051 cost =  0.007135801 \t검증 세트 정확도: 95.712%\n",
      "Epoch: 0052 cost =  0.007307570 \t검증 세트 정확도: 96.018%\n",
      "Epoch: 0053 cost =  0.007065765 \t검증 세트 정확도: 96.631%\n",
      "Epoch: 0054 cost =  0.006290845 \t검증 세트 정확도: 95.406%\n",
      "Epoch: 0055 cost =  0.005881769 \t검증 세트 정확도: 95.865%\n",
      "Epoch: 0056 cost =  0.006351488 \t검증 세트 정확도: 95.406%\n",
      "Epoch: 0057 cost =  0.006276653 \t검증 세트 정확도: 95.253%\n",
      "Epoch: 0058 cost =  0.006915201 \t검증 세트 정확도: 96.018%\n",
      "Epoch: 0059 cost =  0.005719835 \t검증 세트 정확도: 97.090%\n",
      "Epoch: 0060 cost =  0.006309622 \t검증 세트 정확도: 95.712%\n",
      "Epoch: 0061 cost =  0.005681598 \t검증 세트 정확도: 96.631%\n",
      "Epoch: 0062 cost =  0.005247351 \t검증 세트 정확도: 95.559%\n",
      "Epoch: 0063 cost =  0.005088087 \t검증 세트 정확도: 96.172%\n",
      "Epoch: 0064 cost =  0.005073805 \t검증 세트 정확도: 96.018%\n",
      "Epoch: 0065 cost =  0.005565246 \t검증 세트 정확도: 96.937%\n",
      "Epoch: 0066 cost =  0.005016507 \t검증 세트 정확도: 96.325%\n",
      "Epoch: 0067 cost =  0.004669520 \t검증 세트 정확도: 96.937%\n",
      "Epoch: 0068 cost =  0.004893798 \t검증 세트 정확도: 96.784%\n",
      "Epoch: 0069 cost =  0.004805269 \t검증 세트 정확도: 96.631%\n",
      "Epoch: 0070 cost =  0.004637393 \t검증 세트 정확도: 97.243%\n",
      "Epoch: 0071 cost =  0.005432927 \t검증 세트 정확도: 97.090%\n",
      "Epoch: 0072 cost =  0.004360280 \t검증 세트 정확도: 96.631%\n",
      "Epoch: 0073 cost =  0.005361130 \t검증 세트 정확도: 96.784%\n",
      "Epoch: 0074 cost =  0.004182415 \t검증 세트 정확도: 96.631%\n",
      "Epoch: 0075 cost =  0.004249673 \t검증 세트 정확도: 96.784%\n",
      "Epoch: 0076 cost =  0.004131294 \t검증 세트 정확도: 96.631%\n",
      "Epoch: 0077 cost =  0.004683393 \t검증 세트 정확도: 96.631%\n",
      "Epoch: 0078 cost =  0.003700404 \t검증 세트 정확도: 97.397%\n",
      "Epoch: 0079 cost =  0.004163194 \t검증 세트 정확도: 97.090%\n",
      "Epoch: 0080 cost =  0.003736546 \t검증 세트 정확도: 96.631%\n",
      "Epoch: 0081 cost =  0.003987068 \t검증 세트 정확도: 97.090%\n",
      "Epoch: 0082 cost =  0.003584189 \t검증 세트 정확도: 96.784%\n",
      "Epoch: 0083 cost =  0.004082813 \t검증 세트 정확도: 96.937%\n",
      "Epoch: 0084 cost =  0.003357335 \t검증 세트 정확도: 97.243%\n",
      "Epoch: 0085 cost =  0.003670254 \t검증 세트 정확도: 96.018%\n",
      "Epoch: 0086 cost =  0.004044732 \t검증 세트 정확도: 96.937%\n",
      "Epoch: 0087 cost =  0.003721015 \t검증 세트 정확도: 97.243%\n",
      "Epoch: 0088 cost =  0.003387467 \t검증 세트 정확도: 97.243%\n",
      "Epoch: 0089 cost =  0.003867918 \t검증 세트 정확도: 97.090%\n",
      "Epoch: 0090 cost =  0.003624617 \t검증 세트 정확도: 96.478%\n",
      "Epoch: 0091 cost =  0.003449278 \t검증 세트 정확도: 96.325%\n",
      "Epoch: 0092 cost =  0.003658376 \t검증 세트 정확도: 97.397%\n",
      "Epoch: 0093 cost =  0.003107907 \t검증 세트 정확도: 97.703%\n",
      "Epoch: 0094 cost =  0.002945673 \t검증 세트 정확도: 96.478%\n",
      "Epoch: 0095 cost =  0.004032276 \t검증 세트 정확도: 96.784%\n",
      "Epoch: 0096 cost =  0.003048295 \t검증 세트 정확도: 96.325%\n",
      "Epoch: 0097 cost =  0.004239738 \t검증 세트 정확도: 97.090%\n",
      "Epoch: 0098 cost =  0.003282311 \t검증 세트 정확도: 97.550%\n",
      "Epoch: 0099 cost =  0.002977107 \t검증 세트 정확도: 96.631%\n",
      "Epoch: 0100 cost =  0.003505569 \t검증 세트 정확도: 97.090%\n",
      "Epoch: 0101 cost =  0.002791342 \t검증 세트 정확도: 97.703%\n",
      "Epoch: 0102 cost =  0.002224323 \t검증 세트 정확도: 97.243%\n",
      "Epoch: 0103 cost =  0.003185301 \t검증 세트 정확도: 97.090%\n",
      "Epoch: 0104 cost =  0.003234346 \t검증 세트 정확도: 97.243%\n",
      "Epoch: 0105 cost =  0.003437731 \t검증 세트 정확도: 97.090%\n",
      "Epoch: 0106 cost =  0.003026813 \t검증 세트 정확도: 96.937%\n",
      "Epoch: 0107 cost =  0.003168143 \t검증 세트 정확도: 97.703%\n",
      "Epoch: 0108 cost =  0.002687634 \t검증 세트 정확도: 96.937%\n",
      "Epoch: 0109 cost =  0.002282308 \t검증 세트 정확도: 97.243%\n",
      "Epoch: 0110 cost =  0.003154713 \t검증 세트 정확도: 96.631%\n",
      "Epoch: 0111 cost =  0.002946213 \t검증 세트 정확도: 97.397%\n",
      "Epoch: 0112 cost =  0.002610825 \t검증 세트 정확도: 97.397%\n",
      "Epoch: 0113 cost =  0.002545131 \t검증 세트 정확도: 96.325%\n",
      "Epoch: 0114 cost =  0.002670016 \t검증 세트 정확도: 97.243%\n",
      "Epoch: 0115 cost =  0.002808879 \t검증 세트 정확도: 97.090%\n",
      "Epoch: 0116 cost =  0.002240663 \t검증 세트 정확도: 96.937%\n",
      "Epoch: 0117 cost =  0.002369329 \t검증 세트 정확도: 97.397%\n",
      "Epoch: 0118 cost =  0.002629499 \t검증 세트 정확도: 97.550%\n",
      "Epoch: 0119 cost =  0.002699274 \t검증 세트 정확도: 97.703%\n",
      "Epoch: 0120 cost =  0.002634726 \t검증 세트 정확도: 96.784%\n",
      "Epoch: 0121 cost =  0.002757736 \t검증 세트 정확도: 96.937%\n",
      "Epoch: 0122 cost =  0.002577315 \t검증 세트 정확도: 96.937%\n",
      "Epoch: 0123 cost =  0.002093628 \t검증 세트 정확도: 96.784%\n",
      "Epoch: 0124 cost =  0.003164204 \t검증 세트 정확도: 96.937%\n",
      "Epoch: 0125 cost =  0.002251185 \t검증 세트 정확도: 97.397%\n",
      "Epoch: 0126 cost =  0.002512351 \t검증 세트 정확도: 96.631%\n",
      "Epoch: 0127 cost =  0.003861181 \t검증 세트 정확도: 96.784%\n",
      "Epoch: 0128 cost =  0.003071779 \t검증 세트 정확도: 97.703%\n",
      "Epoch: 0129 cost =  0.002261863 \t검증 세트 정확도: 97.397%\n",
      "Epoch: 0130 cost =  0.002800151 \t검증 세트 정확도: 96.325%\n",
      "Epoch: 0131 cost =  0.002389054 \t검증 세트 정확도: 97.550%\n",
      "Epoch: 0132 cost =  0.002818004 \t검증 세트 정확도: 97.550%\n",
      "Epoch: 0133 cost =  0.003222383 \t검증 세트 정확도: 97.397%\n",
      "Epoch: 0134 cost =  0.002811083 \t검증 세트 정확도: 96.937%\n",
      "Epoch: 0135 cost =  0.002328964 \t검증 세트 정확도: 97.856%\n",
      "Epoch: 0136 cost =  0.001652702 \t검증 세트 정확도: 97.090%\n",
      "Epoch: 0137 cost =  0.002276128 \t검증 세트 정확도: 97.703%\n",
      "Epoch: 0138 cost =  0.001936219 \t검증 세트 정확도: 97.397%\n",
      "Epoch: 0139 cost =  0.002035191 \t검증 세트 정확도: 97.090%\n",
      "Epoch: 0140 cost =  0.002201227 \t검증 세트 정확도: 97.397%\n",
      "Epoch: 0141 cost =  0.002581503 \t검증 세트 정확도: 97.243%\n",
      "Epoch: 0142 cost =  0.002238673 \t검증 세트 정확도: 97.550%\n",
      "Epoch: 0143 cost =  0.002542038 \t검증 세트 정확도: 97.090%\n",
      "Epoch: 0144 cost =  0.002634369 \t검증 세트 정확도: 97.397%\n",
      "Epoch: 0145 cost =  0.001931162 \t검증 세트 정확도: 97.397%\n",
      "Epoch: 0146 cost =  0.002379538 \t검증 세트 정확도: 97.550%\n",
      "Epoch: 0147 cost =  0.002552334 \t검증 세트 정확도: 97.090%\n",
      "Epoch: 0148 cost =  0.003179104 \t검증 세트 정확도: 97.550%\n",
      "Epoch: 0149 cost =  0.002744876 \t검증 세트 정확도: 96.018%\n",
      "Epoch: 0150 cost =  0.002498032 \t검증 세트 정확도: 97.703%\n",
      "Epoch: 0151 cost =  0.002532380 \t검증 세트 정확도: 97.397%\n",
      "Epoch: 0152 cost =  0.002196377 \t검증 세트 정확도: 97.397%\n",
      "Epoch: 0153 cost =  0.002029363 \t검증 세트 정확도: 97.550%\n",
      "Epoch: 0154 cost =  0.001952571 \t검증 세트 정확도: 97.856%\n",
      "Epoch: 0155 cost =  0.001667315 \t검증 세트 정확도: 97.090%\n",
      "Epoch: 0156 cost =  0.002543815 \t검증 세트 정확도: 97.243%\n",
      "Epoch: 0157 cost =  0.002422302 \t검증 세트 정확도: 96.325%\n",
      "Epoch: 0158 cost =  0.002011273 \t검증 세트 정확도: 97.243%\n"
     ]
    },
    {
     "name": "stdout",
     "output_type": "stream",
     "text": [
      "Epoch: 0159 cost =  0.002194703 \t검증 세트 정확도: 96.478%\n",
      "Epoch: 0160 cost =  0.002165653 \t검증 세트 정확도: 97.397%\n",
      "Epoch: 0161 cost =  0.001860174 \t검증 세트 정확도: 97.703%\n",
      "Epoch: 0162 cost =  0.002125740 \t검증 세트 정확도: 97.090%\n",
      "Epoch: 0163 cost =  0.002368746 \t검증 세트 정확도: 97.550%\n",
      "Epoch: 0164 cost =  0.002585642 \t검증 세트 정확도: 97.243%\n",
      "Epoch: 0165 cost =  0.002148813 \t검증 세트 정확도: 97.397%\n",
      "Epoch: 0166 cost =  0.001503790 \t검증 세트 정확도: 96.937%\n",
      "Epoch: 0167 cost =  0.002047661 \t검증 세트 정확도: 97.550%\n",
      "Epoch: 0168 cost =  0.001464659 \t검증 세트 정확도: 97.703%\n",
      "Epoch: 0169 cost =  0.001779837 \t검증 세트 정확도: 97.397%\n",
      "Epoch: 0170 cost =  0.001768472 \t검증 세트 정확도: 97.703%\n",
      "Epoch: 0171 cost =  0.001738973 \t검증 세트 정확도: 97.397%\n",
      "Epoch: 0172 cost =  0.001260148 \t검증 세트 정확도: 97.703%\n",
      "Epoch: 0173 cost =  0.001650039 \t검증 세트 정확도: 97.550%\n",
      "Epoch: 0174 cost =  0.001933097 \t검증 세트 정확도: 96.018%\n",
      "Epoch: 0175 cost =  0.002132104 \t검증 세트 정확도: 97.397%\n",
      "Epoch: 0176 cost =  0.001716921 \t검증 세트 정확도: 97.090%\n",
      "Epoch: 0177 cost =  0.001919514 \t검증 세트 정확도: 97.550%\n",
      "Epoch: 0178 cost =  0.002741863 \t검증 세트 정확도: 97.090%\n",
      "Epoch: 0179 cost =  0.001969262 \t검증 세트 정확도: 97.090%\n",
      "Epoch: 0180 cost =  0.002078842 \t검증 세트 정확도: 97.090%\n",
      "Epoch: 0181 cost =  0.001616136 \t검증 세트 정확도: 97.703%\n",
      "Epoch: 0182 cost =  0.001838560 \t검증 세트 정확도: 97.550%\n",
      "Epoch: 0183 cost =  0.002147747 \t검증 세트 정확도: 97.243%\n",
      "Epoch: 0184 cost =  0.002391314 \t검증 세트 정확도: 96.937%\n",
      "Epoch: 0185 cost =  0.002235224 \t검증 세트 정확도: 97.090%\n",
      "Epoch: 0186 cost =  0.001378573 \t검증 세트 정확도: 97.090%\n",
      "Epoch: 0187 cost =  0.001510726 \t검증 세트 정확도: 97.090%\n",
      "Epoch: 0188 cost =  0.001738769 \t검증 세트 정확도: 97.397%\n",
      "Epoch: 0189 cost =  0.001644257 \t검증 세트 정확도: 97.703%\n",
      "Epoch: 0190 cost =  0.002901211 \t검증 세트 정확도: 97.243%\n",
      "Epoch: 0191 cost =  0.001752730 \t검증 세트 정확도: 97.090%\n",
      "Epoch: 0192 cost =  0.001823998 \t검증 세트 정확도: 97.090%\n",
      "Epoch: 0193 cost =  0.001773586 \t검증 세트 정확도: 96.937%\n",
      "Epoch: 0194 cost =  0.002011717 \t검증 세트 정확도: 96.478%\n",
      "Epoch: 0195 cost =  0.001464226 \t검증 세트 정확도: 97.550%\n",
      "Epoch: 0196 cost =  0.001576181 \t검증 세트 정확도: 97.703%\n",
      "Epoch: 0197 cost =  0.001700921 \t검증 세트 정확도: 96.937%\n",
      "Epoch: 0198 cost =  0.001868273 \t검증 세트 정확도: 95.253%\n",
      "Epoch: 0199 cost =  0.002532418 \t검증 세트 정확도: 97.243%\n",
      "Epoch: 0200 cost =  0.001949022 \t검증 세트 정확도: 97.397%\n",
      "Epoch: 0201 cost =  0.001250473 \t검증 세트 정확도: 96.784%\n",
      "Epoch: 0202 cost =  0.001875692 \t검증 세트 정확도: 97.090%\n",
      "Epoch: 0203 cost =  0.001471082 \t검증 세트 정확도: 97.397%\n",
      "Epoch: 0204 cost =  0.001673671 \t검증 세트 정확도: 96.937%\n",
      "Epoch: 0205 cost =  0.001930323 \t검증 세트 정확도: 97.397%\n",
      "Epoch: 0206 cost =  0.001629402 \t검증 세트 정확도: 96.631%\n",
      "Epoch: 0207 cost =  0.001237215 \t검증 세트 정확도: 97.090%\n",
      "Epoch: 0208 cost =  0.001300845 \t검증 세트 정확도: 97.090%\n",
      "Epoch: 0209 cost =  0.002318628 \t검증 세트 정확도: 96.784%\n",
      "Epoch: 0210 cost =  0.002287669 \t검증 세트 정확도: 97.550%\n",
      "Epoch: 0211 cost =  0.001734281 \t검증 세트 정확도: 97.703%\n",
      "Epoch: 0212 cost =  0.001859601 \t검증 세트 정확도: 96.784%\n",
      "Epoch: 0213 cost =  0.001418644 \t검증 세트 정확도: 97.243%\n",
      "Epoch: 0214 cost =  0.001418222 \t검증 세트 정확도: 97.550%\n",
      "Epoch: 0215 cost =  0.001220221 \t검증 세트 정확도: 96.631%\n",
      "Epoch: 0216 cost =  0.001383449 \t검증 세트 정확도: 97.090%\n",
      "Epoch: 0217 cost =  0.001653592 \t검증 세트 정확도: 96.631%\n",
      "Epoch: 0218 cost =  0.001625868 \t검증 세트 정확도: 97.090%\n",
      "Epoch: 0219 cost =  0.001689995 \t검증 세트 정확도: 96.478%\n",
      "Epoch: 0220 cost =  0.001858294 \t검증 세트 정확도: 97.397%\n",
      "Epoch: 0221 cost =  0.001301374 \t검증 세트 정확도: 97.090%\n",
      "Epoch: 0222 cost =  0.001574791 \t검증 세트 정확도: 96.325%\n",
      "Epoch: 0223 cost =  0.001601738 \t검증 세트 정확도: 96.478%\n",
      "Epoch: 0224 cost =  0.001752372 \t검증 세트 정확도: 97.243%\n",
      "Epoch: 0225 cost =  0.001226992 \t검증 세트 정확도: 97.550%\n",
      "Epoch: 0226 cost =  0.001309405 \t검증 세트 정확도: 97.243%\n",
      "Epoch: 0227 cost =  0.001202498 \t검증 세트 정확도: 97.090%\n",
      "Epoch: 0228 cost =  0.001009459 \t검증 세트 정확도: 97.243%\n",
      "Epoch: 0229 cost =  0.001896897 \t검증 세트 정확도: 97.397%\n",
      "Epoch: 0230 cost =  0.001608913 \t검증 세트 정확도: 97.243%\n",
      "Epoch: 0231 cost =  0.001886097 \t검증 세트 정확도: 97.856%\n",
      "Epoch: 0232 cost =  0.001367734 \t검증 세트 정확도: 96.784%\n",
      "Epoch: 0233 cost =  0.001002755 \t검증 세트 정확도: 96.937%\n",
      "Epoch: 0234 cost =  0.001841877 \t검증 세트 정확도: 97.397%\n",
      "Epoch: 0235 cost =  0.001605998 \t검증 세트 정확도: 97.243%\n",
      "Epoch: 0236 cost =  0.001615075 \t검증 세트 정확도: 96.937%\n",
      "Epoch: 0237 cost =  0.001337326 \t검증 세트 정확도: 96.172%\n",
      "Epoch: 0238 cost =  0.001566884 \t검증 세트 정확도: 97.090%\n",
      "Epoch: 0239 cost =  0.001082604 \t검증 세트 정확도: 97.243%\n",
      "Epoch: 0240 cost =  0.001323811 \t검증 세트 정확도: 96.172%\n",
      "Epoch: 0241 cost =  0.001304995 \t검증 세트 정확도: 97.243%\n",
      "Epoch: 0242 cost =  0.002972016 \t검증 세트 정확도: 96.784%\n",
      "Epoch: 0243 cost =  0.002060442 \t검증 세트 정확도: 96.631%\n",
      "Epoch: 0244 cost =  0.002308933 \t검증 세트 정확도: 97.243%\n",
      "Epoch: 0245 cost =  0.002318452 \t검증 세트 정확도: 97.550%\n",
      "Epoch: 0246 cost =  0.002025075 \t검증 세트 정확도: 97.550%\n",
      "Epoch: 0247 cost =  0.001273233 \t검증 세트 정확도: 97.243%\n",
      "Epoch: 0248 cost =  0.001615237 \t검증 세트 정확도: 97.090%\n",
      "Epoch: 0249 cost =  0.001394051 \t검증 세트 정확도: 97.397%\n",
      "Epoch: 0250 cost =  0.001795555 \t검증 세트 정확도: 96.631%\n",
      "Epoch: 0251 cost =  0.001297208 \t검증 세트 정확도: 96.937%\n",
      "Epoch: 0252 cost =  0.002057227 \t검증 세트 정확도: 96.478%\n",
      "Epoch: 0253 cost =  0.001885014 \t검증 세트 정확도: 97.090%\n",
      "Epoch: 0254 cost =  0.001126948 \t검증 세트 정확도: 96.631%\n",
      "Epoch: 0255 cost =  0.001580027 \t검증 세트 정확도: 97.243%\n",
      "Epoch: 0256 cost =  0.001067708 \t검증 세트 정확도: 97.243%\n",
      "Epoch: 0257 cost =  0.001608949 \t검증 세트 정확도: 96.631%\n",
      "Epoch: 0258 cost =  0.000972102 \t검증 세트 정확도: 97.243%\n",
      "Epoch: 0259 cost =  0.001441291 \t검증 세트 정확도: 96.784%\n",
      "Epoch: 0260 cost =  0.002301402 \t검증 세트 정확도: 96.937%\n",
      "Epoch: 0261 cost =  0.001874565 \t검증 세트 정확도: 97.550%\n",
      "Epoch: 0262 cost =  0.001077301 \t검증 세트 정확도: 97.703%\n",
      "Epoch: 0263 cost =  0.002111510 \t검증 세트 정확도: 97.703%\n",
      "Epoch: 0264 cost =  0.000846081 \t검증 세트 정확도: 97.703%\n",
      "Epoch: 0265 cost =  0.001160781 \t검증 세트 정확도: 97.243%\n",
      "Epoch: 0266 cost =  0.001381797 \t검증 세트 정확도: 97.550%\n",
      "Epoch: 0267 cost =  0.000910480 \t검증 세트 정확도: 96.325%\n",
      "Epoch: 0268 cost =  0.001208396 \t검증 세트 정확도: 96.784%\n",
      "Epoch: 0269 cost =  0.001863204 \t검증 세트 정확도: 97.397%\n",
      "Epoch: 0270 cost =  0.000883943 \t검증 세트 정확도: 97.550%\n",
      "Epoch: 0271 cost =  0.000959661 \t검증 세트 정확도: 96.937%\n",
      "Epoch: 0272 cost =  0.001559725 \t검증 세트 정확도: 97.397%\n",
      "Epoch: 0273 cost =  0.000892404 \t검증 세트 정확도: 97.397%\n",
      "Epoch: 0274 cost =  0.002117616 \t검증 세트 정확도: 97.090%\n",
      "Epoch: 0275 cost =  0.001591293 \t검증 세트 정확도: 97.397%\n",
      "Epoch: 0276 cost =  0.001699597 \t검증 세트 정확도: 97.397%\n",
      "Epoch: 0277 cost =  0.001313199 \t검증 세트 정확도: 97.090%\n",
      "Epoch: 0278 cost =  0.000923583 \t검증 세트 정확도: 97.550%\n",
      "Epoch: 0279 cost =  0.001200460 \t검증 세트 정확도: 96.784%\n",
      "Epoch: 0280 cost =  0.001318324 \t검증 세트 정확도: 97.397%\n",
      "Epoch: 0281 cost =  0.001477757 \t검증 세트 정확도: 97.550%\n",
      "Epoch: 0282 cost =  0.001263744 \t검증 세트 정확도: 97.703%\n",
      "Epoch: 0283 cost =  0.000768668 \t검증 세트 정확도: 97.550%\n",
      "Epoch: 0284 cost =  0.000899918 \t검증 세트 정확도: 97.856%\n",
      "Epoch: 0285 cost =  0.001483306 \t검증 세트 정확도: 97.090%\n",
      "Epoch: 0286 cost =  0.001654231 \t검증 세트 정확도: 96.018%\n",
      "Epoch: 0287 cost =  0.001352427 \t검증 세트 정확도: 97.243%\n",
      "Epoch: 0288 cost =  0.001128039 \t검증 세트 정확도: 97.243%\n",
      "Epoch: 0289 cost =  0.000911217 \t검증 세트 정확도: 97.397%\n",
      "Epoch: 0290 cost =  0.001547586 \t검증 세트 정확도: 97.090%\n",
      "Epoch: 0291 cost =  0.000962101 \t검증 세트 정확도: 96.784%\n",
      "Epoch: 0292 cost =  0.001112656 \t검증 세트 정확도: 96.172%\n",
      "Epoch: 0293 cost =  0.002272440 \t검증 세트 정확도: 97.243%\n",
      "Epoch: 0294 cost =  0.001300981 \t검증 세트 정확도: 97.243%\n",
      "Epoch: 0295 cost =  0.000994289 \t검증 세트 정확도: 97.090%\n",
      "Epoch: 0296 cost =  0.001035818 \t검증 세트 정확도: 96.937%\n",
      "Epoch: 0297 cost =  0.001399921 \t검증 세트 정확도: 96.172%\n",
      "Epoch: 0298 cost =  0.001574482 \t검증 세트 정확도: 97.243%\n",
      "Epoch: 0299 cost =  0.001437047 \t검증 세트 정확도: 96.631%\n"
     ]
    },
    {
     "data": {
      "text/plain": [
       "'../../model/Dense/4_dense_model'"
      ]
     },
     "execution_count": 25,
     "metadata": {},
     "output_type": "execute_result"
    }
   ],
   "source": [
    "#original \n",
    "batch_size = 32\n",
    "cost_history = np.empty(shape=[1], dtype=float)\n",
    "with tf.device(\"/gpu:0\"):\n",
    "    for epoch in range(1,training_epochs):\n",
    "        avg_cost = 0    \n",
    "#    total_batch = int(X_train.shape[0] / batch_size)\n",
    "        for i in range( int(math.ceil(len(X_train)/batch_size)) ): # 배치 사이즈로 나눈 나머지 다 돌 수 있게 \n",
    "            x_ = X_train[batch_size * i: batch_size * (i + 1)]\n",
    "            y_ = y_train[batch_size * i: batch_size * (i + 1)]\n",
    "            feed_dict={X:x_, Y:y_, keep_prob:0.6}    \n",
    "            c, _ = sess.run([cost, optimizer], feed_dict=feed_dict)\n",
    "            cost_history = np.append(cost_history,cost)\n",
    "            avg_cost += c\n",
    "            #accuracy_val = sess.run([accuracy], feed_dict={X:X_val, Y:y_val\n",
    "        val_pred = sess.run(tf.argmax(logits,1),feed_dict={X: X_val , keep_prob:1})  \n",
    "        val_true = sess.run(tf.argmax(y_val,1))\n",
    "        accuracy_val = accuracy_score(val_pred, val_true)\n",
    "        print('Epoch:', '%04d' % (epoch), 'cost = ', '{:.9f}'.format(avg_cost / len(X_train)), \"\\t검증 세트 정확도: {:.3f}%\".format(accuracy_val * 100),)\n",
    "saver.save(sess, model_path)"
   ]
  },
  {
   "cell_type": "markdown",
   "metadata": {},
   "source": [
    "## Prediction"
   ]
  },
  {
   "cell_type": "code",
   "execution_count": 26,
   "metadata": {},
   "outputs": [],
   "source": [
    "y_pred = sess.run(tf.argmax(logits,1),feed_dict={X: X_test , keep_prob:1}) \n",
    "y_true = sess.run(tf.argmax(y_test,1))"
   ]
  },
  {
   "cell_type": "code",
   "execution_count": 27,
   "metadata": {},
   "outputs": [
    {
     "name": "stdout",
     "output_type": "stream",
     "text": [
      "F-Score: 0.968\n",
      "Accuracy:  0.9681762545899633\n",
      "              precision    recall  f1-score   support\n",
      "\n",
      "           0       0.99      1.00      0.99       275\n",
      "           1       0.95      0.97      0.96       132\n",
      "           2       0.92      0.98      0.95       135\n",
      "           3       0.97      0.85      0.91       131\n",
      "           4       1.00      1.00      1.00       144\n",
      "\n",
      "   micro avg       0.97      0.97      0.97       817\n",
      "   macro avg       0.96      0.96      0.96       817\n",
      "weighted avg       0.97      0.97      0.97       817\n",
      "\n",
      "[[275   0   0   0   0]\n",
      " [  1 128   0   3   0]\n",
      " [  2   0 132   1   0]\n",
      " [  1   7  11 112   0]\n",
      " [  0   0   0   0 144]]\n"
     ]
    }
   ],
   "source": [
    "# Ptint Result\n",
    "\n",
    "from sklearn.metrics import precision_recall_fscore_support\n",
    "p,r,f,s = precision_recall_fscore_support(y_true, y_pred, average='micro')\n",
    "print(\"F-Score:\", round(f,3))\n",
    "from sklearn.metrics import accuracy_score\n",
    "print(\"Accuracy: \", accuracy_score(y_true, y_pred))\n",
    "\n",
    "from sklearn.metrics import classification_report\n",
    "print(classification_report(y_true, y_pred))\n",
    "from sklearn.metrics import confusion_matrix\n",
    "print(confusion_matrix(y_true, y_pred))"
   ]
  }
 ],
 "metadata": {
  "kernelspec": {
   "display_name": "Python 3",
   "language": "python",
   "name": "python3"
  },
  "language_info": {
   "codemirror_mode": {
    "name": "ipython",
    "version": 3
   },
   "file_extension": ".py",
   "mimetype": "text/x-python",
   "name": "python",
   "nbconvert_exporter": "python",
   "pygments_lexer": "ipython3",
   "version": "3.6.8"
  }
 },
 "nbformat": 4,
 "nbformat_minor": 2
}
