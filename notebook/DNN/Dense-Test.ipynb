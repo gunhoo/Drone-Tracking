{
 "cells": [
  {
   "cell_type": "code",
   "execution_count": 1,
   "metadata": {
    "scrolled": false
   },
   "outputs": [],
   "source": [
    "import matplotlib.pyplot as plt\n",
    "%matplotlib inline\n",
    "import IPython.display\n",
    "import librosa.display\n",
    "import numpy as np\n",
    "import librosa\n",
    "import tensorflow as tf\n",
    "import glob"
   ]
  },
  {
   "cell_type": "code",
   "execution_count": 2,
   "metadata": {},
   "outputs": [],
   "source": [
    "drone_path = '../../../50mtmp/*.wav'\n",
    "background_path = '../../../backgroundtest/*.wav'\n",
    "\n",
    "drone_files = glob.glob(drone_path)\n",
    "background_files = glob.glob(background_path)"
   ]
  },
  {
   "cell_type": "code",
   "execution_count": 3,
   "metadata": {},
   "outputs": [],
   "source": [
    "CHUNK_SIZE = 8192\n",
    "SR = 22050\n",
    "N_MFCC = 16"
   ]
  },
  {
   "cell_type": "code",
   "execution_count": 4,
   "metadata": {},
   "outputs": [],
   "source": [
    "def load(files, sr=22050):\n",
    "    [raw, sr] = librosa.load(files[0], sr=sr)\n",
    "    for f in files[1:]:\n",
    "        [array, sr] = librosa.load(f, sr=sr)\n",
    "        raw = np.hstack((raw, array))\n",
    "    print(raw.shape)\n",
    "    return raw"
   ]
  },
  {
   "cell_type": "code",
   "execution_count": 5,
   "metadata": {},
   "outputs": [
    {
     "name": "stdout",
     "output_type": "stream",
     "text": [
      "(1431184,)\n",
      "(91372,)\n"
     ]
    }
   ],
   "source": [
    "drone_raw = load(drone_files)\n",
    "background_raw = load(background_files)"
   ]
  },
  {
   "cell_type": "code",
   "execution_count": 6,
   "metadata": {},
   "outputs": [],
   "source": [
    "def mfcc4(raw, label, chunk_size=8192, window_size=4096, sr=22050, n_mfcc=16, n_frame=16):\n",
    "    mfcc = np.empty((0, n_mfcc, n_frame))\n",
    "    y = []\n",
    "    print(raw.shape)\n",
    "    for i in range(0, len(raw), chunk_size//2):\n",
    "        mfcc_slice = librosa.feature.mfcc(raw[i:i+chunk_size], sr=sr, n_mfcc=n_mfcc) #n_mfcc,17\n",
    "        if mfcc_slice.shape[1] < 17:\n",
    "            print(i,\">small end:\", mfcc_slice.shape)\n",
    "            continue\n",
    "        mfcc_slice = mfcc_slice[:,:-1]\n",
    "        mfcc_slice = mfcc_slice.reshape((1, mfcc_slice.shape[0], mfcc_slice.shape[1]))\n",
    "        mfcc = np.vstack((mfcc, mfcc_slice))\n",
    "        y.append(label)\n",
    "    y = np.array(y)\n",
    "    return mfcc, y"
   ]
  },
  {
   "cell_type": "code",
   "execution_count": 7,
   "metadata": {},
   "outputs": [
    {
     "name": "stdout",
     "output_type": "stream",
     "text": [
      "(1431184,)\n",
      "1425408 >small end: (16, 12)\n",
      "1429504 >small end: (16, 4)\n",
      "(91372,)\n",
      "86016 >small end: (16, 11)\n",
      "90112 >small end: (16, 3)\n",
      "(348, 16, 16) (348,)\n",
      "(21, 16, 16) (21,)\n"
     ]
    }
   ],
   "source": [
    "mfcc_drone, y_drone = mfcc4(drone_raw, 1)\n",
    "mfcc_background, y_background = mfcc4(background_raw, 0)\n",
    "\n",
    "print(mfcc_drone.shape, y_drone.shape)\n",
    "print(mfcc_background.shape, y_background.shape)"
   ]
  },
  {
   "cell_type": "code",
   "execution_count": 8,
   "metadata": {},
   "outputs": [
    {
     "name": "stdout",
     "output_type": "stream",
     "text": [
      "(369, 16, 16) (369,)\n"
     ]
    }
   ],
   "source": [
    "X = np.concatenate((mfcc_drone, mfcc_background), axis=0)\n",
    "y = np.hstack((y_drone, y_background))\n",
    "print(X.shape, y.shape)"
   ]
  },
  {
   "cell_type": "code",
   "execution_count": 9,
   "metadata": {},
   "outputs": [
    {
     "name": "stdout",
     "output_type": "stream",
     "text": [
      "(369, 256)\n",
      "<class 'numpy.ndarray'>\n"
     ]
    }
   ],
   "source": [
    "X_test = X.reshape(X.shape[0],-1)\n",
    "print(X_test.shape)\n",
    "print(type(X_test))"
   ]
  },
  {
   "cell_type": "code",
   "execution_count": 10,
   "metadata": {},
   "outputs": [],
   "source": [
    "#X_train2 = X.reshape(X.shape[0], X.shape[1], X.shape[2], 1) ############# 리셰입 해야 "
   ]
  },
  {
   "cell_type": "code",
   "execution_count": 11,
   "metadata": {},
   "outputs": [
    {
     "name": "stdout",
     "output_type": "stream",
     "text": [
      "(369, 2)\n"
     ]
    }
   ],
   "source": [
    "n_labels = y.shape[0]\n",
    "n_unique_labels = 2\n",
    "y_encoded = np.zeros((n_labels, n_unique_labels))\n",
    "y_encoded[np.arange(n_labels), y] = 1\n",
    "print(y_encoded.shape)"
   ]
  },
  {
   "cell_type": "markdown",
   "metadata": {},
   "source": [
    "# test init"
   ]
  },
  {
   "cell_type": "code",
   "execution_count": 12,
   "metadata": {},
   "outputs": [],
   "source": [
    "n_mfcc = 16\n",
    "n_frame = 16\n",
    "n_classes = 2\n",
    "n_channels = 1\n",
    "\n",
    "kernel_size = 3\n",
    "stride = 1\n",
    "pad = \"SAME\"\n",
    "\n",
    "learning_rate = 0.0002"
   ]
  },
  {
   "cell_type": "code",
   "execution_count": 13,
   "metadata": {},
   "outputs": [],
   "source": [
    "X = tf.placeholder(tf.float32, shape=[None,n_mfcc*n_frame*n_channels])\n",
    "#X = tf.reshape(X, [-1, n_mfcc, n_frame, n_channels]) #fully connected에는 리셰입 안해도 된다 \n",
    "Y = tf.placeholder(tf.float32, shape=[None,n_classes])\n",
    "\n",
    "keep_prob = tf.placeholder(tf.float32)\n",
    "\n",
    "#dense2 = tf.layers.dense(inputs=flat, units=625, activation=tf.nn.relu)\n",
    "#dropout2 = tf.layers.dropout(inputs=dense2, rate=0.5, training=True)\n",
    "dense1 = tf.layers.dense(inputs=X, units=256, activation=tf.nn.relu)\n",
    "dropout1 = tf.nn.dropout(dense1, keep_prob=keep_prob)\n",
    "dense2 = tf.layers.dense(inputs=dropout1, units=256, activation=tf.nn.relu)\n",
    "dropout2 = tf.nn.dropout(dense2, keep_prob=keep_prob)\n",
    "dense3 = tf.layers.dense(inputs=dropout2, units=512, activation=tf.nn.relu)\n",
    "dropout3 = tf.nn.dropout(dense3, keep_prob=keep_prob)\n",
    "#이거 지워보고 돌려보고 \n",
    "dense4 = tf.layers.dense(inputs=dropout3, units=512, activation=tf.nn.relu)\n",
    "dropout4 = tf.nn.dropout(dense4, keep_prob=keep_prob)\n",
    "dense5 = tf.layers.dense(inputs=dropout4, units=256, activation=tf.nn.relu)\n",
    "dropout5 = tf.nn.dropout(dense5, keep_prob=keep_prob)\n",
    "\n",
    "logits= tf.layers.dense(inputs=dropout5, units=2)"
   ]
  },
  {
   "cell_type": "code",
   "execution_count": 14,
   "metadata": {},
   "outputs": [],
   "source": [
    "cost = tf.reduce_mean(tf.nn.softmax_cross_entropy_with_logits_v2(logits=logits, labels=Y))\n",
    "optimizer = tf.train.AdamOptimizer(learning_rate=learning_rate).minimize(cost)"
   ]
  },
  {
   "cell_type": "code",
   "execution_count": 15,
   "metadata": {
    "scrolled": false
   },
   "outputs": [
    {
     "name": "stdout",
     "output_type": "stream",
     "text": [
      "INFO:tensorflow:Restoring parameters from ../../model/DNN/dense_model\n"
     ]
    }
   ],
   "source": [
    "# Model Save\n",
    "sess=tf.Session()\n",
    "saver = tf.train.Saver()\n",
    "saver.restore(sess, '../../model/DNN/dense_model')"
   ]
  },
  {
   "cell_type": "code",
   "execution_count": 16,
   "metadata": {
    "scrolled": true
   },
   "outputs": [
    {
     "name": "stdout",
     "output_type": "stream",
     "text": [
      "                0             1\n",
      "0    2.053266e-02  9.794673e-01\n",
      "1    8.959667e-05  9.999104e-01\n",
      "2    7.346016e-05  9.999266e-01\n",
      "3    1.597936e-04  9.998401e-01\n",
      "4    1.009810e-01  8.990190e-01\n",
      "5    4.877112e-04  9.995123e-01\n",
      "6    4.405005e-05  9.999559e-01\n",
      "7    3.237777e-02  9.676222e-01\n",
      "8    8.661605e-01  1.338396e-01\n",
      "9    2.197683e-01  7.802317e-01\n",
      "10   1.959143e-03  9.980409e-01\n",
      "11   6.928467e-04  9.993072e-01\n",
      "12   6.157609e-05  9.999384e-01\n",
      "13   1.470482e-03  9.985296e-01\n",
      "14   1.577186e-02  9.842281e-01\n",
      "15   1.350914e-03  9.986491e-01\n",
      "16   6.991056e-04  9.993008e-01\n",
      "17   5.994529e-05  9.999400e-01\n",
      "18   4.748618e-04  9.995252e-01\n",
      "19   3.218055e-05  9.999678e-01\n",
      "20   2.042854e-05  9.999796e-01\n",
      "21   4.129715e-04  9.995870e-01\n",
      "22   9.195059e-01  8.049409e-02\n",
      "23   9.999555e-01  4.442043e-05\n",
      "24   2.197852e-02  9.780215e-01\n",
      "25   2.401822e-06  9.999976e-01\n",
      "26   3.431624e-05  9.999657e-01\n",
      "27   2.227824e-05  9.999777e-01\n",
      "28   3.293529e-04  9.996706e-01\n",
      "29   3.982811e-04  9.996018e-01\n",
      "30   1.059110e-04  9.998940e-01\n",
      "31   2.017067e-04  9.997984e-01\n",
      "32   1.628364e-05  9.999837e-01\n",
      "33   2.306188e-03  9.976938e-01\n",
      "34   2.105857e-03  9.978942e-01\n",
      "35   7.144579e-07  9.999993e-01\n",
      "36   1.709938e-06  9.999983e-01\n",
      "37   4.304602e-06  9.999957e-01\n",
      "38   1.542320e-05  9.999846e-01\n",
      "39   5.566142e-01  4.433858e-01\n",
      "40   2.470105e-02  9.752990e-01\n",
      "41   1.934953e-04  9.998066e-01\n",
      "42   6.268832e-03  9.937311e-01\n",
      "43   7.733382e-01  2.266618e-01\n",
      "44   5.555629e-01  4.444371e-01\n",
      "45   3.841812e-02  9.615819e-01\n",
      "46   2.765357e-03  9.972346e-01\n",
      "47   3.697424e-04  9.996302e-01\n",
      "48   3.660087e-02  9.633991e-01\n",
      "49   5.611090e-04  9.994388e-01\n",
      "50   2.153823e-04  9.997846e-01\n",
      "51   1.673167e-04  9.998326e-01\n",
      "52   5.438710e-05  9.999456e-01\n",
      "53   4.787536e-04  9.995213e-01\n",
      "54   5.283914e-05  9.999472e-01\n",
      "55   4.009994e-06  9.999959e-01\n",
      "56   4.439321e-06  9.999956e-01\n",
      "57   1.144435e-06  9.999988e-01\n",
      "58   1.351147e-05  9.999865e-01\n",
      "59   5.883375e-06  9.999942e-01\n",
      "60   1.104689e-04  9.998895e-01\n",
      "61   3.825353e-06  9.999962e-01\n",
      "62   4.318440e-02  9.568156e-01\n",
      "63   9.661708e-01  3.382923e-02\n",
      "64   7.302823e-04  9.992697e-01\n",
      "65   8.019761e-07  9.999992e-01\n",
      "66   3.026057e-04  9.996974e-01\n",
      "67   2.160868e-04  9.997839e-01\n",
      "68   3.789518e-05  9.999621e-01\n",
      "69   1.520635e-02  9.847936e-01\n",
      "70   4.492656e-04  9.995508e-01\n",
      "71   1.787730e-04  9.998212e-01\n",
      "72   5.999637e-04  9.994000e-01\n",
      "73   7.796120e-04  9.992204e-01\n",
      "74   1.764705e-04  9.998235e-01\n",
      "75   4.929566e-04  9.995071e-01\n",
      "76   3.879373e-05  9.999613e-01\n",
      "77   2.096725e-04  9.997904e-01\n",
      "78   9.026062e-02  9.097394e-01\n",
      "79   9.182234e-01  8.177661e-02\n",
      "80   2.642915e-04  9.997357e-01\n",
      "81   1.618733e-05  9.999838e-01\n",
      "82   6.870963e-04  9.993129e-01\n",
      "83   1.435243e-03  9.985648e-01\n",
      "84   4.380348e-03  9.956196e-01\n",
      "85   1.989194e-05  9.999801e-01\n",
      "86   2.222291e-06  9.999977e-01\n",
      "87   8.300957e-08  9.999999e-01\n",
      "88   3.334711e-06  9.999967e-01\n",
      "89   3.711782e-06  9.999963e-01\n",
      "90   4.790405e-06  9.999952e-01\n",
      "91   7.380317e-06  9.999926e-01\n",
      "92   1.173371e-05  9.999883e-01\n",
      "93   7.231038e-07  9.999993e-01\n",
      "94   8.692202e-07  9.999992e-01\n",
      "95   1.124689e-07  9.999999e-01\n",
      "96   1.695386e-07  9.999999e-01\n",
      "97   8.036466e-07  9.999992e-01\n",
      "98   1.083798e-04  9.998916e-01\n",
      "99   4.638667e-04  9.995362e-01\n",
      "100  3.081239e-05  9.999692e-01\n",
      "101  8.073216e-07  9.999992e-01\n",
      "102  7.331979e-04  9.992668e-01\n",
      "103  9.723274e-01  2.767263e-02\n",
      "104  8.895055e-05  9.999111e-01\n",
      "105  4.682332e-07  9.999995e-01\n",
      "106  2.329823e-06  9.999976e-01\n",
      "107  8.291737e-05  9.999170e-01\n",
      "108  6.620362e-02  9.337963e-01\n",
      "109  6.167527e-03  9.938325e-01\n",
      "110  3.629760e-04  9.996370e-01\n",
      "111  1.075552e-03  9.989244e-01\n",
      "112  9.506574e-03  9.904935e-01\n",
      "113  4.803243e-03  9.951968e-01\n",
      "114  5.500574e-04  9.994499e-01\n",
      "115  1.215704e-06  9.999988e-01\n",
      "116  4.335375e-05  9.999566e-01\n",
      "117  4.203477e-04  9.995796e-01\n",
      "118  1.830904e-06  9.999982e-01\n",
      "119  9.843634e-01  1.563661e-02\n",
      "120  1.000000e+00  1.507596e-12\n",
      "121  1.000000e+00  7.788149e-14\n",
      "122  1.000000e+00  1.617001e-12\n",
      "123  1.000000e+00  1.619599e-13\n",
      "124  1.000000e+00  8.640659e-15\n",
      "125  1.000000e+00  4.980896e-15\n",
      "126  1.000000e+00  2.754485e-13\n",
      "127  1.000000e+00  8.184570e-12\n",
      "128  1.000000e+00  1.371836e-09\n",
      "129  1.000000e+00  2.121736e-09\n",
      "130  1.000000e+00  1.276379e-09\n",
      "131  1.000000e+00  1.095518e-10\n",
      "132  1.000000e+00  9.354353e-11\n",
      "133  1.000000e+00  1.122332e-09\n",
      "134  1.000000e+00  1.985631e-13\n",
      "135  1.000000e+00  1.359934e-14\n",
      "136  1.000000e+00  4.720032e-14\n",
      "137  1.000000e+00  3.126482e-14\n",
      "138  1.000000e+00  1.876131e-11\n",
      "139  1.000000e+00  4.444481e-11\n",
      "140  1.000000e+00  7.921569e-12\n",
      "141  9.999998e-01  2.810197e-07\n",
      "142  9.999996e-01  3.453013e-07\n",
      "143  9.999999e-01  1.472912e-07\n",
      "144  1.000000e+00  1.367855e-08\n",
      "145  1.000000e+00  2.850476e-10\n",
      "146  1.000000e+00  2.637034e-10\n",
      "147  1.000000e+00  1.918668e-13\n",
      "148  1.000000e+00  7.412746e-14\n",
      "149  1.000000e+00  2.985427e-14\n",
      "150  1.000000e+00  8.232510e-12\n",
      "151  1.000000e+00  1.481222e-09\n",
      "152  1.000000e+00  9.852132e-10\n",
      "153  9.999989e-01  1.092393e-06\n",
      "154  9.999999e-01  9.068154e-08\n",
      "155  1.000000e+00  2.220018e-09\n",
      "156  1.000000e+00  5.691733e-09\n",
      "157  1.000000e+00  1.696965e-10\n",
      "158  1.000000e+00  6.079044e-12\n",
      "159  1.000000e+00  2.542663e-12\n",
      "160  1.000000e+00  2.603779e-09\n",
      "161  9.999999e-01  8.828439e-08\n",
      "162  1.000000e+00  4.337997e-08\n",
      "163  1.000000e+00  4.714845e-08\n",
      "164  1.000000e+00  7.094780e-09\n",
      "165  1.000000e+00  5.317760e-09\n",
      "166  1.000000e+00  7.975370e-09\n",
      "167  9.999996e-01  3.032208e-07\n",
      "168  9.999993e-01  6.620245e-07\n",
      "169  1.000000e+00  5.725119e-08\n",
      "170  9.999816e-01  1.831161e-05\n",
      "171  9.999874e-01  1.267333e-05\n",
      "172  9.999856e-01  1.438255e-05\n",
      "173  9.999804e-01  1.952825e-05\n",
      "174  9.999900e-01  1.004284e-05\n",
      "175  9.999779e-01  2.208427e-05\n",
      "176  9.991098e-01  8.901733e-04\n",
      "177  9.997095e-01  2.904819e-04\n",
      "178  9.999897e-01  1.021838e-05\n",
      "179  9.999833e-01  1.671994e-05\n",
      "180  9.999810e-01  1.897105e-05\n",
      "181  9.990884e-01  9.115426e-04\n",
      "182  8.383428e-01  1.616572e-01\n",
      "183  8.222956e-02  9.177704e-01\n",
      "184  6.088364e-01  3.911637e-01\n",
      "185  9.997920e-01  2.079311e-04\n",
      "186  1.000000e+00  1.801532e-09\n",
      "187  1.000000e+00  8.689879e-15\n",
      "188  1.000000e+00  9.877961e-15\n",
      "189  1.000000e+00  2.339749e-16\n",
      "190  1.000000e+00  1.107387e-18\n",
      "191  1.000000e+00  5.947147e-18\n",
      "192  1.000000e+00  8.535616e-18\n",
      "193  1.000000e+00  3.701569e-17\n",
      "194  1.000000e+00  4.839578e-16\n",
      "195  1.000000e+00  6.267973e-15\n",
      "196  1.000000e+00  2.645920e-15\n",
      "197  1.000000e+00  9.460625e-16\n",
      "198  1.000000e+00  1.885923e-17\n",
      "199  1.000000e+00  4.705581e-20\n",
      "200  1.000000e+00  2.133991e-18\n",
      "201  1.000000e+00  1.561997e-14\n",
      "202  1.000000e+00  4.629999e-11\n",
      "203  1.000000e+00  1.187379e-09\n",
      "204  1.000000e+00  9.849338e-09\n",
      "205  9.999998e-01  1.963769e-07\n",
      "206  9.999633e-01  3.675608e-05\n",
      "207  9.974452e-01  2.554764e-03\n",
      "208  9.739483e-01  2.605168e-02\n",
      "209  9.993826e-01  6.173365e-04\n",
      "210  9.999998e-01  2.955167e-07\n",
      "211  1.000000e+00  2.111354e-08\n",
      "212  1.000000e+00  1.651736e-08\n",
      "213  1.000000e+00  2.780351e-08\n",
      "214  1.000000e+00  1.108551e-08\n",
      "215  1.000000e+00  1.861095e-10\n",
      "216  1.000000e+00  1.567398e-12\n",
      "217  1.000000e+00  2.119282e-12\n",
      "218  1.000000e+00  1.565123e-10\n",
      "219  1.000000e+00  1.639029e-08\n",
      "220  1.000000e+00  1.832656e-08\n",
      "221  1.000000e+00  2.028115e-09\n",
      "222  1.000000e+00  5.259657e-09\n",
      "223  1.000000e+00  1.279519e-09\n",
      "224  1.000000e+00  1.453759e-09\n",
      "225  1.000000e+00  1.119608e-10\n",
      "226  1.000000e+00  1.336973e-10\n",
      "227  1.000000e+00  3.740887e-11\n",
      "228  1.000000e+00  1.233409e-11\n",
      "229  1.000000e+00  9.688872e-13\n",
      "230  1.000000e+00  1.316354e-12\n",
      "231  1.000000e+00  2.908975e-11\n",
      "232  9.999998e-01  1.869403e-07\n",
      "233  9.999989e-01  1.016913e-06\n",
      "234  1.000000e+00  1.619949e-08\n",
      "235  9.999990e-01  9.752041e-07\n",
      "236  9.999994e-01  6.509434e-07\n",
      "237  9.999841e-01  1.589055e-05\n",
      "238  9.999812e-01  1.883063e-05\n",
      "239  9.999955e-01  4.505138e-06\n",
      "240  9.999994e-01  5.533691e-07\n",
      "241  9.991541e-01  8.459077e-04\n",
      "242  8.603758e-01  1.396242e-01\n",
      "243  9.980186e-01  1.981428e-03\n",
      "244  9.991248e-01  8.752121e-04\n",
      "245  9.819083e-01  1.809176e-02\n",
      "246  9.907318e-01  9.268281e-03\n",
      "247  2.800670e-01  7.199330e-01\n",
      "248  5.657602e-01  4.342398e-01\n",
      "249  9.261169e-01  7.388304e-02\n",
      "250  9.480467e-01  5.195327e-02\n",
      "251  9.986364e-01  1.363523e-03\n",
      "252  9.997720e-01  2.279700e-04\n",
      "253  9.984964e-01  1.503549e-03\n",
      "254  9.990425e-01  9.575831e-04\n",
      "255  9.995379e-01  4.620324e-04\n",
      "256  9.999737e-01  2.636815e-05\n",
      "257  9.997446e-01  2.554008e-04\n",
      "258  9.869415e-01  1.305847e-02\n",
      "259  9.965377e-01  3.462275e-03\n",
      "260  9.997846e-01  2.153149e-04\n",
      "261  9.993648e-01  6.352588e-04\n",
      "262  9.997563e-01  2.436801e-04\n",
      "263  9.993630e-01  6.370617e-04\n",
      "264  9.999962e-01  3.788062e-06\n",
      "265  9.999990e-01  9.082934e-07\n",
      "266  9.997911e-01  2.088972e-04\n",
      "267  9.989622e-01  1.037880e-03\n",
      "268  9.996344e-01  3.656576e-04\n",
      "269  9.999605e-01  3.947578e-05\n",
      "270  9.995253e-01  4.746825e-04\n",
      "271  9.997922e-01  2.078839e-04\n",
      "272  1.000000e+00  3.333641e-08\n",
      "273  9.999999e-01  1.429947e-07\n",
      "274  1.000000e+00  1.397038e-08\n",
      "275  9.999998e-01  1.955934e-07\n",
      "276  1.000000e+00  3.688766e-08\n",
      "277  1.000000e+00  3.095700e-08\n",
      "278  9.999999e-01  1.201011e-07\n",
      "279  1.000000e+00  8.685266e-09\n",
      "280  1.000000e+00  1.350642e-09\n",
      "281  9.999999e-01  1.292599e-07\n",
      "282  9.999989e-01  1.034791e-06\n",
      "283  9.999765e-01  2.353030e-05\n",
      "284  9.999973e-01  2.692861e-06\n",
      "285  9.999775e-01  2.251298e-05\n",
      "286  9.999956e-01  4.368771e-06\n",
      "287  9.999970e-01  2.977503e-06\n",
      "288  9.996131e-01  3.869317e-04\n",
      "289  9.997190e-01  2.810133e-04\n",
      "290  9.999382e-01  6.172484e-05\n",
      "291  9.999990e-01  9.773231e-07\n",
      "292  9.999995e-01  4.949898e-07\n",
      "293  9.999999e-01  9.525302e-08\n",
      "294  9.999996e-01  3.221784e-07\n",
      "295  9.999983e-01  1.645484e-06\n",
      "296  1.000000e+00  1.448080e-09\n",
      "297  1.000000e+00  4.550819e-10\n",
      "298  1.000000e+00  2.469647e-08\n",
      "299  9.999945e-01  5.469991e-06\n",
      "300  9.992040e-01  7.960519e-04\n",
      "301  9.996387e-01  3.613578e-04\n",
      "302  9.999466e-01  5.341283e-05\n",
      "303  9.999607e-01  3.932698e-05\n",
      "304  1.000000e+00  1.036018e-09\n",
      "305  1.000000e+00  2.144502e-11\n",
      "306  1.000000e+00  1.003309e-11\n",
      "307  1.000000e+00  8.266277e-12\n",
      "308  1.000000e+00  1.139114e-11\n",
      "309  1.000000e+00  1.546688e-10\n",
      "310  1.000000e+00  1.157449e-09\n",
      "311  1.000000e+00  2.794755e-11\n",
      "312  1.000000e+00  1.443757e-11\n",
      "313  1.000000e+00  2.657606e-09\n",
      "314  3.262121e-01  6.737879e-01\n",
      "315  2.512113e-02  9.748788e-01\n",
      "316  3.389150e-03  9.966108e-01\n",
      "317  3.401596e-02  9.659840e-01\n",
      "318  1.486275e-01  8.513724e-01\n",
      "319  1.869206e-03  9.981309e-01\n",
      "320  9.268714e-03  9.907313e-01\n",
      "321  9.680296e-01  3.197035e-02\n",
      "322  9.998600e-01  1.399210e-04\n",
      "323  9.998449e-01  1.550514e-04\n",
      "324  9.612489e-03  9.903875e-01\n",
      "325  1.684045e-05  9.999832e-01\n",
      "326  4.906364e-05  9.999509e-01\n",
      "327  1.084766e-04  9.998915e-01\n",
      "328  1.774153e-01  8.225847e-01\n",
      "329  6.744827e-05  9.999325e-01\n",
      "330  4.219329e-07  9.999995e-01\n",
      "331  5.612164e-06  9.999944e-01\n",
      "332  3.529460e-04  9.996470e-01\n",
      "333  7.633924e-01  2.366076e-01\n",
      "334  1.946760e-03  9.980533e-01\n",
      "335  8.635584e-06  9.999914e-01\n",
      "336  2.587987e-05  9.999741e-01\n",
      "337  5.480653e-05  9.999452e-01\n",
      "338  4.980963e-04  9.995019e-01\n",
      "339  2.522698e-03  9.974774e-01\n",
      "340  2.638127e-04  9.997361e-01\n",
      "341  7.435235e-04  9.992564e-01\n",
      "342  3.879052e-01  6.120948e-01\n",
      "343  3.879479e-01  6.120521e-01\n",
      "344  9.704700e-03  9.902953e-01\n",
      "345  1.360542e-04  9.998640e-01\n",
      "346  2.410962e-05  9.999759e-01\n",
      "347  3.893948e-01  6.106052e-01\n",
      "348  1.000000e+00  2.325679e-10\n",
      "349  1.000000e+00  8.009762e-09\n",
      "350  9.999799e-01  2.017445e-05\n",
      "351  9.999912e-01  8.844752e-06\n",
      "352  9.998739e-01  1.260660e-04\n",
      "353  9.999753e-01  2.467062e-05\n",
      "354  1.000000e+00  1.923197e-13\n",
      "355  1.000000e+00  4.256942e-15\n",
      "356  1.000000e+00  6.551134e-16\n",
      "357  1.000000e+00  3.479135e-16\n",
      "358  1.000000e+00  5.419964e-17\n",
      "359  1.000000e+00  2.802330e-14\n",
      "360  1.000000e+00  6.125881e-12\n",
      "361  1.000000e+00  1.405847e-09\n",
      "362  1.000000e+00  7.107499e-09\n",
      "363  1.000000e+00  1.745247e-08\n",
      "364  1.000000e+00  1.324201e-08\n",
      "365  1.000000e+00  1.447733e-08\n",
      "366  9.999999e-01  8.162075e-08\n",
      "367  9.999995e-01  4.619465e-07\n",
      "368  1.000000e+00  1.864156e-08\n"
     ]
    }
   ],
   "source": [
    "# Prediction\n",
    "y_test = sess.run(tf.nn.softmax(logits), feed_dict={X: X_test, keep_prob:1})\n",
    "y_pred = sess.run(tf.argmax(logits,1),feed_dict={X: X_test,keep_prob:1 })\n",
    "y_true = sess.run(tf.argmax(y_encoded,1))\n",
    "\n",
    "import pandas as pd\n",
    "pd.options.display.max_rows = 4000\n",
    "print(pd.DataFrame(y_test))"
   ]
  },
  {
   "cell_type": "code",
   "execution_count": 17,
   "metadata": {},
   "outputs": [
    {
     "name": "stdout",
     "output_type": "stream",
     "text": [
      "30.791461959546723 0.9056312341043153\n"
     ]
    }
   ],
   "source": [
    "sum = 0\n",
    "for i in range(0, 34):\n",
    "    sum = sum + y_test[i][1]\n",
    "print(sum, sum/34)"
   ]
  },
  {
   "cell_type": "code",
   "execution_count": 18,
   "metadata": {
    "scrolled": false
   },
   "outputs": [
    {
     "name": "stdout",
     "output_type": "stream",
     "text": [
      "F-Score: 0.44\n",
      "Accuracy:  0.44173441734417346\n",
      "              precision    recall  f1-score   support\n",
      "\n",
      "           0       0.09      1.00      0.17        21\n",
      "           1       1.00      0.41      0.58       348\n",
      "\n",
      "   micro avg       0.44      0.44      0.44       369\n",
      "   macro avg       0.55      0.70      0.37       369\n",
      "weighted avg       0.95      0.44      0.56       369\n",
      "\n",
      "[[ 21   0]\n",
      " [206 142]]\n"
     ]
    },
    {
     "data": {
      "image/png": "[encoded data removed]",
      "text/plain": [
       "<Figure size 1080x648 with 1 Axes>"
      ]
     },
     "metadata": {
      "needs_background": "light"
     },
     "output_type": "display_data"
    },
    {
     "data": {
      "image/png": "[encoded data removed]",
      "text/plain": [
       "<Figure size 1080x648 with 1 Axes>"
      ]
     },
     "metadata": {
      "needs_background": "light"
     },
     "output_type": "display_data"
    }
   ],
   "source": [
    "# Print Result\n",
    "\n",
    "from sklearn.metrics import precision_recall_fscore_support\n",
    "y_true = y_true\n",
    "y_pred = y_pred\n",
    "\n",
    "p,r,f,s = precision_recall_fscore_support(y_true, y_pred, average='micro')\n",
    "print(\"F-Score:\", round(f,2))\n",
    "from sklearn.metrics import accuracy_score\n",
    "print(\"Accuracy: \", accuracy_score(y_true, y_pred))\n",
    "\n",
    "\n",
    "fig = plt.figure(figsize=(15,9))\n",
    "ax = fig.add_subplot(1,1,1)\n",
    "ax.plot(np.linspace(0,len(y_pred), len(y_pred)),y_true, 'x')\n",
    "\n",
    "fig = plt.figure(figsize=(15,9))\n",
    "ax = fig.add_subplot(1,1,1)\n",
    "ax.plot(np.linspace(0,len(y_pred), len(y_pred)),y_pred, 'x')\n",
    "\n",
    "from sklearn.metrics import classification_report\n",
    "print(classification_report(y_true, y_pred))\n",
    "from sklearn.metrics import confusion_matrix\n",
    "print(confusion_matrix(y_true, y_pred))"
   ]
  },
  {
   "cell_type": "code",
   "execution_count": null,
   "metadata": {},
   "outputs": [],
   "source": []
  },
  {
   "cell_type": "code",
   "execution_count": null,
   "metadata": {},
   "outputs": [],
   "source": []
  }
 ],
 "metadata": {
  "kernelspec": {
   "display_name": "Python 3",
   "language": "python",
   "name": "python3"
  },
  "language_info": {
   "codemirror_mode": {
    "name": "ipython",
    "version": 3
   },
   "file_extension": ".py",
   "mimetype": "text/x-python",
   "name": "python",
   "nbconvert_exporter": "python",
   "pygments_lexer": "ipython3",
   "version": "3.6.7"
  }
 },
 "nbformat": 4,
 "nbformat_minor": 2
}
