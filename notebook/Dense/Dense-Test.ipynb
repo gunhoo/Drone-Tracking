{
 "cells": [
  {
   "cell_type": "code",
   "execution_count": 1,
   "metadata": {
    "scrolled": false
   },
   "outputs": [],
   "source": [
    "import matplotlib.pyplot as plt\n",
    "%matplotlib inline\n",
    "import IPython.display\n",
    "import librosa.display\n",
    "import numpy as np\n",
    "import librosa\n",
    "import tensorflow as tf\n",
    "import glob"
   ]
  },
  {
   "cell_type": "code",
   "execution_count": 2,
   "metadata": {},
   "outputs": [],
   "source": [
    "drone_path = '../../../testset/*.wav'\n",
    "background_path = '../../../backgroundtest/*.wav'\n",
    "\n",
    "drone_files = glob.glob(drone_path)\n",
    "background_files = glob.glob(background_path)"
   ]
  },
  {
   "cell_type": "code",
   "execution_count": 3,
   "metadata": {},
   "outputs": [],
   "source": [
    "CHUNK_SIZE = 8192\n",
    "SR = 22050\n",
    "N_MFCC = 16"
   ]
  },
  {
   "cell_type": "code",
   "execution_count": 4,
   "metadata": {},
   "outputs": [],
   "source": [
    "def load(files, sr=22050):\n",
    "    [raw, sr] = librosa.load(files[0], sr=sr)\n",
    "    for f in files[1:]:\n",
    "        [array, sr] = librosa.load(f, sr=sr)\n",
    "        raw = np.hstack((raw, array))\n",
    "    print(raw.shape)\n",
    "    return raw"
   ]
  },
  {
   "cell_type": "code",
   "execution_count": 5,
   "metadata": {},
   "outputs": [
    {
     "name": "stdout",
     "output_type": "stream",
     "text": [
      "(573440,)\n",
      "(91372,)\n"
     ]
    }
   ],
   "source": [
    "drone_raw = load(drone_files)\n",
    "background_raw = load(background_files)"
   ]
  },
  {
   "cell_type": "code",
   "execution_count": 6,
   "metadata": {},
   "outputs": [],
   "source": [
    "def mfcc4(raw, label, chunk_size=8192, window_size=4096, sr=22050, n_mfcc=16, n_frame=16):\n",
    "    mfcc = np.empty((0, n_mfcc, n_frame))\n",
    "    y = []\n",
    "    print(raw.shape)\n",
    "    for i in range(0, len(raw), chunk_size//2):\n",
    "        mfcc_slice = librosa.feature.mfcc(raw[i:i+chunk_size], sr=sr, n_mfcc=n_mfcc) #n_mfcc,17\n",
    "        if mfcc_slice.shape[1] < 17:\n",
    "            print(i,\">small end:\", mfcc_slice.shape)\n",
    "            continue\n",
    "        mfcc_slice = mfcc_slice[:,:-1]\n",
    "        mfcc_slice = mfcc_slice.reshape((1, mfcc_slice.shape[0], mfcc_slice.shape[1]))\n",
    "        mfcc = np.vstack((mfcc, mfcc_slice))\n",
    "        y.append(label)\n",
    "    y = np.array(y)\n",
    "    return mfcc, y"
   ]
  },
  {
   "cell_type": "code",
   "execution_count": 7,
   "metadata": {},
   "outputs": [
    {
     "name": "stdout",
     "output_type": "stream",
     "text": [
      "(573440,)\n",
      "569344 >small end: (16, 9)\n",
      "(91372,)\n",
      "86016 >small end: (16, 11)\n",
      "90112 >small end: (16, 3)\n",
      "(139, 16, 16) (139,)\n",
      "(21, 16, 16) (21,)\n"
     ]
    }
   ],
   "source": [
    "mfcc_drone, y_drone = mfcc4(drone_raw, 1)\n",
    "mfcc_background, y_background = mfcc4(background_raw, 0)\n",
    "\n",
    "print(mfcc_drone.shape, y_drone.shape)\n",
    "print(mfcc_background.shape, y_background.shape)"
   ]
  },
  {
   "cell_type": "code",
   "execution_count": 8,
   "metadata": {},
   "outputs": [
    {
     "name": "stdout",
     "output_type": "stream",
     "text": [
      "(160, 16, 16) (160,)\n"
     ]
    }
   ],
   "source": [
    "X = np.concatenate((mfcc_drone, mfcc_background), axis=0)\n",
    "y = np.hstack((y_drone, y_background))\n",
    "print(X.shape, y.shape)"
   ]
  },
  {
   "cell_type": "code",
   "execution_count": 9,
   "metadata": {},
   "outputs": [
    {
     "name": "stdout",
     "output_type": "stream",
     "text": [
      "(160, 256)\n",
      "<class 'numpy.ndarray'>\n"
     ]
    }
   ],
   "source": [
    "X_test = X.reshape(X.shape[0],-1)\n",
    "print(X_test.shape)\n",
    "print(type(X_test))"
   ]
  },
  {
   "cell_type": "code",
   "execution_count": 10,
   "metadata": {},
   "outputs": [],
   "source": [
    "#X_train2 = X.reshape(X.shape[0], X.shape[1], X.shape[2], 1) ############# 리셰입 해야 "
   ]
  },
  {
   "cell_type": "code",
   "execution_count": 11,
   "metadata": {},
   "outputs": [
    {
     "name": "stdout",
     "output_type": "stream",
     "text": [
      "(160, 2)\n"
     ]
    }
   ],
   "source": [
    "n_labels = y.shape[0]\n",
    "n_unique_labels = 2\n",
    "y_encoded = np.zeros((n_labels, n_unique_labels))\n",
    "y_encoded[np.arange(n_labels), y] = 1\n",
    "print(y_encoded.shape)"
   ]
  },
  {
   "cell_type": "markdown",
   "metadata": {},
   "source": [
    "# test init"
   ]
  },
  {
   "cell_type": "code",
   "execution_count": 12,
   "metadata": {},
   "outputs": [],
   "source": [
    "n_mfcc = 16\n",
    "n_frame = 16\n",
    "n_classes = 2\n",
    "n_channels = 1\n",
    "\n",
    "kernel_size = 3\n",
    "stride = 1\n",
    "pad = \"SAME\"\n",
    "\n",
    "learning_rate = 0.0002"
   ]
  },
  {
   "cell_type": "code",
   "execution_count": 13,
   "metadata": {},
   "outputs": [],
   "source": [
    "X = tf.placeholder(tf.float32, shape=[None,n_mfcc*n_frame*n_channels])\n",
    "#X = tf.reshape(X, [-1, n_mfcc, n_frame, n_channels]) #fully connected에는 리셰입 안해도 된다 \n",
    "Y = tf.placeholder(tf.float32, shape=[None,n_classes])\n",
    "\n",
    "keep_prob = tf.placeholder(tf.float32)\n",
    "\n",
    "#dense2 = tf.layers.dense(inputs=flat, units=625, activation=tf.nn.relu)\n",
    "#dropout2 = tf.layers.dropout(inputs=dense2, rate=0.5, training=True)\n",
    "dense1 = tf.layers.dense(inputs=X, units=256, activation=tf.nn.relu)\n",
    "dropout1 = tf.nn.dropout(dense1, keep_prob=keep_prob)\n",
    "dense2 = tf.layers.dense(inputs=dropout1, units=256, activation=tf.nn.relu)\n",
    "dropout2 = tf.nn.dropout(dense2, keep_prob=keep_prob)\n",
    "dense3 = tf.layers.dense(inputs=dropout2, units=512, activation=tf.nn.relu)\n",
    "dropout3 = tf.nn.dropout(dense3, keep_prob=keep_prob)\n",
    "#이거 지워보고 돌려보고 \n",
    "dense4 = tf.layers.dense(inputs=dropout3, units=512, activation=tf.nn.relu)\n",
    "dropout4 = tf.nn.dropout(dense4, keep_prob=keep_prob)\n",
    "dense5 = tf.layers.dense(inputs=dropout4, units=256, activation=tf.nn.relu)\n",
    "dropout5 = tf.nn.dropout(dense5, keep_prob=keep_prob)\n",
    "\n",
    "logits= tf.layers.dense(inputs=dropout5, units=2)"
   ]
  },
  {
   "cell_type": "code",
   "execution_count": 14,
   "metadata": {},
   "outputs": [],
   "source": [
    "cost = tf.reduce_mean(tf.nn.softmax_cross_entropy_with_logits_v2(logits=logits, labels=Y))\n",
    "optimizer = tf.train.AdamOptimizer(learning_rate=learning_rate).minimize(cost)"
   ]
  },
  {
   "cell_type": "code",
   "execution_count": 15,
   "metadata": {
    "scrolled": false
   },
   "outputs": [
    {
     "name": "stdout",
     "output_type": "stream",
     "text": [
      "INFO:tensorflow:Restoring parameters from ../../model/Dense/dense_model\n"
     ]
    }
   ],
   "source": [
    "# Model Save\n",
    "sess=tf.Session()\n",
    "saver = tf.train.Saver()\n",
    "saver.restore(sess, '../../model/Dense/dense_model')"
   ]
  },
  {
   "cell_type": "code",
   "execution_count": 16,
   "metadata": {
    "scrolled": true
   },
   "outputs": [
    {
     "name": "stdout",
     "output_type": "stream",
     "text": [
      "                0             1\n",
      "0    2.518524e-20  1.000000e+00\n",
      "1    1.095635e-17  1.000000e+00\n",
      "2    8.907713e-20  1.000000e+00\n",
      "3    4.777089e-15  1.000000e+00\n",
      "4    9.850579e-20  1.000000e+00\n",
      "5    4.243833e-19  1.000000e+00\n",
      "6    2.136161e-23  1.000000e+00\n",
      "7    1.497514e-27  1.000000e+00\n",
      "8    1.700067e-27  1.000000e+00\n",
      "9    2.204301e-12  1.000000e+00\n",
      "10   1.000000e+00  1.119481e-15\n",
      "11   1.000000e+00  1.134390e-15\n",
      "12   1.000000e+00  7.433492e-17\n",
      "13   1.000000e+00  2.848504e-17\n",
      "14   2.605108e-14  1.000000e+00\n",
      "15   0.000000e+00  1.000000e+00\n",
      "16   0.000000e+00  1.000000e+00\n",
      "17   0.000000e+00  1.000000e+00\n",
      "18   0.000000e+00  1.000000e+00\n",
      "19   2.473441e-28  1.000000e+00\n",
      "20   2.009620e-21  1.000000e+00\n",
      "21   7.395285e-23  1.000000e+00\n",
      "22   5.456904e-20  1.000000e+00\n",
      "23   5.322624e-15  1.000000e+00\n",
      "24   1.407401e-12  1.000000e+00\n",
      "25   2.383873e-12  1.000000e+00\n",
      "26   8.426935e-08  9.999999e-01\n",
      "27   1.909027e-10  1.000000e+00\n",
      "28   8.570077e-07  9.999992e-01\n",
      "29   9.992150e-01  7.849367e-04\n",
      "30   9.999999e-01  7.879090e-08\n",
      "31   1.000000e+00  1.454396e-10\n",
      "32   1.000000e+00  2.141820e-11\n",
      "33   1.000000e+00  2.085504e-10\n",
      "34   4.035545e-23  1.000000e+00\n",
      "35   0.000000e+00  1.000000e+00\n",
      "36   0.000000e+00  1.000000e+00\n",
      "37   0.000000e+00  1.000000e+00\n",
      "38   0.000000e+00  1.000000e+00\n",
      "39   3.578640e-29  1.000000e+00\n",
      "40   3.489071e-27  1.000000e+00\n",
      "41   1.205064e-20  1.000000e+00\n",
      "42   9.289216e-17  1.000000e+00\n",
      "43   6.445019e-08  9.999999e-01\n",
      "44   8.320156e-06  9.999917e-01\n",
      "45   1.755189e-01  8.244811e-01\n",
      "46   3.771831e-04  9.996228e-01\n",
      "47   3.544791e-01  6.455209e-01\n",
      "48   9.999993e-01  7.640929e-07\n",
      "49   9.999980e-01  2.028718e-06\n",
      "50   9.987205e-01  1.279523e-03\n",
      "51   9.999449e-01  5.512380e-05\n",
      "52   9.999899e-01  1.018900e-05\n",
      "53   1.000000e+00  1.887164e-14\n",
      "54   1.000000e+00  3.506065e-14\n",
      "55   9.992544e-01  7.455929e-04\n",
      "56   9.139639e-01  8.603619e-02\n",
      "57   9.972836e-01  2.716457e-03\n",
      "58   1.000000e+00  1.121498e-09\n",
      "59   1.000000e+00  1.232927e-10\n",
      "60   9.990275e-01  9.725416e-04\n",
      "61   1.779304e-06  9.999982e-01\n",
      "62   4.041401e-01  5.958599e-01\n",
      "63   8.070313e-01  1.929687e-01\n",
      "64   3.896970e-05  9.999610e-01\n",
      "65   8.915842e-05  9.999108e-01\n",
      "66   2.770155e-03  9.972299e-01\n",
      "67   9.312848e-01  6.871508e-02\n",
      "68   9.998826e-01  1.173706e-04\n",
      "69   4.860885e-19  1.000000e+00\n",
      "70   0.000000e+00  1.000000e+00\n",
      "71   0.000000e+00  1.000000e+00\n",
      "72   0.000000e+00  1.000000e+00\n",
      "73   0.000000e+00  1.000000e+00\n",
      "74   7.503680e-20  1.000000e+00\n",
      "75   1.000000e+00  2.947274e-12\n",
      "76   1.000000e+00  6.535162e-15\n",
      "77   1.000000e+00  9.665384e-15\n",
      "78   1.000000e+00  2.057314e-15\n",
      "79   2.883494e-21  1.000000e+00\n",
      "80   1.615920e-37  1.000000e+00\n",
      "81   4.948515e-36  1.000000e+00\n",
      "82   4.750198e-36  1.000000e+00\n",
      "83   3.273804e-35  1.000000e+00\n",
      "84   6.191108e-27  1.000000e+00\n",
      "85   2.285490e-22  1.000000e+00\n",
      "86   1.377287e-27  1.000000e+00\n",
      "87   2.666955e-16  1.000000e+00\n",
      "88   3.558318e-21  1.000000e+00\n",
      "89   1.596490e-16  1.000000e+00\n",
      "90   3.325246e-08  1.000000e+00\n",
      "91   6.820295e-05  9.999318e-01\n",
      "92   8.238252e-04  9.991762e-01\n",
      "93   8.608778e-01  1.391222e-01\n",
      "94   3.010043e-06  9.999970e-01\n",
      "95   7.181589e-20  1.000000e+00\n",
      "96   4.157189e-22  1.000000e+00\n",
      "97   7.174853e-20  1.000000e+00\n",
      "98   1.688847e-19  1.000000e+00\n",
      "99   9.926867e-01  7.313242e-03\n",
      "100  1.000000e+00  1.128830e-15\n",
      "101  1.000000e+00  3.116041e-09\n",
      "102  1.000000e+00  2.331479e-14\n",
      "103  1.000000e+00  9.727965e-16\n",
      "104  1.235279e-13  1.000000e+00\n",
      "105  1.644135e-32  1.000000e+00\n",
      "106  0.000000e+00  1.000000e+00\n",
      "107  0.000000e+00  1.000000e+00\n",
      "108  0.000000e+00  1.000000e+00\n",
      "109  9.223564e-19  1.000000e+00\n",
      "110  1.000000e+00  6.949656e-11\n",
      "111  1.000000e+00  8.877292e-11\n",
      "112  1.000000e+00  1.835886e-10\n",
      "113  1.000000e+00  2.546554e-17\n",
      "114  4.876033e-02  9.512397e-01\n",
      "115  9.482279e-36  1.000000e+00\n",
      "116  6.953483e-31  1.000000e+00\n",
      "117  7.785784e-30  1.000000e+00\n",
      "118  1.558245e-33  1.000000e+00\n",
      "119  6.503104e-31  1.000000e+00\n",
      "120  3.182784e-31  1.000000e+00\n",
      "121  1.023409e-32  1.000000e+00\n",
      "122  1.253066e-30  1.000000e+00\n",
      "123  1.526053e-28  1.000000e+00\n",
      "124  5.443594e-07  9.999994e-01\n",
      "125  1.000000e+00  6.213667e-16\n",
      "126  1.000000e+00  1.135975e-15\n",
      "127  1.000000e+00  3.333761e-16\n",
      "128  1.000000e+00  6.226277e-20\n",
      "129  1.000000e+00  1.836438e-19\n",
      "130  1.000000e+00  8.735401e-10\n",
      "131  1.000000e+00  7.452679e-11\n",
      "132  1.000000e+00  1.685625e-15\n",
      "133  1.000000e+00  1.901680e-16\n",
      "134  6.993723e-02  9.300628e-01\n",
      "135  3.165349e-38  1.000000e+00\n",
      "136  3.441673e-31  1.000000e+00\n",
      "137  0.000000e+00  1.000000e+00\n",
      "138  0.000000e+00  1.000000e+00\n",
      "139  1.000000e+00  1.624708e-23\n",
      "140  1.000000e+00  1.624554e-23\n",
      "141  1.000000e+00  7.732620e-16\n",
      "142  1.000000e+00  2.769253e-15\n",
      "143  1.000000e+00  1.730802e-13\n",
      "144  1.000000e+00  2.860460e-17\n",
      "145  1.000000e+00  6.738708e-21\n",
      "146  1.000000e+00  5.761454e-23\n",
      "147  1.000000e+00  2.043602e-23\n",
      "148  1.000000e+00  2.063893e-23\n",
      "149  1.000000e+00  4.279998e-23\n",
      "150  1.000000e+00  3.034419e-22\n",
      "151  1.000000e+00  1.569314e-21\n",
      "152  1.000000e+00  5.195784e-20\n",
      "153  1.000000e+00  5.228630e-20\n",
      "154  1.000000e+00  1.703592e-20\n",
      "155  1.000000e+00  4.682518e-20\n",
      "156  1.000000e+00  3.856805e-21\n",
      "157  1.000000e+00  1.678869e-21\n",
      "158  1.000000e+00  7.898694e-20\n",
      "159  1.000000e+00  3.522583e-20\n"
     ]
    }
   ],
   "source": [
    "# Prediction\n",
    "y_test = sess.run(tf.nn.softmax(logits), feed_dict={X: X_test, keep_prob:1})\n",
    "y_pred = sess.run(tf.argmax(logits,1),feed_dict={X: X_test,keep_prob:1 })\n",
    "y_true = sess.run(tf.argmax(y_encoded,1))\n",
    "\n",
    "import pandas as pd\n",
    "pd.options.display.max_rows = 4000\n",
    "print(pd.DataFrame(y_test))"
   ]
  },
  {
   "cell_type": "code",
   "execution_count": 17,
   "metadata": {},
   "outputs": [
    {
     "name": "stdout",
     "output_type": "stream",
     "text": [
      "90.44382217751942 0.5797680908815348\n"
     ]
    }
   ],
   "source": [
    "sum = 0\n",
    "for i in range(0, len(y_test)-4):\n",
    "    sum = sum + y_test[i][1]\n",
    "print(sum, sum/(len(y_test)-4))"
   ]
  },
  {
   "cell_type": "code",
   "execution_count": 18,
   "metadata": {
    "scrolled": false
   },
   "outputs": [
    {
     "name": "stdout",
     "output_type": "stream",
     "text": [
      "F-Score: 0.7\n",
      "Accuracy:  0.7\n",
      "              precision    recall  f1-score   support\n",
      "\n",
      "           0       0.30      1.00      0.47        21\n",
      "           1       1.00      0.65      0.79       139\n",
      "\n",
      "   micro avg       0.70      0.70      0.70       160\n",
      "   macro avg       0.65      0.83      0.63       160\n",
      "weighted avg       0.91      0.70      0.75       160\n",
      "\n",
      "[[21  0]\n",
      " [48 91]]\n"
     ]
    },
    {
     "data": {
      "image/png": "[encoded data removed]",
      "text/plain": [
       "<Figure size 1080x648 with 1 Axes>"
      ]
     },
     "metadata": {
      "needs_background": "light"
     },
     "output_type": "display_data"
    },
    {
     "data": {
      "image/png": "[encoded data removed]",
      "text/plain": [
       "<Figure size 1080x648 with 1 Axes>"
      ]
     },
     "metadata": {
      "needs_background": "light"
     },
     "output_type": "display_data"
    }
   ],
   "source": [
    "# Print Result\n",
    "\n",
    "from sklearn.metrics import precision_recall_fscore_support\n",
    "y_true = y_true\n",
    "y_pred = y_pred\n",
    "\n",
    "p,r,f,s = precision_recall_fscore_support(y_true, y_pred, average='micro')\n",
    "print(\"F-Score:\", round(f,2))\n",
    "from sklearn.metrics import accuracy_score\n",
    "print(\"Accuracy: \", accuracy_score(y_true, y_pred))\n",
    "\n",
    "\n",
    "fig = plt.figure(figsize=(15,9))\n",
    "ax = fig.add_subplot(1,1,1)\n",
    "ax.plot(np.linspace(0,len(y_pred), len(y_pred)),y_true, 'x')\n",
    "\n",
    "fig = plt.figure(figsize=(15,9))\n",
    "ax = fig.add_subplot(1,1,1)\n",
    "ax.plot(np.linspace(0,len(y_pred), len(y_pred)),y_pred, 'x')\n",
    "\n",
    "from sklearn.metrics import classification_report\n",
    "print(classification_report(y_true, y_pred))\n",
    "from sklearn.metrics import confusion_matrix\n",
    "print(confusion_matrix(y_true, y_pred))"
   ]
  },
  {
   "cell_type": "code",
   "execution_count": null,
   "metadata": {},
   "outputs": [],
   "source": []
  },
  {
   "cell_type": "code",
   "execution_count": null,
   "metadata": {},
   "outputs": [],
   "source": []
  }
 ],
 "metadata": {
  "kernelspec": {
   "display_name": "Python 3",
   "language": "python",
   "name": "python3"
  },
  "language_info": {
   "codemirror_mode": {
    "name": "ipython",
    "version": 3
   },
   "file_extension": ".py",
   "mimetype": "text/x-python",
   "name": "python",
   "nbconvert_exporter": "python",
   "pygments_lexer": "ipython3",
   "version": "3.6.7"
  }
 },
 "nbformat": 4,
 "nbformat_minor": 2
}
