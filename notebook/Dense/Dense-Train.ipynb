{
 "cells": [
  {
   "cell_type": "code",
   "execution_count": 1,
   "metadata": {},
   "outputs": [],
   "source": [
    "import matplotlib.pyplot as plt\n",
    "%matplotlib inline\n",
    "import IPython.display\n",
    "import librosa.display\n",
    "import numpy as np\n",
    "import librosa\n",
    "import tensorflow as tf\n",
    "import glob"
   ]
  },
  {
   "cell_type": "markdown",
   "metadata": {},
   "source": [
    "### If you have been save the data, you don't have to preprocessing and save the data"
   ]
  },
  {
   "cell_type": "code",
   "execution_count": 2,
   "metadata": {},
   "outputs": [],
   "source": [
    "drone_path = '../../data/drone/*.wav'\n",
    "background_path = '../../data/background/*.wav'\n",
    "\n",
    "drone_files = glob.glob(drone_path)\n",
    "background_files = glob.glob(background_path)"
   ]
  },
  {
   "cell_type": "code",
   "execution_count": 3,
   "metadata": {},
   "outputs": [],
   "source": [
    "CHUNK_SIZE = 8192\n",
    "SR = 44100\n",
    "N_MFCC = 16"
   ]
  },
  {
   "cell_type": "code",
   "execution_count": 4,
   "metadata": {},
   "outputs": [],
   "source": [
    "def load(files, sr=44100):\n",
    "    [raw, sr] = librosa.load(files[0], sr=sr)\n",
    "    for f in files[1:]:\n",
    "        [array, sr] = librosa.load(f, sr=sr)\n",
    "        raw = np.hstack((raw, array))\n",
    "    print(raw.shape)\n",
    "    return raw"
   ]
  },
  {
   "cell_type": "code",
   "execution_count": 5,
   "metadata": {},
   "outputs": [
    {
     "name": "stdout",
     "output_type": "stream",
     "text": [
      "(4853614,)\n",
      "(5437727,)\n"
     ]
    }
   ],
   "source": [
    "drone_raw = load(drone_files)\n",
    "background_raw = load(background_files)"
   ]
  },
  {
   "cell_type": "markdown",
   "metadata": {},
   "source": [
    "# Data preprocessing"
   ]
  },
  {
   "cell_type": "markdown",
   "metadata": {},
   "source": [
    "Chose `mfcc4` among functions below:\n",
    "- input size 16x16; `n_mfcc=16`, used first 16 data points from 16x17 mfcc of a chunk with size 8192\n",
    "- chunk siez 8192, overlapped half of it"
   ]
  },
  {
   "cell_type": "code",
   "execution_count": 6,
   "metadata": {},
   "outputs": [],
   "source": [
    "def mfcc4(raw, label, chunk_size=8192, window_size=4096, sr=44100, n_mfcc=16, n_frame=16):\n",
    "    mfcc = np.empty((0, n_mfcc, n_frame))\n",
    "    y = []\n",
    "    print(raw.shape)\n",
    "    for i in range(0, len(raw), chunk_size//2):\n",
    "        mfcc_slice = librosa.feature.mfcc(raw[i:i+chunk_size], sr=sr, n_mfcc=n_mfcc) #n_mfcc,17\n",
    "        if mfcc_slice.shape[1] < 17:\n",
    "            print(\"small end:\", mfcc_slice.shape)\n",
    "            continue\n",
    "        mfcc_slice = mfcc_slice[:,:-1]\n",
    "        mfcc_slice = mfcc_slice.reshape((1, mfcc_slice.shape[0], mfcc_slice.shape[1]))\n",
    "        mfcc = np.vstack((mfcc, mfcc_slice))\n",
    "        y.append(label)\n",
    "    y = np.array(y)\n",
    "    return mfcc, y"
   ]
  },
  {
   "cell_type": "code",
   "execution_count": 7,
   "metadata": {},
   "outputs": [
    {
     "name": "stdout",
     "output_type": "stream",
     "text": [
      "(4853614,)\n",
      "small end: (16, 16)\n",
      "small end: (16, 8)\n",
      "(5437727,)\n",
      "small end: (16, 13)\n",
      "small end: (16, 5)\n",
      "(1183, 16, 16) (1183,)\n",
      "(1326, 16, 16) (1326,)\n"
     ]
    }
   ],
   "source": [
    "mfcc_drone, y_drone = mfcc4(drone_raw, 1)\n",
    "mfcc_background, y_background = mfcc4(background_raw, 0)\n",
    "\n",
    "print(mfcc_drone.shape, y_drone.shape)\n",
    "print(mfcc_background.shape, y_background.shape)"
   ]
  },
  {
   "cell_type": "code",
   "execution_count": 8,
   "metadata": {},
   "outputs": [
    {
     "name": "stdout",
     "output_type": "stream",
     "text": [
      "(2509, 16, 16) (2509,)\n"
     ]
    }
   ],
   "source": [
    "X = np.concatenate((mfcc_drone, mfcc_background), axis=0)\n",
    "y = np.hstack((y_drone, y_background))\n",
    "print(X.shape, y.shape)"
   ]
  },
  {
   "cell_type": "code",
   "execution_count": 9,
   "metadata": {},
   "outputs": [],
   "source": [
    "X = np.reshape(X,(X.shape[0],-1))"
   ]
  },
  {
   "cell_type": "code",
   "execution_count": 10,
   "metadata": {},
   "outputs": [
    {
     "data": {
      "text/plain": [
       "(2509, 256)"
      ]
     },
     "execution_count": 10,
     "metadata": {},
     "output_type": "execute_result"
    }
   ],
   "source": [
    "X.shape"
   ]
  },
  {
   "cell_type": "code",
   "execution_count": 11,
   "metadata": {},
   "outputs": [
    {
     "name": "stdout",
     "output_type": "stream",
     "text": [
      "(2509, 2)\n"
     ]
    }
   ],
   "source": [
    "n_labels = y.shape[0]\n",
    "n_unique_labels = 2\n",
    "y_encoded = np.zeros((n_labels, n_unique_labels))\n",
    "y_encoded[np.arange(n_labels), y] = 1\n",
    "print(y_encoded.shape)"
   ]
  },
  {
   "cell_type": "code",
   "execution_count": 12,
   "metadata": {},
   "outputs": [],
   "source": [
    "# Split data\n",
    "from sklearn import model_selection\n",
    "X_train, X_test, y_train, y_test = model_selection.train_test_split(X, y_encoded, test_size=0.2, random_state=42)\n",
    "X_train, X_val, y_train, y_val = model_selection.train_test_split(X_train, y_train, test_size=0.2, random_state=42)"
   ]
  },
  {
   "cell_type": "code",
   "execution_count": 13,
   "metadata": {},
   "outputs": [
    {
     "name": "stdout",
     "output_type": "stream",
     "text": [
      "(1605, 256) (1605, 2)\n",
      "(402, 256) (402, 2)\n",
      "(502, 256) (502, 2)\n"
     ]
    }
   ],
   "source": [
    "print(X_train.shape,y_train.shape)\n",
    "print(X_val.shape, y_val.shape)\n",
    "print(X_test.shape, y_test.shape)"
   ]
  },
  {
   "cell_type": "code",
   "execution_count": 14,
   "metadata": {},
   "outputs": [],
   "source": [
    "# Save Data\n",
    "np.save('../../model/X_train', X_train)\n",
    "np.save('../../model/X_test', X_test)\n",
    "np.save('../../model/X_val', X_val)\n",
    "np.save('../../model/y_val', y_val)\n",
    "np.save('../../model/y_train', y_train)\n",
    "np.save('../../model/y_test', y_test)"
   ]
  },
  {
   "cell_type": "markdown",
   "metadata": {},
   "source": [
    "### Until this part"
   ]
  },
  {
   "cell_type": "code",
   "execution_count": 15,
   "metadata": {},
   "outputs": [],
   "source": [
    "# Load Data\n",
    "X_train = np.load('../../model/X_train.npy')\n",
    "X_test = np.load('../../model/X_test.npy')\n",
    "X_val = np.load('../../model/X_val.npy')\n",
    "y_val = np.load('../../model/y_val.npy')\n",
    "y_train = np.load('../../model/y_train.npy')\n",
    "y_test = np.load('../../model/y_test.npy')"
   ]
  },
  {
   "cell_type": "markdown",
   "metadata": {},
   "source": [
    "# Experiment 3 - One convolutional layer /w no dropout\n"
   ]
  },
  {
   "cell_type": "markdown",
   "metadata": {},
   "source": [
    "##Experiment 3-2\n",
    "- learning rate 0.005\n",
    "- pooling stride 1x1\n",
    "- #filter 1\n",
    "- best result among every other settings\n",
    "- cost kept fluctuated during training. (0.8 -> 1.3) -- why is that?"
   ]
  },
  {
   "cell_type": "code",
   "execution_count": 16,
   "metadata": {},
   "outputs": [],
   "source": [
    "tf.reset_default_graph()"
   ]
  },
  {
   "cell_type": "code",
   "execution_count": 17,
   "metadata": {},
   "outputs": [],
   "source": [
    "n_mfcc = 16\n",
    "n_frame = 16\n",
    "n_classes = 2\n",
    "n_channels = 1\n",
    "\n",
    "kernel_size = 3\n",
    "stride = 1\n",
    "pad = \"SAME\"\n",
    "\n",
    "learning_rate = 0.0002  # 0.005\n",
    "training_epochs = 500 # 수정해야해"
   ]
  },
  {
   "cell_type": "markdown",
   "metadata": {},
   "source": [
    "# Layer"
   ]
  },
  {
   "cell_type": "markdown",
   "metadata": {},
   "source": [
    "## Experiment\n",
    "- learning rate 0.0002\n",
    "- no cnn/ pooling \n",
    "- just dense with dropout "
   ]
  },
  {
   "cell_type": "code",
   "execution_count": 18,
   "metadata": {},
   "outputs": [],
   "source": [
    "X = tf.placeholder(tf.float32, shape=[None,n_mfcc*n_frame*n_channels])\n",
    "Y = tf.placeholder(tf.float32, shape=[None,n_classes])\n",
    "\n",
    "keep_prob = tf.placeholder(tf.float32)\n",
    "\n",
    "dense1 = tf.layers.dense(inputs=X, units=256, activation=tf.nn.relu)\n",
    "dropout1 = tf.nn.dropout(dense1, keep_prob=keep_prob)\n",
    "dense2 = tf.layers.dense(inputs=dropout1, units=256, activation=tf.nn.relu)\n",
    "dropout2 = tf.nn.dropout(dense2, keep_prob=keep_prob)\n",
    "dense3 = tf.layers.dense(inputs=dropout2, units=512, activation=tf.nn.relu)\n",
    "dropout3 = tf.nn.dropout(dense3, keep_prob=keep_prob)\n",
    "dense4 = tf.layers.dense(inputs=dropout3, units=512, activation=tf.nn.relu)\n",
    "dropout4 = tf.nn.dropout(dense4, keep_prob=keep_prob)\n",
    "dense5 = tf.layers.dense(inputs=dropout4, units=256, activation=tf.nn.relu)\n",
    "dropout5 = tf.nn.dropout(dense5, keep_prob=keep_prob)\n",
    "\n",
    "logits= tf.layers.dense(inputs=dropout5, units=2)"
   ]
  },
  {
   "cell_type": "code",
   "execution_count": 19,
   "metadata": {},
   "outputs": [],
   "source": [
    "cost = tf.reduce_mean(tf.nn.softmax_cross_entropy_with_logits_v2(logits=logits, labels=Y))\n",
    "optimizer = tf.train.AdamOptimizer(learning_rate=learning_rate).minimize(cost)"
   ]
  },
  {
   "cell_type": "code",
   "execution_count": 20,
   "metadata": {},
   "outputs": [],
   "source": [
    "sess = tf.Session()\n",
    "sess.run(tf.global_variables_initializer())"
   ]
  },
  {
   "cell_type": "code",
   "execution_count": 21,
   "metadata": {},
   "outputs": [],
   "source": [
    "# model save\n",
    "model_path = '../../model/Dense/dense_model'\n",
    "saver = tf.train.Saver()"
   ]
  },
  {
   "cell_type": "markdown",
   "metadata": {},
   "source": [
    "# Trainning"
   ]
  },
  {
   "cell_type": "code",
   "execution_count": 22,
   "metadata": {},
   "outputs": [],
   "source": [
    "import math"
   ]
  },
  {
   "cell_type": "code",
   "execution_count": 23,
   "metadata": {
    "scrolled": false
   },
   "outputs": [],
   "source": [
    "with tf.name_scope(\"eval\"):\n",
    "    correct = tf.nn.in_top_k(logits, y, 1)\n",
    "    accuracy = tf.reduce_mean(tf.cast(correct, tf.float32))\n",
    "#    accuracy_summary = tf.summary.scalar('accuracy', accuracy)"
   ]
  },
  {
   "cell_type": "code",
   "execution_count": 24,
   "metadata": {},
   "outputs": [],
   "source": [
    "from sklearn.metrics import accuracy_score"
   ]
  },
  {
   "cell_type": "code",
   "execution_count": 25,
   "metadata": {
    "scrolled": false
   },
   "outputs": [
    {
     "name": "stdout",
     "output_type": "stream",
     "text": [
      "Epoch: 0001 cost =  0.987263097 \t검증 세트 정확도: 80.348%\n",
      "Epoch: 0002 cost =  0.487848740 \t검증 세트 정확도: 79.353%\n",
      "Epoch: 0003 cost =  0.328777151 \t검증 세트 정확도: 84.080%\n",
      "Epoch: 0004 cost =  0.225804329 \t검증 세트 정확도: 89.801%\n",
      "Epoch: 0005 cost =  0.162442451 \t검증 세트 정확도: 91.542%\n",
      "Epoch: 0006 cost =  0.118821537 \t검증 세트 정확도: 93.035%\n",
      "Epoch: 0007 cost =  0.083147301 \t검증 세트 정확도: 93.035%\n",
      "Epoch: 0008 cost =  0.066144931 \t검증 세트 정확도: 93.284%\n",
      "Epoch: 0009 cost =  0.052422383 \t검증 세트 정확도: 93.532%\n",
      "Epoch: 0010 cost =  0.042219105 \t검증 세트 정확도: 93.532%\n",
      "Epoch: 0011 cost =  0.034776987 \t검증 세트 정확도: 94.030%\n",
      "Epoch: 0012 cost =  0.023222957 \t검증 세트 정확도: 94.776%\n",
      "Epoch: 0013 cost =  0.019728692 \t검증 세트 정확도: 96.269%\n",
      "Epoch: 0014 cost =  0.019458564 \t검증 세트 정확도: 96.269%\n",
      "Epoch: 0015 cost =  0.016795155 \t검증 세트 정확도: 97.015%\n",
      "Epoch: 0016 cost =  0.011503343 \t검증 세트 정확도: 97.015%\n",
      "Epoch: 0017 cost =  0.011917256 \t검증 세트 정확도: 97.512%\n",
      "Epoch: 0018 cost =  0.009060391 \t검증 세트 정확도: 98.010%\n",
      "Epoch: 0019 cost =  0.008019699 \t검증 세트 정확도: 98.259%\n",
      "Epoch: 0020 cost =  0.007285313 \t검증 세트 정확도: 98.259%\n",
      "Epoch: 0021 cost =  0.005451729 \t검증 세트 정확도: 98.259%\n",
      "Epoch: 0022 cost =  0.005841805 \t검증 세트 정확도: 98.507%\n",
      "Epoch: 0023 cost =  0.005159445 \t검증 세트 정확도: 98.507%\n",
      "Epoch: 0024 cost =  0.005353507 \t검증 세트 정확도: 98.010%\n",
      "Epoch: 0025 cost =  0.004576733 \t검증 세트 정확도: 98.259%\n",
      "Epoch: 0026 cost =  0.005379621 \t검증 세트 정확도: 98.756%\n",
      "Epoch: 0027 cost =  0.002939479 \t검증 세트 정확도: 98.507%\n",
      "Epoch: 0028 cost =  0.003634054 \t검증 세트 정확도: 98.756%\n",
      "Epoch: 0029 cost =  0.003552643 \t검증 세트 정확도: 99.005%\n",
      "Epoch: 0030 cost =  0.003080238 \t검증 세트 정확도: 99.005%\n",
      "Epoch: 0031 cost =  0.002685474 \t검증 세트 정확도: 98.507%\n",
      "Epoch: 0032 cost =  0.003018964 \t검증 세트 정확도: 98.507%\n",
      "Epoch: 0033 cost =  0.003185216 \t검증 세트 정확도: 98.507%\n",
      "Epoch: 0034 cost =  0.002685397 \t검증 세트 정확도: 98.507%\n",
      "Epoch: 0035 cost =  0.002134029 \t검증 세트 정확도: 98.756%\n",
      "Epoch: 0036 cost =  0.002304525 \t검증 세트 정확도: 98.507%\n",
      "Epoch: 0037 cost =  0.002013466 \t검증 세트 정확도: 98.756%\n",
      "Epoch: 0038 cost =  0.002629550 \t검증 세트 정확도: 98.756%\n",
      "Epoch: 0039 cost =  0.001820971 \t검증 세트 정확도: 98.756%\n",
      "Epoch: 0040 cost =  0.002041344 \t검증 세트 정확도: 98.756%\n",
      "Epoch: 0041 cost =  0.001732770 \t검증 세트 정확도: 99.005%\n",
      "Epoch: 0042 cost =  0.001084028 \t검증 세트 정확도: 99.005%\n",
      "Epoch: 0043 cost =  0.001587310 \t검증 세트 정확도: 99.005%\n",
      "Epoch: 0044 cost =  0.001445715 \t검증 세트 정확도: 98.756%\n",
      "Epoch: 0045 cost =  0.001746236 \t검증 세트 정확도: 98.756%\n",
      "Epoch: 0046 cost =  0.001997703 \t검증 세트 정확도: 99.005%\n",
      "Epoch: 0047 cost =  0.001054608 \t검증 세트 정확도: 99.005%\n",
      "Epoch: 0048 cost =  0.001380385 \t검증 세트 정확도: 99.005%\n",
      "Epoch: 0049 cost =  0.001412186 \t검증 세트 정확도: 99.005%\n",
      "Epoch: 0050 cost =  0.001527211 \t검증 세트 정확도: 99.005%\n",
      "Epoch: 0051 cost =  0.000960411 \t검증 세트 정확도: 99.005%\n",
      "Epoch: 0052 cost =  0.001045361 \t검증 세트 정확도: 99.005%\n",
      "Epoch: 0053 cost =  0.001376198 \t검증 세트 정확도: 99.254%\n",
      "Epoch: 0054 cost =  0.000922826 \t검증 세트 정확도: 99.502%\n",
      "Epoch: 0055 cost =  0.001022122 \t검증 세트 정확도: 98.756%\n",
      "Epoch: 0056 cost =  0.001117259 \t검증 세트 정확도: 99.254%\n",
      "Epoch: 0057 cost =  0.000620051 \t검증 세트 정확도: 99.502%\n",
      "Epoch: 0058 cost =  0.000662639 \t검증 세트 정확도: 99.254%\n",
      "Epoch: 0059 cost =  0.000739956 \t검증 세트 정확도: 99.254%\n",
      "Epoch: 0060 cost =  0.000712521 \t검증 세트 정확도: 99.254%\n",
      "Epoch: 0061 cost =  0.000930707 \t검증 세트 정확도: 99.502%\n",
      "Epoch: 0062 cost =  0.000811651 \t검증 세트 정확도: 99.005%\n",
      "Epoch: 0063 cost =  0.000621899 \t검증 세트 정확도: 99.502%\n",
      "Epoch: 0064 cost =  0.000629872 \t검증 세트 정확도: 99.254%\n",
      "Epoch: 0065 cost =  0.000658977 \t검증 세트 정확도: 99.254%\n",
      "Epoch: 0066 cost =  0.000695378 \t검증 세트 정확도: 99.502%\n",
      "Epoch: 0067 cost =  0.000627759 \t검증 세트 정확도: 99.254%\n",
      "Epoch: 0068 cost =  0.000892285 \t검증 세트 정확도: 99.502%\n",
      "Epoch: 0069 cost =  0.000843114 \t검증 세트 정확도: 99.502%\n",
      "Epoch: 0070 cost =  0.000578467 \t검증 세트 정확도: 99.502%\n",
      "Epoch: 0071 cost =  0.000680566 \t검증 세트 정확도: 99.502%\n",
      "Epoch: 0072 cost =  0.000810639 \t검증 세트 정확도: 99.502%\n",
      "Epoch: 0073 cost =  0.000498853 \t검증 세트 정확도: 99.502%\n",
      "Epoch: 0074 cost =  0.000611488 \t검증 세트 정확도: 99.502%\n",
      "Epoch: 0075 cost =  0.000533628 \t검증 세트 정확도: 99.254%\n",
      "Epoch: 0076 cost =  0.000643790 \t검증 세트 정확도: 99.502%\n",
      "Epoch: 0077 cost =  0.000251383 \t검증 세트 정확도: 99.254%\n",
      "Epoch: 0078 cost =  0.000495208 \t검증 세트 정확도: 99.502%\n",
      "Epoch: 0079 cost =  0.000409998 \t검증 세트 정확도: 99.502%\n",
      "Epoch: 0080 cost =  0.000397621 \t검증 세트 정확도: 99.502%\n",
      "Epoch: 0081 cost =  0.000419979 \t검증 세트 정확도: 99.254%\n",
      "Epoch: 0082 cost =  0.000336134 \t검증 세트 정확도: 99.502%\n",
      "Epoch: 0083 cost =  0.000421150 \t검증 세트 정확도: 99.502%\n",
      "Epoch: 0084 cost =  0.000395119 \t검증 세트 정확도: 99.502%\n",
      "Epoch: 0085 cost =  0.000349550 \t검증 세트 정확도: 99.751%\n",
      "Epoch: 0086 cost =  0.000235352 \t검증 세트 정확도: 99.751%\n",
      "Epoch: 0087 cost =  0.000223334 \t검증 세트 정확도: 99.502%\n",
      "Epoch: 0088 cost =  0.000298482 \t검증 세트 정확도: 99.751%\n",
      "Epoch: 0089 cost =  0.000377148 \t검증 세트 정확도: 99.502%\n",
      "Epoch: 0090 cost =  0.000360884 \t검증 세트 정확도: 99.751%\n",
      "Epoch: 0091 cost =  0.000364868 \t검증 세트 정확도: 99.254%\n",
      "Epoch: 0092 cost =  0.000395744 \t검증 세트 정확도: 99.751%\n",
      "Epoch: 0093 cost =  0.000437495 \t검증 세트 정확도: 99.502%\n",
      "Epoch: 0094 cost =  0.000203297 \t검증 세트 정확도: 99.751%\n",
      "Epoch: 0095 cost =  0.000541622 \t검증 세트 정확도: 99.751%\n",
      "Epoch: 0096 cost =  0.000405383 \t검증 세트 정확도: 99.751%\n",
      "Epoch: 0097 cost =  0.000502407 \t검증 세트 정확도: 99.751%\n",
      "Epoch: 0098 cost =  0.000175284 \t검증 세트 정확도: 99.751%\n",
      "Epoch: 0099 cost =  0.000333614 \t검증 세트 정확도: 99.751%\n",
      "Epoch: 0100 cost =  0.000245209 \t검증 세트 정확도: 99.502%\n",
      "Epoch: 0101 cost =  0.000142110 \t검증 세트 정확도: 99.751%\n",
      "Epoch: 0102 cost =  0.000228330 \t검증 세트 정확도: 99.751%\n",
      "Epoch: 0103 cost =  0.000208739 \t검증 세트 정확도: 99.502%\n",
      "Epoch: 0104 cost =  0.000248027 \t검증 세트 정확도: 99.751%\n",
      "Epoch: 0105 cost =  0.000385714 \t검증 세트 정확도: 99.751%\n",
      "Epoch: 0106 cost =  0.000343285 \t검증 세트 정확도: 99.751%\n",
      "Epoch: 0107 cost =  0.000321092 \t검증 세트 정확도: 99.502%\n",
      "Epoch: 0108 cost =  0.000308004 \t검증 세트 정확도: 99.502%\n",
      "Epoch: 0109 cost =  0.000413736 \t검증 세트 정확도: 99.254%\n",
      "Epoch: 0110 cost =  0.000557475 \t검증 세트 정확도: 99.005%\n",
      "Epoch: 0111 cost =  0.001228638 \t검증 세트 정확도: 99.751%\n",
      "Epoch: 0112 cost =  0.000533697 \t검증 세트 정확도: 99.751%\n",
      "Epoch: 0113 cost =  0.000432130 \t검증 세트 정확도: 99.751%\n",
      "Epoch: 0114 cost =  0.000674106 \t검증 세트 정확도: 99.502%\n",
      "Epoch: 0115 cost =  0.000336656 \t검증 세트 정확도: 99.254%\n",
      "Epoch: 0116 cost =  0.000425851 \t검증 세트 정확도: 99.502%\n",
      "Epoch: 0117 cost =  0.000315865 \t검증 세트 정확도: 99.751%\n",
      "Epoch: 0118 cost =  0.000194410 \t검증 세트 정확도: 99.751%\n",
      "Epoch: 0119 cost =  0.000766218 \t검증 세트 정확도: 99.254%\n",
      "Epoch: 0120 cost =  0.000597999 \t검증 세트 정확도: 98.756%\n",
      "Epoch: 0121 cost =  0.000449672 \t검증 세트 정확도: 99.502%\n",
      "Epoch: 0122 cost =  0.000273778 \t검증 세트 정확도: 99.751%\n",
      "Epoch: 0123 cost =  0.000177383 \t검증 세트 정확도: 99.502%\n",
      "Epoch: 0124 cost =  0.000187895 \t검증 세트 정확도: 99.751%\n",
      "Epoch: 0125 cost =  0.000343769 \t검증 세트 정확도: 99.502%\n",
      "Epoch: 0126 cost =  0.000402503 \t검증 세트 정확도: 99.502%\n",
      "Epoch: 0127 cost =  0.000567774 \t검증 세트 정확도: 99.502%\n",
      "Epoch: 0128 cost =  0.000557969 \t검증 세트 정확도: 99.751%\n",
      "Epoch: 0129 cost =  0.000138878 \t검증 세트 정확도: 99.751%\n",
      "Epoch: 0130 cost =  0.000157809 \t검증 세트 정확도: 99.502%\n",
      "Epoch: 0131 cost =  0.000227879 \t검증 세트 정확도: 99.751%\n",
      "Epoch: 0132 cost =  0.000220839 \t검증 세트 정확도: 99.502%\n",
      "Epoch: 0133 cost =  0.000224146 \t검증 세트 정확도: 99.502%\n",
      "Epoch: 0134 cost =  0.000174402 \t검증 세트 정확도: 99.751%\n",
      "Epoch: 0135 cost =  0.000162166 \t검증 세트 정확도: 99.751%\n",
      "Epoch: 0136 cost =  0.000058679 \t검증 세트 정확도: 99.751%\n",
      "Epoch: 0137 cost =  0.000170416 \t검증 세트 정확도: 99.751%\n",
      "Epoch: 0138 cost =  0.000099758 \t검증 세트 정확도: 99.502%\n",
      "Epoch: 0139 cost =  0.000137652 \t검증 세트 정확도: 99.751%\n",
      "Epoch: 0140 cost =  0.000309549 \t검증 세트 정확도: 99.751%\n",
      "Epoch: 0141 cost =  0.000259267 \t검증 세트 정확도: 99.502%\n",
      "Epoch: 0142 cost =  0.000264468 \t검증 세트 정확도: 99.254%\n",
      "Epoch: 0143 cost =  0.000894803 \t검증 세트 정확도: 99.751%\n",
      "Epoch: 0144 cost =  0.000952943 \t검증 세트 정확도: 99.254%\n",
      "Epoch: 0145 cost =  0.000539891 \t검증 세트 정확도: 99.751%\n",
      "Epoch: 0146 cost =  0.000077292 \t검증 세트 정확도: 99.751%\n",
      "Epoch: 0147 cost =  0.000069673 \t검증 세트 정확도: 99.751%\n",
      "Epoch: 0148 cost =  0.000199616 \t검증 세트 정확도: 99.751%\n",
      "Epoch: 0149 cost =  0.000316393 \t검증 세트 정확도: 99.502%\n",
      "Epoch: 0150 cost =  0.000366737 \t검증 세트 정확도: 100.000%\n",
      "Epoch: 0151 cost =  0.000272587 \t검증 세트 정확도: 99.751%\n",
      "Epoch: 0152 cost =  0.000257897 \t검증 세트 정확도: 99.751%\n",
      "Epoch: 0153 cost =  0.000324995 \t검증 세트 정확도: 99.751%\n",
      "Epoch: 0154 cost =  0.000178116 \t검증 세트 정확도: 99.751%\n",
      "Epoch: 0155 cost =  0.000309461 \t검증 세트 정확도: 99.005%\n",
      "Epoch: 0156 cost =  0.000266627 \t검증 세트 정확도: 99.502%\n",
      "Epoch: 0157 cost =  0.000553371 \t검증 세트 정확도: 99.502%\n",
      "Epoch: 0158 cost =  0.000183593 \t검증 세트 정확도: 99.751%\n"
     ]
    },
    {
     "name": "stdout",
     "output_type": "stream",
     "text": [
      "Epoch: 0159 cost =  0.000038077 \t검증 세트 정확도: 99.751%\n",
      "Epoch: 0160 cost =  0.000091917 \t검증 세트 정확도: 100.000%\n",
      "Epoch: 0161 cost =  0.000053160 \t검증 세트 정확도: 100.000%\n",
      "Epoch: 0162 cost =  0.000041589 \t검증 세트 정확도: 99.751%\n",
      "Epoch: 0163 cost =  0.000050939 \t검증 세트 정확도: 99.751%\n",
      "Epoch: 0164 cost =  0.000170687 \t검증 세트 정확도: 99.751%\n",
      "Epoch: 0165 cost =  0.000501017 \t검증 세트 정확도: 99.502%\n",
      "Epoch: 0166 cost =  0.000241596 \t검증 세트 정확도: 100.000%\n",
      "Epoch: 0167 cost =  0.000081271 \t검증 세트 정확도: 100.000%\n",
      "Epoch: 0168 cost =  0.000175890 \t검증 세트 정확도: 99.502%\n",
      "Epoch: 0169 cost =  0.000481424 \t검증 세트 정확도: 99.751%\n",
      "Epoch: 0170 cost =  0.000454258 \t검증 세트 정확도: 99.502%\n",
      "Epoch: 0171 cost =  0.001236922 \t검증 세트 정확도: 99.751%\n",
      "Epoch: 0172 cost =  0.000408544 \t검증 세트 정확도: 99.502%\n",
      "Epoch: 0173 cost =  0.000154354 \t검증 세트 정확도: 99.751%\n",
      "Epoch: 0174 cost =  0.000158822 \t검증 세트 정확도: 99.502%\n",
      "Epoch: 0175 cost =  0.000056521 \t검증 세트 정확도: 99.751%\n",
      "Epoch: 0176 cost =  0.000172943 \t검증 세트 정확도: 99.751%\n",
      "Epoch: 0177 cost =  0.000089681 \t검증 세트 정확도: 99.751%\n",
      "Epoch: 0178 cost =  0.000113723 \t검증 세트 정확도: 99.751%\n",
      "Epoch: 0179 cost =  0.000114092 \t검증 세트 정확도: 99.502%\n",
      "Epoch: 0180 cost =  0.000155138 \t검증 세트 정확도: 99.502%\n",
      "Epoch: 0181 cost =  0.000126426 \t검증 세트 정확도: 99.502%\n",
      "Epoch: 0182 cost =  0.000144306 \t검증 세트 정확도: 99.751%\n",
      "Epoch: 0183 cost =  0.000036240 \t검증 세트 정확도: 99.751%\n",
      "Epoch: 0184 cost =  0.000114559 \t검증 세트 정확도: 99.751%\n",
      "Epoch: 0185 cost =  0.000255193 \t검증 세트 정확도: 99.254%\n",
      "Epoch: 0186 cost =  0.000246812 \t검증 세트 정확도: 99.005%\n",
      "Epoch: 0187 cost =  0.000492804 \t검증 세트 정확도: 99.751%\n",
      "Epoch: 0188 cost =  0.000173378 \t검증 세트 정확도: 99.751%\n",
      "Epoch: 0189 cost =  0.000180296 \t검증 세트 정확도: 99.751%\n",
      "Epoch: 0190 cost =  0.000205639 \t검증 세트 정확도: 99.751%\n",
      "Epoch: 0191 cost =  0.000148950 \t검증 세트 정확도: 99.751%\n",
      "Epoch: 0192 cost =  0.000107037 \t검증 세트 정확도: 99.751%\n",
      "Epoch: 0193 cost =  0.000217214 \t검증 세트 정확도: 99.751%\n",
      "Epoch: 0194 cost =  0.000482218 \t검증 세트 정확도: 99.751%\n",
      "Epoch: 0195 cost =  0.000317735 \t검증 세트 정확도: 99.751%\n",
      "Epoch: 0196 cost =  0.000138687 \t검증 세트 정확도: 99.502%\n",
      "Epoch: 0197 cost =  0.000225478 \t검증 세트 정확도: 99.751%\n",
      "Epoch: 0198 cost =  0.000355286 \t검증 세트 정확도: 99.751%\n",
      "Epoch: 0199 cost =  0.000237475 \t검증 세트 정확도: 99.751%\n",
      "Epoch: 0200 cost =  0.000127113 \t검증 세트 정확도: 99.751%\n",
      "Epoch: 0201 cost =  0.000197018 \t검증 세트 정확도: 99.502%\n",
      "Epoch: 0202 cost =  0.000040239 \t검증 세트 정확도: 99.502%\n",
      "Epoch: 0203 cost =  0.000050059 \t검증 세트 정확도: 99.502%\n",
      "Epoch: 0204 cost =  0.000130035 \t검증 세트 정확도: 99.751%\n",
      "Epoch: 0205 cost =  0.000050521 \t검증 세트 정확도: 99.751%\n",
      "Epoch: 0206 cost =  0.000314473 \t검증 세트 정확도: 99.502%\n",
      "Epoch: 0207 cost =  0.000682457 \t검증 세트 정확도: 99.502%\n",
      "Epoch: 0208 cost =  0.000154751 \t검증 세트 정확도: 99.751%\n",
      "Epoch: 0209 cost =  0.000204848 \t검증 세트 정확도: 99.751%\n",
      "Epoch: 0210 cost =  0.000183696 \t검증 세트 정확도: 100.000%\n",
      "Epoch: 0211 cost =  0.000314789 \t검증 세트 정확도: 99.502%\n",
      "Epoch: 0212 cost =  0.000352421 \t검증 세트 정확도: 99.254%\n",
      "Epoch: 0213 cost =  0.000302521 \t검증 세트 정확도: 99.751%\n",
      "Epoch: 0214 cost =  0.000195110 \t검증 세트 정확도: 99.751%\n",
      "Epoch: 0215 cost =  0.000163745 \t검증 세트 정확도: 99.502%\n",
      "Epoch: 0216 cost =  0.000111788 \t검증 세트 정확도: 99.502%\n",
      "Epoch: 0217 cost =  0.000057988 \t검증 세트 정확도: 99.751%\n",
      "Epoch: 0218 cost =  0.000264437 \t검증 세트 정확도: 99.502%\n",
      "Epoch: 0219 cost =  0.000237435 \t검증 세트 정확도: 99.751%\n",
      "Epoch: 0220 cost =  0.000076649 \t검증 세트 정확도: 99.751%\n",
      "Epoch: 0221 cost =  0.000104289 \t검증 세트 정확도: 99.751%\n",
      "Epoch: 0222 cost =  0.000006955 \t검증 세트 정확도: 99.751%\n",
      "Epoch: 0223 cost =  0.000224914 \t검증 세트 정확도: 99.502%\n",
      "Epoch: 0224 cost =  0.000087529 \t검증 세트 정확도: 99.502%\n",
      "Epoch: 0225 cost =  0.000135056 \t검증 세트 정확도: 99.751%\n",
      "Epoch: 0226 cost =  0.000240356 \t검증 세트 정확도: 99.502%\n",
      "Epoch: 0227 cost =  0.000226754 \t검증 세트 정확도: 99.751%\n",
      "Epoch: 0228 cost =  0.000304859 \t검증 세트 정확도: 99.502%\n",
      "Epoch: 0229 cost =  0.000287848 \t검증 세트 정확도: 99.502%\n",
      "Epoch: 0230 cost =  0.000569397 \t검증 세트 정확도: 99.005%\n",
      "Epoch: 0231 cost =  0.000448716 \t검증 세트 정확도: 99.502%\n",
      "Epoch: 0232 cost =  0.000040851 \t검증 세트 정확도: 100.000%\n",
      "Epoch: 0233 cost =  0.000137371 \t검증 세트 정확도: 100.000%\n",
      "Epoch: 0234 cost =  0.000038823 \t검증 세트 정확도: 100.000%\n",
      "Epoch: 0235 cost =  0.000284221 \t검증 세트 정확도: 99.751%\n",
      "Epoch: 0236 cost =  0.000235388 \t검증 세트 정확도: 99.751%\n",
      "Epoch: 0237 cost =  0.000021880 \t검증 세트 정확도: 99.502%\n",
      "Epoch: 0238 cost =  0.000031704 \t검증 세트 정확도: 99.751%\n",
      "Epoch: 0239 cost =  0.000010871 \t검증 세트 정확도: 99.751%\n",
      "Epoch: 0240 cost =  0.000008119 \t검증 세트 정확도: 99.751%\n",
      "Epoch: 0241 cost =  0.000004095 \t검증 세트 정확도: 99.751%\n",
      "Epoch: 0242 cost =  0.000200029 \t검증 세트 정확도: 99.502%\n",
      "Epoch: 0243 cost =  0.000332903 \t검증 세트 정확도: 99.254%\n",
      "Epoch: 0244 cost =  0.000241784 \t검증 세트 정확도: 99.751%\n",
      "Epoch: 0245 cost =  0.000115169 \t검증 세트 정확도: 99.751%\n",
      "Epoch: 0246 cost =  0.000104625 \t검증 세트 정확도: 99.751%\n",
      "Epoch: 0247 cost =  0.000007201 \t검증 세트 정확도: 99.751%\n",
      "Epoch: 0248 cost =  0.000814843 \t검증 세트 정확도: 99.005%\n",
      "Epoch: 0249 cost =  0.001289314 \t검증 세트 정확도: 99.751%\n",
      "Epoch: 0250 cost =  0.000168334 \t검증 세트 정확도: 99.751%\n",
      "Epoch: 0251 cost =  0.000332888 \t검증 세트 정확도: 99.751%\n",
      "Epoch: 0252 cost =  0.000081248 \t검증 세트 정확도: 99.751%\n",
      "Epoch: 0253 cost =  0.000152423 \t검증 세트 정확도: 99.751%\n",
      "Epoch: 0254 cost =  0.000020247 \t검증 세트 정확도: 99.751%\n",
      "Epoch: 0255 cost =  0.000099208 \t검증 세트 정확도: 99.751%\n",
      "Epoch: 0256 cost =  0.000051510 \t검증 세트 정확도: 99.751%\n",
      "Epoch: 0257 cost =  0.000018461 \t검증 세트 정확도: 99.751%\n",
      "Epoch: 0258 cost =  0.000023630 \t검증 세트 정확도: 99.751%\n",
      "Epoch: 0259 cost =  0.000017939 \t검증 세트 정확도: 99.751%\n",
      "Epoch: 0260 cost =  0.000017352 \t검증 세트 정확도: 99.751%\n",
      "Epoch: 0261 cost =  0.000007318 \t검증 세트 정확도: 99.751%\n",
      "Epoch: 0262 cost =  0.000008208 \t검증 세트 정확도: 99.502%\n",
      "Epoch: 0263 cost =  0.000003574 \t검증 세트 정확도: 99.751%\n",
      "Epoch: 0264 cost =  0.000205478 \t검증 세트 정확도: 99.751%\n",
      "Epoch: 0265 cost =  0.000273939 \t검증 세트 정확도: 99.254%\n",
      "Epoch: 0266 cost =  0.000248730 \t검증 세트 정확도: 99.751%\n",
      "Epoch: 0267 cost =  0.000246981 \t검증 세트 정확도: 99.751%\n",
      "Epoch: 0268 cost =  0.000160776 \t검증 세트 정확도: 99.751%\n",
      "Epoch: 0269 cost =  0.000086926 \t검증 세트 정확도: 99.751%\n",
      "Epoch: 0270 cost =  0.000040100 \t검증 세트 정확도: 99.751%\n",
      "Epoch: 0271 cost =  0.000036040 \t검증 세트 정확도: 99.751%\n",
      "Epoch: 0272 cost =  0.000085618 \t검증 세트 정확도: 99.751%\n",
      "Epoch: 0273 cost =  0.000023759 \t검증 세트 정확도: 99.751%\n",
      "Epoch: 0274 cost =  0.000039397 \t검증 세트 정확도: 99.751%\n",
      "Epoch: 0275 cost =  0.000025310 \t검증 세트 정확도: 99.751%\n",
      "Epoch: 0276 cost =  0.000051318 \t검증 세트 정확도: 99.751%\n",
      "Epoch: 0277 cost =  0.000025574 \t검증 세트 정확도: 99.751%\n",
      "Epoch: 0278 cost =  0.000062022 \t검증 세트 정확도: 99.751%\n",
      "Epoch: 0279 cost =  0.000081380 \t검증 세트 정확도: 99.751%\n",
      "Epoch: 0280 cost =  0.000006577 \t검증 세트 정확도: 99.751%\n",
      "Epoch: 0281 cost =  0.000006289 \t검증 세트 정확도: 99.751%\n",
      "Epoch: 0282 cost =  0.000100464 \t검증 세트 정확도: 99.751%\n",
      "Epoch: 0283 cost =  0.000011056 \t검증 세트 정확도: 99.751%\n",
      "Epoch: 0284 cost =  0.000016847 \t검증 세트 정확도: 99.751%\n",
      "Epoch: 0285 cost =  0.000004813 \t검증 세트 정확도: 99.751%\n",
      "Epoch: 0286 cost =  0.000024130 \t검증 세트 정확도: 99.751%\n",
      "Epoch: 0287 cost =  0.000010997 \t검증 세트 정확도: 99.751%\n",
      "Epoch: 0288 cost =  0.000126206 \t검증 세트 정확도: 99.751%\n",
      "Epoch: 0289 cost =  0.000193875 \t검증 세트 정확도: 99.751%\n",
      "Epoch: 0290 cost =  0.000754229 \t검증 세트 정확도: 100.000%\n",
      "Epoch: 0291 cost =  0.001268173 \t검증 세트 정확도: 99.502%\n",
      "Epoch: 0292 cost =  0.000422114 \t검증 세트 정확도: 99.751%\n",
      "Epoch: 0293 cost =  0.000109796 \t검증 세트 정확도: 99.751%\n",
      "Epoch: 0294 cost =  0.000138152 \t검증 세트 정확도: 99.751%\n",
      "Epoch: 0295 cost =  0.000092485 \t검증 세트 정확도: 99.751%\n",
      "Epoch: 0296 cost =  0.000099218 \t검증 세트 정확도: 99.751%\n",
      "Epoch: 0297 cost =  0.000090191 \t검증 세트 정확도: 99.751%\n",
      "Epoch: 0298 cost =  0.000048387 \t검증 세트 정확도: 99.751%\n",
      "Epoch: 0299 cost =  0.000077974 \t검증 세트 정확도: 99.751%\n",
      "Epoch: 0300 cost =  0.000094814 \t검증 세트 정확도: 99.751%\n",
      "Epoch: 0301 cost =  0.000119770 \t검증 세트 정확도: 99.502%\n",
      "Epoch: 0302 cost =  0.000097581 \t검증 세트 정확도: 99.502%\n",
      "Epoch: 0303 cost =  0.000052292 \t검증 세트 정확도: 99.751%\n",
      "Epoch: 0304 cost =  0.000125293 \t검증 세트 정확도: 100.000%\n",
      "Epoch: 0305 cost =  0.000030448 \t검증 세트 정확도: 99.751%\n",
      "Epoch: 0306 cost =  0.000012926 \t검증 세트 정확도: 99.751%\n",
      "Epoch: 0307 cost =  0.000004475 \t검증 세트 정확도: 99.751%\n",
      "Epoch: 0308 cost =  0.000018879 \t검증 세트 정확도: 99.751%\n",
      "Epoch: 0309 cost =  0.000045850 \t검증 세트 정확도: 99.751%\n",
      "Epoch: 0310 cost =  0.000076206 \t검증 세트 정확도: 99.751%\n",
      "Epoch: 0311 cost =  0.000013478 \t검증 세트 정확도: 99.751%\n",
      "Epoch: 0312 cost =  0.000036125 \t검증 세트 정확도: 99.751%\n",
      "Epoch: 0313 cost =  0.000208201 \t검증 세트 정확도: 99.502%\n",
      "Epoch: 0314 cost =  0.000030488 \t검증 세트 정확도: 99.502%\n",
      "Epoch: 0315 cost =  0.000990774 \t검증 세트 정확도: 100.000%\n",
      "Epoch: 0316 cost =  0.000524515 \t검증 세트 정확도: 99.502%\n"
     ]
    },
    {
     "name": "stdout",
     "output_type": "stream",
     "text": [
      "Epoch: 0317 cost =  0.000085480 \t검증 세트 정확도: 99.751%\n",
      "Epoch: 0318 cost =  0.000040117 \t검증 세트 정확도: 99.751%\n",
      "Epoch: 0319 cost =  0.000245536 \t검증 세트 정확도: 99.751%\n",
      "Epoch: 0320 cost =  0.000046110 \t검증 세트 정확도: 99.751%\n",
      "Epoch: 0321 cost =  0.000017467 \t검증 세트 정확도: 99.751%\n",
      "Epoch: 0322 cost =  0.000005721 \t검증 세트 정확도: 99.751%\n",
      "Epoch: 0323 cost =  0.000049389 \t검증 세트 정확도: 99.502%\n",
      "Epoch: 0324 cost =  0.000083825 \t검증 세트 정확도: 99.751%\n",
      "Epoch: 0325 cost =  0.000121841 \t검증 세트 정확도: 99.751%\n",
      "Epoch: 0326 cost =  0.000058741 \t검증 세트 정확도: 100.000%\n",
      "Epoch: 0327 cost =  0.000162932 \t검증 세트 정확도: 99.751%\n",
      "Epoch: 0328 cost =  0.000026177 \t검증 세트 정확도: 99.751%\n",
      "Epoch: 0329 cost =  0.000015345 \t검증 세트 정확도: 99.751%\n",
      "Epoch: 0330 cost =  0.000027574 \t검증 세트 정확도: 99.502%\n",
      "Epoch: 0331 cost =  0.000225821 \t검증 세트 정확도: 99.502%\n",
      "Epoch: 0332 cost =  0.000251359 \t검증 세트 정확도: 99.751%\n",
      "Epoch: 0333 cost =  0.000476018 \t검증 세트 정확도: 99.254%\n",
      "Epoch: 0334 cost =  0.000375420 \t검증 세트 정확도: 99.502%\n",
      "Epoch: 0335 cost =  0.000974748 \t검증 세트 정확도: 99.502%\n",
      "Epoch: 0336 cost =  0.000093664 \t검증 세트 정확도: 99.751%\n",
      "Epoch: 0337 cost =  0.000084708 \t검증 세트 정확도: 99.751%\n",
      "Epoch: 0338 cost =  0.000158666 \t검증 세트 정확도: 99.502%\n",
      "Epoch: 0339 cost =  0.000265868 \t검증 세트 정확도: 100.000%\n",
      "Epoch: 0340 cost =  0.000136365 \t검증 세트 정확도: 99.751%\n",
      "Epoch: 0341 cost =  0.000067897 \t검증 세트 정확도: 99.751%\n",
      "Epoch: 0342 cost =  0.000157108 \t검증 세트 정확도: 99.751%\n",
      "Epoch: 0343 cost =  0.000007525 \t검증 세트 정확도: 99.751%\n",
      "Epoch: 0344 cost =  0.000007080 \t검증 세트 정확도: 99.751%\n",
      "Epoch: 0345 cost =  0.000021828 \t검증 세트 정확도: 99.751%\n",
      "Epoch: 0346 cost =  0.000048527 \t검증 세트 정확도: 99.502%\n",
      "Epoch: 0347 cost =  0.000005019 \t검증 세트 정확도: 99.751%\n",
      "Epoch: 0348 cost =  0.000003278 \t검증 세트 정확도: 99.751%\n",
      "Epoch: 0349 cost =  0.000005629 \t검증 세트 정확도: 99.751%\n",
      "Epoch: 0350 cost =  0.000001311 \t검증 세트 정확도: 99.751%\n",
      "Epoch: 0351 cost =  0.000000620 \t검증 세트 정확도: 99.751%\n",
      "Epoch: 0352 cost =  0.000000619 \t검증 세트 정확도: 99.751%\n",
      "Epoch: 0353 cost =  0.000001596 \t검증 세트 정확도: 99.751%\n",
      "Epoch: 0354 cost =  0.000001035 \t검증 세트 정확도: 99.751%\n",
      "Epoch: 0355 cost =  0.000021477 \t검증 세트 정확도: 99.751%\n",
      "Epoch: 0356 cost =  0.000008427 \t검증 세트 정확도: 99.751%\n",
      "Epoch: 0357 cost =  0.000008728 \t검증 세트 정확도: 99.751%\n",
      "Epoch: 0358 cost =  0.000000516 \t검증 세트 정확도: 99.751%\n",
      "Epoch: 0359 cost =  0.000059670 \t검증 세트 정확도: 99.502%\n",
      "Epoch: 0360 cost =  0.000001033 \t검증 세트 정확도: 99.502%\n",
      "Epoch: 0361 cost =  0.000027697 \t검증 세트 정확도: 99.751%\n",
      "Epoch: 0362 cost =  0.000001656 \t검증 세트 정확도: 99.751%\n",
      "Epoch: 0363 cost =  0.000005283 \t검증 세트 정확도: 99.751%\n",
      "Epoch: 0364 cost =  0.000005721 \t검증 세트 정확도: 99.751%\n",
      "Epoch: 0365 cost =  0.000226957 \t검증 세트 정확도: 99.751%\n",
      "Epoch: 0366 cost =  0.000069200 \t검증 세트 정확도: 99.751%\n",
      "Epoch: 0367 cost =  0.000764797 \t검증 세트 정확도: 99.751%\n",
      "Epoch: 0368 cost =  0.000060105 \t검증 세트 정확도: 100.000%\n",
      "Epoch: 0369 cost =  0.000813223 \t검증 세트 정확도: 99.502%\n",
      "Epoch: 0370 cost =  0.001537775 \t검증 세트 정확도: 99.502%\n",
      "Epoch: 0371 cost =  0.000290244 \t검증 세트 정확도: 99.502%\n",
      "Epoch: 0372 cost =  0.000077158 \t검증 세트 정확도: 99.502%\n",
      "Epoch: 0373 cost =  0.000182512 \t검증 세트 정확도: 99.751%\n",
      "Epoch: 0374 cost =  0.000025761 \t검증 세트 정확도: 99.751%\n",
      "Epoch: 0375 cost =  0.000048149 \t검증 세트 정확도: 99.751%\n",
      "Epoch: 0376 cost =  0.000012611 \t검증 세트 정확도: 99.751%\n",
      "Epoch: 0377 cost =  0.000021937 \t검증 세트 정확도: 99.751%\n",
      "Epoch: 0378 cost =  0.000017747 \t검증 세트 정확도: 99.751%\n",
      "Epoch: 0379 cost =  0.000216920 \t검증 세트 정확도: 99.502%\n",
      "Epoch: 0380 cost =  0.000169994 \t검증 세트 정확도: 99.751%\n",
      "Epoch: 0381 cost =  0.000066630 \t검증 세트 정확도: 99.751%\n",
      "Epoch: 0382 cost =  0.000153659 \t검증 세트 정확도: 99.751%\n",
      "Epoch: 0383 cost =  0.000037952 \t검증 세트 정확도: 99.751%\n",
      "Epoch: 0384 cost =  0.000036140 \t검증 세트 정확도: 99.751%\n",
      "Epoch: 0385 cost =  0.000012783 \t검증 세트 정확도: 99.751%\n",
      "Epoch: 0386 cost =  0.000027375 \t검증 세트 정확도: 99.751%\n",
      "Epoch: 0387 cost =  0.000054377 \t검증 세트 정확도: 100.000%\n",
      "Epoch: 0388 cost =  0.000017039 \t검증 세트 정확도: 99.751%\n",
      "Epoch: 0389 cost =  0.000043839 \t검증 세트 정확도: 99.751%\n",
      "Epoch: 0390 cost =  0.000014745 \t검증 세트 정확도: 99.751%\n",
      "Epoch: 0391 cost =  0.000225726 \t검증 세트 정확도: 99.502%\n",
      "Epoch: 0392 cost =  0.000780033 \t검증 세트 정확도: 99.751%\n",
      "Epoch: 0393 cost =  0.000162788 \t검증 세트 정확도: 99.502%\n",
      "Epoch: 0394 cost =  0.000176281 \t검증 세트 정확도: 99.254%\n",
      "Epoch: 0395 cost =  0.000474215 \t검증 세트 정확도: 99.751%\n",
      "Epoch: 0396 cost =  0.000366037 \t검증 세트 정확도: 99.751%\n",
      "Epoch: 0397 cost =  0.000065891 \t검증 세트 정확도: 99.751%\n",
      "Epoch: 0398 cost =  0.000160212 \t검증 세트 정확도: 100.000%\n",
      "Epoch: 0399 cost =  0.000427820 \t검증 세트 정확도: 99.751%\n",
      "Epoch: 0400 cost =  0.000195742 \t검증 세트 정확도: 99.502%\n",
      "Epoch: 0401 cost =  0.000427704 \t검증 세트 정확도: 99.502%\n",
      "Epoch: 0402 cost =  0.000105261 \t검증 세트 정확도: 99.751%\n",
      "Epoch: 0403 cost =  0.000015966 \t검증 세트 정확도: 99.502%\n",
      "Epoch: 0404 cost =  0.000018275 \t검증 세트 정확도: 99.751%\n",
      "Epoch: 0405 cost =  0.000005440 \t검증 세트 정확도: 99.751%\n",
      "Epoch: 0406 cost =  0.000015754 \t검증 세트 정확도: 99.751%\n",
      "Epoch: 0407 cost =  0.000003211 \t검증 세트 정확도: 99.751%\n",
      "Epoch: 0408 cost =  0.000002646 \t검증 세트 정확도: 99.751%\n",
      "Epoch: 0409 cost =  0.000635696 \t검증 세트 정확도: 99.502%\n",
      "Epoch: 0410 cost =  0.000110363 \t검증 세트 정확도: 99.751%\n",
      "Epoch: 0411 cost =  0.000052194 \t검증 세트 정확도: 99.502%\n",
      "Epoch: 0412 cost =  0.000197895 \t검증 세트 정확도: 99.502%\n",
      "Epoch: 0413 cost =  0.000163418 \t검증 세트 정확도: 99.751%\n",
      "Epoch: 0414 cost =  0.000270044 \t검증 세트 정확도: 99.502%\n",
      "Epoch: 0415 cost =  0.000135260 \t검증 세트 정확도: 99.751%\n",
      "Epoch: 0416 cost =  0.000119282 \t검증 세트 정확도: 99.751%\n",
      "Epoch: 0417 cost =  0.000216627 \t검증 세트 정확도: 99.254%\n",
      "Epoch: 0418 cost =  0.000105462 \t검증 세트 정확도: 99.751%\n",
      "Epoch: 0419 cost =  0.000116962 \t검증 세트 정확도: 99.502%\n",
      "Epoch: 0420 cost =  0.000314120 \t검증 세트 정확도: 99.502%\n",
      "Epoch: 0421 cost =  0.000285836 \t검증 세트 정확도: 99.751%\n",
      "Epoch: 0422 cost =  0.000158132 \t검증 세트 정확도: 99.502%\n",
      "Epoch: 0423 cost =  0.000147670 \t검증 세트 정확도: 99.751%\n",
      "Epoch: 0424 cost =  0.000062015 \t검증 세트 정확도: 100.000%\n",
      "Epoch: 0425 cost =  0.000260512 \t검증 세트 정확도: 99.751%\n",
      "Epoch: 0426 cost =  0.000113336 \t검증 세트 정확도: 99.751%\n",
      "Epoch: 0427 cost =  0.000065199 \t검증 세트 정확도: 99.751%\n",
      "Epoch: 0428 cost =  0.000031460 \t검증 세트 정확도: 99.502%\n",
      "Epoch: 0429 cost =  0.000026776 \t검증 세트 정확도: 99.502%\n",
      "Epoch: 0430 cost =  0.000040080 \t검증 세트 정확도: 99.751%\n",
      "Epoch: 0431 cost =  0.000025956 \t검증 세트 정확도: 99.751%\n",
      "Epoch: 0432 cost =  0.000067834 \t검증 세트 정확도: 99.751%\n",
      "Epoch: 0433 cost =  0.000071786 \t검증 세트 정확도: 99.502%\n",
      "Epoch: 0434 cost =  0.000168266 \t검증 세트 정확도: 99.751%\n",
      "Epoch: 0435 cost =  0.000197412 \t검증 세트 정확도: 100.000%\n",
      "Epoch: 0436 cost =  0.000159566 \t검증 세트 정확도: 100.000%\n",
      "Epoch: 0437 cost =  0.000470407 \t검증 세트 정확도: 99.751%\n",
      "Epoch: 0438 cost =  0.000062511 \t검증 세트 정확도: 99.751%\n",
      "Epoch: 0439 cost =  0.000003004 \t검증 세트 정확도: 99.751%\n",
      "Epoch: 0440 cost =  0.000004575 \t검증 세트 정확도: 99.751%\n",
      "Epoch: 0441 cost =  0.000018096 \t검증 세트 정확도: 99.751%\n",
      "Epoch: 0442 cost =  0.000064429 \t검증 세트 정확도: 99.502%\n",
      "Epoch: 0443 cost =  0.000306877 \t검증 세트 정확도: 100.000%\n",
      "Epoch: 0444 cost =  0.000020056 \t검증 세트 정확도: 100.000%\n",
      "Epoch: 0445 cost =  0.000025168 \t검증 세트 정확도: 100.000%\n",
      "Epoch: 0446 cost =  0.000012361 \t검증 세트 정확도: 100.000%\n",
      "Epoch: 0447 cost =  0.000249445 \t검증 세트 정확도: 99.502%\n",
      "Epoch: 0448 cost =  0.000077481 \t검증 세트 정확도: 99.751%\n",
      "Epoch: 0449 cost =  0.000005751 \t검증 세트 정확도: 99.751%\n",
      "Epoch: 0450 cost =  0.000369236 \t검증 세트 정확도: 99.751%\n",
      "Epoch: 0451 cost =  0.000115498 \t검증 세트 정확도: 99.751%\n",
      "Epoch: 0452 cost =  0.000015301 \t검증 세트 정확도: 99.751%\n",
      "Epoch: 0453 cost =  0.000033497 \t검증 세트 정확도: 99.751%\n",
      "Epoch: 0454 cost =  0.000195165 \t검증 세트 정확도: 99.502%\n",
      "Epoch: 0455 cost =  0.000098032 \t검증 세트 정확도: 99.751%\n",
      "Epoch: 0456 cost =  0.000013891 \t검증 세트 정확도: 99.751%\n",
      "Epoch: 0457 cost =  0.000160823 \t검증 세트 정확도: 99.751%\n",
      "Epoch: 0458 cost =  0.000060846 \t검증 세트 정확도: 99.751%\n",
      "Epoch: 0459 cost =  0.000012612 \t검증 세트 정확도: 100.000%\n",
      "Epoch: 0460 cost =  0.000351177 \t검증 세트 정확도: 99.751%\n",
      "Epoch: 0461 cost =  0.000095457 \t검증 세트 정확도: 99.751%\n",
      "Epoch: 0462 cost =  0.000018134 \t검증 세트 정확도: 99.751%\n",
      "Epoch: 0463 cost =  0.000029925 \t검증 세트 정확도: 99.751%\n",
      "Epoch: 0464 cost =  0.000122774 \t검증 세트 정확도: 99.751%\n",
      "Epoch: 0465 cost =  0.000023029 \t검증 세트 정확도: 99.751%\n",
      "Epoch: 0466 cost =  0.000008238 \t검증 세트 정확도: 99.751%\n",
      "Epoch: 0467 cost =  0.000000864 \t검증 세트 정확도: 99.751%\n",
      "Epoch: 0468 cost =  0.000035559 \t검증 세트 정확도: 99.751%\n",
      "Epoch: 0469 cost =  0.000012927 \t검증 세트 정확도: 99.751%\n",
      "Epoch: 0470 cost =  0.000010656 \t검증 세트 정확도: 99.751%\n",
      "Epoch: 0471 cost =  0.000005792 \t검증 세트 정확도: 99.751%\n",
      "Epoch: 0472 cost =  0.000010379 \t검증 세트 정확도: 99.751%\n",
      "Epoch: 0473 cost =  0.000000640 \t검증 세트 정확도: 99.751%\n",
      "Epoch: 0474 cost =  0.000000003 \t검증 세트 정확도: 99.751%\n"
     ]
    },
    {
     "name": "stdout",
     "output_type": "stream",
     "text": [
      "Epoch: 0475 cost =  0.000001988 \t검증 세트 정확도: 99.751%\n",
      "Epoch: 0476 cost =  0.000265056 \t검증 세트 정확도: 99.751%\n",
      "Epoch: 0477 cost =  0.001159711 \t검증 세트 정확도: 99.502%\n",
      "Epoch: 0478 cost =  0.000288184 \t검증 세트 정확도: 99.502%\n",
      "Epoch: 0479 cost =  0.000221667 \t검증 세트 정확도: 99.502%\n",
      "Epoch: 0480 cost =  0.000144740 \t검증 세트 정확도: 99.502%\n",
      "Epoch: 0481 cost =  0.000018533 \t검증 세트 정확도: 99.751%\n",
      "Epoch: 0482 cost =  0.000096614 \t검증 세트 정확도: 100.000%\n",
      "Epoch: 0483 cost =  0.000039809 \t검증 세트 정확도: 99.751%\n",
      "Epoch: 0484 cost =  0.000051539 \t검증 세트 정확도: 99.751%\n",
      "Epoch: 0485 cost =  0.000161947 \t검증 세트 정확도: 99.751%\n",
      "Epoch: 0486 cost =  0.000089894 \t검증 세트 정확도: 99.751%\n",
      "Epoch: 0487 cost =  0.000049139 \t검증 세트 정확도: 100.000%\n",
      "Epoch: 0488 cost =  0.000008580 \t검증 세트 정확도: 100.000%\n",
      "Epoch: 0489 cost =  0.000013375 \t검증 세트 정확도: 99.751%\n",
      "Epoch: 0490 cost =  0.000060377 \t검증 세트 정확도: 99.751%\n",
      "Epoch: 0491 cost =  0.000265186 \t검증 세트 정확도: 99.751%\n",
      "Epoch: 0492 cost =  0.000133253 \t검증 세트 정확도: 99.751%\n",
      "Epoch: 0493 cost =  0.000422586 \t검증 세트 정확도: 99.751%\n",
      "Epoch: 0494 cost =  0.000244316 \t검증 세트 정확도: 99.751%\n",
      "Epoch: 0495 cost =  0.000420644 \t검증 세트 정확도: 99.751%\n",
      "Epoch: 0496 cost =  0.000154224 \t검증 세트 정확도: 99.502%\n",
      "Epoch: 0497 cost =  0.000225979 \t검증 세트 정확도: 99.005%\n",
      "Epoch: 0498 cost =  0.000559934 \t검증 세트 정확도: 100.000%\n",
      "Epoch: 0499 cost =  0.000192359 \t검증 세트 정확도: 99.751%\n"
     ]
    },
    {
     "data": {
      "text/plain": [
       "'../../model/Dense/dense_model'"
      ]
     },
     "execution_count": 25,
     "metadata": {},
     "output_type": "execute_result"
    }
   ],
   "source": [
    "#original \n",
    "batch_size = 32\n",
    "cost_history = np.empty(shape=[1], dtype=float)\n",
    "\n",
    "for epoch in range(1,500):\n",
    "    avg_cost = 0    \n",
    "#    total_batch = int(X_train.shape[0] / batch_size)\n",
    "    for i in range( int(math.ceil(len(X_train)/batch_size)) ): # 배치 사이즈로 나눈 나머지 다 돌 수 있게 \n",
    "        x_ = X_train[batch_size * i: batch_size * (i + 1)]\n",
    "        y_ = y_train[batch_size * i: batch_size * (i + 1)]\n",
    "        feed_dict={X:x_, Y:y_, keep_prob:0.6}    \n",
    "        c, _ = sess.run([cost, optimizer], feed_dict=feed_dict)\n",
    "        cost_history = np.append(cost_history,cost)\n",
    "        avg_cost += c\n",
    "    #accuracy_val = sess.run([accuracy], feed_dict={X:X_val, Y:y_val\n",
    "    val_pred = sess.run(tf.argmax(logits,1),feed_dict={X: X_val , keep_prob:1})  \n",
    "    val_true = sess.run(tf.argmax(y_val,1))\n",
    "    accuracy_val = accuracy_score(val_pred, val_true)\n",
    "    print('Epoch:', '%04d' % (epoch), 'cost = ', '{:.9f}'.format(avg_cost / len(X_train)), \"\\t검증 세트 정확도: {:.3f}%\".format(accuracy_val * 100),)\n",
    "saver.save(sess, model_path)\n",
    "\n",
    "#if epoch% 20 == 0:\n",
    "#   save"
   ]
  },
  {
   "cell_type": "markdown",
   "metadata": {},
   "source": [
    "## Prediction"
   ]
  },
  {
   "cell_type": "code",
   "execution_count": 26,
   "metadata": {},
   "outputs": [],
   "source": [
    "y_pred = sess.run(tf.argmax(logits,1),feed_dict={X: X_test , keep_prob:1}) \n",
    "y_true = sess.run(tf.argmax(y_test,1))"
   ]
  },
  {
   "cell_type": "code",
   "execution_count": 27,
   "metadata": {},
   "outputs": [
    {
     "name": "stdout",
     "output_type": "stream",
     "text": [
      "F-Score: 0.996\n",
      "Accuracy:  0.9960159362549801\n",
      "              precision    recall  f1-score   support\n",
      "\n",
      "           0       0.99      1.00      1.00       267\n",
      "           1       1.00      0.99      1.00       235\n",
      "\n",
      "   micro avg       1.00      1.00      1.00       502\n",
      "   macro avg       1.00      1.00      1.00       502\n",
      "weighted avg       1.00      1.00      1.00       502\n",
      "\n",
      "[[267   0]\n",
      " [  2 233]]\n"
     ]
    }
   ],
   "source": [
    "# Ptint Result\n",
    "\n",
    "from sklearn.metrics import precision_recall_fscore_support\n",
    "p,r,f,s = precision_recall_fscore_support(y_true, y_pred, average='micro')\n",
    "print(\"F-Score:\", round(f,3))\n",
    "from sklearn.metrics import accuracy_score\n",
    "print(\"Accuracy: \", accuracy_score(y_true, y_pred))\n",
    "\n",
    "from sklearn.metrics import classification_report\n",
    "print(classification_report(y_true, y_pred))\n",
    "from sklearn.metrics import confusion_matrix\n",
    "print(confusion_matrix(y_true, y_pred))"
   ]
  }
 ],
 "metadata": {
  "kernelspec": {
   "display_name": "Python 3",
   "language": "python",
   "name": "python3"
  },
  "language_info": {
   "codemirror_mode": {
    "name": "ipython",
    "version": 3
   },
   "file_extension": ".py",
   "mimetype": "text/x-python",
   "name": "python",
   "nbconvert_exporter": "python",
   "pygments_lexer": "ipython3",
   "version": "3.6.7"
  }
 },
 "nbformat": 4,
 "nbformat_minor": 2
}
