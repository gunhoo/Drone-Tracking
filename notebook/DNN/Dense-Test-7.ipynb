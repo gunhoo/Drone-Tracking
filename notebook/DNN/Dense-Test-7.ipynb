{
 "cells": [
  {
   "cell_type": "code",
   "execution_count": 1,
   "metadata": {
    "scrolled": true
   },
   "outputs": [],
   "source": [
    "import matplotlib.pyplot as plt\n",
    "%matplotlib inline\n",
    "import IPython.display\n",
    "import librosa.display\n",
    "import numpy as np\n",
    "import librosa\n",
    "import tensorflow as tf\n",
    "import glob"
   ]
  },
  {
   "cell_type": "code",
   "execution_count": 2,
   "metadata": {},
   "outputs": [],
   "source": [
    "c_drone_path = '../../../1mtest/*.wav'\n",
    "cm_drone_path = '../../../10mtest/*.wav'\n",
    "m_drone_path = '../../../20mtest/*.wav'\n",
    "f_drone_path = '../../../50mtest/*.wav'\n",
    "background_path = '../../../backgroundtest/*.wav'\n",
    "c_drone_files = glob.glob(c_drone_path)\n",
    "cm_drone_files = glob.glob(cm_drone_path)\n",
    "m_drone_files = glob.glob(m_drone_path)\n",
    "f_drone_files = glob.glob(f_drone_path)\n",
    "background_files = glob.glob(background_path)"
   ]
  },
  {
   "cell_type": "code",
   "execution_count": 3,
   "metadata": {},
   "outputs": [],
   "source": [
    "CHUNK_SIZE = 8192\n",
    "SR = 22050\n",
    "N_MFCC = 16"
   ]
  },
  {
   "cell_type": "code",
   "execution_count": 4,
   "metadata": {},
   "outputs": [],
   "source": [
    "def load(files, sr=22050):\n",
    "    [raw, sr] = librosa.load(files[0], sr=sr)\n",
    "    for f in files[1:]:\n",
    "        [array, sr] = librosa.load(f, sr=sr)\n",
    "        raw = np.hstack((raw, array))\n",
    "    print(raw.shape)\n",
    "    return raw"
   ]
  },
  {
   "cell_type": "code",
   "execution_count": 5,
   "metadata": {},
   "outputs": [
    {
     "name": "stdout",
     "output_type": "stream",
     "text": [
      "(143360,)\n",
      "(143360,)\n",
      "(143360,)\n",
      "(143360,)\n",
      "(91372,)\n"
     ]
    }
   ],
   "source": [
    "c_drone_raw = load(c_drone_files)\n",
    "cm_drone_raw = load(cm_drone_files)\n",
    "m_drone_raw = load(m_drone_files)\n",
    "f_drone_raw = load(f_drone_files)\n",
    "background_raw = load(background_files)"
   ]
  },
  {
   "cell_type": "code",
   "execution_count": 6,
   "metadata": {},
   "outputs": [],
   "source": [
    "def mfcc4(raw, label, chunk_size=8192, window_size=4096, sr=22050, n_mfcc=16, n_frame=16):\n",
    "    mfcc = np.empty((0, n_mfcc, n_frame))\n",
    "    y = []\n",
    "    print(raw.shape)\n",
    "    for i in range(0, len(raw), chunk_size//2):\n",
    "        mfcc_slice = librosa.feature.mfcc(raw[i:i+chunk_size], sr=sr, n_mfcc=n_mfcc) #n_mfcc,17\n",
    "        if mfcc_slice.shape[1] < 17:\n",
    "            print(i,\">small end:\", mfcc_slice.shape)\n",
    "            continue\n",
    "        mfcc_slice = mfcc_slice[:,:-1]\n",
    "        mfcc_slice = mfcc_slice.reshape((1, mfcc_slice.shape[0], mfcc_slice.shape[1]))\n",
    "        mfcc = np.vstack((mfcc, mfcc_slice))\n",
    "        y.append(label)\n",
    "    y = np.array(y)\n",
    "    return mfcc, y"
   ]
  },
  {
   "cell_type": "code",
   "execution_count": 7,
   "metadata": {},
   "outputs": [
    {
     "name": "stdout",
     "output_type": "stream",
     "text": [
      "(143360,)\n",
      "139264 >small end: (16, 9)\n",
      "(143360,)\n",
      "139264 >small end: (16, 9)\n",
      "(143360,)\n",
      "139264 >small end: (16, 9)\n",
      "(143360,)\n",
      "139264 >small end: (16, 9)\n",
      "(91372,)\n",
      "86016 >small end: (16, 11)\n",
      "90112 >small end: (16, 3)\n",
      "(34, 16, 16) (34,)\n",
      "(34, 16, 16) (34,)\n",
      "(34, 16, 16) (34,)\n",
      "(34, 16, 16) (34,)\n",
      "(21, 16, 16) (21,)\n"
     ]
    }
   ],
   "source": [
    "c_mfcc_drone, c_y_drone = mfcc4(c_drone_raw, 4)\n",
    "cm_mfcc_drone, cm_y_drone = mfcc4(cm_drone_raw, 3)\n",
    "m_mfcc_drone, m_y_drone = mfcc4(m_drone_raw, 2)\n",
    "f_mfcc_drone, f_y_drone = mfcc4(f_drone_raw, 1)\n",
    "mfcc_background, y_background = mfcc4(background_raw, 0)\n",
    "\n",
    "print(c_mfcc_drone.shape, c_y_drone.shape)\n",
    "print(cm_mfcc_drone.shape, cm_y_drone.shape)\n",
    "print(m_mfcc_drone.shape, m_y_drone.shape)\n",
    "print(f_mfcc_drone.shape, f_y_drone.shape)\n",
    "\n",
    "print(mfcc_background.shape, y_background.shape)"
   ]
  },
  {
   "cell_type": "code",
   "execution_count": 8,
   "metadata": {},
   "outputs": [
    {
     "name": "stdout",
     "output_type": "stream",
     "text": [
      "(157, 16, 16) (157,)\n"
     ]
    }
   ],
   "source": [
    "X = np.concatenate((c_mfcc_drone, cm_mfcc_drone, m_mfcc_drone, f_mfcc_drone, mfcc_background), axis=0)\n",
    "y = np.hstack((c_y_drone, cm_y_drone, m_y_drone, f_y_drone, y_background))\n",
    "print(X.shape, y.shape)"
   ]
  },
  {
   "cell_type": "code",
   "execution_count": 9,
   "metadata": {},
   "outputs": [
    {
     "name": "stdout",
     "output_type": "stream",
     "text": [
      "(157, 256)\n",
      "<class 'numpy.ndarray'>\n"
     ]
    }
   ],
   "source": [
    "X_test = np.reshape(X,(X.shape[0],-1))\n",
    "print(X_test.shape)\n",
    "print(type(X_test))"
   ]
  },
  {
   "cell_type": "code",
   "execution_count": 10,
   "metadata": {},
   "outputs": [],
   "source": [
    "#X_train2 = X.reshape(X.shape[0], X.shape[1], X.shape[2], 1) ############# 리셰입 해야 "
   ]
  },
  {
   "cell_type": "code",
   "execution_count": 11,
   "metadata": {},
   "outputs": [
    {
     "name": "stdout",
     "output_type": "stream",
     "text": [
      "(157, 5)\n"
     ]
    }
   ],
   "source": [
    "n_labels = y.shape[0]\n",
    "n_unique_labels = 5\n",
    "y_encoded = np.zeros((n_labels, n_unique_labels))\n",
    "y_encoded[np.arange(n_labels), y] = 1\n",
    "print(y_encoded.shape)"
   ]
  },
  {
   "cell_type": "markdown",
   "metadata": {},
   "source": [
    "# test init"
   ]
  },
  {
   "cell_type": "code",
   "execution_count": 12,
   "metadata": {},
   "outputs": [],
   "source": [
    "tf.reset_default_graph()"
   ]
  },
  {
   "cell_type": "code",
   "execution_count": 13,
   "metadata": {},
   "outputs": [],
   "source": [
    "n_mfcc = 16\n",
    "n_frame = 16\n",
    "n_classes = 5\n",
    "n_channels = 1\n",
    "\n",
    "kernel_size = 3\n",
    "stride = 1\n",
    "pad = \"SAME\"\n",
    "\n",
    "learning_rate = 0.0002"
   ]
  },
  {
   "cell_type": "code",
   "execution_count": 14,
   "metadata": {},
   "outputs": [],
   "source": [
    "X = tf.placeholder(tf.float32, shape=[None,n_mfcc*n_frame*n_channels])\n",
    "#X = tf.reshape(X, [-1, n_mfcc, n_frame, n_channels]) #fully connected에는 리셰입 안해도 된다 \n",
    "Y = tf.placeholder(tf.float32, shape=[None,n_classes])\n",
    "\n",
    "keep_prob = tf.placeholder(tf.float32)\n",
    "\n",
    "#dense2 = tf.layers.dense(inputs=flat, units=625, activation=tf.nn.relu)\n",
    "#dropout2 = tf.layers.dropout(inputs=dense2, rate=0.5, training=True)\n",
    "dense1 = tf.layers.dense(inputs=X, units=256, activation=tf.nn.relu)\n",
    "dropout1 = tf.nn.dropout(dense1, keep_prob=keep_prob)\n",
    "dense2 = tf.layers.dense(inputs=dropout1, units=256, activation=tf.nn.relu)\n",
    "dropout2 = tf.nn.dropout(dense2, keep_prob=keep_prob)\n",
    "dense3 = tf.layers.dense(inputs=dropout2, units=512, activation=tf.nn.relu)\n",
    "dropout3 = tf.nn.dropout(dense3, keep_prob=keep_prob)\n",
    "#이거 지워보고 돌려보고 \n",
    "dense4 = tf.layers.dense(inputs=dropout3, units=512, activation=tf.nn.relu)\n",
    "dropout4 = tf.nn.dropout(dense4, keep_prob=keep_prob)\n",
    "dense5 = tf.layers.dense(inputs=dropout4, units=256, activation=tf.nn.relu)\n",
    "dropout5 = tf.nn.dropout(dense5, keep_prob=keep_prob)\n",
    "\n",
    "logits= tf.layers.dense(inputs=dropout5, units=5)"
   ]
  },
  {
   "cell_type": "code",
   "execution_count": 15,
   "metadata": {},
   "outputs": [],
   "source": [
    "cost = tf.reduce_mean(tf.nn.softmax_cross_entropy_with_logits_v2(logits=logits, labels=Y))\n",
    "optimizer = tf.train.AdamOptimizer(learning_rate=learning_rate).minimize(cost)"
   ]
  },
  {
   "cell_type": "code",
   "execution_count": 16,
   "metadata": {
    "scrolled": true
   },
   "outputs": [
    {
     "name": "stdout",
     "output_type": "stream",
     "text": [
      "INFO:tensorflow:Restoring parameters from ../../model/Dense/4_dense_model\n"
     ]
    }
   ],
   "source": [
    "# Model Save\n",
    "sess=tf.Session()\n",
    "saver = tf.train.Saver()\n",
    "saver.restore(sess, '../../model/Dense/4_dense_model')"
   ]
  },
  {
   "cell_type": "code",
   "execution_count": 17,
   "metadata": {
    "scrolled": true
   },
   "outputs": [
    {
     "name": "stdout",
     "output_type": "stream",
     "text": [
      "<class 'numpy.ndarray'>\n"
     ]
    }
   ],
   "source": [
    "# Prediction\n",
    "y_test = sess.run(tf.nn.softmax(logits), feed_dict={X: X_test, keep_prob:1})\n",
    "y_pred = sess.run(tf.argmax(logits,1),feed_dict={X: X_test , keep_prob:1}) \n",
    "y_true = sess.run(tf.argmax(y_encoded,1))\n",
    "print(type(y_test))"
   ]
  },
  {
   "cell_type": "code",
   "execution_count": 18,
   "metadata": {
    "scrolled": true
   },
   "outputs": [
    {
     "name": "stdout",
     "output_type": "stream",
     "text": [
      "            0             1             2             3             4\n",
      "0    0.000000  0.000000e+00  0.000000e+00  0.000000e+00  1.000000e+00\n",
      "1    0.000000  0.000000e+00  0.000000e+00  0.000000e+00  1.000000e+00\n",
      "2    0.000000  0.000000e+00  0.000000e+00  0.000000e+00  1.000000e+00\n",
      "3    0.000000  0.000000e+00  0.000000e+00  0.000000e+00  1.000000e+00\n",
      "4    0.000000  0.000000e+00  0.000000e+00  0.000000e+00  1.000000e+00\n",
      "5    0.000000  0.000000e+00  0.000000e+00  0.000000e+00  1.000000e+00\n",
      "6    0.000000  0.000000e+00  0.000000e+00  0.000000e+00  1.000000e+00\n",
      "7    0.000000  0.000000e+00  0.000000e+00  0.000000e+00  1.000000e+00\n",
      "8    0.000000  0.000000e+00  0.000000e+00  0.000000e+00  1.000000e+00\n",
      "9    0.000000  0.000000e+00  0.000000e+00  0.000000e+00  1.000000e+00\n",
      "10   0.000000  0.000000e+00  0.000000e+00  0.000000e+00  1.000000e+00\n",
      "11   0.000000  0.000000e+00  0.000000e+00  0.000000e+00  1.000000e+00\n",
      "12   0.000000  0.000000e+00  0.000000e+00  0.000000e+00  1.000000e+00\n",
      "13   0.000000  0.000000e+00  0.000000e+00  0.000000e+00  1.000000e+00\n",
      "14   0.000000  0.000000e+00  0.000000e+00  0.000000e+00  1.000000e+00\n",
      "15   0.000000  0.000000e+00  0.000000e+00  0.000000e+00  1.000000e+00\n",
      "16   0.000000  0.000000e+00  0.000000e+00  0.000000e+00  1.000000e+00\n",
      "17   0.000000  0.000000e+00  0.000000e+00  0.000000e+00  1.000000e+00\n",
      "18   0.000000  0.000000e+00  0.000000e+00  0.000000e+00  1.000000e+00\n",
      "19   0.000000  0.000000e+00  0.000000e+00  0.000000e+00  1.000000e+00\n",
      "20   0.000000  0.000000e+00  0.000000e+00  0.000000e+00  1.000000e+00\n",
      "21   0.000000  0.000000e+00  0.000000e+00  0.000000e+00  1.000000e+00\n",
      "22   0.000000  0.000000e+00  0.000000e+00  0.000000e+00  1.000000e+00\n",
      "23   0.000000  0.000000e+00  0.000000e+00  0.000000e+00  1.000000e+00\n",
      "24   0.000000  0.000000e+00  0.000000e+00  0.000000e+00  1.000000e+00\n",
      "25   0.000000  0.000000e+00  0.000000e+00  0.000000e+00  1.000000e+00\n",
      "26   0.000000  0.000000e+00  0.000000e+00  0.000000e+00  1.000000e+00\n",
      "27   0.000000  0.000000e+00  0.000000e+00  0.000000e+00  1.000000e+00\n",
      "28   0.000000  0.000000e+00  0.000000e+00  0.000000e+00  1.000000e+00\n",
      "29   0.000000  0.000000e+00  0.000000e+00  0.000000e+00  1.000000e+00\n",
      "30   0.000000  0.000000e+00  0.000000e+00  0.000000e+00  1.000000e+00\n",
      "31   0.000000  0.000000e+00  0.000000e+00  0.000000e+00  1.000000e+00\n",
      "32   0.000000  0.000000e+00  0.000000e+00  0.000000e+00  1.000000e+00\n",
      "33   0.000000  0.000000e+00  0.000000e+00  0.000000e+00  1.000000e+00\n",
      "34   0.000303  2.103986e-03  4.684940e-02  9.505289e-01  2.145515e-04\n",
      "35   0.000691  4.187318e-03  4.157499e-01  5.790896e-01  2.822455e-04\n",
      "36   0.000845  7.298828e-03  8.755336e-01  1.163186e-01  4.130854e-06\n",
      "37   0.000868  3.257380e-03  4.736079e-01  5.221033e-01  1.639985e-04\n",
      "38   0.000862  1.485971e-02  8.475774e-01  1.366904e-01  9.960729e-06\n",
      "39   0.000998  9.818547e-03  5.851550e-01  4.037271e-01  3.010722e-04\n",
      "40   0.000143  6.161771e-04  2.412827e-02  9.749766e-01  1.363300e-04\n",
      "41   0.000133  7.578463e-04  1.743251e-02  9.815294e-01  1.471731e-04\n",
      "42   0.000023  2.228036e-04  1.634747e-03  9.977899e-01  3.297742e-04\n",
      "43   0.000884  1.992187e-02  6.409822e-01  3.379419e-01  2.696078e-04\n",
      "44   0.000777  9.906361e-03  8.165967e-01  1.727024e-01  1.772206e-05\n",
      "45   0.000356  1.756105e-03  2.147703e-01  7.827973e-01  3.206921e-04\n",
      "46   0.000060  1.565902e-04  1.537585e-02  9.843503e-01  5.747027e-05\n",
      "47   0.000657  1.673827e-02  8.191667e-01  1.634215e-01  1.673392e-05\n",
      "48   0.001079  1.646468e-02  1.945507e-01  7.868870e-01  1.018354e-03\n",
      "49   0.000822  4.967245e-02  2.347407e-02  9.000925e-01  2.593939e-02\n",
      "50   0.000661  4.046977e-02  4.885952e-01  4.697400e-01  5.344811e-04\n",
      "51   0.001123  2.324881e-02  5.450647e-01  4.299627e-01  6.005033e-04\n",
      "52   0.001997  5.835969e-03  9.432345e-01  4.893168e-02  1.171059e-06\n",
      "53   0.000744  3.274697e-02  7.943709e-01  1.720994e-01  3.885124e-05\n",
      "54   0.001587  2.800298e-02  4.234914e-01  5.456043e-01  1.314419e-03\n",
      "55   0.001848  2.731756e-02  1.268148e-02  7.784182e-01  1.797349e-01\n",
      "56   0.000503  3.550652e-03  7.112673e-02  9.244019e-01  4.175647e-04\n",
      "57   0.000836  4.846067e-03  2.706355e-01  7.230853e-01  5.973087e-04\n",
      "58   0.000522  3.472632e-03  1.096353e-01  8.859343e-01  4.357969e-04\n",
      "59   0.000359  3.398318e-03  8.537345e-02  9.102778e-01  5.916292e-04\n",
      "60   0.000699  7.147464e-03  6.892074e-02  9.192517e-01  3.981501e-03\n",
      "61   0.000867  7.921465e-03  3.291566e-01  6.612692e-01  7.854559e-04\n",
      "62   0.000659  9.462661e-03  2.053096e-01  7.832797e-01  1.288614e-03\n",
      "63   0.000686  6.085550e-03  3.676435e-01  6.249941e-01  5.906784e-04\n",
      "64   0.000548  3.577325e-03  3.610244e-02  9.585251e-01  1.247005e-03\n",
      "65   0.000193  2.624178e-03  1.430555e-04  5.049734e-02  9.465426e-01\n",
      "66   0.002611  4.624411e-02  6.408348e-03  1.659822e-01  7.787547e-01\n",
      "67   0.000959  1.144235e-02  7.584830e-02  9.093493e-01  2.400658e-03\n",
      "68   0.194697  1.057550e-01  6.845607e-01  1.172889e-02  3.258680e-03\n",
      "69   0.019388  1.139848e-01  8.318047e-01  3.477170e-02  5.102279e-05\n",
      "70   0.965721  1.676352e-04  3.411099e-02  3.742083e-08  1.435794e-07\n",
      "71   0.894635  1.131561e-03  1.042295e-01  1.632139e-06  2.648294e-06\n",
      "72   0.096044  1.145070e-01  7.657590e-01  2.251851e-02  1.171170e-03\n",
      "73   0.002571  8.485219e-02  8.213117e-01  9.125191e-02  1.344801e-05\n",
      "74   0.002492  1.419887e-01  7.653953e-01  9.010659e-02  1.757478e-05\n",
      "75   0.003383  7.766320e-02  8.428382e-01  7.610355e-02  1.229441e-05\n",
      "76   0.001782  3.959066e-01  5.400144e-01  6.227893e-02  1.829515e-05\n",
      "77   0.003981  1.086330e-01  8.194458e-01  6.792546e-02  1.482115e-05\n",
      "78   0.025492  1.455912e-01  7.976199e-01  3.118627e-02  1.109626e-04\n",
      "79   0.013916  5.861086e-02  8.915063e-01  3.594827e-02  1.890335e-05\n",
      "80   0.033450  1.000028e-01  8.363358e-01  3.009573e-02  1.154478e-04\n",
      "81   0.107957  8.046503e-02  7.901435e-01  2.044874e-02  9.856605e-04\n",
      "82   0.484584  2.399128e-02  4.907267e-01  4.314753e-04  2.661502e-04\n",
      "83   0.162975  7.988233e-02  7.442603e-01  1.139986e-02  1.482610e-03\n",
      "84   0.002721  8.984686e-02  8.243549e-01  8.306542e-02  1.211650e-05\n",
      "85   0.004555  1.145582e-01  8.179471e-01  6.292453e-02  1.561118e-05\n",
      "86   0.005749  4.817475e-02  8.793167e-01  6.674542e-02  1.407576e-05\n",
      "87   0.008791  1.373338e-01  7.953572e-01  5.848118e-02  3.705639e-05\n",
      "88   0.008981  1.330546e-01  7.990479e-01  5.887870e-02  3.733750e-05\n",
      "89   0.004885  1.003568e-01  8.136860e-01  8.104869e-02  2.353938e-05\n",
      "90   0.002644  5.764694e-02  8.544750e-01  8.522338e-02  1.025813e-05\n",
      "91   0.005268  1.882447e-01  7.345264e-01  7.192612e-02  3.516973e-05\n",
      "92   0.997176  7.348590e-06  2.816330e-03  5.768873e-11  1.588917e-09\n",
      "93   0.933726  5.652502e-04  6.570709e-02  3.642530e-07  9.012718e-07\n",
      "94   0.909917  6.611922e-04  8.941939e-02  8.937969e-07  1.406679e-06\n",
      "95   0.741260  4.824465e-03  2.538711e-01  2.213094e-05  2.223638e-05\n",
      "96   0.972813  7.976744e-05  2.710715e-02  2.875433e-08  8.452270e-08\n",
      "97   0.865064  1.987912e-03  1.329392e-01  3.115314e-06  5.486339e-06\n",
      "98   0.049819  2.077349e-01  7.001028e-01  4.141157e-02  9.320857e-04\n",
      "99   0.006916  1.755709e-01  7.681168e-01  4.936562e-02  3.014769e-05\n",
      "100  0.007307  2.242905e-01  7.088615e-01  5.949561e-02  4.506957e-05\n",
      "101  0.004929  8.165772e-02  8.529865e-01  6.041390e-02  1.323808e-05\n",
      "102  0.000098  9.424238e-01  4.925117e-02  8.224471e-03  2.689422e-06\n",
      "103  0.000098  9.424238e-01  4.925117e-02  8.224471e-03  2.689422e-06\n",
      "104  0.000098  9.424238e-01  4.925117e-02  8.224471e-03  2.689422e-06\n",
      "105  0.000098  9.424238e-01  4.925117e-02  8.224471e-03  2.689422e-06\n",
      "106  0.000098  9.424238e-01  4.925117e-02  8.224471e-03  2.689422e-06\n",
      "107  0.000098  9.424238e-01  4.925117e-02  8.224471e-03  2.689422e-06\n",
      "108  0.000144  9.263366e-01  6.315019e-02  1.036535e-02  4.273703e-06\n",
      "109  0.000098  9.424238e-01  4.925117e-02  8.224471e-03  2.689422e-06\n",
      "110  0.000098  9.424238e-01  4.925117e-02  8.224471e-03  2.689422e-06\n",
      "111  0.000297  8.738455e-01  1.094075e-01  1.644091e-02  8.737432e-06\n",
      "112  0.000888  5.983866e-01  3.525513e-01  4.815821e-02  1.583986e-05\n",
      "113  0.000098  9.424238e-01  4.925117e-02  8.224471e-03  2.689422e-06\n",
      "114  0.000877  6.551640e-01  3.028921e-01  4.105001e-02  1.659138e-05\n",
      "115  0.000914  6.010993e-01  3.502848e-01  4.768606e-02  1.574344e-05\n",
      "116  0.000098  9.424238e-01  4.925117e-02  8.224471e-03  2.689422e-06\n",
      "117  0.000098  9.424238e-01  4.925117e-02  8.224471e-03  2.689422e-06\n",
      "118  0.000098  9.424238e-01  4.925117e-02  8.224471e-03  2.689422e-06\n",
      "119  0.000098  9.424238e-01  4.925117e-02  8.224471e-03  2.689422e-06\n",
      "120  0.000098  9.424238e-01  4.925117e-02  8.224471e-03  2.689422e-06\n",
      "121  0.000098  9.424238e-01  4.925117e-02  8.224471e-03  2.689422e-06\n",
      "122  0.000874  6.563348e-01  3.018714e-01  4.090323e-02  1.655607e-05\n",
      "123  0.000098  9.424238e-01  4.925117e-02  8.224471e-03  2.689422e-06\n",
      "124  0.000098  9.424238e-01  4.925117e-02  8.224471e-03  2.689422e-06\n",
      "125  0.000098  9.424238e-01  4.925117e-02  8.224471e-03  2.689422e-06\n",
      "126  0.000098  9.424238e-01  4.925117e-02  8.224471e-03  2.689422e-06\n",
      "127  0.000098  9.424238e-01  4.925117e-02  8.224471e-03  2.689422e-06\n",
      "128  0.000098  9.424238e-01  4.925117e-02  8.224471e-03  2.689422e-06\n",
      "129  0.000098  9.424238e-01  4.925117e-02  8.224471e-03  2.689422e-06\n",
      "130  0.000098  9.424238e-01  4.925117e-02  8.224471e-03  2.689422e-06\n",
      "131  0.000098  9.424238e-01  4.925117e-02  8.224471e-03  2.689422e-06\n",
      "132  0.000098  9.424238e-01  4.925117e-02  8.224471e-03  2.689422e-06\n",
      "133  0.000098  9.424238e-01  4.925117e-02  8.224471e-03  2.689422e-06\n",
      "134  0.000098  9.424238e-01  4.925117e-02  8.224471e-03  2.689422e-06\n",
      "135  0.001357  4.044757e-01  5.203074e-01  7.383764e-02  2.261307e-05\n",
      "136  1.000000  0.000000e+00  8.111312e-34  0.000000e+00  0.000000e+00\n",
      "137  1.000000  2.039311e-38  2.668978e-25  0.000000e+00  0.000000e+00\n",
      "138  1.000000  6.852153e-33  9.588853e-22  0.000000e+00  0.000000e+00\n",
      "139  1.000000  3.289233e-31  1.843519e-20  0.000000e+00  0.000000e+00\n",
      "140  1.000000  2.427236e-15  9.360570e-10  6.854235e-28  3.506985e-23\n",
      "141  1.000000  1.801035e-19  1.476650e-12  2.364464e-35  5.347599e-29\n",
      "142  1.000000  3.212282e-36  2.046512e-23  0.000000e+00  0.000000e+00\n",
      "143  1.000000  1.241156e-19  4.240181e-13  2.023103e-36  9.502732e-30\n",
      "144  1.000000  1.765387e-24  4.785860e-16  0.000000e+00  9.407514e-37\n",
      "145  1.000000  7.224129e-26  8.369919e-17  0.000000e+00  1.482743e-38\n",
      "146  1.000000  1.470029e-34  4.889832e-23  0.000000e+00  0.000000e+00\n",
      "147  1.000000  3.334899e-27  2.751947e-18  0.000000e+00  0.000000e+00\n",
      "148  0.999999  3.731357e-11  7.716164e-07  1.692082e-20  4.235570e-17\n",
      "149  0.978286  8.339962e-05  2.163093e-02  1.224627e-08  6.105491e-08\n",
      "150  0.950522  2.985069e-04  4.917925e-02  1.504064e-07  3.889566e-07\n",
      "151  0.996552  3.929686e-06  3.444489e-03  1.057792e-10  1.362641e-09\n",
      "152  0.998147  1.111510e-06  1.851424e-03  1.419934e-11  1.798894e-10\n",
      "153  0.984640  4.729521e-05  1.531247e-02  6.831364e-09  3.676751e-08\n",
      "154  0.994719  9.340989e-06  5.271254e-03  2.992138e-10  2.767192e-09\n",
      "155  0.978350  1.025756e-04  2.154685e-02  1.851066e-08  1.000379e-07\n",
      "156  0.997489  2.653677e-06  2.508271e-03  4.469422e-11  6.343094e-10\n"
     ]
    }
   ],
   "source": [
    "import pandas as pd\n",
    "pd.options.display.max_rows = 4000\n",
    "print(pd.DataFrame(y_test))\n"
   ]
  },
  {
   "cell_type": "code",
   "execution_count": 19,
   "metadata": {
    "scrolled": false
   },
   "outputs": [
    {
     "name": "stdout",
     "output_type": "stream",
     "text": [
      "F-Score: 0.87\n",
      "Accuracy:  0.8662420382165605\n",
      "              precision    recall  f1-score   support\n",
      "\n",
      "           0       0.72      1.00      0.84        21\n",
      "           1       1.00      0.97      0.99        34\n",
      "           2       0.70      0.76      0.73        34\n",
      "           3       1.00      0.65      0.79        34\n",
      "           4       0.94      1.00      0.97        34\n",
      "\n",
      "   micro avg       0.87      0.87      0.87       157\n",
      "   macro avg       0.87      0.88      0.86       157\n",
      "weighted avg       0.89      0.87      0.86       157\n",
      "\n",
      "[[21  0  0  0  0]\n",
      " [ 0 33  1  0  0]\n",
      " [ 8  0 26  0  0]\n",
      " [ 0  0 10 22  2]\n",
      " [ 0  0  0  0 34]]\n"
     ]
    },
    {
     "data": {
      "image/png": "[encoded data removed]",
      "text/plain": [
       "<Figure size 1080x648 with 1 Axes>"
      ]
     },
     "metadata": {
      "needs_background": "light"
     },
     "output_type": "display_data"
    }
   ],
   "source": [
    "# Print Result\n",
    "\n",
    "from sklearn.metrics import precision_recall_fscore_support\n",
    "y_true = y_true\n",
    "y_pred = y_pred\n",
    "\n",
    "p,r,f,s = precision_recall_fscore_support(y_true, y_pred, average='micro')\n",
    "print(\"F-Score:\", round(f,2))\n",
    "from sklearn.metrics import accuracy_score\n",
    "print(\"Accuracy: \", accuracy_score(y_true, y_pred))\n",
    "\n",
    "\n",
    "#fig = plt.figure(figsize=(15,9))\n",
    "#ax = fig.add_subplot(1,1,1)\n",
    "#ax.plot(np.linspace(0,len(y_pred), len(y_pred)),y_true, 'x')\n",
    "\n",
    "\n",
    "fig = plt.figure(figsize=(15,9))\n",
    "ax = fig.add_subplot(1,1,1)\n",
    "ax.plot(np.linspace(0,len(y_pred), len(y_pred)),y_pred, 'x')\n",
    "\n",
    "from sklearn.metrics import classification_report\n",
    "print(classification_report(y_true, y_pred))\n",
    "from sklearn.metrics import confusion_matrix\n",
    "print(confusion_matrix(y_true, y_pred))"
   ]
  },
  {
   "cell_type": "code",
   "execution_count": 20,
   "metadata": {},
   "outputs": [],
   "source": [
    "from sklearn.metrics import confusion_matrix\n",
    "mat = confusion_matrix(y_true, y_pred)"
   ]
  },
  {
   "cell_type": "code",
   "execution_count": 21,
   "metadata": {},
   "outputs": [
    {
     "name": "stdout",
     "output_type": "stream",
     "text": [
      "[[21  0  0  0  0]\n",
      " [ 0 33  1  0  0]\n",
      " [ 8  0 26  0  0]\n",
      " [ 0  0 10 22  2]\n",
      " [ 0  0  0  0 34]]\n"
     ]
    }
   ],
   "source": [
    "print(mat)"
   ]
  },
  {
   "cell_type": "code",
   "execution_count": 22,
   "metadata": {},
   "outputs": [
    {
     "name": "stdout",
     "output_type": "stream",
     "text": [
      "[21  0  0  0  0]\n"
     ]
    }
   ],
   "source": [
    "print(mat[0])"
   ]
  },
  {
   "cell_type": "code",
   "execution_count": null,
   "metadata": {},
   "outputs": [],
   "source": []
  }
 ],
 "metadata": {
  "kernelspec": {
   "display_name": "Python 3",
   "language": "python",
   "name": "python3"
  },
  "language_info": {
   "codemirror_mode": {
    "name": "ipython",
    "version": 3
   },
   "file_extension": ".py",
   "mimetype": "text/x-python",
   "name": "python",
   "nbconvert_exporter": "python",
   "pygments_lexer": "ipython3",
   "version": "3.6.7"
  }
 },
 "nbformat": 4,
 "nbformat_minor": 2
}
