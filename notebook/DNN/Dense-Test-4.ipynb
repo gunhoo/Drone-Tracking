{
 "cells": [
  {
   "cell_type": "code",
   "execution_count": 1,
   "metadata": {
    "scrolled": true
   },
   "outputs": [],
   "source": [
    "import matplotlib.pyplot as plt\n",
    "%matplotlib inline\n",
    "import IPython.display\n",
    "import librosa.display\n",
    "import numpy as np\n",
    "import librosa\n",
    "import tensorflow as tf\n",
    "import glob"
   ]
  },
  {
   "cell_type": "code",
   "execution_count": 2,
   "metadata": {},
   "outputs": [],
   "source": [
    "drone_path_1 = '../../data/40mtest/*.wav'\n",
    "#drone_path_10 = '../../data/10mtest/*.wav'\n",
    "#drone_path_20 = '../../data/20mtest/*.wav'\n",
    "#drone_path_30 = '../../data/30mtest/*.wav'\n",
    "#drone_path_40 = '../../data/40mtest/*.wav'\n",
    "#drone_path_50 = '../../data/50mtest/*.wav'\n",
    "#background_path = '../../data/backgroundtest/*.wav'\n",
    "\n",
    "drone_files_1 = glob.glob(drone_path_1)\n",
    "#drone_files_10 = glob.glob(drone_path_10)\n",
    "#drone_files_20 = glob.glob(drone_path_20)\n",
    "#drone_files_30 = glob.glob(drone_path_30)\n",
    "#drone_files_40 = glob.glob(drone_path_40)\n",
    "#drone_files_50 = glob.glob(drone_path_50)\n",
    "#background_files = glob.glob(background_path)"
   ]
  },
  {
   "cell_type": "code",
   "execution_count": 3,
   "metadata": {},
   "outputs": [],
   "source": [
    "CHUNK_SIZE = 8192\n",
    "SR = 22050\n",
    "N_MFCC = 16"
   ]
  },
  {
   "cell_type": "code",
   "execution_count": 4,
   "metadata": {},
   "outputs": [],
   "source": [
    "def load(files, sr=22050):\n",
    "    [raw, sr] = librosa.load(files[0], sr=sr)\n",
    "    for f in files[1:]:\n",
    "        [array, sr] = librosa.load(f, sr=sr)\n",
    "        raw = np.hstack((raw, array))\n",
    "    print(raw.shape)\n",
    "    return raw"
   ]
  },
  {
   "cell_type": "code",
   "execution_count": 5,
   "metadata": {},
   "outputs": [
    {
     "name": "stdout",
     "output_type": "stream",
     "text": [
      "(145839,)\n"
     ]
    }
   ],
   "source": [
    "drone_raw_1 = load(drone_files_1)\n",
    "#drone_raw_10 = load(drone_files_10)\n",
    "#drone_raw_20 = load(drone_files_20)\n",
    "#drone_raw_30 = load(drone_files_30)\n",
    "#drone_raw_40 = load(drone_files_40)\n",
    "#drone_raw_50 = load(drone_files_50)\n",
    "\n",
    "#background_raw = load(background_files)"
   ]
  },
  {
   "cell_type": "code",
   "execution_count": 6,
   "metadata": {},
   "outputs": [],
   "source": [
    "def mfcc4(raw, label, chunk_size=8192, window_size=4096, sr=22050, n_mfcc=16, n_frame=16):\n",
    "    mfcc = np.empty((0, n_mfcc, n_frame))\n",
    "    y = []\n",
    "    print(raw.shape)\n",
    "    for i in range(0, len(raw), chunk_size//2):\n",
    "        mfcc_slice = librosa.feature.mfcc(raw[i:i+chunk_size], sr=sr, n_mfcc=n_mfcc) #n_mfcc,17\n",
    "        if mfcc_slice.shape[1] < 17:\n",
    "            print(i,\">small end:\", mfcc_slice.shape)\n",
    "            continue\n",
    "        mfcc_slice = mfcc_slice[:,:-1]\n",
    "        mfcc_slice = mfcc_slice.reshape((1, mfcc_slice.shape[0], mfcc_slice.shape[1]))\n",
    "        mfcc = np.vstack((mfcc, mfcc_slice))\n",
    "        y.append(label)\n",
    "    y = np.array(y)\n",
    "    return mfcc, y"
   ]
  },
  {
   "cell_type": "code",
   "execution_count": 7,
   "metadata": {},
   "outputs": [
    {
     "name": "stdout",
     "output_type": "stream",
     "text": [
      "(145839,)\n",
      "139264 >small end: (16, 13)\n",
      "143360 >small end: (16, 5)\n"
     ]
    }
   ],
   "source": [
    "mfcc_drone_1, y_drone_1 = mfcc4(drone_raw_1, 1)\n",
    "#mfcc_drone_10, y_drone_10 = mfcc4(drone_raw_10, 3)\n",
    "#mfcc_drone_20, y_drone_20 = mfcc4(drone_raw_20, 2)\n",
    "#mfcc_drone_30, y_drone_30 = mfcc4(drone_raw_30, 2)\n",
    "#mfcc_drone_40, y_drone_40 = mfcc4(drone_raw_40, 1)\n",
    "#mfcc_drone_50, y_drone_50 = mfcc4(drone_raw_50, 1)\n",
    "\n",
    "#mfcc_background, y_background = mfcc4(background_raw, 0)"
   ]
  },
  {
   "cell_type": "code",
   "execution_count": 8,
   "metadata": {},
   "outputs": [
    {
     "name": "stdout",
     "output_type": "stream",
     "text": [
      "(34, 16, 16) (34,)\n"
     ]
    }
   ],
   "source": [
    "print(mfcc_drone_1.shape, y_drone_1.shape)\n",
    "#print(mfcc_drone_10.shape, y_drone_10.shape)\n",
    "#print(mfcc_drone_20.shape, y_drone_20.shape)\n",
    "#print(mfcc_drone_30.shape, y_drone_30.shape)\n",
    "#print(mfcc_drone_40.shape, y_drone_40.shape)\n",
    "#print(mfcc_drone_50.shape, y_drone_50.shape)\n",
    "#print(mfcc_background.shape, y_background.shape)"
   ]
  },
  {
   "cell_type": "code",
   "execution_count": 9,
   "metadata": {},
   "outputs": [
    {
     "name": "stdout",
     "output_type": "stream",
     "text": [
      "(544, 16) (34,)\n"
     ]
    }
   ],
   "source": [
    "#X = np.concatenate((mfcc_drone_1,mfcc_drone_10,mfcc_drone_20,mfcc_drone_30,mfcc_drone_40,mfcc_drone_50, mfcc_background), axis=0)\n",
    "#y = np.hstack((y_drone_1, y_drone_10, y_drone_20, y_drone_30, y_drone_40, y_drone_50, y_background))\n",
    "\n",
    "X = np.concatenate((mfcc_drone_1), axis=0)\n",
    "y = np.hstack((y_drone_1))\n",
    "\n",
    "print(X.shape, y.shape)"
   ]
  },
  {
   "cell_type": "code",
   "execution_count": 10,
   "metadata": {},
   "outputs": [
    {
     "name": "stdout",
     "output_type": "stream",
     "text": [
      "(34, 256)\n",
      "<class 'numpy.ndarray'>\n"
     ]
    }
   ],
   "source": [
    "X_test = np.reshape(X,(-1,256))\n",
    "print(X_test.shape)\n",
    "print(type(X_test))"
   ]
  },
  {
   "cell_type": "code",
   "execution_count": 11,
   "metadata": {},
   "outputs": [],
   "source": [
    "#X_train2 = X.reshape(X.shape[0], X.shape[1], X.shape[2], 1) ############# 리셰입 해야 "
   ]
  },
  {
   "cell_type": "code",
   "execution_count": 12,
   "metadata": {},
   "outputs": [
    {
     "name": "stdout",
     "output_type": "stream",
     "text": [
      "(34, 5)\n"
     ]
    }
   ],
   "source": [
    "n_labels = y.shape[0]\n",
    "n_unique_labels = 5\n",
    "y_encoded = np.zeros((n_labels, n_unique_labels))\n",
    "y_encoded[np.arange(n_labels), y] = 1\n",
    "print(y_encoded.shape)"
   ]
  },
  {
   "cell_type": "markdown",
   "metadata": {},
   "source": [
    "# test init"
   ]
  },
  {
   "cell_type": "code",
   "execution_count": 13,
   "metadata": {},
   "outputs": [],
   "source": [
    "tf.reset_default_graph()"
   ]
  },
  {
   "cell_type": "code",
   "execution_count": 14,
   "metadata": {},
   "outputs": [],
   "source": [
    "n_mfcc = 16\n",
    "n_frame = 16\n",
    "n_classes = 5\n",
    "n_channels = 1\n",
    "\n",
    "kernel_size = 3\n",
    "stride = 1\n",
    "pad = \"SAME\"\n",
    "\n",
    "learning_rate = 0.0002"
   ]
  },
  {
   "cell_type": "code",
   "execution_count": 15,
   "metadata": {},
   "outputs": [],
   "source": [
    "X = tf.placeholder(tf.float32, shape=[None,n_mfcc*n_frame*n_channels])\n",
    "#X = tf.reshape(X, [-1, n_mfcc, n_frame, n_channels]) #fully connected에는 리셰입 안해도 된다 \n",
    "Y = tf.placeholder(tf.float32, shape=[None,n_classes])\n",
    "\n",
    "keep_prob = tf.placeholder(tf.float32)\n",
    "\n",
    "#dense2 = tf.layers.dense(inputs=flat, units=625, activation=tf.nn.relu)\n",
    "#dropout2 = tf.layers.dropout(inputs=dense2, rate=0.5, training=True)\n",
    "dense1 = tf.layers.dense(inputs=X, units=256, activation=tf.nn.relu)\n",
    "dropout1 = tf.nn.dropout(dense1, keep_prob=keep_prob)\n",
    "dense2 = tf.layers.dense(inputs=dropout1, units=256, activation=tf.nn.relu)\n",
    "dropout2 = tf.nn.dropout(dense2, keep_prob=keep_prob)\n",
    "dense3 = tf.layers.dense(inputs=dropout2, units=512, activation=tf.nn.relu)\n",
    "dropout3 = tf.nn.dropout(dense3, keep_prob=keep_prob)\n",
    "#이거 지워보고 돌려보고 \n",
    "dense4 = tf.layers.dense(inputs=dropout3, units=512, activation=tf.nn.relu)\n",
    "dropout4 = tf.nn.dropout(dense4, keep_prob=keep_prob)\n",
    "dense5 = tf.layers.dense(inputs=dropout4, units=256, activation=tf.nn.relu)\n",
    "dropout5 = tf.nn.dropout(dense5, keep_prob=keep_prob)\n",
    "\n",
    "logits= tf.layers.dense(inputs=dropout5, units=5)"
   ]
  },
  {
   "cell_type": "code",
   "execution_count": 16,
   "metadata": {},
   "outputs": [],
   "source": [
    "cost = tf.reduce_mean(tf.nn.softmax_cross_entropy_with_logits_v2(logits=logits, labels=Y))\n",
    "optimizer = tf.train.AdamOptimizer(learning_rate=learning_rate).minimize(cost)"
   ]
  },
  {
   "cell_type": "code",
   "execution_count": 17,
   "metadata": {
    "scrolled": true
   },
   "outputs": [
    {
     "name": "stdout",
     "output_type": "stream",
     "text": [
      "INFO:tensorflow:Restoring parameters from ../../model/DNN/4_dense_model\n"
     ]
    }
   ],
   "source": [
    "# Model Save\n",
    "sess=tf.Session()\n",
    "saver = tf.train.Saver()\n",
    "saver.restore(sess, '../../model/DNN/4_dense_model')"
   ]
  },
  {
   "cell_type": "code",
   "execution_count": 18,
   "metadata": {
    "scrolled": true
   },
   "outputs": [
    {
     "name": "stdout",
     "output_type": "stream",
     "text": [
      "<class 'numpy.ndarray'>\n"
     ]
    }
   ],
   "source": [
    "# Prediction\n",
    "y_test = sess.run(tf.nn.softmax(logits), feed_dict={X: X_test, keep_prob:1})\n",
    "y_pred = sess.run(tf.argmax(logits,1),feed_dict={X: X_test , keep_prob:1}) \n",
    "y_true = sess.run(tf.argmax(y_encoded,1))\n",
    "print(type(y_test))"
   ]
  },
  {
   "cell_type": "code",
   "execution_count": 19,
   "metadata": {
    "scrolled": false
   },
   "outputs": [
    {
     "name": "stdout",
     "output_type": "stream",
     "text": [
      "           0         1         2         3         4\n",
      "0   0.030994  0.014204  0.929958  0.024825  0.000019\n",
      "1   0.045487  0.017063  0.915552  0.021855  0.000043\n",
      "2   0.059426  0.024443  0.896031  0.020025  0.000076\n",
      "3   0.235863  0.017953  0.737834  0.007625  0.000725\n",
      "4   0.060491  0.015826  0.907416  0.016225  0.000041\n",
      "5   0.526704  0.010455  0.462225  0.000388  0.000228\n",
      "6   0.284687  0.016457  0.692915  0.005103  0.000838\n",
      "7   0.297688  0.019135  0.677588  0.004595  0.000994\n",
      "8   0.235408  0.018304  0.737261  0.008154  0.000873\n",
      "9   0.049752  0.013032  0.919418  0.017771  0.000027\n",
      "10  0.270548  0.021418  0.701031  0.005947  0.001057\n",
      "11  0.054272  0.026694  0.897372  0.021595  0.000067\n",
      "12  0.241837  0.026393  0.722175  0.008322  0.001274\n",
      "13  0.069278  0.015015  0.899667  0.015977  0.000063\n",
      "14  0.041600  0.016222  0.922209  0.019944  0.000025\n",
      "15  0.200286  0.037978  0.748804  0.011374  0.001557\n",
      "16  0.508427  0.014657  0.476364  0.000359  0.000193\n",
      "17  0.585014  0.006453  0.408216  0.000203  0.000114\n",
      "18  0.726179  0.002208  0.271551  0.000037  0.000025\n",
      "19  0.608253  0.005233  0.386274  0.000154  0.000085\n",
      "20  0.762212  0.001958  0.235797  0.000018  0.000015\n",
      "21  0.346557  0.018374  0.632145  0.002179  0.000745\n",
      "22  0.047306  0.006940  0.931098  0.014644  0.000012\n",
      "23  0.045086  0.007629  0.930438  0.016833  0.000015\n",
      "24  0.028394  0.010772  0.936790  0.024032  0.000013\n",
      "25  0.122418  0.022053  0.841411  0.013881  0.000237\n",
      "26  0.039488  0.017366  0.921297  0.021816  0.000032\n",
      "27  0.023526  0.002551  0.949259  0.024660  0.000004\n",
      "28  0.059452  0.008352  0.916934  0.015238  0.000023\n",
      "29  0.072993  0.005769  0.909387  0.011831  0.000019\n",
      "30  0.039662  0.003274  0.940513  0.016544  0.000007\n",
      "31  0.023492  0.001042  0.954513  0.020950  0.000002\n",
      "32  0.006638  0.001726  0.957531  0.034104  0.000001\n",
      "33  0.009428  0.002635  0.953599  0.034335  0.000002\n"
     ]
    }
   ],
   "source": [
    "import pandas as pd\n",
    "pd.options.display.max_rows = 4000\n",
    "print(pd.DataFrame(y_test))\n"
   ]
  },
  {
   "cell_type": "code",
   "execution_count": 20,
   "metadata": {
    "scrolled": false
   },
   "outputs": [
    {
     "name": "stdout",
     "output_type": "stream",
     "text": [
      "F-Score: 0.0\n",
      "Accuracy:  0.0\n",
      "              precision    recall  f1-score   support\n",
      "\n",
      "           0       0.00      0.00      0.00         0\n",
      "           1       0.00      0.00      0.00        34\n",
      "           2       0.00      0.00      0.00         0\n",
      "\n",
      "   micro avg       0.00      0.00      0.00        34\n",
      "   macro avg       0.00      0.00      0.00        34\n",
      "weighted avg       0.00      0.00      0.00        34\n",
      "\n",
      "[[ 0  0  0]\n",
      " [ 6  0 28]\n",
      " [ 0  0  0]]\n"
     ]
    },
    {
     "name": "stderr",
     "output_type": "stream",
     "text": [
      "/usr/local/lib/python3.6/dist-packages/sklearn/metrics/classification.py:1143: UndefinedMetricWarning: Precision and F-score are ill-defined and being set to 0.0 in labels with no predicted samples.\n",
      "  'precision', 'predicted', average, warn_for)\n",
      "/usr/local/lib/python3.6/dist-packages/sklearn/metrics/classification.py:1145: UndefinedMetricWarning: Recall and F-score are ill-defined and being set to 0.0 in labels with no true samples.\n",
      "  'recall', 'true', average, warn_for)\n"
     ]
    },
    {
     "data": {
      "image/png": "[encoded data removed]",
      "text/plain": [
       "<Figure size 1080x648 with 1 Axes>"
      ]
     },
     "metadata": {
      "needs_background": "light"
     },
     "output_type": "display_data"
    }
   ],
   "source": [
    "# Print Result\n",
    "\n",
    "from sklearn.metrics import precision_recall_fscore_support\n",
    "y_true = y_true\n",
    "y_pred = y_pred\n",
    "\n",
    "p,r,f,s = precision_recall_fscore_support(y_true, y_pred, average='micro')\n",
    "print(\"F-Score:\", round(f,2))\n",
    "from sklearn.metrics import accuracy_score\n",
    "print(\"Accuracy: \", accuracy_score(y_true, y_pred))\n",
    "\n",
    "\n",
    "#fig = plt.figure(figsize=(15,9))\n",
    "#ax = fig.add_subplot(1,1,1)\n",
    "#ax.plot(np.linspace(0,len(y_pred), len(y_pred)),y_true, 'x')\n",
    "\n",
    "\n",
    "fig = plt.figure(figsize=(15,9))\n",
    "ax = fig.add_subplot(1,1,1)\n",
    "ax.plot(np.linspace(0,len(y_pred), len(y_pred)),y_pred, 'x')\n",
    "\n",
    "from sklearn.metrics import classification_report\n",
    "print(classification_report(y_true, y_pred))\n",
    "from sklearn.metrics import confusion_matrix\n",
    "print(confusion_matrix(y_true, y_pred))"
   ]
  },
  {
   "cell_type": "code",
   "execution_count": 21,
   "metadata": {},
   "outputs": [
    {
     "ename": "SyntaxError",
     "evalue": "invalid syntax (<ipython-input-21-64a22509ac47>, line 3)",
     "output_type": "error",
     "traceback": [
      "\u001b[0;36m  File \u001b[0;32m\"<ipython-input-21-64a22509ac47>\"\u001b[0;36m, line \u001b[0;32m3\u001b[0m\n\u001b[0;31m    mat = confusion_matrix(y_true, y_pred)0 0 0 2 2 2 2 1 1 1 1 1 1 1 1 1\u001b[0m\n\u001b[0m                                          ^\u001b[0m\n\u001b[0;31mSyntaxError\u001b[0m\u001b[0;31m:\u001b[0m invalid syntax\n"
     ]
    }
   ],
   "source": [
    "from sklearn.metrics import confusion_matrix\n",
    "print(y_pred)\n",
    "mat = confusion_matrix(y_true, y_pred)0 0 0 2 2 2 2 1 1 1 1 1 1 1 1 1\n",
    " 1 1 1 1 1 1 1 1 1 1 1 1 1 1 1 1 1 1 1 1 1 1 1 1"
   ]
  },
  {
   "cell_type": "code",
   "execution_count": null,
   "metadata": {},
   "outputs": [],
   "source": [
    "print(mat)"
   ]
  },
  {
   "cell_type": "code",
   "execution_count": null,
   "metadata": {},
   "outputs": [],
   "source": [
    "print(mat[0])"
   ]
  },
  {
   "cell_type": "code",
   "execution_count": null,
   "metadata": {},
   "outputs": [],
   "source": []
  }
 ],
 "metadata": {
  "kernelspec": {
   "display_name": "Python 3",
   "language": "python",
   "name": "python3"
  },
  "language_info": {
   "codemirror_mode": {
    "name": "ipython",
    "version": 3
   },
   "file_extension": ".py",
   "mimetype": "text/x-python",
   "name": "python",
   "nbconvert_exporter": "python",
   "pygments_lexer": "ipython3",
   "version": "3.6.7"
  }
 },
 "nbformat": 4,
 "nbformat_minor": 2
}
