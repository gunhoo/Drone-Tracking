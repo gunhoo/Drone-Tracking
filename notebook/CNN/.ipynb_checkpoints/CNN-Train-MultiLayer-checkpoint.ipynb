{
 "cells": [
  {
   "cell_type": "code",
   "execution_count": 1,
   "metadata": {
    "scrolled": true
   },
   "outputs": [],
   "source": [
    "import matplotlib.pyplot as plt\n",
    "%matplotlib inline\n",
    "import IPython.display\n",
    "import librosa.display\n",
    "import numpy as np\n",
    "import librosa\n",
    "import tensorflow as tf\n",
    "import glob"
   ]
  },
  {
   "cell_type": "markdown",
   "metadata": {},
   "source": [
    "### If you have been save the data, you don't have to preprocessing and save the data"
   ]
  },
  {
   "cell_type": "code",
   "execution_count": 2,
   "metadata": {},
   "outputs": [],
   "source": [
    "drone_path = '../../../1m/*.wav'\n",
    "background_path = '../../data/background/*.wav'\n",
    "\n",
    "drone_files = glob.glob(drone_path)\n",
    "background_files = glob.glob(background_path)"
   ]
  },
  {
   "cell_type": "code",
   "execution_count": 3,
   "metadata": {},
   "outputs": [],
   "source": [
    "CHUNK_SIZE = 8192\n",
    "SR = 22050\n",
    "N_MFCC = 16"
   ]
  },
  {
   "cell_type": "code",
   "execution_count": 4,
   "metadata": {},
   "outputs": [],
   "source": [
    "def load(files, sr=22050):\n",
    "    [raw, sr] = librosa.load(files[0], sr=sr)\n",
    "    for f in files[1:]:\n",
    "        [array, sr] = librosa.load(f, sr=sr)\n",
    "        raw = np.hstack((raw, array))\n",
    "    print(raw.shape)\n",
    "    return raw"
   ]
  },
  {
   "cell_type": "code",
   "execution_count": 5,
   "metadata": {},
   "outputs": [
    {
     "name": "stdout",
     "output_type": "stream",
     "text": [
      "(2232320,)\n",
      "(23317637,)\n"
     ]
    }
   ],
   "source": [
    "drone_raw = load(drone_files)\n",
    "background_raw = load(background_files)"
   ]
  },
  {
   "cell_type": "markdown",
   "metadata": {},
   "source": [
    "# Data Processing"
   ]
  },
  {
   "cell_type": "code",
   "execution_count": 6,
   "metadata": {},
   "outputs": [],
   "source": [
    "def mfcc4(raw, label, chunk_size=8192, window_size=4096, sr=22050, n_mfcc=16, n_frame=16):\n",
    "    mfcc = np.empty((0, n_mfcc, n_frame))\n",
    "    y = []\n",
    "    print(raw.shape)\n",
    "    for i in range(0, len(raw), chunk_size//2):\n",
    "        mfcc_slice = librosa.feature.mfcc(raw[i:i+chunk_size], sr=sr, n_mfcc=n_mfcc) #n_mfcc,17\n",
    "        if mfcc_slice.shape[1] < 17:\n",
    "            print(\"small end:\", mfcc_slice.shape)\n",
    "            continue\n",
    "        mfcc_slice = mfcc_slice[:,:-1]\n",
    "        mfcc_slice = mfcc_slice.reshape((1, mfcc_slice.shape[0], mfcc_slice.shape[1]))\n",
    "        mfcc = np.vstack((mfcc, mfcc_slice))\n",
    "        y.append(label)\n",
    "    y = np.array(y)\n",
    "    return mfcc, y"
   ]
  },
  {
   "cell_type": "code",
   "execution_count": 7,
   "metadata": {},
   "outputs": [
    {
     "name": "stdout",
     "output_type": "stream",
     "text": [
      "(2232320,)\n",
      "small end: (16, 9)\n",
      "(23317637,)\n",
      "small end: (16, 15)\n",
      "small end: (16, 7)\n",
      "(544, 16, 16) (544,)\n",
      "(5691, 16, 16) (5691,)\n"
     ]
    }
   ],
   "source": [
    "mfcc_drone, y_drone = mfcc4(drone_raw, 1)\n",
    "mfcc_background, y_background = mfcc4(background_raw, 0)\n",
    "\n",
    "print(mfcc_drone.shape, y_drone.shape)\n",
    "print(mfcc_background.shape, y_background.shape)"
   ]
  },
  {
   "cell_type": "code",
   "execution_count": 8,
   "metadata": {},
   "outputs": [
    {
     "name": "stdout",
     "output_type": "stream",
     "text": [
      "(6235, 16, 16) (6235,)\n"
     ]
    }
   ],
   "source": [
    "X = np.concatenate((mfcc_drone, mfcc_background), axis=0)\n",
    "#X = np.concatenate((mfcc_drone), axis=0)\n",
    "#X = X.reshape(-1, 16,16,1)\n",
    "y = np.hstack((y_drone, y_background))\n",
    "#y = np.hstack(y_drone)\n",
    "print(X.shape, y.shape)"
   ]
  },
  {
   "cell_type": "code",
   "execution_count": 9,
   "metadata": {},
   "outputs": [
    {
     "name": "stdout",
     "output_type": "stream",
     "text": [
      "(6235, 2)\n"
     ]
    }
   ],
   "source": [
    "n_labels = y.shape[0]\n",
    "n_unique_labels = 2\n",
    "y_encoded = np.zeros((n_labels, n_unique_labels))\n",
    "y_encoded[np.arange(n_labels), y] = 1\n",
    "print(y_encoded.shape)"
   ]
  },
  {
   "cell_type": "code",
   "execution_count": 10,
   "metadata": {},
   "outputs": [],
   "source": [
    "# Split data\n",
    "from sklearn import model_selection\n",
    "X_train, X_test, y_train, y_test = model_selection.train_test_split(X, y_encoded, test_size=0.2, random_state=42)\n",
    "X_train, X_val, y_train, y_val = model_selection.train_test_split(X_train, y_train, test_size=0.2, random_state=42)"
   ]
  },
  {
   "cell_type": "code",
   "execution_count": 11,
   "metadata": {},
   "outputs": [
    {
     "name": "stdout",
     "output_type": "stream",
     "text": [
      "(3990, 16, 16) (1247, 16, 16)\n",
      "(998, 16, 16) (998, 2)\n",
      "(3990, 2) (1247, 2)\n"
     ]
    }
   ],
   "source": [
    "print(X_train.shape, X_test.shape)\n",
    "print(X_val.shape, y_val.shape)\n",
    "print(y_train.shape, y_test.shape)"
   ]
  },
  {
   "cell_type": "code",
   "execution_count": 12,
   "metadata": {},
   "outputs": [],
   "source": [
    "# Save Data\n",
    "np.save('../../data/X_train', X_train)\n",
    "np.save('../../data/X_test', X_test)\n",
    "np.save('../../data/X_val', X_val)\n",
    "np.save('../../data/y_val', y_val)\n",
    "np.save('../../data/y_train', y_train)\n",
    "np.save('../../data/y_test', y_test)"
   ]
  },
  {
   "cell_type": "markdown",
   "metadata": {},
   "source": [
    "### Until this part"
   ]
  },
  {
   "cell_type": "code",
   "execution_count": 13,
   "metadata": {},
   "outputs": [],
   "source": [
    "# Load Data\n",
    "X_train = np.load('../../data/X_train.npy')\n",
    "X_test = np.load('../../data/X_test.npy')\n",
    "X_val = np.load('../../data/X_val.npy')\n",
    "y_val = np.load('../../data/y_val.npy')\n",
    "y_train = np.load('../../data/y_train.npy')\n",
    "y_test = np.load('../../data/y_test.npy')"
   ]
  },
  {
   "cell_type": "markdown",
   "metadata": {},
   "source": [
    "# Experiment 3 - One convolutional layer /w no dropout"
   ]
  },
  {
   "cell_type": "markdown",
   "metadata": {},
   "source": [
    "##Experiment 3-2\n",
    "- learning rate 0.005\n",
    "- pooling stride 1x1\n",
    "- #filter 1\n",
    "- best result among every other settings\n",
    "- cost kept fluctuated during training. (0.8 -> 1.3) -- why is that?"
   ]
  },
  {
   "cell_type": "code",
   "execution_count": 14,
   "metadata": {},
   "outputs": [],
   "source": [
    "tf.reset_default_graph()"
   ]
  },
  {
   "cell_type": "code",
   "execution_count": 15,
   "metadata": {},
   "outputs": [],
   "source": [
    "n_mfcc = 16\n",
    "n_frame = 16\n",
    "n_classes = 2\n",
    "n_channels = 1\n",
    "\n",
    "learning_rate = 0.0002  # 0.005\n",
    "training_epochs = 500 # 수정해봐"
   ]
  },
  {
   "cell_type": "markdown",
   "metadata": {},
   "source": [
    "# Layer"
   ]
  },
  {
   "cell_type": "code",
   "execution_count": 16,
   "metadata": {},
   "outputs": [],
   "source": [
    "X = tf.placeholder(tf.float32, shape=[None,n_mfcc*n_frame*n_channels])\n",
    "X = tf.reshape(X, [-1, n_mfcc, n_frame, n_channels])\n",
    "Y = tf.placeholder(tf.float32, shape=[None,n_classes])\n",
    "\n",
    "conv1 = tf.layers.conv2d(inputs=X, filters=1, kernel_size=[3, 3],\n",
    "                         padding=\"SAME\", activation=tf.nn.relu)\n",
    "pool1 = tf.layers.max_pooling2d(inputs=conv1, pool_size=[2, 2],\n",
    "                                padding=\"SAME\", strides=1)\n",
    "# dropout넣어야하나\n",
    "conv2 = tf.layers.conv2d(inputs=pool1, filters=1, kernel_size=[3, 3],\n",
    "                         padding=\"SAME\", activation=tf.nn.relu)\n",
    "pool2 = tf.layers.max_pooling2d(inputs=conv2, pool_size=[2, 2],\n",
    "                                padding=\"SAME\", strides=1)\n",
    "# 여기도\n",
    "flat = tf.reshape(pool2, [-1, 16*16*1])\n",
    "dense2 = tf.layers.dense(inputs=flat, units=625, activation=tf.nn.relu)\n",
    "logits = tf.layers.dense(inputs=dense2, units=2)"
   ]
  },
  {
   "cell_type": "code",
   "execution_count": 17,
   "metadata": {},
   "outputs": [],
   "source": [
    "cost = tf.reduce_mean(tf.nn.softmax_cross_entropy_with_logits_v2(logits=logits, labels=Y))\n",
    "optimizer = tf.train.AdamOptimizer(learning_rate=learning_rate).minimize(cost)"
   ]
  },
  {
   "cell_type": "code",
   "execution_count": 18,
   "metadata": {},
   "outputs": [],
   "source": [
    "Y_pred = tf.contrib.layers.fully_connected(logits,n_classes,activation_fn = None)"
   ]
  },
  {
   "cell_type": "code",
   "execution_count": 19,
   "metadata": {},
   "outputs": [],
   "source": [
    "sess = tf.Session()\n",
    "sess.run(tf.global_variables_initializer())"
   ]
  },
  {
   "cell_type": "code",
   "execution_count": 20,
   "metadata": {},
   "outputs": [],
   "source": [
    "X_train2 = X_train.reshape(X_train.shape[0], X_train.shape[1], X_train.shape[2], 1)\n",
    "X_test2 = X_test.reshape(X_test.shape[0], X_test.shape[1], X_test.shape[2], 1)\n",
    "X_val2 = X_val.reshape(X_val.shape[0], X_val.shape[1], X_val.shape[2], 1)"
   ]
  },
  {
   "cell_type": "code",
   "execution_count": 21,
   "metadata": {},
   "outputs": [],
   "source": [
    "# model save\n",
    "model_path = '../../model/CNN/cnn_model'\n",
    "saver = tf.train.Saver()"
   ]
  },
  {
   "cell_type": "markdown",
   "metadata": {},
   "source": [
    "# Trainning"
   ]
  },
  {
   "cell_type": "code",
   "execution_count": 22,
   "metadata": {},
   "outputs": [],
   "source": [
    "from sklearn.metrics import precision_recall_fscore_support\n",
    "from sklearn.metrics import accuracy_score\n",
    "from sklearn.metrics import classification_report\n",
    "from sklearn.metrics import confusion_matrix\n",
    "import itertools as it"
   ]
  },
  {
   "cell_type": "code",
   "execution_count": 23,
   "metadata": {
    "scrolled": false
   },
   "outputs": [
    {
     "name": "stdout",
     "output_type": "stream",
     "text": [
      "998 Epoch: 0001 cost =  0.608406330 val =  0.983968\n",
      "998 Epoch: 0002 cost =  0.075105024 val =  0.985972\n",
      "998 Epoch: 0003 cost =  0.048085988 val =  0.991984\n",
      "998 Epoch: 0004 cost =  0.042484946 val =  0.995992\n",
      "998 Epoch: 0005 cost =  0.024359192 val =  0.991984\n",
      "998 Epoch: 0006 cost =  0.024465774 val =  0.995992\n",
      "998 Epoch: 0007 cost =  0.017073186 val =  0.991984\n",
      "998 Epoch: 0008 cost =  0.010985831 val =  0.996994\n",
      "998 Epoch: 0009 cost =  0.002646131 val =  0.996994\n",
      "998 Epoch: 0010 cost =  0.003817501 val =  0.997996\n",
      "998 Epoch: 0011 cost =  0.003685149 val =  0.997996\n",
      "998 Epoch: 0012 cost =  0.005112943 val =  0.996994\n",
      "998 Epoch: 0013 cost =  0.001227207 val =  0.995992\n",
      "998 Epoch: 0014 cost =  0.044713707 val =  0.991984\n",
      "998 Epoch: 0015 cost =  0.074733942 val =  0.996994\n",
      "998 Epoch: 0016 cost =  0.012613114 val =  0.995992\n",
      "998 Epoch: 0017 cost =  0.008866721 val =  0.995992\n",
      "998 Epoch: 0018 cost =  0.010357941 val =  0.997996\n",
      "998 Epoch: 0019 cost =  0.034886196 val =  0.990982\n",
      "998 Epoch: 0020 cost =  0.018644220 val =  0.995992\n",
      "998 Epoch: 0021 cost =  0.002190209 val =  0.998998\n",
      "998 Epoch: 0022 cost =  0.089892144 val =  0.994990\n",
      "998 Epoch: 0023 cost =  0.014327477 val =  0.998998\n",
      "998 Epoch: 0024 cost =  0.000063809 val =  0.997996\n",
      "998 Epoch: 0025 cost =  0.007011279 val =  0.995992\n",
      "998 Epoch: 0026 cost =  0.022615911 val =  0.997996\n",
      "998 Epoch: 0027 cost =  0.004405855 val =  0.990982\n",
      "998 Epoch: 0028 cost =  0.019953883 val =  0.994990\n",
      "998 Epoch: 0029 cost =  0.015371982 val =  0.995992\n",
      "998 Epoch: 0030 cost =  0.008138395 val =  0.994990\n",
      "998 Epoch: 0031 cost =  0.005232994 val =  0.998998\n",
      "998 Epoch: 0032 cost =  0.017152839 val =  0.998998\n",
      "998 Epoch: 0033 cost =  0.019619681 val =  0.998998\n",
      "998 Epoch: 0034 cost =  0.000010320 val =  0.997996\n",
      "998 Epoch: 0035 cost =  0.000001496 val =  0.997996\n",
      "998 Epoch: 0036 cost =  0.000001427 val =  0.997996\n",
      "998 Epoch: 0037 cost =  0.000001397 val =  0.997996\n",
      "998 Epoch: 0038 cost =  0.000001373 val =  0.997996\n",
      "998 Epoch: 0039 cost =  0.000001349 val =  0.997996\n",
      "998 Epoch: 0040 cost =  0.000001327 val =  0.997996\n",
      "998 Epoch: 0041 cost =  0.000001304 val =  0.997996\n",
      "998 Epoch: 0042 cost =  0.000001281 val =  0.997996\n",
      "998 Epoch: 0043 cost =  0.000001256 val =  0.997996\n",
      "998 Epoch: 0044 cost =  0.000001232 val =  0.997996\n",
      "998 Epoch: 0045 cost =  0.000001206 val =  0.997996\n",
      "998 Epoch: 0046 cost =  0.000001181 val =  0.997996\n",
      "998 Epoch: 0047 cost =  0.000001154 val =  0.997996\n",
      "998 Epoch: 0048 cost =  0.000001120 val =  0.997996\n",
      "998 Epoch: 0049 cost =  0.000001088 val =  0.997996\n",
      "998 Epoch: 0050 cost =  0.000001058 val =  0.997996\n",
      "998 Epoch: 0051 cost =  0.000001028 val =  0.997996\n",
      "998 Epoch: 0052 cost =  0.000000999 val =  0.997996\n",
      "998 Epoch: 0053 cost =  0.000000969 val =  0.997996\n",
      "998 Epoch: 0054 cost =  0.000000920 val =  0.997996\n",
      "998 Epoch: 0055 cost =  0.000000908 val =  0.997996\n",
      "998 Epoch: 0056 cost =  0.000000880 val =  0.997996\n",
      "998 Epoch: 0057 cost =  0.000000855 val =  0.997996\n",
      "998 Epoch: 0058 cost =  0.000000832 val =  0.997996\n",
      "998 Epoch: 0059 cost =  0.000000808 val =  0.997996\n",
      "998 Epoch: 0060 cost =  0.000000784 val =  0.997996\n",
      "998 Epoch: 0061 cost =  0.000000761 val =  0.997996\n",
      "998 Epoch: 0062 cost =  0.000000733 val =  0.997996\n",
      "998 Epoch: 0063 cost =  0.000000713 val =  0.997996\n",
      "998 Epoch: 0064 cost =  0.000000687 val =  0.997996\n",
      "998 Epoch: 0065 cost =  0.000000667 val =  0.997996\n",
      "998 Epoch: 0066 cost =  0.000000643 val =  0.997996\n",
      "998 Epoch: 0067 cost =  0.000000622 val =  0.997996\n",
      "998 Epoch: 0068 cost =  0.000000599 val =  0.997996\n",
      "998 Epoch: 0069 cost =  0.000000578 val =  0.997996\n",
      "998 Epoch: 0070 cost =  0.000000558 val =  0.997996\n",
      "998 Epoch: 0071 cost =  0.000000535 val =  0.997996\n",
      "998 Epoch: 0072 cost =  0.000000517 val =  0.997996\n",
      "998 Epoch: 0073 cost =  0.000000495 val =  0.997996\n",
      "998 Epoch: 0074 cost =  0.000000478 val =  0.997996\n",
      "998 Epoch: 0075 cost =  0.000000457 val =  0.997996\n",
      "998 Epoch: 0076 cost =  0.000000440 val =  0.997996\n",
      "998 Epoch: 0077 cost =  0.000000410 val =  0.997996\n",
      "998 Epoch: 0078 cost =  0.000000408 val =  0.997996\n",
      "998 Epoch: 0079 cost =  0.000000391 val =  0.997996\n",
      "998 Epoch: 0080 cost =  0.000000365 val =  0.997996\n",
      "998 Epoch: 0081 cost =  0.000000347 val =  0.997996\n",
      "998 Epoch: 0082 cost =  0.000000330 val =  0.997996\n",
      "998 Epoch: 0083 cost =  0.000000313 val =  0.997996\n",
      "998 Epoch: 0084 cost =  0.000000298 val =  0.997996\n",
      "998 Epoch: 0085 cost =  0.000000283 val =  0.997996\n",
      "998 Epoch: 0086 cost =  0.000000269 val =  0.997996\n",
      "998 Epoch: 0087 cost =  0.000000255 val =  0.997996\n",
      "998 Epoch: 0088 cost =  0.000000243 val =  0.997996\n",
      "998 Epoch: 0089 cost =  0.000000225 val =  0.997996\n",
      "998 Epoch: 0090 cost =  0.000000225 val =  0.997996\n",
      "998 Epoch: 0091 cost =  0.000000211 val =  0.997996\n",
      "998 Epoch: 0092 cost =  0.000000201 val =  0.997996\n",
      "998 Epoch: 0093 cost =  0.000000192 val =  0.997996\n",
      "998 Epoch: 0094 cost =  0.000000183 val =  0.997996\n",
      "998 Epoch: 0095 cost =  0.000000176 val =  0.997996\n",
      "998 Epoch: 0096 cost =  0.000000166 val =  0.997996\n",
      "998 Epoch: 0097 cost =  0.000000159 val =  0.997996\n",
      "998 Epoch: 0098 cost =  0.000000148 val =  0.997996\n",
      "998 Epoch: 0099 cost =  0.000000146 val =  0.997996\n",
      "998 Epoch: 0100 cost =  0.000000140 val =  0.997996\n",
      "998 Epoch: 0101 cost =  0.000000133 val =  0.997996\n",
      "998 Epoch: 0102 cost =  0.000000127 val =  0.997996\n",
      "998 Epoch: 0103 cost =  0.000000121 val =  0.997996\n",
      "998 Epoch: 0104 cost =  0.000000115 val =  0.997996\n",
      "998 Epoch: 0105 cost =  0.000000110 val =  0.997996\n",
      "998 Epoch: 0106 cost =  0.000000104 val =  0.997996\n",
      "998 Epoch: 0107 cost =  0.000000099 val =  0.997996\n",
      "998 Epoch: 0108 cost =  0.000000095 val =  0.997996\n",
      "998 Epoch: 0109 cost =  0.000000089 val =  0.997996\n",
      "998 Epoch: 0110 cost =  0.000000086 val =  0.997996\n",
      "998 Epoch: 0111 cost =  0.000000082 val =  0.997996\n",
      "998 Epoch: 0112 cost =  0.000000078 val =  0.997996\n",
      "998 Epoch: 0113 cost =  0.000000073 val =  0.997996\n",
      "998 Epoch: 0114 cost =  0.000000071 val =  0.997996\n",
      "998 Epoch: 0115 cost =  0.000000068 val =  0.997996\n",
      "998 Epoch: 0116 cost =  0.000000064 val =  0.997996\n",
      "998 Epoch: 0117 cost =  0.000000061 val =  0.997996\n",
      "998 Epoch: 0118 cost =  0.000000057 val =  0.997996\n",
      "998 Epoch: 0119 cost =  0.000000055 val =  0.997996\n",
      "998 Epoch: 0120 cost =  0.000000053 val =  0.997996\n",
      "998 Epoch: 0121 cost =  0.000000050 val =  0.997996\n",
      "998 Epoch: 0122 cost =  0.000000048 val =  0.997996\n",
      "998 Epoch: 0123 cost =  0.000000046 val =  0.997996\n",
      "998 Epoch: 0124 cost =  0.000000043 val =  0.997996\n",
      "998 Epoch: 0125 cost =  0.000000041 val =  0.997996\n",
      "998 Epoch: 0126 cost =  0.000000040 val =  0.997996\n",
      "998 Epoch: 0127 cost =  0.000000038 val =  0.997996\n",
      "998 Epoch: 0128 cost =  0.000000036 val =  0.997996\n",
      "998 Epoch: 0129 cost =  0.000000034 val =  0.997996\n",
      "998 Epoch: 0130 cost =  0.000000032 val =  0.997996\n",
      "998 Epoch: 0131 cost =  0.000000031 val =  0.997996\n",
      "998 Epoch: 0132 cost =  0.000000029 val =  0.997996\n",
      "998 Epoch: 0133 cost =  0.000000028 val =  0.997996\n",
      "998 Epoch: 0134 cost =  0.000000026 val =  0.997996\n",
      "998 Epoch: 0135 cost =  0.000000026 val =  0.997996\n",
      "998 Epoch: 0136 cost =  0.000000024 val =  0.997996\n",
      "998 Epoch: 0137 cost =  0.000000023 val =  0.997996\n",
      "998 Epoch: 0138 cost =  0.000000021 val =  0.997996\n",
      "998 Epoch: 0139 cost =  0.000000020 val =  0.997996\n",
      "998 Epoch: 0140 cost =  0.000000019 val =  0.997996\n",
      "998 Epoch: 0141 cost =  0.000000019 val =  0.997996\n",
      "998 Epoch: 0142 cost =  0.000000017 val =  0.997996\n",
      "998 Epoch: 0143 cost =  0.000000016 val =  0.997996\n",
      "998 Epoch: 0144 cost =  0.000000015 val =  0.997996\n",
      "998 Epoch: 0145 cost =  0.000000015 val =  0.997996\n",
      "998 Epoch: 0146 cost =  0.000000014 val =  0.997996\n",
      "998 Epoch: 0147 cost =  0.000000013 val =  0.997996\n",
      "998 Epoch: 0148 cost =  0.000000012 val =  0.997996\n",
      "998 Epoch: 0149 cost =  0.000000012 val =  0.997996\n",
      "998 Epoch: 0150 cost =  0.000000011 val =  0.997996\n",
      "998 Epoch: 0151 cost =  0.000000010 val =  0.997996\n",
      "998 Epoch: 0152 cost =  0.000000010 val =  0.997996\n",
      "998 Epoch: 0153 cost =  0.000000009 val =  0.997996\n",
      "998 Epoch: 0154 cost =  0.000000009 val =  0.997996\n",
      "998 Epoch: 0155 cost =  0.000000008 val =  0.997996\n",
      "998 Epoch: 0156 cost =  0.000000008 val =  0.997996\n",
      "998 Epoch: 0157 cost =  0.000000007 val =  0.997996\n",
      "998 Epoch: 0158 cost =  0.000000007 val =  0.997996\n"
     ]
    },
    {
     "name": "stdout",
     "output_type": "stream",
     "text": [
      "998 Epoch: 0159 cost =  0.000000006 val =  0.997996\n",
      "998 Epoch: 0160 cost =  0.000000006 val =  0.997996\n",
      "998 Epoch: 0161 cost =  0.000000006 val =  0.997996\n",
      "998 Epoch: 0162 cost =  0.000000005 val =  0.997996\n",
      "998 Epoch: 0163 cost =  0.000000005 val =  0.997996\n",
      "998 Epoch: 0164 cost =  0.000000005 val =  0.997996\n",
      "998 Epoch: 0165 cost =  0.000000004 val =  0.997996\n",
      "998 Epoch: 0166 cost =  0.000000004 val =  0.997996\n",
      "998 Epoch: 0167 cost =  0.000000004 val =  0.997996\n",
      "998 Epoch: 0168 cost =  0.000000004 val =  0.997996\n",
      "998 Epoch: 0169 cost =  0.000000004 val =  0.997996\n",
      "998 Epoch: 0170 cost =  0.000000003 val =  0.997996\n",
      "998 Epoch: 0171 cost =  0.000000003 val =  0.997996\n",
      "998 Epoch: 0172 cost =  0.000000003 val =  0.997996\n",
      "998 Epoch: 0173 cost =  0.000000003 val =  0.997996\n",
      "998 Epoch: 0174 cost =  0.000000003 val =  0.997996\n",
      "998 Epoch: 0175 cost =  0.000000002 val =  0.997996\n",
      "998 Epoch: 0176 cost =  0.000000002 val =  0.997996\n",
      "998 Epoch: 0177 cost =  0.000000002 val =  0.997996\n",
      "998 Epoch: 0178 cost =  0.000000002 val =  0.997996\n",
      "998 Epoch: 0179 cost =  0.000000002 val =  0.997996\n",
      "998 Epoch: 0180 cost =  0.000000002 val =  0.997996\n",
      "998 Epoch: 0181 cost =  0.000000002 val =  0.997996\n",
      "998 Epoch: 0182 cost =  0.000000002 val =  0.997996\n",
      "998 Epoch: 0183 cost =  0.000000002 val =  0.997996\n",
      "998 Epoch: 0184 cost =  0.000000001 val =  0.997996\n",
      "998 Epoch: 0185 cost =  0.000000001 val =  0.997996\n",
      "998 Epoch: 0186 cost =  0.000000001 val =  0.997996\n",
      "998 Epoch: 0187 cost =  0.000000001 val =  0.997996\n",
      "998 Epoch: 0188 cost =  0.000000001 val =  0.997996\n",
      "998 Epoch: 0189 cost =  0.000000001 val =  0.997996\n",
      "998 Epoch: 0190 cost =  0.000000001 val =  0.997996\n",
      "998 Epoch: 0191 cost =  0.000000001 val =  0.997996\n",
      "998 Epoch: 0192 cost =  0.000000001 val =  0.997996\n",
      "998 Epoch: 0193 cost =  0.000000001 val =  0.997996\n",
      "998 Epoch: 0194 cost =  0.000000001 val =  0.997996\n",
      "998 Epoch: 0195 cost =  0.000000001 val =  0.997996\n",
      "998 Epoch: 0196 cost =  0.000000001 val =  0.997996\n",
      "998 Epoch: 0197 cost =  0.000000001 val =  0.997996\n",
      "998 Epoch: 0198 cost =  0.000000001 val =  0.997996\n",
      "998 Epoch: 0199 cost =  0.000000001 val =  0.997996\n",
      "998 Epoch: 0200 cost =  0.000000001 val =  0.997996\n",
      "998 Epoch: 0201 cost =  0.000000001 val =  0.997996\n",
      "998 Epoch: 0202 cost =  0.000000001 val =  0.997996\n",
      "998 Epoch: 0203 cost =  0.000000001 val =  0.997996\n",
      "998 Epoch: 0204 cost =  0.000000000 val =  0.997996\n",
      "998 Epoch: 0205 cost =  0.000000001 val =  0.997996\n",
      "998 Epoch: 0206 cost =  0.000000000 val =  0.997996\n",
      "998 Epoch: 0207 cost =  0.000000000 val =  0.997996\n",
      "998 Epoch: 0208 cost =  0.000000000 val =  0.997996\n",
      "998 Epoch: 0209 cost =  0.000000000 val =  0.997996\n",
      "998 Epoch: 0210 cost =  0.000000000 val =  0.997996\n",
      "998 Epoch: 0211 cost =  0.000000000 val =  0.997996\n",
      "998 Epoch: 0212 cost =  0.000000000 val =  0.997996\n",
      "998 Epoch: 0213 cost =  0.000000000 val =  0.997996\n",
      "998 Epoch: 0214 cost =  0.000000000 val =  0.997996\n",
      "998 Epoch: 0215 cost =  0.000000000 val =  0.997996\n",
      "998 Epoch: 0216 cost =  0.000000000 val =  0.997996\n",
      "998 Epoch: 0217 cost =  0.000000000 val =  0.997996\n",
      "998 Epoch: 0218 cost =  0.000000000 val =  0.997996\n",
      "998 Epoch: 0219 cost =  0.000000000 val =  0.997996\n",
      "998 Epoch: 0220 cost =  0.000000000 val =  0.997996\n",
      "998 Epoch: 0221 cost =  0.000000000 val =  0.997996\n",
      "998 Epoch: 0222 cost =  0.000000000 val =  0.997996\n",
      "998 Epoch: 0223 cost =  0.000000000 val =  0.997996\n",
      "998 Epoch: 0224 cost =  0.000000000 val =  0.997996\n",
      "998 Epoch: 0225 cost =  0.000000000 val =  0.997996\n",
      "998 Epoch: 0226 cost =  0.000000000 val =  0.997996\n",
      "998 Epoch: 0227 cost =  0.000000000 val =  0.997996\n",
      "998 Epoch: 0228 cost =  0.000000000 val =  0.997996\n",
      "998 Epoch: 0229 cost =  0.000000000 val =  0.997996\n",
      "998 Epoch: 0230 cost =  0.000000000 val =  0.997996\n",
      "998 Epoch: 0231 cost =  0.000000000 val =  0.997996\n",
      "998 Epoch: 0232 cost =  0.000000000 val =  0.997996\n",
      "998 Epoch: 0233 cost =  0.000000000 val =  0.997996\n",
      "998 Epoch: 0234 cost =  0.000000000 val =  0.997996\n",
      "998 Epoch: 0235 cost =  0.000000000 val =  0.997996\n",
      "998 Epoch: 0236 cost =  0.000000000 val =  0.997996\n",
      "998 Epoch: 0237 cost =  0.000000000 val =  0.997996\n",
      "998 Epoch: 0238 cost =  0.000000000 val =  0.997996\n",
      "998 Epoch: 0239 cost =  0.000000000 val =  0.998998\n",
      "998 Epoch: 0240 cost =  0.000000000 val =  0.997996\n",
      "998 Epoch: 0241 cost =  0.000000000 val =  0.997996\n",
      "998 Epoch: 0242 cost =  0.000000000 val =  0.998998\n",
      "998 Epoch: 0243 cost =  0.000000000 val =  0.998998\n",
      "998 Epoch: 0244 cost =  0.000000000 val =  0.997996\n",
      "998 Epoch: 0245 cost =  0.000000000 val =  0.997996\n",
      "998 Epoch: 0246 cost =  0.000000000 val =  0.998998\n",
      "998 Epoch: 0247 cost =  0.000000000 val =  0.997996\n",
      "998 Epoch: 0248 cost =  0.000000000 val =  0.997996\n",
      "998 Epoch: 0249 cost =  0.000000000 val =  0.997996\n",
      "998 Epoch: 0250 cost =  0.000000000 val =  0.997996\n",
      "998 Epoch: 0251 cost =  0.000000000 val =  0.997996\n",
      "998 Epoch: 0252 cost =  0.000000000 val =  0.997996\n",
      "998 Epoch: 0253 cost =  0.000000000 val =  0.997996\n",
      "998 Epoch: 0254 cost =  0.000000000 val =  0.997996\n",
      "998 Epoch: 0255 cost =  0.000000001 val =  0.996994\n",
      "998 Epoch: 0256 cost =  0.499089776 val =  0.996994\n",
      "998 Epoch: 0257 cost =  0.011994179 val =  0.998998\n",
      "998 Epoch: 0258 cost =  0.000001241 val =  0.998998\n",
      "998 Epoch: 0259 cost =  0.000001119 val =  0.998998\n",
      "998 Epoch: 0260 cost =  0.000001037 val =  0.998998\n",
      "998 Epoch: 0261 cost =  0.000000976 val =  0.998998\n",
      "998 Epoch: 0262 cost =  0.000000926 val =  0.998998\n",
      "998 Epoch: 0263 cost =  0.000000885 val =  0.998998\n",
      "998 Epoch: 0264 cost =  0.000000848 val =  0.998998\n",
      "998 Epoch: 0265 cost =  0.000000815 val =  0.998998\n",
      "998 Epoch: 0266 cost =  0.000000783 val =  0.998998\n",
      "998 Epoch: 0267 cost =  0.000000753 val =  0.998998\n",
      "998 Epoch: 0268 cost =  0.000000724 val =  0.998998\n",
      "998 Epoch: 0269 cost =  0.000000696 val =  0.998998\n",
      "998 Epoch: 0270 cost =  0.000000668 val =  0.998998\n",
      "998 Epoch: 0271 cost =  0.000000641 val =  0.998998\n",
      "998 Epoch: 0272 cost =  0.000000615 val =  0.998998\n",
      "998 Epoch: 0273 cost =  0.000000589 val =  0.998998\n",
      "998 Epoch: 0274 cost =  0.000000564 val =  0.998998\n",
      "998 Epoch: 0275 cost =  0.000000539 val =  0.998998\n",
      "998 Epoch: 0276 cost =  0.000000516 val =  0.998998\n",
      "998 Epoch: 0277 cost =  0.000000492 val =  0.998998\n",
      "998 Epoch: 0278 cost =  0.000000470 val =  0.998998\n",
      "998 Epoch: 0279 cost =  0.000000448 val =  0.998998\n",
      "998 Epoch: 0280 cost =  0.000000427 val =  0.998998\n",
      "998 Epoch: 0281 cost =  0.000000407 val =  0.998998\n",
      "998 Epoch: 0282 cost =  0.000000387 val =  0.998998\n",
      "998 Epoch: 0283 cost =  0.000000368 val =  0.998998\n",
      "998 Epoch: 0284 cost =  0.000000350 val =  0.998998\n",
      "998 Epoch: 0285 cost =  0.000000332 val =  0.998998\n",
      "998 Epoch: 0286 cost =  0.000000315 val =  0.998998\n",
      "998 Epoch: 0287 cost =  0.000000299 val =  0.998998\n",
      "998 Epoch: 0288 cost =  0.000000284 val =  0.998998\n",
      "998 Epoch: 0289 cost =  0.000000269 val =  0.998998\n",
      "998 Epoch: 0290 cost =  0.000000255 val =  0.998998\n",
      "998 Epoch: 0291 cost =  0.000000242 val =  0.998998\n",
      "998 Epoch: 0292 cost =  0.000000229 val =  0.998998\n",
      "998 Epoch: 0293 cost =  0.000000217 val =  0.998998\n",
      "998 Epoch: 0294 cost =  0.000000205 val =  0.998998\n",
      "998 Epoch: 0295 cost =  0.000000194 val =  0.998998\n",
      "998 Epoch: 0296 cost =  0.000000184 val =  0.998998\n",
      "998 Epoch: 0297 cost =  0.000000174 val =  0.998998\n",
      "998 Epoch: 0298 cost =  0.000000164 val =  0.998998\n",
      "998 Epoch: 0299 cost =  0.000000155 val =  0.998998\n",
      "998 Epoch: 0300 cost =  0.000000147 val =  0.998998\n",
      "998 Epoch: 0301 cost =  0.000000139 val =  0.998998\n",
      "998 Epoch: 0302 cost =  0.000000131 val =  0.998998\n",
      "998 Epoch: 0303 cost =  0.000000124 val =  0.998998\n",
      "998 Epoch: 0304 cost =  0.000000117 val =  0.998998\n",
      "998 Epoch: 0305 cost =  0.000000110 val =  0.998998\n",
      "998 Epoch: 0306 cost =  0.000000104 val =  0.998998\n",
      "998 Epoch: 0307 cost =  0.000000098 val =  0.998998\n",
      "998 Epoch: 0308 cost =  0.000000093 val =  0.998998\n",
      "998 Epoch: 0309 cost =  0.000000088 val =  0.998998\n",
      "998 Epoch: 0310 cost =  0.000000083 val =  0.998998\n",
      "998 Epoch: 0311 cost =  0.000000078 val =  0.998998\n",
      "998 Epoch: 0312 cost =  0.000000074 val =  0.998998\n",
      "998 Epoch: 0313 cost =  0.000000070 val =  0.998998\n",
      "998 Epoch: 0314 cost =  0.000000066 val =  0.998998\n",
      "998 Epoch: 0315 cost =  0.000000062 val =  0.998998\n",
      "998 Epoch: 0316 cost =  0.000000059 val =  0.998998\n"
     ]
    },
    {
     "name": "stdout",
     "output_type": "stream",
     "text": [
      "998 Epoch: 0317 cost =  0.000000055 val =  0.998998\n",
      "998 Epoch: 0318 cost =  0.000000052 val =  0.998998\n",
      "998 Epoch: 0319 cost =  0.000000050 val =  0.998998\n",
      "998 Epoch: 0320 cost =  0.000000047 val =  0.998998\n",
      "998 Epoch: 0321 cost =  0.000000044 val =  0.998998\n",
      "998 Epoch: 0322 cost =  0.000000042 val =  0.998998\n",
      "998 Epoch: 0323 cost =  0.000000040 val =  0.998998\n",
      "998 Epoch: 0324 cost =  0.000000038 val =  0.998998\n",
      "998 Epoch: 0325 cost =  0.000000036 val =  0.998998\n",
      "998 Epoch: 0326 cost =  0.000000034 val =  0.998998\n",
      "998 Epoch: 0327 cost =  0.000000032 val =  0.998998\n",
      "998 Epoch: 0328 cost =  0.000000031 val =  0.998998\n",
      "998 Epoch: 0329 cost =  0.000000029 val =  0.998998\n",
      "998 Epoch: 0330 cost =  0.000000028 val =  0.998998\n",
      "998 Epoch: 0331 cost =  0.000000027 val =  0.998998\n",
      "998 Epoch: 0332 cost =  0.000000026 val =  0.998998\n",
      "998 Epoch: 0333 cost =  0.000000024 val =  0.998998\n",
      "998 Epoch: 0334 cost =  0.000000023 val =  0.998998\n",
      "998 Epoch: 0335 cost =  0.000000022 val =  0.998998\n",
      "998 Epoch: 0336 cost =  0.000000022 val =  0.998998\n",
      "998 Epoch: 0337 cost =  0.000000021 val =  0.998998\n",
      "998 Epoch: 0338 cost =  0.000000020 val =  0.998998\n",
      "998 Epoch: 0339 cost =  0.000000019 val =  0.998998\n",
      "998 Epoch: 0340 cost =  0.000000019 val =  0.998998\n",
      "998 Epoch: 0341 cost =  0.000000018 val =  0.998998\n",
      "998 Epoch: 0342 cost =  0.000000017 val =  0.998998\n",
      "998 Epoch: 0343 cost =  0.000000017 val =  0.998998\n",
      "998 Epoch: 0344 cost =  0.000000016 val =  0.998998\n",
      "998 Epoch: 0345 cost =  0.000000016 val =  0.998998\n",
      "998 Epoch: 0346 cost =  0.000000015 val =  0.998998\n",
      "998 Epoch: 0347 cost =  0.000000015 val =  0.998998\n",
      "998 Epoch: 0348 cost =  0.000000014 val =  0.998998\n",
      "998 Epoch: 0349 cost =  0.000000014 val =  0.998998\n",
      "998 Epoch: 0350 cost =  0.000000014 val =  0.998998\n",
      "998 Epoch: 0351 cost =  0.000000013 val =  0.998998\n",
      "998 Epoch: 0352 cost =  0.000000013 val =  0.998998\n",
      "998 Epoch: 0353 cost =  0.000000013 val =  0.998998\n",
      "998 Epoch: 0354 cost =  0.000000012 val =  0.998998\n",
      "998 Epoch: 0355 cost =  0.000000012 val =  0.998998\n",
      "998 Epoch: 0356 cost =  0.000000012 val =  0.998998\n",
      "998 Epoch: 0357 cost =  0.000000011 val =  0.998998\n",
      "998 Epoch: 0358 cost =  0.000000011 val =  0.998998\n",
      "998 Epoch: 0359 cost =  0.000000011 val =  0.998998\n",
      "998 Epoch: 0360 cost =  0.000000011 val =  0.998998\n",
      "998 Epoch: 0361 cost =  0.000000010 val =  0.998998\n",
      "998 Epoch: 0362 cost =  0.000000010 val =  0.998998\n",
      "998 Epoch: 0363 cost =  0.000000010 val =  0.998998\n",
      "998 Epoch: 0364 cost =  0.000000010 val =  0.998998\n",
      "998 Epoch: 0365 cost =  0.000000009 val =  0.998998\n",
      "998 Epoch: 0366 cost =  0.000000009 val =  0.998998\n",
      "998 Epoch: 0367 cost =  0.000000009 val =  0.998998\n",
      "998 Epoch: 0368 cost =  0.000000009 val =  0.998998\n",
      "998 Epoch: 0369 cost =  0.000000009 val =  0.998998\n",
      "998 Epoch: 0370 cost =  0.000000008 val =  0.998998\n",
      "998 Epoch: 0371 cost =  0.000000008 val =  0.998998\n",
      "998 Epoch: 0372 cost =  0.000000008 val =  0.998998\n",
      "998 Epoch: 0373 cost =  0.000000008 val =  0.998998\n",
      "998 Epoch: 0374 cost =  0.000000008 val =  0.998998\n",
      "998 Epoch: 0375 cost =  0.000000007 val =  0.998998\n",
      "998 Epoch: 0376 cost =  0.000000007 val =  0.998998\n",
      "998 Epoch: 0377 cost =  0.000000007 val =  0.998998\n",
      "998 Epoch: 0378 cost =  0.000000007 val =  0.998998\n",
      "998 Epoch: 0379 cost =  0.000000007 val =  0.998998\n",
      "998 Epoch: 0380 cost =  0.000000006 val =  0.998998\n",
      "998 Epoch: 0381 cost =  0.000000006 val =  0.998998\n",
      "998 Epoch: 0382 cost =  0.000000006 val =  0.998998\n",
      "998 Epoch: 0383 cost =  0.000000006 val =  0.998998\n",
      "998 Epoch: 0384 cost =  0.000000006 val =  0.998998\n",
      "998 Epoch: 0385 cost =  0.000000006 val =  0.998998\n",
      "998 Epoch: 0386 cost =  0.000000005 val =  0.998998\n",
      "998 Epoch: 0387 cost =  0.000000005 val =  0.998998\n",
      "998 Epoch: 0388 cost =  0.000000005 val =  0.998998\n",
      "998 Epoch: 0389 cost =  0.000000005 val =  0.998998\n",
      "998 Epoch: 0390 cost =  0.000000005 val =  0.998998\n",
      "998 Epoch: 0391 cost =  0.000000004 val =  0.998998\n",
      "998 Epoch: 0392 cost =  0.000000004 val =  0.998998\n",
      "998 Epoch: 0393 cost =  0.000000004 val =  0.998998\n",
      "998 Epoch: 0394 cost =  0.000000004 val =  0.998998\n",
      "998 Epoch: 0395 cost =  0.000000004 val =  0.998998\n",
      "998 Epoch: 0396 cost =  0.000000004 val =  0.998998\n",
      "998 Epoch: 0397 cost =  0.000000004 val =  0.998998\n",
      "998 Epoch: 0398 cost =  0.000000004 val =  0.998998\n",
      "998 Epoch: 0399 cost =  0.000000003 val =  0.998998\n",
      "998 Epoch: 0400 cost =  0.000000003 val =  0.998998\n",
      "998 Epoch: 0401 cost =  0.000000003 val =  0.998998\n",
      "998 Epoch: 0402 cost =  0.000000003 val =  0.998998\n",
      "998 Epoch: 0403 cost =  0.000000003 val =  0.998998\n",
      "998 Epoch: 0404 cost =  0.000000003 val =  0.998998\n",
      "998 Epoch: 0405 cost =  0.000000003 val =  0.998998\n",
      "998 Epoch: 0406 cost =  0.000000003 val =  0.998998\n",
      "998 Epoch: 0407 cost =  0.000000002 val =  0.998998\n",
      "998 Epoch: 0408 cost =  0.000000002 val =  0.998998\n",
      "998 Epoch: 0409 cost =  0.000000002 val =  0.998998\n",
      "998 Epoch: 0410 cost =  0.000000002 val =  0.998998\n",
      "998 Epoch: 0411 cost =  0.000000002 val =  0.998998\n",
      "998 Epoch: 0412 cost =  0.000000002 val =  0.998998\n",
      "998 Epoch: 0413 cost =  0.000000002 val =  0.998998\n",
      "998 Epoch: 0414 cost =  0.000000002 val =  0.998998\n",
      "998 Epoch: 0415 cost =  0.000000002 val =  0.998998\n",
      "998 Epoch: 0416 cost =  0.000000002 val =  0.998998\n",
      "998 Epoch: 0417 cost =  0.000000002 val =  0.998998\n",
      "998 Epoch: 0418 cost =  0.000000002 val =  0.998998\n",
      "998 Epoch: 0419 cost =  0.000000001 val =  0.998998\n",
      "998 Epoch: 0420 cost =  0.000000001 val =  0.998998\n",
      "998 Epoch: 0421 cost =  0.000000001 val =  0.998998\n",
      "998 Epoch: 0422 cost =  0.000000001 val =  0.998998\n",
      "998 Epoch: 0423 cost =  0.000000001 val =  0.998998\n",
      "998 Epoch: 0424 cost =  0.000000001 val =  0.998998\n",
      "998 Epoch: 0425 cost =  0.000000001 val =  0.998998\n",
      "998 Epoch: 0426 cost =  0.000000001 val =  0.998998\n",
      "998 Epoch: 0427 cost =  0.000000001 val =  0.998998\n",
      "998 Epoch: 0428 cost =  0.000000001 val =  0.998998\n",
      "998 Epoch: 0429 cost =  0.000000001 val =  0.998998\n",
      "998 Epoch: 0430 cost =  0.000000001 val =  0.998998\n",
      "998 Epoch: 0431 cost =  0.000000001 val =  0.998998\n",
      "998 Epoch: 0432 cost =  0.000000001 val =  0.998998\n",
      "998 Epoch: 0433 cost =  0.000000001 val =  0.998998\n",
      "998 Epoch: 0434 cost =  0.000000001 val =  0.998998\n",
      "998 Epoch: 0435 cost =  0.000000001 val =  0.998998\n",
      "998 Epoch: 0436 cost =  0.000000001 val =  0.998998\n",
      "998 Epoch: 0437 cost =  0.000000001 val =  0.998998\n",
      "998 Epoch: 0438 cost =  0.000000001 val =  0.998998\n",
      "998 Epoch: 0439 cost =  0.000000001 val =  0.998998\n",
      "998 Epoch: 0440 cost =  0.000000001 val =  0.998998\n",
      "998 Epoch: 0441 cost =  0.000000000 val =  0.998998\n",
      "998 Epoch: 0442 cost =  0.000000000 val =  0.998998\n",
      "998 Epoch: 0443 cost =  0.000000000 val =  0.998998\n",
      "998 Epoch: 0444 cost =  0.000000000 val =  0.998998\n",
      "998 Epoch: 0445 cost =  0.000000000 val =  0.998998\n",
      "998 Epoch: 0446 cost =  0.000000000 val =  0.998998\n",
      "998 Epoch: 0447 cost =  0.000000000 val =  0.998998\n",
      "998 Epoch: 0448 cost =  0.000000000 val =  0.998998\n",
      "998 Epoch: 0449 cost =  0.000000000 val =  0.998998\n",
      "998 Epoch: 0450 cost =  0.000000000 val =  0.998998\n",
      "998 Epoch: 0451 cost =  0.000000000 val =  0.998998\n",
      "998 Epoch: 0452 cost =  0.000000000 val =  0.998998\n",
      "998 Epoch: 0453 cost =  0.000000000 val =  0.998998\n",
      "998 Epoch: 0454 cost =  0.000000000 val =  0.998998\n",
      "998 Epoch: 0455 cost =  0.000000000 val =  0.998998\n",
      "998 Epoch: 0456 cost =  0.000000000 val =  0.998998\n",
      "998 Epoch: 0457 cost =  0.000000000 val =  0.998998\n",
      "998 Epoch: 0458 cost =  0.000000000 val =  0.998998\n",
      "998 Epoch: 0459 cost =  0.000000000 val =  0.998998\n",
      "998 Epoch: 0460 cost =  0.000000000 val =  0.998998\n",
      "998 Epoch: 0461 cost =  0.000000000 val =  0.998998\n",
      "998 Epoch: 0462 cost =  0.000000000 val =  0.998998\n",
      "998 Epoch: 0463 cost =  0.000000000 val =  0.998998\n",
      "998 Epoch: 0464 cost =  0.000000000 val =  0.998998\n",
      "998 Epoch: 0465 cost =  0.000000000 val =  0.998998\n",
      "998 Epoch: 0466 cost =  0.000000000 val =  0.998998\n",
      "998 Epoch: 0467 cost =  0.000000000 val =  0.998998\n",
      "998 Epoch: 0468 cost =  0.000000000 val =  0.998998\n",
      "998 Epoch: 0469 cost =  0.000000000 val =  0.998998\n",
      "998 Epoch: 0470 cost =  0.000000000 val =  0.998998\n",
      "998 Epoch: 0471 cost =  0.000000000 val =  0.998998\n",
      "998 Epoch: 0472 cost =  0.000000000 val =  0.998998\n",
      "998 Epoch: 0473 cost =  0.000000000 val =  0.998998\n",
      "998 Epoch: 0474 cost =  0.000000000 val =  0.998998\n"
     ]
    },
    {
     "name": "stdout",
     "output_type": "stream",
     "text": [
      "998 Epoch: 0475 cost =  0.000000000 val =  0.998998\n",
      "998 Epoch: 0476 cost =  0.000000000 val =  0.998998\n",
      "998 Epoch: 0477 cost =  0.000000000 val =  0.998998\n",
      "998 Epoch: 0478 cost =  0.000000000 val =  0.998998\n",
      "998 Epoch: 0479 cost =  0.000000000 val =  0.998998\n",
      "998 Epoch: 0480 cost =  0.000000000 val =  0.998998\n",
      "998 Epoch: 0481 cost =  0.000000000 val =  0.998998\n",
      "998 Epoch: 0482 cost =  0.000000000 val =  0.998998\n",
      "998 Epoch: 0483 cost =  0.000000000 val =  0.998998\n",
      "998 Epoch: 0484 cost =  0.000000000 val =  0.998998\n",
      "998 Epoch: 0485 cost =  0.000000000 val =  0.998998\n",
      "998 Epoch: 0486 cost =  0.000000000 val =  0.998998\n",
      "998 Epoch: 0487 cost =  0.000000000 val =  0.998998\n",
      "998 Epoch: 0488 cost =  0.000000000 val =  0.998998\n",
      "998 Epoch: 0489 cost =  0.000000000 val =  0.997996\n",
      "998 Epoch: 0490 cost =  0.000000000 val =  0.997996\n",
      "998 Epoch: 0491 cost =  0.000000000 val =  0.997996\n",
      "998 Epoch: 0492 cost =  0.000000000 val =  0.997996\n",
      "998 Epoch: 0493 cost =  0.000000000 val =  0.997996\n",
      "998 Epoch: 0494 cost =  0.000000000 val =  0.997996\n",
      "998 Epoch: 0495 cost =  0.000000000 val =  0.997996\n",
      "998 Epoch: 0496 cost =  0.000000000 val =  0.997996\n",
      "998 Epoch: 0497 cost =  0.000000000 val =  0.997996\n",
      "998 Epoch: 0498 cost =  0.000000000 val =  0.997996\n",
      "998 Epoch: 0499 cost =  0.000000000 val =  0.997996\n",
      "998 Epoch: 0500 cost =  0.000000000 val =  0.997996\n"
     ]
    },
    {
     "data": {
      "text/plain": [
       "'../../model/CNN/cnn_model'"
      ]
     },
     "execution_count": 23,
     "metadata": {},
     "output_type": "execute_result"
    }
   ],
   "source": [
    "###########################\n",
    "batch_size = 32\n",
    "cost_history = np.empty(shape=[1], dtype=float)\n",
    "with tf.device(\"/gpu:0\"):\n",
    "    for epoch in range(training_epochs):#training epoch 500 / batch_size 128 --> acc 90%\n",
    "        avg_cost = 0\n",
    "        val_avg_cost =0\n",
    "        total_batch = int(y_train.shape[0] / batch_size)\n",
    "        for i in range(0, y_train.shape[0], batch_size):\n",
    "            feed_dict={X:X_train2[i:i+batch_size,:,:,:], Y:y_train[i:i+batch_size,:]}\n",
    "            c, _ = sess.run([cost, optimizer], feed_dict=feed_dict)\n",
    "            cost_history = np.append(cost_history,cost)\n",
    "            avg_cost += c/total_batch \n",
    "\n",
    "        y_pred = sess.run(logits, feed_dict={X:X_val2})\n",
    "        y_pred = sess.run(tf.argmax(y_pred,1))\n",
    "        y_true = y_val\n",
    "\n",
    "        y_true = sess.run(tf.argmax(y_true,1))\n",
    "        print(len(y_pred),end=' ')\n",
    "        print('Epoch:', '%04d' % (epoch+1), 'cost = ', '{:.9f}'.format(avg_cost), 'val = ','%f' %(accuracy_score(y_true, y_pred)) )\n",
    "saver.save(sess, model_path)"
   ]
  },
  {
   "cell_type": "markdown",
   "metadata": {},
   "source": [
    "## Prediction"
   ]
  },
  {
   "cell_type": "code",
   "execution_count": 24,
   "metadata": {},
   "outputs": [],
   "source": [
    "y_pred = sess.run(tf.argmax(logits,1),feed_dict={X: X_test2})\n",
    "y_true = sess.run(tf.argmax(y_test,1))"
   ]
  },
  {
   "cell_type": "code",
   "execution_count": 25,
   "metadata": {},
   "outputs": [
    {
     "name": "stdout",
     "output_type": "stream",
     "text": [
      "F-Score: 0.997\n",
      "Accuracy:  0.9967923015236567\n",
      "              precision    recall  f1-score   support\n",
      "\n",
      "           0       1.00      1.00      1.00      1117\n",
      "           1       0.97      1.00      0.98       130\n",
      "\n",
      "   micro avg       1.00      1.00      1.00      1247\n",
      "   macro avg       0.99      1.00      0.99      1247\n",
      "weighted avg       1.00      1.00      1.00      1247\n",
      "\n",
      "[[1113    4]\n",
      " [   0  130]]\n"
     ]
    }
   ],
   "source": [
    "# Print Result\n",
    "\n",
    "from sklearn.metrics import precision_recall_fscore_support\n",
    "p,r,f,s = precision_recall_fscore_support(y_true, y_pred, average='micro')\n",
    "print(\"F-Score:\", round(f,3))\n",
    "from sklearn.metrics import accuracy_score\n",
    "print(\"Accuracy: \", accuracy_score(y_true, y_pred))\n",
    "\n",
    "from sklearn.metrics import classification_report\n",
    "print(classification_report(y_true, y_pred))\n",
    "from sklearn.metrics import confusion_matrix\n",
    "print(confusion_matrix(y_true, y_pred))"
   ]
  },
  {
   "cell_type": "code",
   "execution_count": null,
   "metadata": {},
   "outputs": [],
   "source": []
  }
 ],
 "metadata": {
  "kernelspec": {
   "display_name": "Python 3",
   "language": "python",
   "name": "python3"
  },
  "language_info": {
   "codemirror_mode": {
    "name": "ipython",
    "version": 3
   },
   "file_extension": ".py",
   "mimetype": "text/x-python",
   "name": "python",
   "nbconvert_exporter": "python",
   "pygments_lexer": "ipython3",
   "version": "3.6.7"
  }
 },
 "nbformat": 4,
 "nbformat_minor": 2
}
