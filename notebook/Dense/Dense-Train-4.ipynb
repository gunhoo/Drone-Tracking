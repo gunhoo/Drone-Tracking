{
 "cells": [
  {
   "cell_type": "code",
   "execution_count": 28,
   "metadata": {},
   "outputs": [],
   "source": [
    "import matplotlib.pyplot as plt\n",
    "%matplotlib inline\n",
    "import IPython.display\n",
    "import librosa.display\n",
    "import numpy as np\n",
    "import librosa\n",
    "import tensorflow as tf\n",
    "import glob"
   ]
  },
  {
   "cell_type": "markdown",
   "metadata": {},
   "source": [
    "### If you have been save the data, you don't have to preprocessing and save the data"
   ]
  },
  {
   "cell_type": "code",
   "execution_count": 29,
   "metadata": {},
   "outputs": [],
   "source": [
    "c_drone_path = '../../../inner10m/*.wav'\n",
    "m_drone_path = '../../../20m/*.wav'\n",
    "f_drone_path = '../../../50m/*.wav'\n",
    "background_path = '../../data/background/*.wav'\n",
    "\n",
    "c_drone_files = glob.glob(c_drone_path)\n",
    "m_drone_files = glob.glob(m_drone_path)\n",
    "f_drone_files = glob.glob(f_drone_path)\n",
    "background_files = glob.glob(background_path)"
   ]
  },
  {
   "cell_type": "code",
   "execution_count": 30,
   "metadata": {},
   "outputs": [],
   "source": [
    "CHUNK_SIZE = 8192\n",
    "SR = 22050\n",
    "N_MFCC = 16"
   ]
  },
  {
   "cell_type": "code",
   "execution_count": 31,
   "metadata": {},
   "outputs": [],
   "source": [
    "def load(files, sr=22050):\n",
    "    [raw, sr] = librosa.load(files[0], sr=sr)\n",
    "    for f in files[1:]:\n",
    "        [array, sr] = librosa.load(f, sr=sr)\n",
    "        raw = np.hstack((raw, array))\n",
    "    print(raw.shape)\n",
    "    return raw"
   ]
  },
  {
   "cell_type": "code",
   "execution_count": 32,
   "metadata": {},
   "outputs": [
    {
     "name": "stdout",
     "output_type": "stream",
     "text": [
      "(4464640,)\n",
      "(2232320,)\n",
      "(2232320,)\n",
      "(23317637,)\n"
     ]
    }
   ],
   "source": [
    "c_drone_raw = load(c_drone_files)\n",
    "m_drone_raw = load(m_drone_files)\n",
    "f_drone_raw = load(f_drone_files)\n",
    "background_raw = load(background_files)"
   ]
  },
  {
   "cell_type": "markdown",
   "metadata": {},
   "source": [
    "# Data preprocessing"
   ]
  },
  {
   "cell_type": "markdown",
   "metadata": {},
   "source": [
    "Chose `mfcc4` among functions below:\n",
    "- input size 16x16; `n_mfcc=16`, used first 16 data points from 16x17 mfcc of a chunk with size 8192\n",
    "- chunk siez 8192, overlapped half of it"
   ]
  },
  {
   "cell_type": "code",
   "execution_count": 33,
   "metadata": {},
   "outputs": [],
   "source": [
    "def mfcc4(raw, label, chunk_size=8192, window_size=4096, sr=22050, n_mfcc=16, n_frame=16):\n",
    "    mfcc = np.empty((0, n_mfcc, n_frame))\n",
    "    y = []\n",
    "    print(raw.shape)\n",
    "    for i in range(0, len(raw), chunk_size//2):\n",
    "        mfcc_slice = librosa.feature.mfcc(raw[i:i+chunk_size], sr=sr, n_mfcc=n_mfcc) #n_mfcc,17\n",
    "        if mfcc_slice.shape[1] < 17:\n",
    "            print(\"small end:\", mfcc_slice.shape)\n",
    "            continue\n",
    "        mfcc_slice = mfcc_slice[:,:-1]\n",
    "        mfcc_slice = mfcc_slice.reshape((1, mfcc_slice.shape[0], mfcc_slice.shape[1]))\n",
    "        mfcc = np.vstack((mfcc, mfcc_slice))\n",
    "        y.append(label)\n",
    "    y = np.array(y)\n",
    "    return mfcc, y"
   ]
  },
  {
   "cell_type": "code",
   "execution_count": 34,
   "metadata": {},
   "outputs": [
    {
     "name": "stdout",
     "output_type": "stream",
     "text": [
      "(4464640,)\n",
      "small end: (16, 9)\n",
      "(2232320,)\n",
      "small end: (16, 9)\n",
      "(2232320,)\n",
      "small end: (16, 9)\n",
      "(23317637,)\n",
      "small end: (16, 15)\n",
      "small end: (16, 7)\n",
      "(1089, 16, 16) (1089,)\n",
      "(544, 16, 16) (544,)\n",
      "(544, 16, 16) (544,)\n",
      "(5691, 16, 16) (5691,)\n"
     ]
    }
   ],
   "source": [
    "c_mfcc_drone, c_y_drone = mfcc4(c_drone_raw, 3)\n",
    "m_mfcc_drone, m_y_drone = mfcc4(m_drone_raw, 2)\n",
    "f_mfcc_drone, f_y_drone = mfcc4(f_drone_raw, 1)\n",
    "mfcc_background, y_background = mfcc4(background_raw, 0)\n",
    "\n",
    "print(c_mfcc_drone.shape, c_y_drone.shape)\n",
    "print(m_mfcc_drone.shape, m_y_drone.shape)\n",
    "print(f_mfcc_drone.shape, f_y_drone.shape)\n",
    "print(mfcc_background.shape, y_background.shape)"
   ]
  },
  {
   "cell_type": "code",
   "execution_count": 35,
   "metadata": {},
   "outputs": [
    {
     "name": "stdout",
     "output_type": "stream",
     "text": [
      "(7868, 16, 16) (7868,)\n"
     ]
    }
   ],
   "source": [
    "X = np.concatenate((c_mfcc_drone,m_mfcc_drone,f_mfcc_drone, mfcc_background), axis=0)\n",
    "y = np.hstack((c_y_drone, m_y_drone, f_y_drone, y_background))\n",
    "print(X.shape, y.shape)"
   ]
  },
  {
   "cell_type": "code",
   "execution_count": 36,
   "metadata": {},
   "outputs": [],
   "source": [
    "X = np.reshape(X,(X.shape[0],-1))"
   ]
  },
  {
   "cell_type": "code",
   "execution_count": 37,
   "metadata": {},
   "outputs": [
    {
     "data": {
      "text/plain": [
       "(7868, 256)"
      ]
     },
     "execution_count": 37,
     "metadata": {},
     "output_type": "execute_result"
    }
   ],
   "source": [
    "X.shape"
   ]
  },
  {
   "cell_type": "code",
   "execution_count": 38,
   "metadata": {},
   "outputs": [
    {
     "name": "stdout",
     "output_type": "stream",
     "text": [
      "(7868, 4)\n"
     ]
    }
   ],
   "source": [
    "n_labels = y.shape[0]\n",
    "n_unique_labels = 4\n",
    "y_encoded = np.zeros((n_labels, n_unique_labels))\n",
    "y_encoded[np.arange(n_labels), y] = 1\n",
    "print(y_encoded.shape)"
   ]
  },
  {
   "cell_type": "code",
   "execution_count": 39,
   "metadata": {},
   "outputs": [],
   "source": [
    "# Split data\n",
    "from sklearn import model_selection\n",
    "X_train, X_test, y_train, y_test = model_selection.train_test_split(X, y_encoded, test_size=0.2, random_state=42)\n",
    "X_train, X_val, y_train, y_val = model_selection.train_test_split(X_train, y_train, test_size=0.2, random_state=42)"
   ]
  },
  {
   "cell_type": "code",
   "execution_count": 40,
   "metadata": {},
   "outputs": [
    {
     "name": "stdout",
     "output_type": "stream",
     "text": [
      "(5035, 256) (5035, 4)\n",
      "(1259, 256) (1259, 4)\n",
      "(1574, 256) (1574, 4)\n"
     ]
    }
   ],
   "source": [
    "print(X_train.shape,y_train.shape)\n",
    "print(X_val.shape, y_val.shape)\n",
    "print(X_test.shape, y_test.shape)"
   ]
  },
  {
   "cell_type": "code",
   "execution_count": 41,
   "metadata": {},
   "outputs": [],
   "source": [
    "# Save Data\n",
    "np.save('../../model/X_train', X_train)\n",
    "np.save('../../model/X_test', X_test)\n",
    "np.save('../../model/X_val', X_val)\n",
    "np.save('../../model/y_val', y_val)\n",
    "np.save('../../model/y_train', y_train)\n",
    "np.save('../../model/y_test', y_test)"
   ]
  },
  {
   "cell_type": "markdown",
   "metadata": {},
   "source": [
    "### Until this part"
   ]
  },
  {
   "cell_type": "code",
   "execution_count": 42,
   "metadata": {},
   "outputs": [],
   "source": [
    "# Load Data\n",
    "X_train = np.load('../../model/X_train.npy')\n",
    "X_test = np.load('../../model/X_test.npy')\n",
    "X_val = np.load('../../model/X_val.npy')\n",
    "y_val = np.load('../../model/y_val.npy')\n",
    "y_train = np.load('../../model/y_train.npy')\n",
    "y_test = np.load('../../model/y_test.npy')"
   ]
  },
  {
   "cell_type": "markdown",
   "metadata": {},
   "source": [
    "# Experiment 3 - One convolutional layer /w no dropout\n"
   ]
  },
  {
   "cell_type": "markdown",
   "metadata": {},
   "source": [
    "##Experiment 3-2\n",
    "- learning rate 0.005\n",
    "- pooling stride 1x1\n",
    "- #filter 1\n",
    "- best result among every other settings\n",
    "- cost kept fluctuated during training. (0.8 -> 1.3) -- why is that?"
   ]
  },
  {
   "cell_type": "code",
   "execution_count": 43,
   "metadata": {},
   "outputs": [],
   "source": [
    "tf.reset_default_graph()"
   ]
  },
  {
   "cell_type": "code",
   "execution_count": 44,
   "metadata": {},
   "outputs": [],
   "source": [
    "n_mfcc = 16\n",
    "n_frame = 16\n",
    "n_classes = 4\n",
    "n_channels = 1\n",
    "\n",
    "kernel_size = 3\n",
    "stride = 1\n",
    "pad = \"SAME\"\n",
    "\n",
    "learning_rate = 0.0002  # 0.005\n",
    "training_epochs = 500 # 수정해야해"
   ]
  },
  {
   "cell_type": "markdown",
   "metadata": {},
   "source": [
    "# Layer"
   ]
  },
  {
   "cell_type": "markdown",
   "metadata": {},
   "source": [
    "## Experiment\n",
    "- learning rate 0.0002\n",
    "- no cnn/ pooling \n",
    "- just dense with dropout "
   ]
  },
  {
   "cell_type": "code",
   "execution_count": 45,
   "metadata": {},
   "outputs": [],
   "source": [
    "X = tf.placeholder(tf.float32, shape=[None,n_mfcc*n_frame*n_channels])\n",
    "Y = tf.placeholder(tf.float32, shape=[None,n_classes])\n",
    "\n",
    "keep_prob = tf.placeholder(tf.float32)\n",
    "\n",
    "dense1 = tf.layers.dense(inputs=X, units=256, activation=tf.nn.relu)\n",
    "dropout1 = tf.nn.dropout(dense1, keep_prob=keep_prob)\n",
    "dense2 = tf.layers.dense(inputs=dropout1, units=256, activation=tf.nn.relu)\n",
    "dropout2 = tf.nn.dropout(dense2, keep_prob=keep_prob)\n",
    "dense3 = tf.layers.dense(inputs=dropout2, units=512, activation=tf.nn.relu)\n",
    "dropout3 = tf.nn.dropout(dense3, keep_prob=keep_prob)\n",
    "dense4 = tf.layers.dense(inputs=dropout3, units=512, activation=tf.nn.relu)\n",
    "dropout4 = tf.nn.dropout(dense4, keep_prob=keep_prob)\n",
    "dense5 = tf.layers.dense(inputs=dropout4, units=256, activation=tf.nn.relu)\n",
    "dropout5 = tf.nn.dropout(dense5, keep_prob=keep_prob)\n",
    "\n",
    "logits= tf.layers.dense(inputs=dropout5, units=4)"
   ]
  },
  {
   "cell_type": "code",
   "execution_count": 46,
   "metadata": {},
   "outputs": [],
   "source": [
    "cost = tf.reduce_mean(tf.nn.softmax_cross_entropy_with_logits_v2(logits=logits, labels=Y))\n",
    "optimizer = tf.train.AdamOptimizer(learning_rate=learning_rate).minimize(cost)"
   ]
  },
  {
   "cell_type": "code",
   "execution_count": 47,
   "metadata": {},
   "outputs": [],
   "source": [
    "sess = tf.Session()\n",
    "sess.run(tf.global_variables_initializer())"
   ]
  },
  {
   "cell_type": "code",
   "execution_count": 48,
   "metadata": {},
   "outputs": [],
   "source": [
    "# model save\n",
    "model_path = '../../model/Dense/4_dense_model'\n",
    "saver = tf.train.Saver()"
   ]
  },
  {
   "cell_type": "markdown",
   "metadata": {},
   "source": [
    "# Trainning"
   ]
  },
  {
   "cell_type": "code",
   "execution_count": 49,
   "metadata": {},
   "outputs": [],
   "source": [
    "import math"
   ]
  },
  {
   "cell_type": "code",
   "execution_count": 50,
   "metadata": {
    "scrolled": false
   },
   "outputs": [],
   "source": [
    "with tf.name_scope(\"eval\"):\n",
    "    correct = tf.nn.in_top_k(logits, y, 1)\n",
    "    accuracy = tf.reduce_mean(tf.cast(correct, tf.float32))\n",
    "#    accuracy_summary = tf.summary.scalar('accuracy', accuracy)"
   ]
  },
  {
   "cell_type": "code",
   "execution_count": 51,
   "metadata": {},
   "outputs": [],
   "source": [
    "from sklearn.metrics import accuracy_score"
   ]
  },
  {
   "cell_type": "code",
   "execution_count": 52,
   "metadata": {
    "scrolled": true
   },
   "outputs": [
    {
     "name": "stdout",
     "output_type": "stream",
     "text": [
      "Epoch: 0001 cost =  0.568325076 \t검증 세트 정확도: 74.980%\n",
      "Epoch: 0002 cost =  0.126795881 \t검증 세트 정확도: 86.338%\n",
      "Epoch: 0003 cost =  0.055149315 \t검증 세트 정확도: 88.721%\n",
      "Epoch: 0004 cost =  0.030349298 \t검증 세트 정확도: 88.403%\n",
      "Epoch: 0005 cost =  0.019557779 \t검증 세트 정확도: 87.847%\n",
      "Epoch: 0006 cost =  0.015281213 \t검증 세트 정확도: 87.609%\n",
      "Epoch: 0007 cost =  0.012206794 \t검증 세트 정확도: 88.165%\n",
      "Epoch: 0008 cost =  0.011107541 \t검증 세트 정확도: 88.403%\n",
      "Epoch: 0009 cost =  0.010358262 \t검증 세트 정확도: 89.436%\n",
      "Epoch: 0010 cost =  0.009568640 \t검증 세트 정확도: 91.501%\n",
      "Epoch: 0011 cost =  0.008970821 \t검증 세트 정확도: 91.978%\n",
      "Epoch: 0012 cost =  0.008499536 \t검증 세트 정확도: 92.375%\n",
      "Epoch: 0013 cost =  0.008144352 \t검증 세트 정확도: 93.169%\n",
      "Epoch: 0014 cost =  0.007734430 \t검증 세트 정확도: 92.931%\n",
      "Epoch: 0015 cost =  0.006994892 \t검증 세트 정확도: 93.566%\n",
      "Epoch: 0016 cost =  0.006793532 \t검증 세트 정확도: 93.487%\n",
      "Epoch: 0017 cost =  0.006547074 \t검증 세트 정확도: 93.646%\n",
      "Epoch: 0018 cost =  0.006354897 \t검증 세트 정확도: 93.090%\n",
      "Epoch: 0019 cost =  0.005947808 \t검증 세트 정확도: 93.646%\n",
      "Epoch: 0020 cost =  0.005852492 \t검증 세트 정확도: 93.725%\n",
      "Epoch: 0021 cost =  0.005746549 \t검증 세트 정확도: 93.487%\n",
      "Epoch: 0022 cost =  0.005646342 \t검증 세트 정확도: 93.725%\n",
      "Epoch: 0023 cost =  0.005465509 \t검증 세트 정확도: 93.884%\n",
      "Epoch: 0024 cost =  0.005384641 \t검증 세트 정확도: 93.725%\n",
      "Epoch: 0025 cost =  0.005504828 \t검증 세트 정확도: 94.122%\n",
      "Epoch: 0026 cost =  0.005655900 \t검증 세트 정확도: 94.202%\n",
      "Epoch: 0027 cost =  0.005658654 \t검증 세트 정확도: 94.122%\n",
      "Epoch: 0028 cost =  0.005589126 \t검증 세트 정확도: 93.963%\n",
      "Epoch: 0029 cost =  0.004955187 \t검증 세트 정확도: 93.884%\n",
      "Epoch: 0030 cost =  0.004942334 \t검증 세트 정확도: 93.963%\n",
      "Epoch: 0031 cost =  0.005107126 \t검증 세트 정확도: 93.646%\n",
      "Epoch: 0032 cost =  0.005454630 \t검증 세트 정확도: 93.884%\n",
      "Epoch: 0033 cost =  0.005244027 \t검증 세트 정확도: 94.678%\n",
      "Epoch: 0034 cost =  0.005002719 \t검증 세트 정확도: 93.963%\n",
      "Epoch: 0035 cost =  0.004850700 \t검증 세트 정확도: 95.393%\n",
      "Epoch: 0036 cost =  0.004823101 \t검증 세트 정확도: 94.122%\n",
      "Epoch: 0037 cost =  0.004804603 \t검증 세트 정확도: 94.361%\n",
      "Epoch: 0038 cost =  0.004605484 \t검증 세트 정확도: 94.281%\n",
      "Epoch: 0039 cost =  0.004935729 \t검증 세트 정확도: 94.678%\n",
      "Epoch: 0040 cost =  0.004514164 \t검증 세트 정확도: 94.519%\n",
      "Epoch: 0041 cost =  0.004401630 \t검증 세트 정확도: 93.963%\n",
      "Epoch: 0042 cost =  0.004685689 \t검증 세트 정확도: 92.931%\n",
      "Epoch: 0043 cost =  0.004713373 \t검증 세트 정확도: 94.202%\n",
      "Epoch: 0044 cost =  0.004647708 \t검증 세트 정확도: 94.122%\n",
      "Epoch: 0045 cost =  0.004710301 \t검증 세트 정확도: 94.122%\n",
      "Epoch: 0046 cost =  0.004368962 \t검증 세트 정확도: 95.870%\n",
      "Epoch: 0047 cost =  0.004524796 \t검증 세트 정확도: 95.473%\n",
      "Epoch: 0048 cost =  0.004222826 \t검증 세트 정확도: 94.678%\n",
      "Epoch: 0049 cost =  0.004526661 \t검증 세트 정확도: 95.870%\n",
      "Epoch: 0050 cost =  0.004367151 \t검증 세트 정확도: 95.552%\n",
      "Epoch: 0051 cost =  0.004376466 \t검증 세트 정확도: 95.949%\n",
      "Epoch: 0052 cost =  0.004578746 \t검증 세트 정확도: 96.346%\n",
      "Epoch: 0053 cost =  0.004081177 \t검증 세트 정확도: 96.029%\n",
      "Epoch: 0054 cost =  0.003783327 \t검증 세트 정확도: 95.711%\n",
      "Epoch: 0055 cost =  0.004292009 \t검증 세트 정확도: 95.234%\n",
      "Epoch: 0056 cost =  0.004139366 \t검증 세트 정확도: 95.552%\n",
      "Epoch: 0057 cost =  0.004124335 \t검증 세트 정확도: 96.267%\n",
      "Epoch: 0058 cost =  0.003922786 \t검증 세트 정확도: 95.234%\n",
      "Epoch: 0059 cost =  0.004017910 \t검증 세트 정확도: 96.982%\n",
      "Epoch: 0060 cost =  0.004077845 \t검증 세트 정확도: 96.902%\n",
      "Epoch: 0061 cost =  0.003684201 \t검증 세트 정확도: 96.426%\n",
      "Epoch: 0062 cost =  0.003712959 \t검증 세트 정확도: 96.902%\n",
      "Epoch: 0063 cost =  0.003976911 \t검증 세트 정확도: 96.346%\n",
      "Epoch: 0064 cost =  0.003739669 \t검증 세트 정확도: 96.187%\n",
      "Epoch: 0065 cost =  0.003546817 \t검증 세트 정확도: 96.108%\n",
      "Epoch: 0066 cost =  0.003747202 \t검증 세트 정확도: 92.851%\n",
      "Epoch: 0067 cost =  0.003626351 \t검증 세트 정확도: 97.379%\n",
      "Epoch: 0068 cost =  0.003374759 \t검증 세트 정확도: 97.061%\n",
      "Epoch: 0069 cost =  0.003408530 \t검증 세트 정확도: 96.346%\n",
      "Epoch: 0070 cost =  0.003768320 \t검증 세트 정확도: 96.743%\n",
      "Epoch: 0071 cost =  0.003285541 \t검증 세트 정확도: 95.631%\n",
      "Epoch: 0072 cost =  0.003792629 \t검증 세트 정확도: 97.141%\n",
      "Epoch: 0073 cost =  0.003472866 \t검증 세트 정확도: 97.299%\n",
      "Epoch: 0074 cost =  0.003160732 \t검증 세트 정확도: 96.426%\n",
      "Epoch: 0075 cost =  0.003252038 \t검증 세트 정확도: 97.697%\n",
      "Epoch: 0076 cost =  0.003336217 \t검증 세트 정확도: 97.776%\n",
      "Epoch: 0077 cost =  0.003311992 \t검증 세트 정확도: 97.141%\n",
      "Epoch: 0078 cost =  0.003323256 \t검증 세트 정확도: 96.823%\n",
      "Epoch: 0079 cost =  0.003346793 \t검증 세트 정확도: 97.299%\n",
      "Epoch: 0080 cost =  0.003340243 \t검증 세트 정확도: 97.379%\n",
      "Epoch: 0081 cost =  0.003074741 \t검증 세트 정확도: 97.299%\n",
      "Epoch: 0082 cost =  0.003683321 \t검증 세트 정확도: 95.552%\n",
      "Epoch: 0083 cost =  0.003101353 \t검증 세트 정확도: 96.585%\n",
      "Epoch: 0084 cost =  0.003098824 \t검증 세트 정확도: 96.902%\n",
      "Epoch: 0085 cost =  0.003096736 \t검증 세트 정확도: 96.187%\n",
      "Epoch: 0086 cost =  0.003190422 \t검증 세트 정확도: 96.902%\n",
      "Epoch: 0087 cost =  0.003230976 \t검증 세트 정확도: 97.617%\n",
      "Epoch: 0088 cost =  0.002817007 \t검증 세트 정확도: 96.346%\n",
      "Epoch: 0089 cost =  0.003008839 \t검증 세트 정확도: 97.379%\n",
      "Epoch: 0090 cost =  0.003166577 \t검증 세트 정확도: 97.538%\n",
      "Epoch: 0091 cost =  0.002907886 \t검증 세트 정확도: 96.823%\n",
      "Epoch: 0092 cost =  0.003294483 \t검증 세트 정확도: 96.902%\n",
      "Epoch: 0093 cost =  0.003163662 \t검증 세트 정확도: 96.108%\n",
      "Epoch: 0094 cost =  0.002946037 \t검증 세트 정확도: 97.458%\n",
      "Epoch: 0095 cost =  0.003058633 \t검증 세트 정확도: 96.743%\n",
      "Epoch: 0096 cost =  0.003098223 \t검증 세트 정확도: 96.902%\n",
      "Epoch: 0097 cost =  0.002968989 \t검증 세트 정확도: 96.743%\n",
      "Epoch: 0098 cost =  0.002807985 \t검증 세트 정확도: 97.458%\n",
      "Epoch: 0099 cost =  0.002692529 \t검증 세트 정확도: 97.299%\n",
      "Epoch: 0100 cost =  0.002617307 \t검증 세트 정확도: 97.379%\n",
      "Epoch: 0101 cost =  0.002506451 \t검증 세트 정확도: 97.299%\n",
      "Epoch: 0102 cost =  0.002361444 \t검증 세트 정확도: 97.776%\n",
      "Epoch: 0103 cost =  0.003266310 \t검증 세트 정확도: 97.697%\n",
      "Epoch: 0104 cost =  0.002826155 \t검증 세트 정확도: 96.505%\n",
      "Epoch: 0105 cost =  0.002454408 \t검증 세트 정확도: 97.538%\n",
      "Epoch: 0106 cost =  0.002424803 \t검증 세트 정확도: 97.061%\n",
      "Epoch: 0107 cost =  0.002364812 \t검증 세트 정확도: 96.982%\n",
      "Epoch: 0108 cost =  0.002713860 \t검증 세트 정확도: 97.220%\n",
      "Epoch: 0109 cost =  0.002473653 \t검증 세트 정확도: 96.902%\n",
      "Epoch: 0110 cost =  0.002720370 \t검증 세트 정확도: 97.299%\n",
      "Epoch: 0111 cost =  0.002650872 \t검증 세트 정확도: 96.823%\n",
      "Epoch: 0112 cost =  0.002724176 \t검증 세트 정확도: 97.538%\n",
      "Epoch: 0113 cost =  0.002379623 \t검증 세트 정확도: 96.982%\n",
      "Epoch: 0114 cost =  0.002483732 \t검증 세트 정확도: 97.538%\n",
      "Epoch: 0115 cost =  0.002985944 \t검증 세트 정확도: 97.061%\n",
      "Epoch: 0116 cost =  0.002599930 \t검증 세트 정확도: 97.299%\n",
      "Epoch: 0117 cost =  0.002388770 \t검증 세트 정확도: 97.538%\n",
      "Epoch: 0118 cost =  0.002574810 \t검증 세트 정확도: 96.505%\n",
      "Epoch: 0119 cost =  0.002621416 \t검증 세트 정확도: 97.458%\n",
      "Epoch: 0120 cost =  0.002601696 \t검증 세트 정확도: 97.141%\n",
      "Epoch: 0121 cost =  0.002769258 \t검증 세트 정확도: 97.061%\n",
      "Epoch: 0122 cost =  0.002430227 \t검증 세트 정확도: 97.458%\n",
      "Epoch: 0123 cost =  0.002207316 \t검증 세트 정확도: 96.902%\n",
      "Epoch: 0124 cost =  0.002229508 \t검증 세트 정확도: 97.220%\n",
      "Epoch: 0125 cost =  0.002283461 \t검증 세트 정확도: 97.220%\n",
      "Epoch: 0126 cost =  0.002519552 \t검증 세트 정확도: 97.538%\n",
      "Epoch: 0127 cost =  0.002450974 \t검증 세트 정확도: 97.617%\n",
      "Epoch: 0128 cost =  0.002291580 \t검증 세트 정확도: 97.061%\n",
      "Epoch: 0129 cost =  0.002516815 \t검증 세트 정확도: 97.379%\n",
      "Epoch: 0130 cost =  0.002337252 \t검증 세트 정확도: 97.538%\n",
      "Epoch: 0131 cost =  0.002424351 \t검증 세트 정확도: 97.617%\n",
      "Epoch: 0132 cost =  0.002437910 \t검증 세트 정확도: 97.458%\n",
      "Epoch: 0133 cost =  0.002613584 \t검증 세트 정확도: 97.299%\n",
      "Epoch: 0134 cost =  0.002319649 \t검증 세트 정확도: 97.299%\n",
      "Epoch: 0135 cost =  0.002591447 \t검증 세트 정확도: 97.379%\n",
      "Epoch: 0136 cost =  0.002351893 \t검증 세트 정확도: 97.299%\n",
      "Epoch: 0137 cost =  0.002311262 \t검증 세트 정확도: 96.902%\n",
      "Epoch: 0138 cost =  0.002222711 \t검증 세트 정확도: 97.458%\n",
      "Epoch: 0139 cost =  0.002050184 \t검증 세트 정확도: 97.379%\n",
      "Epoch: 0140 cost =  0.002637690 \t검증 세트 정확도: 97.220%\n",
      "Epoch: 0141 cost =  0.002155240 \t검증 세트 정확도: 97.776%\n",
      "Epoch: 0142 cost =  0.001996741 \t검증 세트 정확도: 97.379%\n",
      "Epoch: 0143 cost =  0.002336535 \t검증 세트 정확도: 96.902%\n",
      "Epoch: 0144 cost =  0.002312152 \t검증 세트 정확도: 96.902%\n",
      "Epoch: 0145 cost =  0.002309307 \t검증 세트 정확도: 96.346%\n",
      "Epoch: 0146 cost =  0.002228806 \t검증 세트 정확도: 97.220%\n",
      "Epoch: 0147 cost =  0.002504717 \t검증 세트 정확도: 96.743%\n",
      "Epoch: 0148 cost =  0.002572775 \t검증 세트 정확도: 97.061%\n",
      "Epoch: 0149 cost =  0.002705204 \t검증 세트 정확도: 96.823%\n",
      "Epoch: 0150 cost =  0.002161272 \t검증 세트 정확도: 97.617%\n",
      "Epoch: 0151 cost =  0.002039873 \t검증 세트 정확도: 97.220%\n",
      "Epoch: 0152 cost =  0.001905796 \t검증 세트 정확도: 97.617%\n",
      "Epoch: 0153 cost =  0.002194754 \t검증 세트 정확도: 97.458%\n",
      "Epoch: 0154 cost =  0.002166238 \t검증 세트 정확도: 97.141%\n",
      "Epoch: 0155 cost =  0.002394516 \t검증 세트 정확도: 97.379%\n",
      "Epoch: 0156 cost =  0.002428007 \t검증 세트 정확도: 97.299%\n",
      "Epoch: 0157 cost =  0.001891369 \t검증 세트 정확도: 97.220%\n",
      "Epoch: 0158 cost =  0.002142465 \t검증 세트 정확도: 97.855%\n"
     ]
    },
    {
     "name": "stdout",
     "output_type": "stream",
     "text": [
      "Epoch: 0159 cost =  0.002020456 \t검증 세트 정확도: 97.299%\n",
      "Epoch: 0160 cost =  0.002184399 \t검증 세트 정확도: 97.299%\n",
      "Epoch: 0161 cost =  0.002666493 \t검증 세트 정확도: 97.061%\n",
      "Epoch: 0162 cost =  0.002160926 \t검증 세트 정확도: 97.299%\n",
      "Epoch: 0163 cost =  0.002048517 \t검증 세트 정확도: 97.061%\n",
      "Epoch: 0164 cost =  0.001936343 \t검증 세트 정확도: 97.141%\n",
      "Epoch: 0165 cost =  0.002089948 \t검증 세트 정확도: 97.538%\n",
      "Epoch: 0166 cost =  0.002007322 \t검증 세트 정확도: 96.664%\n",
      "Epoch: 0167 cost =  0.002132614 \t검증 세트 정확도: 97.617%\n",
      "Epoch: 0168 cost =  0.002080644 \t검증 세트 정확도: 97.538%\n",
      "Epoch: 0169 cost =  0.002075672 \t검증 세트 정확도: 97.538%\n",
      "Epoch: 0170 cost =  0.002109819 \t검증 세트 정확도: 97.458%\n",
      "Epoch: 0171 cost =  0.001920540 \t검증 세트 정확도: 97.697%\n",
      "Epoch: 0172 cost =  0.002168776 \t검증 세트 정확도: 97.458%\n",
      "Epoch: 0173 cost =  0.001953429 \t검증 세트 정확도: 97.458%\n",
      "Epoch: 0174 cost =  0.001919518 \t검증 세트 정확도: 97.141%\n",
      "Epoch: 0175 cost =  0.001995550 \t검증 세트 정확도: 97.697%\n",
      "Epoch: 0176 cost =  0.002364828 \t검증 세트 정확도: 97.220%\n",
      "Epoch: 0177 cost =  0.001981400 \t검증 세트 정확도: 97.379%\n",
      "Epoch: 0178 cost =  0.002297363 \t검증 세트 정확도: 97.538%\n",
      "Epoch: 0179 cost =  0.002048165 \t검증 세트 정확도: 97.061%\n",
      "Epoch: 0180 cost =  0.001906361 \t검증 세트 정확도: 97.697%\n",
      "Epoch: 0181 cost =  0.002198272 \t검증 세트 정확도: 97.538%\n",
      "Epoch: 0182 cost =  0.001880591 \t검증 세트 정확도: 97.458%\n",
      "Epoch: 0183 cost =  0.002048313 \t검증 세트 정확도: 97.617%\n",
      "Epoch: 0184 cost =  0.002453649 \t검증 세트 정확도: 97.220%\n",
      "Epoch: 0185 cost =  0.001806516 \t검증 세트 정확도: 97.617%\n",
      "Epoch: 0186 cost =  0.001943139 \t검증 세트 정확도: 97.617%\n",
      "Epoch: 0187 cost =  0.002278585 \t검증 세트 정확도: 97.855%\n",
      "Epoch: 0188 cost =  0.002189311 \t검증 세트 정확도: 97.458%\n",
      "Epoch: 0189 cost =  0.001801391 \t검증 세트 정확도: 96.982%\n",
      "Epoch: 0190 cost =  0.002050613 \t검증 세트 정확도: 97.617%\n",
      "Epoch: 0191 cost =  0.001940077 \t검증 세트 정확도: 97.617%\n",
      "Epoch: 0192 cost =  0.002167845 \t검증 세트 정확도: 97.141%\n",
      "Epoch: 0193 cost =  0.002016294 \t검증 세트 정확도: 97.538%\n",
      "Epoch: 0194 cost =  0.001950013 \t검증 세트 정확도: 97.697%\n",
      "Epoch: 0195 cost =  0.002194874 \t검증 세트 정확도: 96.982%\n",
      "Epoch: 0196 cost =  0.001745036 \t검증 세트 정확도: 97.061%\n",
      "Epoch: 0197 cost =  0.001809214 \t검증 세트 정확도: 97.538%\n",
      "Epoch: 0198 cost =  0.001898859 \t검증 세트 정확도: 97.220%\n",
      "Epoch: 0199 cost =  0.002210825 \t검증 세트 정확도: 97.458%\n"
     ]
    },
    {
     "data": {
      "text/plain": [
       "'../../model/Dense/4_dense_model'"
      ]
     },
     "execution_count": 52,
     "metadata": {},
     "output_type": "execute_result"
    }
   ],
   "source": [
    "#original \n",
    "batch_size = 32\n",
    "cost_history = np.empty(shape=[1], dtype=float)\n",
    "with tf.device(\"/gpu:0\"):\n",
    "    for epoch in range(1,200):\n",
    "        avg_cost = 0    \n",
    "#    total_batch = int(X_train.shape[0] / batch_size)\n",
    "        for i in range( int(math.ceil(len(X_train)/batch_size)) ): # 배치 사이즈로 나눈 나머지 다 돌 수 있게 \n",
    "            x_ = X_train[batch_size * i: batch_size * (i + 1)]\n",
    "            y_ = y_train[batch_size * i: batch_size * (i + 1)]\n",
    "            feed_dict={X:x_, Y:y_, keep_prob:0.6}    \n",
    "            c, _ = sess.run([cost, optimizer], feed_dict=feed_dict)\n",
    "            cost_history = np.append(cost_history,cost)\n",
    "            avg_cost += c\n",
    "            #accuracy_val = sess.run([accuracy], feed_dict={X:X_val, Y:y_val\n",
    "        val_pred = sess.run(tf.argmax(logits,1),feed_dict={X: X_val , keep_prob:1})  \n",
    "        val_true = sess.run(tf.argmax(y_val,1))\n",
    "        accuracy_val = accuracy_score(val_pred, val_true)\n",
    "        print('Epoch:', '%04d' % (epoch), 'cost = ', '{:.9f}'.format(avg_cost / len(X_train)), \"\\t검증 세트 정확도: {:.3f}%\".format(accuracy_val * 100),)\n",
    "saver.save(sess, model_path)"
   ]
  },
  {
   "cell_type": "markdown",
   "metadata": {},
   "source": [
    "## Prediction"
   ]
  },
  {
   "cell_type": "code",
   "execution_count": 53,
   "metadata": {},
   "outputs": [],
   "source": [
    "y_pred = sess.run(tf.argmax(logits,1),feed_dict={X: X_test , keep_prob:1}) \n",
    "y_true = sess.run(tf.argmax(y_test,1))"
   ]
  },
  {
   "cell_type": "code",
   "execution_count": 54,
   "metadata": {},
   "outputs": [
    {
     "name": "stdout",
     "output_type": "stream",
     "text": [
      "F-Score: 0.975\n",
      "Accuracy:  0.974587039390089\n",
      "              precision    recall  f1-score   support\n",
      "\n",
      "           0       1.00      1.00      1.00      1118\n",
      "           1       0.86      0.95      0.90       104\n",
      "           2       0.85      0.83      0.84       117\n",
      "           3       0.98      0.94      0.96       235\n",
      "\n",
      "   micro avg       0.97      0.97      0.97      1574\n",
      "   macro avg       0.92      0.93      0.93      1574\n",
      "weighted avg       0.98      0.97      0.97      1574\n",
      "\n",
      "[[1116    0    2    0]\n",
      " [   0   99    5    0]\n",
      " [   3   13   97    4]\n",
      " [   0    3   10  222]]\n"
     ]
    }
   ],
   "source": [
    "# Ptint Result\n",
    "\n",
    "from sklearn.metrics import precision_recall_fscore_support\n",
    "p,r,f,s = precision_recall_fscore_support(y_true, y_pred, average='micro')\n",
    "print(\"F-Score:\", round(f,3))\n",
    "from sklearn.metrics import accuracy_score\n",
    "print(\"Accuracy: \", accuracy_score(y_true, y_pred))\n",
    "\n",
    "from sklearn.metrics import classification_report\n",
    "print(classification_report(y_true, y_pred))\n",
    "from sklearn.metrics import confusion_matrix\n",
    "print(confusion_matrix(y_true, y_pred))"
   ]
  }
 ],
 "metadata": {
  "kernelspec": {
   "display_name": "Python 3",
   "language": "python",
   "name": "python3"
  },
  "language_info": {
   "codemirror_mode": {
    "name": "ipython",
    "version": 3
   },
   "file_extension": ".py",
   "mimetype": "text/x-python",
   "name": "python",
   "nbconvert_exporter": "python",
   "pygments_lexer": "ipython3",
   "version": "3.6.7"
  }
 },
 "nbformat": 4,
 "nbformat_minor": 2
}
