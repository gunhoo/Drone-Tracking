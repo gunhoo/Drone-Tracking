{
 "cells": [
  {
   "cell_type": "code",
   "execution_count": 1,
   "metadata": {},
   "outputs": [],
   "source": [
    "import matplotlib.pyplot as plt\n",
    "%matplotlib inline\n",
    "import IPython.display\n",
    "import librosa.display\n",
    "import numpy as np\n",
    "import librosa\n",
    "import tensorflow as tf\n",
    "import glob"
   ]
  },
  {
   "cell_type": "markdown",
   "metadata": {},
   "source": [
    "### If you have been save the data, you don't have to preprocessing and save the data"
   ]
  },
  {
   "cell_type": "code",
   "execution_count": 2,
   "metadata": {},
   "outputs": [],
   "source": [
    "c_drone_path = '../../../1m/*.wav'\n",
    "m_drone_path = '../../../20m/*.wav'\n",
    "f_drone_path = '../../../50m/*.wav'\n",
    "background_path = '../../data/background/*.wav'\n",
    "\n",
    "drone_files = glob.glob(drone_path)\n",
    "background_files = glob.glob(background_path)"
   ]
  },
  {
   "cell_type": "code",
   "execution_count": 3,
   "metadata": {},
   "outputs": [],
   "source": [
    "CHUNK_SIZE = 8192\n",
    "SR = 22050\n",
    "N_MFCC = 16"
   ]
  },
  {
   "cell_type": "code",
   "execution_count": 4,
   "metadata": {},
   "outputs": [],
   "source": [
    "def load(files, sr=22050):\n",
    "    [raw, sr] = librosa.load(files[0], sr=sr)\n",
    "    for f in files[1:]:\n",
    "        [array, sr] = librosa.load(f, sr=sr)\n",
    "        raw = np.hstack((raw, array))\n",
    "    print(raw.shape)\n",
    "    return raw"
   ]
  },
  {
   "cell_type": "code",
   "execution_count": 5,
   "metadata": {},
   "outputs": [
    {
     "name": "stdout",
     "output_type": "stream",
     "text": [
      "(22813237,)\n",
      "(20257033,)\n"
     ]
    }
   ],
   "source": [
    "c_drone_raw = load(c_drone_files)\n",
    "m_drone_raw = load(m_drone_files)\n",
    "f_drone_raw = load(f_drone_files)\n",
    "background_raw = load(background_files)"
   ]
  },
  {
   "cell_type": "markdown",
   "metadata": {},
   "source": [
    "# Data preprocessing"
   ]
  },
  {
   "cell_type": "markdown",
   "metadata": {},
   "source": [
    "Chose `mfcc4` among functions below:\n",
    "- input size 16x16; `n_mfcc=16`, used first 16 data points from 16x17 mfcc of a chunk with size 8192\n",
    "- chunk siez 8192, overlapped half of it"
   ]
  },
  {
   "cell_type": "code",
   "execution_count": 6,
   "metadata": {},
   "outputs": [],
   "source": [
    "def mfcc4(raw, label, chunk_size=8192, window_size=4096, sr=22050, n_mfcc=16, n_frame=16):\n",
    "    mfcc = np.empty((0, n_mfcc, n_frame))\n",
    "    y = []\n",
    "    print(raw.shape)\n",
    "    for i in range(0, len(raw), chunk_size//2):\n",
    "        mfcc_slice = librosa.feature.mfcc(raw[i:i+chunk_size], sr=sr, n_mfcc=n_mfcc) #n_mfcc,17\n",
    "        if mfcc_slice.shape[1] < 17:\n",
    "            print(\"small end:\", mfcc_slice.shape)\n",
    "            continue\n",
    "        mfcc_slice = mfcc_slice[:,:-1]\n",
    "        mfcc_slice = mfcc_slice.reshape((1, mfcc_slice.shape[0], mfcc_slice.shape[1]))\n",
    "        mfcc = np.vstack((mfcc, mfcc_slice))\n",
    "        y.append(label)\n",
    "    y = np.array(y)\n",
    "    return mfcc, y"
   ]
  },
  {
   "cell_type": "code",
   "execution_count": 7,
   "metadata": {},
   "outputs": [
    {
     "name": "stdout",
     "output_type": "stream",
     "text": [
      "(22813237,)\n",
      "small end: (16, 14)\n",
      "small end: (16, 6)\n",
      "(20257033,)\n",
      "small end: (16, 13)\n",
      "small end: (16, 5)\n",
      "(5568, 16, 16) (5568,)\n",
      "(4944, 16, 16) (4944,)\n"
     ]
    }
   ],
   "source": [
    "c_mfcc_drone, c_y_drone = mfcc4(c_drone_raw, 3)\n",
    "m_mfcc_drone, m_y_drone = mfcc4(m_drone_raw, 2)\n",
    "f_mfcc_drone, f_y_drone = mfcc4(f_drone_raw, 1)\n",
    "mfcc_background, y_background = mfcc4(background_raw, 0)\n",
    "\n",
    "print(c_mfcc_drone.shape, c_y_drone.shape)\n",
    "print(m_mfcc_drone.shape, m_y_drone.shape)\n",
    "print(f_mfcc_drone.shape, f_y_drone.shape)\n",
    "print(mfcc_background.shape, y_background.shape)"
   ]
  },
  {
   "cell_type": "code",
   "execution_count": 8,
   "metadata": {},
   "outputs": [
    {
     "name": "stdout",
     "output_type": "stream",
     "text": [
      "(10512, 16, 16) (10512,)\n"
     ]
    }
   ],
   "source": [
    "X = np.concatenate((c_mfcc_drone,m_mfcc_drone,f_mfcc_drone, mfcc_background), axis=0)\n",
    "y = np.hstack((c_y_drone, m_y_drone, f_y_drone, y_background))\n",
    "print(X.shape, y.shape)"
   ]
  },
  {
   "cell_type": "code",
   "execution_count": 9,
   "metadata": {},
   "outputs": [],
   "source": [
    "X = np.reshape(X,(X.shape[0],-1))"
   ]
  },
  {
   "cell_type": "code",
   "execution_count": 10,
   "metadata": {},
   "outputs": [
    {
     "data": {
      "text/plain": [
       "(10512, 256)"
      ]
     },
     "execution_count": 10,
     "metadata": {},
     "output_type": "execute_result"
    }
   ],
   "source": [
    "X.shape"
   ]
  },
  {
   "cell_type": "code",
   "execution_count": 11,
   "metadata": {},
   "outputs": [
    {
     "name": "stdout",
     "output_type": "stream",
     "text": [
      "(10512, 2)\n"
     ]
    }
   ],
   "source": [
    "n_labels = y.shape[0]\n",
    "n_unique_labels = 4\n",
    "y_encoded = np.zeros((n_labels, n_unique_labels))\n",
    "y_encoded[np.arange(n_labels), y] = 1\n",
    "print(y_encoded.shape)"
   ]
  },
  {
   "cell_type": "code",
   "execution_count": 12,
   "metadata": {},
   "outputs": [],
   "source": [
    "# Split data\n",
    "from sklearn import model_selection\n",
    "X_train, X_test, y_train, y_test = model_selection.train_test_split(X, y_encoded, test_size=0.2, random_state=42)\n",
    "X_train, X_val, y_train, y_val = model_selection.train_test_split(X_train, y_train, test_size=0.2, random_state=42)"
   ]
  },
  {
   "cell_type": "code",
   "execution_count": 13,
   "metadata": {},
   "outputs": [
    {
     "name": "stdout",
     "output_type": "stream",
     "text": [
      "(6727, 256) (6727, 2)\n",
      "(1682, 256) (1682, 2)\n",
      "(2103, 256) (2103, 2)\n"
     ]
    }
   ],
   "source": [
    "print(X_train.shape,y_train.shape)\n",
    "print(X_val.shape, y_val.shape)\n",
    "print(X_test.shape, y_test.shape)"
   ]
  },
  {
   "cell_type": "code",
   "execution_count": 14,
   "metadata": {},
   "outputs": [],
   "source": [
    "# Save Data\n",
    "np.save('../../model/X_train', X_train)\n",
    "np.save('../../model/X_test', X_test)\n",
    "np.save('../../model/X_val', X_val)\n",
    "np.save('../../model/y_val', y_val)\n",
    "np.save('../../model/y_train', y_train)\n",
    "np.save('../../model/y_test', y_test)"
   ]
  },
  {
   "cell_type": "markdown",
   "metadata": {},
   "source": [
    "### Until this part"
   ]
  },
  {
   "cell_type": "code",
   "execution_count": 15,
   "metadata": {},
   "outputs": [],
   "source": [
    "# Load Data\n",
    "X_train = np.load('../../model/X_train.npy')\n",
    "X_test = np.load('../../model/X_test.npy')\n",
    "X_val = np.load('../../model/X_val.npy')\n",
    "y_val = np.load('../../model/y_val.npy')\n",
    "y_train = np.load('../../model/y_train.npy')\n",
    "y_test = np.load('../../model/y_test.npy')"
   ]
  },
  {
   "cell_type": "markdown",
   "metadata": {},
   "source": [
    "# Experiment 3 - One convolutional layer /w no dropout\n"
   ]
  },
  {
   "cell_type": "markdown",
   "metadata": {},
   "source": [
    "##Experiment 3-2\n",
    "- learning rate 0.005\n",
    "- pooling stride 1x1\n",
    "- #filter 1\n",
    "- best result among every other settings\n",
    "- cost kept fluctuated during training. (0.8 -> 1.3) -- why is that?"
   ]
  },
  {
   "cell_type": "code",
   "execution_count": 16,
   "metadata": {},
   "outputs": [],
   "source": [
    "tf.reset_default_graph()"
   ]
  },
  {
   "cell_type": "code",
   "execution_count": 17,
   "metadata": {},
   "outputs": [],
   "source": [
    "n_mfcc = 16\n",
    "n_frame = 16\n",
    "n_classes = 4\n",
    "n_channels = 1\n",
    "\n",
    "kernel_size = 3\n",
    "stride = 1\n",
    "pad = \"SAME\"\n",
    "\n",
    "learning_rate = 0.0002  # 0.005\n",
    "training_epochs = 500 # 수정해야해"
   ]
  },
  {
   "cell_type": "markdown",
   "metadata": {},
   "source": [
    "# Layer"
   ]
  },
  {
   "cell_type": "markdown",
   "metadata": {},
   "source": [
    "## Experiment\n",
    "- learning rate 0.0002\n",
    "- no cnn/ pooling \n",
    "- just dense with dropout "
   ]
  },
  {
   "cell_type": "code",
   "execution_count": 18,
   "metadata": {},
   "outputs": [],
   "source": [
    "X = tf.placeholder(tf.float32, shape=[None,n_mfcc*n_frame*n_channels])\n",
    "Y = tf.placeholder(tf.float32, shape=[None,n_classes])\n",
    "\n",
    "keep_prob = tf.placeholder(tf.float32)\n",
    "\n",
    "dense1 = tf.layers.dense(inputs=X, units=256, activation=tf.nn.relu)\n",
    "dropout1 = tf.nn.dropout(dense1, keep_prob=keep_prob)\n",
    "dense2 = tf.layers.dense(inputs=dropout1, units=256, activation=tf.nn.relu)\n",
    "dropout2 = tf.nn.dropout(dense2, keep_prob=keep_prob)\n",
    "dense3 = tf.layers.dense(inputs=dropout2, units=512, activation=tf.nn.relu)\n",
    "dropout3 = tf.nn.dropout(dense3, keep_prob=keep_prob)\n",
    "dense4 = tf.layers.dense(inputs=dropout3, units=512, activation=tf.nn.relu)\n",
    "dropout4 = tf.nn.dropout(dense4, keep_prob=keep_prob)\n",
    "dense5 = tf.layers.dense(inputs=dropout4, units=256, activation=tf.nn.relu)\n",
    "dropout5 = tf.nn.dropout(dense5, keep_prob=keep_prob)\n",
    "\n",
    "logits= tf.layers.dense(inputs=dropout5, units=2)"
   ]
  },
  {
   "cell_type": "code",
   "execution_count": 19,
   "metadata": {},
   "outputs": [],
   "source": [
    "cost = tf.reduce_mean(tf.nn.softmax_cross_entropy_with_logits_v2(logits=logits, labels=Y))\n",
    "optimizer = tf.train.AdamOptimizer(learning_rate=learning_rate).minimize(cost)"
   ]
  },
  {
   "cell_type": "code",
   "execution_count": 20,
   "metadata": {},
   "outputs": [],
   "source": [
    "sess = tf.Session()\n",
    "sess.run(tf.global_variables_initializer())"
   ]
  },
  {
   "cell_type": "code",
   "execution_count": 21,
   "metadata": {},
   "outputs": [],
   "source": [
    "# model save\n",
    "model_path = '../../model/Dense/dense_model'\n",
    "saver = tf.train.Saver()"
   ]
  },
  {
   "cell_type": "markdown",
   "metadata": {},
   "source": [
    "# Trainning"
   ]
  },
  {
   "cell_type": "code",
   "execution_count": 22,
   "metadata": {},
   "outputs": [],
   "source": [
    "import math"
   ]
  },
  {
   "cell_type": "code",
   "execution_count": 23,
   "metadata": {
    "scrolled": false
   },
   "outputs": [],
   "source": [
    "with tf.name_scope(\"eval\"):\n",
    "    correct = tf.nn.in_top_k(logits, y, 1)\n",
    "    accuracy = tf.reduce_mean(tf.cast(correct, tf.float32))\n",
    "#    accuracy_summary = tf.summary.scalar('accuracy', accuracy)"
   ]
  },
  {
   "cell_type": "code",
   "execution_count": 24,
   "metadata": {},
   "outputs": [],
   "source": [
    "from sklearn.metrics import accuracy_score"
   ]
  },
  {
   "cell_type": "code",
   "execution_count": 25,
   "metadata": {
    "scrolled": false
   },
   "outputs": [
    {
     "name": "stdout",
     "output_type": "stream",
     "text": [
      "Epoch: 0001 cost =  0.391560458 \t검증 세트 정확도: 88.704%\n",
      "Epoch: 0002 cost =  0.061878354 \t검증 세트 정확도: 92.509%\n",
      "Epoch: 0003 cost =  0.027087853 \t검증 세트 정확도: 94.411%\n",
      "Epoch: 0004 cost =  0.016353518 \t검증 세트 정확도: 95.779%\n",
      "Epoch: 0005 cost =  0.010575498 \t검증 세트 정확도: 97.384%\n",
      "Epoch: 0006 cost =  0.006883577 \t검증 세트 정확도: 97.860%\n",
      "Epoch: 0007 cost =  0.004917127 \t검증 세트 정확도: 97.979%\n",
      "Epoch: 0008 cost =  0.004231458 \t검증 세트 정확도: 98.514%\n",
      "Epoch: 0009 cost =  0.003804382 \t검증 세트 정확도: 98.216%\n",
      "Epoch: 0010 cost =  0.002917861 \t검증 세트 정확도: 98.930%\n",
      "Epoch: 0011 cost =  0.002565419 \t검증 세트 정확도: 98.930%\n",
      "Epoch: 0012 cost =  0.002365480 \t검증 세트 정확도: 99.227%\n",
      "Epoch: 0013 cost =  0.002302307 \t검증 세트 정확도: 99.168%\n",
      "Epoch: 0014 cost =  0.002073611 \t검증 세트 정확도: 99.346%\n",
      "Epoch: 0015 cost =  0.001990765 \t검증 세트 정확도: 99.168%\n",
      "Epoch: 0016 cost =  0.001765589 \t검증 세트 정확도: 99.108%\n",
      "Epoch: 0017 cost =  0.001760655 \t검증 세트 정확도: 99.108%\n",
      "Epoch: 0018 cost =  0.001609017 \t검증 세트 정확도: 99.168%\n",
      "Epoch: 0019 cost =  0.001743005 \t검증 세트 정확도: 99.108%\n",
      "Epoch: 0020 cost =  0.001603522 \t검증 세트 정확도: 99.227%\n",
      "Epoch: 0021 cost =  0.001431481 \t검증 세트 정확도: 99.168%\n",
      "Epoch: 0022 cost =  0.001499945 \t검증 세트 정확도: 99.227%\n",
      "Epoch: 0023 cost =  0.001458378 \t검증 세트 정확도: 99.227%\n",
      "Epoch: 0024 cost =  0.001562739 \t검증 세트 정확도: 99.287%\n",
      "Epoch: 0025 cost =  0.001234953 \t검증 세트 정확도: 99.287%\n",
      "Epoch: 0026 cost =  0.001199436 \t검증 세트 정확도: 99.405%\n",
      "Epoch: 0027 cost =  0.001186918 \t검증 세트 정확도: 99.405%\n",
      "Epoch: 0028 cost =  0.001244009 \t검증 세트 정확도: 99.346%\n",
      "Epoch: 0029 cost =  0.001259853 \t검증 세트 정확도: 99.287%\n",
      "Epoch: 0030 cost =  0.001140772 \t검증 세트 정확도: 99.584%\n",
      "Epoch: 0031 cost =  0.001222438 \t검증 세트 정확도: 99.465%\n",
      "Epoch: 0032 cost =  0.001145484 \t검증 세트 정확도: 99.227%\n",
      "Epoch: 0033 cost =  0.001323062 \t검증 세트 정확도: 99.405%\n",
      "Epoch: 0034 cost =  0.001068955 \t검증 세트 정확도: 99.465%\n",
      "Epoch: 0035 cost =  0.001046113 \t검증 세트 정확도: 99.465%\n",
      "Epoch: 0036 cost =  0.001178334 \t검증 세트 정확도: 99.287%\n",
      "Epoch: 0037 cost =  0.001111660 \t검증 세트 정확도: 99.524%\n",
      "Epoch: 0038 cost =  0.000993746 \t검증 세트 정확도: 99.524%\n",
      "Epoch: 0039 cost =  0.000951306 \t검증 세트 정확도: 99.465%\n",
      "Epoch: 0040 cost =  0.001039211 \t검증 세트 정확도: 99.524%\n",
      "Epoch: 0041 cost =  0.000895195 \t검증 세트 정확도: 99.524%\n",
      "Epoch: 0042 cost =  0.000938586 \t검증 세트 정확도: 99.465%\n",
      "Epoch: 0043 cost =  0.000911903 \t검증 세트 정확도: 99.465%\n",
      "Epoch: 0044 cost =  0.000950044 \t검증 세트 정확도: 99.346%\n",
      "Epoch: 0045 cost =  0.001004984 \t검증 세트 정확도: 99.405%\n",
      "Epoch: 0046 cost =  0.000942915 \t검증 세트 정확도: 99.465%\n",
      "Epoch: 0047 cost =  0.000952511 \t검증 세트 정확도: 99.643%\n",
      "Epoch: 0048 cost =  0.000834211 \t검증 세트 정확도: 99.524%\n",
      "Epoch: 0049 cost =  0.000964493 \t검증 세트 정확도: 99.584%\n",
      "Epoch: 0050 cost =  0.000850457 \t검증 세트 정확도: 99.643%\n",
      "Epoch: 0051 cost =  0.000733726 \t검증 세트 정확도: 99.346%\n",
      "Epoch: 0052 cost =  0.000849472 \t검증 세트 정확도: 99.584%\n",
      "Epoch: 0053 cost =  0.000839033 \t검증 세트 정확도: 99.524%\n",
      "Epoch: 0054 cost =  0.000798065 \t검증 세트 정확도: 99.584%\n",
      "Epoch: 0055 cost =  0.000864371 \t검증 세트 정확도: 99.524%\n",
      "Epoch: 0056 cost =  0.000859271 \t검증 세트 정확도: 99.524%\n",
      "Epoch: 0057 cost =  0.000799665 \t검증 세트 정확도: 99.524%\n",
      "Epoch: 0058 cost =  0.000721219 \t검증 세트 정확도: 99.643%\n",
      "Epoch: 0059 cost =  0.000713368 \t검증 세트 정확도: 99.584%\n",
      "Epoch: 0060 cost =  0.000860887 \t검증 세트 정확도: 99.465%\n",
      "Epoch: 0061 cost =  0.000922558 \t검증 세트 정확도: 99.584%\n",
      "Epoch: 0062 cost =  0.000749518 \t검증 세트 정확도: 99.465%\n",
      "Epoch: 0063 cost =  0.000846055 \t검증 세트 정확도: 99.643%\n",
      "Epoch: 0064 cost =  0.000691735 \t검증 세트 정확도: 99.524%\n",
      "Epoch: 0065 cost =  0.000792306 \t검증 세트 정확도: 99.643%\n",
      "Epoch: 0066 cost =  0.000612088 \t검증 세트 정확도: 99.465%\n",
      "Epoch: 0067 cost =  0.000831417 \t검증 세트 정확도: 99.584%\n",
      "Epoch: 0068 cost =  0.000882997 \t검증 세트 정확도: 99.584%\n",
      "Epoch: 0069 cost =  0.000824698 \t검증 세트 정확도: 99.584%\n",
      "Epoch: 0070 cost =  0.000728156 \t검증 세트 정확도: 99.643%\n",
      "Epoch: 0071 cost =  0.000741496 \t검증 세트 정확도: 99.643%\n",
      "Epoch: 0072 cost =  0.000675823 \t검증 세트 정확도: 99.643%\n",
      "Epoch: 0073 cost =  0.000732169 \t검증 세트 정확도: 99.703%\n",
      "Epoch: 0074 cost =  0.000785152 \t검증 세트 정확도: 99.584%\n",
      "Epoch: 0075 cost =  0.000632313 \t검증 세트 정확도: 99.643%\n",
      "Epoch: 0076 cost =  0.000739379 \t검증 세트 정확도: 99.465%\n",
      "Epoch: 0077 cost =  0.000564775 \t검증 세트 정확도: 99.643%\n",
      "Epoch: 0078 cost =  0.000700528 \t검증 세트 정확도: 99.524%\n",
      "Epoch: 0079 cost =  0.000669905 \t검증 세트 정확도: 99.584%\n",
      "Epoch: 0080 cost =  0.000649074 \t검증 세트 정확도: 99.643%\n",
      "Epoch: 0081 cost =  0.000767994 \t검증 세트 정확도: 99.584%\n",
      "Epoch: 0082 cost =  0.000661841 \t검증 세트 정확도: 99.643%\n",
      "Epoch: 0083 cost =  0.000795398 \t검증 세트 정확도: 99.524%\n",
      "Epoch: 0084 cost =  0.000545249 \t검증 세트 정확도: 99.703%\n",
      "Epoch: 0085 cost =  0.000703419 \t검증 세트 정확도: 99.584%\n",
      "Epoch: 0086 cost =  0.000467415 \t검증 세트 정확도: 99.584%\n",
      "Epoch: 0087 cost =  0.000513032 \t검증 세트 정확도: 99.584%\n",
      "Epoch: 0088 cost =  0.000633625 \t검증 세트 정확도: 99.643%\n",
      "Epoch: 0089 cost =  0.000526370 \t검증 세트 정확도: 99.703%\n",
      "Epoch: 0090 cost =  0.000551614 \t검증 세트 정확도: 99.703%\n",
      "Epoch: 0091 cost =  0.000493461 \t검증 세트 정확도: 99.643%\n",
      "Epoch: 0092 cost =  0.000645933 \t검증 세트 정확도: 99.465%\n",
      "Epoch: 0093 cost =  0.000759708 \t검증 세트 정확도: 99.762%\n",
      "Epoch: 0094 cost =  0.000546512 \t검증 세트 정확도: 99.643%\n",
      "Epoch: 0095 cost =  0.000659928 \t검증 세트 정확도: 99.643%\n",
      "Epoch: 0096 cost =  0.000567880 \t검증 세트 정확도: 99.584%\n",
      "Epoch: 0097 cost =  0.000570743 \t검증 세트 정확도: 99.584%\n",
      "Epoch: 0098 cost =  0.000714148 \t검증 세트 정확도: 99.584%\n",
      "Epoch: 0099 cost =  0.000506956 \t검증 세트 정확도: 99.584%\n",
      "Epoch: 0100 cost =  0.001206225 \t검증 세트 정확도: 99.643%\n",
      "Epoch: 0101 cost =  0.000588649 \t검증 세트 정확도: 99.584%\n",
      "Epoch: 0102 cost =  0.000931812 \t검증 세트 정확도: 99.643%\n",
      "Epoch: 0103 cost =  0.000668893 \t검증 세트 정확도: 99.643%\n",
      "Epoch: 0104 cost =  0.000699498 \t검증 세트 정확도: 99.524%\n",
      "Epoch: 0105 cost =  0.000536978 \t검증 세트 정확도: 99.584%\n",
      "Epoch: 0106 cost =  0.000813713 \t검증 세트 정확도: 99.643%\n",
      "Epoch: 0107 cost =  0.000525123 \t검증 세트 정확도: 99.584%\n",
      "Epoch: 0108 cost =  0.000673442 \t검증 세트 정확도: 99.465%\n",
      "Epoch: 0109 cost =  0.000564136 \t검증 세트 정확도: 99.465%\n",
      "Epoch: 0110 cost =  0.000851474 \t검증 세트 정확도: 99.643%\n",
      "Epoch: 0111 cost =  0.000623429 \t검증 세트 정확도: 99.405%\n",
      "Epoch: 0112 cost =  0.000602902 \t검증 세트 정확도: 99.584%\n",
      "Epoch: 0113 cost =  0.000630932 \t검증 세트 정확도: 99.584%\n",
      "Epoch: 0114 cost =  0.000660390 \t검증 세트 정확도: 99.524%\n",
      "Epoch: 0115 cost =  0.000702853 \t검증 세트 정확도: 99.643%\n",
      "Epoch: 0116 cost =  0.000596998 \t검증 세트 정확도: 99.584%\n",
      "Epoch: 0117 cost =  0.000801630 \t검증 세트 정확도: 99.524%\n",
      "Epoch: 0118 cost =  0.000898598 \t검증 세트 정확도: 99.584%\n",
      "Epoch: 0119 cost =  0.000787519 \t검증 세트 정확도: 99.405%\n",
      "Epoch: 0120 cost =  0.000805634 \t검증 세트 정확도: 99.643%\n",
      "Epoch: 0121 cost =  0.000442594 \t검증 세트 정확도: 99.703%\n",
      "Epoch: 0122 cost =  0.000681361 \t검증 세트 정확도: 99.643%\n",
      "Epoch: 0123 cost =  0.000566657 \t검증 세트 정확도: 99.703%\n",
      "Epoch: 0124 cost =  0.000596545 \t검증 세트 정확도: 99.465%\n",
      "Epoch: 0125 cost =  0.000596616 \t검증 세트 정확도: 99.643%\n",
      "Epoch: 0126 cost =  0.000563284 \t검증 세트 정확도: 99.287%\n",
      "Epoch: 0127 cost =  0.000685036 \t검증 세트 정확도: 99.703%\n",
      "Epoch: 0128 cost =  0.000443812 \t검증 세트 정확도: 99.643%\n",
      "Epoch: 0129 cost =  0.000900060 \t검증 세트 정확도: 99.465%\n",
      "Epoch: 0130 cost =  0.000675711 \t검증 세트 정확도: 99.643%\n",
      "Epoch: 0131 cost =  0.000643615 \t검증 세트 정확도: 99.643%\n",
      "Epoch: 0132 cost =  0.000576612 \t검증 세트 정확도: 99.465%\n",
      "Epoch: 0133 cost =  0.000722734 \t검증 세트 정확도: 99.524%\n",
      "Epoch: 0134 cost =  0.000826070 \t검증 세트 정확도: 99.584%\n",
      "Epoch: 0135 cost =  0.000728049 \t검증 세트 정확도: 99.584%\n",
      "Epoch: 0136 cost =  0.000717393 \t검증 세트 정확도: 99.584%\n",
      "Epoch: 0137 cost =  0.000754408 \t검증 세트 정확도: 99.643%\n",
      "Epoch: 0138 cost =  0.000477798 \t검증 세트 정확도: 99.703%\n",
      "Epoch: 0139 cost =  0.000726511 \t검증 세트 정확도: 99.465%\n",
      "Epoch: 0140 cost =  0.000747901 \t검증 세트 정확도: 99.584%\n",
      "Epoch: 0141 cost =  0.000610672 \t검증 세트 정확도: 99.584%\n",
      "Epoch: 0142 cost =  0.000507020 \t검증 세트 정확도: 99.584%\n",
      "Epoch: 0143 cost =  0.000584043 \t검증 세트 정확도: 99.643%\n",
      "Epoch: 0144 cost =  0.000532825 \t검증 세트 정확도: 99.703%\n",
      "Epoch: 0145 cost =  0.000548886 \t검증 세트 정확도: 99.703%\n",
      "Epoch: 0146 cost =  0.000665800 \t검증 세트 정확도: 99.524%\n",
      "Epoch: 0147 cost =  0.000525133 \t검증 세트 정확도: 99.643%\n",
      "Epoch: 0148 cost =  0.000479634 \t검증 세트 정확도: 99.524%\n",
      "Epoch: 0149 cost =  0.000431331 \t검증 세트 정확도: 99.762%\n",
      "Epoch: 0150 cost =  0.000455982 \t검증 세트 정확도: 99.227%\n",
      "Epoch: 0151 cost =  0.000693753 \t검증 세트 정확도: 99.643%\n",
      "Epoch: 0152 cost =  0.000658821 \t검증 세트 정확도: 99.584%\n",
      "Epoch: 0153 cost =  0.000767322 \t검증 세트 정확도: 99.465%\n",
      "Epoch: 0154 cost =  0.000549217 \t검증 세트 정확도: 99.405%\n",
      "Epoch: 0155 cost =  0.000724179 \t검증 세트 정확도: 99.643%\n",
      "Epoch: 0156 cost =  0.001000221 \t검증 세트 정확도: 99.465%\n",
      "Epoch: 0157 cost =  0.000740411 \t검증 세트 정확도: 99.584%\n",
      "Epoch: 0158 cost =  0.000836362 \t검증 세트 정확도: 99.524%\n"
     ]
    },
    {
     "name": "stdout",
     "output_type": "stream",
     "text": [
      "Epoch: 0159 cost =  0.000731225 \t검증 세트 정확도: 99.405%\n",
      "Epoch: 0160 cost =  0.000741009 \t검증 세트 정확도: 99.584%\n",
      "Epoch: 0161 cost =  0.001026279 \t검증 세트 정확도: 99.524%\n",
      "Epoch: 0162 cost =  0.001032772 \t검증 세트 정확도: 99.643%\n",
      "Epoch: 0163 cost =  0.001452334 \t검증 세트 정확도: 99.524%\n",
      "Epoch: 0164 cost =  0.000628876 \t검증 세트 정확도: 99.524%\n",
      "Epoch: 0165 cost =  0.000660273 \t검증 세트 정확도: 99.524%\n",
      "Epoch: 0166 cost =  0.000731575 \t검증 세트 정확도: 99.703%\n",
      "Epoch: 0167 cost =  0.000593524 \t검증 세트 정확도: 99.643%\n",
      "Epoch: 0168 cost =  0.000449666 \t검증 세트 정확도: 99.584%\n",
      "Epoch: 0169 cost =  0.000572354 \t검증 세트 정확도: 99.465%\n",
      "Epoch: 0170 cost =  0.000550451 \t검증 세트 정확도: 99.643%\n",
      "Epoch: 0171 cost =  0.000479521 \t검증 세트 정확도: 99.584%\n",
      "Epoch: 0172 cost =  0.000578333 \t검증 세트 정확도: 99.524%\n",
      "Epoch: 0173 cost =  0.000858863 \t검증 세트 정확도: 99.524%\n",
      "Epoch: 0174 cost =  0.000548503 \t검증 세트 정확도: 99.643%\n",
      "Epoch: 0175 cost =  0.000524723 \t검증 세트 정확도: 99.524%\n",
      "Epoch: 0176 cost =  0.000712216 \t검증 세트 정확도: 99.584%\n",
      "Epoch: 0177 cost =  0.000864673 \t검증 세트 정확도: 99.584%\n",
      "Epoch: 0178 cost =  0.000743644 \t검증 세트 정확도: 99.584%\n",
      "Epoch: 0179 cost =  0.000789924 \t검증 세트 정확도: 99.465%\n",
      "Epoch: 0180 cost =  0.000581891 \t검증 세트 정확도: 99.584%\n",
      "Epoch: 0181 cost =  0.000646660 \t검증 세트 정확도: 99.465%\n",
      "Epoch: 0182 cost =  0.000836047 \t검증 세트 정확도: 99.524%\n",
      "Epoch: 0183 cost =  0.000785639 \t검증 세트 정확도: 99.584%\n",
      "Epoch: 0184 cost =  0.000732461 \t검증 세트 정확도: 99.584%\n",
      "Epoch: 0185 cost =  0.000532296 \t검증 세트 정확도: 99.703%\n",
      "Epoch: 0186 cost =  0.000551555 \t검증 세트 정확도: 99.465%\n",
      "Epoch: 0187 cost =  0.000864929 \t검증 세트 정확도: 99.405%\n",
      "Epoch: 0188 cost =  0.000854254 \t검증 세트 정확도: 99.584%\n",
      "Epoch: 0189 cost =  0.000609099 \t검증 세트 정확도: 99.643%\n",
      "Epoch: 0190 cost =  0.000431094 \t검증 세트 정확도: 99.643%\n",
      "Epoch: 0191 cost =  0.000497470 \t검증 세트 정확도: 99.643%\n",
      "Epoch: 0192 cost =  0.000532925 \t검증 세트 정확도: 99.643%\n",
      "Epoch: 0193 cost =  0.000486998 \t검증 세트 정확도: 99.643%\n",
      "Epoch: 0194 cost =  0.000724914 \t검증 세트 정확도: 99.405%\n",
      "Epoch: 0195 cost =  0.000673922 \t검증 세트 정확도: 99.643%\n",
      "Epoch: 0196 cost =  0.000369208 \t검증 세트 정확도: 99.703%\n",
      "Epoch: 0197 cost =  0.000731714 \t검증 세트 정확도: 99.643%\n",
      "Epoch: 0198 cost =  0.000484113 \t검증 세트 정확도: 99.703%\n",
      "Epoch: 0199 cost =  0.000455867 \t검증 세트 정확도: 99.703%\n",
      "Epoch: 0200 cost =  0.000506409 \t검증 세트 정확도: 99.643%\n",
      "Epoch: 0201 cost =  0.000653181 \t검증 세트 정확도: 99.762%\n",
      "Epoch: 0202 cost =  0.000840070 \t검증 세트 정확도: 99.762%\n",
      "Epoch: 0203 cost =  0.000801524 \t검증 세트 정확도: 99.703%\n",
      "Epoch: 0204 cost =  0.000570693 \t검증 세트 정확도: 99.524%\n",
      "Epoch: 0205 cost =  0.000810073 \t검증 세트 정확도: 99.643%\n",
      "Epoch: 0206 cost =  0.000689604 \t검증 세트 정확도: 99.643%\n",
      "Epoch: 0207 cost =  0.000454664 \t검증 세트 정확도: 99.643%\n",
      "Epoch: 0208 cost =  0.000484881 \t검증 세트 정확도: 99.584%\n",
      "Epoch: 0209 cost =  0.000949217 \t검증 세트 정확도: 99.643%\n",
      "Epoch: 0210 cost =  0.000579698 \t검증 세트 정확도: 99.584%\n",
      "Epoch: 0211 cost =  0.000579843 \t검증 세트 정확도: 99.703%\n",
      "Epoch: 0212 cost =  0.000509570 \t검증 세트 정확도: 99.703%\n",
      "Epoch: 0213 cost =  0.000429322 \t검증 세트 정확도: 99.643%\n",
      "Epoch: 0214 cost =  0.000777609 \t검증 세트 정확도: 99.703%\n",
      "Epoch: 0215 cost =  0.000645948 \t검증 세트 정확도: 99.584%\n",
      "Epoch: 0216 cost =  0.000834492 \t검증 세트 정확도: 98.692%\n",
      "Epoch: 0217 cost =  0.000883056 \t검증 세트 정확도: 99.524%\n",
      "Epoch: 0218 cost =  0.000701193 \t검증 세트 정확도: 99.703%\n",
      "Epoch: 0219 cost =  0.000697928 \t검증 세트 정확도: 99.584%\n",
      "Epoch: 0220 cost =  0.000775362 \t검증 세트 정확도: 99.584%\n",
      "Epoch: 0221 cost =  0.000872546 \t검증 세트 정확도: 99.108%\n",
      "Epoch: 0222 cost =  0.000780830 \t검증 세트 정확도: 99.584%\n",
      "Epoch: 0223 cost =  0.000616342 \t검증 세트 정확도: 99.762%\n",
      "Epoch: 0224 cost =  0.000580681 \t검증 세트 정확도: 99.762%\n",
      "Epoch: 0225 cost =  0.001167529 \t검증 세트 정확도: 99.227%\n",
      "Epoch: 0226 cost =  0.000560646 \t검증 세트 정확도: 99.762%\n",
      "Epoch: 0227 cost =  0.001002636 \t검증 세트 정확도: 99.584%\n",
      "Epoch: 0228 cost =  0.000656542 \t검증 세트 정확도: 99.703%\n",
      "Epoch: 0229 cost =  0.000541982 \t검증 세트 정확도: 99.762%\n",
      "Epoch: 0230 cost =  0.000899690 \t검증 세트 정확도: 99.524%\n",
      "Epoch: 0231 cost =  0.000489631 \t검증 세트 정확도: 99.703%\n",
      "Epoch: 0232 cost =  0.000490129 \t검증 세트 정확도: 99.524%\n",
      "Epoch: 0233 cost =  0.000893008 \t검증 세트 정확도: 99.346%\n",
      "Epoch: 0234 cost =  0.000990975 \t검증 세트 정확도: 99.584%\n",
      "Epoch: 0235 cost =  0.001222119 \t검증 세트 정확도: 99.643%\n",
      "Epoch: 0236 cost =  0.000547515 \t검증 세트 정확도: 99.703%\n",
      "Epoch: 0237 cost =  0.000908255 \t검증 세트 정확도: 99.524%\n",
      "Epoch: 0238 cost =  0.000619960 \t검증 세트 정확도: 99.762%\n",
      "Epoch: 0239 cost =  0.000477794 \t검증 세트 정확도: 99.643%\n",
      "Epoch: 0240 cost =  0.000831773 \t검증 세트 정확도: 99.703%\n",
      "Epoch: 0241 cost =  0.001250779 \t검증 세트 정확도: 99.584%\n",
      "Epoch: 0242 cost =  0.000803474 \t검증 세트 정확도: 99.703%\n",
      "Epoch: 0243 cost =  0.000610561 \t검증 세트 정확도: 99.703%\n",
      "Epoch: 0244 cost =  0.000642379 \t검증 세트 정확도: 99.703%\n",
      "Epoch: 0245 cost =  0.000531534 \t검증 세트 정확도: 99.822%\n",
      "Epoch: 0246 cost =  0.000529951 \t검증 세트 정확도: 99.762%\n",
      "Epoch: 0247 cost =  0.000710698 \t검증 세트 정확도: 99.584%\n",
      "Epoch: 0248 cost =  0.000438829 \t검증 세트 정확도: 99.703%\n",
      "Epoch: 0249 cost =  0.000399558 \t검증 세트 정확도: 99.703%\n",
      "Epoch: 0250 cost =  0.000374990 \t검증 세트 정확도: 99.643%\n",
      "Epoch: 0251 cost =  0.000348131 \t검증 세트 정확도: 99.762%\n",
      "Epoch: 0252 cost =  0.000496402 \t검증 세트 정확도: 99.405%\n",
      "Epoch: 0253 cost =  0.000779508 \t검증 세트 정확도: 99.465%\n",
      "Epoch: 0254 cost =  0.000458279 \t검증 세트 정확도: 99.643%\n",
      "Epoch: 0255 cost =  0.000470297 \t검증 세트 정확도: 99.762%\n",
      "Epoch: 0256 cost =  0.000315309 \t검증 세트 정확도: 99.762%\n",
      "Epoch: 0257 cost =  0.000454165 \t검증 세트 정확도: 99.762%\n",
      "Epoch: 0258 cost =  0.000551098 \t검증 세트 정확도: 99.762%\n",
      "Epoch: 0259 cost =  0.000763531 \t검증 세트 정확도: 99.703%\n",
      "Epoch: 0260 cost =  0.000426791 \t검증 세트 정확도: 99.703%\n",
      "Epoch: 0261 cost =  0.000687814 \t검증 세트 정확도: 99.584%\n",
      "Epoch: 0262 cost =  0.000661607 \t검증 세트 정확도: 99.703%\n",
      "Epoch: 0263 cost =  0.000533950 \t검증 세트 정확도: 99.584%\n",
      "Epoch: 0264 cost =  0.000428643 \t검증 세트 정확도: 99.643%\n",
      "Epoch: 0265 cost =  0.000443413 \t검증 세트 정확도: 99.703%\n",
      "Epoch: 0266 cost =  0.000534266 \t검증 세트 정확도: 99.703%\n",
      "Epoch: 0267 cost =  0.000557537 \t검증 세트 정확도: 99.822%\n",
      "Epoch: 0268 cost =  0.000664077 \t검증 세트 정확도: 99.762%\n",
      "Epoch: 0269 cost =  0.000579797 \t검증 세트 정확도: 99.703%\n",
      "Epoch: 0270 cost =  0.000335418 \t검증 세트 정확도: 99.762%\n",
      "Epoch: 0271 cost =  0.000523455 \t검증 세트 정확도: 99.762%\n",
      "Epoch: 0272 cost =  0.000692204 \t검증 세트 정확도: 99.643%\n",
      "Epoch: 0273 cost =  0.000480147 \t검증 세트 정확도: 99.465%\n",
      "Epoch: 0274 cost =  0.000530785 \t검증 세트 정확도: 99.643%\n",
      "Epoch: 0275 cost =  0.000558903 \t검증 세트 정확도: 99.643%\n",
      "Epoch: 0276 cost =  0.001005842 \t검증 세트 정확도: 99.524%\n",
      "Epoch: 0277 cost =  0.000594763 \t검증 세트 정확도: 99.584%\n",
      "Epoch: 0278 cost =  0.000555275 \t검증 세트 정확도: 99.584%\n",
      "Epoch: 0279 cost =  0.000684615 \t검증 세트 정확도: 99.584%\n",
      "Epoch: 0280 cost =  0.000814089 \t검증 세트 정확도: 99.643%\n",
      "Epoch: 0281 cost =  0.000602263 \t검증 세트 정확도: 99.881%\n",
      "Epoch: 0282 cost =  0.000762660 \t검증 세트 정확도: 99.703%\n",
      "Epoch: 0283 cost =  0.000521336 \t검증 세트 정확도: 99.762%\n",
      "Epoch: 0284 cost =  0.000576262 \t검증 세트 정확도: 99.822%\n",
      "Epoch: 0285 cost =  0.000995081 \t검증 세트 정확도: 99.405%\n",
      "Epoch: 0286 cost =  0.000616633 \t검증 세트 정확도: 99.465%\n",
      "Epoch: 0287 cost =  0.000855211 \t검증 세트 정확도: 99.762%\n",
      "Epoch: 0288 cost =  0.000534213 \t검증 세트 정확도: 99.703%\n",
      "Epoch: 0289 cost =  0.000633594 \t검증 세트 정확도: 99.703%\n",
      "Epoch: 0290 cost =  0.000543113 \t검증 세트 정확도: 98.692%\n",
      "Epoch: 0291 cost =  0.000874639 \t검증 세트 정확도: 99.584%\n",
      "Epoch: 0292 cost =  0.000481340 \t검증 세트 정확도: 99.703%\n",
      "Epoch: 0293 cost =  0.000443047 \t검증 세트 정확도: 99.703%\n",
      "Epoch: 0294 cost =  0.000360537 \t검증 세트 정확도: 99.643%\n",
      "Epoch: 0295 cost =  0.000355984 \t검증 세트 정확도: 99.703%\n",
      "Epoch: 0296 cost =  0.000522421 \t검증 세트 정확도: 99.465%\n",
      "Epoch: 0297 cost =  0.000740617 \t검증 세트 정확도: 99.643%\n",
      "Epoch: 0298 cost =  0.000553112 \t검증 세트 정확도: 99.643%\n",
      "Epoch: 0299 cost =  0.000354897 \t검증 세트 정확도: 99.643%\n",
      "Epoch: 0300 cost =  0.000430939 \t검증 세트 정확도: 99.643%\n",
      "Epoch: 0301 cost =  0.000734291 \t검증 세트 정확도: 99.524%\n",
      "Epoch: 0302 cost =  0.000596608 \t검증 세트 정확도: 99.703%\n",
      "Epoch: 0303 cost =  0.000511056 \t검증 세트 정확도: 99.643%\n",
      "Epoch: 0304 cost =  0.000399239 \t검증 세트 정확도: 99.762%\n",
      "Epoch: 0305 cost =  0.000925239 \t검증 세트 정확도: 99.762%\n",
      "Epoch: 0306 cost =  0.000446875 \t검증 세트 정확도: 99.643%\n",
      "Epoch: 0307 cost =  0.000515248 \t검증 세트 정확도: 99.762%\n",
      "Epoch: 0308 cost =  0.000736970 \t검증 세트 정확도: 99.881%\n",
      "Epoch: 0309 cost =  0.000472765 \t검증 세트 정확도: 99.703%\n",
      "Epoch: 0310 cost =  0.000796524 \t검증 세트 정확도: 99.643%\n",
      "Epoch: 0311 cost =  0.000432086 \t검증 세트 정확도: 99.643%\n",
      "Epoch: 0312 cost =  0.000912996 \t검증 세트 정확도: 99.703%\n",
      "Epoch: 0313 cost =  0.000871363 \t검증 세트 정확도: 99.643%\n",
      "Epoch: 0314 cost =  0.000798050 \t검증 세트 정확도: 99.643%\n",
      "Epoch: 0315 cost =  0.000556120 \t검증 세트 정확도: 99.643%\n",
      "Epoch: 0316 cost =  0.000871436 \t검증 세트 정확도: 99.643%\n"
     ]
    },
    {
     "name": "stdout",
     "output_type": "stream",
     "text": [
      "Epoch: 0317 cost =  0.000450302 \t검증 세트 정확도: 99.703%\n",
      "Epoch: 0318 cost =  0.000639792 \t검증 세트 정확도: 99.703%\n",
      "Epoch: 0319 cost =  0.000692042 \t검증 세트 정확도: 99.762%\n",
      "Epoch: 0320 cost =  0.000526560 \t검증 세트 정확도: 99.643%\n",
      "Epoch: 0321 cost =  0.000728776 \t검증 세트 정확도: 99.703%\n",
      "Epoch: 0322 cost =  0.000439201 \t검증 세트 정확도: 99.643%\n",
      "Epoch: 0323 cost =  0.000571992 \t검증 세트 정확도: 99.703%\n",
      "Epoch: 0324 cost =  0.000587566 \t검증 세트 정확도: 99.703%\n",
      "Epoch: 0325 cost =  0.000498500 \t검증 세트 정확도: 99.762%\n",
      "Epoch: 0326 cost =  0.000666046 \t검증 세트 정확도: 99.524%\n",
      "Epoch: 0327 cost =  0.000698382 \t검증 세트 정확도: 99.703%\n",
      "Epoch: 0328 cost =  0.000889501 \t검증 세트 정확도: 99.643%\n",
      "Epoch: 0329 cost =  0.000596565 \t검증 세트 정확도: 99.762%\n",
      "Epoch: 0330 cost =  0.000436703 \t검증 세트 정확도: 99.762%\n",
      "Epoch: 0331 cost =  0.000744794 \t검증 세트 정확도: 99.643%\n",
      "Epoch: 0332 cost =  0.000599795 \t검증 세트 정확도: 99.584%\n",
      "Epoch: 0333 cost =  0.000515114 \t검증 세트 정확도: 99.524%\n",
      "Epoch: 0334 cost =  0.000415290 \t검증 세트 정확도: 99.584%\n",
      "Epoch: 0335 cost =  0.000510746 \t검증 세트 정확도: 99.703%\n",
      "Epoch: 0336 cost =  0.000681792 \t검증 세트 정확도: 99.703%\n",
      "Epoch: 0337 cost =  0.000450699 \t검증 세트 정확도: 99.584%\n",
      "Epoch: 0338 cost =  0.000512373 \t검증 세트 정확도: 99.346%\n",
      "Epoch: 0339 cost =  0.000642708 \t검증 세트 정확도: 99.703%\n",
      "Epoch: 0340 cost =  0.000768472 \t검증 세트 정확도: 99.584%\n",
      "Epoch: 0341 cost =  0.000563485 \t검증 세트 정확도: 99.703%\n",
      "Epoch: 0342 cost =  0.000636910 \t검증 세트 정확도: 99.822%\n",
      "Epoch: 0343 cost =  0.000642575 \t검증 세트 정확도: 99.703%\n",
      "Epoch: 0344 cost =  0.000970713 \t검증 세트 정확도: 99.643%\n",
      "Epoch: 0345 cost =  0.000392100 \t검증 세트 정확도: 99.703%\n",
      "Epoch: 0346 cost =  0.000383822 \t검증 세트 정확도: 99.703%\n",
      "Epoch: 0347 cost =  0.000365082 \t검증 세트 정확도: 99.584%\n",
      "Epoch: 0348 cost =  0.000513590 \t검증 세트 정확도: 99.703%\n",
      "Epoch: 0349 cost =  0.000328911 \t검증 세트 정확도: 99.643%\n",
      "Epoch: 0350 cost =  0.000582521 \t검증 세트 정확도: 99.762%\n",
      "Epoch: 0351 cost =  0.000326250 \t검증 세트 정확도: 99.762%\n",
      "Epoch: 0352 cost =  0.000521665 \t검증 세트 정확도: 99.703%\n",
      "Epoch: 0353 cost =  0.000510527 \t검증 세트 정확도: 99.762%\n",
      "Epoch: 0354 cost =  0.000381174 \t검증 세트 정확도: 99.762%\n",
      "Epoch: 0355 cost =  0.000740186 \t검증 세트 정확도: 99.762%\n",
      "Epoch: 0356 cost =  0.000435571 \t검증 세트 정확도: 99.524%\n",
      "Epoch: 0357 cost =  0.000469942 \t검증 세트 정확도: 99.584%\n",
      "Epoch: 0358 cost =  0.000734695 \t검증 세트 정확도: 99.405%\n",
      "Epoch: 0359 cost =  0.000426101 \t검증 세트 정확도: 99.703%\n",
      "Epoch: 0360 cost =  0.000620753 \t검증 세트 정확도: 99.584%\n",
      "Epoch: 0361 cost =  0.000503879 \t검증 세트 정확도: 99.465%\n",
      "Epoch: 0362 cost =  0.000768317 \t검증 세트 정확도: 99.524%\n",
      "Epoch: 0363 cost =  0.000443606 \t검증 세트 정확도: 99.762%\n",
      "Epoch: 0364 cost =  0.000367195 \t검증 세트 정확도: 99.703%\n",
      "Epoch: 0365 cost =  0.000493138 \t검증 세트 정확도: 99.762%\n",
      "Epoch: 0366 cost =  0.000440753 \t검증 세트 정확도: 99.703%\n",
      "Epoch: 0367 cost =  0.000397518 \t검증 세트 정확도: 99.703%\n",
      "Epoch: 0368 cost =  0.000635093 \t검증 세트 정확도: 99.703%\n",
      "Epoch: 0369 cost =  0.000414713 \t검증 세트 정확도: 99.643%\n",
      "Epoch: 0370 cost =  0.000726794 \t검증 세트 정확도: 99.643%\n",
      "Epoch: 0371 cost =  0.000372948 \t검증 세트 정확도: 99.287%\n",
      "Epoch: 0372 cost =  0.001428802 \t검증 세트 정확도: 99.762%\n",
      "Epoch: 0373 cost =  0.000389853 \t검증 세트 정확도: 99.643%\n",
      "Epoch: 0374 cost =  0.000379968 \t검증 세트 정확도: 99.643%\n",
      "Epoch: 0375 cost =  0.000418574 \t검증 세트 정확도: 99.643%\n",
      "Epoch: 0376 cost =  0.000373267 \t검증 세트 정확도: 99.822%\n",
      "Epoch: 0377 cost =  0.000835138 \t검증 세트 정확도: 99.941%\n",
      "Epoch: 0378 cost =  0.000430042 \t검증 세트 정확도: 99.822%\n",
      "Epoch: 0379 cost =  0.000405528 \t검증 세트 정확도: 99.762%\n",
      "Epoch: 0380 cost =  0.000389428 \t검증 세트 정확도: 99.762%\n",
      "Epoch: 0381 cost =  0.000448798 \t검증 세트 정확도: 99.703%\n",
      "Epoch: 0382 cost =  0.000540529 \t검증 세트 정확도: 99.703%\n",
      "Epoch: 0383 cost =  0.000849349 \t검증 세트 정확도: 99.584%\n",
      "Epoch: 0384 cost =  0.000405428 \t검증 세트 정확도: 99.584%\n",
      "Epoch: 0385 cost =  0.000407197 \t검증 세트 정확도: 99.762%\n",
      "Epoch: 0386 cost =  0.000316758 \t검증 세트 정확도: 99.762%\n",
      "Epoch: 0387 cost =  0.001743929 \t검증 세트 정확도: 99.762%\n",
      "Epoch: 0388 cost =  0.000464593 \t검증 세트 정확도: 99.762%\n",
      "Epoch: 0389 cost =  0.000497359 \t검증 세트 정확도: 99.762%\n",
      "Epoch: 0390 cost =  0.000349744 \t검증 세트 정확도: 99.643%\n",
      "Epoch: 0391 cost =  0.000547678 \t검증 세트 정확도: 99.643%\n",
      "Epoch: 0392 cost =  0.000337596 \t검증 세트 정확도: 99.703%\n",
      "Epoch: 0393 cost =  0.000445941 \t검증 세트 정확도: 99.643%\n",
      "Epoch: 0394 cost =  0.000394758 \t검증 세트 정확도: 99.643%\n",
      "Epoch: 0395 cost =  0.000521356 \t검증 세트 정확도: 99.762%\n",
      "Epoch: 0396 cost =  0.000395583 \t검증 세트 정확도: 99.762%\n",
      "Epoch: 0397 cost =  0.000394798 \t검증 세트 정확도: 99.643%\n",
      "Epoch: 0398 cost =  0.000415221 \t검증 세트 정확도: 99.703%\n",
      "Epoch: 0399 cost =  0.000269279 \t검증 세트 정확도: 99.762%\n",
      "Epoch: 0400 cost =  0.000790539 \t검증 세트 정확도: 99.762%\n",
      "Epoch: 0401 cost =  0.000536894 \t검증 세트 정확도: 99.822%\n",
      "Epoch: 0402 cost =  0.000825681 \t검증 세트 정확도: 99.703%\n",
      "Epoch: 0403 cost =  0.000436778 \t검증 세트 정확도: 99.762%\n",
      "Epoch: 0404 cost =  0.000587521 \t검증 세트 정확도: 99.643%\n",
      "Epoch: 0405 cost =  0.000477600 \t검증 세트 정확도: 99.703%\n",
      "Epoch: 0406 cost =  0.000401460 \t검증 세트 정확도: 99.703%\n",
      "Epoch: 0407 cost =  0.000411737 \t검증 세트 정확도: 99.643%\n",
      "Epoch: 0408 cost =  0.000533860 \t검증 세트 정확도: 99.762%\n",
      "Epoch: 0409 cost =  0.000945670 \t검증 세트 정확도: 99.465%\n",
      "Epoch: 0410 cost =  0.001213958 \t검증 세트 정확도: 99.524%\n",
      "Epoch: 0411 cost =  0.000719869 \t검증 세트 정확도: 99.703%\n",
      "Epoch: 0412 cost =  0.000294566 \t검증 세트 정확도: 99.703%\n",
      "Epoch: 0413 cost =  0.000898347 \t검증 세트 정확도: 99.643%\n",
      "Epoch: 0414 cost =  0.000557314 \t검증 세트 정확도: 99.762%\n",
      "Epoch: 0415 cost =  0.000309454 \t검증 세트 정확도: 99.762%\n",
      "Epoch: 0416 cost =  0.000557351 \t검증 세트 정확도: 99.703%\n",
      "Epoch: 0417 cost =  0.000417839 \t검증 세트 정확도: 99.643%\n",
      "Epoch: 0418 cost =  0.000644880 \t검증 세트 정확도: 99.584%\n",
      "Epoch: 0419 cost =  0.000721935 \t검증 세트 정확도: 99.643%\n",
      "Epoch: 0420 cost =  0.000349927 \t검증 세트 정확도: 99.703%\n",
      "Epoch: 0421 cost =  0.001023619 \t검증 세트 정확도: 99.524%\n",
      "Epoch: 0422 cost =  0.000957320 \t검증 세트 정확도: 99.643%\n",
      "Epoch: 0423 cost =  0.000381628 \t검증 세트 정확도: 99.643%\n",
      "Epoch: 0424 cost =  0.000470218 \t검증 세트 정확도: 99.703%\n",
      "Epoch: 0425 cost =  0.000586589 \t검증 세트 정확도: 99.584%\n",
      "Epoch: 0426 cost =  0.000345555 \t검증 세트 정확도: 99.643%\n",
      "Epoch: 0427 cost =  0.000263988 \t검증 세트 정확도: 99.643%\n",
      "Epoch: 0428 cost =  0.000320744 \t검증 세트 정확도: 99.643%\n",
      "Epoch: 0429 cost =  0.000483373 \t검증 세트 정확도: 99.762%\n",
      "Epoch: 0430 cost =  0.000713156 \t검증 세트 정확도: 99.703%\n",
      "Epoch: 0431 cost =  0.000370551 \t검증 세트 정확도: 99.822%\n",
      "Epoch: 0432 cost =  0.000297165 \t검증 세트 정확도: 99.762%\n",
      "Epoch: 0433 cost =  0.000339276 \t검증 세트 정확도: 99.762%\n",
      "Epoch: 0434 cost =  0.000349443 \t검증 세트 정확도: 99.762%\n",
      "Epoch: 0435 cost =  0.000764427 \t검증 세트 정확도: 99.762%\n",
      "Epoch: 0436 cost =  0.000636234 \t검증 세트 정확도: 99.524%\n",
      "Epoch: 0437 cost =  0.000309371 \t검증 세트 정확도: 99.703%\n",
      "Epoch: 0438 cost =  0.000318969 \t검증 세트 정확도: 99.762%\n",
      "Epoch: 0439 cost =  0.000486634 \t검증 세트 정확도: 99.584%\n",
      "Epoch: 0440 cost =  0.000854707 \t검증 세트 정확도: 99.762%\n",
      "Epoch: 0441 cost =  0.000489241 \t검증 세트 정확도: 99.762%\n",
      "Epoch: 0442 cost =  0.000269349 \t검증 세트 정확도: 99.703%\n",
      "Epoch: 0443 cost =  0.000732175 \t검증 세트 정확도: 99.703%\n",
      "Epoch: 0444 cost =  0.000765957 \t검증 세트 정확도: 99.703%\n",
      "Epoch: 0445 cost =  0.000300641 \t검증 세트 정확도: 99.822%\n",
      "Epoch: 0446 cost =  0.000494667 \t검증 세트 정확도: 99.762%\n",
      "Epoch: 0447 cost =  0.000343816 \t검증 세트 정확도: 99.762%\n",
      "Epoch: 0448 cost =  0.000248661 \t검증 세트 정확도: 99.822%\n",
      "Epoch: 0449 cost =  0.000228596 \t검증 세트 정확도: 99.881%\n",
      "Epoch: 0450 cost =  0.000286082 \t검증 세트 정확도: 99.822%\n",
      "Epoch: 0451 cost =  0.000478416 \t검증 세트 정확도: 99.822%\n",
      "Epoch: 0452 cost =  0.000435639 \t검증 세트 정확도: 99.762%\n",
      "Epoch: 0453 cost =  0.000519294 \t검증 세트 정확도: 99.643%\n",
      "Epoch: 0454 cost =  0.000307728 \t검증 세트 정확도: 99.703%\n",
      "Epoch: 0455 cost =  0.000439656 \t검증 세트 정확도: 99.703%\n",
      "Epoch: 0456 cost =  0.000465409 \t검증 세트 정확도: 99.643%\n",
      "Epoch: 0457 cost =  0.000479732 \t검증 세트 정확도: 99.762%\n",
      "Epoch: 0458 cost =  0.000413983 \t검증 세트 정확도: 99.762%\n",
      "Epoch: 0459 cost =  0.000562181 \t검증 세트 정확도: 99.762%\n",
      "Epoch: 0460 cost =  0.000570349 \t검증 세트 정확도: 99.762%\n",
      "Epoch: 0461 cost =  0.000397307 \t검증 세트 정확도: 99.703%\n",
      "Epoch: 0462 cost =  0.001185982 \t검증 세트 정확도: 99.465%\n",
      "Epoch: 0463 cost =  0.000499257 \t검증 세트 정확도: 99.762%\n",
      "Epoch: 0464 cost =  0.000254865 \t검증 세트 정확도: 99.762%\n",
      "Epoch: 0465 cost =  0.000279527 \t검증 세트 정확도: 99.762%\n",
      "Epoch: 0466 cost =  0.000526355 \t검증 세트 정확도: 99.524%\n",
      "Epoch: 0467 cost =  0.000501106 \t검증 세트 정확도: 99.822%\n",
      "Epoch: 0468 cost =  0.000354481 \t검증 세트 정확도: 99.762%\n",
      "Epoch: 0469 cost =  0.000307276 \t검증 세트 정확도: 99.762%\n",
      "Epoch: 0470 cost =  0.000280082 \t검증 세트 정확도: 99.822%\n",
      "Epoch: 0471 cost =  0.000514869 \t검증 세트 정확도: 99.703%\n",
      "Epoch: 0472 cost =  0.000276559 \t검증 세트 정확도: 99.762%\n",
      "Epoch: 0473 cost =  0.000659340 \t검증 세트 정확도: 99.762%\n",
      "Epoch: 0474 cost =  0.000363046 \t검증 세트 정확도: 99.703%\n"
     ]
    },
    {
     "name": "stdout",
     "output_type": "stream",
     "text": [
      "Epoch: 0475 cost =  0.000371258 \t검증 세트 정확도: 99.762%\n",
      "Epoch: 0476 cost =  0.000314801 \t검증 세트 정확도: 99.822%\n",
      "Epoch: 0477 cost =  0.000328314 \t검증 세트 정확도: 99.822%\n",
      "Epoch: 0478 cost =  0.000339194 \t검증 세트 정확도: 99.762%\n",
      "Epoch: 0479 cost =  0.000396532 \t검증 세트 정확도: 99.703%\n",
      "Epoch: 0480 cost =  0.000354157 \t검증 세트 정확도: 99.703%\n",
      "Epoch: 0481 cost =  0.000480253 \t검증 세트 정확도: 99.524%\n",
      "Epoch: 0482 cost =  0.000778210 \t검증 세트 정확도: 99.703%\n",
      "Epoch: 0483 cost =  0.000405375 \t검증 세트 정확도: 99.643%\n",
      "Epoch: 0484 cost =  0.000322969 \t검증 세트 정확도: 99.643%\n",
      "Epoch: 0485 cost =  0.000468407 \t검증 세트 정확도: 99.762%\n",
      "Epoch: 0486 cost =  0.000265526 \t검증 세트 정확도: 99.762%\n",
      "Epoch: 0487 cost =  0.000226813 \t검증 세트 정확도: 99.822%\n",
      "Epoch: 0488 cost =  0.000326176 \t검증 세트 정확도: 99.762%\n",
      "Epoch: 0489 cost =  0.000296752 \t검증 세트 정확도: 99.643%\n",
      "Epoch: 0490 cost =  0.000561753 \t검증 세트 정확도: 99.703%\n",
      "Epoch: 0491 cost =  0.000456416 \t검증 세트 정확도: 99.703%\n",
      "Epoch: 0492 cost =  0.000698486 \t검증 세트 정확도: 99.405%\n",
      "Epoch: 0493 cost =  0.000976968 \t검증 세트 정확도: 99.703%\n",
      "Epoch: 0494 cost =  0.000228827 \t검증 세트 정확도: 99.762%\n",
      "Epoch: 0495 cost =  0.000346168 \t검증 세트 정확도: 99.762%\n",
      "Epoch: 0496 cost =  0.000487317 \t검증 세트 정확도: 99.762%\n",
      "Epoch: 0497 cost =  0.000224967 \t검증 세트 정확도: 99.762%\n",
      "Epoch: 0498 cost =  0.001356894 \t검증 세트 정확도: 99.703%\n",
      "Epoch: 0499 cost =  0.000356543 \t검증 세트 정확도: 99.703%\n"
     ]
    },
    {
     "data": {
      "text/plain": [
       "'../../model/Dense/dense_model'"
      ]
     },
     "execution_count": 25,
     "metadata": {},
     "output_type": "execute_result"
    }
   ],
   "source": [
    "#original \n",
    "batch_size = 32\n",
    "cost_history = np.empty(shape=[1], dtype=float)\n",
    "\n",
    "for epoch in range(1,500):\n",
    "    avg_cost = 0    \n",
    "#    total_batch = int(X_train.shape[0] / batch_size)\n",
    "    for i in range( int(math.ceil(len(X_train)/batch_size)) ): # 배치 사이즈로 나눈 나머지 다 돌 수 있게 \n",
    "        x_ = X_train[batch_size * i: batch_size * (i + 1)]\n",
    "        y_ = y_train[batch_size * i: batch_size * (i + 1)]\n",
    "        feed_dict={X:x_, Y:y_, keep_prob:0.6}    \n",
    "        c, _ = sess.run([cost, optimizer], feed_dict=feed_dict)\n",
    "        cost_history = np.append(cost_history,cost)\n",
    "        avg_cost += c\n",
    "    #accuracy_val = sess.run([accuracy], feed_dict={X:X_val, Y:y_val\n",
    "    val_pred = sess.run(tf.argmax(logits,1),feed_dict={X: X_val , keep_prob:1})  \n",
    "    val_true = sess.run(tf.argmax(y_val,1))\n",
    "    accuracy_val = accuracy_score(val_pred, val_true)\n",
    "    print('Epoch:', '%04d' % (epoch), 'cost = ', '{:.9f}'.format(avg_cost / len(X_train)), \"\\t검증 세트 정확도: {:.3f}%\".format(accuracy_val * 100),)\n",
    "saver.save(sess, model_path)\n",
    "\n",
    "#if epoch% 20 == 0:\n",
    "#   save"
   ]
  },
  {
   "cell_type": "markdown",
   "metadata": {},
   "source": [
    "## Prediction"
   ]
  },
  {
   "cell_type": "code",
   "execution_count": 26,
   "metadata": {},
   "outputs": [],
   "source": [
    "y_pred = sess.run(tf.argmax(logits,1),feed_dict={X: X_test , keep_prob:1}) \n",
    "y_true = sess.run(tf.argmax(y_test,1))"
   ]
  },
  {
   "cell_type": "code",
   "execution_count": 27,
   "metadata": {},
   "outputs": [
    {
     "name": "stdout",
     "output_type": "stream",
     "text": [
      "F-Score: 0.997\n",
      "Accuracy:  0.9966714217784118\n",
      "              precision    recall  f1-score   support\n",
      "\n",
      "           0       1.00      1.00      1.00       966\n",
      "           1       1.00      1.00      1.00      1137\n",
      "\n",
      "   micro avg       1.00      1.00      1.00      2103\n",
      "   macro avg       1.00      1.00      1.00      2103\n",
      "weighted avg       1.00      1.00      1.00      2103\n",
      "\n",
      "[[ 962    4]\n",
      " [   3 1134]]\n"
     ]
    }
   ],
   "source": [
    "# Ptint Result\n",
    "\n",
    "from sklearn.metrics import precision_recall_fscore_support\n",
    "p,r,f,s = precision_recall_fscore_support(y_true, y_pred, average='micro')\n",
    "print(\"F-Score:\", round(f,3))\n",
    "from sklearn.metrics import accuracy_score\n",
    "print(\"Accuracy: \", accuracy_score(y_true, y_pred))\n",
    "\n",
    "from sklearn.metrics import classification_report\n",
    "print(classification_report(y_true, y_pred))\n",
    "from sklearn.metrics import confusion_matrix\n",
    "print(confusion_matrix(y_true, y_pred))"
   ]
  }
 ],
 "metadata": {
  "kernelspec": {
   "display_name": "Python 3",
   "language": "python",
   "name": "python3"
  },
  "language_info": {
   "codemirror_mode": {
    "name": "ipython",
    "version": 3
   },
   "file_extension": ".py",
   "mimetype": "text/x-python",
   "name": "python",
   "nbconvert_exporter": "python",
   "pygments_lexer": "ipython3",
   "version": "3.6.7"
  }
 },
 "nbformat": 4,
 "nbformat_minor": 2
}
