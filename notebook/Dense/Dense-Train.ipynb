{
 "cells": [
  {
   "cell_type": "code",
   "execution_count": 1,
   "metadata": {},
   "outputs": [],
   "source": [
    "import matplotlib.pyplot as plt\n",
    "%matplotlib inline\n",
    "import IPython.display\n",
    "import librosa.display\n",
    "import numpy as np\n",
    "import librosa\n",
    "import tensorflow as tf\n",
    "import glob"
   ]
  },
  {
   "cell_type": "markdown",
   "metadata": {},
   "source": [
    "### If you have been save the data, you don't have to preprocessing and save the data"
   ]
  },
  {
   "cell_type": "code",
   "execution_count": 2,
   "metadata": {},
   "outputs": [],
   "source": [
    "drone_path = '../../data/drone/*.wav'\n",
    "background_path = '../../data/background/*.wav'\n",
    "\n",
    "drone_files = glob.glob(drone_path)\n",
    "background_files = glob.glob(background_path)"
   ]
  },
  {
   "cell_type": "code",
   "execution_count": 3,
   "metadata": {},
   "outputs": [],
   "source": [
    "CHUNK_SIZE = 8192\n",
    "SR = 44100\n",
    "N_MFCC = 16"
   ]
  },
  {
   "cell_type": "code",
   "execution_count": 4,
   "metadata": {},
   "outputs": [],
   "source": [
    "def load(files, sr=44100):\n",
    "    [raw, sr] = librosa.load(files[0], sr=sr)\n",
    "    for f in files[1:]:\n",
    "        [array, sr] = librosa.load(f, sr=sr)\n",
    "        raw = np.hstack((raw, array))\n",
    "    print(raw.shape)\n",
    "    return raw"
   ]
  },
  {
   "cell_type": "code",
   "execution_count": 5,
   "metadata": {},
   "outputs": [
    {
     "name": "stdout",
     "output_type": "stream",
     "text": [
      "(4853614,)\n",
      "(5437727,)\n"
     ]
    }
   ],
   "source": [
    "drone_raw = load(drone_files)\n",
    "background_raw = load(background_files)"
   ]
  },
  {
   "cell_type": "markdown",
   "metadata": {},
   "source": [
    "# Data preprocessing"
   ]
  },
  {
   "cell_type": "markdown",
   "metadata": {},
   "source": [
    "Chose `mfcc4` among functions below:\n",
    "- input size 16x16; `n_mfcc=16`, used first 16 data points from 16x17 mfcc of a chunk with size 8192\n",
    "- chunk siez 8192, overlapped half of it"
   ]
  },
  {
   "cell_type": "code",
   "execution_count": 6,
   "metadata": {},
   "outputs": [],
   "source": [
    "def mfcc4(raw, label, chunk_size=8192, window_size=4096, sr=44100, n_mfcc=16, n_frame=16):\n",
    "    mfcc = np.empty((0, n_mfcc, n_frame))\n",
    "    y = []\n",
    "    print(raw.shape)\n",
    "    for i in range(0, len(raw), chunk_size//2):\n",
    "        mfcc_slice = librosa.feature.mfcc(raw[i:i+chunk_size], sr=sr, n_mfcc=n_mfcc) #n_mfcc,17\n",
    "        if mfcc_slice.shape[1] < 17:\n",
    "            print(\"small end:\", mfcc_slice.shape)\n",
    "            continue\n",
    "        mfcc_slice = mfcc_slice[:,:-1]\n",
    "        mfcc_slice = mfcc_slice.reshape((1, mfcc_slice.shape[0], mfcc_slice.shape[1]))\n",
    "        mfcc = np.vstack((mfcc, mfcc_slice))\n",
    "        y.append(label)\n",
    "    y = np.array(y)\n",
    "    return mfcc, y"
   ]
  },
  {
   "cell_type": "code",
   "execution_count": 7,
   "metadata": {},
   "outputs": [
    {
     "name": "stdout",
     "output_type": "stream",
     "text": [
      "(4853614,)\n",
      "small end: (16, 16)\n",
      "small end: (16, 8)\n",
      "(5437727,)\n",
      "small end: (16, 13)\n",
      "small end: (16, 5)\n",
      "(1183, 16, 16) (1183,)\n",
      "(1326, 16, 16) (1326,)\n"
     ]
    }
   ],
   "source": [
    "mfcc_drone, y_drone = mfcc4(drone_raw, 1)\n",
    "mfcc_background, y_background = mfcc4(background_raw, 0)\n",
    "\n",
    "print(mfcc_drone.shape, y_drone.shape)\n",
    "print(mfcc_background.shape, y_background.shape)"
   ]
  },
  {
   "cell_type": "code",
   "execution_count": 8,
   "metadata": {},
   "outputs": [
    {
     "name": "stdout",
     "output_type": "stream",
     "text": [
      "(2509, 16, 16) (2509,)\n"
     ]
    }
   ],
   "source": [
    "X = np.concatenate((mfcc_drone, mfcc_background), axis=0)\n",
    "y = np.hstack((y_drone, y_background))\n",
    "print(X.shape, y.shape)"
   ]
  },
  {
   "cell_type": "code",
   "execution_count": 9,
   "metadata": {},
   "outputs": [],
   "source": [
    "X = np.reshape(X,(X.shape[0],-1))"
   ]
  },
  {
   "cell_type": "code",
   "execution_count": 10,
   "metadata": {},
   "outputs": [
    {
     "data": {
      "text/plain": [
       "(2509, 256)"
      ]
     },
     "execution_count": 10,
     "metadata": {},
     "output_type": "execute_result"
    }
   ],
   "source": [
    "X.shape"
   ]
  },
  {
   "cell_type": "code",
   "execution_count": 11,
   "metadata": {},
   "outputs": [
    {
     "name": "stdout",
     "output_type": "stream",
     "text": [
      "(2509, 2)\n"
     ]
    }
   ],
   "source": [
    "n_labels = y.shape[0]\n",
    "n_unique_labels = 2\n",
    "y_encoded = np.zeros((n_labels, n_unique_labels))\n",
    "y_encoded[np.arange(n_labels), y] = 1\n",
    "print(y_encoded.shape)"
   ]
  },
  {
   "cell_type": "code",
   "execution_count": 12,
   "metadata": {},
   "outputs": [],
   "source": [
    "# Split data\n",
    "from sklearn import model_selection\n",
    "X_train, X_test, y_train, y_test = model_selection.train_test_split(X, y_encoded, test_size=0.2, random_state=42)\n",
    "X_train, X_val, y_train, y_val = model_selection.train_test_split(X_train, y_train, test_size=0.2, random_state=42)"
   ]
  },
  {
   "cell_type": "code",
   "execution_count": 13,
   "metadata": {},
   "outputs": [
    {
     "name": "stdout",
     "output_type": "stream",
     "text": [
      "(1605, 256) (1605, 2)\n",
      "(402, 256) (402, 2)\n",
      "(502, 256) (502, 2)\n"
     ]
    }
   ],
   "source": [
    "print(X_train.shape,y_train.shape)\n",
    "print(X_val.shape, y_val.shape)\n",
    "print(X_test.shape, y_test.shape)"
   ]
  },
  {
   "cell_type": "code",
   "execution_count": 14,
   "metadata": {},
   "outputs": [],
   "source": [
    "# Save Data\n",
    "np.save('../../model/X_train', X_train)\n",
    "np.save('../../model/X_test', X_test)\n",
    "np.save('../../model/X_val', X_val)\n",
    "np.save('../../model/y_val', y_val)\n",
    "np.save('../../model/y_train', y_train)\n",
    "np.save('../../model/y_test', y_test)"
   ]
  },
  {
   "cell_type": "markdown",
   "metadata": {},
   "source": [
    "### Until this part"
   ]
  },
  {
   "cell_type": "code",
   "execution_count": 15,
   "metadata": {},
   "outputs": [],
   "source": [
    "# Load Data\n",
    "X_train = np.load('../../model/X_train.npy')\n",
    "X_test = np.load('../../model/X_test.npy')\n",
    "X_val = np.load('../../model/X_val.npy')\n",
    "y_val = np.load('../../model/y_val.npy')\n",
    "y_train = np.load('../../model/y_train.npy')\n",
    "y_test = np.load('../../model/y_test.npy')"
   ]
  },
  {
   "cell_type": "markdown",
   "metadata": {},
   "source": [
    "# Experiment 3 - One convolutional layer /w no dropout\n"
   ]
  },
  {
   "cell_type": "markdown",
   "metadata": {},
   "source": [
    "##Experiment 3-2\n",
    "- learning rate 0.005\n",
    "- pooling stride 1x1\n",
    "- #filter 1\n",
    "- best result among every other settings\n",
    "- cost kept fluctuated during training. (0.8 -> 1.3) -- why is that?"
   ]
  },
  {
   "cell_type": "code",
   "execution_count": 16,
   "metadata": {},
   "outputs": [],
   "source": [
    "tf.reset_default_graph()"
   ]
  },
  {
   "cell_type": "code",
   "execution_count": 17,
   "metadata": {},
   "outputs": [],
   "source": [
    "n_mfcc = 16\n",
    "n_frame = 16\n",
    "n_classes = 2\n",
    "n_channels = 1\n",
    "\n",
    "kernel_size = 3\n",
    "stride = 1\n",
    "pad = \"SAME\"\n",
    "\n",
    "learning_rate = 0.0002  # 0.005\n",
    "training_epochs = 500 # 수정해야해"
   ]
  },
  {
   "cell_type": "markdown",
   "metadata": {},
   "source": [
    "# Layer"
   ]
  },
  {
   "cell_type": "markdown",
   "metadata": {},
   "source": [
    "## Experiment\n",
    "- learning rate 0.0002\n",
    "- no cnn/ pooling \n",
    "- just dense with dropout "
   ]
  },
  {
   "cell_type": "code",
   "execution_count": 18,
   "metadata": {},
   "outputs": [],
   "source": [
    "X = tf.placeholder(tf.float32, shape=[None,n_mfcc*n_frame*n_channels])\n",
    "Y = tf.placeholder(tf.float32, shape=[None,n_classes])\n",
    "\n",
    "keep_prob = tf.placeholder(tf.float32)\n",
    "\n",
    "dense1 = tf.layers.dense(inputs=X, units=256, activation=tf.nn.relu)\n",
    "dropout1 = tf.nn.dropout(dense1, keep_prob=keep_prob)\n",
    "dense2 = tf.layers.dense(inputs=dropout1, units=256, activation=tf.nn.relu)\n",
    "dropout2 = tf.nn.dropout(dense2, keep_prob=keep_prob)\n",
    "dense3 = tf.layers.dense(inputs=dropout2, units=512, activation=tf.nn.relu)\n",
    "dropout3 = tf.nn.dropout(dense3, keep_prob=keep_prob)\n",
    "dense4 = tf.layers.dense(inputs=dropout3, units=512, activation=tf.nn.relu)\n",
    "dropout4 = tf.nn.dropout(dense4, keep_prob=keep_prob)\n",
    "dense5 = tf.layers.dense(inputs=dropout4, units=256, activation=tf.nn.relu)\n",
    "dropout5 = tf.nn.dropout(dense5, keep_prob=keep_prob)\n",
    "\n",
    "logits= tf.layers.dense(inputs=dropout5, units=2)"
   ]
  },
  {
   "cell_type": "code",
   "execution_count": 19,
   "metadata": {},
   "outputs": [],
   "source": [
    "cost = tf.reduce_mean(tf.nn.softmax_cross_entropy_with_logits_v2(logits=logits, labels=Y))\n",
    "optimizer = tf.train.AdamOptimizer(learning_rate=learning_rate).minimize(cost)"
   ]
  },
  {
   "cell_type": "code",
   "execution_count": 20,
   "metadata": {},
   "outputs": [],
   "source": [
    "sess = tf.Session()\n",
    "sess.run(tf.global_variables_initializer())"
   ]
  },
  {
   "cell_type": "code",
   "execution_count": 21,
   "metadata": {},
   "outputs": [],
   "source": [
    "# model save\n",
    "model_path = '../../model/Dense/dense_model'\n",
    "saver = tf.train.Saver()"
   ]
  },
  {
   "cell_type": "markdown",
   "metadata": {},
   "source": [
    "# Trainning"
   ]
  },
  {
   "cell_type": "code",
   "execution_count": 22,
   "metadata": {},
   "outputs": [],
   "source": [
    "import math"
   ]
  },
  {
   "cell_type": "code",
   "execution_count": 23,
   "metadata": {
    "scrolled": false
   },
   "outputs": [],
   "source": [
    "with tf.name_scope(\"eval\"):\n",
    "    correct = tf.nn.in_top_k(logits, y, 1)\n",
    "    accuracy = tf.reduce_mean(tf.cast(correct, tf.float32))\n",
    "#    accuracy_summary = tf.summary.scalar('accuracy', accuracy)"
   ]
  },
  {
   "cell_type": "code",
   "execution_count": 24,
   "metadata": {},
   "outputs": [],
   "source": [
    "from sklearn.metrics import accuracy_score"
   ]
  },
  {
   "cell_type": "code",
   "execution_count": 25,
   "metadata": {
    "scrolled": false
   },
   "outputs": [
    {
     "name": "stdout",
     "output_type": "stream",
     "text": [
      "Epoch: 0001 cost =  0.906524963 \t검증 세트 정확도: 77.612%\n",
      "Epoch: 0002 cost =  0.387116460 \t검증 세트 정확도: 66.418%\n",
      "Epoch: 0003 cost =  0.262694292 \t검증 세트 정확도: 79.851%\n",
      "Epoch: 0004 cost =  0.184136954 \t검증 세트 정확도: 83.831%\n",
      "Epoch: 0005 cost =  0.129477146 \t검증 세트 정확도: 85.075%\n",
      "Epoch: 0006 cost =  0.091369703 \t검증 세트 정확도: 88.806%\n",
      "Epoch: 0007 cost =  0.068484375 \t검증 세트 정확도: 88.806%\n",
      "Epoch: 0008 cost =  0.051679953 \t검증 세트 정확도: 91.294%\n",
      "Epoch: 0009 cost =  0.038160141 \t검증 세트 정확도: 93.781%\n",
      "Epoch: 0010 cost =  0.033041392 \t검증 세트 정확도: 93.781%\n",
      "Epoch: 0011 cost =  0.020381145 \t검증 세트 정확도: 94.527%\n",
      "Epoch: 0012 cost =  0.016545590 \t검증 세트 정확도: 94.527%\n",
      "Epoch: 0013 cost =  0.016058021 \t검증 세트 정확도: 95.274%\n",
      "Epoch: 0014 cost =  0.011355522 \t검증 세트 정확도: 97.015%\n",
      "Epoch: 0015 cost =  0.010661806 \t검증 세트 정확도: 97.015%\n",
      "Epoch: 0016 cost =  0.009684641 \t검증 세트 정확도: 97.512%\n",
      "Epoch: 0017 cost =  0.007236280 \t검증 세트 정확도: 97.761%\n",
      "Epoch: 0018 cost =  0.007185570 \t검증 세트 정확도: 98.010%\n",
      "Epoch: 0019 cost =  0.005541486 \t검증 세트 정확도: 98.259%\n",
      "Epoch: 0020 cost =  0.005793965 \t검증 세트 정확도: 98.010%\n",
      "Epoch: 0021 cost =  0.005145899 \t검증 세트 정확도: 98.010%\n",
      "Epoch: 0022 cost =  0.004419749 \t검증 세트 정확도: 97.761%\n",
      "Epoch: 0023 cost =  0.005078975 \t검증 세트 정확도: 98.507%\n",
      "Epoch: 0024 cost =  0.003395414 \t검증 세트 정확도: 98.259%\n",
      "Epoch: 0025 cost =  0.003699417 \t검증 세트 정확도: 98.756%\n",
      "Epoch: 0026 cost =  0.004048192 \t검증 세트 정확도: 98.507%\n",
      "Epoch: 0027 cost =  0.002426650 \t검증 세트 정확도: 98.507%\n",
      "Epoch: 0028 cost =  0.002942471 \t검증 세트 정확도: 98.507%\n",
      "Epoch: 0029 cost =  0.002845757 \t검증 세트 정확도: 98.507%\n",
      "Epoch: 0030 cost =  0.002532283 \t검증 세트 정확도: 98.756%\n",
      "Epoch: 0031 cost =  0.002349754 \t검증 세트 정확도: 98.507%\n",
      "Epoch: 0032 cost =  0.001519527 \t검증 세트 정확도: 98.507%\n",
      "Epoch: 0033 cost =  0.001593937 \t검증 세트 정확도: 98.507%\n",
      "Epoch: 0034 cost =  0.002106554 \t검증 세트 정확도: 98.756%\n",
      "Epoch: 0035 cost =  0.002622410 \t검증 세트 정확도: 98.756%\n",
      "Epoch: 0036 cost =  0.002082868 \t검증 세트 정확도: 98.756%\n",
      "Epoch: 0037 cost =  0.001755772 \t검증 세트 정확도: 99.005%\n",
      "Epoch: 0038 cost =  0.001796372 \t검증 세트 정확도: 98.756%\n",
      "Epoch: 0039 cost =  0.001929121 \t검증 세트 정확도: 98.507%\n",
      "Epoch: 0040 cost =  0.002031551 \t검증 세트 정확도: 99.254%\n",
      "Epoch: 0041 cost =  0.001785021 \t검증 세트 정확도: 99.005%\n",
      "Epoch: 0042 cost =  0.001177223 \t검증 세트 정확도: 99.005%\n",
      "Epoch: 0043 cost =  0.001251642 \t검증 세트 정확도: 99.005%\n",
      "Epoch: 0044 cost =  0.001040425 \t검증 세트 정확도: 99.254%\n",
      "Epoch: 0045 cost =  0.001164366 \t검증 세트 정확도: 99.502%\n",
      "Epoch: 0046 cost =  0.001183441 \t검증 세트 정확도: 99.502%\n",
      "Epoch: 0047 cost =  0.001169296 \t검증 세트 정확도: 99.502%\n",
      "Epoch: 0048 cost =  0.001199123 \t검증 세트 정확도: 99.502%\n",
      "Epoch: 0049 cost =  0.000929560 \t검증 세트 정확도: 99.254%\n",
      "Epoch: 0050 cost =  0.000639859 \t검증 세트 정확도: 99.254%\n",
      "Epoch: 0051 cost =  0.001062786 \t검증 세트 정확도: 99.502%\n",
      "Epoch: 0052 cost =  0.000823268 \t검증 세트 정확도: 99.254%\n",
      "Epoch: 0053 cost =  0.000596008 \t검증 세트 정확도: 99.005%\n",
      "Epoch: 0054 cost =  0.001353900 \t검증 세트 정확도: 99.254%\n",
      "Epoch: 0055 cost =  0.001132070 \t검증 세트 정확도: 99.502%\n",
      "Epoch: 0056 cost =  0.000512121 \t검증 세트 정확도: 99.502%\n",
      "Epoch: 0057 cost =  0.000811536 \t검증 세트 정확도: 99.254%\n",
      "Epoch: 0058 cost =  0.000834916 \t검증 세트 정확도: 99.502%\n",
      "Epoch: 0059 cost =  0.000624941 \t검증 세트 정확도: 99.502%\n",
      "Epoch: 0060 cost =  0.000793329 \t검증 세트 정확도: 99.502%\n",
      "Epoch: 0061 cost =  0.000552434 \t검증 세트 정확도: 99.502%\n",
      "Epoch: 0062 cost =  0.000663877 \t검증 세트 정확도: 99.502%\n",
      "Epoch: 0063 cost =  0.000707794 \t검증 세트 정확도: 99.254%\n",
      "Epoch: 0064 cost =  0.000880681 \t검증 세트 정확도: 99.502%\n",
      "Epoch: 0065 cost =  0.000779400 \t검증 세트 정확도: 99.254%\n",
      "Epoch: 0066 cost =  0.000802829 \t검증 세트 정확도: 99.502%\n",
      "Epoch: 0067 cost =  0.000636593 \t검증 세트 정확도: 99.502%\n",
      "Epoch: 0068 cost =  0.000432395 \t검증 세트 정확도: 99.502%\n",
      "Epoch: 0069 cost =  0.000592619 \t검증 세트 정확도: 99.254%\n",
      "Epoch: 0070 cost =  0.000545091 \t검증 세트 정확도: 99.751%\n",
      "Epoch: 0071 cost =  0.000557366 \t검증 세트 정확도: 99.751%\n",
      "Epoch: 0072 cost =  0.000481841 \t검증 세트 정확도: 99.502%\n",
      "Epoch: 0073 cost =  0.000643739 \t검증 세트 정확도: 99.502%\n",
      "Epoch: 0074 cost =  0.000681871 \t검증 세트 정확도: 99.751%\n",
      "Epoch: 0075 cost =  0.000416207 \t검증 세트 정확도: 99.502%\n",
      "Epoch: 0076 cost =  0.000440630 \t검증 세트 정확도: 99.502%\n",
      "Epoch: 0077 cost =  0.000488976 \t검증 세트 정확도: 99.751%\n",
      "Epoch: 0078 cost =  0.000442310 \t검증 세트 정확도: 99.502%\n",
      "Epoch: 0079 cost =  0.000683672 \t검증 세트 정확도: 99.254%\n",
      "Epoch: 0080 cost =  0.000556636 \t검증 세트 정확도: 99.502%\n",
      "Epoch: 0081 cost =  0.000606673 \t검증 세트 정확도: 99.502%\n",
      "Epoch: 0082 cost =  0.000569122 \t검증 세트 정확도: 99.751%\n",
      "Epoch: 0083 cost =  0.000777629 \t검증 세트 정확도: 99.005%\n",
      "Epoch: 0084 cost =  0.001054508 \t검증 세트 정확도: 99.502%\n",
      "Epoch: 0085 cost =  0.000581996 \t검증 세트 정확도: 99.502%\n",
      "Epoch: 0086 cost =  0.000867383 \t검증 세트 정확도: 99.502%\n",
      "Epoch: 0087 cost =  0.000516859 \t검증 세트 정확도: 99.751%\n",
      "Epoch: 0088 cost =  0.000360148 \t검증 세트 정확도: 99.502%\n",
      "Epoch: 0089 cost =  0.000240690 \t검증 세트 정확도: 99.502%\n",
      "Epoch: 0090 cost =  0.000290351 \t검증 세트 정확도: 99.502%\n",
      "Epoch: 0091 cost =  0.000292946 \t검증 세트 정확도: 99.502%\n",
      "Epoch: 0092 cost =  0.000890409 \t검증 세트 정확도: 99.254%\n",
      "Epoch: 0093 cost =  0.000509053 \t검증 세트 정확도: 99.751%\n",
      "Epoch: 0094 cost =  0.000260889 \t검증 세트 정확도: 99.751%\n",
      "Epoch: 0095 cost =  0.000333041 \t검증 세트 정확도: 99.502%\n",
      "Epoch: 0096 cost =  0.000193999 \t검증 세트 정확도: 99.502%\n",
      "Epoch: 0097 cost =  0.000138371 \t검증 세트 정확도: 99.502%\n",
      "Epoch: 0098 cost =  0.000145240 \t검증 세트 정확도: 99.502%\n",
      "Epoch: 0099 cost =  0.000077629 \t검증 세트 정확도: 99.502%\n",
      "Epoch: 0100 cost =  0.000172436 \t검증 세트 정확도: 99.502%\n",
      "Epoch: 0101 cost =  0.000359388 \t검증 세트 정확도: 99.502%\n",
      "Epoch: 0102 cost =  0.000594638 \t검증 세트 정확도: 99.502%\n",
      "Epoch: 0103 cost =  0.000518040 \t검증 세트 정확도: 99.254%\n",
      "Epoch: 0104 cost =  0.000567200 \t검증 세트 정확도: 99.254%\n",
      "Epoch: 0105 cost =  0.000432648 \t검증 세트 정확도: 99.502%\n",
      "Epoch: 0106 cost =  0.000491649 \t검증 세트 정확도: 99.502%\n",
      "Epoch: 0107 cost =  0.000360780 \t검증 세트 정확도: 99.254%\n",
      "Epoch: 0108 cost =  0.000293396 \t검증 세트 정확도: 99.502%\n",
      "Epoch: 0109 cost =  0.000357734 \t검증 세트 정확도: 99.502%\n",
      "Epoch: 0110 cost =  0.000368053 \t검증 세트 정확도: 99.751%\n",
      "Epoch: 0111 cost =  0.000241092 \t검증 세트 정확도: 99.502%\n",
      "Epoch: 0112 cost =  0.000142184 \t검증 세트 정확도: 99.502%\n",
      "Epoch: 0113 cost =  0.000180972 \t검증 세트 정확도: 99.502%\n",
      "Epoch: 0114 cost =  0.000129405 \t검증 세트 정확도: 99.751%\n",
      "Epoch: 0115 cost =  0.000216061 \t검증 세트 정확도: 99.502%\n",
      "Epoch: 0116 cost =  0.000311437 \t검증 세트 정확도: 99.502%\n",
      "Epoch: 0117 cost =  0.000112347 \t검증 세트 정확도: 99.502%\n",
      "Epoch: 0118 cost =  0.000107843 \t검증 세트 정확도: 99.502%\n",
      "Epoch: 0119 cost =  0.000137445 \t검증 세트 정확도: 99.751%\n",
      "Epoch: 0120 cost =  0.000100425 \t검증 세트 정확도: 99.502%\n",
      "Epoch: 0121 cost =  0.000384595 \t검증 세트 정확도: 99.254%\n",
      "Epoch: 0122 cost =  0.001527435 \t검증 세트 정확도: 99.254%\n",
      "Epoch: 0123 cost =  0.000316253 \t검증 세트 정확도: 99.751%\n",
      "Epoch: 0124 cost =  0.000212677 \t검증 세트 정확도: 99.502%\n",
      "Epoch: 0125 cost =  0.000621690 \t검증 세트 정확도: 99.005%\n",
      "Epoch: 0126 cost =  0.000655058 \t검증 세트 정확도: 98.756%\n",
      "Epoch: 0127 cost =  0.000294442 \t검증 세트 정확도: 99.751%\n",
      "Epoch: 0128 cost =  0.000358509 \t검증 세트 정확도: 99.502%\n",
      "Epoch: 0129 cost =  0.000204837 \t검증 세트 정확도: 99.254%\n",
      "Epoch: 0130 cost =  0.000375389 \t검증 세트 정확도: 99.254%\n",
      "Epoch: 0131 cost =  0.000359869 \t검증 세트 정확도: 99.502%\n",
      "Epoch: 0132 cost =  0.000146554 \t검증 세트 정확도: 99.751%\n",
      "Epoch: 0133 cost =  0.000098473 \t검증 세트 정확도: 99.502%\n",
      "Epoch: 0134 cost =  0.000085847 \t검증 세트 정확도: 99.502%\n",
      "Epoch: 0135 cost =  0.000192344 \t검증 세트 정확도: 99.254%\n",
      "Epoch: 0136 cost =  0.000112173 \t검증 세트 정확도: 99.254%\n",
      "Epoch: 0137 cost =  0.000068032 \t검증 세트 정확도: 99.502%\n",
      "Epoch: 0138 cost =  0.000418700 \t검증 세트 정확도: 99.502%\n",
      "Epoch: 0139 cost =  0.000297238 \t검증 세트 정확도: 99.502%\n",
      "Epoch: 0140 cost =  0.000183162 \t검증 세트 정확도: 99.254%\n",
      "Epoch: 0141 cost =  0.000215473 \t검증 세트 정확도: 99.254%\n",
      "Epoch: 0142 cost =  0.000411596 \t검증 세트 정확도: 99.751%\n",
      "Epoch: 0143 cost =  0.000290773 \t검증 세트 정확도: 99.502%\n",
      "Epoch: 0144 cost =  0.000314286 \t검증 세트 정확도: 99.502%\n",
      "Epoch: 0145 cost =  0.000262767 \t검증 세트 정확도: 99.751%\n",
      "Epoch: 0146 cost =  0.000562924 \t검증 세트 정확도: 99.502%\n",
      "Epoch: 0147 cost =  0.000615611 \t검증 세트 정확도: 99.502%\n",
      "Epoch: 0148 cost =  0.000794020 \t검증 세트 정확도: 99.254%\n",
      "Epoch: 0149 cost =  0.000328458 \t검증 세트 정확도: 99.751%\n",
      "Epoch: 0150 cost =  0.000056986 \t검증 세트 정확도: 99.502%\n",
      "Epoch: 0151 cost =  0.000178535 \t검증 세트 정확도: 99.502%\n",
      "Epoch: 0152 cost =  0.000191723 \t검증 세트 정확도: 99.254%\n",
      "Epoch: 0153 cost =  0.000165697 \t검증 세트 정확도: 99.502%\n",
      "Epoch: 0154 cost =  0.000062427 \t검증 세트 정확도: 99.751%\n",
      "Epoch: 0155 cost =  0.000099155 \t검증 세트 정확도: 99.254%\n",
      "Epoch: 0156 cost =  0.000106699 \t검증 세트 정확도: 99.502%\n",
      "Epoch: 0157 cost =  0.000547928 \t검증 세트 정확도: 99.005%\n",
      "Epoch: 0158 cost =  0.000602894 \t검증 세트 정확도: 99.751%\n"
     ]
    },
    {
     "name": "stdout",
     "output_type": "stream",
     "text": [
      "Epoch: 0159 cost =  0.000299321 \t검증 세트 정확도: 99.751%\n",
      "Epoch: 0160 cost =  0.000354670 \t검증 세트 정확도: 99.254%\n",
      "Epoch: 0161 cost =  0.000575996 \t검증 세트 정확도: 98.756%\n",
      "Epoch: 0162 cost =  0.000192794 \t검증 세트 정확도: 99.502%\n",
      "Epoch: 0163 cost =  0.000050413 \t검증 세트 정확도: 99.751%\n",
      "Epoch: 0164 cost =  0.000234217 \t검증 세트 정확도: 99.502%\n",
      "Epoch: 0165 cost =  0.000291759 \t검증 세트 정확도: 99.751%\n",
      "Epoch: 0166 cost =  0.000066133 \t검증 세트 정확도: 99.502%\n",
      "Epoch: 0167 cost =  0.000074991 \t검증 세트 정확도: 99.502%\n",
      "Epoch: 0168 cost =  0.000049785 \t검증 세트 정확도: 99.502%\n",
      "Epoch: 0169 cost =  0.000014385 \t검증 세트 정확도: 99.502%\n",
      "Epoch: 0170 cost =  0.000029888 \t검증 세트 정확도: 99.502%\n",
      "Epoch: 0171 cost =  0.000013940 \t검증 세트 정확도: 99.751%\n",
      "Epoch: 0172 cost =  0.000049512 \t검증 세트 정확도: 99.751%\n",
      "Epoch: 0173 cost =  0.000047262 \t검증 세트 정확도: 99.502%\n",
      "Epoch: 0174 cost =  0.000060735 \t검증 세트 정확도: 99.751%\n",
      "Epoch: 0175 cost =  0.000015047 \t검증 세트 정확도: 99.502%\n",
      "Epoch: 0176 cost =  0.000048621 \t검증 세트 정확도: 99.502%\n",
      "Epoch: 0177 cost =  0.000399231 \t검증 세트 정확도: 99.751%\n",
      "Epoch: 0178 cost =  0.000768313 \t검증 세트 정확도: 99.751%\n",
      "Epoch: 0179 cost =  0.000049150 \t검증 세트 정확도: 100.000%\n",
      "Epoch: 0180 cost =  0.000144117 \t검증 세트 정확도: 99.751%\n",
      "Epoch: 0181 cost =  0.000444949 \t검증 세트 정확도: 99.502%\n",
      "Epoch: 0182 cost =  0.000163794 \t검증 세트 정확도: 99.254%\n",
      "Epoch: 0183 cost =  0.000606147 \t검증 세트 정확도: 99.254%\n",
      "Epoch: 0184 cost =  0.000150010 \t검증 세트 정확도: 99.254%\n",
      "Epoch: 0185 cost =  0.000113197 \t검증 세트 정확도: 99.751%\n",
      "Epoch: 0186 cost =  0.000036734 \t검증 세트 정확도: 99.502%\n",
      "Epoch: 0187 cost =  0.000278414 \t검증 세트 정확도: 99.502%\n",
      "Epoch: 0188 cost =  0.000122169 \t검증 세트 정확도: 100.000%\n",
      "Epoch: 0189 cost =  0.000290457 \t검증 세트 정확도: 99.254%\n",
      "Epoch: 0190 cost =  0.000097132 \t검증 세트 정확도: 99.254%\n",
      "Epoch: 0191 cost =  0.000283337 \t검증 세트 정확도: 99.502%\n",
      "Epoch: 0192 cost =  0.000216244 \t검증 세트 정확도: 99.254%\n",
      "Epoch: 0193 cost =  0.000331575 \t검증 세트 정확도: 99.751%\n",
      "Epoch: 0194 cost =  0.000331091 \t검증 세트 정확도: 99.751%\n",
      "Epoch: 0195 cost =  0.000288018 \t검증 세트 정확도: 99.502%\n",
      "Epoch: 0196 cost =  0.000132209 \t검증 세트 정확도: 99.751%\n",
      "Epoch: 0197 cost =  0.000112221 \t검증 세트 정확도: 99.751%\n",
      "Epoch: 0198 cost =  0.000300907 \t검증 세트 정확도: 99.502%\n",
      "Epoch: 0199 cost =  0.000132157 \t검증 세트 정확도: 99.502%\n",
      "Epoch: 0200 cost =  0.000170513 \t검증 세트 정확도: 99.751%\n",
      "Epoch: 0201 cost =  0.000309600 \t검증 세트 정확도: 99.751%\n",
      "Epoch: 0202 cost =  0.000156661 \t검증 세트 정확도: 99.751%\n",
      "Epoch: 0203 cost =  0.000060886 \t검증 세트 정확도: 99.751%\n",
      "Epoch: 0204 cost =  0.000438146 \t검증 세트 정확도: 99.751%\n",
      "Epoch: 0205 cost =  0.000032332 \t검증 세트 정확도: 99.751%\n",
      "Epoch: 0206 cost =  0.000028225 \t검증 세트 정확도: 99.502%\n",
      "Epoch: 0207 cost =  0.000935668 \t검증 세트 정확도: 100.000%\n",
      "Epoch: 0208 cost =  0.000426096 \t검증 세트 정확도: 99.751%\n",
      "Epoch: 0209 cost =  0.000103616 \t검증 세트 정확도: 99.751%\n",
      "Epoch: 0210 cost =  0.000078602 \t검증 세트 정확도: 99.751%\n",
      "Epoch: 0211 cost =  0.000361116 \t검증 세트 정확도: 99.751%\n",
      "Epoch: 0212 cost =  0.000264653 \t검증 세트 정확도: 100.000%\n",
      "Epoch: 0213 cost =  0.000088535 \t검증 세트 정확도: 99.751%\n",
      "Epoch: 0214 cost =  0.000113132 \t검증 세트 정확도: 99.751%\n",
      "Epoch: 0215 cost =  0.000045346 \t검증 세트 정확도: 99.751%\n",
      "Epoch: 0216 cost =  0.000014727 \t검증 세트 정확도: 99.751%\n",
      "Epoch: 0217 cost =  0.000043864 \t검증 세트 정확도: 99.751%\n",
      "Epoch: 0218 cost =  0.000214875 \t검증 세트 정확도: 99.502%\n",
      "Epoch: 0219 cost =  0.000024883 \t검증 세트 정확도: 99.502%\n",
      "Epoch: 0220 cost =  0.000338725 \t검증 세트 정확도: 99.502%\n",
      "Epoch: 0221 cost =  0.000408789 \t검증 세트 정확도: 99.254%\n",
      "Epoch: 0222 cost =  0.000466957 \t검증 세트 정확도: 99.502%\n",
      "Epoch: 0223 cost =  0.000663764 \t검증 세트 정확도: 99.502%\n",
      "Epoch: 0224 cost =  0.000384698 \t검증 세트 정확도: 99.751%\n",
      "Epoch: 0225 cost =  0.000185587 \t검증 세트 정확도: 99.751%\n",
      "Epoch: 0226 cost =  0.000219497 \t검증 세트 정확도: 99.502%\n",
      "Epoch: 0227 cost =  0.000213756 \t검증 세트 정확도: 99.502%\n",
      "Epoch: 0228 cost =  0.000138698 \t검증 세트 정확도: 99.254%\n",
      "Epoch: 0229 cost =  0.000110671 \t검증 세트 정확도: 99.502%\n",
      "Epoch: 0230 cost =  0.000086328 \t검증 세트 정확도: 99.751%\n",
      "Epoch: 0231 cost =  0.000239260 \t검증 세트 정확도: 99.751%\n",
      "Epoch: 0232 cost =  0.000098948 \t검증 세트 정확도: 99.751%\n",
      "Epoch: 0233 cost =  0.000135534 \t검증 세트 정확도: 100.000%\n",
      "Epoch: 0234 cost =  0.000151911 \t검증 세트 정확도: 99.751%\n",
      "Epoch: 0235 cost =  0.000028390 \t검증 세트 정확도: 99.751%\n",
      "Epoch: 0236 cost =  0.000246661 \t검증 세트 정확도: 99.502%\n",
      "Epoch: 0237 cost =  0.000075098 \t검증 세트 정확도: 99.751%\n",
      "Epoch: 0238 cost =  0.000202392 \t검증 세트 정확도: 99.751%\n",
      "Epoch: 0239 cost =  0.000320426 \t검증 세트 정확도: 99.751%\n",
      "Epoch: 0240 cost =  0.000129407 \t검증 세트 정확도: 99.751%\n",
      "Epoch: 0241 cost =  0.000166267 \t검증 세트 정확도: 99.751%\n",
      "Epoch: 0242 cost =  0.000250451 \t검증 세트 정확도: 99.751%\n",
      "Epoch: 0243 cost =  0.000253010 \t검증 세트 정확도: 99.502%\n",
      "Epoch: 0244 cost =  0.000201929 \t검증 세트 정확도: 99.751%\n",
      "Epoch: 0245 cost =  0.000085031 \t검증 세트 정확도: 99.751%\n",
      "Epoch: 0246 cost =  0.000051247 \t검증 세트 정확도: 99.751%\n",
      "Epoch: 0247 cost =  0.000080557 \t검증 세트 정확도: 99.751%\n",
      "Epoch: 0248 cost =  0.000326185 \t검증 세트 정확도: 99.502%\n",
      "Epoch: 0249 cost =  0.000702830 \t검증 세트 정확도: 99.751%\n",
      "Epoch: 0250 cost =  0.000175291 \t검증 세트 정확도: 99.751%\n",
      "Epoch: 0251 cost =  0.000128228 \t검증 세트 정확도: 99.751%\n",
      "Epoch: 0252 cost =  0.000243924 \t검증 세트 정확도: 99.254%\n",
      "Epoch: 0253 cost =  0.000246068 \t검증 세트 정확도: 99.751%\n",
      "Epoch: 0254 cost =  0.000027403 \t검증 세트 정확도: 99.502%\n",
      "Epoch: 0255 cost =  0.000130579 \t검증 세트 정확도: 99.502%\n",
      "Epoch: 0256 cost =  0.000039475 \t검증 세트 정확도: 99.751%\n",
      "Epoch: 0257 cost =  0.000170593 \t검증 세트 정확도: 99.502%\n",
      "Epoch: 0258 cost =  0.000142969 \t검증 세트 정확도: 99.751%\n",
      "Epoch: 0259 cost =  0.000264951 \t검증 세트 정확도: 99.751%\n",
      "Epoch: 0260 cost =  0.000248621 \t검증 세트 정확도: 99.502%\n",
      "Epoch: 0261 cost =  0.000261930 \t검증 세트 정확도: 99.502%\n",
      "Epoch: 0262 cost =  0.000246734 \t검증 세트 정확도: 99.502%\n",
      "Epoch: 0263 cost =  0.000192647 \t검증 세트 정확도: 99.502%\n",
      "Epoch: 0264 cost =  0.000275939 \t검증 세트 정확도: 99.005%\n",
      "Epoch: 0265 cost =  0.000148255 \t검증 세트 정확도: 99.751%\n",
      "Epoch: 0266 cost =  0.000163618 \t검증 세트 정확도: 99.751%\n",
      "Epoch: 0267 cost =  0.000023959 \t검증 세트 정확도: 99.254%\n",
      "Epoch: 0268 cost =  0.000032760 \t검증 세트 정확도: 99.502%\n",
      "Epoch: 0269 cost =  0.000246634 \t검증 세트 정확도: 99.502%\n",
      "Epoch: 0270 cost =  0.000226465 \t검증 세트 정확도: 99.254%\n",
      "Epoch: 0271 cost =  0.000083411 \t검증 세트 정확도: 99.502%\n",
      "Epoch: 0272 cost =  0.000040804 \t검증 세트 정확도: 99.502%\n",
      "Epoch: 0273 cost =  0.000147039 \t검증 세트 정확도: 99.254%\n",
      "Epoch: 0274 cost =  0.000061770 \t검증 세트 정확도: 99.502%\n",
      "Epoch: 0275 cost =  0.000109358 \t검증 세트 정확도: 98.756%\n",
      "Epoch: 0276 cost =  0.000709418 \t검증 세트 정확도: 99.502%\n",
      "Epoch: 0277 cost =  0.000046613 \t검증 세트 정확도: 99.502%\n",
      "Epoch: 0278 cost =  0.000110594 \t검증 세트 정확도: 99.751%\n",
      "Epoch: 0279 cost =  0.000066468 \t검증 세트 정확도: 99.502%\n",
      "Epoch: 0280 cost =  0.000018391 \t검증 세트 정확도: 99.502%\n",
      "Epoch: 0281 cost =  0.000110286 \t검증 세트 정확도: 99.502%\n",
      "Epoch: 0282 cost =  0.000014503 \t검증 세트 정확도: 99.751%\n",
      "Epoch: 0283 cost =  0.000036610 \t검증 세트 정확도: 99.502%\n",
      "Epoch: 0284 cost =  0.000143558 \t검증 세트 정확도: 99.751%\n",
      "Epoch: 0285 cost =  0.000015141 \t검증 세트 정확도: 99.751%\n",
      "Epoch: 0286 cost =  0.000122836 \t검증 세트 정확도: 99.502%\n",
      "Epoch: 0287 cost =  0.000128129 \t검증 세트 정확도: 99.502%\n",
      "Epoch: 0288 cost =  0.000327448 \t검증 세트 정확도: 99.502%\n",
      "Epoch: 0289 cost =  0.000119977 \t검증 세트 정확도: 99.502%\n",
      "Epoch: 0290 cost =  0.000086134 \t검증 세트 정확도: 99.254%\n",
      "Epoch: 0291 cost =  0.000014135 \t검증 세트 정확도: 99.502%\n",
      "Epoch: 0292 cost =  0.000110021 \t검증 세트 정확도: 99.502%\n",
      "Epoch: 0293 cost =  0.000308270 \t검증 세트 정확도: 99.502%\n",
      "Epoch: 0294 cost =  0.000175965 \t검증 세트 정확도: 99.751%\n",
      "Epoch: 0295 cost =  0.000005781 \t검증 세트 정확도: 99.502%\n",
      "Epoch: 0296 cost =  0.000046236 \t검증 세트 정확도: 99.502%\n",
      "Epoch: 0297 cost =  0.000023837 \t검증 세트 정확도: 99.502%\n",
      "Epoch: 0298 cost =  0.000042339 \t검증 세트 정확도: 99.502%\n",
      "Epoch: 0299 cost =  0.000000556 \t검증 세트 정확도: 99.502%\n",
      "Epoch: 0300 cost =  0.000016179 \t검증 세트 정확도: 99.502%\n",
      "Epoch: 0301 cost =  0.000000601 \t검증 세트 정확도: 99.502%\n",
      "Epoch: 0302 cost =  0.000139466 \t검증 세트 정확도: 99.751%\n",
      "Epoch: 0303 cost =  0.000816828 \t검증 세트 정확도: 99.502%\n",
      "Epoch: 0304 cost =  0.000051267 \t검증 세트 정확도: 99.502%\n",
      "Epoch: 0305 cost =  0.000360706 \t검증 세트 정확도: 99.502%\n",
      "Epoch: 0306 cost =  0.000072997 \t검증 세트 정확도: 99.502%\n",
      "Epoch: 0307 cost =  0.000040112 \t검증 세트 정확도: 99.502%\n",
      "Epoch: 0308 cost =  0.000049462 \t검증 세트 정확도: 99.751%\n",
      "Epoch: 0309 cost =  0.000041688 \t검증 세트 정확도: 99.502%\n",
      "Epoch: 0310 cost =  0.000061440 \t검증 세트 정확도: 99.502%\n",
      "Epoch: 0311 cost =  0.000745285 \t검증 세트 정확도: 99.502%\n",
      "Epoch: 0312 cost =  0.000572147 \t검증 세트 정확도: 99.502%\n",
      "Epoch: 0313 cost =  0.000189887 \t검증 세트 정확도: 99.751%\n",
      "Epoch: 0314 cost =  0.000050715 \t검증 세트 정확도: 99.502%\n",
      "Epoch: 0315 cost =  0.000046338 \t검증 세트 정확도: 99.502%\n",
      "Epoch: 0316 cost =  0.000431809 \t검증 세트 정확도: 99.751%\n"
     ]
    },
    {
     "name": "stdout",
     "output_type": "stream",
     "text": [
      "Epoch: 0317 cost =  0.000237554 \t검증 세트 정확도: 99.751%\n",
      "Epoch: 0318 cost =  0.000113016 \t검증 세트 정확도: 99.751%\n",
      "Epoch: 0319 cost =  0.000289182 \t검증 세트 정확도: 99.751%\n",
      "Epoch: 0320 cost =  0.000079428 \t검증 세트 정확도: 99.751%\n",
      "Epoch: 0321 cost =  0.000240609 \t검증 세트 정확도: 99.751%\n",
      "Epoch: 0322 cost =  0.000086515 \t검증 세트 정확도: 99.751%\n",
      "Epoch: 0323 cost =  0.000059360 \t검증 세트 정확도: 99.502%\n",
      "Epoch: 0324 cost =  0.000094591 \t검증 세트 정확도: 99.751%\n",
      "Epoch: 0325 cost =  0.000081427 \t검증 세트 정확도: 99.751%\n",
      "Epoch: 0326 cost =  0.000057488 \t검증 세트 정확도: 99.751%\n",
      "Epoch: 0327 cost =  0.000071263 \t검증 세트 정확도: 99.751%\n",
      "Epoch: 0328 cost =  0.000077627 \t검증 세트 정확도: 100.000%\n",
      "Epoch: 0329 cost =  0.000014979 \t검증 세트 정확도: 99.751%\n",
      "Epoch: 0330 cost =  0.000388255 \t검증 세트 정확도: 99.751%\n",
      "Epoch: 0331 cost =  0.000037508 \t검증 세트 정확도: 99.751%\n",
      "Epoch: 0332 cost =  0.000044482 \t검증 세트 정확도: 99.751%\n",
      "Epoch: 0333 cost =  0.000090360 \t검증 세트 정확도: 99.502%\n",
      "Epoch: 0334 cost =  0.000019654 \t검증 세트 정확도: 99.751%\n",
      "Epoch: 0335 cost =  0.000200256 \t검증 세트 정확도: 99.502%\n",
      "Epoch: 0336 cost =  0.000354573 \t검증 세트 정확도: 99.751%\n",
      "Epoch: 0337 cost =  0.000252220 \t검증 세트 정확도: 99.751%\n",
      "Epoch: 0338 cost =  0.000205531 \t검증 세트 정확도: 99.502%\n",
      "Epoch: 0339 cost =  0.000194707 \t검증 세트 정확도: 99.751%\n",
      "Epoch: 0340 cost =  0.000086674 \t검증 세트 정확도: 99.751%\n",
      "Epoch: 0341 cost =  0.000041961 \t검증 세트 정확도: 99.751%\n",
      "Epoch: 0342 cost =  0.000041086 \t검증 세트 정확도: 99.502%\n",
      "Epoch: 0343 cost =  0.000032580 \t검증 세트 정확도: 99.751%\n",
      "Epoch: 0344 cost =  0.000021443 \t검증 세트 정확도: 99.502%\n",
      "Epoch: 0345 cost =  0.000054001 \t검증 세트 정확도: 99.751%\n",
      "Epoch: 0346 cost =  0.000034698 \t검증 세트 정확도: 99.751%\n",
      "Epoch: 0347 cost =  0.000133215 \t검증 세트 정확도: 99.502%\n",
      "Epoch: 0348 cost =  0.000309227 \t검증 세트 정확도: 99.254%\n",
      "Epoch: 0349 cost =  0.001149603 \t검증 세트 정확도: 99.502%\n",
      "Epoch: 0350 cost =  0.000114261 \t검증 세트 정확도: 99.502%\n",
      "Epoch: 0351 cost =  0.000088461 \t검증 세트 정확도: 99.502%\n",
      "Epoch: 0352 cost =  0.000122655 \t검증 세트 정확도: 99.502%\n",
      "Epoch: 0353 cost =  0.000021803 \t검증 세트 정확도: 99.751%\n",
      "Epoch: 0354 cost =  0.000032898 \t검증 세트 정확도: 99.751%\n",
      "Epoch: 0355 cost =  0.000023192 \t검증 세트 정확도: 99.751%\n",
      "Epoch: 0356 cost =  0.000132344 \t검증 세트 정확도: 99.751%\n",
      "Epoch: 0357 cost =  0.000026525 \t검증 세트 정확도: 99.751%\n",
      "Epoch: 0358 cost =  0.000059705 \t검증 세트 정확도: 99.751%\n",
      "Epoch: 0359 cost =  0.000000531 \t검증 세트 정확도: 99.751%\n",
      "Epoch: 0360 cost =  0.000158750 \t검증 세트 정확도: 100.000%\n",
      "Epoch: 0361 cost =  0.000134238 \t검증 세트 정확도: 100.000%\n",
      "Epoch: 0362 cost =  0.000528198 \t검증 세트 정확도: 99.751%\n",
      "Epoch: 0363 cost =  0.000364483 \t검증 세트 정확도: 99.502%\n",
      "Epoch: 0364 cost =  0.000105778 \t검증 세트 정확도: 100.000%\n",
      "Epoch: 0365 cost =  0.000069204 \t검증 세트 정확도: 99.751%\n",
      "Epoch: 0366 cost =  0.000163818 \t검증 세트 정확도: 99.502%\n",
      "Epoch: 0367 cost =  0.000083517 \t검증 세트 정확도: 99.751%\n",
      "Epoch: 0368 cost =  0.000009012 \t검증 세트 정확도: 99.751%\n",
      "Epoch: 0369 cost =  0.000098605 \t검증 세트 정확도: 99.751%\n",
      "Epoch: 0370 cost =  0.000140681 \t검증 세트 정확도: 99.751%\n",
      "Epoch: 0371 cost =  0.000013787 \t검증 세트 정확도: 99.751%\n",
      "Epoch: 0372 cost =  0.000039468 \t검증 세트 정확도: 99.751%\n",
      "Epoch: 0373 cost =  0.000063709 \t검증 세트 정확도: 99.751%\n",
      "Epoch: 0374 cost =  0.000004870 \t검증 세트 정확도: 99.751%\n",
      "Epoch: 0375 cost =  0.000058086 \t검증 세트 정확도: 99.751%\n",
      "Epoch: 0376 cost =  0.000228276 \t검증 세트 정확도: 99.751%\n",
      "Epoch: 0377 cost =  0.000006612 \t검증 세트 정확도: 99.751%\n",
      "Epoch: 0378 cost =  0.000142215 \t검증 세트 정확도: 99.502%\n",
      "Epoch: 0379 cost =  0.000293999 \t검증 세트 정확도: 99.254%\n",
      "Epoch: 0380 cost =  0.000126788 \t검증 세트 정확도: 99.502%\n",
      "Epoch: 0381 cost =  0.000011623 \t검증 세트 정확도: 99.751%\n",
      "Epoch: 0382 cost =  0.000040001 \t검증 세트 정확도: 99.254%\n",
      "Epoch: 0383 cost =  0.000722872 \t검증 세트 정확도: 99.751%\n",
      "Epoch: 0384 cost =  0.000106901 \t검증 세트 정확도: 100.000%\n",
      "Epoch: 0385 cost =  0.000171895 \t검증 세트 정확도: 99.502%\n",
      "Epoch: 0386 cost =  0.000403740 \t검증 세트 정확도: 99.502%\n",
      "Epoch: 0387 cost =  0.000075945 \t검증 세트 정확도: 99.751%\n",
      "Epoch: 0388 cost =  0.000062558 \t검증 세트 정확도: 99.751%\n",
      "Epoch: 0389 cost =  0.000414042 \t검증 세트 정확도: 99.751%\n",
      "Epoch: 0390 cost =  0.000074508 \t검증 세트 정확도: 99.751%\n",
      "Epoch: 0391 cost =  0.000035340 \t검증 세트 정확도: 99.751%\n",
      "Epoch: 0392 cost =  0.000215074 \t검증 세트 정확도: 99.751%\n",
      "Epoch: 0393 cost =  0.000127493 \t검증 세트 정확도: 99.751%\n",
      "Epoch: 0394 cost =  0.000410362 \t검증 세트 정확도: 99.751%\n",
      "Epoch: 0395 cost =  0.000120664 \t검증 세트 정확도: 99.751%\n",
      "Epoch: 0396 cost =  0.000128829 \t검증 세트 정확도: 99.502%\n",
      "Epoch: 0397 cost =  0.000028233 \t검증 세트 정확도: 99.751%\n",
      "Epoch: 0398 cost =  0.000078568 \t검증 세트 정확도: 99.751%\n",
      "Epoch: 0399 cost =  0.000067799 \t검증 세트 정확도: 99.502%\n",
      "Epoch: 0400 cost =  0.000075758 \t검증 세트 정확도: 99.751%\n",
      "Epoch: 0401 cost =  0.000011943 \t검증 세트 정확도: 99.502%\n",
      "Epoch: 0402 cost =  0.000006989 \t검증 세트 정확도: 99.502%\n",
      "Epoch: 0403 cost =  0.000529360 \t검증 세트 정확도: 99.502%\n",
      "Epoch: 0404 cost =  0.000057115 \t검증 세트 정확도: 99.751%\n",
      "Epoch: 0405 cost =  0.000245620 \t검증 세트 정확도: 99.751%\n",
      "Epoch: 0406 cost =  0.000108944 \t검증 세트 정확도: 99.502%\n",
      "Epoch: 0407 cost =  0.000082763 \t검증 세트 정확도: 99.502%\n",
      "Epoch: 0408 cost =  0.000016510 \t검증 세트 정확도: 99.751%\n",
      "Epoch: 0409 cost =  0.000522726 \t검증 세트 정확도: 99.254%\n",
      "Epoch: 0410 cost =  0.001420886 \t검증 세트 정확도: 100.000%\n",
      "Epoch: 0411 cost =  0.000349698 \t검증 세트 정확도: 99.502%\n",
      "Epoch: 0412 cost =  0.000124196 \t검증 세트 정확도: 99.254%\n",
      "Epoch: 0413 cost =  0.000069481 \t검증 세트 정확도: 99.502%\n",
      "Epoch: 0414 cost =  0.000069948 \t검증 세트 정확도: 99.502%\n",
      "Epoch: 0415 cost =  0.000122230 \t검증 세트 정확도: 99.751%\n",
      "Epoch: 0416 cost =  0.000468514 \t검증 세트 정확도: 100.000%\n",
      "Epoch: 0417 cost =  0.000408096 \t검증 세트 정확도: 100.000%\n",
      "Epoch: 0418 cost =  0.000084223 \t검증 세트 정확도: 100.000%\n",
      "Epoch: 0419 cost =  0.000059576 \t검증 세트 정확도: 99.751%\n",
      "Epoch: 0420 cost =  0.000037936 \t검증 세트 정확도: 99.751%\n",
      "Epoch: 0421 cost =  0.000056095 \t검증 세트 정확도: 99.751%\n",
      "Epoch: 0422 cost =  0.000004210 \t검증 세트 정확도: 99.751%\n",
      "Epoch: 0423 cost =  0.000159098 \t검증 세트 정확도: 99.751%\n",
      "Epoch: 0424 cost =  0.000016343 \t검증 세트 정확도: 99.751%\n",
      "Epoch: 0425 cost =  0.000000898 \t검증 세트 정확도: 99.751%\n",
      "Epoch: 0426 cost =  0.000003143 \t검증 세트 정확도: 99.751%\n",
      "Epoch: 0427 cost =  0.000027218 \t검증 세트 정확도: 99.751%\n",
      "Epoch: 0428 cost =  0.000207105 \t검증 세트 정확도: 99.751%\n",
      "Epoch: 0429 cost =  0.000134897 \t검증 세트 정확도: 99.751%\n",
      "Epoch: 0430 cost =  0.000036983 \t검증 세트 정확도: 99.751%\n",
      "Epoch: 0431 cost =  0.000054545 \t검증 세트 정확도: 99.751%\n",
      "Epoch: 0432 cost =  0.000510072 \t검증 세트 정확도: 99.751%\n",
      "Epoch: 0433 cost =  0.000137928 \t검증 세트 정확도: 99.751%\n",
      "Epoch: 0434 cost =  0.000252589 \t검증 세트 정확도: 99.751%\n",
      "Epoch: 0435 cost =  0.000289669 \t검증 세트 정확도: 99.502%\n",
      "Epoch: 0436 cost =  0.000164457 \t검증 세트 정확도: 99.502%\n",
      "Epoch: 0437 cost =  0.000330145 \t검증 세트 정확도: 99.751%\n",
      "Epoch: 0438 cost =  0.000149621 \t검증 세트 정확도: 99.751%\n",
      "Epoch: 0439 cost =  0.000112312 \t검증 세트 정확도: 100.000%\n",
      "Epoch: 0440 cost =  0.000537873 \t검증 세트 정확도: 100.000%\n",
      "Epoch: 0441 cost =  0.000194592 \t검증 세트 정확도: 100.000%\n",
      "Epoch: 0442 cost =  0.000073373 \t검증 세트 정확도: 99.751%\n",
      "Epoch: 0443 cost =  0.000037139 \t검증 세트 정확도: 99.502%\n",
      "Epoch: 0444 cost =  0.000007347 \t검증 세트 정확도: 99.751%\n",
      "Epoch: 0445 cost =  0.000028215 \t검증 세트 정확도: 99.751%\n",
      "Epoch: 0446 cost =  0.000057246 \t검증 세트 정확도: 99.751%\n",
      "Epoch: 0447 cost =  0.000008469 \t검증 세트 정확도: 99.751%\n",
      "Epoch: 0448 cost =  0.000536854 \t검증 세트 정확도: 99.005%\n",
      "Epoch: 0449 cost =  0.000609590 \t검증 세트 정확도: 100.000%\n",
      "Epoch: 0450 cost =  0.000251596 \t검증 세트 정확도: 99.751%\n",
      "Epoch: 0451 cost =  0.000553050 \t검증 세트 정확도: 99.751%\n",
      "Epoch: 0452 cost =  0.000301375 \t검증 세트 정확도: 99.751%\n",
      "Epoch: 0453 cost =  0.000123339 \t검증 세트 정확도: 99.254%\n",
      "Epoch: 0454 cost =  0.000058589 \t검증 세트 정확도: 99.502%\n",
      "Epoch: 0455 cost =  0.000024459 \t검증 세트 정확도: 99.502%\n",
      "Epoch: 0456 cost =  0.000019804 \t검증 세트 정확도: 99.502%\n",
      "Epoch: 0457 cost =  0.000030932 \t검증 세트 정확도: 99.502%\n",
      "Epoch: 0458 cost =  0.000022834 \t검증 세트 정확도: 99.502%\n",
      "Epoch: 0459 cost =  0.000151165 \t검증 세트 정확도: 99.502%\n",
      "Epoch: 0460 cost =  0.000541177 \t검증 세트 정확도: 99.502%\n",
      "Epoch: 0461 cost =  0.000808048 \t검증 세트 정확도: 99.751%\n",
      "Epoch: 0462 cost =  0.000174839 \t검증 세트 정확도: 99.751%\n",
      "Epoch: 0463 cost =  0.000036661 \t검증 세트 정확도: 99.751%\n",
      "Epoch: 0464 cost =  0.000040809 \t검증 세트 정확도: 99.751%\n",
      "Epoch: 0465 cost =  0.000005379 \t검증 세트 정확도: 99.751%\n",
      "Epoch: 0466 cost =  0.000001073 \t검증 세트 정확도: 99.751%\n",
      "Epoch: 0467 cost =  0.000098205 \t검증 세트 정확도: 100.000%\n",
      "Epoch: 0468 cost =  0.000137925 \t검증 세트 정확도: 99.751%\n",
      "Epoch: 0469 cost =  0.000090913 \t검증 세트 정확도: 99.751%\n",
      "Epoch: 0470 cost =  0.000007225 \t검증 세트 정확도: 99.751%\n",
      "Epoch: 0471 cost =  0.000143440 \t검증 세트 정확도: 99.751%\n",
      "Epoch: 0472 cost =  0.000068317 \t검증 세트 정확도: 99.502%\n",
      "Epoch: 0473 cost =  0.000265549 \t검증 세트 정확도: 99.751%\n",
      "Epoch: 0474 cost =  0.000117330 \t검증 세트 정확도: 100.000%\n"
     ]
    },
    {
     "name": "stdout",
     "output_type": "stream",
     "text": [
      "Epoch: 0475 cost =  0.000148498 \t검증 세트 정확도: 99.751%\n",
      "Epoch: 0476 cost =  0.000163028 \t검증 세트 정확도: 99.751%\n",
      "Epoch: 0477 cost =  0.000027347 \t검증 세트 정확도: 99.751%\n",
      "Epoch: 0478 cost =  0.000230557 \t검증 세트 정확도: 99.751%\n",
      "Epoch: 0479 cost =  0.000063500 \t검증 세트 정확도: 99.751%\n",
      "Epoch: 0480 cost =  0.000129783 \t검증 세트 정확도: 99.751%\n",
      "Epoch: 0481 cost =  0.000202562 \t검증 세트 정확도: 99.751%\n",
      "Epoch: 0482 cost =  0.000596034 \t검증 세트 정확도: 99.751%\n",
      "Epoch: 0483 cost =  0.000065161 \t검증 세트 정확도: 99.751%\n",
      "Epoch: 0484 cost =  0.000107497 \t검증 세트 정확도: 100.000%\n",
      "Epoch: 0485 cost =  0.000059963 \t검증 세트 정확도: 100.000%\n",
      "Epoch: 0486 cost =  0.000061122 \t검증 세트 정확도: 100.000%\n",
      "Epoch: 0487 cost =  0.000008870 \t검증 세트 정확도: 100.000%\n",
      "Epoch: 0488 cost =  0.000014684 \t검증 세트 정확도: 99.502%\n",
      "Epoch: 0489 cost =  0.000007068 \t검증 세트 정확도: 99.502%\n",
      "Epoch: 0490 cost =  0.000328427 \t검증 세트 정확도: 99.751%\n",
      "Epoch: 0491 cost =  0.000033888 \t검증 세트 정확도: 100.000%\n",
      "Epoch: 0492 cost =  0.000060230 \t검증 세트 정확도: 99.751%\n",
      "Epoch: 0493 cost =  0.000156428 \t검증 세트 정확도: 100.000%\n",
      "Epoch: 0494 cost =  0.000046662 \t검증 세트 정확도: 100.000%\n",
      "Epoch: 0495 cost =  0.000011149 \t검증 세트 정확도: 100.000%\n",
      "Epoch: 0496 cost =  0.000012508 \t검증 세트 정확도: 100.000%\n",
      "Epoch: 0497 cost =  0.000044892 \t검증 세트 정확도: 99.751%\n",
      "Epoch: 0498 cost =  0.000371769 \t검증 세트 정확도: 99.751%\n",
      "Epoch: 0499 cost =  0.000128502 \t검증 세트 정확도: 99.751%\n"
     ]
    },
    {
     "data": {
      "text/plain": [
       "'../../model/Dense/dense_model'"
      ]
     },
     "execution_count": 25,
     "metadata": {},
     "output_type": "execute_result"
    }
   ],
   "source": [
    "#original \n",
    "batch_size = 32\n",
    "cost_history = np.empty(shape=[1], dtype=float)\n",
    "\n",
    "for epoch in range(1,500):\n",
    "    avg_cost = 0    \n",
    "#    total_batch = int(X_train.shape[0] / batch_size)\n",
    "    for i in range( int(math.ceil(len(X_train)/batch_size)) ): # 배치 사이즈로 나눈 나머지 다 돌 수 있게 \n",
    "        x_ = X_train[batch_size * i: batch_size * (i + 1)]\n",
    "        y_ = y_train[batch_size * i: batch_size * (i + 1)]\n",
    "        feed_dict={X:x_, Y:y_, keep_prob:0.6}    \n",
    "        c, _ = sess.run([cost, optimizer], feed_dict=feed_dict)\n",
    "        cost_history = np.append(cost_history,cost)\n",
    "        avg_cost += c\n",
    "    #accuracy_val = sess.run([accuracy], feed_dict={X:X_val, Y:y_val\n",
    "    val_pred = sess.run(tf.argmax(logits,1),feed_dict={X: X_val , keep_prob:1})  \n",
    "    val_true = sess.run(tf.argmax(y_val,1))\n",
    "    accuracy_val = accuracy_score(val_pred, val_true)\n",
    "    print('Epoch:', '%04d' % (epoch), 'cost = ', '{:.9f}'.format(avg_cost / len(X_train)), \"\\t검증 세트 정확도: {:.3f}%\".format(accuracy_val * 100),)\n",
    "saver.save(sess, model_path)\n",
    "\n",
    "#if epoch% 20 == 0:\n",
    "#   save"
   ]
  },
  {
   "cell_type": "markdown",
   "metadata": {},
   "source": [
    "## Prediction"
   ]
  },
  {
   "cell_type": "code",
   "execution_count": 26,
   "metadata": {},
   "outputs": [],
   "source": [
    "y_pred = sess.run(tf.argmax(logits,1),feed_dict={X: X_test , keep_prob:1}) \n",
    "y_true = sess.run(tf.argmax(y_test,1))"
   ]
  },
  {
   "cell_type": "code",
   "execution_count": 27,
   "metadata": {},
   "outputs": [
    {
     "name": "stdout",
     "output_type": "stream",
     "text": [
      "F-Score: 0.996\n",
      "Accuracy:  0.9960159362549801\n",
      "              precision    recall  f1-score   support\n",
      "\n",
      "           0       0.99      1.00      1.00       267\n",
      "           1       1.00      0.99      1.00       235\n",
      "\n",
      "   micro avg       1.00      1.00      1.00       502\n",
      "   macro avg       1.00      1.00      1.00       502\n",
      "weighted avg       1.00      1.00      1.00       502\n",
      "\n",
      "[[267   0]\n",
      " [  2 233]]\n"
     ]
    }
   ],
   "source": [
    "# Ptint Result\n",
    "\n",
    "from sklearn.metrics import precision_recall_fscore_support\n",
    "p,r,f,s = precision_recall_fscore_support(y_true, y_pred, average='micro')\n",
    "print(\"F-Score:\", round(f,3))\n",
    "from sklearn.metrics import accuracy_score\n",
    "print(\"Accuracy: \", accuracy_score(y_true, y_pred))\n",
    "\n",
    "from sklearn.metrics import classification_report\n",
    "print(classification_report(y_true, y_pred))\n",
    "from sklearn.metrics import confusion_matrix\n",
    "print(confusion_matrix(y_true, y_pred))"
   ]
  }
 ],
 "metadata": {
  "kernelspec": {
   "display_name": "Python 3",
   "language": "python",
   "name": "python3"
  },
  "language_info": {
   "codemirror_mode": {
    "name": "ipython",
    "version": 3
   },
   "file_extension": ".py",
   "mimetype": "text/x-python",
   "name": "python",
   "nbconvert_exporter": "python",
   "pygments_lexer": "ipython3",
   "version": "3.6.7"
  }
 },
 "nbformat": 4,
 "nbformat_minor": 2
}
