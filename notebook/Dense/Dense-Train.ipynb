{
 "cells": [
  {
   "cell_type": "code",
   "execution_count": 1,
   "metadata": {},
   "outputs": [],
   "source": [
    "import matplotlib.pyplot as plt\n",
    "%matplotlib inline\n",
    "import IPython.display\n",
    "import librosa.display\n",
    "import numpy as np\n",
    "import librosa\n",
    "import tensorflow as tf\n",
    "import glob"
   ]
  },
  {
   "cell_type": "markdown",
   "metadata": {},
   "source": [
    "### If you have been save the data, you don't have to preprocessing and save the data"
   ]
  },
  {
   "cell_type": "code",
   "execution_count": 2,
   "metadata": {},
   "outputs": [],
   "source": [
    "drone_path = '../../data/drone/*.wav'\n",
    "background_path = '../../data/background/*.wav'\n",
    "\n",
    "drone_files = glob.glob(drone_path)\n",
    "background_files = glob.glob(background_path)"
   ]
  },
  {
   "cell_type": "code",
   "execution_count": 3,
   "metadata": {},
   "outputs": [],
   "source": [
    "CHUNK_SIZE = 8192\n",
    "SR = 44100\n",
    "N_MFCC = 16"
   ]
  },
  {
   "cell_type": "code",
   "execution_count": 4,
   "metadata": {},
   "outputs": [],
   "source": [
    "def load(files, sr=44100):\n",
    "    [raw, sr] = librosa.load(files[0], sr=sr)\n",
    "    for f in files[1:]:\n",
    "        [array, sr] = librosa.load(f, sr=sr)\n",
    "        raw = np.hstack((raw, array))\n",
    "    print(raw.shape)\n",
    "    return raw"
   ]
  },
  {
   "cell_type": "code",
   "execution_count": 5,
   "metadata": {},
   "outputs": [
    {
     "name": "stdout",
     "output_type": "stream",
     "text": [
      "(2983765,)\n",
      "(5437727,)\n"
     ]
    }
   ],
   "source": [
    "drone_raw = load(drone_files)\n",
    "background_raw = load(background_files)"
   ]
  },
  {
   "cell_type": "markdown",
   "metadata": {},
   "source": [
    "# Data preprocessing"
   ]
  },
  {
   "cell_type": "markdown",
   "metadata": {},
   "source": [
    "Chose `mfcc4` among functions below:\n",
    "- input size 16x16; `n_mfcc=16`, used first 16 data points from 16x17 mfcc of a chunk with size 8192\n",
    "- chunk siez 8192, overlapped half of it"
   ]
  },
  {
   "cell_type": "code",
   "execution_count": 6,
   "metadata": {},
   "outputs": [],
   "source": [
    "def mfcc4(raw, label, chunk_size=8192, window_size=4096, sr=44100, n_mfcc=16, n_frame=16):\n",
    "    mfcc = np.empty((0, n_mfcc, n_frame))\n",
    "    y = []\n",
    "    print(raw.shape)\n",
    "    for i in range(0, len(raw), chunk_size//2):\n",
    "        mfcc_slice = librosa.feature.mfcc(raw[i:i+chunk_size], sr=sr, n_mfcc=n_mfcc) #n_mfcc,17\n",
    "        if mfcc_slice.shape[1] < 17:\n",
    "            print(\"small end:\", mfcc_slice.shape)\n",
    "            continue\n",
    "        mfcc_slice = mfcc_slice[:,:-1]\n",
    "        mfcc_slice = mfcc_slice.reshape((1, mfcc_slice.shape[0], mfcc_slice.shape[1]))\n",
    "        mfcc = np.vstack((mfcc, mfcc_slice))\n",
    "        y.append(label)\n",
    "    y = np.array(y)\n",
    "    return mfcc, y"
   ]
  },
  {
   "cell_type": "code",
   "execution_count": 7,
   "metadata": {},
   "outputs": [
    {
     "name": "stdout",
     "output_type": "stream",
     "text": [
      "(2983765,)\n",
      "small end: (16, 12)\n",
      "small end: (16, 4)\n",
      "(5437727,)\n",
      "small end: (16, 13)\n",
      "small end: (16, 5)\n",
      "(727, 16, 16) (727,)\n",
      "(1326, 16, 16) (1326,)\n"
     ]
    }
   ],
   "source": [
    "mfcc_drone, y_drone = mfcc4(drone_raw, 1)\n",
    "mfcc_background, y_background = mfcc4(background_raw, 0)\n",
    "\n",
    "print(mfcc_drone.shape, y_drone.shape)\n",
    "print(mfcc_background.shape, y_background.shape)"
   ]
  },
  {
   "cell_type": "code",
   "execution_count": 8,
   "metadata": {},
   "outputs": [
    {
     "name": "stdout",
     "output_type": "stream",
     "text": [
      "(2053, 16, 16) (2053,)\n"
     ]
    }
   ],
   "source": [
    "X = np.concatenate((mfcc_drone, mfcc_background), axis=0)\n",
    "y = np.hstack((y_drone, y_background))\n",
    "print(X.shape, y.shape)"
   ]
  },
  {
   "cell_type": "code",
   "execution_count": 9,
   "metadata": {},
   "outputs": [],
   "source": [
    "X = np.reshape(X,(X.shape[0],-1))"
   ]
  },
  {
   "cell_type": "code",
   "execution_count": 10,
   "metadata": {},
   "outputs": [
    {
     "data": {
      "text/plain": [
       "(2053, 256)"
      ]
     },
     "execution_count": 10,
     "metadata": {},
     "output_type": "execute_result"
    }
   ],
   "source": [
    "X.shape"
   ]
  },
  {
   "cell_type": "code",
   "execution_count": 11,
   "metadata": {},
   "outputs": [
    {
     "name": "stdout",
     "output_type": "stream",
     "text": [
      "(2053, 2)\n"
     ]
    }
   ],
   "source": [
    "n_labels = y.shape[0]\n",
    "n_unique_labels = 2\n",
    "y_encoded = np.zeros((n_labels, n_unique_labels))\n",
    "y_encoded[np.arange(n_labels), y] = 1\n",
    "print(y_encoded.shape)"
   ]
  },
  {
   "cell_type": "code",
   "execution_count": 12,
   "metadata": {},
   "outputs": [],
   "source": [
    "# Split data\n",
    "from sklearn import model_selection\n",
    "X_train, X_test, y_train, y_test = model_selection.train_test_split(X, y_encoded, test_size=0.2, random_state=42)\n",
    "X_train, X_val, y_train, y_val = model_selection.train_test_split(X_train, y_train, test_size=0.2, random_state=42)"
   ]
  },
  {
   "cell_type": "code",
   "execution_count": 13,
   "metadata": {},
   "outputs": [
    {
     "name": "stdout",
     "output_type": "stream",
     "text": [
      "(1313, 256) (1313, 2)\n",
      "(329, 256) (329, 2)\n",
      "(411, 256) (411, 2)\n"
     ]
    }
   ],
   "source": [
    "print(X_train.shape,y_train.shape)\n",
    "print(X_val.shape, y_val.shape)\n",
    "print(X_test.shape, y_test.shape)"
   ]
  },
  {
   "cell_type": "code",
   "execution_count": 14,
   "metadata": {},
   "outputs": [],
   "source": [
    "# Save Data\n",
    "np.save('../../model/X_train', X_train)\n",
    "np.save('../../model/X_test', X_test)\n",
    "np.save('../../model/X_val', X_val)\n",
    "np.save('../../model/y_val', y_val)\n",
    "np.save('../../model/y_train', y_train)\n",
    "np.save('../../model/y_test', y_test)"
   ]
  },
  {
   "cell_type": "markdown",
   "metadata": {},
   "source": [
    "### Until this part"
   ]
  },
  {
   "cell_type": "code",
   "execution_count": 15,
   "metadata": {},
   "outputs": [],
   "source": [
    "# Load Data\n",
    "X_train = np.load('../../model/X_train.npy')\n",
    "X_test = np.load('../../model/X_test.npy')\n",
    "X_val = np.load('../../model/X_val.npy')\n",
    "y_val = np.load('../../model/y_val.npy')\n",
    "y_train = np.load('../../model/y_train.npy')\n",
    "y_test = np.load('../../model/y_test.npy')"
   ]
  },
  {
   "cell_type": "markdown",
   "metadata": {},
   "source": [
    "# Experiment 3 - One convolutional layer /w no dropout\n"
   ]
  },
  {
   "cell_type": "markdown",
   "metadata": {},
   "source": [
    "##Experiment 3-2\n",
    "- learning rate 0.005\n",
    "- pooling stride 1x1\n",
    "- #filter 1\n",
    "- best result among every other settings\n",
    "- cost kept fluctuated during training. (0.8 -> 1.3) -- why is that?"
   ]
  },
  {
   "cell_type": "code",
   "execution_count": 16,
   "metadata": {},
   "outputs": [],
   "source": [
    "tf.reset_default_graph()"
   ]
  },
  {
   "cell_type": "code",
   "execution_count": 17,
   "metadata": {},
   "outputs": [],
   "source": [
    "n_mfcc = 16\n",
    "n_frame = 16\n",
    "n_classes = 2\n",
    "n_channels = 1\n",
    "\n",
    "kernel_size = 3\n",
    "stride = 1\n",
    "pad = \"SAME\"\n",
    "\n",
    "learning_rate = 0.0002  # 0.005\n",
    "training_epochs = 500 # 수정해야해"
   ]
  },
  {
   "cell_type": "markdown",
   "metadata": {},
   "source": [
    "# Layer"
   ]
  },
  {
   "cell_type": "markdown",
   "metadata": {},
   "source": [
    "## Experiment\n",
    "- learning rate 0.0002\n",
    "- no cnn/ pooling \n",
    "- just dense with dropout "
   ]
  },
  {
   "cell_type": "code",
   "execution_count": 18,
   "metadata": {},
   "outputs": [],
   "source": [
    "X = tf.placeholder(tf.float32, shape=[None,n_mfcc*n_frame*n_channels])\n",
    "Y = tf.placeholder(tf.float32, shape=[None,n_classes])\n",
    "\n",
    "keep_prob = tf.placeholder(tf.float32)\n",
    "\n",
    "dense1 = tf.layers.dense(inputs=X, units=256, activation=tf.nn.relu)\n",
    "dropout1 = tf.nn.dropout(dense1, keep_prob=keep_prob)\n",
    "dense2 = tf.layers.dense(inputs=dropout1, units=256, activation=tf.nn.relu)\n",
    "dropout2 = tf.nn.dropout(dense2, keep_prob=keep_prob)\n",
    "dense3 = tf.layers.dense(inputs=dropout2, units=512, activation=tf.nn.relu)\n",
    "dropout3 = tf.nn.dropout(dense3, keep_prob=keep_prob)\n",
    "dense4 = tf.layers.dense(inputs=dropout3, units=512, activation=tf.nn.relu)\n",
    "dropout4 = tf.nn.dropout(dense4, keep_prob=keep_prob)\n",
    "dense5 = tf.layers.dense(inputs=dropout4, units=256, activation=tf.nn.relu)\n",
    "dropout5 = tf.nn.dropout(dense5, keep_prob=keep_prob)\n",
    "\n",
    "logits= tf.layers.dense(inputs=dropout5, units=2)"
   ]
  },
  {
   "cell_type": "code",
   "execution_count": 19,
   "metadata": {},
   "outputs": [],
   "source": [
    "cost = tf.reduce_mean(tf.nn.softmax_cross_entropy_with_logits_v2(logits=logits, labels=Y))\n",
    "optimizer = tf.train.AdamOptimizer(learning_rate=learning_rate).minimize(cost)"
   ]
  },
  {
   "cell_type": "code",
   "execution_count": 20,
   "metadata": {},
   "outputs": [],
   "source": [
    "sess = tf.Session()\n",
    "sess.run(tf.global_variables_initializer())"
   ]
  },
  {
   "cell_type": "code",
   "execution_count": 21,
   "metadata": {},
   "outputs": [],
   "source": [
    "# model save\n",
    "model_path = '../../model/Dense/dense_model'\n",
    "saver = tf.train.Saver()"
   ]
  },
  {
   "cell_type": "markdown",
   "metadata": {},
   "source": [
    "# Trainning"
   ]
  },
  {
   "cell_type": "code",
   "execution_count": 22,
   "metadata": {},
   "outputs": [],
   "source": [
    "import math"
   ]
  },
  {
   "cell_type": "code",
   "execution_count": 23,
   "metadata": {
    "scrolled": false
   },
   "outputs": [],
   "source": [
    "with tf.name_scope(\"eval\"):\n",
    "    correct = tf.nn.in_top_k(logits, y, 1)\n",
    "    accuracy = tf.reduce_mean(tf.cast(correct, tf.float32))\n",
    "#    accuracy_summary = tf.summary.scalar('accuracy', accuracy)"
   ]
  },
  {
   "cell_type": "code",
   "execution_count": 24,
   "metadata": {},
   "outputs": [],
   "source": [
    "from sklearn.metrics import accuracy_score"
   ]
  },
  {
   "cell_type": "code",
   "execution_count": 25,
   "metadata": {
    "scrolled": true
   },
   "outputs": [
    {
     "name": "stdout",
     "output_type": "stream",
     "text": [
      "Epoch: 0001 cost =  1.267700288 \t검증 세트 정확도: 87.538%\n",
      "Epoch: 0002 cost =  0.710163252 \t검증 세트 정확도: 69.605%\n",
      "Epoch: 0003 cost =  0.428599888 \t검증 세트 정확도: 73.860%\n",
      "Epoch: 0004 cost =  0.355044100 \t검증 세트 정확도: 85.714%\n",
      "Epoch: 0005 cost =  0.238385468 \t검증 세트 정확도: 89.362%\n",
      "Epoch: 0006 cost =  0.194494574 \t검증 세트 정확도: 89.666%\n",
      "Epoch: 0007 cost =  0.143887008 \t검증 세트 정확도: 89.058%\n",
      "Epoch: 0008 cost =  0.110688047 \t검증 세트 정확도: 90.881%\n",
      "Epoch: 0009 cost =  0.093429667 \t검증 세트 정확도: 94.225%\n",
      "Epoch: 0010 cost =  0.067592400 \t검증 세트 정확도: 94.529%\n",
      "Epoch: 0011 cost =  0.056040595 \t검증 세트 정확도: 95.137%\n",
      "Epoch: 0012 cost =  0.043087777 \t검증 세트 정확도: 94.833%\n",
      "Epoch: 0013 cost =  0.037788037 \t검증 세트 정확도: 95.745%\n",
      "Epoch: 0014 cost =  0.031845926 \t검증 세트 정확도: 96.657%\n",
      "Epoch: 0015 cost =  0.023784638 \t검증 세트 정확도: 96.657%\n",
      "Epoch: 0016 cost =  0.019656839 \t검증 세트 정확도: 96.960%\n",
      "Epoch: 0017 cost =  0.016433177 \t검증 세트 정확도: 98.176%\n",
      "Epoch: 0018 cost =  0.012564611 \t검증 세트 정확도: 97.872%\n",
      "Epoch: 0019 cost =  0.014379057 \t검증 세트 정확도: 98.480%\n",
      "Epoch: 0020 cost =  0.009201350 \t검증 세트 정확도: 98.784%\n",
      "Epoch: 0021 cost =  0.009359970 \t검증 세트 정확도: 98.480%\n",
      "Epoch: 0022 cost =  0.007651104 \t검증 세트 정확도: 98.784%\n",
      "Epoch: 0023 cost =  0.007173576 \t검증 세트 정확도: 98.480%\n",
      "Epoch: 0024 cost =  0.007846403 \t검증 세트 정확도: 98.784%\n",
      "Epoch: 0025 cost =  0.005914767 \t검증 세트 정확도: 98.784%\n",
      "Epoch: 0026 cost =  0.006717520 \t검증 세트 정확도: 98.784%\n",
      "Epoch: 0027 cost =  0.005085574 \t검증 세트 정확도: 98.784%\n",
      "Epoch: 0028 cost =  0.005713365 \t검증 세트 정확도: 98.784%\n",
      "Epoch: 0029 cost =  0.004233830 \t검증 세트 정확도: 98.784%\n",
      "Epoch: 0030 cost =  0.005104847 \t검증 세트 정확도: 99.088%\n",
      "Epoch: 0031 cost =  0.003921520 \t검증 세트 정확도: 99.088%\n",
      "Epoch: 0032 cost =  0.003114853 \t검증 세트 정확도: 99.088%\n",
      "Epoch: 0033 cost =  0.003886532 \t검증 세트 정확도: 99.392%\n",
      "Epoch: 0034 cost =  0.002637292 \t검증 세트 정확도: 99.392%\n",
      "Epoch: 0035 cost =  0.003953071 \t검증 세트 정확도: 99.696%\n",
      "Epoch: 0036 cost =  0.002577761 \t검증 세트 정확도: 99.088%\n",
      "Epoch: 0037 cost =  0.003714905 \t검증 세트 정확도: 99.088%\n",
      "Epoch: 0038 cost =  0.002288122 \t검증 세트 정확도: 99.392%\n",
      "Epoch: 0039 cost =  0.002189203 \t검증 세트 정확도: 99.088%\n",
      "Epoch: 0040 cost =  0.002921421 \t검증 세트 정확도: 99.392%\n",
      "Epoch: 0041 cost =  0.002624244 \t검증 세트 정확도: 99.088%\n",
      "Epoch: 0042 cost =  0.002676952 \t검증 세트 정확도: 99.392%\n",
      "Epoch: 0043 cost =  0.002290864 \t검증 세트 정확도: 99.696%\n",
      "Epoch: 0044 cost =  0.002673908 \t검증 세트 정확도: 99.696%\n",
      "Epoch: 0045 cost =  0.002511209 \t검증 세트 정확도: 99.696%\n",
      "Epoch: 0046 cost =  0.001762293 \t검증 세트 정확도: 99.392%\n",
      "Epoch: 0047 cost =  0.002831168 \t검증 세트 정확도: 99.392%\n",
      "Epoch: 0048 cost =  0.001482149 \t검증 세트 정확도: 99.392%\n",
      "Epoch: 0049 cost =  0.001389624 \t검증 세트 정확도: 99.392%\n",
      "Epoch: 0050 cost =  0.001438419 \t검증 세트 정확도: 99.696%\n",
      "Epoch: 0051 cost =  0.001433191 \t검증 세트 정확도: 99.392%\n",
      "Epoch: 0052 cost =  0.001474303 \t검증 세트 정확도: 99.392%\n",
      "Epoch: 0053 cost =  0.002017049 \t검증 세트 정확도: 99.392%\n",
      "Epoch: 0054 cost =  0.001124989 \t검증 세트 정확도: 99.392%\n",
      "Epoch: 0055 cost =  0.001415080 \t검증 세트 정확도: 99.392%\n",
      "Epoch: 0056 cost =  0.001558910 \t검증 세트 정확도: 99.392%\n",
      "Epoch: 0057 cost =  0.000871427 \t검증 세트 정확도: 99.696%\n",
      "Epoch: 0058 cost =  0.001386658 \t검증 세트 정확도: 99.392%\n",
      "Epoch: 0059 cost =  0.001766446 \t검증 세트 정확도: 99.696%\n",
      "Epoch: 0060 cost =  0.001188033 \t검증 세트 정확도: 99.392%\n",
      "Epoch: 0061 cost =  0.001440739 \t검증 세트 정확도: 99.392%\n",
      "Epoch: 0062 cost =  0.000662152 \t검증 세트 정확도: 99.392%\n",
      "Epoch: 0063 cost =  0.000921483 \t검증 세트 정확도: 99.088%\n",
      "Epoch: 0064 cost =  0.000885222 \t검증 세트 정확도: 99.088%\n",
      "Epoch: 0065 cost =  0.002062519 \t검증 세트 정확도: 99.088%\n",
      "Epoch: 0066 cost =  0.000845354 \t검증 세트 정확도: 99.392%\n",
      "Epoch: 0067 cost =  0.000878818 \t검증 세트 정확도: 99.696%\n",
      "Epoch: 0068 cost =  0.000714793 \t검증 세트 정확도: 99.392%\n",
      "Epoch: 0069 cost =  0.000719947 \t검증 세트 정확도: 99.392%\n",
      "Epoch: 0070 cost =  0.000799454 \t검증 세트 정확도: 99.392%\n",
      "Epoch: 0071 cost =  0.000706018 \t검증 세트 정확도: 99.088%\n",
      "Epoch: 0072 cost =  0.000797498 \t검증 세트 정확도: 99.392%\n",
      "Epoch: 0073 cost =  0.001320425 \t검증 세트 정확도: 99.392%\n",
      "Epoch: 0074 cost =  0.000730158 \t검증 세트 정확도: 99.392%\n",
      "Epoch: 0075 cost =  0.000567439 \t검증 세트 정확도: 99.392%\n",
      "Epoch: 0076 cost =  0.000535623 \t검증 세트 정확도: 99.392%\n",
      "Epoch: 0077 cost =  0.001022969 \t검증 세트 정확도: 99.392%\n",
      "Epoch: 0078 cost =  0.000349838 \t검증 세트 정확도: 99.392%\n",
      "Epoch: 0079 cost =  0.000542158 \t검증 세트 정확도: 99.392%\n",
      "Epoch: 0080 cost =  0.000657072 \t검증 세트 정확도: 99.392%\n",
      "Epoch: 0081 cost =  0.000840864 \t검증 세트 정확도: 99.392%\n",
      "Epoch: 0082 cost =  0.000672305 \t검증 세트 정확도: 99.696%\n",
      "Epoch: 0083 cost =  0.000638637 \t검증 세트 정확도: 99.392%\n",
      "Epoch: 0084 cost =  0.000869018 \t검증 세트 정확도: 99.696%\n",
      "Epoch: 0085 cost =  0.000109488 \t검증 세트 정확도: 99.696%\n",
      "Epoch: 0086 cost =  0.000637678 \t검증 세트 정확도: 99.392%\n",
      "Epoch: 0087 cost =  0.000379954 \t검증 세트 정확도: 99.392%\n",
      "Epoch: 0088 cost =  0.000654761 \t검증 세트 정확도: 99.392%\n",
      "Epoch: 0089 cost =  0.000391741 \t검증 세트 정확도: 99.392%\n",
      "Epoch: 0090 cost =  0.000492083 \t검증 세트 정확도: 99.088%\n",
      "Epoch: 0091 cost =  0.000585704 \t검증 세트 정확도: 99.392%\n",
      "Epoch: 0092 cost =  0.000291704 \t검증 세트 정확도: 99.392%\n",
      "Epoch: 0093 cost =  0.000529183 \t검증 세트 정확도: 99.392%\n",
      "Epoch: 0094 cost =  0.000414094 \t검증 세트 정확도: 99.392%\n",
      "Epoch: 0095 cost =  0.000409822 \t검증 세트 정확도: 99.392%\n",
      "Epoch: 0096 cost =  0.000280119 \t검증 세트 정확도: 99.392%\n",
      "Epoch: 0097 cost =  0.000166238 \t검증 세트 정확도: 99.392%\n",
      "Epoch: 0098 cost =  0.000243781 \t검증 세트 정확도: 99.392%\n",
      "Epoch: 0099 cost =  0.000458313 \t검증 세트 정확도: 99.392%\n",
      "Epoch: 0100 cost =  0.000415773 \t검증 세트 정확도: 99.696%\n",
      "Epoch: 0101 cost =  0.000579921 \t검증 세트 정확도: 99.392%\n",
      "Epoch: 0102 cost =  0.000159596 \t검증 세트 정확도: 99.696%\n",
      "Epoch: 0103 cost =  0.000283329 \t검증 세트 정확도: 99.392%\n",
      "Epoch: 0104 cost =  0.000496975 \t검증 세트 정확도: 99.392%\n",
      "Epoch: 0105 cost =  0.000404176 \t검증 세트 정확도: 99.392%\n",
      "Epoch: 0106 cost =  0.000584254 \t검증 세트 정확도: 99.392%\n",
      "Epoch: 0107 cost =  0.000528440 \t검증 세트 정확도: 99.392%\n",
      "Epoch: 0108 cost =  0.000704844 \t검증 세트 정확도: 99.392%\n",
      "Epoch: 0109 cost =  0.000696928 \t검증 세트 정확도: 99.392%\n",
      "Epoch: 0110 cost =  0.000195112 \t검증 세트 정확도: 99.696%\n",
      "Epoch: 0111 cost =  0.000453140 \t검증 세트 정확도: 99.696%\n",
      "Epoch: 0112 cost =  0.000105455 \t검증 세트 정확도: 99.696%\n",
      "Epoch: 0113 cost =  0.000275568 \t검증 세트 정확도: 99.696%\n",
      "Epoch: 0114 cost =  0.000078020 \t검증 세트 정확도: 99.696%\n",
      "Epoch: 0115 cost =  0.000131172 \t검증 세트 정확도: 99.392%\n",
      "Epoch: 0116 cost =  0.000556814 \t검증 세트 정확도: 99.696%\n",
      "Epoch: 0117 cost =  0.000682746 \t검증 세트 정확도: 99.392%\n",
      "Epoch: 0118 cost =  0.000406402 \t검증 세트 정확도: 99.392%\n",
      "Epoch: 0119 cost =  0.000221985 \t검증 세트 정확도: 99.392%\n",
      "Epoch: 0120 cost =  0.000333884 \t검증 세트 정확도: 99.392%\n",
      "Epoch: 0121 cost =  0.000163863 \t검증 세트 정확도: 99.696%\n",
      "Epoch: 0122 cost =  0.000322890 \t검증 세트 정확도: 99.392%\n",
      "Epoch: 0123 cost =  0.000954789 \t검증 세트 정확도: 99.696%\n",
      "Epoch: 0124 cost =  0.000340315 \t검증 세트 정확도: 99.392%\n",
      "Epoch: 0125 cost =  0.000353420 \t검증 세트 정확도: 99.696%\n",
      "Epoch: 0126 cost =  0.000215258 \t검증 세트 정확도: 99.696%\n",
      "Epoch: 0127 cost =  0.000456915 \t검증 세트 정확도: 99.696%\n",
      "Epoch: 0128 cost =  0.000288663 \t검증 세트 정확도: 99.392%\n",
      "Epoch: 0129 cost =  0.000379427 \t검증 세트 정확도: 99.696%\n",
      "Epoch: 0130 cost =  0.000405283 \t검증 세트 정확도: 99.696%\n",
      "Epoch: 0131 cost =  0.000342929 \t검증 세트 정확도: 99.696%\n",
      "Epoch: 0132 cost =  0.000165932 \t검증 세트 정확도: 99.392%\n",
      "Epoch: 0133 cost =  0.000161961 \t검증 세트 정확도: 99.696%\n",
      "Epoch: 0134 cost =  0.000173937 \t검증 세트 정확도: 99.696%\n",
      "Epoch: 0135 cost =  0.000123417 \t검증 세트 정확도: 99.696%\n",
      "Epoch: 0136 cost =  0.000191929 \t검증 세트 정확도: 99.392%\n",
      "Epoch: 0137 cost =  0.000206890 \t검증 세트 정확도: 99.696%\n",
      "Epoch: 0138 cost =  0.000039268 \t검증 세트 정확도: 99.696%\n",
      "Epoch: 0139 cost =  0.000307183 \t검증 세트 정확도: 99.696%\n",
      "Epoch: 0140 cost =  0.000330622 \t검증 세트 정확도: 99.696%\n",
      "Epoch: 0141 cost =  0.000260138 \t검증 세트 정확도: 99.392%\n",
      "Epoch: 0142 cost =  0.000224281 \t검증 세트 정확도: 99.392%\n",
      "Epoch: 0143 cost =  0.000710452 \t검증 세트 정확도: 99.392%\n",
      "Epoch: 0144 cost =  0.000653770 \t검증 세트 정확도: 99.696%\n",
      "Epoch: 0145 cost =  0.000316751 \t검증 세트 정확도: 100.000%\n",
      "Epoch: 0146 cost =  0.000207044 \t검증 세트 정확도: 99.392%\n",
      "Epoch: 0147 cost =  0.000198987 \t검증 세트 정확도: 99.696%\n",
      "Epoch: 0148 cost =  0.000257660 \t검증 세트 정확도: 99.696%\n",
      "Epoch: 0149 cost =  0.000220153 \t검증 세트 정확도: 99.392%\n",
      "Epoch: 0150 cost =  0.000720573 \t검증 세트 정확도: 99.392%\n",
      "Epoch: 0151 cost =  0.000467860 \t검증 세트 정확도: 99.696%\n",
      "Epoch: 0152 cost =  0.000799495 \t검증 세트 정확도: 99.696%\n",
      "Epoch: 0153 cost =  0.001526519 \t검증 세트 정확도: 99.696%\n",
      "Epoch: 0154 cost =  0.001578666 \t검증 세트 정확도: 99.696%\n",
      "Epoch: 0155 cost =  0.000456749 \t검증 세트 정확도: 99.392%\n",
      "Epoch: 0156 cost =  0.000236499 \t검증 세트 정확도: 99.696%\n",
      "Epoch: 0157 cost =  0.000191340 \t검증 세트 정확도: 99.392%\n",
      "Epoch: 0158 cost =  0.000318637 \t검증 세트 정확도: 99.696%\n"
     ]
    },
    {
     "name": "stdout",
     "output_type": "stream",
     "text": [
      "Epoch: 0159 cost =  0.000373414 \t검증 세트 정확도: 99.696%\n",
      "Epoch: 0160 cost =  0.000156948 \t검증 세트 정확도: 99.392%\n",
      "Epoch: 0161 cost =  0.000162672 \t검증 세트 정확도: 99.696%\n",
      "Epoch: 0162 cost =  0.000035539 \t검증 세트 정확도: 99.696%\n",
      "Epoch: 0163 cost =  0.000196118 \t검증 세트 정확도: 99.696%\n",
      "Epoch: 0164 cost =  0.000185784 \t검증 세트 정확도: 99.392%\n",
      "Epoch: 0165 cost =  0.000021203 \t검증 세트 정확도: 99.392%\n",
      "Epoch: 0166 cost =  0.000157234 \t검증 세트 정확도: 99.392%\n",
      "Epoch: 0167 cost =  0.000022870 \t검증 세트 정확도: 99.392%\n",
      "Epoch: 0168 cost =  0.000216679 \t검증 세트 정확도: 99.392%\n",
      "Epoch: 0169 cost =  0.000098105 \t검증 세트 정확도: 99.696%\n",
      "Epoch: 0170 cost =  0.000125876 \t검증 세트 정확도: 99.392%\n",
      "Epoch: 0171 cost =  0.000041810 \t검증 세트 정확도: 99.696%\n",
      "Epoch: 0172 cost =  0.000037822 \t검증 세트 정확도: 99.696%\n",
      "Epoch: 0173 cost =  0.000041038 \t검증 세트 정확도: 99.392%\n",
      "Epoch: 0174 cost =  0.000029843 \t검증 세트 정확도: 99.392%\n",
      "Epoch: 0175 cost =  0.000022560 \t검증 세트 정확도: 99.696%\n",
      "Epoch: 0176 cost =  0.000035756 \t검증 세트 정확도: 99.392%\n",
      "Epoch: 0177 cost =  0.000011815 \t검증 세트 정확도: 99.696%\n",
      "Epoch: 0178 cost =  0.000178020 \t검증 세트 정확도: 99.696%\n",
      "Epoch: 0179 cost =  0.000392161 \t검증 세트 정확도: 99.696%\n",
      "Epoch: 0180 cost =  0.000153076 \t검증 세트 정확도: 99.696%\n",
      "Epoch: 0181 cost =  0.000045184 \t검증 세트 정확도: 99.696%\n",
      "Epoch: 0182 cost =  0.000034100 \t검증 세트 정확도: 99.696%\n",
      "Epoch: 0183 cost =  0.000078081 \t검증 세트 정확도: 99.392%\n",
      "Epoch: 0184 cost =  0.000253897 \t검증 세트 정확도: 99.696%\n",
      "Epoch: 0185 cost =  0.000287977 \t검증 세트 정확도: 99.392%\n",
      "Epoch: 0186 cost =  0.000535960 \t검증 세트 정확도: 99.696%\n",
      "Epoch: 0187 cost =  0.000461540 \t검증 세트 정확도: 99.696%\n",
      "Epoch: 0188 cost =  0.000213777 \t검증 세트 정확도: 99.392%\n",
      "Epoch: 0189 cost =  0.000137255 \t검증 세트 정확도: 99.696%\n",
      "Epoch: 0190 cost =  0.000064954 \t검증 세트 정확도: 99.696%\n",
      "Epoch: 0191 cost =  0.000191329 \t검증 세트 정확도: 99.696%\n",
      "Epoch: 0192 cost =  0.000155376 \t검증 세트 정확도: 99.696%\n",
      "Epoch: 0193 cost =  0.000067030 \t검증 세트 정확도: 99.696%\n",
      "Epoch: 0194 cost =  0.000063064 \t검증 세트 정확도: 99.696%\n",
      "Epoch: 0195 cost =  0.000030680 \t검증 세트 정확도: 99.696%\n",
      "Epoch: 0196 cost =  0.000039263 \t검증 세트 정확도: 99.696%\n",
      "Epoch: 0197 cost =  0.000003215 \t검증 세트 정확도: 99.696%\n",
      "Epoch: 0198 cost =  0.000129298 \t검증 세트 정확도: 99.696%\n",
      "Epoch: 0199 cost =  0.001041486 \t검증 세트 정확도: 99.392%\n",
      "Epoch: 0200 cost =  0.000370657 \t검증 세트 정확도: 99.392%\n",
      "Epoch: 0201 cost =  0.000296734 \t검증 세트 정확도: 99.392%\n",
      "Epoch: 0202 cost =  0.000138904 \t검증 세트 정확도: 99.392%\n",
      "Epoch: 0203 cost =  0.000039556 \t검증 세트 정확도: 99.696%\n",
      "Epoch: 0204 cost =  0.000181618 \t검증 세트 정확도: 99.392%\n",
      "Epoch: 0205 cost =  0.000066534 \t검증 세트 정확도: 99.392%\n",
      "Epoch: 0206 cost =  0.000046396 \t검증 세트 정확도: 99.696%\n",
      "Epoch: 0207 cost =  0.000404222 \t검증 세트 정확도: 99.392%\n",
      "Epoch: 0208 cost =  0.000037582 \t검증 세트 정확도: 99.392%\n",
      "Epoch: 0209 cost =  0.000023883 \t검증 세트 정확도: 99.392%\n",
      "Epoch: 0210 cost =  0.000115120 \t검증 세트 정확도: 99.392%\n",
      "Epoch: 0211 cost =  0.000363269 \t검증 세트 정확도: 99.696%\n",
      "Epoch: 0212 cost =  0.000222459 \t검증 세트 정확도: 99.088%\n",
      "Epoch: 0213 cost =  0.000251630 \t검증 세트 정확도: 99.392%\n",
      "Epoch: 0214 cost =  0.000154626 \t검증 세트 정확도: 99.392%\n",
      "Epoch: 0215 cost =  0.000070032 \t검증 세트 정확도: 99.392%\n",
      "Epoch: 0216 cost =  0.000030718 \t검증 세트 정확도: 99.392%\n",
      "Epoch: 0217 cost =  0.000025531 \t검증 세트 정확도: 99.392%\n",
      "Epoch: 0218 cost =  0.000136426 \t검증 세트 정확도: 99.696%\n",
      "Epoch: 0219 cost =  0.000859189 \t검증 세트 정확도: 99.088%\n",
      "Epoch: 0220 cost =  0.000219288 \t검증 세트 정확도: 99.088%\n",
      "Epoch: 0221 cost =  0.000024933 \t검증 세트 정확도: 99.392%\n",
      "Epoch: 0222 cost =  0.000116620 \t검증 세트 정확도: 99.392%\n",
      "Epoch: 0223 cost =  0.000193320 \t검증 세트 정확도: 99.392%\n",
      "Epoch: 0224 cost =  0.000098480 \t검증 세트 정확도: 99.696%\n",
      "Epoch: 0225 cost =  0.000082763 \t검증 세트 정확도: 99.696%\n",
      "Epoch: 0226 cost =  0.000042521 \t검증 세트 정확도: 99.392%\n",
      "Epoch: 0227 cost =  0.000017381 \t검증 세트 정확도: 99.696%\n",
      "Epoch: 0228 cost =  0.000030079 \t검증 세트 정확도: 99.696%\n",
      "Epoch: 0229 cost =  0.000189750 \t검증 세트 정확도: 99.696%\n",
      "Epoch: 0230 cost =  0.000244050 \t검증 세트 정확도: 99.696%\n",
      "Epoch: 0231 cost =  0.000146055 \t검증 세트 정확도: 99.696%\n",
      "Epoch: 0232 cost =  0.000074536 \t검증 세트 정확도: 99.696%\n",
      "Epoch: 0233 cost =  0.000006007 \t검증 세트 정확도: 99.696%\n",
      "Epoch: 0234 cost =  0.000011115 \t검증 세트 정확도: 99.696%\n",
      "Epoch: 0235 cost =  0.000336592 \t검증 세트 정확도: 99.696%\n",
      "Epoch: 0236 cost =  0.000357361 \t검증 세트 정확도: 99.696%\n",
      "Epoch: 0237 cost =  0.000034573 \t검증 세트 정확도: 99.696%\n",
      "Epoch: 0238 cost =  0.000022579 \t검증 세트 정확도: 99.696%\n",
      "Epoch: 0239 cost =  0.000010096 \t검증 세트 정확도: 99.696%\n",
      "Epoch: 0240 cost =  0.000015337 \t검증 세트 정확도: 99.696%\n",
      "Epoch: 0241 cost =  0.000273179 \t검증 세트 정확도: 99.696%\n",
      "Epoch: 0242 cost =  0.000012529 \t검증 세트 정확도: 99.696%\n",
      "Epoch: 0243 cost =  0.000038900 \t검증 세트 정확도: 99.392%\n",
      "Epoch: 0244 cost =  0.000012032 \t검증 세트 정확도: 99.696%\n",
      "Epoch: 0245 cost =  0.000005879 \t검증 세트 정확도: 99.392%\n",
      "Epoch: 0246 cost =  0.000014853 \t검증 세트 정확도: 99.696%\n",
      "Epoch: 0247 cost =  0.000010191 \t검증 세트 정확도: 99.696%\n",
      "Epoch: 0248 cost =  0.000031523 \t검증 세트 정확도: 99.696%\n",
      "Epoch: 0249 cost =  0.000003416 \t검증 세트 정확도: 99.696%\n",
      "Epoch: 0250 cost =  0.000001788 \t검증 세트 정확도: 99.696%\n",
      "Epoch: 0251 cost =  0.000003771 \t검증 세트 정확도: 99.696%\n",
      "Epoch: 0252 cost =  0.000129241 \t검증 세트 정확도: 99.696%\n",
      "Epoch: 0253 cost =  0.001188391 \t검증 세트 정확도: 99.088%\n",
      "Epoch: 0254 cost =  0.001542627 \t검증 세트 정확도: 99.696%\n",
      "Epoch: 0255 cost =  0.000256789 \t검증 세트 정확도: 99.696%\n",
      "Epoch: 0256 cost =  0.000053436 \t검증 세트 정확도: 99.696%\n",
      "Epoch: 0257 cost =  0.000048848 \t검증 세트 정확도: 99.696%\n",
      "Epoch: 0258 cost =  0.000043033 \t검증 세트 정확도: 99.392%\n",
      "Epoch: 0259 cost =  0.000106191 \t검증 세트 정확도: 99.696%\n",
      "Epoch: 0260 cost =  0.000040818 \t검증 세트 정확도: 99.696%\n",
      "Epoch: 0261 cost =  0.000108931 \t검증 세트 정확도: 99.392%\n",
      "Epoch: 0262 cost =  0.000277754 \t검증 세트 정확도: 99.696%\n",
      "Epoch: 0263 cost =  0.000183093 \t검증 세트 정확도: 99.696%\n",
      "Epoch: 0264 cost =  0.000018600 \t검증 세트 정확도: 99.392%\n",
      "Epoch: 0265 cost =  0.000228696 \t검증 세트 정확도: 99.696%\n",
      "Epoch: 0266 cost =  0.000762880 \t검증 세트 정확도: 99.392%\n",
      "Epoch: 0267 cost =  0.000192553 \t검증 세트 정확도: 99.392%\n",
      "Epoch: 0268 cost =  0.000135744 \t검증 세트 정확도: 99.392%\n",
      "Epoch: 0269 cost =  0.000086770 \t검증 세트 정확도: 99.392%\n",
      "Epoch: 0270 cost =  0.000058176 \t검증 세트 정확도: 99.696%\n",
      "Epoch: 0271 cost =  0.000037218 \t검증 세트 정확도: 99.696%\n",
      "Epoch: 0272 cost =  0.000070163 \t검증 세트 정확도: 99.696%\n",
      "Epoch: 0273 cost =  0.000245956 \t검증 세트 정확도: 99.696%\n",
      "Epoch: 0274 cost =  0.000112048 \t검증 세트 정확도: 99.696%\n",
      "Epoch: 0275 cost =  0.000131456 \t검증 세트 정확도: 99.696%\n",
      "Epoch: 0276 cost =  0.000039054 \t검증 세트 정확도: 99.696%\n",
      "Epoch: 0277 cost =  0.000061326 \t검증 세트 정확도: 99.392%\n",
      "Epoch: 0278 cost =  0.000040239 \t검증 세트 정확도: 99.696%\n",
      "Epoch: 0279 cost =  0.000023237 \t검증 세트 정확도: 99.392%\n",
      "Epoch: 0280 cost =  0.000018833 \t검증 세트 정확도: 99.392%\n",
      "Epoch: 0281 cost =  0.000060421 \t검증 세트 정확도: 99.392%\n",
      "Epoch: 0282 cost =  0.000291617 \t검증 세트 정확도: 99.696%\n",
      "Epoch: 0283 cost =  0.000996019 \t검증 세트 정확도: 99.088%\n",
      "Epoch: 0284 cost =  0.000246823 \t검증 세트 정확도: 99.696%\n",
      "Epoch: 0285 cost =  0.000141249 \t검증 세트 정확도: 99.696%\n",
      "Epoch: 0286 cost =  0.000027928 \t검증 세트 정확도: 99.392%\n",
      "Epoch: 0287 cost =  0.000244638 \t검증 세트 정확도: 99.392%\n",
      "Epoch: 0288 cost =  0.000020994 \t검증 세트 정확도: 99.392%\n",
      "Epoch: 0289 cost =  0.000033318 \t검증 세트 정확도: 99.392%\n",
      "Epoch: 0290 cost =  0.000006770 \t검증 세트 정확도: 99.392%\n",
      "Epoch: 0291 cost =  0.000022935 \t검증 세트 정확도: 99.392%\n",
      "Epoch: 0292 cost =  0.000008963 \t검증 세트 정확도: 99.392%\n",
      "Epoch: 0293 cost =  0.000015197 \t검증 세트 정확도: 99.392%\n",
      "Epoch: 0294 cost =  0.000002449 \t검증 세트 정확도: 99.392%\n",
      "Epoch: 0295 cost =  0.000024562 \t검증 세트 정확도: 99.392%\n",
      "Epoch: 0296 cost =  0.000034537 \t검증 세트 정확도: 99.392%\n",
      "Epoch: 0297 cost =  0.000001237 \t검증 세트 정확도: 99.392%\n",
      "Epoch: 0298 cost =  0.000022516 \t검증 세트 정확도: 99.392%\n",
      "Epoch: 0299 cost =  0.000003994 \t검증 세트 정확도: 99.392%\n",
      "Epoch: 0300 cost =  0.000816371 \t검증 세트 정확도: 99.696%\n",
      "Epoch: 0301 cost =  0.000437544 \t검증 세트 정확도: 99.696%\n",
      "Epoch: 0302 cost =  0.000421462 \t검증 세트 정확도: 99.696%\n",
      "Epoch: 0303 cost =  0.000280558 \t검증 세트 정확도: 99.088%\n",
      "Epoch: 0304 cost =  0.000142112 \t검증 세트 정확도: 99.696%\n",
      "Epoch: 0305 cost =  0.000043817 \t검증 세트 정확도: 99.392%\n",
      "Epoch: 0306 cost =  0.000052317 \t검증 세트 정확도: 99.696%\n",
      "Epoch: 0307 cost =  0.000010174 \t검증 세트 정확도: 99.696%\n",
      "Epoch: 0308 cost =  0.000014454 \t검증 세트 정확도: 99.696%\n",
      "Epoch: 0309 cost =  0.000034406 \t검증 세트 정확도: 99.696%\n",
      "Epoch: 0310 cost =  0.000000902 \t검증 세트 정확도: 99.696%\n",
      "Epoch: 0311 cost =  0.000066072 \t검증 세트 정확도: 99.696%\n",
      "Epoch: 0312 cost =  0.000038104 \t검증 세트 정확도: 99.696%\n",
      "Epoch: 0313 cost =  0.000321848 \t검증 세트 정확도: 99.696%\n",
      "Epoch: 0314 cost =  0.000025482 \t검증 세트 정확도: 99.696%\n",
      "Epoch: 0315 cost =  0.000017479 \t검증 세트 정확도: 99.696%\n",
      "Epoch: 0316 cost =  0.000006588 \t검증 세트 정확도: 99.696%\n"
     ]
    },
    {
     "name": "stdout",
     "output_type": "stream",
     "text": [
      "Epoch: 0317 cost =  0.000033238 \t검증 세트 정확도: 99.696%\n",
      "Epoch: 0318 cost =  0.000091175 \t검증 세트 정확도: 99.696%\n",
      "Epoch: 0319 cost =  0.000013089 \t검증 세트 정확도: 99.696%\n",
      "Epoch: 0320 cost =  0.000235809 \t검증 세트 정확도: 99.696%\n",
      "Epoch: 0321 cost =  0.000187635 \t검증 세트 정확도: 99.696%\n",
      "Epoch: 0322 cost =  0.000100270 \t검증 세트 정확도: 99.696%\n",
      "Epoch: 0323 cost =  0.000043103 \t검증 세트 정확도: 99.696%\n",
      "Epoch: 0324 cost =  0.000305972 \t검증 세트 정확도: 99.392%\n",
      "Epoch: 0325 cost =  0.000025197 \t검증 세트 정확도: 99.392%\n",
      "Epoch: 0326 cost =  0.000183157 \t검증 세트 정확도: 99.696%\n",
      "Epoch: 0327 cost =  0.000059456 \t검증 세트 정확도: 99.696%\n",
      "Epoch: 0328 cost =  0.000353674 \t검증 세트 정확도: 99.088%\n",
      "Epoch: 0329 cost =  0.000377292 \t검증 세트 정확도: 99.696%\n",
      "Epoch: 0330 cost =  0.000105656 \t검증 세트 정확도: 99.696%\n",
      "Epoch: 0331 cost =  0.000236566 \t검증 세트 정확도: 100.000%\n",
      "Epoch: 0332 cost =  0.000627143 \t검증 세트 정확도: 99.696%\n",
      "Epoch: 0333 cost =  0.000265377 \t검증 세트 정확도: 99.696%\n",
      "Epoch: 0334 cost =  0.000049152 \t검증 세트 정확도: 99.696%\n",
      "Epoch: 0335 cost =  0.000077683 \t검증 세트 정확도: 99.696%\n",
      "Epoch: 0336 cost =  0.000028267 \t검증 세트 정확도: 99.696%\n",
      "Epoch: 0337 cost =  0.000027806 \t검증 세트 정확도: 99.696%\n",
      "Epoch: 0338 cost =  0.000000383 \t검증 세트 정확도: 99.696%\n",
      "Epoch: 0339 cost =  0.000004273 \t검증 세트 정확도: 99.696%\n",
      "Epoch: 0340 cost =  0.000038803 \t검증 세트 정확도: 99.696%\n",
      "Epoch: 0341 cost =  0.000011641 \t검증 세트 정확도: 99.696%\n",
      "Epoch: 0342 cost =  0.000071260 \t검증 세트 정확도: 99.696%\n",
      "Epoch: 0343 cost =  0.000051228 \t검증 세트 정확도: 99.696%\n",
      "Epoch: 0344 cost =  0.000642531 \t검증 세트 정확도: 99.696%\n",
      "Epoch: 0345 cost =  0.000204678 \t검증 세트 정확도: 99.696%\n",
      "Epoch: 0346 cost =  0.000012062 \t검증 세트 정확도: 99.088%\n",
      "Epoch: 0347 cost =  0.000266550 \t검증 세트 정확도: 99.088%\n",
      "Epoch: 0348 cost =  0.000872900 \t검증 세트 정확도: 99.696%\n",
      "Epoch: 0349 cost =  0.000120120 \t검증 세트 정확도: 99.696%\n",
      "Epoch: 0350 cost =  0.000475414 \t검증 세트 정확도: 99.392%\n",
      "Epoch: 0351 cost =  0.000716714 \t검증 세트 정확도: 99.392%\n",
      "Epoch: 0352 cost =  0.000081361 \t검증 세트 정확도: 99.392%\n",
      "Epoch: 0353 cost =  0.000007135 \t검증 세트 정확도: 99.392%\n",
      "Epoch: 0354 cost =  0.000005220 \t검증 세트 정확도: 99.392%\n",
      "Epoch: 0355 cost =  0.000103983 \t검증 세트 정확도: 99.392%\n",
      "Epoch: 0356 cost =  0.000105937 \t검증 세트 정확도: 99.696%\n",
      "Epoch: 0357 cost =  0.000099861 \t검증 세트 정확도: 99.696%\n",
      "Epoch: 0358 cost =  0.000002473 \t검증 세트 정확도: 99.696%\n",
      "Epoch: 0359 cost =  0.000007791 \t검증 세트 정확도: 99.696%\n",
      "Epoch: 0360 cost =  0.000532260 \t검증 세트 정확도: 99.392%\n",
      "Epoch: 0361 cost =  0.001154769 \t검증 세트 정확도: 99.088%\n",
      "Epoch: 0362 cost =  0.000325700 \t검증 세트 정확도: 99.696%\n",
      "Epoch: 0363 cost =  0.000375621 \t검증 세트 정확도: 99.392%\n",
      "Epoch: 0364 cost =  0.000199973 \t검증 세트 정확도: 99.696%\n",
      "Epoch: 0365 cost =  0.000072748 \t검증 세트 정확도: 99.696%\n",
      "Epoch: 0366 cost =  0.000271021 \t검증 세트 정확도: 99.696%\n",
      "Epoch: 0367 cost =  0.000055648 \t검증 세트 정확도: 99.696%\n",
      "Epoch: 0368 cost =  0.000018814 \t검증 세트 정확도: 99.696%\n",
      "Epoch: 0369 cost =  0.000068930 \t검증 세트 정확도: 99.696%\n",
      "Epoch: 0370 cost =  0.000025844 \t검증 세트 정확도: 99.696%\n",
      "Epoch: 0371 cost =  0.000026176 \t검증 세트 정확도: 99.696%\n",
      "Epoch: 0372 cost =  0.000036682 \t검증 세트 정확도: 99.696%\n",
      "Epoch: 0373 cost =  0.000035647 \t검증 세트 정확도: 99.696%\n",
      "Epoch: 0374 cost =  0.000003711 \t검증 세트 정확도: 99.696%\n",
      "Epoch: 0375 cost =  0.000040159 \t검증 세트 정확도: 99.696%\n",
      "Epoch: 0376 cost =  0.000044171 \t검증 세트 정확도: 99.696%\n",
      "Epoch: 0377 cost =  0.000056525 \t검증 세트 정확도: 99.696%\n",
      "Epoch: 0378 cost =  0.000091510 \t검증 세트 정확도: 99.696%\n",
      "Epoch: 0379 cost =  0.000023211 \t검증 세트 정확도: 99.392%\n",
      "Epoch: 0380 cost =  0.000013869 \t검증 세트 정확도: 99.392%\n",
      "Epoch: 0381 cost =  0.000000523 \t검증 세트 정확도: 99.392%\n",
      "Epoch: 0382 cost =  0.000000260 \t검증 세트 정확도: 99.392%\n",
      "Epoch: 0383 cost =  0.000000107 \t검증 세트 정확도: 99.392%\n",
      "Epoch: 0384 cost =  0.000005434 \t검증 세트 정확도: 99.392%\n",
      "Epoch: 0385 cost =  0.000006034 \t검증 세트 정확도: 99.696%\n",
      "Epoch: 0386 cost =  0.000013492 \t검증 세트 정확도: 99.696%\n",
      "Epoch: 0387 cost =  0.000002733 \t검증 세트 정확도: 99.696%\n",
      "Epoch: 0388 cost =  0.000017949 \t검증 세트 정확도: 99.696%\n",
      "Epoch: 0389 cost =  0.000001206 \t검증 세트 정확도: 99.696%\n",
      "Epoch: 0390 cost =  0.000000988 \t검증 세트 정확도: 99.696%\n",
      "Epoch: 0391 cost =  0.000000299 \t검증 세트 정확도: 99.696%\n",
      "Epoch: 0392 cost =  0.000000241 \t검증 세트 정확도: 99.696%\n",
      "Epoch: 0393 cost =  0.000000111 \t검증 세트 정확도: 99.696%\n",
      "Epoch: 0394 cost =  0.000000949 \t검증 세트 정확도: 99.696%\n",
      "Epoch: 0395 cost =  0.000002099 \t검증 세트 정확도: 99.696%\n",
      "Epoch: 0396 cost =  0.000202567 \t검증 세트 정확도: 99.696%\n",
      "Epoch: 0397 cost =  0.000011702 \t검증 세트 정확도: 99.696%\n",
      "Epoch: 0398 cost =  0.000023635 \t검증 세트 정확도: 99.392%\n",
      "Epoch: 0399 cost =  0.000018481 \t검증 세트 정확도: 99.392%\n"
     ]
    },
    {
     "data": {
      "text/plain": [
       "'../../model/Dense/dense_model'"
      ]
     },
     "execution_count": 25,
     "metadata": {},
     "output_type": "execute_result"
    }
   ],
   "source": [
    "#original \n",
    "batch_size = 32\n",
    "cost_history = np.empty(shape=[1], dtype=float)\n",
    "\n",
    "for epoch in range(1,400):\n",
    "    avg_cost = 0    \n",
    "#    total_batch = int(X_train.shape[0] / batch_size)\n",
    "    for i in range( int(math.ceil(len(X_train)/batch_size)) ): # 배치 사이즈로 나눈 나머지 다 돌 수 있게 \n",
    "        x_ = X_train[batch_size * i: batch_size * (i + 1)]\n",
    "        y_ = y_train[batch_size * i: batch_size * (i + 1)]\n",
    "        feed_dict={X:x_, Y:y_, keep_prob:0.6}    \n",
    "        c, _ = sess.run([cost, optimizer], feed_dict=feed_dict)\n",
    "        cost_history = np.append(cost_history,cost)\n",
    "        avg_cost += c\n",
    "    #accuracy_val = sess.run([accuracy], feed_dict={X:X_val, Y:y_val\n",
    "    val_pred = sess.run(tf.argmax(logits,1),feed_dict={X: X_val , keep_prob:1})  \n",
    "    val_true = sess.run(tf.argmax(y_val,1))\n",
    "    accuracy_val = accuracy_score(val_pred, val_true)\n",
    "    print('Epoch:', '%04d' % (epoch), 'cost = ', '{:.9f}'.format(avg_cost / len(X_train)), \"\\t검증 세트 정확도: {:.3f}%\".format(accuracy_val * 100),)\n",
    "saver.save(sess, model_path)\n",
    "\n",
    "#if epoch% 20 == 0:\n",
    "#   save"
   ]
  },
  {
   "cell_type": "markdown",
   "metadata": {},
   "source": [
    "## Prediction"
   ]
  },
  {
   "cell_type": "code",
   "execution_count": 26,
   "metadata": {},
   "outputs": [],
   "source": [
    "y_pred = sess.run(tf.argmax(logits,1),feed_dict={X: X_test , keep_prob:1}) \n",
    "y_true = sess.run(tf.argmax(y_test,1))"
   ]
  },
  {
   "cell_type": "code",
   "execution_count": 27,
   "metadata": {},
   "outputs": [
    {
     "name": "stdout",
     "output_type": "stream",
     "text": [
      "F-Score: 0.998\n",
      "Accuracy:  0.9975669099756691\n",
      "              precision    recall  f1-score   support\n",
      "\n",
      "           0       1.00      1.00      1.00       262\n",
      "           1       0.99      1.00      1.00       149\n",
      "\n",
      "   micro avg       1.00      1.00      1.00       411\n",
      "   macro avg       1.00      1.00      1.00       411\n",
      "weighted avg       1.00      1.00      1.00       411\n",
      "\n",
      "[[261   1]\n",
      " [  0 149]]\n"
     ]
    }
   ],
   "source": [
    "# Ptint Result\n",
    "\n",
    "from sklearn.metrics import precision_recall_fscore_support\n",
    "p,r,f,s = precision_recall_fscore_support(y_true, y_pred, average='micro')\n",
    "print(\"F-Score:\", round(f,3))\n",
    "from sklearn.metrics import accuracy_score\n",
    "print(\"Accuracy: \", accuracy_score(y_true, y_pred))\n",
    "\n",
    "from sklearn.metrics import classification_report\n",
    "print(classification_report(y_true, y_pred))\n",
    "from sklearn.metrics import confusion_matrix\n",
    "print(confusion_matrix(y_true, y_pred))"
   ]
  }
 ],
 "metadata": {
  "kernelspec": {
   "display_name": "Python 3",
   "language": "python",
   "name": "python3"
  },
  "language_info": {
   "codemirror_mode": {
    "name": "ipython",
    "version": 3
   },
   "file_extension": ".py",
   "mimetype": "text/x-python",
   "name": "python",
   "nbconvert_exporter": "python",
   "pygments_lexer": "ipython3",
   "version": "3.6.7"
  }
 },
 "nbformat": 4,
 "nbformat_minor": 2
}
