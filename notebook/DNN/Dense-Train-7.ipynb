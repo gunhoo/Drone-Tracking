{
 "cells": [
  {
   "cell_type": "code",
   "execution_count": 1,
   "metadata": {},
   "outputs": [],
   "source": [
    "import matplotlib.pyplot as plt\n",
    "%matplotlib inline\n",
    "import IPython.display\n",
    "import librosa.display\n",
    "import numpy as np\n",
    "import librosa\n",
    "import tensorflow as tf\n",
    "import glob"
   ]
  },
  {
   "cell_type": "markdown",
   "metadata": {},
   "source": [
    "### If you have been save the data, you don't have to preprocessing and save the data"
   ]
  },
  {
   "cell_type": "code",
   "execution_count": 2,
   "metadata": {},
   "outputs": [],
   "source": [
    "drone_path_1 = '../../data/1m/*.wav'\n",
    "drone_path_10 = '../../data/10m/*.wav'\n",
    "drone_path_20 = '../../data/20m/*.wav'\n",
    "drone_path_30 = '../../data/30m/*.wav'\n",
    "drone_path_40 = '../../data/40m/*.wav'\n",
    "drone_path_50 = '../../data/50m/*.wav'\n",
    "background_path = '../../data/background/*.wav'\n",
    "\n",
    "drone_files_1 = glob.glob(drone_path_1)\n",
    "drone_files_10 = glob.glob(drone_path_10)\n",
    "drone_files_20 = glob.glob(drone_path_20)\n",
    "drone_files_30 = glob.glob(drone_path_30)\n",
    "drone_files_40 = glob.glob(drone_path_40)\n",
    "drone_files_50 = glob.glob(drone_path_50)\n",
    "background_files = glob.glob(background_path)"
   ]
  },
  {
   "cell_type": "code",
   "execution_count": 3,
   "metadata": {},
   "outputs": [],
   "source": [
    "CHUNK_SIZE = 8192\n",
    "SR = 22050\n",
    "N_MFCC = 16"
   ]
  },
  {
   "cell_type": "code",
   "execution_count": 4,
   "metadata": {},
   "outputs": [],
   "source": [
    "def load(files, sr=22050):\n",
    "    [raw, sr] = librosa.load(files[0], sr=sr)\n",
    "    for f in files[1:]:\n",
    "        [array, sr] = librosa.load(f, sr=sr)\n",
    "        raw = np.hstack((raw, array))\n",
    "    print(raw.shape)\n",
    "    return raw"
   ]
  },
  {
   "cell_type": "code",
   "execution_count": 5,
   "metadata": {},
   "outputs": [
    {
     "name": "stdout",
     "output_type": "stream",
     "text": [
      "(2600960,)\n",
      "(2748416,)\n",
      "(2637824,)\n",
      "(2523114,)\n",
      "(2745178,)\n",
      "(2723840,)\n",
      "(6032517,)\n"
     ]
    }
   ],
   "source": [
    "drone_raw_1 = load(drone_files_1)\n",
    "drone_raw_10 = load(drone_files_10)\n",
    "drone_raw_20 = load(drone_files_20)\n",
    "drone_raw_30 = load(drone_files_30)\n",
    "drone_raw_40 = load(drone_files_40)\n",
    "drone_raw_50 = load(drone_files_50)\n",
    "\n",
    "background_raw = load(background_files)"
   ]
  },
  {
   "cell_type": "markdown",
   "metadata": {},
   "source": [
    "# Data preprocessing"
   ]
  },
  {
   "cell_type": "markdown",
   "metadata": {},
   "source": [
    "Chose `mfcc4` among functions below:\n",
    "- input size 16x16; `n_mfcc=16`, used first 16 data points from 16x17 mfcc of a chunk with size 8192\n",
    "- chunk siez 8192, overlapped half of it"
   ]
  },
  {
   "cell_type": "code",
   "execution_count": 6,
   "metadata": {},
   "outputs": [],
   "source": [
    "def mfcc4(raw, label, chunk_size=8192, window_size=4096, sr=22050, n_mfcc=16, n_frame=16):\n",
    "    mfcc = np.empty((0, n_mfcc, n_frame))\n",
    "    y = []\n",
    "    print(raw.shape)\n",
    "    for i in range(0, len(raw), chunk_size//2):\n",
    "        mfcc_slice = librosa.feature.mfcc(raw[i:i+chunk_size], sr=sr, n_mfcc=n_mfcc) #n_mfcc,17\n",
    "        if mfcc_slice.shape[1] < 17:\n",
    "            print(\"small end:\", mfcc_slice.shape)\n",
    "            continue\n",
    "        mfcc_slice = mfcc_slice[:,:-1]\n",
    "        mfcc_slice = mfcc_slice.reshape((1, mfcc_slice.shape[0], mfcc_slice.shape[1]))\n",
    "        mfcc = np.vstack((mfcc, mfcc_slice))\n",
    "        y.append(label)\n",
    "    y = np.array(y)\n",
    "    return mfcc, y"
   ]
  },
  {
   "cell_type": "code",
   "execution_count": 7,
   "metadata": {},
   "outputs": [
    {
     "name": "stdout",
     "output_type": "stream",
     "text": [
      "(2600960,)\n",
      "small end: (16, 9)\n",
      "(2748416,)\n",
      "small end: (16, 9)\n",
      "(2637824,)\n",
      "small end: (16, 9)\n",
      "(2523114,)\n",
      "small end: (16, 16)\n",
      "small end: (16, 8)\n",
      "(2745178,)\n",
      "small end: (16, 10)\n",
      "small end: (16, 2)\n",
      "(2723840,)\n",
      "small end: (16, 9)\n",
      "(6032517,)\n",
      "small end: (16, 15)\n",
      "small end: (16, 7)\n"
     ]
    }
   ],
   "source": [
    "mfcc_drone_1, y_drone_1 = mfcc4(drone_raw_1, 0)\n",
    "mfcc_drone_10, y_drone_10 = mfcc4(drone_raw_10, 1)\n",
    "mfcc_drone_20, y_drone_20 = mfcc4(drone_raw_20, 2)\n",
    "mfcc_drone_30, y_drone_30 = mfcc4(drone_raw_30, 3)\n",
    "mfcc_drone_40, y_drone_40 = mfcc4(drone_raw_40, 4)\n",
    "mfcc_drone_50, y_drone_50 = mfcc4(drone_raw_50, 5)\n",
    "\n",
    "mfcc_background, y_background = mfcc4(background_raw, 6)"
   ]
  },
  {
   "cell_type": "code",
   "execution_count": 8,
   "metadata": {},
   "outputs": [
    {
     "name": "stdout",
     "output_type": "stream",
     "text": [
      "(634, 16, 16) (634,)\n",
      "(670, 16, 16) (670,)\n",
      "(643, 16, 16) (643,)\n",
      "(614, 16, 16) (614,)\n",
      "(669, 16, 16) (669,)\n",
      "(664, 16, 16) (664,)\n",
      "(1471, 16, 16) (1471,)\n"
     ]
    }
   ],
   "source": [
    "print(mfcc_drone_1.shape, y_drone_1.shape)\n",
    "print(mfcc_drone_10.shape, y_drone_10.shape)\n",
    "print(mfcc_drone_20.shape, y_drone_20.shape)\n",
    "print(mfcc_drone_30.shape, y_drone_30.shape)\n",
    "print(mfcc_drone_40.shape, y_drone_40.shape)\n",
    "print(mfcc_drone_50.shape, y_drone_50.shape)\n",
    "print(mfcc_background.shape, y_background.shape)"
   ]
  },
  {
   "cell_type": "code",
   "execution_count": 9,
   "metadata": {},
   "outputs": [
    {
     "name": "stdout",
     "output_type": "stream",
     "text": [
      "(5365, 16, 16) (5365,)\n"
     ]
    }
   ],
   "source": [
    "X = np.concatenate((mfcc_drone_1,mfcc_drone_10,mfcc_drone_20,mfcc_drone_30,mfcc_drone_40,mfcc_drone_50, mfcc_background), axis=0)\n",
    "y = np.hstack((y_drone_1, y_drone_10, y_drone_20, y_drone_30, y_drone_40, y_drone_50, y_background))\n",
    "print(X.shape, y.shape)"
   ]
  },
  {
   "cell_type": "code",
   "execution_count": 10,
   "metadata": {},
   "outputs": [],
   "source": [
    "X = np.reshape(X,(X.shape[0],-1))"
   ]
  },
  {
   "cell_type": "code",
   "execution_count": 11,
   "metadata": {},
   "outputs": [
    {
     "data": {
      "text/plain": [
       "(5365, 256)"
      ]
     },
     "execution_count": 11,
     "metadata": {},
     "output_type": "execute_result"
    }
   ],
   "source": [
    "X.shape"
   ]
  },
  {
   "cell_type": "code",
   "execution_count": 12,
   "metadata": {},
   "outputs": [
    {
     "name": "stdout",
     "output_type": "stream",
     "text": [
      "(5365, 7)\n"
     ]
    }
   ],
   "source": [
    "n_labels = y.shape[0]\n",
    "n_unique_labels = 7\n",
    "y_encoded = np.zeros((n_labels, n_unique_labels))\n",
    "y_encoded[np.arange(n_labels), y] = 1\n",
    "print(y_encoded.shape)"
   ]
  },
  {
   "cell_type": "code",
   "execution_count": 13,
   "metadata": {},
   "outputs": [],
   "source": [
    "# Split data\n",
    "from sklearn import model_selection\n",
    "X_train, X_test, y_train, y_test = model_selection.train_test_split(X, y_encoded, test_size=0.2, random_state=42)\n",
    "X_train, X_val, y_train, y_val = model_selection.train_test_split(X_train, y_train, test_size=0.2, random_state=42)"
   ]
  },
  {
   "cell_type": "code",
   "execution_count": 14,
   "metadata": {},
   "outputs": [
    {
     "name": "stdout",
     "output_type": "stream",
     "text": [
      "(3433, 256) (3433, 7)\n",
      "(859, 256) (859, 7)\n",
      "(1073, 256) (1073, 7)\n"
     ]
    }
   ],
   "source": [
    "print(X_train.shape,y_train.shape)\n",
    "print(X_val.shape, y_val.shape)\n",
    "print(X_test.shape, y_test.shape)"
   ]
  },
  {
   "cell_type": "code",
   "execution_count": 15,
   "metadata": {},
   "outputs": [],
   "source": [
    "# Save Data\n",
    "np.save('../../model/X_train', X_train)\n",
    "np.save('../../model/X_test', X_test)\n",
    "np.save('../../model/X_val', X_val)\n",
    "np.save('../../model/y_val', y_val)\n",
    "np.save('../../model/y_train', y_train)\n",
    "np.save('../../model/y_test', y_test)"
   ]
  },
  {
   "cell_type": "markdown",
   "metadata": {},
   "source": [
    "### Until this part"
   ]
  },
  {
   "cell_type": "code",
   "execution_count": 16,
   "metadata": {},
   "outputs": [],
   "source": [
    "# Load Data\n",
    "X_train = np.load('../../model/X_train.npy')\n",
    "X_test = np.load('../../model/X_test.npy')\n",
    "X_val = np.load('../../model/X_val.npy')\n",
    "y_val = np.load('../../model/y_val.npy')\n",
    "y_train = np.load('../../model/y_train.npy')\n",
    "y_test = np.load('../../model/y_test.npy')"
   ]
  },
  {
   "cell_type": "markdown",
   "metadata": {},
   "source": [
    "# Experiment 3 - One convolutional layer /w no dropout\n"
   ]
  },
  {
   "cell_type": "markdown",
   "metadata": {},
   "source": [
    "##Experiment 3-2\n",
    "- learning rate 0.005\n",
    "- pooling stride 1x1\n",
    "- #filter 1\n",
    "- best result among every other settings\n",
    "- cost kept fluctuated during training. (0.8 -> 1.3) -- why is that?"
   ]
  },
  {
   "cell_type": "code",
   "execution_count": 17,
   "metadata": {},
   "outputs": [],
   "source": [
    "tf.reset_default_graph()"
   ]
  },
  {
   "cell_type": "code",
   "execution_count": 18,
   "metadata": {},
   "outputs": [],
   "source": [
    "n_mfcc = 16\n",
    "n_frame = 16\n",
    "n_classes = 7\n",
    "n_channels = 1\n",
    "\n",
    "kernel_size = 3\n",
    "stride = 1\n",
    "pad = \"SAME\"\n",
    "\n",
    "learning_rate = 0.0002  # 0.005\n",
    "training_epochs = 500 # 수정해야해"
   ]
  },
  {
   "cell_type": "markdown",
   "metadata": {},
   "source": [
    "# Layer"
   ]
  },
  {
   "cell_type": "markdown",
   "metadata": {},
   "source": [
    "## Experiment\n",
    "- learning rate 0.0002\n",
    "- no cnn/ pooling \n",
    "- just dense with dropout "
   ]
  },
  {
   "cell_type": "code",
   "execution_count": 19,
   "metadata": {},
   "outputs": [],
   "source": [
    "X = tf.placeholder(tf.float32, shape=[None,n_mfcc*n_frame*n_channels])\n",
    "Y = tf.placeholder(tf.float32, shape=[None,n_classes])\n",
    "\n",
    "keep_prob = tf.placeholder(tf.float32)\n",
    "\n",
    "dense1 = tf.layers.dense(inputs=X, units=256, activation=tf.nn.relu)\n",
    "dropout1 = tf.nn.dropout(dense1, keep_prob=keep_prob)\n",
    "dense2 = tf.layers.dense(inputs=dropout1, units=256, activation=tf.nn.relu)\n",
    "dropout2 = tf.nn.dropout(dense2, keep_prob=keep_prob)\n",
    "dense3 = tf.layers.dense(inputs=dropout2, units=512, activation=tf.nn.relu)\n",
    "dropout3 = tf.nn.dropout(dense3, keep_prob=keep_prob)\n",
    "dense4 = tf.layers.dense(inputs=dropout3, units=512, activation=tf.nn.relu)\n",
    "dropout4 = tf.nn.dropout(dense4, keep_prob=keep_prob)\n",
    "dense5 = tf.layers.dense(inputs=dropout4, units=256, activation=tf.nn.relu)\n",
    "dropout5 = tf.nn.dropout(dense5, keep_prob=keep_prob)\n",
    "\n",
    "logits= tf.layers.dense(inputs=dropout5, units=7)"
   ]
  },
  {
   "cell_type": "code",
   "execution_count": 20,
   "metadata": {},
   "outputs": [],
   "source": [
    "cost = tf.reduce_mean(tf.nn.softmax_cross_entropy_with_logits_v2(logits=logits, labels=Y))\n",
    "optimizer = tf.train.AdamOptimizer(learning_rate=learning_rate).minimize(cost)"
   ]
  },
  {
   "cell_type": "code",
   "execution_count": 21,
   "metadata": {},
   "outputs": [],
   "source": [
    "#sess = tf.Session()\n",
    "#\n",
    "config = tf.ConfigProto(allow_soft_placement = True)\n",
    "sess = tf.Session(config = config)\n",
    "sess.run(tf.global_variables_initializer())"
   ]
  },
  {
   "cell_type": "code",
   "execution_count": 22,
   "metadata": {},
   "outputs": [],
   "source": [
    "# model save\n",
    "model_path = '../../model/DNN/7_dense_model'\n",
    "saver = tf.train.Saver()"
   ]
  },
  {
   "cell_type": "markdown",
   "metadata": {},
   "source": [
    "# Trainning"
   ]
  },
  {
   "cell_type": "code",
   "execution_count": 23,
   "metadata": {},
   "outputs": [],
   "source": [
    "import math"
   ]
  },
  {
   "cell_type": "code",
   "execution_count": 24,
   "metadata": {
    "scrolled": false
   },
   "outputs": [],
   "source": [
    "with tf.name_scope(\"eval\"):\n",
    "    correct = tf.nn.in_top_k(logits, y, 1)\n",
    "    accuracy = tf.reduce_mean(tf.cast(correct, tf.float32))\n",
    "#    accuracy_summary = tf.summary.scalar('accuracy', accuracy)"
   ]
  },
  {
   "cell_type": "code",
   "execution_count": 25,
   "metadata": {},
   "outputs": [],
   "source": [
    "from sklearn.metrics import accuracy_score"
   ]
  },
  {
   "cell_type": "code",
   "execution_count": 26,
   "metadata": {
    "scrolled": false
   },
   "outputs": [
    {
     "name": "stdout",
     "output_type": "stream",
     "text": [
      "Epoch: 0001 cost =  1.124316566 \t검증 세트 정확도: 24.796%\n",
      "Epoch: 0002 cost =  0.272134387 \t검증 세트 정확도: 38.766%\n",
      "Epoch: 0003 cost =  0.130658376 \t검증 세트 정확도: 45.984%\n",
      "Epoch: 0004 cost =  0.081186905 \t검증 세트 정확도: 52.852%\n",
      "Epoch: 0005 cost =  0.064257780 \t검증 세트 정확도: 43.888%\n",
      "Epoch: 0006 cost =  0.055539343 \t검증 세트 정확도: 49.942%\n",
      "Epoch: 0007 cost =  0.049634780 \t검증 세트 정확도: 50.640%\n",
      "Epoch: 0008 cost =  0.045907871 \t검증 세트 정확도: 54.598%\n",
      "Epoch: 0009 cost =  0.043854565 \t검증 세트 정확도: 57.974%\n",
      "Epoch: 0010 cost =  0.042528536 \t검증 세트 정확도: 53.201%\n",
      "Epoch: 0011 cost =  0.040755007 \t검증 세트 정확도: 55.763%\n",
      "Epoch: 0012 cost =  0.039706468 \t검증 세트 정확도: 56.345%\n",
      "Epoch: 0013 cost =  0.038241509 \t검증 세트 정확도: 60.070%\n",
      "Epoch: 0014 cost =  0.037445829 \t검증 세트 정확도: 63.213%\n",
      "Epoch: 0015 cost =  0.036388345 \t검증 세트 정확도: 62.165%\n",
      "Epoch: 0016 cost =  0.035515523 \t검증 세트 정확도: 64.843%\n",
      "Epoch: 0017 cost =  0.034644399 \t검증 세트 정확도: 67.986%\n",
      "Epoch: 0018 cost =  0.033684163 \t검증 세트 정확도: 71.246%\n",
      "Epoch: 0019 cost =  0.032338915 \t검증 세트 정확도: 73.108%\n",
      "Epoch: 0020 cost =  0.030594947 \t검증 세트 정확도: 71.129%\n",
      "Epoch: 0021 cost =  0.029003848 \t검증 세트 정확도: 73.341%\n",
      "Epoch: 0022 cost =  0.027626880 \t검증 세트 정확도: 72.875%\n",
      "Epoch: 0023 cost =  0.026851439 \t검증 세트 정확도: 77.998%\n",
      "Epoch: 0024 cost =  0.026333259 \t검증 세트 정확도: 72.293%\n",
      "Epoch: 0025 cost =  0.025075601 \t검증 세트 정확도: 78.463%\n",
      "Epoch: 0026 cost =  0.024763597 \t검증 세트 정확도: 76.950%\n",
      "Epoch: 0027 cost =  0.024136207 \t검증 세트 정확도: 81.490%\n",
      "Epoch: 0028 cost =  0.023326416 \t검증 세트 정확도: 81.141%\n",
      "Epoch: 0029 cost =  0.022753580 \t검증 세트 정확도: 81.607%\n",
      "Epoch: 0030 cost =  0.022423355 \t검증 세트 정확도: 81.257%\n",
      "Epoch: 0031 cost =  0.021569419 \t검증 세트 정확도: 82.189%\n",
      "Epoch: 0032 cost =  0.022225713 \t검증 세트 정확도: 83.353%\n",
      "Epoch: 0033 cost =  0.020906388 \t검증 세트 정확도: 83.120%\n",
      "Epoch: 0034 cost =  0.020250563 \t검증 세트 정확도: 82.072%\n",
      "Epoch: 0035 cost =  0.019374811 \t검증 세트 정확도: 78.813%\n",
      "Epoch: 0036 cost =  0.020013879 \t검증 세트 정확도: 82.305%\n",
      "Epoch: 0037 cost =  0.018634756 \t검증 세트 정확도: 81.257%\n",
      "Epoch: 0038 cost =  0.019267216 \t검증 세트 정확도: 82.189%\n",
      "Epoch: 0039 cost =  0.018981559 \t검증 세트 정확도: 82.771%\n",
      "Epoch: 0040 cost =  0.017823276 \t검증 세트 정확도: 82.189%\n",
      "Epoch: 0041 cost =  0.017858401 \t검증 세트 정확도: 83.818%\n",
      "Epoch: 0042 cost =  0.016709994 \t검증 세트 정확도: 82.887%\n",
      "Epoch: 0043 cost =  0.017496893 \t검증 세트 정확도: 82.305%\n",
      "Epoch: 0044 cost =  0.017127072 \t검증 세트 정확도: 83.353%\n",
      "Epoch: 0045 cost =  0.016574840 \t검증 세트 정확도: 84.051%\n",
      "Epoch: 0046 cost =  0.016180914 \t검증 세트 정확도: 86.496%\n",
      "Epoch: 0047 cost =  0.016779269 \t검증 세트 정확도: 83.586%\n",
      "Epoch: 0048 cost =  0.015656875 \t검증 세트 정확도: 83.935%\n",
      "Epoch: 0049 cost =  0.015792422 \t검증 세트 정확도: 84.866%\n",
      "Epoch: 0050 cost =  0.015697342 \t검증 세트 정확도: 83.353%\n",
      "Epoch: 0051 cost =  0.014621637 \t검증 세트 정확도: 83.236%\n",
      "Epoch: 0052 cost =  0.015412442 \t검증 세트 정확도: 83.702%\n",
      "Epoch: 0053 cost =  0.015554891 \t검증 세트 정확도: 83.935%\n",
      "Epoch: 0054 cost =  0.015760462 \t검증 세트 정확도: 82.538%\n",
      "Epoch: 0055 cost =  0.014370416 \t검증 세트 정확도: 83.702%\n",
      "Epoch: 0056 cost =  0.014628595 \t검증 세트 정확도: 84.168%\n",
      "Epoch: 0057 cost =  0.014180569 \t검증 세트 정확도: 84.168%\n",
      "Epoch: 0058 cost =  0.014261940 \t검증 세트 정확도: 84.633%\n",
      "Epoch: 0059 cost =  0.014534559 \t검증 세트 정확도: 83.469%\n",
      "Epoch: 0060 cost =  0.013771341 \t검증 세트 정확도: 83.353%\n",
      "Epoch: 0061 cost =  0.013743369 \t검증 세트 정확도: 83.818%\n",
      "Epoch: 0062 cost =  0.013767327 \t검증 세트 정확도: 83.935%\n",
      "Epoch: 0063 cost =  0.013854043 \t검증 세트 정확도: 84.168%\n",
      "Epoch: 0064 cost =  0.013476594 \t검증 세트 정확도: 83.935%\n",
      "Epoch: 0065 cost =  0.014577903 \t검증 세트 정확도: 83.469%\n",
      "Epoch: 0066 cost =  0.013243139 \t검증 세트 정확도: 84.866%\n",
      "Epoch: 0067 cost =  0.012713720 \t검증 세트 정확도: 84.168%\n",
      "Epoch: 0068 cost =  0.013085775 \t검증 세트 정확도: 84.750%\n",
      "Epoch: 0069 cost =  0.013049337 \t검증 세트 정확도: 84.051%\n",
      "Epoch: 0070 cost =  0.013529641 \t검증 세트 정확도: 84.983%\n",
      "Epoch: 0071 cost =  0.013246315 \t검증 세트 정확도: 84.400%\n",
      "Epoch: 0072 cost =  0.012583198 \t검증 세트 정확도: 84.750%\n",
      "Epoch: 0073 cost =  0.012833102 \t검증 세트 정확도: 83.935%\n",
      "Epoch: 0074 cost =  0.012346846 \t검증 세트 정확도: 85.797%\n",
      "Epoch: 0075 cost =  0.012974305 \t검증 세트 정확도: 84.168%\n",
      "Epoch: 0076 cost =  0.013088029 \t검증 세트 정확도: 84.983%\n",
      "Epoch: 0077 cost =  0.012213818 \t검증 세트 정확도: 85.448%\n",
      "Epoch: 0078 cost =  0.012234415 \t검증 세트 정확도: 85.215%\n",
      "Epoch: 0079 cost =  0.012232380 \t검증 세트 정확도: 84.866%\n",
      "Epoch: 0080 cost =  0.012617306 \t검증 세트 정확도: 84.517%\n",
      "Epoch: 0081 cost =  0.012329511 \t검증 세트 정확도: 85.332%\n",
      "Epoch: 0082 cost =  0.012169988 \t검증 세트 정확도: 84.866%\n",
      "Epoch: 0083 cost =  0.012372106 \t검증 세트 정확도: 84.168%\n",
      "Epoch: 0084 cost =  0.012535036 \t검증 세트 정확도: 85.797%\n",
      "Epoch: 0085 cost =  0.011996171 \t검증 세트 정확도: 85.448%\n",
      "Epoch: 0086 cost =  0.012111550 \t검증 세트 정확도: 87.078%\n",
      "Epoch: 0087 cost =  0.011864351 \t검증 세트 정확도: 84.866%\n",
      "Epoch: 0088 cost =  0.011843411 \t검증 세트 정확도: 85.914%\n",
      "Epoch: 0089 cost =  0.011147019 \t검증 세트 정확도: 85.332%\n",
      "Epoch: 0090 cost =  0.011804653 \t검증 세트 정확도: 84.866%\n",
      "Epoch: 0091 cost =  0.011401191 \t검증 세트 정확도: 84.517%\n",
      "Epoch: 0092 cost =  0.011478681 \t검증 세트 정확도: 84.750%\n",
      "Epoch: 0093 cost =  0.012011420 \t검증 세트 정확도: 84.750%\n",
      "Epoch: 0094 cost =  0.010971111 \t검증 세트 정확도: 85.681%\n",
      "Epoch: 0095 cost =  0.010755548 \t검증 세트 정확도: 84.983%\n",
      "Epoch: 0096 cost =  0.012003105 \t검증 세트 정확도: 84.750%\n",
      "Epoch: 0097 cost =  0.011650473 \t검증 세트 정확도: 84.284%\n",
      "Epoch: 0098 cost =  0.011506772 \t검증 세트 정확도: 86.729%\n",
      "Epoch: 0099 cost =  0.012069258 \t검증 세트 정확도: 88.941%\n",
      "Epoch: 0100 cost =  0.011894853 \t검증 세트 정확도: 89.406%\n",
      "Epoch: 0101 cost =  0.011507799 \t검증 세트 정확도: 86.612%\n",
      "Epoch: 0102 cost =  0.011874969 \t검증 세트 정확도: 86.147%\n",
      "Epoch: 0103 cost =  0.011204135 \t검증 세트 정확도: 86.030%\n",
      "Epoch: 0104 cost =  0.010897417 \t검증 세트 정확도: 85.565%\n",
      "Epoch: 0105 cost =  0.011332867 \t검증 세트 정확도: 86.962%\n",
      "Epoch: 0106 cost =  0.010904810 \t검증 세트 정확도: 90.920%\n",
      "Epoch: 0107 cost =  0.010909671 \t검증 세트 정확도: 91.153%\n",
      "Epoch: 0108 cost =  0.011005910 \t검증 세트 정확도: 90.221%\n",
      "Epoch: 0109 cost =  0.010761162 \t검증 세트 정확도: 90.687%\n",
      "Epoch: 0110 cost =  0.010936816 \t검증 세트 정확도: 87.660%\n",
      "Epoch: 0111 cost =  0.010197581 \t검증 세트 정확도: 92.899%\n",
      "Epoch: 0112 cost =  0.010753827 \t검증 세트 정확도: 91.851%\n",
      "Epoch: 0113 cost =  0.010377386 \t검증 세트 정확도: 91.851%\n",
      "Epoch: 0114 cost =  0.009821114 \t검증 세트 정확도: 88.009%\n",
      "Epoch: 0115 cost =  0.010076906 \t검증 세트 정확도: 92.433%\n",
      "Epoch: 0116 cost =  0.009062889 \t검증 세트 정확도: 93.132%\n",
      "Epoch: 0117 cost =  0.008717544 \t검증 세트 정확도: 91.851%\n",
      "Epoch: 0118 cost =  0.009217554 \t검증 세트 정확도: 92.666%\n",
      "Epoch: 0119 cost =  0.009074294 \t검증 세트 정확도: 94.179%\n",
      "Epoch: 0120 cost =  0.008716967 \t검증 세트 정확도: 92.200%\n",
      "Epoch: 0121 cost =  0.009996626 \t검증 세트 정확도: 91.735%\n",
      "Epoch: 0122 cost =  0.009132254 \t검증 세트 정확도: 92.317%\n",
      "Epoch: 0123 cost =  0.008727225 \t검증 세트 정확도: 92.317%\n",
      "Epoch: 0124 cost =  0.009175335 \t검증 세트 정확도: 93.481%\n",
      "Epoch: 0125 cost =  0.008852628 \t검증 세트 정확도: 92.782%\n",
      "Epoch: 0126 cost =  0.008401393 \t검증 세트 정확도: 93.132%\n",
      "Epoch: 0127 cost =  0.008531439 \t검증 세트 정확도: 93.481%\n",
      "Epoch: 0128 cost =  0.007815254 \t검증 세트 정확도: 93.132%\n",
      "Epoch: 0129 cost =  0.009246575 \t검증 세트 정확도: 92.666%\n",
      "Epoch: 0130 cost =  0.009198301 \t검증 세트 정확도: 92.317%\n",
      "Epoch: 0131 cost =  0.008004647 \t검증 세트 정확도: 92.666%\n",
      "Epoch: 0132 cost =  0.008347134 \t검증 세트 정확도: 94.179%\n",
      "Epoch: 0133 cost =  0.008371092 \t검증 세트 정확도: 92.782%\n",
      "Epoch: 0134 cost =  0.008284678 \t검증 세트 정확도: 93.015%\n",
      "Epoch: 0135 cost =  0.008818610 \t검증 세트 정확도: 92.433%\n",
      "Epoch: 0136 cost =  0.008756645 \t검증 세트 정확도: 94.179%\n",
      "Epoch: 0137 cost =  0.008296156 \t검증 세트 정확도: 93.714%\n",
      "Epoch: 0138 cost =  0.008255120 \t검증 세트 정확도: 94.529%\n",
      "Epoch: 0139 cost =  0.008879759 \t검증 세트 정확도: 93.248%\n",
      "Epoch: 0140 cost =  0.007925841 \t검증 세트 정확도: 93.364%\n",
      "Epoch: 0141 cost =  0.007702291 \t검증 세트 정확도: 92.549%\n",
      "Epoch: 0142 cost =  0.008090300 \t검증 세트 정확도: 92.666%\n",
      "Epoch: 0143 cost =  0.007748530 \t검증 세트 정확도: 92.666%\n",
      "Epoch: 0144 cost =  0.007842802 \t검증 세트 정확도: 94.994%\n",
      "Epoch: 0145 cost =  0.007589615 \t검증 세트 정확도: 94.529%\n",
      "Epoch: 0146 cost =  0.007151604 \t검증 세트 정확도: 93.481%\n",
      "Epoch: 0147 cost =  0.008423679 \t검증 세트 정확도: 93.132%\n",
      "Epoch: 0148 cost =  0.007441333 \t검증 세트 정확도: 90.570%\n",
      "Epoch: 0149 cost =  0.006876673 \t검증 세트 정확도: 94.063%\n",
      "Epoch: 0150 cost =  0.007812263 \t검증 세트 정확도: 94.529%\n",
      "Epoch: 0151 cost =  0.007047728 \t검증 세트 정확도: 91.735%\n",
      "Epoch: 0152 cost =  0.007678340 \t검증 세트 정확도: 94.645%\n",
      "Epoch: 0153 cost =  0.006887753 \t검증 세트 정확도: 93.015%\n",
      "Epoch: 0154 cost =  0.007121976 \t검증 세트 정확도: 94.529%\n",
      "Epoch: 0155 cost =  0.006943383 \t검증 세트 정확도: 94.296%\n",
      "Epoch: 0156 cost =  0.006862622 \t검증 세트 정확도: 94.761%\n",
      "Epoch: 0157 cost =  0.007613836 \t검증 세트 정확도: 95.227%\n",
      "Epoch: 0158 cost =  0.006845402 \t검증 세트 정확도: 94.994%\n"
     ]
    },
    {
     "name": "stdout",
     "output_type": "stream",
     "text": [
      "Epoch: 0159 cost =  0.007614113 \t검증 세트 정확도: 93.248%\n",
      "Epoch: 0160 cost =  0.007236165 \t검증 세트 정확도: 94.645%\n",
      "Epoch: 0161 cost =  0.006452089 \t검증 세트 정확도: 94.412%\n",
      "Epoch: 0162 cost =  0.007473587 \t검증 세트 정확도: 93.364%\n",
      "Epoch: 0163 cost =  0.006891540 \t검증 세트 정확도: 95.576%\n",
      "Epoch: 0164 cost =  0.007439980 \t검증 세트 정확도: 95.576%\n",
      "Epoch: 0165 cost =  0.006945534 \t검증 세트 정확도: 94.412%\n",
      "Epoch: 0166 cost =  0.007457808 \t검증 세트 정확도: 94.994%\n",
      "Epoch: 0167 cost =  0.006789019 \t검증 세트 정확도: 95.460%\n",
      "Epoch: 0168 cost =  0.007377288 \t검증 세트 정확도: 92.899%\n",
      "Epoch: 0169 cost =  0.006583103 \t검증 세트 정확도: 94.994%\n",
      "Epoch: 0170 cost =  0.006488669 \t검증 세트 정확도: 93.248%\n",
      "Epoch: 0171 cost =  0.006779364 \t검증 세트 정확도: 95.460%\n",
      "Epoch: 0172 cost =  0.006606889 \t검증 세트 정확도: 94.878%\n",
      "Epoch: 0173 cost =  0.006540513 \t검증 세트 정확도: 95.925%\n",
      "Epoch: 0174 cost =  0.006215748 \t검증 세트 정확도: 94.878%\n",
      "Epoch: 0175 cost =  0.006301774 \t검증 세트 정확도: 93.597%\n",
      "Epoch: 0176 cost =  0.006454369 \t검증 세트 정확도: 94.878%\n",
      "Epoch: 0177 cost =  0.006457233 \t검증 세트 정확도: 94.063%\n",
      "Epoch: 0178 cost =  0.006375129 \t검증 세트 정확도: 96.275%\n",
      "Epoch: 0179 cost =  0.006835523 \t검증 세트 정확도: 96.391%\n",
      "Epoch: 0180 cost =  0.005664192 \t검증 세트 정확도: 95.460%\n",
      "Epoch: 0181 cost =  0.007460540 \t검증 세트 정확도: 96.508%\n",
      "Epoch: 0182 cost =  0.006378880 \t검증 세트 정확도: 92.200%\n",
      "Epoch: 0183 cost =  0.006574618 \t검증 세트 정확도: 95.576%\n",
      "Epoch: 0184 cost =  0.005797568 \t검증 세트 정확도: 95.809%\n",
      "Epoch: 0185 cost =  0.005660868 \t검증 세트 정확도: 95.111%\n",
      "Epoch: 0186 cost =  0.006775175 \t검증 세트 정확도: 95.925%\n",
      "Epoch: 0187 cost =  0.006030579 \t검증 세트 정확도: 94.994%\n",
      "Epoch: 0188 cost =  0.006039887 \t검증 세트 정확도: 96.042%\n",
      "Epoch: 0189 cost =  0.005975779 \t검증 세트 정확도: 95.576%\n",
      "Epoch: 0190 cost =  0.006337262 \t검증 세트 정확도: 96.391%\n",
      "Epoch: 0191 cost =  0.005579607 \t검증 세트 정확도: 95.925%\n",
      "Epoch: 0192 cost =  0.005883839 \t검증 세트 정확도: 95.227%\n",
      "Epoch: 0193 cost =  0.006103451 \t검증 세트 정확도: 95.925%\n",
      "Epoch: 0194 cost =  0.006347383 \t검증 세트 정확도: 94.412%\n",
      "Epoch: 0195 cost =  0.005293183 \t검증 세트 정확도: 95.925%\n",
      "Epoch: 0196 cost =  0.005681999 \t검증 세트 정확도: 96.391%\n",
      "Epoch: 0197 cost =  0.005140052 \t검증 세트 정확도: 96.391%\n",
      "Epoch: 0198 cost =  0.005688104 \t검증 세트 정확도: 96.508%\n",
      "Epoch: 0199 cost =  0.006381721 \t검증 세트 정확도: 96.275%\n",
      "Epoch: 0200 cost =  0.006295534 \t검증 세트 정확도: 95.693%\n",
      "Epoch: 0201 cost =  0.006489240 \t검증 세트 정확도: 96.624%\n",
      "Epoch: 0202 cost =  0.005544644 \t검증 세트 정확도: 96.275%\n",
      "Epoch: 0203 cost =  0.005775072 \t검증 세트 정확도: 96.158%\n",
      "Epoch: 0204 cost =  0.006239938 \t검증 세트 정확도: 96.740%\n",
      "Epoch: 0205 cost =  0.005351428 \t검증 세트 정확도: 94.645%\n",
      "Epoch: 0206 cost =  0.006153640 \t검증 세트 정확도: 96.740%\n",
      "Epoch: 0207 cost =  0.006188659 \t검증 세트 정확도: 95.693%\n",
      "Epoch: 0208 cost =  0.005398714 \t검증 세트 정확도: 95.460%\n",
      "Epoch: 0209 cost =  0.005293952 \t검증 세트 정확도: 96.508%\n",
      "Epoch: 0210 cost =  0.006066265 \t검증 세트 정확도: 96.158%\n",
      "Epoch: 0211 cost =  0.006220291 \t검증 세트 정확도: 95.576%\n",
      "Epoch: 0212 cost =  0.005399773 \t검증 세트 정확도: 95.460%\n",
      "Epoch: 0213 cost =  0.004776190 \t검증 세트 정확도: 96.158%\n",
      "Epoch: 0214 cost =  0.005530549 \t검증 세트 정확도: 95.343%\n",
      "Epoch: 0215 cost =  0.005080213 \t검증 세트 정확도: 95.809%\n",
      "Epoch: 0216 cost =  0.005549762 \t검증 세트 정확도: 96.275%\n",
      "Epoch: 0217 cost =  0.005260335 \t검증 세트 정확도: 94.878%\n",
      "Epoch: 0218 cost =  0.004809125 \t검증 세트 정확도: 96.973%\n",
      "Epoch: 0219 cost =  0.004929014 \t검증 세트 정확도: 95.693%\n",
      "Epoch: 0220 cost =  0.005675865 \t검증 세트 정확도: 96.508%\n",
      "Epoch: 0221 cost =  0.005914236 \t검증 세트 정확도: 96.624%\n",
      "Epoch: 0222 cost =  0.005016255 \t검증 세트 정확도: 95.343%\n",
      "Epoch: 0223 cost =  0.005065165 \t검증 세트 정확도: 96.857%\n",
      "Epoch: 0224 cost =  0.004249357 \t검증 세트 정확도: 96.391%\n",
      "Epoch: 0225 cost =  0.005246881 \t검증 세트 정확도: 95.925%\n",
      "Epoch: 0226 cost =  0.005551003 \t검증 세트 정확도: 95.460%\n",
      "Epoch: 0227 cost =  0.005726632 \t검증 세트 정확도: 96.508%\n",
      "Epoch: 0228 cost =  0.004980776 \t검증 세트 정확도: 96.857%\n",
      "Epoch: 0229 cost =  0.004411025 \t검증 세트 정확도: 96.857%\n",
      "Epoch: 0230 cost =  0.004758012 \t검증 세트 정확도: 94.645%\n",
      "Epoch: 0231 cost =  0.005703250 \t검증 세트 정확도: 96.391%\n",
      "Epoch: 0232 cost =  0.004833087 \t검증 세트 정확도: 96.624%\n",
      "Epoch: 0233 cost =  0.004727823 \t검증 세트 정확도: 96.042%\n",
      "Epoch: 0234 cost =  0.004917004 \t검증 세트 정확도: 95.693%\n",
      "Epoch: 0235 cost =  0.006021688 \t검증 세트 정확도: 96.391%\n",
      "Epoch: 0236 cost =  0.005130779 \t검증 세트 정확도: 96.740%\n",
      "Epoch: 0237 cost =  0.005270908 \t검증 세트 정확도: 96.624%\n",
      "Epoch: 0238 cost =  0.005038656 \t검증 세트 정확도: 96.740%\n",
      "Epoch: 0239 cost =  0.004335379 \t검증 세트 정확도: 96.391%\n",
      "Epoch: 0240 cost =  0.005621169 \t검증 세트 정확도: 95.693%\n",
      "Epoch: 0241 cost =  0.005272854 \t검증 세트 정확도: 96.624%\n",
      "Epoch: 0242 cost =  0.005058067 \t검증 세트 정확도: 96.740%\n",
      "Epoch: 0243 cost =  0.004452856 \t검증 세트 정확도: 96.857%\n",
      "Epoch: 0244 cost =  0.004848716 \t검증 세트 정확도: 97.206%\n",
      "Epoch: 0245 cost =  0.005832242 \t검증 세트 정확도: 96.973%\n",
      "Epoch: 0246 cost =  0.004349058 \t검증 세트 정확도: 96.973%\n",
      "Epoch: 0247 cost =  0.004752627 \t검증 세트 정확도: 96.391%\n",
      "Epoch: 0248 cost =  0.004205776 \t검증 세트 정확도: 96.275%\n",
      "Epoch: 0249 cost =  0.004923382 \t검증 세트 정확도: 97.206%\n"
     ]
    },
    {
     "data": {
      "text/plain": [
       "'../../model/DNN/7_dense_model'"
      ]
     },
     "execution_count": 26,
     "metadata": {},
     "output_type": "execute_result"
    }
   ],
   "source": [
    "#original \n",
    "epochX = []\n",
    "costY = []\n",
    "accuracyY = []\n",
    "\n",
    "batch_size = 32\n",
    "cost_history = np.empty(shape=[1], dtype=float)\n",
    "with tf.device(\"/gpu:0\"):\n",
    "    for epoch in range(1,250):\n",
    "        avg_cost = 0    \n",
    "#    total_batch = int(X_train.shape[0] / batch_size)\n",
    "        for i in range( int(math.ceil(len(X_train)/batch_size)) ): # 배치 사이즈로 나눈 나머지 다 돌 수 있게 \n",
    "            x_ = X_train[batch_size * i: batch_size * (i + 1)]\n",
    "            y_ = y_train[batch_size * i: batch_size * (i + 1)]\n",
    "            feed_dict={X:x_, Y:y_, keep_prob:0.6}    \n",
    "            c, _ = sess.run([cost, optimizer], feed_dict=feed_dict)\n",
    "            cost_history = np.append(cost_history,cost)\n",
    "            avg_cost += c\n",
    "            #accuracy_val = sess.run([accuracy], feed_dict={X:X_val, Y:y_val\n",
    "        val_pred = sess.run(tf.argmax(logits,1),feed_dict={X: X_val , keep_prob:1})  \n",
    "        val_true = sess.run(tf.argmax(y_val,1))\n",
    "        accuracy_val = accuracy_score(val_pred, val_true)\n",
    "        epochX.append(epoch)\n",
    "        costY.append(avg_cost/len(X_train))\n",
    "        accuracyY.append(accuracy_val)\n",
    "        print('Epoch:', '%04d' % (epoch), 'cost = ', '{:.9f}'.format(avg_cost / len(X_train)), \"\\t검증 세트 정확도: {:.3f}%\".format(accuracy_val * 100),)\n",
    "saver.save(sess, model_path)"
   ]
  },
  {
   "cell_type": "code",
   "execution_count": 27,
   "metadata": {},
   "outputs": [
    {
     "data": {
      "text/plain": [
       "[<matplotlib.lines.Line2D at 0x7fd138264e80>]"
      ]
     },
     "execution_count": 27,
     "metadata": {},
     "output_type": "execute_result"
    },
    {
     "data": {
      "image/png": "[encoded data removed]",
      "text/plain": [
       "<Figure size 720x360 with 1 Axes>"
      ]
     },
     "metadata": {
      "needs_background": "light"
     },
     "output_type": "display_data"
    }
   ],
   "source": [
    "import matplotlib.pyplot as plt\n",
    "%matplotlib inline\n",
    "\n",
    "fig= plt.figure(figsize=(10,5))\n",
    "axes= fig.add_subplot(111)\n",
    "\n",
    "\n",
    "axes.plot(epochX, costY)\n",
    "plt.xlabel('Actual Distance (m)')\n",
    "plt.ylabel('Calculated Distance (m)')\n",
    "\n",
    "axes.plot(epochX, accuracyY)\n",
    "#axes.set_yticks([0,10,20,30,40,50,60,70])\n",
    "#plt.show()\n",
    "\n",
    "#plt.savefig('graph7-04percentage.png',dpi=900)"
   ]
  },
  {
   "cell_type": "markdown",
   "metadata": {},
   "source": [
    "## Prediction"
   ]
  },
  {
   "cell_type": "code",
   "execution_count": 28,
   "metadata": {},
   "outputs": [],
   "source": [
    "y_pred = sess.run(tf.argmax(logits,1),feed_dict={X: X_test , keep_prob:1}) \n",
    "y_true = sess.run(tf.argmax(y_test,1))"
   ]
  },
  {
   "cell_type": "code",
   "execution_count": 29,
   "metadata": {},
   "outputs": [
    {
     "name": "stdout",
     "output_type": "stream",
     "text": [
      "F-Score: 0.974\n",
      "Accuracy:  0.9739049394221808\n",
      "              precision    recall  f1-score   support\n",
      "\n",
      "           0       0.99      0.99      0.99       137\n",
      "           1       0.96      0.92      0.94       142\n",
      "           2       0.94      0.98      0.96       135\n",
      "           3       0.96      0.99      0.97       108\n",
      "           4       0.98      0.98      0.98       129\n",
      "           5       0.97      0.95      0.96       129\n",
      "           6       1.00      0.99      1.00       293\n",
      "\n",
      "   micro avg       0.97      0.97      0.97      1073\n",
      "   macro avg       0.97      0.97      0.97      1073\n",
      "weighted avg       0.97      0.97      0.97      1073\n",
      "\n",
      "[[135   1   0   0   0   1   0]\n",
      " [  0 131   9   0   0   2   0]\n",
      " [  0   0 132   2   1   0   0]\n",
      " [  0   0   0 107   1   0   0]\n",
      " [  0   0   0   3 126   0   0]\n",
      " [  1   5   0   0   0 123   0]\n",
      " [  0   0   0   0   1   1 291]]\n"
     ]
    }
   ],
   "source": [
    "# Ptint Result\n",
    "\n",
    "from sklearn.metrics import precision_recall_fscore_support\n",
    "p,r,f,s = precision_recall_fscore_support(y_true, y_pred, average='micro')\n",
    "print(\"F-Score:\", round(f,3))\n",
    "from sklearn.metrics import accuracy_score\n",
    "print(\"Accuracy: \", accuracy_score(y_true, y_pred))\n",
    "\n",
    "from sklearn.metrics import classification_report\n",
    "print(classification_report(y_true, y_pred))\n",
    "from sklearn.metrics import confusion_matrix\n",
    "print(confusion_matrix(y_true, y_pred))"
   ]
  },
  {
   "cell_type": "code",
   "execution_count": null,
   "metadata": {},
   "outputs": [],
   "source": []
  }
 ],
 "metadata": {
  "kernelspec": {
   "display_name": "Python 3",
   "language": "python",
   "name": "python3"
  },
  "language_info": {
   "codemirror_mode": {
    "name": "ipython",
    "version": 3
   },
   "file_extension": ".py",
   "mimetype": "text/x-python",
   "name": "python",
   "nbconvert_exporter": "python",
   "pygments_lexer": "ipython3",
   "version": "3.6.8"
  }
 },
 "nbformat": 4,
 "nbformat_minor": 2
}
