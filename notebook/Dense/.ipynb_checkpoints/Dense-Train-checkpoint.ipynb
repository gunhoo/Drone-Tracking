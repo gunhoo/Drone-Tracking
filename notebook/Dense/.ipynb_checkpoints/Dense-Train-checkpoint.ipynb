{
 "cells": [
  {
   "cell_type": "code",
   "execution_count": 1,
   "metadata": {},
   "outputs": [
    {
     "name": "stderr",
     "output_type": "stream",
     "text": [
      "C:\\Users\\Jaesung\\Anaconda3\\lib\\site-packages\\h5py\\__init__.py:36: FutureWarning: Conversion of the second argument of issubdtype from `float` to `np.floating` is deprecated. In future, it will be treated as `np.float64 == np.dtype(float).type`.\n",
      "  from ._conv import register_converters as _register_converters\n"
     ]
    }
   ],
   "source": [
    "import matplotlib.pyplot as plt\n",
    "%matplotlib inline\n",
    "import IPython.display\n",
    "import librosa.display\n",
    "import numpy as np\n",
    "import librosa\n",
    "import tensorflow as tf\n",
    "import glob"
   ]
  },
  {
   "cell_type": "markdown",
   "metadata": {},
   "source": [
    "### If you have been save the data, you don't have to preprocessing and save the data"
   ]
  },
  {
   "cell_type": "code",
   "execution_count": 2,
   "metadata": {},
   "outputs": [],
   "source": [
    "drone_path = '../../data/drone/*.wav'\n",
    "background_path = '../../data/background/*.wav'\n",
    "\n",
    "drone_files = glob.glob(drone_path)\n",
    "background_files = glob.glob(background_path)"
   ]
  },
  {
   "cell_type": "code",
   "execution_count": 3,
   "metadata": {},
   "outputs": [],
   "source": [
    "CHUNK_SIZE = 8192\n",
    "SR = 44100\n",
    "N_MFCC = 16"
   ]
  },
  {
   "cell_type": "code",
   "execution_count": 4,
   "metadata": {},
   "outputs": [],
   "source": [
    "def load(files, sr=44100):\n",
    "    [raw, sr] = librosa.load(files[0], sr=sr)\n",
    "    for f in files[1:]:\n",
    "        [array, sr] = librosa.load(f, sr=sr)\n",
    "        raw = np.hstack((raw, array))\n",
    "    print(raw.shape)\n",
    "    return raw"
   ]
  },
  {
   "cell_type": "code",
   "execution_count": 5,
   "metadata": {},
   "outputs": [
    {
     "name": "stdout",
     "output_type": "stream",
     "text": [
      "(35898530,)\n",
      "(10518528,)\n"
     ]
    }
   ],
   "source": [
    "drone_raw = load(drone_files)\n",
    "background_raw = load(background_files)"
   ]
  },
  {
   "cell_type": "markdown",
   "metadata": {},
   "source": [
    "# Data preprocessing"
   ]
  },
  {
   "cell_type": "markdown",
   "metadata": {},
   "source": [
    "Chose `mfcc4` among functions below:\n",
    "- input size 16x16; `n_mfcc=16`, used first 16 data points from 16x17 mfcc of a chunk with size 8192\n",
    "- chunk siez 8192, overlapped half of it"
   ]
  },
  {
   "cell_type": "code",
   "execution_count": 6,
   "metadata": {},
   "outputs": [],
   "source": [
    "def mfcc4(raw, label, chunk_size=8192, window_size=4096, sr=22050, n_mfcc=16, n_frame=16):\n",
    "    mfcc = np.empty((0, n_mfcc, n_frame))\n",
    "    y = []\n",
    "    print(raw.shape)\n",
    "    for i in range(0, len(raw), chunk_size//2):\n",
    "        mfcc_slice = librosa.feature.mfcc(raw[i:i+chunk_size], sr=sr, n_mfcc=n_mfcc) #n_mfcc,17\n",
    "        if mfcc_slice.shape[1] < 17:\n",
    "            print(\"small end:\", mfcc_slice.shape)\n",
    "            continue\n",
    "        mfcc_slice = mfcc_slice[:,:-1]\n",
    "        mfcc_slice = mfcc_slice.reshape((1, mfcc_slice.shape[0], mfcc_slice.shape[1]))\n",
    "        mfcc = np.vstack((mfcc, mfcc_slice))\n",
    "        y.append(label)\n",
    "    y = np.array(y)\n",
    "    return mfcc, y"
   ]
  },
  {
   "cell_type": "code",
   "execution_count": 7,
   "metadata": {},
   "outputs": [
    {
     "name": "stdout",
     "output_type": "stream",
     "text": [
      "(35898530,)\n",
      "small end: (16, 11)\n",
      "small end: (16, 3)\n",
      "(8763, 16, 16) (8763,)\n",
      "(10518528,)\n",
      "small end: (16, 9)\n",
      "(2567, 16, 16) (2567,)\n"
     ]
    }
   ],
   "source": [
    "mfcc_drone, y_drone = mfcc4(drone_raw, 1)\n",
    "mfcc_background, y_background = mfcc4(background_raw, 0)\n",
    "\n",
    "print(mfcc_drone.shape, y_drone.shape)\n",
    "print(mfcc_background.shape, y_background.shape)"
   ]
  },
  {
   "cell_type": "code",
   "execution_count": 9,
   "metadata": {},
   "outputs": [
    {
     "name": "stdout",
     "output_type": "stream",
     "text": [
      "(11330, 16, 16) (11330,)\n"
     ]
    }
   ],
   "source": [
    "X = np.concatenate((mfcc_drone, mfcc_background), axis=0)\n",
    "y = np.hstack((y_drone, y_background))\n",
    "print(X.shape, y.shape)"
   ]
  },
  {
   "cell_type": "code",
   "execution_count": 10,
   "metadata": {},
   "outputs": [],
   "source": [
    "X = np.reshape(X,(X.shape[0],-1))"
   ]
  },
  {
   "cell_type": "code",
   "execution_count": 11,
   "metadata": {},
   "outputs": [
    {
     "data": {
      "text/plain": [
       "(11330, 256)"
      ]
     },
     "execution_count": 11,
     "metadata": {},
     "output_type": "execute_result"
    }
   ],
   "source": [
    "X.shape"
   ]
  },
  {
   "cell_type": "code",
   "execution_count": 12,
   "metadata": {},
   "outputs": [
    {
     "name": "stdout",
     "output_type": "stream",
     "text": [
      "(11330, 2)\n"
     ]
    }
   ],
   "source": [
    "n_labels = y.shape[0]\n",
    "n_unique_labels = 2\n",
    "y_encoded = np.zeros((n_labels, n_unique_labels))\n",
    "y_encoded[np.arange(n_labels), y] = 1\n",
    "print(y_encoded.shape)"
   ]
  },
  {
   "cell_type": "code",
   "execution_count": 13,
   "metadata": {},
   "outputs": [],
   "source": [
    "# Split data\n",
    "from sklearn import model_selection\n",
    "X_train, X_test, y_train, y_test = model_selection.train_test_split(X, y_encoded, test_size=0.2, random_state=42)\n",
    "X_train, X_val, y_train, y_val = model_selection.train_test_split(X_train, y_train, test_size=0.2, random_state=42)"
   ]
  },
  {
   "cell_type": "code",
   "execution_count": 15,
   "metadata": {},
   "outputs": [
    {
     "name": "stdout",
     "output_type": "stream",
     "text": [
      "(7251, 256) (7251, 2)\n",
      "(1813, 256) (1813, 2)\n",
      "(2266, 256) (2266, 2)\n"
     ]
    }
   ],
   "source": [
    "print(X_train.shape,y_train.shape)\n",
    "print(X_val.shape, y_val.shape)\n",
    "print(X_test.shape, y_test.shape)"
   ]
  },
  {
   "cell_type": "code",
   "execution_count": 17,
   "metadata": {},
   "outputs": [],
   "source": [
    "# Save Data\n",
    "np.save('../../model/X_train', X_train)\n",
    "np.save('../../model/X_test', X_test)\n",
    "np.save('../../model/X_val', X_val)\n",
    "np.save('../../model/y_val', y_val)\n",
    "np.save('../../model/y_train', y_train)\n",
    "np.save('../../model/y_test', y_test)"
   ]
  },
  {
   "cell_type": "markdown",
   "metadata": {},
   "source": [
    "### Until this part"
   ]
  },
  {
   "cell_type": "code",
   "execution_count": 18,
   "metadata": {},
   "outputs": [],
   "source": [
    "# Load Data\n",
    "X_train = np.load('../../model/X_train.npy')\n",
    "X_test = np.load('../../model/X_test.npy')\n",
    "X_val = np.load('../../model/X_val.npy')\n",
    "y_val = np.load('../../model/y_val.npy')\n",
    "y_train = np.load('../../model/y_train.npy')\n",
    "y_test = np.load('../../model/y_test.npy')"
   ]
  },
  {
   "cell_type": "markdown",
   "metadata": {},
   "source": [
    "# Experiment 3 - One convolutional layer /w no dropout\n"
   ]
  },
  {
   "cell_type": "markdown",
   "metadata": {},
   "source": [
    "##Experiment 3-2\n",
    "- learning rate 0.005\n",
    "- pooling stride 1x1\n",
    "- #filter 1\n",
    "- best result among every other settings\n",
    "- cost kept fluctuated during training. (0.8 -> 1.3) -- why is that?"
   ]
  },
  {
   "cell_type": "code",
   "execution_count": 19,
   "metadata": {},
   "outputs": [],
   "source": [
    "tf.reset_default_graph()"
   ]
  },
  {
   "cell_type": "code",
   "execution_count": 20,
   "metadata": {},
   "outputs": [],
   "source": [
    "n_mfcc = 16\n",
    "n_frame = 16\n",
    "n_classes = 2\n",
    "n_channels = 1\n",
    "\n",
    "kernel_size = 3\n",
    "stride = 1\n",
    "pad = \"SAME\"\n",
    "\n",
    "learning_rate = 0.0002  # 0.005\n",
    "training_epochs = 10 # 수정해야해"
   ]
  },
  {
   "cell_type": "markdown",
   "metadata": {},
   "source": [
    "# Layer"
   ]
  },
  {
   "cell_type": "markdown",
   "metadata": {},
   "source": [
    "## Experiment\n",
    "- learning rate 0.0002\n",
    "- no cnn/ pooling \n",
    "- just dense with dropout "
   ]
  },
  {
   "cell_type": "code",
   "execution_count": 21,
   "metadata": {},
   "outputs": [],
   "source": [
    "X = tf.placeholder(tf.float32, shape=[None,n_mfcc*n_frame*n_channels])\n",
    "Y = tf.placeholder(tf.float32, shape=[None,n_classes])\n",
    "\n",
    "keep_prob = tf.placeholder(tf.float32)\n",
    "\n",
    "dense1 = tf.layers.dense(inputs=X, units=256, activation=tf.nn.relu)\n",
    "dropout1 = tf.nn.dropout(dense1, keep_prob=keep_prob)\n",
    "dense2 = tf.layers.dense(inputs=dropout1, units=256, activation=tf.nn.relu)\n",
    "dropout2 = tf.nn.dropout(dense2, keep_prob=keep_prob)\n",
    "dense3 = tf.layers.dense(inputs=dropout2, units=512, activation=tf.nn.relu)\n",
    "dropout3 = tf.nn.dropout(dense3, keep_prob=keep_prob)\n",
    "dense4 = tf.layers.dense(inputs=dropout3, units=512, activation=tf.nn.relu)\n",
    "dropout4 = tf.nn.dropout(dense4, keep_prob=keep_prob)\n",
    "dense5 = tf.layers.dense(inputs=dropout4, units=256, activation=tf.nn.relu)\n",
    "dropout5 = tf.nn.dropout(dense5, keep_prob=keep_prob)\n",
    "\n",
    "logits= tf.layers.dense(inputs=dropout5, units=2)"
   ]
  },
  {
   "cell_type": "code",
   "execution_count": null,
   "metadata": {},
   "outputs": [],
   "source": [
    "cost = tf.reduce_mean(tf.nn.softmax_cross_entropy_with_logits_v2(logits=logits, labels=Y))\n",
    "optimizer = tf.train.AdamOptimizer(learning_rate=learning_rate).minimize(cost)"
   ]
  },
  {
   "cell_type": "code",
   "execution_count": 22,
   "metadata": {},
   "outputs": [],
   "source": [
    "sess = tf.Session()\n",
    "sess.run(tf.global_variables_initializer())"
   ]
  },
  {
   "cell_type": "code",
   "execution_count": 23,
   "metadata": {},
   "outputs": [],
   "source": [
    "# model save\n",
    "model_path = '../../model/Dense/dense_model'\n",
    "saver = tf.train.Saver()"
   ]
  },
  {
   "cell_type": "markdown",
   "metadata": {},
   "source": [
    "# Trainning"
   ]
  },
  {
   "cell_type": "code",
   "execution_count": 24,
   "metadata": {},
   "outputs": [],
   "source": [
    "import math"
   ]
  },
  {
   "cell_type": "code",
   "execution_count": 27,
   "metadata": {
    "scrolled": false
   },
   "outputs": [],
   "source": [
    "with tf.name_scope(\"eval\"):\n",
    "    correct = tf.nn.in_top_k(logits, y, 1)\n",
    "    accuracy = tf.reduce_mean(tf.cast(correct, tf.float32))\n",
    "#    accuracy_summary = tf.summary.scalar('accuracy', accuracy)"
   ]
  },
  {
   "cell_type": "code",
   "execution_count": 28,
   "metadata": {},
   "outputs": [],
   "source": [
    "from sklearn.metrics import accuracy_score"
   ]
  },
  {
   "cell_type": "code",
   "execution_count": 29,
   "metadata": {
    "scrolled": true
   },
   "outputs": [
    {
     "name": "stdout",
     "output_type": "stream",
     "text": [
      "Epoch: 0001 cost =  0.268208764 \t검증 세트 정확도: 92.554%\n",
      "Epoch: 0002 cost =  0.039590701 \t검증 세트 정확도: 97.794%\n",
      "Epoch: 0003 cost =  0.016139467 \t검증 세트 정확도: 98.235%\n",
      "Epoch: 0004 cost =  0.011280963 \t검증 세트 정확도: 98.290%\n",
      "Epoch: 0005 cost =  0.006891348 \t검증 세트 정확도: 99.117%\n",
      "Epoch: 0006 cost =  0.005104209 \t검증 세트 정확도: 99.228%\n",
      "Epoch: 0007 cost =  0.004476769 \t검증 세트 정확도: 99.117%\n",
      "Epoch: 0008 cost =  0.002785059 \t검증 세트 정확도: 99.007%\n",
      "Epoch: 0009 cost =  0.003162237 \t검증 세트 정확도: 99.228%\n",
      "Epoch: 0010 cost =  0.002283875 \t검증 세트 정확도: 99.173%\n",
      "Epoch: 0011 cost =  0.001905002 \t검증 세트 정확도: 99.117%\n",
      "Epoch: 0012 cost =  0.001794167 \t검증 세트 정확도: 99.228%\n",
      "Epoch: 0013 cost =  0.001751522 \t검증 세트 정확도: 99.228%\n",
      "Epoch: 0014 cost =  0.001631128 \t검증 세트 정확도: 99.448%\n",
      "Epoch: 0015 cost =  0.001236246 \t검증 세트 정확도: 99.283%\n",
      "Epoch: 0016 cost =  0.001024138 \t검증 세트 정확도: 99.173%\n",
      "Epoch: 0017 cost =  0.001155951 \t검증 세트 정확도: 99.338%\n",
      "Epoch: 0018 cost =  0.001079431 \t검증 세트 정확도: 99.393%\n",
      "Epoch: 0019 cost =  0.001017852 \t검증 세트 정확도: 99.559%\n",
      "Epoch: 0020 cost =  0.000799309 \t검증 세트 정확도: 99.448%\n",
      "Epoch: 0021 cost =  0.000935122 \t검증 세트 정확도: 99.173%\n",
      "Epoch: 0022 cost =  0.000980518 \t검증 세트 정확도: 99.559%\n",
      "Epoch: 0023 cost =  0.000708878 \t검증 세트 정확도: 99.504%\n",
      "Epoch: 0024 cost =  0.000757255 \t검증 세트 정확도: 99.559%\n",
      "Epoch: 0025 cost =  0.000666513 \t검증 세트 정확도: 99.559%\n",
      "Epoch: 0026 cost =  0.000701523 \t검증 세트 정확도: 98.952%\n",
      "Epoch: 0027 cost =  0.000693611 \t검증 세트 정확도: 99.338%\n",
      "Epoch: 0028 cost =  0.000910894 \t검증 세트 정확도: 99.504%\n",
      "Epoch: 0029 cost =  0.000597033 \t검증 세트 정확도: 99.338%\n",
      "Epoch: 0030 cost =  0.000609195 \t검증 세트 정확도: 99.228%\n",
      "Epoch: 0031 cost =  0.000418298 \t검증 세트 정확도: 99.669%\n",
      "Epoch: 0032 cost =  0.000599779 \t검증 세트 정확도: 99.228%\n",
      "Epoch: 0033 cost =  0.000521935 \t검증 세트 정확도: 99.559%\n",
      "Epoch: 0034 cost =  0.000638944 \t검증 세트 정확도: 99.228%\n",
      "Epoch: 0035 cost =  0.000583643 \t검증 세트 정확도: 99.448%\n",
      "Epoch: 0036 cost =  0.000554840 \t검증 세트 정확도: 99.614%\n",
      "Epoch: 0037 cost =  0.000540221 \t검증 세트 정확도: 99.173%\n",
      "Epoch: 0038 cost =  0.000425162 \t검증 세트 정확도: 99.448%\n",
      "Epoch: 0039 cost =  0.000482988 \t검증 세트 정확도: 99.228%\n",
      "Epoch: 0040 cost =  0.000543925 \t검증 세트 정확도: 99.559%\n",
      "Epoch: 0041 cost =  0.000503253 \t검증 세트 정확도: 99.504%\n",
      "Epoch: 0042 cost =  0.000600781 \t검증 세트 정확도: 99.504%\n",
      "Epoch: 0043 cost =  0.000473203 \t검증 세트 정확도: 99.504%\n",
      "Epoch: 0044 cost =  0.000451269 \t검증 세트 정확도: 99.559%\n",
      "Epoch: 0045 cost =  0.000394974 \t검증 세트 정확도: 99.338%\n",
      "Epoch: 0046 cost =  0.000454752 \t검증 세트 정확도: 99.614%\n",
      "Epoch: 0047 cost =  0.000361168 \t검증 세트 정확도: 99.504%\n",
      "Epoch: 0048 cost =  0.000292579 \t검증 세트 정확도: 99.393%\n",
      "Epoch: 0049 cost =  0.000346895 \t검증 세트 정확도: 99.504%\n",
      "Epoch: 0050 cost =  0.000267444 \t검증 세트 정확도: 99.614%\n",
      "Epoch: 0051 cost =  0.000504419 \t검증 세트 정확도: 99.559%\n",
      "Epoch: 0052 cost =  0.000438249 \t검증 세트 정확도: 99.559%\n",
      "Epoch: 0053 cost =  0.000349214 \t검증 세트 정확도: 99.559%\n",
      "Epoch: 0054 cost =  0.000429267 \t검증 세트 정확도: 99.614%\n",
      "Epoch: 0055 cost =  0.000258056 \t검증 세트 정확도: 99.448%\n",
      "Epoch: 0056 cost =  0.000361046 \t검증 세트 정확도: 99.614%\n",
      "Epoch: 0057 cost =  0.000241628 \t검증 세트 정확도: 99.448%\n",
      "Epoch: 0058 cost =  0.000273042 \t검증 세트 정확도: 99.448%\n",
      "Epoch: 0059 cost =  0.000361866 \t검증 세트 정확도: 99.614%\n",
      "Epoch: 0060 cost =  0.000260821 \t검증 세트 정확도: 99.559%\n",
      "Epoch: 0061 cost =  0.000237184 \t검증 세트 정확도: 99.504%\n",
      "Epoch: 0062 cost =  0.000225837 \t검증 세트 정확도: 99.559%\n",
      "Epoch: 0063 cost =  0.000355294 \t검증 세트 정확도: 99.504%\n",
      "Epoch: 0064 cost =  0.000347313 \t검증 세트 정확도: 99.448%\n",
      "Epoch: 0065 cost =  0.000399107 \t검증 세트 정확도: 99.504%\n",
      "Epoch: 0066 cost =  0.000246635 \t검증 세트 정확도: 99.614%\n",
      "Epoch: 0067 cost =  0.000424511 \t검증 세트 정확도: 99.173%\n",
      "Epoch: 0068 cost =  0.000600284 \t검증 세트 정확도: 99.559%\n",
      "Epoch: 0069 cost =  0.000250831 \t검증 세트 정확도: 99.559%\n",
      "Epoch: 0070 cost =  0.000227596 \t검증 세트 정확도: 99.559%\n",
      "Epoch: 0071 cost =  0.000410662 \t검증 세트 정확도: 99.504%\n",
      "Epoch: 0072 cost =  0.000233621 \t검증 세트 정확도: 99.614%\n",
      "Epoch: 0073 cost =  0.000433164 \t검증 세트 정확도: 99.393%\n",
      "Epoch: 0074 cost =  0.000199469 \t검증 세트 정확도: 99.559%\n",
      "Epoch: 0075 cost =  0.000165631 \t검증 세트 정확도: 99.559%\n",
      "Epoch: 0076 cost =  0.000306379 \t검증 세트 정확도: 99.393%\n",
      "Epoch: 0077 cost =  0.000421305 \t검증 세트 정확도: 99.393%\n",
      "Epoch: 0078 cost =  0.000282225 \t검증 세트 정확도: 99.448%\n",
      "Epoch: 0079 cost =  0.000559757 \t검증 세트 정확도: 99.448%\n",
      "Epoch: 0080 cost =  0.000379237 \t검증 세트 정확도: 99.559%\n",
      "Epoch: 0081 cost =  0.000209420 \t검증 세트 정확도: 99.504%\n",
      "Epoch: 0082 cost =  0.000166795 \t검증 세트 정확도: 99.614%\n",
      "Epoch: 0083 cost =  0.000127272 \t검증 세트 정확도: 99.614%\n",
      "Epoch: 0084 cost =  0.000381458 \t검증 세트 정확도: 99.448%\n",
      "Epoch: 0085 cost =  0.000379818 \t검증 세트 정확도: 99.559%\n",
      "Epoch: 0086 cost =  0.000234824 \t검증 세트 정확도: 99.614%\n",
      "Epoch: 0087 cost =  0.000221651 \t검증 세트 정확도: 99.504%\n",
      "Epoch: 0088 cost =  0.000261874 \t검증 세트 정확도: 99.504%\n",
      "Epoch: 0089 cost =  0.000222398 \t검증 세트 정확도: 99.614%\n",
      "Epoch: 0090 cost =  0.000211714 \t검증 세트 정확도: 99.504%\n",
      "Epoch: 0091 cost =  0.000287030 \t검증 세트 정확도: 99.504%\n",
      "Epoch: 0092 cost =  0.000341500 \t검증 세트 정확도: 99.559%\n",
      "Epoch: 0093 cost =  0.000374484 \t검증 세트 정확도: 99.559%\n",
      "Epoch: 0094 cost =  0.000421754 \t검증 세트 정확도: 99.559%\n",
      "Epoch: 0095 cost =  0.000191749 \t검증 세트 정확도: 99.559%\n",
      "Epoch: 0096 cost =  0.000156750 \t검증 세트 정확도: 99.559%\n",
      "Epoch: 0097 cost =  0.000523803 \t검증 세트 정확도: 99.504%\n",
      "Epoch: 0098 cost =  0.000256549 \t검증 세트 정확도: 99.559%\n",
      "Epoch: 0099 cost =  0.000235314 \t검증 세트 정확도: 99.283%\n",
      "Epoch: 0100 cost =  0.000076381 \t검증 세트 정확도: 99.393%\n",
      "Epoch: 0101 cost =  0.000375379 \t검증 세트 정확도: 99.614%\n",
      "Epoch: 0102 cost =  0.000222089 \t검증 세트 정확도: 99.504%\n",
      "Epoch: 0103 cost =  0.000105626 \t검증 세트 정확도: 99.559%\n",
      "Epoch: 0104 cost =  0.000218856 \t검증 세트 정확도: 99.504%\n",
      "Epoch: 0105 cost =  0.000195299 \t검증 세트 정확도: 99.559%\n",
      "Epoch: 0106 cost =  0.000318982 \t검증 세트 정확도: 99.504%\n",
      "Epoch: 0107 cost =  0.000288881 \t검증 세트 정확도: 99.614%\n",
      "Epoch: 0108 cost =  0.000373030 \t검증 세트 정확도: 99.448%\n",
      "Epoch: 0109 cost =  0.000255329 \t검증 세트 정확도: 99.504%\n",
      "Epoch: 0110 cost =  0.000251459 \t검증 세트 정확도: 99.559%\n",
      "Epoch: 0111 cost =  0.000271230 \t검증 세트 정확도: 99.559%\n",
      "Epoch: 0112 cost =  0.000276950 \t검증 세트 정확도: 99.559%\n",
      "Epoch: 0113 cost =  0.000132380 \t검증 세트 정확도: 99.559%\n",
      "Epoch: 0114 cost =  0.000137343 \t검증 세트 정확도: 99.614%\n",
      "Epoch: 0115 cost =  0.000110630 \t검증 세트 정확도: 99.559%\n",
      "Epoch: 0116 cost =  0.000303268 \t검증 세트 정확도: 99.559%\n",
      "Epoch: 0117 cost =  0.000159045 \t검증 세트 정확도: 99.448%\n",
      "Epoch: 0118 cost =  0.000098229 \t검증 세트 정확도: 99.448%\n",
      "Epoch: 0119 cost =  0.000162757 \t검증 세트 정확도: 99.559%\n",
      "Epoch: 0120 cost =  0.000191941 \t검증 세트 정확도: 99.559%\n",
      "Epoch: 0121 cost =  0.000189634 \t검증 세트 정확도: 99.559%\n",
      "Epoch: 0122 cost =  0.000143842 \t검증 세트 정확도: 99.559%\n",
      "Epoch: 0123 cost =  0.000366496 \t검증 세트 정확도: 99.504%\n",
      "Epoch: 0124 cost =  0.000444474 \t검증 세트 정확도: 99.559%\n",
      "Epoch: 0125 cost =  0.000316545 \t검증 세트 정확도: 99.559%\n",
      "Epoch: 0126 cost =  0.000227821 \t검증 세트 정확도: 99.504%\n",
      "Epoch: 0127 cost =  0.000309219 \t검증 세트 정확도: 99.559%\n",
      "Epoch: 0128 cost =  0.000273975 \t검증 세트 정확도: 99.559%\n",
      "Epoch: 0129 cost =  0.000208425 \t검증 세트 정확도: 99.559%\n",
      "Epoch: 0130 cost =  0.000306242 \t검증 세트 정확도: 99.504%\n",
      "Epoch: 0131 cost =  0.000207786 \t검증 세트 정확도: 99.614%\n",
      "Epoch: 0132 cost =  0.000381328 \t검증 세트 정확도: 99.559%\n",
      "Epoch: 0133 cost =  0.000234525 \t검증 세트 정확도: 99.614%\n",
      "Epoch: 0134 cost =  0.000267902 \t검증 세트 정확도: 99.504%\n",
      "Epoch: 0135 cost =  0.000214358 \t검증 세트 정확도: 99.614%\n",
      "Epoch: 0136 cost =  0.000141877 \t검증 세트 정확도: 99.559%\n",
      "Epoch: 0137 cost =  0.000105208 \t검증 세트 정확도: 99.614%\n",
      "Epoch: 0138 cost =  0.000293520 \t검증 세트 정확도: 99.559%\n",
      "Epoch: 0139 cost =  0.000308456 \t검증 세트 정확도: 99.448%\n",
      "Epoch: 0140 cost =  0.000089400 \t검증 세트 정확도: 99.559%\n",
      "Epoch: 0141 cost =  0.000502606 \t검증 세트 정확도: 99.448%\n",
      "Epoch: 0142 cost =  0.000347459 \t검증 세트 정확도: 99.504%\n",
      "Epoch: 0143 cost =  0.000134657 \t검증 세트 정확도: 99.559%\n",
      "Epoch: 0144 cost =  0.000171068 \t검증 세트 정확도: 99.614%\n",
      "Epoch: 0145 cost =  0.000265679 \t검증 세트 정확도: 99.614%\n",
      "Epoch: 0146 cost =  0.000151928 \t검증 세트 정확도: 99.448%\n",
      "Epoch: 0147 cost =  0.000132504 \t검증 세트 정확도: 99.559%\n",
      "Epoch: 0148 cost =  0.000333715 \t검증 세트 정확도: 99.393%\n",
      "Epoch: 0149 cost =  0.000626283 \t검증 세트 정확도: 99.448%\n",
      "Epoch: 0150 cost =  0.000331846 \t검증 세트 정확도: 99.504%\n",
      "Epoch: 0151 cost =  0.000218076 \t검증 세트 정확도: 99.448%\n",
      "Epoch: 0152 cost =  0.000176062 \t검증 세트 정확도: 99.504%\n",
      "Epoch: 0153 cost =  0.000029961 \t검증 세트 정확도: 99.448%\n",
      "Epoch: 0154 cost =  0.000145244 \t검증 세트 정확도: 99.559%\n",
      "Epoch: 0155 cost =  0.000240166 \t검증 세트 정확도: 99.504%\n",
      "Epoch: 0156 cost =  0.000447475 \t검증 세트 정확도: 99.559%\n",
      "Epoch: 0157 cost =  0.000166725 \t검증 세트 정확도: 99.504%\n",
      "Epoch: 0158 cost =  0.000204711 \t검증 세트 정확도: 99.338%\n"
     ]
    },
    {
     "name": "stdout",
     "output_type": "stream",
     "text": [
      "Epoch: 0159 cost =  0.000352439 \t검증 세트 정확도: 99.614%\n",
      "Epoch: 0160 cost =  0.000248318 \t검증 세트 정확도: 99.504%\n",
      "Epoch: 0161 cost =  0.000367252 \t검증 세트 정확도: 99.504%\n",
      "Epoch: 0162 cost =  0.000092679 \t검증 세트 정확도: 99.614%\n",
      "Epoch: 0163 cost =  0.000093594 \t검증 세트 정확도: 99.504%\n",
      "Epoch: 0164 cost =  0.000237648 \t검증 세트 정확도: 99.559%\n",
      "Epoch: 0165 cost =  0.000170301 \t검증 세트 정확도: 99.559%\n",
      "Epoch: 0166 cost =  0.000134574 \t검증 세트 정확도: 99.448%\n",
      "Epoch: 0167 cost =  0.000212054 \t검증 세트 정확도: 99.559%\n",
      "Epoch: 0168 cost =  0.000299069 \t검증 세트 정확도: 99.559%\n",
      "Epoch: 0169 cost =  0.000063711 \t검증 세트 정확도: 99.504%\n",
      "Epoch: 0170 cost =  0.000345568 \t검증 세트 정확도: 99.504%\n",
      "Epoch: 0171 cost =  0.000048856 \t검증 세트 정확도: 99.504%\n",
      "Epoch: 0172 cost =  0.000140238 \t검증 세트 정확도: 99.559%\n",
      "Epoch: 0173 cost =  0.000134375 \t검증 세트 정확도: 99.504%\n",
      "Epoch: 0174 cost =  0.000250021 \t검증 세트 정확도: 99.614%\n",
      "Epoch: 0175 cost =  0.000102983 \t검증 세트 정확도: 99.504%\n",
      "Epoch: 0176 cost =  0.000138450 \t검증 세트 정확도: 99.559%\n",
      "Epoch: 0177 cost =  0.000042453 \t검증 세트 정확도: 99.559%\n",
      "Epoch: 0178 cost =  0.000244433 \t검증 세트 정확도: 99.448%\n",
      "Epoch: 0179 cost =  0.001166109 \t검증 세트 정확도: 99.614%\n",
      "Epoch: 0180 cost =  0.000200195 \t검증 세트 정확도: 99.614%\n",
      "Epoch: 0181 cost =  0.000128231 \t검증 세트 정확도: 99.559%\n",
      "Epoch: 0182 cost =  0.000331925 \t검증 세트 정확도: 99.559%\n",
      "Epoch: 0183 cost =  0.000296726 \t검증 세트 정확도: 99.559%\n",
      "Epoch: 0184 cost =  0.000085420 \t검증 세트 정확도: 99.559%\n",
      "Epoch: 0185 cost =  0.000161502 \t검증 세트 정확도: 99.614%\n",
      "Epoch: 0186 cost =  0.000303401 \t검증 세트 정확도: 99.559%\n",
      "Epoch: 0187 cost =  0.000141358 \t검증 세트 정확도: 99.559%\n",
      "Epoch: 0188 cost =  0.000109663 \t검증 세트 정확도: 99.559%\n",
      "Epoch: 0189 cost =  0.000130032 \t검증 세트 정확도: 99.504%\n",
      "Epoch: 0190 cost =  0.000214713 \t검증 세트 정확도: 99.559%\n",
      "Epoch: 0191 cost =  0.000088416 \t검증 세트 정확도: 99.504%\n",
      "Epoch: 0192 cost =  0.000180978 \t검증 세트 정확도: 99.559%\n",
      "Epoch: 0193 cost =  0.000099664 \t검증 세트 정확도: 99.559%\n",
      "Epoch: 0194 cost =  0.000086821 \t검증 세트 정확도: 99.504%\n",
      "Epoch: 0195 cost =  0.000178307 \t검증 세트 정확도: 99.559%\n",
      "Epoch: 0196 cost =  0.000150974 \t검증 세트 정확도: 99.504%\n",
      "Epoch: 0197 cost =  0.000446987 \t검증 세트 정확도: 99.117%\n",
      "Epoch: 0198 cost =  0.000273902 \t검증 세트 정확도: 99.559%\n",
      "Epoch: 0199 cost =  0.000142211 \t검증 세트 정확도: 99.504%\n",
      "Epoch: 0200 cost =  0.000099757 \t검증 세트 정확도: 99.669%\n",
      "Epoch: 0201 cost =  0.000113562 \t검증 세트 정확도: 99.559%\n",
      "Epoch: 0202 cost =  0.000080170 \t검증 세트 정확도: 99.614%\n",
      "Epoch: 0203 cost =  0.000195993 \t검증 세트 정확도: 99.669%\n",
      "Epoch: 0204 cost =  0.000710234 \t검증 세트 정확도: 99.559%\n",
      "Epoch: 0205 cost =  0.000517856 \t검증 세트 정확도: 99.559%\n",
      "Epoch: 0206 cost =  0.000241342 \t검증 세트 정확도: 99.504%\n",
      "Epoch: 0207 cost =  0.000141436 \t검증 세트 정확도: 99.559%\n",
      "Epoch: 0208 cost =  0.000109168 \t검증 세트 정확도: 99.614%\n",
      "Epoch: 0209 cost =  0.000183138 \t검증 세트 정확도: 99.614%\n",
      "Epoch: 0210 cost =  0.000087696 \t검증 세트 정확도: 99.504%\n",
      "Epoch: 0211 cost =  0.000066325 \t검증 세트 정확도: 99.559%\n",
      "Epoch: 0212 cost =  0.000252204 \t검증 세트 정확도: 99.559%\n",
      "Epoch: 0213 cost =  0.000142089 \t검증 세트 정확도: 99.614%\n",
      "Epoch: 0214 cost =  0.000362580 \t검증 세트 정확도: 99.504%\n",
      "Epoch: 0215 cost =  0.000023603 \t검증 세트 정확도: 99.614%\n",
      "Epoch: 0216 cost =  0.000170424 \t검증 세트 정확도: 99.669%\n",
      "Epoch: 0217 cost =  0.000153483 \t검증 세트 정확도: 99.614%\n",
      "Epoch: 0218 cost =  0.000183365 \t검증 세트 정확도: 99.504%\n",
      "Epoch: 0219 cost =  0.000101442 \t검증 세트 정확도: 99.669%\n",
      "Epoch: 0220 cost =  0.000123767 \t검증 세트 정확도: 99.559%\n",
      "Epoch: 0221 cost =  0.000202758 \t검증 세트 정확도: 99.504%\n",
      "Epoch: 0222 cost =  0.000445101 \t검증 세트 정확도: 99.559%\n",
      "Epoch: 0223 cost =  0.000278715 \t검증 세트 정확도: 99.504%\n",
      "Epoch: 0224 cost =  0.000351363 \t검증 세트 정확도: 99.559%\n",
      "Epoch: 0225 cost =  0.000188474 \t검증 세트 정확도: 99.559%\n",
      "Epoch: 0226 cost =  0.000040887 \t검증 세트 정확도: 99.504%\n",
      "Epoch: 0227 cost =  0.000061712 \t검증 세트 정확도: 99.559%\n",
      "Epoch: 0228 cost =  0.000222429 \t검증 세트 정확도: 99.614%\n",
      "Epoch: 0229 cost =  0.000156560 \t검증 세트 정확도: 99.504%\n",
      "Epoch: 0230 cost =  0.000257257 \t검증 세트 정확도: 99.448%\n",
      "Epoch: 0231 cost =  0.000143468 \t검증 세트 정확도: 99.614%\n",
      "Epoch: 0232 cost =  0.000159634 \t검증 세트 정확도: 99.559%\n",
      "Epoch: 0233 cost =  0.000031986 \t검증 세트 정확도: 99.504%\n",
      "Epoch: 0234 cost =  0.000080482 \t검증 세트 정확도: 99.559%\n",
      "Epoch: 0235 cost =  0.000087164 \t검증 세트 정확도: 99.504%\n",
      "Epoch: 0236 cost =  0.000248956 \t검증 세트 정확도: 99.614%\n",
      "Epoch: 0237 cost =  0.000139819 \t검증 세트 정확도: 99.559%\n",
      "Epoch: 0238 cost =  0.000100927 \t검증 세트 정확도: 99.559%\n",
      "Epoch: 0239 cost =  0.000124413 \t검증 세트 정확도: 99.393%\n",
      "Epoch: 0240 cost =  0.000045308 \t검증 세트 정확도: 99.504%\n",
      "Epoch: 0241 cost =  0.000031894 \t검증 세트 정확도: 99.559%\n",
      "Epoch: 0242 cost =  0.000082164 \t검증 세트 정확도: 99.448%\n",
      "Epoch: 0243 cost =  0.000217850 \t검증 세트 정확도: 99.559%\n",
      "Epoch: 0244 cost =  0.000118644 \t검증 세트 정확도: 99.614%\n",
      "Epoch: 0245 cost =  0.000537813 \t검증 세트 정확도: 99.504%\n",
      "Epoch: 0246 cost =  0.000411017 \t검증 세트 정확도: 99.448%\n",
      "Epoch: 0247 cost =  0.000464578 \t검증 세트 정확도: 99.614%\n",
      "Epoch: 0248 cost =  0.000063086 \t검증 세트 정확도: 99.559%\n",
      "Epoch: 0249 cost =  0.000100558 \t검증 세트 정확도: 99.614%\n",
      "Epoch: 0250 cost =  0.000060834 \t검증 세트 정확도: 99.614%\n",
      "Epoch: 0251 cost =  0.000348761 \t검증 세트 정확도: 99.504%\n",
      "Epoch: 0252 cost =  0.000288107 \t검증 세트 정확도: 99.283%\n",
      "Epoch: 0253 cost =  0.000099985 \t검증 세트 정확도: 99.504%\n",
      "Epoch: 0254 cost =  0.000235541 \t검증 세트 정확도: 99.559%\n",
      "Epoch: 0255 cost =  0.000278414 \t검증 세트 정확도: 99.559%\n",
      "Epoch: 0256 cost =  0.000060513 \t검증 세트 정확도: 99.448%\n",
      "Epoch: 0257 cost =  0.000575149 \t검증 세트 정확도: 99.669%\n",
      "Epoch: 0258 cost =  0.000238138 \t검증 세트 정확도: 99.559%\n",
      "Epoch: 0259 cost =  0.000150216 \t검증 세트 정확도: 99.614%\n",
      "Epoch: 0260 cost =  0.000250461 \t검증 세트 정확도: 99.448%\n",
      "Epoch: 0261 cost =  0.000215908 \t검증 세트 정확도: 99.614%\n",
      "Epoch: 0262 cost =  0.000062342 \t검증 세트 정확도: 99.504%\n",
      "Epoch: 0263 cost =  0.000276694 \t검증 세트 정확도: 99.504%\n",
      "Epoch: 0264 cost =  0.000155071 \t검증 세트 정확도: 99.504%\n",
      "Epoch: 0265 cost =  0.000122370 \t검증 세트 정확도: 99.614%\n",
      "Epoch: 0266 cost =  0.000109488 \t검증 세트 정확도: 99.448%\n",
      "Epoch: 0267 cost =  0.000063621 \t검증 세트 정확도: 99.614%\n",
      "Epoch: 0268 cost =  0.000227196 \t검증 세트 정확도: 99.448%\n",
      "Epoch: 0269 cost =  0.000119104 \t검증 세트 정확도: 99.559%\n",
      "Epoch: 0270 cost =  0.000131083 \t검증 세트 정확도: 99.504%\n",
      "Epoch: 0271 cost =  0.000636724 \t검증 세트 정확도: 99.283%\n",
      "Epoch: 0272 cost =  0.000357297 \t검증 세트 정확도: 99.504%\n",
      "Epoch: 0273 cost =  0.000142417 \t검증 세트 정확도: 99.614%\n",
      "Epoch: 0274 cost =  0.000111633 \t검증 세트 정확도: 99.504%\n",
      "Epoch: 0275 cost =  0.000350333 \t검증 세트 정확도: 99.559%\n",
      "Epoch: 0276 cost =  0.000059430 \t검증 세트 정확도: 99.614%\n",
      "Epoch: 0277 cost =  0.000422035 \t검증 세트 정확도: 99.614%\n",
      "Epoch: 0278 cost =  0.000158619 \t검증 세트 정확도: 99.614%\n",
      "Epoch: 0279 cost =  0.000351262 \t검증 세트 정확도: 99.393%\n",
      "Epoch: 0280 cost =  0.000221475 \t검증 세트 정확도: 99.559%\n",
      "Epoch: 0281 cost =  0.000141561 \t검증 세트 정확도: 99.559%\n",
      "Epoch: 0282 cost =  0.000106803 \t검증 세트 정확도: 99.504%\n",
      "Epoch: 0283 cost =  0.000156424 \t검증 세트 정확도: 99.448%\n",
      "Epoch: 0284 cost =  0.000241349 \t검증 세트 정확도: 99.393%\n",
      "Epoch: 0285 cost =  0.000121052 \t검증 세트 정확도: 99.504%\n",
      "Epoch: 0286 cost =  0.000122326 \t검증 세트 정확도: 99.504%\n",
      "Epoch: 0287 cost =  0.000147704 \t검증 세트 정확도: 99.559%\n",
      "Epoch: 0288 cost =  0.000163538 \t검증 세트 정확도: 99.559%\n",
      "Epoch: 0289 cost =  0.000113071 \t검증 세트 정확도: 99.559%\n",
      "Epoch: 0290 cost =  0.000065267 \t검증 세트 정확도: 99.504%\n",
      "Epoch: 0291 cost =  0.000525219 \t검증 세트 정확도: 99.448%\n",
      "Epoch: 0292 cost =  0.000176072 \t검증 세트 정확도: 99.448%\n",
      "Epoch: 0293 cost =  0.000373538 \t검증 세트 정확도: 99.504%\n",
      "Epoch: 0294 cost =  0.000096832 \t검증 세트 정확도: 99.614%\n",
      "Epoch: 0295 cost =  0.000662240 \t검증 세트 정확도: 99.559%\n",
      "Epoch: 0296 cost =  0.000107796 \t검증 세트 정확도: 99.614%\n",
      "Epoch: 0297 cost =  0.000045344 \t검증 세트 정확도: 99.614%\n",
      "Epoch: 0298 cost =  0.000050732 \t검증 세트 정확도: 99.614%\n",
      "Epoch: 0299 cost =  0.000308460 \t검증 세트 정확도: 99.614%\n",
      "Epoch: 0300 cost =  0.000214651 \t검증 세트 정확도: 99.614%\n",
      "Epoch: 0301 cost =  0.000104776 \t검증 세트 정확도: 99.614%\n",
      "Epoch: 0302 cost =  0.000168011 \t검증 세트 정확도: 99.614%\n",
      "Epoch: 0303 cost =  0.000197374 \t검증 세트 정확도: 99.448%\n",
      "Epoch: 0304 cost =  0.000120461 \t검증 세트 정확도: 99.504%\n",
      "Epoch: 0305 cost =  0.000493193 \t검증 세트 정확도: 99.614%\n",
      "Epoch: 0306 cost =  0.000213269 \t검증 세트 정확도: 99.559%\n",
      "Epoch: 0307 cost =  0.000049942 \t검증 세트 정확도: 99.614%\n",
      "Epoch: 0308 cost =  0.000215346 \t검증 세트 정확도: 99.614%\n",
      "Epoch: 0309 cost =  0.000041138 \t검증 세트 정확도: 99.448%\n",
      "Epoch: 0310 cost =  0.000072121 \t검증 세트 정확도: 99.559%\n",
      "Epoch: 0311 cost =  0.000165687 \t검증 세트 정확도: 99.614%\n",
      "Epoch: 0312 cost =  0.000147874 \t검증 세트 정확도: 99.614%\n",
      "Epoch: 0313 cost =  0.000393900 \t검증 세트 정확도: 99.559%\n",
      "Epoch: 0314 cost =  0.000706494 \t검증 세트 정확도: 99.559%\n",
      "Epoch: 0315 cost =  0.000100598 \t검증 세트 정확도: 99.614%\n",
      "Epoch: 0316 cost =  0.000268997 \t검증 세트 정확도: 99.559%\n"
     ]
    },
    {
     "name": "stdout",
     "output_type": "stream",
     "text": [
      "Epoch: 0317 cost =  0.000252567 \t검증 세트 정확도: 99.614%\n",
      "Epoch: 0318 cost =  0.000241383 \t검증 세트 정확도: 99.559%\n",
      "Epoch: 0319 cost =  0.000093525 \t검증 세트 정확도: 99.669%\n",
      "Epoch: 0320 cost =  0.000098671 \t검증 세트 정확도: 99.669%\n",
      "Epoch: 0321 cost =  0.000089298 \t검증 세트 정확도: 99.559%\n",
      "Epoch: 0322 cost =  0.000051155 \t검증 세트 정확도: 99.614%\n",
      "Epoch: 0323 cost =  0.000150402 \t검증 세트 정확도: 99.614%\n",
      "Epoch: 0324 cost =  0.000203871 \t검증 세트 정확도: 99.559%\n",
      "Epoch: 0325 cost =  0.000301880 \t검증 세트 정확도: 99.614%\n",
      "Epoch: 0326 cost =  0.000057612 \t검증 세트 정확도: 99.559%\n",
      "Epoch: 0327 cost =  0.000433072 \t검증 세트 정확도: 99.504%\n",
      "Epoch: 0328 cost =  0.000178287 \t검증 세트 정확도: 99.504%\n",
      "Epoch: 0329 cost =  0.000074988 \t검증 세트 정확도: 99.559%\n",
      "Epoch: 0330 cost =  0.000406623 \t검증 세트 정확도: 99.393%\n",
      "Epoch: 0331 cost =  0.000242144 \t검증 세트 정확도: 99.448%\n",
      "Epoch: 0332 cost =  0.000106488 \t검증 세트 정확도: 99.504%\n",
      "Epoch: 0333 cost =  0.000213116 \t검증 세트 정확도: 99.228%\n",
      "Epoch: 0334 cost =  0.000108310 \t검증 세트 정확도: 99.504%\n",
      "Epoch: 0335 cost =  0.000190668 \t검증 세트 정확도: 99.338%\n",
      "Epoch: 0336 cost =  0.000122849 \t검증 세트 정확도: 99.559%\n",
      "Epoch: 0337 cost =  0.000067893 \t검증 세트 정확도: 99.504%\n",
      "Epoch: 0338 cost =  0.000493971 \t검증 세트 정확도: 99.559%\n",
      "Epoch: 0339 cost =  0.000230491 \t검증 세트 정확도: 99.559%\n",
      "Epoch: 0340 cost =  0.000104955 \t검증 세트 정확도: 99.338%\n",
      "Epoch: 0341 cost =  0.000245564 \t검증 세트 정확도: 99.393%\n",
      "Epoch: 0342 cost =  0.000305447 \t검증 세트 정확도: 99.338%\n",
      "Epoch: 0343 cost =  0.000208462 \t검증 세트 정확도: 99.393%\n",
      "Epoch: 0344 cost =  0.000084411 \t검증 세트 정확도: 99.504%\n",
      "Epoch: 0345 cost =  0.000069358 \t검증 세트 정확도: 99.559%\n",
      "Epoch: 0346 cost =  0.000054251 \t검증 세트 정확도: 99.504%\n",
      "Epoch: 0347 cost =  0.000041814 \t검증 세트 정확도: 99.448%\n",
      "Epoch: 0348 cost =  0.000024231 \t검증 세트 정확도: 99.504%\n",
      "Epoch: 0349 cost =  0.000011995 \t검증 세트 정확도: 99.504%\n",
      "Epoch: 0350 cost =  0.000003914 \t검증 세트 정확도: 99.504%\n",
      "Epoch: 0351 cost =  0.000223480 \t검증 세트 정확도: 99.559%\n",
      "Epoch: 0352 cost =  0.000133977 \t검증 세트 정확도: 99.504%\n",
      "Epoch: 0353 cost =  0.000325353 \t검증 세트 정확도: 99.504%\n",
      "Epoch: 0354 cost =  0.000142001 \t검증 세트 정확도: 99.559%\n",
      "Epoch: 0355 cost =  0.000228651 \t검증 세트 정확도: 99.448%\n",
      "Epoch: 0356 cost =  0.000394200 \t검증 세트 정확도: 99.504%\n",
      "Epoch: 0357 cost =  0.000099222 \t검증 세트 정확도: 99.338%\n",
      "Epoch: 0358 cost =  0.000152974 \t검증 세트 정확도: 99.614%\n",
      "Epoch: 0359 cost =  0.000070049 \t검증 세트 정확도: 99.614%\n",
      "Epoch: 0360 cost =  0.000095572 \t검증 세트 정확도: 99.559%\n",
      "Epoch: 0361 cost =  0.000144163 \t검증 세트 정확도: 99.448%\n",
      "Epoch: 0362 cost =  0.000447849 \t검증 세트 정확도: 99.559%\n",
      "Epoch: 0363 cost =  0.000310243 \t검증 세트 정확도: 99.448%\n",
      "Epoch: 0364 cost =  0.000632270 \t검증 세트 정확도: 99.338%\n",
      "Epoch: 0365 cost =  0.000109006 \t검증 세트 정확도: 99.448%\n",
      "Epoch: 0366 cost =  0.000060775 \t검증 세트 정확도: 99.614%\n",
      "Epoch: 0367 cost =  0.000215831 \t검증 세트 정확도: 99.559%\n",
      "Epoch: 0368 cost =  0.000663047 \t검증 세트 정확도: 99.559%\n",
      "Epoch: 0369 cost =  0.000073551 \t검증 세트 정확도: 99.559%\n",
      "Epoch: 0370 cost =  0.000020867 \t검증 세트 정확도: 99.614%\n",
      "Epoch: 0371 cost =  0.000433189 \t검증 세트 정확도: 99.559%\n",
      "Epoch: 0372 cost =  0.001295264 \t검증 세트 정확도: 99.559%\n",
      "Epoch: 0373 cost =  0.000710489 \t검증 세트 정확도: 99.504%\n",
      "Epoch: 0374 cost =  0.000142896 \t검증 세트 정확도: 99.504%\n",
      "Epoch: 0375 cost =  0.000187628 \t검증 세트 정확도: 99.614%\n",
      "Epoch: 0376 cost =  0.000086425 \t검증 세트 정확도: 99.669%\n",
      "Epoch: 0377 cost =  0.000062876 \t검증 세트 정확도: 99.559%\n",
      "Epoch: 0378 cost =  0.000131945 \t검증 세트 정확도: 99.614%\n",
      "Epoch: 0379 cost =  0.000310104 \t검증 세트 정확도: 99.504%\n",
      "Epoch: 0380 cost =  0.000275722 \t검증 세트 정확도: 99.504%\n",
      "Epoch: 0381 cost =  0.000233950 \t검증 세트 정확도: 99.393%\n",
      "Epoch: 0382 cost =  0.000058649 \t검증 세트 정확도: 99.504%\n",
      "Epoch: 0383 cost =  0.000064530 \t검증 세트 정확도: 99.448%\n",
      "Epoch: 0384 cost =  0.000186017 \t검증 세트 정확도: 99.504%\n",
      "Epoch: 0385 cost =  0.000079512 \t검증 세트 정확도: 99.559%\n",
      "Epoch: 0386 cost =  0.000038724 \t검증 세트 정확도: 99.559%\n",
      "Epoch: 0387 cost =  0.000059417 \t검증 세트 정확도: 99.614%\n",
      "Epoch: 0388 cost =  0.000045780 \t검증 세트 정확도: 99.504%\n",
      "Epoch: 0389 cost =  0.000083867 \t검증 세트 정확도: 99.614%\n",
      "Epoch: 0390 cost =  0.000221910 \t검증 세트 정확도: 99.448%\n",
      "Epoch: 0391 cost =  0.000076641 \t검증 세트 정확도: 99.504%\n",
      "Epoch: 0392 cost =  0.000063686 \t검증 세트 정확도: 99.504%\n",
      "Epoch: 0393 cost =  0.000259648 \t검증 세트 정확도: 99.117%\n",
      "Epoch: 0394 cost =  0.000425285 \t검증 세트 정확도: 99.614%\n",
      "Epoch: 0395 cost =  0.000050888 \t검증 세트 정확도: 99.504%\n",
      "Epoch: 0396 cost =  0.000031129 \t검증 세트 정확도: 99.448%\n",
      "Epoch: 0397 cost =  0.000669671 \t검증 세트 정확도: 99.504%\n",
      "Epoch: 0398 cost =  0.000633480 \t검증 세트 정확도: 99.614%\n",
      "Epoch: 0399 cost =  0.000373767 \t검증 세트 정확도: 99.559%\n"
     ]
    },
    {
     "data": {
      "text/plain": [
       "'../models/CNN/my_test_model_cnn'"
      ]
     },
     "execution_count": 29,
     "metadata": {},
     "output_type": "execute_result"
    }
   ],
   "source": [
    "#original \n",
    "batch_size = 32\n",
    "cost_history = np.empty(shape=[1], dtype=float)\n",
    "\n",
    "for epoch in range(1,400):\n",
    "    avg_cost = 0    \n",
    "#    total_batch = int(X_train.shape[0] / batch_size)\n",
    "    for i in range( int(math.ceil(len(X_train)/batch_size)) ): # 배치 사이즈로 나눈 나머지 다 돌 수 있게 \n",
    "        x_ = X_train[batch_size * i: batch_size * (i + 1)]\n",
    "        y_ = y_train[batch_size * i: batch_size * (i + 1)]\n",
    "        feed_dict={X:x_, Y:y_, keep_prob:0.6}    \n",
    "        c, _ = sess.run([cost, optimizer], feed_dict=feed_dict)\n",
    "        cost_history = np.append(cost_history,cost)\n",
    "        avg_cost += c\n",
    "    #accuracy_val = sess.run([accuracy], feed_dict={X:X_val, Y:y_val\n",
    "    val_pred = sess.run(tf.argmax(logits,1),feed_dict={X: X_val , keep_prob:1})  \n",
    "    val_true = sess.run(tf.argmax(y_val,1))\n",
    "    accuracy_val = accuracy_score(val_pred, val_true)\n",
    "    print('Epoch:', '%04d' % (epoch), 'cost = ', '{:.9f}'.format(avg_cost / len(X_train)), \"\\t검증 세트 정확도: {:.3f}%\".format(accuracy_val * 100),)\n",
    "saver.save(sess, model_path)\n",
    "\n",
    "#if epoch% 20 == 0:\n",
    "#   save"
   ]
  },
  {
   "cell_type": "markdown",
   "metadata": {},
   "source": [
    "## Prediction"
   ]
  },
  {
   "cell_type": "code",
   "execution_count": 30,
   "metadata": {},
   "outputs": [],
   "source": [
    "y_pred = sess.run(tf.argmax(logits,1),feed_dict={X: X_test , keep_prob:1}) \n",
    "y_true = sess.run(tf.argmax(y_test,1))"
   ]
  },
  {
   "cell_type": "code",
   "execution_count": 31,
   "metadata": {},
   "outputs": [
    {
     "name": "stdout",
     "output_type": "stream",
     "text": [
      "F-Score: 0.994\n",
      "Accuracy:  0.9942630185348632\n",
      "             precision    recall  f1-score   support\n",
      "\n",
      "          0       0.98      0.99      0.99       506\n",
      "          1       1.00      1.00      1.00      1760\n",
      "\n",
      "avg / total       0.99      0.99      0.99      2266\n",
      "\n",
      "[[ 501    5]\n",
      " [   8 1752]]\n"
     ]
    }
   ],
   "source": [
    "# Ptint Result\n",
    "\n",
    "from sklearn.metrics import precision_recall_fscore_support\n",
    "p,r,f,s = precision_recall_fscore_support(y_true, y_pred, average='micro')\n",
    "print(\"F-Score:\", round(f,3))\n",
    "from sklearn.metrics import accuracy_score\n",
    "print(\"Accuracy: \", accuracy_score(y_true, y_pred))\n",
    "\n",
    "from sklearn.metrics import classification_report\n",
    "print(classification_report(y_true, y_pred))\n",
    "from sklearn.metrics import confusion_matrix\n",
    "print(confusion_matrix(y_true, y_pred))"
   ]
  }
 ],
 "metadata": {
  "kernelspec": {
   "display_name": "Python 3",
   "language": "python",
   "name": "python3"
  },
  "language_info": {
   "codemirror_mode": {
    "name": "ipython",
    "version": 3
   },
   "file_extension": ".py",
   "mimetype": "text/x-python",
   "name": "python",
   "nbconvert_exporter": "python",
   "pygments_lexer": "ipython3",
   "version": "3.6.6"
  }
 },
 "nbformat": 4,
 "nbformat_minor": 2
}
