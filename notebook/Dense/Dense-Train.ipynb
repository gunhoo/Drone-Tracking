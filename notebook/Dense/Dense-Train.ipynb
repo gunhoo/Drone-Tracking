{
 "cells": [
  {
   "cell_type": "code",
   "execution_count": 1,
   "metadata": {},
   "outputs": [],
   "source": [
    "import matplotlib.pyplot as plt\n",
    "%matplotlib inline\n",
    "import IPython.display\n",
    "import librosa.display\n",
    "import numpy as np\n",
    "import librosa\n",
    "import tensorflow as tf\n",
    "import glob"
   ]
  },
  {
   "cell_type": "markdown",
   "metadata": {},
   "source": [
    "### If you have been save the data, you don't have to preprocessing and save the data"
   ]
  },
  {
   "cell_type": "code",
   "execution_count": 2,
   "metadata": {},
   "outputs": [],
   "source": [
    "drone_path = '../../../inner10m/*.wav'\n",
    "background_path = '../../data/background-tmp/*.wav'\n",
    "\n",
    "drone_files = glob.glob(drone_path)\n",
    "background_files = glob.glob(background_path)"
   ]
  },
  {
   "cell_type": "code",
   "execution_count": 3,
   "metadata": {},
   "outputs": [],
   "source": [
    "CHUNK_SIZE = 8192\n",
    "SR = 22050\n",
    "N_MFCC = 16"
   ]
  },
  {
   "cell_type": "code",
   "execution_count": 4,
   "metadata": {},
   "outputs": [],
   "source": [
    "def load(files, sr=22050):\n",
    "    [raw, sr] = librosa.load(files[0], sr=sr)\n",
    "    for f in files[1:]:\n",
    "        [array, sr] = librosa.load(f, sr=sr)\n",
    "        raw = np.hstack((raw, array))\n",
    "    print(raw.shape)\n",
    "    return raw"
   ]
  },
  {
   "cell_type": "code",
   "execution_count": 5,
   "metadata": {},
   "outputs": [
    {
     "name": "stdout",
     "output_type": "stream",
     "text": [
      "(4464640,)\n",
      "(11127941,)\n"
     ]
    }
   ],
   "source": [
    "drone_raw = load(drone_files)\n",
    "background_raw = load(background_files)"
   ]
  },
  {
   "cell_type": "markdown",
   "metadata": {},
   "source": [
    "# Data preprocessing"
   ]
  },
  {
   "cell_type": "markdown",
   "metadata": {},
   "source": [
    "Chose `mfcc4` among functions below:\n",
    "- input size 16x16; `n_mfcc=16`, used first 16 data points from 16x17 mfcc of a chunk with size 8192\n",
    "- chunk siez 8192, overlapped half of it"
   ]
  },
  {
   "cell_type": "code",
   "execution_count": 6,
   "metadata": {},
   "outputs": [],
   "source": [
    "def mfcc4(raw, label, chunk_size=8192, window_size=4096, sr=22050, n_mfcc=16, n_frame=16):\n",
    "    mfcc = np.empty((0, n_mfcc, n_frame))\n",
    "    y = []\n",
    "    print(raw.shape)\n",
    "    for i in range(0, len(raw), chunk_size//2):\n",
    "        mfcc_slice = librosa.feature.mfcc(raw[i:i+chunk_size], sr=sr, n_mfcc=n_mfcc) #n_mfcc,17\n",
    "        if mfcc_slice.shape[1] < 17:\n",
    "            print(\"small end:\", mfcc_slice.shape)\n",
    "            continue\n",
    "        mfcc_slice = mfcc_slice[:,:-1]\n",
    "        mfcc_slice = mfcc_slice.reshape((1, mfcc_slice.shape[0], mfcc_slice.shape[1]))\n",
    "        mfcc = np.vstack((mfcc, mfcc_slice))\n",
    "        y.append(label)\n",
    "    y = np.array(y)\n",
    "    return mfcc, y"
   ]
  },
  {
   "cell_type": "code",
   "execution_count": 7,
   "metadata": {},
   "outputs": [
    {
     "name": "stdout",
     "output_type": "stream",
     "text": [
      "(4464640,)\n",
      "small end: (16, 9)\n",
      "(11127941,)\n",
      "small end: (16, 15)\n",
      "small end: (16, 7)\n",
      "(1089, 16, 16) (1089,)\n",
      "(2715, 16, 16) (2715,)\n"
     ]
    }
   ],
   "source": [
    "mfcc_drone, y_drone = mfcc4(drone_raw, 1)\n",
    "mfcc_background, y_background = mfcc4(background_raw, 0)\n",
    "\n",
    "print(mfcc_drone.shape, y_drone.shape)\n",
    "print(mfcc_background.shape, y_background.shape)"
   ]
  },
  {
   "cell_type": "code",
   "execution_count": 8,
   "metadata": {},
   "outputs": [
    {
     "name": "stdout",
     "output_type": "stream",
     "text": [
      "(3804, 16, 16) (3804,)\n"
     ]
    }
   ],
   "source": [
    "X = np.concatenate((mfcc_drone, mfcc_background), axis=0)\n",
    "y = np.hstack((y_drone, y_background))\n",
    "print(X.shape, y.shape)"
   ]
  },
  {
   "cell_type": "code",
   "execution_count": 9,
   "metadata": {},
   "outputs": [],
   "source": [
    "X = np.reshape(X,(X.shape[0],-1))"
   ]
  },
  {
   "cell_type": "code",
   "execution_count": 10,
   "metadata": {},
   "outputs": [
    {
     "data": {
      "text/plain": [
       "(3804, 256)"
      ]
     },
     "execution_count": 10,
     "metadata": {},
     "output_type": "execute_result"
    }
   ],
   "source": [
    "X.shape"
   ]
  },
  {
   "cell_type": "code",
   "execution_count": 11,
   "metadata": {},
   "outputs": [
    {
     "name": "stdout",
     "output_type": "stream",
     "text": [
      "(3804, 2)\n"
     ]
    }
   ],
   "source": [
    "n_labels = y.shape[0]\n",
    "n_unique_labels = 2\n",
    "y_encoded = np.zeros((n_labels, n_unique_labels))\n",
    "y_encoded[np.arange(n_labels), y] = 1\n",
    "print(y_encoded.shape)"
   ]
  },
  {
   "cell_type": "code",
   "execution_count": 12,
   "metadata": {},
   "outputs": [],
   "source": [
    "# Split data\n",
    "from sklearn import model_selection\n",
    "X_train, X_test, y_train, y_test = model_selection.train_test_split(X, y_encoded, test_size=0.2, random_state=42)\n",
    "X_train, X_val, y_train, y_val = model_selection.train_test_split(X_train, y_train, test_size=0.2, random_state=42)"
   ]
  },
  {
   "cell_type": "code",
   "execution_count": 13,
   "metadata": {},
   "outputs": [
    {
     "name": "stdout",
     "output_type": "stream",
     "text": [
      "(2434, 256) (2434, 2)\n",
      "(609, 256) (609, 2)\n",
      "(761, 256) (761, 2)\n"
     ]
    }
   ],
   "source": [
    "print(X_train.shape,y_train.shape)\n",
    "print(X_val.shape, y_val.shape)\n",
    "print(X_test.shape, y_test.shape)"
   ]
  },
  {
   "cell_type": "code",
   "execution_count": 14,
   "metadata": {},
   "outputs": [],
   "source": [
    "# Save Data\n",
    "np.save('../../model/X_train', X_train)\n",
    "np.save('../../model/X_test', X_test)\n",
    "np.save('../../model/X_val', X_val)\n",
    "np.save('../../model/y_val', y_val)\n",
    "np.save('../../model/y_train', y_train)\n",
    "np.save('../../model/y_test', y_test)"
   ]
  },
  {
   "cell_type": "markdown",
   "metadata": {},
   "source": [
    "### Until this part"
   ]
  },
  {
   "cell_type": "code",
   "execution_count": 15,
   "metadata": {},
   "outputs": [],
   "source": [
    "# Load Data\n",
    "X_train = np.load('../../model/X_train.npy')\n",
    "X_test = np.load('../../model/X_test.npy')\n",
    "X_val = np.load('../../model/X_val.npy')\n",
    "y_val = np.load('../../model/y_val.npy')\n",
    "y_train = np.load('../../model/y_train.npy')\n",
    "y_test = np.load('../../model/y_test.npy')"
   ]
  },
  {
   "cell_type": "markdown",
   "metadata": {},
   "source": [
    "# Experiment 3 - One convolutional layer /w no dropout\n"
   ]
  },
  {
   "cell_type": "markdown",
   "metadata": {},
   "source": [
    "##Experiment 3-2\n",
    "- learning rate 0.005\n",
    "- pooling stride 1x1\n",
    "- #filter 1\n",
    "- best result among every other settings\n",
    "- cost kept fluctuated during training. (0.8 -> 1.3) -- why is that?"
   ]
  },
  {
   "cell_type": "code",
   "execution_count": 16,
   "metadata": {},
   "outputs": [],
   "source": [
    "tf.reset_default_graph()"
   ]
  },
  {
   "cell_type": "code",
   "execution_count": 17,
   "metadata": {},
   "outputs": [],
   "source": [
    "n_mfcc = 16\n",
    "n_frame = 16\n",
    "n_classes = 2\n",
    "n_channels = 1\n",
    "\n",
    "kernel_size = 3\n",
    "stride = 1\n",
    "pad = \"SAME\"\n",
    "\n",
    "learning_rate = 0.0002  # 0.005\n",
    "training_epochs = 500 # 수정해야해"
   ]
  },
  {
   "cell_type": "markdown",
   "metadata": {},
   "source": [
    "# Layer"
   ]
  },
  {
   "cell_type": "markdown",
   "metadata": {},
   "source": [
    "## Experiment\n",
    "- learning rate 0.0002\n",
    "- no cnn/ pooling \n",
    "- just dense with dropout "
   ]
  },
  {
   "cell_type": "code",
   "execution_count": 18,
   "metadata": {},
   "outputs": [],
   "source": [
    "X = tf.placeholder(tf.float32, shape=[None,n_mfcc*n_frame*n_channels])\n",
    "Y = tf.placeholder(tf.float32, shape=[None,n_classes])\n",
    "\n",
    "keep_prob = tf.placeholder(tf.float32)\n",
    "\n",
    "dense1 = tf.layers.dense(inputs=X, units=256, activation=tf.nn.relu)\n",
    "dropout1 = tf.nn.dropout(dense1, keep_prob=keep_prob)\n",
    "dense2 = tf.layers.dense(inputs=dropout1, units=256, activation=tf.nn.relu)\n",
    "dropout2 = tf.nn.dropout(dense2, keep_prob=keep_prob)\n",
    "dense3 = tf.layers.dense(inputs=dropout2, units=512, activation=tf.nn.relu)\n",
    "dropout3 = tf.nn.dropout(dense3, keep_prob=keep_prob)\n",
    "dense4 = tf.layers.dense(inputs=dropout3, units=512, activation=tf.nn.relu)\n",
    "dropout4 = tf.nn.dropout(dense4, keep_prob=keep_prob)\n",
    "dense5 = tf.layers.dense(inputs=dropout4, units=256, activation=tf.nn.relu)\n",
    "dropout5 = tf.nn.dropout(dense5, keep_prob=keep_prob)\n",
    "\n",
    "logits= tf.layers.dense(inputs=dropout5, units=2)"
   ]
  },
  {
   "cell_type": "code",
   "execution_count": 19,
   "metadata": {},
   "outputs": [],
   "source": [
    "cost = tf.reduce_mean(tf.nn.softmax_cross_entropy_with_logits_v2(logits=logits, labels=Y))\n",
    "optimizer = tf.train.AdamOptimizer(learning_rate=learning_rate).minimize(cost)"
   ]
  },
  {
   "cell_type": "code",
   "execution_count": 20,
   "metadata": {},
   "outputs": [],
   "source": [
    "sess = tf.Session()\n",
    "sess.run(tf.global_variables_initializer())"
   ]
  },
  {
   "cell_type": "code",
   "execution_count": 21,
   "metadata": {},
   "outputs": [],
   "source": [
    "# model save\n",
    "model_path = '../../model/Dense/dense_model'\n",
    "saver = tf.train.Saver()"
   ]
  },
  {
   "cell_type": "markdown",
   "metadata": {},
   "source": [
    "# Trainning"
   ]
  },
  {
   "cell_type": "code",
   "execution_count": 22,
   "metadata": {},
   "outputs": [],
   "source": [
    "import math"
   ]
  },
  {
   "cell_type": "code",
   "execution_count": 23,
   "metadata": {
    "scrolled": false
   },
   "outputs": [],
   "source": [
    "with tf.name_scope(\"eval\"):\n",
    "    correct = tf.nn.in_top_k(logits, y, 1)\n",
    "    accuracy = tf.reduce_mean(tf.cast(correct, tf.float32))\n",
    "#    accuracy_summary = tf.summary.scalar('accuracy', accuracy)"
   ]
  },
  {
   "cell_type": "code",
   "execution_count": 24,
   "metadata": {},
   "outputs": [],
   "source": [
    "from sklearn.metrics import accuracy_score"
   ]
  },
  {
   "cell_type": "code",
   "execution_count": 25,
   "metadata": {
    "scrolled": false
   },
   "outputs": [
    {
     "name": "stdout",
     "output_type": "stream",
     "text": [
      "Epoch: 0001 cost =  0.596140450 \t검증 세트 정확도: 85.550%\n",
      "Epoch: 0002 cost =  0.233964813 \t검증 세트 정확도: 99.343%\n",
      "Epoch: 0003 cost =  0.129944661 \t검증 세트 정확도: 98.851%\n",
      "Epoch: 0004 cost =  0.083488998 \t검증 세트 정확도: 99.179%\n",
      "Epoch: 0005 cost =  0.051306359 \t검증 세트 정확도: 99.672%\n",
      "Epoch: 0006 cost =  0.030927340 \t검증 세트 정확도: 99.672%\n",
      "Epoch: 0007 cost =  0.019438816 \t검증 세트 정확도: 99.672%\n",
      "Epoch: 0008 cost =  0.016132515 \t검증 세트 정확도: 99.672%\n",
      "Epoch: 0009 cost =  0.007689146 \t검증 세트 정확도: 99.507%\n",
      "Epoch: 0010 cost =  0.005533559 \t검증 세트 정확도: 99.507%\n",
      "Epoch: 0011 cost =  0.004462403 \t검증 세트 정확도: 99.507%\n",
      "Epoch: 0012 cost =  0.003628177 \t검증 세트 정확도: 99.672%\n",
      "Epoch: 0013 cost =  0.003281029 \t검증 세트 정확도: 99.507%\n",
      "Epoch: 0014 cost =  0.002783051 \t검증 세트 정확도: 99.507%\n",
      "Epoch: 0015 cost =  0.004646885 \t검증 세트 정확도: 99.507%\n",
      "Epoch: 0016 cost =  0.002142132 \t검증 세트 정확도: 99.507%\n",
      "Epoch: 0017 cost =  0.001695572 \t검증 세트 정확도: 99.507%\n",
      "Epoch: 0018 cost =  0.002016433 \t검증 세트 정확도: 99.507%\n",
      "Epoch: 0019 cost =  0.001096786 \t검증 세트 정확도: 99.507%\n",
      "Epoch: 0020 cost =  0.000894347 \t검증 세트 정확도: 99.507%\n",
      "Epoch: 0021 cost =  0.001079165 \t검증 세트 정확도: 99.507%\n",
      "Epoch: 0022 cost =  0.001460253 \t검증 세트 정확도: 99.507%\n",
      "Epoch: 0023 cost =  0.001311930 \t검증 세트 정확도: 99.507%\n",
      "Epoch: 0024 cost =  0.002480736 \t검증 세트 정확도: 99.672%\n",
      "Epoch: 0025 cost =  0.001468212 \t검증 세트 정확도: 99.672%\n",
      "Epoch: 0026 cost =  0.001366099 \t검증 세트 정확도: 99.507%\n",
      "Epoch: 0027 cost =  0.000852972 \t검증 세트 정확도: 99.507%\n",
      "Epoch: 0028 cost =  0.001366806 \t검증 세트 정확도: 99.507%\n",
      "Epoch: 0029 cost =  0.000761642 \t검증 세트 정확도: 99.672%\n",
      "Epoch: 0030 cost =  0.000447710 \t검증 세트 정확도: 99.507%\n",
      "Epoch: 0031 cost =  0.000929542 \t검증 세트 정확도: 99.672%\n",
      "Epoch: 0032 cost =  0.000395973 \t검증 세트 정확도: 99.672%\n",
      "Epoch: 0033 cost =  0.000765963 \t검증 세트 정확도: 99.507%\n",
      "Epoch: 0034 cost =  0.000477795 \t검증 세트 정확도: 99.672%\n",
      "Epoch: 0035 cost =  0.000387951 \t검증 세트 정확도: 99.672%\n",
      "Epoch: 0036 cost =  0.000554113 \t검증 세트 정확도: 99.507%\n",
      "Epoch: 0037 cost =  0.000402182 \t검증 세트 정확도: 99.672%\n",
      "Epoch: 0038 cost =  0.000315851 \t검증 세트 정확도: 99.672%\n",
      "Epoch: 0039 cost =  0.000457947 \t검증 세트 정확도: 99.672%\n",
      "Epoch: 0040 cost =  0.000359476 \t검증 세트 정확도: 99.672%\n",
      "Epoch: 0041 cost =  0.000180609 \t검증 세트 정확도: 99.672%\n",
      "Epoch: 0042 cost =  0.000621508 \t검증 세트 정확도: 99.672%\n",
      "Epoch: 0043 cost =  0.000273467 \t검증 세트 정확도: 99.672%\n",
      "Epoch: 0044 cost =  0.000268419 \t검증 세트 정확도: 99.672%\n",
      "Epoch: 0045 cost =  0.000281135 \t검증 세트 정확도: 99.672%\n",
      "Epoch: 0046 cost =  0.000215187 \t검증 세트 정확도: 99.672%\n",
      "Epoch: 0047 cost =  0.000612289 \t검증 세트 정확도: 99.672%\n",
      "Epoch: 0048 cost =  0.000638519 \t검증 세트 정확도: 99.672%\n",
      "Epoch: 0049 cost =  0.000532852 \t검증 세트 정확도: 99.672%\n",
      "Epoch: 0050 cost =  0.000323566 \t검증 세트 정확도: 99.672%\n",
      "Epoch: 0051 cost =  0.000258826 \t검증 세트 정확도: 99.672%\n",
      "Epoch: 0052 cost =  0.000567953 \t검증 세트 정확도: 99.836%\n",
      "Epoch: 0053 cost =  0.000226461 \t검증 세트 정확도: 99.672%\n",
      "Epoch: 0054 cost =  0.000239458 \t검증 세트 정확도: 99.672%\n",
      "Epoch: 0055 cost =  0.000082462 \t검증 세트 정확도: 99.672%\n",
      "Epoch: 0056 cost =  0.000191298 \t검증 세트 정확도: 99.672%\n",
      "Epoch: 0057 cost =  0.000222658 \t검증 세트 정확도: 99.836%\n",
      "Epoch: 0058 cost =  0.000033671 \t검증 세트 정확도: 99.672%\n",
      "Epoch: 0059 cost =  0.000499950 \t검증 세트 정확도: 99.672%\n",
      "Epoch: 0060 cost =  0.000350305 \t검증 세트 정확도: 99.672%\n",
      "Epoch: 0061 cost =  0.000409648 \t검증 세트 정확도: 99.507%\n",
      "Epoch: 0062 cost =  0.000220436 \t검증 세트 정확도: 99.672%\n",
      "Epoch: 0063 cost =  0.000215865 \t검증 세트 정확도: 99.672%\n",
      "Epoch: 0064 cost =  0.000150140 \t검증 세트 정확도: 99.836%\n",
      "Epoch: 0065 cost =  0.000568489 \t검증 세트 정확도: 99.672%\n",
      "Epoch: 0066 cost =  0.000261700 \t검증 세트 정확도: 99.672%\n",
      "Epoch: 0067 cost =  0.000462379 \t검증 세트 정확도: 99.672%\n",
      "Epoch: 0068 cost =  0.000047224 \t검증 세트 정확도: 99.672%\n",
      "Epoch: 0069 cost =  0.000164488 \t검증 세트 정확도: 99.672%\n",
      "Epoch: 0070 cost =  0.000330438 \t검증 세트 정확도: 99.672%\n",
      "Epoch: 0071 cost =  0.000061537 \t검증 세트 정확도: 99.836%\n",
      "Epoch: 0072 cost =  0.000012455 \t검증 세트 정확도: 99.672%\n",
      "Epoch: 0073 cost =  0.000087222 \t검증 세트 정확도: 99.672%\n",
      "Epoch: 0074 cost =  0.000258563 \t검증 세트 정확도: 99.836%\n",
      "Epoch: 0075 cost =  0.000159755 \t검증 세트 정확도: 99.672%\n",
      "Epoch: 0076 cost =  0.000231354 \t검증 세트 정확도: 99.672%\n",
      "Epoch: 0077 cost =  0.000158262 \t검증 세트 정확도: 99.672%\n",
      "Epoch: 0078 cost =  0.000316764 \t검증 세트 정확도: 99.672%\n",
      "Epoch: 0079 cost =  0.000324009 \t검증 세트 정확도: 99.836%\n",
      "Epoch: 0080 cost =  0.000238680 \t검증 세트 정확도: 99.672%\n",
      "Epoch: 0081 cost =  0.000301661 \t검증 세트 정확도: 99.672%\n",
      "Epoch: 0082 cost =  0.000063423 \t검증 세트 정확도: 99.836%\n",
      "Epoch: 0083 cost =  0.000073925 \t검증 세트 정확도: 99.672%\n",
      "Epoch: 0084 cost =  0.000041904 \t검증 세트 정확도: 99.836%\n",
      "Epoch: 0085 cost =  0.000132024 \t검증 세트 정확도: 99.672%\n",
      "Epoch: 0086 cost =  0.000187336 \t검증 세트 정확도: 99.672%\n",
      "Epoch: 0087 cost =  0.000086735 \t검증 세트 정확도: 99.672%\n",
      "Epoch: 0088 cost =  0.000129480 \t검증 세트 정확도: 99.507%\n",
      "Epoch: 0089 cost =  0.000060404 \t검증 세트 정확도: 99.507%\n",
      "Epoch: 0090 cost =  0.000043422 \t검증 세트 정확도: 99.672%\n",
      "Epoch: 0091 cost =  0.000327457 \t검증 세트 정확도: 99.836%\n",
      "Epoch: 0092 cost =  0.000017309 \t검증 세트 정확도: 99.836%\n",
      "Epoch: 0093 cost =  0.000097438 \t검증 세트 정확도: 99.672%\n",
      "Epoch: 0094 cost =  0.000146694 \t검증 세트 정확도: 99.672%\n",
      "Epoch: 0095 cost =  0.000042871 \t검증 세트 정확도: 99.672%\n",
      "Epoch: 0096 cost =  0.002675274 \t검증 세트 정확도: 99.672%\n",
      "Epoch: 0097 cost =  0.001044822 \t검증 세트 정확도: 99.672%\n",
      "Epoch: 0098 cost =  0.000685249 \t검증 세트 정확도: 99.672%\n",
      "Epoch: 0099 cost =  0.000361881 \t검증 세트 정확도: 99.672%\n",
      "Epoch: 0100 cost =  0.000259345 \t검증 세트 정확도: 99.836%\n",
      "Epoch: 0101 cost =  0.000203379 \t검증 세트 정확도: 99.672%\n",
      "Epoch: 0102 cost =  0.000083421 \t검증 세트 정확도: 99.836%\n",
      "Epoch: 0103 cost =  0.000032399 \t검증 세트 정확도: 99.836%\n",
      "Epoch: 0104 cost =  0.000007341 \t검증 세트 정확도: 99.836%\n",
      "Epoch: 0105 cost =  0.000055677 \t검증 세트 정확도: 99.836%\n",
      "Epoch: 0106 cost =  0.000063357 \t검증 세트 정확도: 99.836%\n",
      "Epoch: 0107 cost =  0.000067025 \t검증 세트 정확도: 99.836%\n",
      "Epoch: 0108 cost =  0.000043143 \t검증 세트 정확도: 99.836%\n",
      "Epoch: 0109 cost =  0.000025328 \t검증 세트 정확도: 99.836%\n",
      "Epoch: 0110 cost =  0.000595228 \t검증 세트 정확도: 99.836%\n",
      "Epoch: 0111 cost =  0.000195030 \t검증 세트 정확도: 99.507%\n",
      "Epoch: 0112 cost =  0.000058276 \t검증 세트 정확도: 99.672%\n",
      "Epoch: 0113 cost =  0.000041687 \t검증 세트 정확도: 99.507%\n",
      "Epoch: 0114 cost =  0.000028393 \t검증 세트 정확도: 99.672%\n",
      "Epoch: 0115 cost =  0.000068072 \t검증 세트 정확도: 99.672%\n",
      "Epoch: 0116 cost =  0.000007639 \t검증 세트 정확도: 99.836%\n",
      "Epoch: 0117 cost =  0.000028057 \t검증 세트 정확도: 99.672%\n",
      "Epoch: 0118 cost =  0.000006870 \t검증 세트 정확도: 99.672%\n",
      "Epoch: 0119 cost =  0.000023300 \t검증 세트 정확도: 99.672%\n",
      "Epoch: 0120 cost =  0.000029952 \t검증 세트 정확도: 99.836%\n",
      "Epoch: 0121 cost =  0.000146648 \t검증 세트 정확도: 99.836%\n",
      "Epoch: 0122 cost =  0.000115951 \t검증 세트 정확도: 99.836%\n",
      "Epoch: 0123 cost =  0.000378886 \t검증 세트 정확도: 99.672%\n",
      "Epoch: 0124 cost =  0.000244712 \t검증 세트 정확도: 99.672%\n",
      "Epoch: 0125 cost =  0.000057438 \t검증 세트 정확도: 99.836%\n",
      "Epoch: 0126 cost =  0.000127483 \t검증 세트 정확도: 99.672%\n",
      "Epoch: 0127 cost =  0.000282574 \t검증 세트 정확도: 99.836%\n",
      "Epoch: 0128 cost =  0.000053642 \t검증 세트 정확도: 99.672%\n",
      "Epoch: 0129 cost =  0.000056765 \t검증 세트 정확도: 99.672%\n",
      "Epoch: 0130 cost =  0.000001989 \t검증 세트 정확도: 99.672%\n",
      "Epoch: 0131 cost =  0.000004941 \t검증 세트 정확도: 99.672%\n",
      "Epoch: 0132 cost =  0.000120612 \t검증 세트 정확도: 99.836%\n",
      "Epoch: 0133 cost =  0.000005860 \t검증 세트 정확도: 99.836%\n",
      "Epoch: 0134 cost =  0.000479939 \t검증 세트 정확도: 99.672%\n",
      "Epoch: 0135 cost =  0.000609049 \t검증 세트 정확도: 99.672%\n",
      "Epoch: 0136 cost =  0.000308566 \t검증 세트 정확도: 99.672%\n",
      "Epoch: 0137 cost =  0.000064948 \t검증 세트 정확도: 99.836%\n",
      "Epoch: 0138 cost =  0.000058615 \t검증 세트 정확도: 99.672%\n",
      "Epoch: 0139 cost =  0.000006258 \t검증 세트 정확도: 99.836%\n",
      "Epoch: 0140 cost =  0.000007103 \t검증 세트 정확도: 99.836%\n",
      "Epoch: 0141 cost =  0.000017857 \t검증 세트 정확도: 99.672%\n",
      "Epoch: 0142 cost =  0.000001159 \t검증 세트 정확도: 99.836%\n",
      "Epoch: 0143 cost =  0.000001158 \t검증 세트 정확도: 99.836%\n",
      "Epoch: 0144 cost =  0.000043519 \t검증 세트 정확도: 99.672%\n",
      "Epoch: 0145 cost =  0.000157037 \t검증 세트 정확도: 99.507%\n",
      "Epoch: 0146 cost =  0.000054741 \t검증 세트 정확도: 99.672%\n",
      "Epoch: 0147 cost =  0.000038292 \t검증 세트 정확도: 99.836%\n",
      "Epoch: 0148 cost =  0.000041322 \t검증 세트 정확도: 99.836%\n",
      "Epoch: 0149 cost =  0.000151734 \t검증 세트 정확도: 99.672%\n",
      "Epoch: 0150 cost =  0.000028128 \t검증 세트 정확도: 99.836%\n",
      "Epoch: 0151 cost =  0.000012149 \t검증 세트 정확도: 99.836%\n",
      "Epoch: 0152 cost =  0.000189627 \t검증 세트 정확도: 99.672%\n",
      "Epoch: 0153 cost =  0.000308383 \t검증 세트 정확도: 99.836%\n",
      "Epoch: 0154 cost =  0.000006237 \t검증 세트 정확도: 99.836%\n",
      "Epoch: 0155 cost =  0.000015301 \t검증 세트 정확도: 99.836%\n",
      "Epoch: 0156 cost =  0.000001192 \t검증 세트 정확도: 99.836%\n",
      "Epoch: 0157 cost =  0.000475725 \t검증 세트 정확도: 99.836%\n",
      "Epoch: 0158 cost =  0.000117664 \t검증 세트 정확도: 99.672%\n"
     ]
    },
    {
     "name": "stdout",
     "output_type": "stream",
     "text": [
      "Epoch: 0159 cost =  0.000254378 \t검증 세트 정확도: 99.672%\n",
      "Epoch: 0160 cost =  0.000005575 \t검증 세트 정확도: 99.672%\n",
      "Epoch: 0161 cost =  0.000088096 \t검증 세트 정확도: 99.672%\n",
      "Epoch: 0162 cost =  0.000116183 \t검증 세트 정확도: 99.672%\n",
      "Epoch: 0163 cost =  0.000029198 \t검증 세트 정확도: 99.672%\n",
      "Epoch: 0164 cost =  0.000280146 \t검증 세트 정확도: 99.672%\n",
      "Epoch: 0165 cost =  0.000703838 \t검증 세트 정확도: 99.672%\n",
      "Epoch: 0166 cost =  0.000178128 \t검증 세트 정확도: 99.507%\n",
      "Epoch: 0167 cost =  0.000097999 \t검증 세트 정확도: 99.672%\n",
      "Epoch: 0168 cost =  0.000235024 \t검증 세트 정확도: 99.507%\n",
      "Epoch: 0169 cost =  0.000046534 \t검증 세트 정확도: 99.672%\n",
      "Epoch: 0170 cost =  0.000010088 \t검증 세트 정확도: 99.672%\n",
      "Epoch: 0171 cost =  0.000004264 \t검증 세트 정확도: 99.672%\n",
      "Epoch: 0172 cost =  0.000295999 \t검증 세트 정확도: 99.672%\n",
      "Epoch: 0173 cost =  0.000042764 \t검증 세트 정확도: 99.836%\n",
      "Epoch: 0174 cost =  0.000069637 \t검증 세트 정확도: 99.672%\n",
      "Epoch: 0175 cost =  0.000040699 \t검증 세트 정확도: 99.836%\n",
      "Epoch: 0176 cost =  0.000054219 \t검증 세트 정확도: 99.672%\n",
      "Epoch: 0177 cost =  0.000067352 \t검증 세트 정확도: 100.000%\n",
      "Epoch: 0178 cost =  0.000036360 \t검증 세트 정확도: 99.836%\n",
      "Epoch: 0179 cost =  0.000003636 \t검증 세트 정확도: 99.836%\n",
      "Epoch: 0180 cost =  0.000000036 \t검증 세트 정확도: 99.836%\n",
      "Epoch: 0181 cost =  0.000000156 \t검증 세트 정확도: 99.836%\n",
      "Epoch: 0182 cost =  0.000000442 \t검증 세트 정확도: 99.836%\n",
      "Epoch: 0183 cost =  0.000000122 \t검증 세트 정확도: 99.836%\n",
      "Epoch: 0184 cost =  0.000005038 \t검증 세트 정확도: 99.836%\n",
      "Epoch: 0185 cost =  0.000000549 \t검증 세트 정확도: 99.836%\n",
      "Epoch: 0186 cost =  0.000002360 \t검증 세트 정확도: 99.836%\n",
      "Epoch: 0187 cost =  0.000001396 \t검증 세트 정확도: 99.836%\n",
      "Epoch: 0188 cost =  0.000000469 \t검증 세트 정확도: 99.836%\n",
      "Epoch: 0189 cost =  0.000000103 \t검증 세트 정확도: 99.836%\n",
      "Epoch: 0190 cost =  0.000000124 \t검증 세트 정확도: 99.836%\n",
      "Epoch: 0191 cost =  0.000025445 \t검증 세트 정확도: 99.672%\n",
      "Epoch: 0192 cost =  0.000000073 \t검증 세트 정확도: 99.672%\n",
      "Epoch: 0193 cost =  0.000140403 \t검증 세트 정확도: 99.672%\n",
      "Epoch: 0194 cost =  0.000013982 \t검증 세트 정확도: 99.672%\n",
      "Epoch: 0195 cost =  0.000001543 \t검증 세트 정확도: 99.672%\n",
      "Epoch: 0196 cost =  0.000000590 \t검증 세트 정확도: 99.672%\n",
      "Epoch: 0197 cost =  0.000774698 \t검증 세트 정확도: 99.672%\n",
      "Epoch: 0198 cost =  0.000353556 \t검증 세트 정확도: 99.672%\n",
      "Epoch: 0199 cost =  0.000161600 \t검증 세트 정확도: 99.672%\n"
     ]
    },
    {
     "data": {
      "text/plain": [
       "'../../model/Dense/dense_model'"
      ]
     },
     "execution_count": 25,
     "metadata": {},
     "output_type": "execute_result"
    }
   ],
   "source": [
    "#original \n",
    "batch_size = 32\n",
    "cost_history = np.empty(shape=[1], dtype=float)\n",
    "with tf.device(\"/gpu:0\"):\n",
    "    for epoch in range(1,200):\n",
    "        avg_cost = 0    \n",
    "#    total_batch = int(X_train.shape[0] / batch_size)\n",
    "        for i in range( int(math.ceil(len(X_train)/batch_size)) ): # 배치 사이즈로 나눈 나머지 다 돌 수 있게 \n",
    "            x_ = X_train[batch_size * i: batch_size * (i + 1)]\n",
    "            y_ = y_train[batch_size * i: batch_size * (i + 1)]\n",
    "            feed_dict={X:x_, Y:y_, keep_prob:0.6}    \n",
    "            c, _ = sess.run([cost, optimizer], feed_dict=feed_dict)\n",
    "            cost_history = np.append(cost_history,cost)\n",
    "            avg_cost += c\n",
    "            #accuracy_val = sess.run([accuracy], feed_dict={X:X_val, Y:y_val\n",
    "        val_pred = sess.run(tf.argmax(logits,1),feed_dict={X: X_val , keep_prob:1})  \n",
    "        val_true = sess.run(tf.argmax(y_val,1))\n",
    "        accuracy_val = accuracy_score(val_pred, val_true)\n",
    "        print('Epoch:', '%04d' % (epoch), 'cost = ', '{:.9f}'.format(avg_cost / len(X_train)), \"\\t검증 세트 정확도: {:.3f}%\".format(accuracy_val * 100),)\n",
    "saver.save(sess, model_path)"
   ]
  },
  {
   "cell_type": "markdown",
   "metadata": {},
   "source": [
    "## Prediction"
   ]
  },
  {
   "cell_type": "code",
   "execution_count": 26,
   "metadata": {},
   "outputs": [],
   "source": [
    "y_pred = sess.run(tf.argmax(logits,1),feed_dict={X: X_test , keep_prob:1}) \n",
    "y_true = sess.run(tf.argmax(y_test,1))"
   ]
  },
  {
   "cell_type": "code",
   "execution_count": 27,
   "metadata": {},
   "outputs": [
    {
     "name": "stdout",
     "output_type": "stream",
     "text": [
      "F-Score: 0.999\n",
      "Accuracy:  0.9986859395532195\n",
      "              precision    recall  f1-score   support\n",
      "\n",
      "           0       1.00      1.00      1.00       528\n",
      "           1       1.00      1.00      1.00       233\n",
      "\n",
      "   micro avg       1.00      1.00      1.00       761\n",
      "   macro avg       1.00      1.00      1.00       761\n",
      "weighted avg       1.00      1.00      1.00       761\n",
      "\n",
      "[[528   0]\n",
      " [  1 232]]\n"
     ]
    }
   ],
   "source": [
    "# Ptint Result\n",
    "\n",
    "from sklearn.metrics import precision_recall_fscore_support\n",
    "p,r,f,s = precision_recall_fscore_support(y_true, y_pred, average='micro')\n",
    "print(\"F-Score:\", round(f,3))\n",
    "from sklearn.metrics import accuracy_score\n",
    "print(\"Accuracy: \", accuracy_score(y_true, y_pred))\n",
    "\n",
    "from sklearn.metrics import classification_report\n",
    "print(classification_report(y_true, y_pred))\n",
    "from sklearn.metrics import confusion_matrix\n",
    "print(confusion_matrix(y_true, y_pred))"
   ]
  }
 ],
 "metadata": {
  "kernelspec": {
   "display_name": "Python 3",
   "language": "python",
   "name": "python3"
  },
  "language_info": {
   "codemirror_mode": {
    "name": "ipython",
    "version": 3
   },
   "file_extension": ".py",
   "mimetype": "text/x-python",
   "name": "python",
   "nbconvert_exporter": "python",
   "pygments_lexer": "ipython3",
   "version": "3.6.7"
  }
 },
 "nbformat": 4,
 "nbformat_minor": 2
}
