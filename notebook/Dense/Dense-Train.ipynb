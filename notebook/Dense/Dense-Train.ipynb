{
 "cells": [
  {
   "cell_type": "code",
   "execution_count": 1,
   "metadata": {},
   "outputs": [],
   "source": [
    "import matplotlib.pyplot as plt\n",
    "%matplotlib inline\n",
    "import IPython.display\n",
    "import librosa.display\n",
    "import numpy as np\n",
    "import librosa\n",
    "import tensorflow as tf\n",
    "import glob"
   ]
  },
  {
   "cell_type": "markdown",
   "metadata": {},
   "source": [
    "### If you have been save the data, you don't have to preprocessing and save the data"
   ]
  },
  {
   "cell_type": "code",
   "execution_count": 2,
   "metadata": {},
   "outputs": [],
   "source": [
    "drone_path = '../../data/drone/*.wav'\n",
    "background_path = '../../data/background/*.wav'\n",
    "\n",
    "drone_files = glob.glob(drone_path)\n",
    "background_files = glob.glob(background_path)"
   ]
  },
  {
   "cell_type": "code",
   "execution_count": 3,
   "metadata": {},
   "outputs": [],
   "source": [
    "CHUNK_SIZE = 8192\n",
    "SR = 44100\n",
    "N_MFCC = 16"
   ]
  },
  {
   "cell_type": "code",
   "execution_count": 4,
   "metadata": {},
   "outputs": [],
   "source": [
    "def load(files, sr=44100):\n",
    "    [raw, sr] = librosa.load(files[0], sr=sr)\n",
    "    for f in files[1:]:\n",
    "        [array, sr] = librosa.load(f, sr=sr)\n",
    "        raw = np.hstack((raw, array))\n",
    "    print(raw.shape)\n",
    "    return raw"
   ]
  },
  {
   "cell_type": "code",
   "execution_count": 5,
   "metadata": {},
   "outputs": [
    {
     "name": "stdout",
     "output_type": "stream",
     "text": [
      "(9583157,)\n",
      "(7076127,)\n"
     ]
    }
   ],
   "source": [
    "drone_raw = load(drone_files)\n",
    "background_raw = load(background_files)"
   ]
  },
  {
   "cell_type": "markdown",
   "metadata": {},
   "source": [
    "# Data preprocessing"
   ]
  },
  {
   "cell_type": "markdown",
   "metadata": {},
   "source": [
    "Chose `mfcc4` among functions below:\n",
    "- input size 16x16; `n_mfcc=16`, used first 16 data points from 16x17 mfcc of a chunk with size 8192\n",
    "- chunk siez 8192, overlapped half of it"
   ]
  },
  {
   "cell_type": "code",
   "execution_count": 6,
   "metadata": {},
   "outputs": [],
   "source": [
    "def mfcc4(raw, label, chunk_size=8192, window_size=4096, sr=44100, n_mfcc=16, n_frame=16):\n",
    "    mfcc = np.empty((0, n_mfcc, n_frame))\n",
    "    y = []\n",
    "    print(raw.shape)\n",
    "    for i in range(0, len(raw), chunk_size//2):\n",
    "        mfcc_slice = librosa.feature.mfcc(raw[i:i+chunk_size], sr=sr, n_mfcc=n_mfcc) #n_mfcc,17\n",
    "        if mfcc_slice.shape[1] < 17:\n",
    "            print(\"small end:\", mfcc_slice.shape)\n",
    "            continue\n",
    "        mfcc_slice = mfcc_slice[:,:-1]\n",
    "        mfcc_slice = mfcc_slice.reshape((1, mfcc_slice.shape[0], mfcc_slice.shape[1]))\n",
    "        mfcc = np.vstack((mfcc, mfcc_slice))\n",
    "        y.append(label)\n",
    "    y = np.array(y)\n",
    "    return mfcc, y"
   ]
  },
  {
   "cell_type": "code",
   "execution_count": 7,
   "metadata": {},
   "outputs": [
    {
     "name": "stdout",
     "output_type": "stream",
     "text": [
      "(9583157,)\n",
      "small end: (16, 14)\n",
      "small end: (16, 6)\n",
      "(7076127,)\n",
      "small end: (16, 13)\n",
      "small end: (16, 5)\n",
      "(2338, 16, 16) (2338,)\n",
      "(1726, 16, 16) (1726,)\n"
     ]
    }
   ],
   "source": [
    "mfcc_drone, y_drone = mfcc4(drone_raw, 1)\n",
    "mfcc_background, y_background = mfcc4(background_raw, 0)\n",
    "\n",
    "print(mfcc_drone.shape, y_drone.shape)\n",
    "print(mfcc_background.shape, y_background.shape)"
   ]
  },
  {
   "cell_type": "code",
   "execution_count": 8,
   "metadata": {},
   "outputs": [
    {
     "name": "stdout",
     "output_type": "stream",
     "text": [
      "(4064, 16, 16) (4064,)\n"
     ]
    }
   ],
   "source": [
    "X = np.concatenate((mfcc_drone, mfcc_background), axis=0)\n",
    "y = np.hstack((y_drone, y_background))\n",
    "print(X.shape, y.shape)"
   ]
  },
  {
   "cell_type": "code",
   "execution_count": 9,
   "metadata": {},
   "outputs": [],
   "source": [
    "X = np.reshape(X,(X.shape[0],-1))"
   ]
  },
  {
   "cell_type": "code",
   "execution_count": 10,
   "metadata": {},
   "outputs": [
    {
     "data": {
      "text/plain": [
       "(4064, 256)"
      ]
     },
     "execution_count": 10,
     "metadata": {},
     "output_type": "execute_result"
    }
   ],
   "source": [
    "X.shape"
   ]
  },
  {
   "cell_type": "code",
   "execution_count": 11,
   "metadata": {},
   "outputs": [
    {
     "name": "stdout",
     "output_type": "stream",
     "text": [
      "(4064, 2)\n"
     ]
    }
   ],
   "source": [
    "n_labels = y.shape[0]\n",
    "n_unique_labels = 2\n",
    "y_encoded = np.zeros((n_labels, n_unique_labels))\n",
    "y_encoded[np.arange(n_labels), y] = 1\n",
    "print(y_encoded.shape)"
   ]
  },
  {
   "cell_type": "code",
   "execution_count": 12,
   "metadata": {},
   "outputs": [],
   "source": [
    "# Split data\n",
    "from sklearn import model_selection\n",
    "X_train, X_test, y_train, y_test = model_selection.train_test_split(X, y_encoded, test_size=0.2, random_state=42)\n",
    "X_train, X_val, y_train, y_val = model_selection.train_test_split(X_train, y_train, test_size=0.2, random_state=42)"
   ]
  },
  {
   "cell_type": "code",
   "execution_count": 13,
   "metadata": {},
   "outputs": [
    {
     "name": "stdout",
     "output_type": "stream",
     "text": [
      "(2600, 256) (2600, 2)\n",
      "(651, 256) (651, 2)\n",
      "(813, 256) (813, 2)\n"
     ]
    }
   ],
   "source": [
    "print(X_train.shape,y_train.shape)\n",
    "print(X_val.shape, y_val.shape)\n",
    "print(X_test.shape, y_test.shape)"
   ]
  },
  {
   "cell_type": "code",
   "execution_count": 14,
   "metadata": {},
   "outputs": [],
   "source": [
    "# Save Data\n",
    "np.save('../../model/X_train', X_train)\n",
    "np.save('../../model/X_test', X_test)\n",
    "np.save('../../model/X_val', X_val)\n",
    "np.save('../../model/y_val', y_val)\n",
    "np.save('../../model/y_train', y_train)\n",
    "np.save('../../model/y_test', y_test)"
   ]
  },
  {
   "cell_type": "markdown",
   "metadata": {},
   "source": [
    "### Until this part"
   ]
  },
  {
   "cell_type": "code",
   "execution_count": 15,
   "metadata": {},
   "outputs": [],
   "source": [
    "# Load Data\n",
    "X_train = np.load('../../model/X_train.npy')\n",
    "X_test = np.load('../../model/X_test.npy')\n",
    "X_val = np.load('../../model/X_val.npy')\n",
    "y_val = np.load('../../model/y_val.npy')\n",
    "y_train = np.load('../../model/y_train.npy')\n",
    "y_test = np.load('../../model/y_test.npy')"
   ]
  },
  {
   "cell_type": "markdown",
   "metadata": {},
   "source": [
    "# Experiment 3 - One convolutional layer /w no dropout\n"
   ]
  },
  {
   "cell_type": "markdown",
   "metadata": {},
   "source": [
    "##Experiment 3-2\n",
    "- learning rate 0.005\n",
    "- pooling stride 1x1\n",
    "- #filter 1\n",
    "- best result among every other settings\n",
    "- cost kept fluctuated during training. (0.8 -> 1.3) -- why is that?"
   ]
  },
  {
   "cell_type": "code",
   "execution_count": 16,
   "metadata": {},
   "outputs": [],
   "source": [
    "tf.reset_default_graph()"
   ]
  },
  {
   "cell_type": "code",
   "execution_count": 17,
   "metadata": {},
   "outputs": [],
   "source": [
    "n_mfcc = 16\n",
    "n_frame = 16\n",
    "n_classes = 2\n",
    "n_channels = 1\n",
    "\n",
    "kernel_size = 3\n",
    "stride = 1\n",
    "pad = \"SAME\"\n",
    "\n",
    "learning_rate = 0.0002  # 0.005\n",
    "training_epochs = 500 # 수정해야해"
   ]
  },
  {
   "cell_type": "markdown",
   "metadata": {},
   "source": [
    "# Layer"
   ]
  },
  {
   "cell_type": "markdown",
   "metadata": {},
   "source": [
    "## Experiment\n",
    "- learning rate 0.0002\n",
    "- no cnn/ pooling \n",
    "- just dense with dropout "
   ]
  },
  {
   "cell_type": "code",
   "execution_count": 18,
   "metadata": {},
   "outputs": [],
   "source": [
    "X = tf.placeholder(tf.float32, shape=[None,n_mfcc*n_frame*n_channels])\n",
    "Y = tf.placeholder(tf.float32, shape=[None,n_classes])\n",
    "\n",
    "keep_prob = tf.placeholder(tf.float32)\n",
    "\n",
    "dense1 = tf.layers.dense(inputs=X, units=256, activation=tf.nn.relu)\n",
    "dropout1 = tf.nn.dropout(dense1, keep_prob=keep_prob)\n",
    "dense2 = tf.layers.dense(inputs=dropout1, units=256, activation=tf.nn.relu)\n",
    "dropout2 = tf.nn.dropout(dense2, keep_prob=keep_prob)\n",
    "dense3 = tf.layers.dense(inputs=dropout2, units=512, activation=tf.nn.relu)\n",
    "dropout3 = tf.nn.dropout(dense3, keep_prob=keep_prob)\n",
    "dense4 = tf.layers.dense(inputs=dropout3, units=512, activation=tf.nn.relu)\n",
    "dropout4 = tf.nn.dropout(dense4, keep_prob=keep_prob)\n",
    "dense5 = tf.layers.dense(inputs=dropout4, units=256, activation=tf.nn.relu)\n",
    "dropout5 = tf.nn.dropout(dense5, keep_prob=keep_prob)\n",
    "\n",
    "logits= tf.layers.dense(inputs=dropout5, units=2)"
   ]
  },
  {
   "cell_type": "code",
   "execution_count": 19,
   "metadata": {},
   "outputs": [],
   "source": [
    "cost = tf.reduce_mean(tf.nn.softmax_cross_entropy_with_logits_v2(logits=logits, labels=Y))\n",
    "optimizer = tf.train.AdamOptimizer(learning_rate=learning_rate).minimize(cost)"
   ]
  },
  {
   "cell_type": "code",
   "execution_count": 20,
   "metadata": {},
   "outputs": [],
   "source": [
    "sess = tf.Session()\n",
    "sess.run(tf.global_variables_initializer())"
   ]
  },
  {
   "cell_type": "code",
   "execution_count": 21,
   "metadata": {},
   "outputs": [],
   "source": [
    "# model save\n",
    "model_path = '../../model/Dense/dense_model'\n",
    "saver = tf.train.Saver()"
   ]
  },
  {
   "cell_type": "markdown",
   "metadata": {},
   "source": [
    "# Trainning"
   ]
  },
  {
   "cell_type": "code",
   "execution_count": 22,
   "metadata": {},
   "outputs": [],
   "source": [
    "import math"
   ]
  },
  {
   "cell_type": "code",
   "execution_count": 23,
   "metadata": {
    "scrolled": false
   },
   "outputs": [],
   "source": [
    "with tf.name_scope(\"eval\"):\n",
    "    correct = tf.nn.in_top_k(logits, y, 1)\n",
    "    accuracy = tf.reduce_mean(tf.cast(correct, tf.float32))\n",
    "#    accuracy_summary = tf.summary.scalar('accuracy', accuracy)"
   ]
  },
  {
   "cell_type": "code",
   "execution_count": 24,
   "metadata": {},
   "outputs": [],
   "source": [
    "from sklearn.metrics import accuracy_score"
   ]
  },
  {
   "cell_type": "code",
   "execution_count": 25,
   "metadata": {
    "scrolled": false
   },
   "outputs": [
    {
     "name": "stdout",
     "output_type": "stream",
     "text": [
      "Epoch: 0001 cost =  0.751406831 \t검증 세트 정확도: 88.633%\n",
      "Epoch: 0002 cost =  0.278081461 \t검증 세트 정확도: 87.404%\n",
      "Epoch: 0003 cost =  0.138602257 \t검증 세트 정확도: 86.482%\n",
      "Epoch: 0004 cost =  0.095541114 \t검증 세트 정확도: 87.865%\n",
      "Epoch: 0005 cost =  0.058339497 \t검증 세트 정확도: 89.247%\n",
      "Epoch: 0006 cost =  0.045490809 \t검증 세트 정확도: 89.247%\n",
      "Epoch: 0007 cost =  0.032904188 \t검증 세트 정확도: 90.476%\n",
      "Epoch: 0008 cost =  0.025896939 \t검증 세트 정확도: 92.473%\n",
      "Epoch: 0009 cost =  0.019208451 \t검증 세트 정확도: 92.012%\n",
      "Epoch: 0010 cost =  0.015773635 \t검증 세트 정확도: 95.853%\n",
      "Epoch: 0011 cost =  0.012155547 \t검증 세트 정확도: 96.467%\n",
      "Epoch: 0012 cost =  0.009666139 \t검증 세트 정확도: 96.928%\n",
      "Epoch: 0013 cost =  0.007886794 \t검증 세트 정확도: 98.310%\n",
      "Epoch: 0014 cost =  0.007261200 \t검증 세트 정확도: 98.771%\n",
      "Epoch: 0015 cost =  0.005393037 \t검증 세트 정확도: 99.232%\n",
      "Epoch: 0016 cost =  0.005686290 \t검증 세트 정확도: 98.925%\n",
      "Epoch: 0017 cost =  0.004718900 \t검증 세트 정확도: 99.078%\n",
      "Epoch: 0018 cost =  0.004139204 \t검증 세트 정확도: 99.078%\n",
      "Epoch: 0019 cost =  0.003707504 \t검증 세트 정확도: 99.539%\n",
      "Epoch: 0020 cost =  0.003333675 \t검증 세트 정확도: 99.386%\n",
      "Epoch: 0021 cost =  0.003000271 \t검증 세트 정확도: 99.386%\n",
      "Epoch: 0022 cost =  0.002702097 \t검증 세트 정확도: 99.232%\n",
      "Epoch: 0023 cost =  0.002581854 \t검증 세트 정확도: 99.232%\n",
      "Epoch: 0024 cost =  0.002607250 \t검증 세트 정확도: 99.539%\n",
      "Epoch: 0025 cost =  0.002031854 \t검증 세트 정확도: 99.386%\n",
      "Epoch: 0026 cost =  0.002553387 \t검증 세트 정확도: 99.539%\n",
      "Epoch: 0027 cost =  0.002193316 \t검증 세트 정확도: 99.539%\n",
      "Epoch: 0028 cost =  0.001876857 \t검증 세트 정확도: 99.693%\n",
      "Epoch: 0029 cost =  0.001850463 \t검증 세트 정확도: 99.386%\n",
      "Epoch: 0030 cost =  0.001811434 \t검증 세트 정확도: 99.693%\n",
      "Epoch: 0031 cost =  0.001577269 \t검증 세트 정확도: 99.539%\n",
      "Epoch: 0032 cost =  0.001664825 \t검증 세트 정확도: 99.693%\n",
      "Epoch: 0033 cost =  0.001022956 \t검증 세트 정확도: 99.693%\n",
      "Epoch: 0034 cost =  0.001468489 \t검증 세트 정확도: 99.693%\n",
      "Epoch: 0035 cost =  0.001387861 \t검증 세트 정확도: 99.693%\n",
      "Epoch: 0036 cost =  0.001353992 \t검증 세트 정확도: 99.693%\n",
      "Epoch: 0037 cost =  0.001253185 \t검증 세트 정확도: 99.693%\n",
      "Epoch: 0038 cost =  0.000991746 \t검증 세트 정확도: 99.693%\n",
      "Epoch: 0039 cost =  0.001202033 \t검증 세트 정확도: 99.693%\n",
      "Epoch: 0040 cost =  0.001024911 \t검증 세트 정확도: 99.693%\n",
      "Epoch: 0041 cost =  0.001059694 \t검증 세트 정확도: 99.846%\n",
      "Epoch: 0042 cost =  0.001124530 \t검증 세트 정확도: 99.693%\n",
      "Epoch: 0043 cost =  0.000986330 \t검증 세트 정확도: 99.846%\n",
      "Epoch: 0044 cost =  0.000839496 \t검증 세트 정확도: 99.846%\n",
      "Epoch: 0045 cost =  0.001199222 \t검증 세트 정확도: 99.693%\n",
      "Epoch: 0046 cost =  0.000745968 \t검증 세트 정확도: 99.846%\n",
      "Epoch: 0047 cost =  0.000838899 \t검증 세트 정확도: 99.846%\n",
      "Epoch: 0048 cost =  0.000741566 \t검증 세트 정확도: 99.693%\n",
      "Epoch: 0049 cost =  0.000760742 \t검증 세트 정확도: 99.693%\n",
      "Epoch: 0050 cost =  0.000714128 \t검증 세트 정확도: 99.386%\n",
      "Epoch: 0051 cost =  0.000751917 \t검증 세트 정확도: 99.846%\n",
      "Epoch: 0052 cost =  0.000635178 \t검증 세트 정확도: 99.846%\n",
      "Epoch: 0053 cost =  0.000866025 \t검증 세트 정확도: 99.846%\n",
      "Epoch: 0054 cost =  0.000641659 \t검증 세트 정확도: 99.846%\n",
      "Epoch: 0055 cost =  0.000550512 \t검증 세트 정확도: 99.539%\n",
      "Epoch: 0056 cost =  0.000477532 \t검증 세트 정확도: 99.846%\n",
      "Epoch: 0057 cost =  0.000681632 \t검증 세트 정확도: 99.846%\n",
      "Epoch: 0058 cost =  0.000769082 \t검증 세트 정확도: 99.693%\n",
      "Epoch: 0059 cost =  0.000444854 \t검증 세트 정확도: 99.846%\n",
      "Epoch: 0060 cost =  0.000561881 \t검증 세트 정확도: 99.846%\n",
      "Epoch: 0061 cost =  0.000476801 \t검증 세트 정확도: 99.693%\n",
      "Epoch: 0062 cost =  0.000538194 \t검증 세트 정확도: 99.232%\n",
      "Epoch: 0063 cost =  0.000499431 \t검증 세트 정확도: 99.693%\n",
      "Epoch: 0064 cost =  0.000668022 \t검증 세트 정확도: 99.693%\n",
      "Epoch: 0065 cost =  0.000357986 \t검증 세트 정확도: 99.846%\n",
      "Epoch: 0066 cost =  0.000415953 \t검증 세트 정확도: 99.539%\n",
      "Epoch: 0067 cost =  0.000538012 \t검증 세트 정확도: 99.539%\n",
      "Epoch: 0068 cost =  0.000594248 \t검증 세트 정확도: 99.846%\n",
      "Epoch: 0069 cost =  0.000570055 \t검증 세트 정확도: 99.539%\n",
      "Epoch: 0070 cost =  0.000817744 \t검증 세트 정확도: 99.693%\n",
      "Epoch: 0071 cost =  0.000857810 \t검증 세트 정확도: 99.846%\n",
      "Epoch: 0072 cost =  0.000536659 \t검증 세트 정확도: 99.846%\n",
      "Epoch: 0073 cost =  0.000556651 \t검증 세트 정확도: 99.846%\n",
      "Epoch: 0074 cost =  0.000532930 \t검증 세트 정확도: 99.693%\n",
      "Epoch: 0075 cost =  0.000768778 \t검증 세트 정확도: 99.846%\n",
      "Epoch: 0076 cost =  0.000582363 \t검증 세트 정확도: 99.693%\n",
      "Epoch: 0077 cost =  0.000322356 \t검증 세트 정확도: 99.693%\n",
      "Epoch: 0078 cost =  0.000403939 \t검증 세트 정확도: 99.846%\n",
      "Epoch: 0079 cost =  0.000558357 \t검증 세트 정확도: 99.693%\n",
      "Epoch: 0080 cost =  0.000646506 \t검증 세트 정확도: 99.539%\n",
      "Epoch: 0081 cost =  0.000619021 \t검증 세트 정확도: 99.846%\n",
      "Epoch: 0082 cost =  0.000336783 \t검증 세트 정확도: 99.846%\n",
      "Epoch: 0083 cost =  0.000264048 \t검증 세트 정확도: 99.846%\n",
      "Epoch: 0084 cost =  0.000606148 \t검증 세트 정확도: 99.539%\n",
      "Epoch: 0085 cost =  0.000320564 \t검증 세트 정확도: 99.693%\n",
      "Epoch: 0086 cost =  0.000184305 \t검증 세트 정확도: 99.846%\n",
      "Epoch: 0087 cost =  0.000289226 \t검증 세트 정확도: 99.693%\n",
      "Epoch: 0088 cost =  0.000338549 \t검증 세트 정확도: 99.846%\n",
      "Epoch: 0089 cost =  0.000461838 \t검증 세트 정확도: 99.846%\n",
      "Epoch: 0090 cost =  0.000665842 \t검증 세트 정확도: 99.846%\n",
      "Epoch: 0091 cost =  0.000517868 \t검증 세트 정확도: 99.846%\n",
      "Epoch: 0092 cost =  0.000342681 \t검증 세트 정확도: 99.693%\n",
      "Epoch: 0093 cost =  0.000500170 \t검증 세트 정확도: 99.386%\n",
      "Epoch: 0094 cost =  0.000258619 \t검증 세트 정확도: 99.846%\n",
      "Epoch: 0095 cost =  0.000462208 \t검증 세트 정확도: 99.693%\n",
      "Epoch: 0096 cost =  0.000491304 \t검증 세트 정확도: 99.693%\n",
      "Epoch: 0097 cost =  0.000578852 \t검증 세트 정확도: 99.539%\n",
      "Epoch: 0098 cost =  0.000380813 \t검증 세트 정확도: 99.846%\n",
      "Epoch: 0099 cost =  0.000355447 \t검증 세트 정확도: 99.846%\n",
      "Epoch: 0100 cost =  0.000250212 \t검증 세트 정확도: 99.693%\n",
      "Epoch: 0101 cost =  0.000203319 \t검증 세트 정확도: 99.846%\n",
      "Epoch: 0102 cost =  0.000730070 \t검증 세트 정확도: 99.539%\n",
      "Epoch: 0103 cost =  0.000408555 \t검증 세트 정확도: 99.693%\n",
      "Epoch: 0104 cost =  0.000327693 \t검증 세트 정확도: 99.846%\n",
      "Epoch: 0105 cost =  0.000373945 \t검증 세트 정확도: 99.693%\n",
      "Epoch: 0106 cost =  0.000262716 \t검증 세트 정확도: 99.846%\n",
      "Epoch: 0107 cost =  0.000221095 \t검증 세트 정확도: 99.846%\n",
      "Epoch: 0108 cost =  0.000558574 \t검증 세트 정확도: 99.846%\n",
      "Epoch: 0109 cost =  0.000241916 \t검증 세트 정확도: 99.846%\n",
      "Epoch: 0110 cost =  0.000141189 \t검증 세트 정확도: 99.846%\n",
      "Epoch: 0111 cost =  0.000169211 \t검증 세트 정확도: 99.846%\n",
      "Epoch: 0112 cost =  0.000375307 \t검증 세트 정확도: 99.539%\n",
      "Epoch: 0113 cost =  0.000206601 \t검증 세트 정확도: 99.846%\n",
      "Epoch: 0114 cost =  0.000165034 \t검증 세트 정확도: 99.693%\n",
      "Epoch: 0115 cost =  0.000422879 \t검증 세트 정확도: 99.846%\n",
      "Epoch: 0116 cost =  0.000175507 \t검증 세트 정확도: 99.693%\n",
      "Epoch: 0117 cost =  0.000252133 \t검증 세트 정확도: 99.846%\n",
      "Epoch: 0118 cost =  0.000383362 \t검증 세트 정확도: 99.539%\n",
      "Epoch: 0119 cost =  0.000312724 \t검증 세트 정확도: 99.693%\n",
      "Epoch: 0120 cost =  0.000112119 \t검증 세트 정확도: 99.693%\n",
      "Epoch: 0121 cost =  0.000456074 \t검증 세트 정확도: 99.693%\n",
      "Epoch: 0122 cost =  0.000876258 \t검증 세트 정확도: 99.693%\n",
      "Epoch: 0123 cost =  0.000356198 \t검증 세트 정확도: 99.846%\n",
      "Epoch: 0124 cost =  0.000222770 \t검증 세트 정확도: 99.846%\n",
      "Epoch: 0125 cost =  0.000209672 \t검증 세트 정확도: 99.846%\n",
      "Epoch: 0126 cost =  0.000627768 \t검증 세트 정확도: 99.693%\n",
      "Epoch: 0127 cost =  0.000306661 \t검증 세트 정확도: 99.846%\n",
      "Epoch: 0128 cost =  0.000396639 \t검증 세트 정확도: 99.693%\n",
      "Epoch: 0129 cost =  0.000398263 \t검증 세트 정확도: 99.846%\n",
      "Epoch: 0130 cost =  0.000248830 \t검증 세트 정확도: 99.846%\n",
      "Epoch: 0131 cost =  0.000265506 \t검증 세트 정확도: 99.846%\n",
      "Epoch: 0132 cost =  0.000295355 \t검증 세트 정확도: 99.693%\n",
      "Epoch: 0133 cost =  0.000382403 \t검증 세트 정확도: 99.846%\n",
      "Epoch: 0134 cost =  0.000496616 \t검증 세트 정확도: 99.846%\n",
      "Epoch: 0135 cost =  0.000489592 \t검증 세트 정확도: 99.846%\n",
      "Epoch: 0136 cost =  0.000219839 \t검증 세트 정확도: 99.846%\n",
      "Epoch: 0137 cost =  0.000252806 \t검증 세트 정확도: 99.846%\n",
      "Epoch: 0138 cost =  0.000317782 \t검증 세트 정확도: 99.539%\n",
      "Epoch: 0139 cost =  0.000202012 \t검증 세트 정확도: 99.846%\n",
      "Epoch: 0140 cost =  0.000350369 \t검증 세트 정확도: 99.846%\n",
      "Epoch: 0141 cost =  0.000247505 \t검증 세트 정확도: 99.539%\n",
      "Epoch: 0142 cost =  0.000187591 \t검증 세트 정확도: 99.846%\n",
      "Epoch: 0143 cost =  0.000220774 \t검증 세트 정확도: 99.846%\n",
      "Epoch: 0144 cost =  0.000702919 \t검증 세트 정확도: 99.539%\n",
      "Epoch: 0145 cost =  0.000699863 \t검증 세트 정확도: 99.846%\n",
      "Epoch: 0146 cost =  0.000349823 \t검증 세트 정확도: 99.846%\n",
      "Epoch: 0147 cost =  0.000342071 \t검증 세트 정확도: 99.846%\n",
      "Epoch: 0148 cost =  0.000179449 \t검증 세트 정확도: 99.846%\n",
      "Epoch: 0149 cost =  0.000110582 \t검증 세트 정확도: 99.693%\n",
      "Epoch: 0150 cost =  0.000455036 \t검증 세트 정확도: 99.846%\n",
      "Epoch: 0151 cost =  0.000342714 \t검증 세트 정확도: 99.846%\n",
      "Epoch: 0152 cost =  0.000255831 \t검증 세트 정확도: 99.846%\n",
      "Epoch: 0153 cost =  0.000172555 \t검증 세트 정확도: 99.846%\n",
      "Epoch: 0154 cost =  0.000507817 \t검증 세트 정확도: 99.846%\n",
      "Epoch: 0155 cost =  0.000142711 \t검증 세트 정확도: 99.693%\n",
      "Epoch: 0156 cost =  0.000036673 \t검증 세트 정확도: 99.846%\n",
      "Epoch: 0157 cost =  0.000223914 \t검증 세트 정확도: 99.386%\n",
      "Epoch: 0158 cost =  0.000312582 \t검증 세트 정확도: 99.846%\n"
     ]
    },
    {
     "name": "stdout",
     "output_type": "stream",
     "text": [
      "Epoch: 0159 cost =  0.000319039 \t검증 세트 정확도: 99.846%\n",
      "Epoch: 0160 cost =  0.000163766 \t검증 세트 정확도: 99.846%\n",
      "Epoch: 0161 cost =  0.000405350 \t검증 세트 정확도: 99.693%\n",
      "Epoch: 0162 cost =  0.000119533 \t검증 세트 정확도: 99.846%\n",
      "Epoch: 0163 cost =  0.000281642 \t검증 세트 정확도: 99.846%\n",
      "Epoch: 0164 cost =  0.000242449 \t검증 세트 정확도: 99.846%\n",
      "Epoch: 0165 cost =  0.000366797 \t검증 세트 정확도: 99.846%\n",
      "Epoch: 0166 cost =  0.000172928 \t검증 세트 정확도: 99.846%\n",
      "Epoch: 0167 cost =  0.000471542 \t검증 세트 정확도: 99.693%\n",
      "Epoch: 0168 cost =  0.000314157 \t검증 세트 정확도: 99.846%\n",
      "Epoch: 0169 cost =  0.000193170 \t검증 세트 정확도: 99.846%\n",
      "Epoch: 0170 cost =  0.000256254 \t검증 세트 정확도: 99.846%\n",
      "Epoch: 0171 cost =  0.000333869 \t검증 세트 정확도: 99.693%\n",
      "Epoch: 0172 cost =  0.000202717 \t검증 세트 정확도: 99.693%\n",
      "Epoch: 0173 cost =  0.000145785 \t검증 세트 정확도: 99.693%\n",
      "Epoch: 0174 cost =  0.000077833 \t검증 세트 정확도: 99.846%\n",
      "Epoch: 0175 cost =  0.000210630 \t검증 세트 정확도: 99.846%\n",
      "Epoch: 0176 cost =  0.000234800 \t검증 세트 정확도: 99.846%\n",
      "Epoch: 0177 cost =  0.000145165 \t검증 세트 정확도: 99.846%\n",
      "Epoch: 0178 cost =  0.000142699 \t검증 세트 정확도: 99.846%\n",
      "Epoch: 0179 cost =  0.000111380 \t검증 세트 정확도: 99.846%\n",
      "Epoch: 0180 cost =  0.000386082 \t검증 세트 정확도: 99.693%\n",
      "Epoch: 0181 cost =  0.000231312 \t검증 세트 정확도: 99.846%\n",
      "Epoch: 0182 cost =  0.000206478 \t검증 세트 정확도: 99.846%\n",
      "Epoch: 0183 cost =  0.000279303 \t검증 세트 정확도: 99.693%\n",
      "Epoch: 0184 cost =  0.000203722 \t검증 세트 정확도: 99.846%\n",
      "Epoch: 0185 cost =  0.000142827 \t검증 세트 정확도: 99.693%\n",
      "Epoch: 0186 cost =  0.000232902 \t검증 세트 정확도: 99.846%\n",
      "Epoch: 0187 cost =  0.001081632 \t검증 세트 정확도: 99.846%\n",
      "Epoch: 0188 cost =  0.000232004 \t검증 세트 정확도: 99.846%\n",
      "Epoch: 0189 cost =  0.000279125 \t검증 세트 정확도: 99.846%\n",
      "Epoch: 0190 cost =  0.000044874 \t검증 세트 정확도: 99.846%\n",
      "Epoch: 0191 cost =  0.000490933 \t검증 세트 정확도: 99.846%\n",
      "Epoch: 0192 cost =  0.000499855 \t검증 세트 정확도: 99.846%\n",
      "Epoch: 0193 cost =  0.000077499 \t검증 세트 정확도: 99.846%\n",
      "Epoch: 0194 cost =  0.000211257 \t검증 세트 정확도: 99.846%\n",
      "Epoch: 0195 cost =  0.000271643 \t검증 세트 정확도: 99.846%\n",
      "Epoch: 0196 cost =  0.000107921 \t검증 세트 정확도: 99.846%\n",
      "Epoch: 0197 cost =  0.000056855 \t검증 세트 정확도: 99.846%\n",
      "Epoch: 0198 cost =  0.000359439 \t검증 세트 정확도: 99.539%\n",
      "Epoch: 0199 cost =  0.000383605 \t검증 세트 정확도: 99.846%\n",
      "Epoch: 0200 cost =  0.000326100 \t검증 세트 정확도: 99.846%\n",
      "Epoch: 0201 cost =  0.000235494 \t검증 세트 정확도: 99.846%\n",
      "Epoch: 0202 cost =  0.000296983 \t검증 세트 정확도: 99.846%\n",
      "Epoch: 0203 cost =  0.000256247 \t검증 세트 정확도: 99.846%\n",
      "Epoch: 0204 cost =  0.000299597 \t검증 세트 정확도: 99.846%\n",
      "Epoch: 0205 cost =  0.000182337 \t검증 세트 정확도: 100.000%\n",
      "Epoch: 0206 cost =  0.000114258 \t검증 세트 정확도: 99.846%\n",
      "Epoch: 0207 cost =  0.000062841 \t검증 세트 정확도: 99.846%\n",
      "Epoch: 0208 cost =  0.000497004 \t검증 세트 정확도: 99.693%\n",
      "Epoch: 0209 cost =  0.000333752 \t검증 세트 정확도: 100.000%\n",
      "Epoch: 0210 cost =  0.000192821 \t검증 세트 정확도: 99.846%\n",
      "Epoch: 0211 cost =  0.000646102 \t검증 세트 정확도: 99.539%\n",
      "Epoch: 0212 cost =  0.000226613 \t검증 세트 정확도: 99.539%\n",
      "Epoch: 0213 cost =  0.000120785 \t검증 세트 정확도: 99.846%\n",
      "Epoch: 0214 cost =  0.000237945 \t검증 세트 정확도: 99.846%\n",
      "Epoch: 0215 cost =  0.000087291 \t검증 세트 정확도: 99.846%\n",
      "Epoch: 0216 cost =  0.000148658 \t검증 세트 정확도: 99.846%\n",
      "Epoch: 0217 cost =  0.000556863 \t검증 세트 정확도: 99.846%\n",
      "Epoch: 0218 cost =  0.000164634 \t검증 세트 정확도: 99.846%\n",
      "Epoch: 0219 cost =  0.000341725 \t검증 세트 정확도: 100.000%\n",
      "Epoch: 0220 cost =  0.000188274 \t검증 세트 정확도: 100.000%\n",
      "Epoch: 0221 cost =  0.000281978 \t검증 세트 정확도: 100.000%\n",
      "Epoch: 0222 cost =  0.000285586 \t검증 세트 정확도: 100.000%\n",
      "Epoch: 0223 cost =  0.000131309 \t검증 세트 정확도: 100.000%\n",
      "Epoch: 0224 cost =  0.000171149 \t검증 세트 정확도: 100.000%\n",
      "Epoch: 0225 cost =  0.000170297 \t검증 세트 정확도: 100.000%\n",
      "Epoch: 0226 cost =  0.000197108 \t검증 세트 정확도: 100.000%\n",
      "Epoch: 0227 cost =  0.000146142 \t검증 세트 정확도: 99.846%\n",
      "Epoch: 0228 cost =  0.000582760 \t검증 세트 정확도: 99.846%\n",
      "Epoch: 0229 cost =  0.000242801 \t검증 세트 정확도: 99.846%\n",
      "Epoch: 0230 cost =  0.000111112 \t검증 세트 정확도: 99.846%\n",
      "Epoch: 0231 cost =  0.000383506 \t검증 세트 정확도: 99.539%\n",
      "Epoch: 0232 cost =  0.000341422 \t검증 세트 정확도: 100.000%\n",
      "Epoch: 0233 cost =  0.000079822 \t검증 세트 정확도: 99.846%\n",
      "Epoch: 0234 cost =  0.000228667 \t검증 세트 정확도: 99.846%\n",
      "Epoch: 0235 cost =  0.000076795 \t검증 세트 정확도: 99.846%\n",
      "Epoch: 0236 cost =  0.000196454 \t검증 세트 정확도: 99.846%\n",
      "Epoch: 0237 cost =  0.000123522 \t검증 세트 정확도: 99.846%\n",
      "Epoch: 0238 cost =  0.000370676 \t검증 세트 정확도: 99.846%\n",
      "Epoch: 0239 cost =  0.000150355 \t검증 세트 정확도: 99.846%\n",
      "Epoch: 0240 cost =  0.000313353 \t검증 세트 정확도: 99.846%\n",
      "Epoch: 0241 cost =  0.000357327 \t검증 세트 정확도: 99.539%\n",
      "Epoch: 0242 cost =  0.000275330 \t검증 세트 정확도: 99.846%\n",
      "Epoch: 0243 cost =  0.000249443 \t검증 세트 정확도: 99.539%\n",
      "Epoch: 0244 cost =  0.000168803 \t검증 세트 정확도: 99.386%\n",
      "Epoch: 0245 cost =  0.000110885 \t검증 세트 정확도: 99.846%\n",
      "Epoch: 0246 cost =  0.000356171 \t검증 세트 정확도: 99.846%\n",
      "Epoch: 0247 cost =  0.000193004 \t검증 세트 정확도: 99.846%\n",
      "Epoch: 0248 cost =  0.000262738 \t검증 세트 정확도: 100.000%\n",
      "Epoch: 0249 cost =  0.000066232 \t검증 세트 정확도: 99.846%\n",
      "Epoch: 0250 cost =  0.000575300 \t검증 세트 정확도: 99.846%\n",
      "Epoch: 0251 cost =  0.000510123 \t검증 세트 정확도: 99.846%\n",
      "Epoch: 0252 cost =  0.000223025 \t검증 세트 정확도: 99.846%\n",
      "Epoch: 0253 cost =  0.000083144 \t검증 세트 정확도: 99.846%\n",
      "Epoch: 0254 cost =  0.000131677 \t검증 세트 정확도: 99.846%\n",
      "Epoch: 0255 cost =  0.000441870 \t검증 세트 정확도: 99.846%\n",
      "Epoch: 0256 cost =  0.000270733 \t검증 세트 정확도: 99.846%\n",
      "Epoch: 0257 cost =  0.000211411 \t검증 세트 정확도: 99.846%\n",
      "Epoch: 0258 cost =  0.000108908 \t검증 세트 정확도: 99.846%\n",
      "Epoch: 0259 cost =  0.000449105 \t검증 세트 정확도: 99.693%\n",
      "Epoch: 0260 cost =  0.000080555 \t검증 세트 정확도: 99.846%\n",
      "Epoch: 0261 cost =  0.000046401 \t검증 세트 정확도: 99.846%\n",
      "Epoch: 0262 cost =  0.000074608 \t검증 세트 정확도: 99.846%\n",
      "Epoch: 0263 cost =  0.000069084 \t검증 세트 정확도: 99.846%\n",
      "Epoch: 0264 cost =  0.000062373 \t검증 세트 정확도: 99.846%\n",
      "Epoch: 0265 cost =  0.000171248 \t검증 세트 정확도: 99.693%\n",
      "Epoch: 0266 cost =  0.000124287 \t검증 세트 정확도: 99.693%\n",
      "Epoch: 0267 cost =  0.000585534 \t검증 세트 정확도: 99.846%\n",
      "Epoch: 0268 cost =  0.000137543 \t검증 세트 정확도: 99.846%\n",
      "Epoch: 0269 cost =  0.000036850 \t검증 세트 정확도: 99.846%\n",
      "Epoch: 0270 cost =  0.000058166 \t검증 세트 정확도: 99.693%\n",
      "Epoch: 0271 cost =  0.000489462 \t검증 세트 정확도: 99.846%\n",
      "Epoch: 0272 cost =  0.000279145 \t검증 세트 정확도: 99.846%\n",
      "Epoch: 0273 cost =  0.000310962 \t검증 세트 정확도: 100.000%\n",
      "Epoch: 0274 cost =  0.001005494 \t검증 세트 정확도: 99.846%\n",
      "Epoch: 0275 cost =  0.000522934 \t검증 세트 정확도: 100.000%\n",
      "Epoch: 0276 cost =  0.000174923 \t검증 세트 정확도: 99.846%\n",
      "Epoch: 0277 cost =  0.000268818 \t검증 세트 정확도: 99.386%\n",
      "Epoch: 0278 cost =  0.000126997 \t검증 세트 정확도: 99.846%\n",
      "Epoch: 0279 cost =  0.000054381 \t검증 세트 정확도: 99.846%\n",
      "Epoch: 0280 cost =  0.000195897 \t검증 세트 정확도: 99.846%\n",
      "Epoch: 0281 cost =  0.000245348 \t검증 세트 정확도: 99.693%\n",
      "Epoch: 0282 cost =  0.000437191 \t검증 세트 정확도: 99.846%\n",
      "Epoch: 0283 cost =  0.000268520 \t검증 세트 정확도: 99.846%\n",
      "Epoch: 0284 cost =  0.000143032 \t검증 세트 정확도: 99.693%\n",
      "Epoch: 0285 cost =  0.000110659 \t검증 세트 정확도: 99.693%\n",
      "Epoch: 0286 cost =  0.000040289 \t검증 세트 정확도: 99.693%\n",
      "Epoch: 0287 cost =  0.000042803 \t검증 세트 정확도: 99.846%\n",
      "Epoch: 0288 cost =  0.000167258 \t검증 세트 정확도: 99.846%\n",
      "Epoch: 0289 cost =  0.000141395 \t검증 세트 정확도: 99.846%\n",
      "Epoch: 0290 cost =  0.000263417 \t검증 세트 정확도: 99.539%\n",
      "Epoch: 0291 cost =  0.000207209 \t검증 세트 정확도: 99.539%\n",
      "Epoch: 0292 cost =  0.000112925 \t검증 세트 정확도: 99.693%\n",
      "Epoch: 0293 cost =  0.000095828 \t검증 세트 정확도: 99.693%\n",
      "Epoch: 0294 cost =  0.000145857 \t검증 세트 정확도: 99.539%\n",
      "Epoch: 0295 cost =  0.000202429 \t검증 세트 정확도: 99.693%\n",
      "Epoch: 0296 cost =  0.000163763 \t검증 세트 정확도: 99.846%\n",
      "Epoch: 0297 cost =  0.000169631 \t검증 세트 정확도: 99.846%\n",
      "Epoch: 0298 cost =  0.000081364 \t검증 세트 정확도: 99.846%\n",
      "Epoch: 0299 cost =  0.000084211 \t검증 세트 정확도: 99.539%\n",
      "Epoch: 0300 cost =  0.000412530 \t검증 세트 정확도: 99.539%\n",
      "Epoch: 0301 cost =  0.000081282 \t검증 세트 정확도: 99.846%\n",
      "Epoch: 0302 cost =  0.000480237 \t검증 세트 정확도: 99.846%\n",
      "Epoch: 0303 cost =  0.000378370 \t검증 세트 정확도: 99.539%\n",
      "Epoch: 0304 cost =  0.000058645 \t검증 세트 정확도: 99.846%\n",
      "Epoch: 0305 cost =  0.000213726 \t검증 세트 정확도: 99.693%\n",
      "Epoch: 0306 cost =  0.000237744 \t검증 세트 정확도: 99.846%\n",
      "Epoch: 0307 cost =  0.001042776 \t검증 세트 정확도: 99.846%\n",
      "Epoch: 0308 cost =  0.000170431 \t검증 세트 정확도: 99.846%\n",
      "Epoch: 0309 cost =  0.000175164 \t검증 세트 정확도: 99.846%\n",
      "Epoch: 0310 cost =  0.000055336 \t검증 세트 정확도: 99.846%\n",
      "Epoch: 0311 cost =  0.000117692 \t검증 세트 정확도: 100.000%\n",
      "Epoch: 0312 cost =  0.000050955 \t검증 세트 정확도: 100.000%\n",
      "Epoch: 0313 cost =  0.000028268 \t검증 세트 정확도: 100.000%\n",
      "Epoch: 0314 cost =  0.000071225 \t검증 세트 정확도: 100.000%\n",
      "Epoch: 0315 cost =  0.000255317 \t검증 세트 정확도: 99.846%\n",
      "Epoch: 0316 cost =  0.000565467 \t검증 세트 정확도: 99.846%\n"
     ]
    },
    {
     "name": "stdout",
     "output_type": "stream",
     "text": [
      "Epoch: 0317 cost =  0.000074987 \t검증 세트 정확도: 99.846%\n",
      "Epoch: 0318 cost =  0.000313319 \t검증 세트 정확도: 99.693%\n",
      "Epoch: 0319 cost =  0.000168336 \t검증 세트 정확도: 99.232%\n",
      "Epoch: 0320 cost =  0.000496689 \t검증 세트 정확도: 99.846%\n",
      "Epoch: 0321 cost =  0.000737969 \t검증 세트 정확도: 99.846%\n",
      "Epoch: 0322 cost =  0.000046991 \t검증 세트 정확도: 99.846%\n",
      "Epoch: 0323 cost =  0.000693394 \t검증 세트 정확도: 99.846%\n",
      "Epoch: 0324 cost =  0.000309715 \t검증 세트 정확도: 99.846%\n",
      "Epoch: 0325 cost =  0.000082978 \t검증 세트 정확도: 99.846%\n",
      "Epoch: 0326 cost =  0.000061990 \t검증 세트 정확도: 99.846%\n",
      "Epoch: 0327 cost =  0.000152390 \t검증 세트 정확도: 99.846%\n",
      "Epoch: 0328 cost =  0.000227511 \t검증 세트 정확도: 99.846%\n",
      "Epoch: 0329 cost =  0.000647495 \t검증 세트 정확도: 99.846%\n",
      "Epoch: 0330 cost =  0.000159451 \t검증 세트 정확도: 99.846%\n",
      "Epoch: 0331 cost =  0.000118616 \t검증 세트 정확도: 99.693%\n",
      "Epoch: 0332 cost =  0.000092701 \t검증 세트 정확도: 99.846%\n",
      "Epoch: 0333 cost =  0.000038532 \t검증 세트 정확도: 99.846%\n",
      "Epoch: 0334 cost =  0.000569183 \t검증 세트 정확도: 99.693%\n",
      "Epoch: 0335 cost =  0.000330308 \t검증 세트 정확도: 99.846%\n",
      "Epoch: 0336 cost =  0.000255379 \t검증 세트 정확도: 99.693%\n",
      "Epoch: 0337 cost =  0.000251373 \t검증 세트 정확도: 99.846%\n",
      "Epoch: 0338 cost =  0.000102613 \t검증 세트 정확도: 99.846%\n",
      "Epoch: 0339 cost =  0.000043998 \t검증 세트 정확도: 99.846%\n",
      "Epoch: 0340 cost =  0.000148056 \t검증 세트 정확도: 99.846%\n",
      "Epoch: 0341 cost =  0.000356613 \t검증 세트 정확도: 99.846%\n",
      "Epoch: 0342 cost =  0.000322780 \t검증 세트 정확도: 99.846%\n",
      "Epoch: 0343 cost =  0.000216770 \t검증 세트 정확도: 99.846%\n",
      "Epoch: 0344 cost =  0.000102956 \t검증 세트 정확도: 99.846%\n",
      "Epoch: 0345 cost =  0.000041941 \t검증 세트 정확도: 99.846%\n",
      "Epoch: 0346 cost =  0.000046478 \t검증 세트 정확도: 99.846%\n",
      "Epoch: 0347 cost =  0.000353928 \t검증 세트 정확도: 99.693%\n",
      "Epoch: 0348 cost =  0.000200706 \t검증 세트 정확도: 99.846%\n",
      "Epoch: 0349 cost =  0.000073032 \t검증 세트 정확도: 99.846%\n",
      "Epoch: 0350 cost =  0.000060425 \t검증 세트 정확도: 99.693%\n",
      "Epoch: 0351 cost =  0.000133608 \t검증 세트 정확도: 99.846%\n",
      "Epoch: 0352 cost =  0.000109317 \t검증 세트 정확도: 99.846%\n",
      "Epoch: 0353 cost =  0.000052091 \t검증 세트 정확도: 99.846%\n",
      "Epoch: 0354 cost =  0.000026897 \t검증 세트 정확도: 99.846%\n",
      "Epoch: 0355 cost =  0.000144500 \t검증 세트 정확도: 99.846%\n",
      "Epoch: 0356 cost =  0.000036037 \t검증 세트 정확도: 99.846%\n",
      "Epoch: 0357 cost =  0.000234876 \t검증 세트 정확도: 99.846%\n",
      "Epoch: 0358 cost =  0.000613801 \t검증 세트 정확도: 99.846%\n",
      "Epoch: 0359 cost =  0.000148604 \t검증 세트 정확도: 99.846%\n",
      "Epoch: 0360 cost =  0.000013645 \t검증 세트 정확도: 99.846%\n",
      "Epoch: 0361 cost =  0.000123722 \t검증 세트 정확도: 99.846%\n",
      "Epoch: 0362 cost =  0.000123257 \t검증 세트 정확도: 99.693%\n",
      "Epoch: 0363 cost =  0.000420160 \t검증 세트 정확도: 99.846%\n",
      "Epoch: 0364 cost =  0.000406897 \t검증 세트 정확도: 99.846%\n",
      "Epoch: 0365 cost =  0.000169448 \t검증 세트 정확도: 99.846%\n",
      "Epoch: 0366 cost =  0.000041060 \t검증 세트 정확도: 99.846%\n",
      "Epoch: 0367 cost =  0.000048064 \t검증 세트 정확도: 99.846%\n",
      "Epoch: 0368 cost =  0.000022273 \t검증 세트 정확도: 99.846%\n",
      "Epoch: 0369 cost =  0.000157424 \t검증 세트 정확도: 99.846%\n",
      "Epoch: 0370 cost =  0.000723070 \t검증 세트 정확도: 99.693%\n",
      "Epoch: 0371 cost =  0.001167320 \t검증 세트 정확도: 99.846%\n",
      "Epoch: 0372 cost =  0.000127795 \t검증 세트 정확도: 99.846%\n",
      "Epoch: 0373 cost =  0.000108177 \t검증 세트 정확도: 99.846%\n",
      "Epoch: 0374 cost =  0.000041270 \t검증 세트 정확도: 99.846%\n",
      "Epoch: 0375 cost =  0.000058401 \t검증 세트 정확도: 99.846%\n",
      "Epoch: 0376 cost =  0.000025264 \t검증 세트 정확도: 99.846%\n",
      "Epoch: 0377 cost =  0.000008643 \t검증 세트 정확도: 99.846%\n",
      "Epoch: 0378 cost =  0.000038068 \t검증 세트 정확도: 99.846%\n",
      "Epoch: 0379 cost =  0.000064287 \t검증 세트 정확도: 99.846%\n",
      "Epoch: 0380 cost =  0.000017991 \t검증 세트 정확도: 99.846%\n",
      "Epoch: 0381 cost =  0.000004622 \t검증 세트 정확도: 99.846%\n",
      "Epoch: 0382 cost =  0.000015954 \t검증 세트 정확도: 99.846%\n",
      "Epoch: 0383 cost =  0.000057319 \t검증 세트 정확도: 99.846%\n",
      "Epoch: 0384 cost =  0.000144085 \t검증 세트 정확도: 99.846%\n",
      "Epoch: 0385 cost =  0.000079635 \t검증 세트 정확도: 99.846%\n",
      "Epoch: 0386 cost =  0.000155390 \t검증 세트 정확도: 99.846%\n",
      "Epoch: 0387 cost =  0.000152710 \t검증 세트 정확도: 99.846%\n",
      "Epoch: 0388 cost =  0.000119960 \t검증 세트 정확도: 100.000%\n",
      "Epoch: 0389 cost =  0.000080714 \t검증 세트 정확도: 100.000%\n",
      "Epoch: 0390 cost =  0.000014053 \t검증 세트 정확도: 99.846%\n",
      "Epoch: 0391 cost =  0.000020849 \t검증 세트 정확도: 99.846%\n",
      "Epoch: 0392 cost =  0.000049303 \t검증 세트 정확도: 99.846%\n",
      "Epoch: 0393 cost =  0.000034550 \t검증 세트 정확도: 99.846%\n",
      "Epoch: 0394 cost =  0.000238745 \t검증 세트 정확도: 99.846%\n",
      "Epoch: 0395 cost =  0.001640211 \t검증 세트 정확도: 99.539%\n",
      "Epoch: 0396 cost =  0.001227405 \t검증 세트 정확도: 99.846%\n",
      "Epoch: 0397 cost =  0.000108946 \t검증 세트 정확도: 99.846%\n",
      "Epoch: 0398 cost =  0.000189940 \t검증 세트 정확도: 99.846%\n",
      "Epoch: 0399 cost =  0.000089426 \t검증 세트 정확도: 99.846%\n",
      "Epoch: 0400 cost =  0.000114813 \t검증 세트 정확도: 99.846%\n",
      "Epoch: 0401 cost =  0.000256845 \t검증 세트 정확도: 99.693%\n",
      "Epoch: 0402 cost =  0.000077698 \t검증 세트 정확도: 99.846%\n",
      "Epoch: 0403 cost =  0.000052677 \t검증 세트 정확도: 99.846%\n",
      "Epoch: 0404 cost =  0.000118617 \t검증 세트 정확도: 99.539%\n",
      "Epoch: 0405 cost =  0.000115337 \t검증 세트 정확도: 99.693%\n",
      "Epoch: 0406 cost =  0.000268185 \t검증 세트 정확도: 99.539%\n",
      "Epoch: 0407 cost =  0.000068010 \t검증 세트 정확도: 99.693%\n",
      "Epoch: 0408 cost =  0.000049128 \t검증 세트 정확도: 99.539%\n",
      "Epoch: 0409 cost =  0.000242327 \t검증 세트 정확도: 99.846%\n",
      "Epoch: 0410 cost =  0.000060972 \t검증 세트 정확도: 99.846%\n",
      "Epoch: 0411 cost =  0.000071565 \t검증 세트 정확도: 99.693%\n",
      "Epoch: 0412 cost =  0.000144021 \t검증 세트 정확도: 99.846%\n",
      "Epoch: 0413 cost =  0.000067163 \t검증 세트 정확도: 99.846%\n",
      "Epoch: 0414 cost =  0.000059936 \t검증 세트 정확도: 99.693%\n",
      "Epoch: 0415 cost =  0.000034494 \t검증 세트 정확도: 99.846%\n",
      "Epoch: 0416 cost =  0.000138169 \t검증 세트 정확도: 99.693%\n",
      "Epoch: 0417 cost =  0.000156407 \t검증 세트 정확도: 99.539%\n",
      "Epoch: 0418 cost =  0.000137786 \t검증 세트 정확도: 99.846%\n",
      "Epoch: 0419 cost =  0.000290887 \t검증 세트 정확도: 99.693%\n",
      "Epoch: 0420 cost =  0.000137386 \t검증 세트 정확도: 99.846%\n",
      "Epoch: 0421 cost =  0.000158545 \t검증 세트 정확도: 99.846%\n",
      "Epoch: 0422 cost =  0.000048055 \t검증 세트 정확도: 99.846%\n",
      "Epoch: 0423 cost =  0.000150710 \t검증 세트 정확도: 99.846%\n",
      "Epoch: 0424 cost =  0.000340962 \t검증 세트 정확도: 99.693%\n",
      "Epoch: 0425 cost =  0.000341286 \t검증 세트 정확도: 99.846%\n",
      "Epoch: 0426 cost =  0.000149633 \t검증 세트 정확도: 99.846%\n",
      "Epoch: 0427 cost =  0.000157089 \t검증 세트 정확도: 99.846%\n",
      "Epoch: 0428 cost =  0.000087452 \t검증 세트 정확도: 100.000%\n",
      "Epoch: 0429 cost =  0.000021788 \t검증 세트 정확도: 100.000%\n",
      "Epoch: 0430 cost =  0.000041944 \t검증 세트 정확도: 100.000%\n",
      "Epoch: 0431 cost =  0.000001302 \t검증 세트 정확도: 100.000%\n",
      "Epoch: 0432 cost =  0.000246473 \t검증 세트 정확도: 99.693%\n",
      "Epoch: 0433 cost =  0.000388701 \t검증 세트 정확도: 99.846%\n",
      "Epoch: 0434 cost =  0.000152767 \t검증 세트 정확도: 99.846%\n",
      "Epoch: 0435 cost =  0.000228758 \t검증 세트 정확도: 99.846%\n",
      "Epoch: 0436 cost =  0.000176564 \t검증 세트 정확도: 99.846%\n",
      "Epoch: 0437 cost =  0.000093742 \t검증 세트 정확도: 100.000%\n",
      "Epoch: 0438 cost =  0.000090634 \t검증 세트 정확도: 100.000%\n",
      "Epoch: 0439 cost =  0.000043419 \t검증 세트 정확도: 99.846%\n",
      "Epoch: 0440 cost =  0.000132758 \t검증 세트 정확도: 99.846%\n",
      "Epoch: 0441 cost =  0.000084624 \t검증 세트 정확도: 99.846%\n",
      "Epoch: 0442 cost =  0.000300586 \t검증 세트 정확도: 99.846%\n",
      "Epoch: 0443 cost =  0.000155327 \t검증 세트 정확도: 99.846%\n",
      "Epoch: 0444 cost =  0.000023869 \t검증 세트 정확도: 99.846%\n",
      "Epoch: 0445 cost =  0.000029685 \t검증 세트 정확도: 99.846%\n",
      "Epoch: 0446 cost =  0.000259152 \t검증 세트 정확도: 100.000%\n",
      "Epoch: 0447 cost =  0.000076542 \t검증 세트 정확도: 99.846%\n",
      "Epoch: 0448 cost =  0.000064868 \t검증 세트 정확도: 99.846%\n",
      "Epoch: 0449 cost =  0.000046568 \t검증 세트 정확도: 99.846%\n",
      "Epoch: 0450 cost =  0.000018733 \t검증 세트 정확도: 99.846%\n",
      "Epoch: 0451 cost =  0.000015324 \t검증 세트 정확도: 99.846%\n",
      "Epoch: 0452 cost =  0.000008780 \t검증 세트 정확도: 99.846%\n",
      "Epoch: 0453 cost =  0.000348570 \t검증 세트 정확도: 99.846%\n",
      "Epoch: 0454 cost =  0.000113163 \t검증 세트 정확도: 99.846%\n",
      "Epoch: 0455 cost =  0.000095356 \t검증 세트 정확도: 99.846%\n",
      "Epoch: 0456 cost =  0.000067167 \t검증 세트 정확도: 99.846%\n",
      "Epoch: 0457 cost =  0.000093326 \t검증 세트 정확도: 100.000%\n",
      "Epoch: 0458 cost =  0.000010103 \t검증 세트 정확도: 100.000%\n",
      "Epoch: 0459 cost =  0.000083720 \t검증 세트 정확도: 100.000%\n",
      "Epoch: 0460 cost =  0.000302957 \t검증 세트 정확도: 99.846%\n",
      "Epoch: 0461 cost =  0.000202676 \t검증 세트 정확도: 100.000%\n",
      "Epoch: 0462 cost =  0.001188310 \t검증 세트 정확도: 99.846%\n",
      "Epoch: 0463 cost =  0.000719703 \t검증 세트 정확도: 99.846%\n",
      "Epoch: 0464 cost =  0.000691358 \t검증 세트 정확도: 99.846%\n",
      "Epoch: 0465 cost =  0.000143713 \t검증 세트 정확도: 99.846%\n",
      "Epoch: 0466 cost =  0.000146702 \t검증 세트 정확도: 99.846%\n",
      "Epoch: 0467 cost =  0.000041970 \t검증 세트 정확도: 99.846%\n",
      "Epoch: 0468 cost =  0.000075875 \t검증 세트 정확도: 99.846%\n",
      "Epoch: 0469 cost =  0.000482490 \t검증 세트 정확도: 99.846%\n",
      "Epoch: 0470 cost =  0.000113584 \t검증 세트 정확도: 99.846%\n",
      "Epoch: 0471 cost =  0.000115907 \t검증 세트 정확도: 99.846%\n",
      "Epoch: 0472 cost =  0.000051199 \t검증 세트 정확도: 99.846%\n",
      "Epoch: 0473 cost =  0.000051838 \t검증 세트 정확도: 99.846%\n",
      "Epoch: 0474 cost =  0.000110780 \t검증 세트 정확도: 99.846%\n"
     ]
    },
    {
     "name": "stdout",
     "output_type": "stream",
     "text": [
      "Epoch: 0475 cost =  0.000052023 \t검증 세트 정확도: 99.846%\n",
      "Epoch: 0476 cost =  0.000063204 \t검증 세트 정확도: 99.846%\n",
      "Epoch: 0477 cost =  0.000047227 \t검증 세트 정확도: 99.846%\n",
      "Epoch: 0478 cost =  0.000106903 \t검증 세트 정확도: 99.846%\n",
      "Epoch: 0479 cost =  0.000023546 \t검증 세트 정확도: 99.846%\n",
      "Epoch: 0480 cost =  0.000098006 \t검증 세트 정확도: 99.846%\n",
      "Epoch: 0481 cost =  0.000169208 \t검증 세트 정확도: 99.846%\n",
      "Epoch: 0482 cost =  0.000054766 \t검증 세트 정확도: 99.846%\n",
      "Epoch: 0483 cost =  0.000050633 \t검증 세트 정확도: 99.846%\n",
      "Epoch: 0484 cost =  0.000194598 \t검증 세트 정확도: 100.000%\n",
      "Epoch: 0485 cost =  0.000188662 \t검증 세트 정확도: 99.846%\n",
      "Epoch: 0486 cost =  0.000019348 \t검증 세트 정확도: 99.846%\n",
      "Epoch: 0487 cost =  0.000180278 \t검증 세트 정확도: 99.846%\n",
      "Epoch: 0488 cost =  0.000330271 \t검증 세트 정확도: 99.846%\n",
      "Epoch: 0489 cost =  0.000765257 \t검증 세트 정확도: 99.693%\n",
      "Epoch: 0490 cost =  0.000276611 \t검증 세트 정확도: 100.000%\n",
      "Epoch: 0491 cost =  0.000105855 \t검증 세트 정확도: 100.000%\n",
      "Epoch: 0492 cost =  0.000030700 \t검증 세트 정확도: 99.846%\n",
      "Epoch: 0493 cost =  0.000030986 \t검증 세트 정확도: 99.846%\n",
      "Epoch: 0494 cost =  0.000097340 \t검증 세트 정확도: 99.846%\n",
      "Epoch: 0495 cost =  0.000017573 \t검증 세트 정확도: 99.846%\n",
      "Epoch: 0496 cost =  0.000293833 \t검증 세트 정확도: 100.000%\n",
      "Epoch: 0497 cost =  0.000018102 \t검증 세트 정확도: 99.846%\n",
      "Epoch: 0498 cost =  0.000384169 \t검증 세트 정확도: 99.846%\n",
      "Epoch: 0499 cost =  0.000292015 \t검증 세트 정확도: 100.000%\n"
     ]
    },
    {
     "data": {
      "text/plain": [
       "'../../model/Dense/dense_model'"
      ]
     },
     "execution_count": 25,
     "metadata": {},
     "output_type": "execute_result"
    }
   ],
   "source": [
    "#original \n",
    "batch_size = 32\n",
    "cost_history = np.empty(shape=[1], dtype=float)\n",
    "\n",
    "for epoch in range(1,500):\n",
    "    avg_cost = 0    \n",
    "#    total_batch = int(X_train.shape[0] / batch_size)\n",
    "    for i in range( int(math.ceil(len(X_train)/batch_size)) ): # 배치 사이즈로 나눈 나머지 다 돌 수 있게 \n",
    "        x_ = X_train[batch_size * i: batch_size * (i + 1)]\n",
    "        y_ = y_train[batch_size * i: batch_size * (i + 1)]\n",
    "        feed_dict={X:x_, Y:y_, keep_prob:0.6}    \n",
    "        c, _ = sess.run([cost, optimizer], feed_dict=feed_dict)\n",
    "        cost_history = np.append(cost_history,cost)\n",
    "        avg_cost += c\n",
    "    #accuracy_val = sess.run([accuracy], feed_dict={X:X_val, Y:y_val\n",
    "    val_pred = sess.run(tf.argmax(logits,1),feed_dict={X: X_val , keep_prob:1})  \n",
    "    val_true = sess.run(tf.argmax(y_val,1))\n",
    "    accuracy_val = accuracy_score(val_pred, val_true)\n",
    "    print('Epoch:', '%04d' % (epoch), 'cost = ', '{:.9f}'.format(avg_cost / len(X_train)), \"\\t검증 세트 정확도: {:.3f}%\".format(accuracy_val * 100),)\n",
    "saver.save(sess, model_path)\n",
    "\n",
    "#if epoch% 20 == 0:\n",
    "#   save"
   ]
  },
  {
   "cell_type": "markdown",
   "metadata": {},
   "source": [
    "## Prediction"
   ]
  },
  {
   "cell_type": "code",
   "execution_count": 26,
   "metadata": {},
   "outputs": [],
   "source": [
    "y_pred = sess.run(tf.argmax(logits,1),feed_dict={X: X_test , keep_prob:1}) \n",
    "y_true = sess.run(tf.argmax(y_test,1))"
   ]
  },
  {
   "cell_type": "code",
   "execution_count": 27,
   "metadata": {},
   "outputs": [
    {
     "name": "stdout",
     "output_type": "stream",
     "text": [
      "F-Score: 1.0\n",
      "Accuracy:  1.0\n",
      "              precision    recall  f1-score   support\n",
      "\n",
      "           0       1.00      1.00      1.00       327\n",
      "           1       1.00      1.00      1.00       486\n",
      "\n",
      "   micro avg       1.00      1.00      1.00       813\n",
      "   macro avg       1.00      1.00      1.00       813\n",
      "weighted avg       1.00      1.00      1.00       813\n",
      "\n",
      "[[327   0]\n",
      " [  0 486]]\n"
     ]
    }
   ],
   "source": [
    "# Ptint Result\n",
    "\n",
    "from sklearn.metrics import precision_recall_fscore_support\n",
    "p,r,f,s = precision_recall_fscore_support(y_true, y_pred, average='micro')\n",
    "print(\"F-Score:\", round(f,3))\n",
    "from sklearn.metrics import accuracy_score\n",
    "print(\"Accuracy: \", accuracy_score(y_true, y_pred))\n",
    "\n",
    "from sklearn.metrics import classification_report\n",
    "print(classification_report(y_true, y_pred))\n",
    "from sklearn.metrics import confusion_matrix\n",
    "print(confusion_matrix(y_true, y_pred))"
   ]
  }
 ],
 "metadata": {
  "kernelspec": {
   "display_name": "Python 3",
   "language": "python",
   "name": "python3"
  },
  "language_info": {
   "codemirror_mode": {
    "name": "ipython",
    "version": 3
   },
   "file_extension": ".py",
   "mimetype": "text/x-python",
   "name": "python",
   "nbconvert_exporter": "python",
   "pygments_lexer": "ipython3",
   "version": "3.6.7"
  }
 },
 "nbformat": 4,
 "nbformat_minor": 2
}
