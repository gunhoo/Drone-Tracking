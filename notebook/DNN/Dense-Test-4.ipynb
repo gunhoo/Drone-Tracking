{
 "cells": [
  {
   "cell_type": "code",
   "execution_count": 1,
   "metadata": {
    "scrolled": true
   },
   "outputs": [],
   "source": [
    "import matplotlib.pyplot as plt\n",
    "%matplotlib inline\n",
    "import IPython.display\n",
    "import librosa.display\n",
    "import numpy as np\n",
    "import librosa\n",
    "import tensorflow as tf\n",
    "import glob"
   ]
  },
  {
   "cell_type": "code",
   "execution_count": 2,
   "metadata": {},
   "outputs": [],
   "source": [
    "drone_path_1 = '../../data/1mtest/second*.wav'\n",
    "drone_path_10 = '../../data/10mtest/*.wav'\n",
    "drone_path_20 = '../../data/20mtest/*.wav'\n",
    "drone_path_30 = '../../data/30mtest/*.wav'\n",
    "drone_path_40 = '../../data/40mtest/*.wav'\n",
    "drone_path_50 = '../../data/50mtest/*.wav'\n",
    "#background_path = '../../data/backgroundtest/*.wav'\n",
    "\n",
    "drone_files_1 = glob.glob(drone_path_1)\n",
    "drone_files_10 = glob.glob(drone_path_10)\n",
    "drone_files_20 = glob.glob(drone_path_20)\n",
    "drone_files_30 = glob.glob(drone_path_30)\n",
    "drone_files_40 = glob.glob(drone_path_40)\n",
    "drone_files_50 = glob.glob(drone_path_50)\n",
    "#background_files = glob.glob(background_path)"
   ]
  },
  {
   "cell_type": "code",
   "execution_count": 3,
   "metadata": {},
   "outputs": [],
   "source": [
    "CHUNK_SIZE = 8192\n",
    "SR = 22050\n",
    "N_MFCC = 16"
   ]
  },
  {
   "cell_type": "code",
   "execution_count": 4,
   "metadata": {},
   "outputs": [],
   "source": [
    "def load(files, sr=22050):\n",
    "    [raw, sr] = librosa.load(files[0], sr=sr)\n",
    "    for f in files[1:]:\n",
    "        [array, sr] = librosa.load(f, sr=sr)\n",
    "        raw = np.hstack((raw, array))\n",
    "    print(raw.shape)\n",
    "    return raw"
   ]
  },
  {
   "cell_type": "code",
   "execution_count": 5,
   "metadata": {},
   "outputs": [
    {
     "name": "stdout",
     "output_type": "stream",
     "text": [
      "(102400,)\n",
      "(143360,)\n",
      "(102400,)\n",
      "(111258,)\n",
      "(145839,)\n",
      "(143360,)\n"
     ]
    }
   ],
   "source": [
    "drone_raw_1 = load(drone_files_1)\n",
    "drone_raw_10 = load(drone_files_10)\n",
    "drone_raw_20 = load(drone_files_20)\n",
    "drone_raw_30 = load(drone_files_30)\n",
    "drone_raw_40 = load(drone_files_40)\n",
    "drone_raw_50 = load(drone_files_50)\n",
    "\n",
    "#background_raw = load(background_files)"
   ]
  },
  {
   "cell_type": "code",
   "execution_count": 6,
   "metadata": {},
   "outputs": [],
   "source": [
    "def mfcc4(raw, label, chunk_size=8192, window_size=4096, sr=22050, n_mfcc=16, n_frame=16):\n",
    "    mfcc = np.empty((0, n_mfcc, n_frame))\n",
    "    y = []\n",
    "    print(raw.shape)\n",
    "    for i in range(0, len(raw), chunk_size//2):\n",
    "        mfcc_slice = librosa.feature.mfcc(raw[i:i+chunk_size], sr=sr, n_mfcc=n_mfcc) #n_mfcc,17\n",
    "        if mfcc_slice.shape[1] < 17:\n",
    "            print(i,\">small end:\", mfcc_slice.shape)\n",
    "            continue\n",
    "        mfcc_slice = mfcc_slice[:,:-1]\n",
    "        mfcc_slice = mfcc_slice.reshape((1, mfcc_slice.shape[0], mfcc_slice.shape[1]))\n",
    "        mfcc = np.vstack((mfcc, mfcc_slice))\n",
    "        y.append(label)\n",
    "    y = np.array(y)\n",
    "    return mfcc, y"
   ]
  },
  {
   "cell_type": "code",
   "execution_count": 7,
   "metadata": {},
   "outputs": [
    {
     "name": "stdout",
     "output_type": "stream",
     "text": [
      "(102400,)\n",
      "98304 >small end: (16, 9)\n",
      "(143360,)\n",
      "139264 >small end: (16, 9)\n",
      "(102400,)\n",
      "98304 >small end: (16, 9)\n",
      "(111258,)\n",
      "106496 >small end: (16, 10)\n",
      "110592 >small end: (16, 2)\n",
      "(145839,)\n",
      "139264 >small end: (16, 13)\n",
      "143360 >small end: (16, 5)\n",
      "(143360,)\n",
      "139264 >small end: (16, 9)\n"
     ]
    }
   ],
   "source": [
    "mfcc_drone_1, y_drone_1 = mfcc4(drone_raw_1, 4)\n",
    "mfcc_drone_10, y_drone_10 = mfcc4(drone_raw_10, 3)\n",
    "mfcc_drone_20, y_drone_20 = mfcc4(drone_raw_20, 2)\n",
    "mfcc_drone_30, y_drone_30 = mfcc4(drone_raw_30, 2)\n",
    "mfcc_drone_40, y_drone_40 = mfcc4(drone_raw_40, 1)\n",
    "mfcc_drone_50, y_drone_50 = mfcc4(drone_raw_50, 1)\n",
    "\n",
    "#mfcc_background, y_background = mfcc4(background_raw, 0)"
   ]
  },
  {
   "cell_type": "code",
   "execution_count": 8,
   "metadata": {},
   "outputs": [],
   "source": [
    "#print(mfcc_drone_1.shape, y_drone_1.shape)\n",
    "#print(mfcc_drone_10.shape, y_drone_10.shape)\n",
    "#print(mfcc_drone_20.shape, y_drone_20.shape)\n",
    "#print(mfcc_drone_30.shape, y_drone_30.shape)\n",
    "#print(mfcc_drone_40.shape, y_drone_40.shape)\n",
    "#print(mfcc_drone_50.shape, y_drone_50.shape)\n",
    "#print(mfcc_background.shape, y_background.shape)"
   ]
  },
  {
   "cell_type": "code",
   "execution_count": 9,
   "metadata": {},
   "outputs": [
    {
     "name": "stdout",
     "output_type": "stream",
     "text": [
      "(176, 16, 16) (176,)\n"
     ]
    }
   ],
   "source": [
    "#X = np.concatenate((mfcc_drone_30), axis=0)\n",
    "#y = np.hstack((y_drone_30))\n",
    "\n",
    "X = np.concatenate((mfcc_drone_1,mfcc_drone_10,mfcc_drone_20,mfcc_drone_30,mfcc_drone_40,mfcc_drone_50), axis=0)\n",
    "y = np.hstack((y_drone_1, y_drone_10, y_drone_20, y_drone_30, y_drone_40, y_drone_50))\n",
    "\n",
    "print(X.shape, y.shape)"
   ]
  },
  {
   "cell_type": "code",
   "execution_count": 10,
   "metadata": {},
   "outputs": [
    {
     "name": "stdout",
     "output_type": "stream",
     "text": [
      "(176, 256)\n",
      "<class 'numpy.ndarray'>\n"
     ]
    }
   ],
   "source": [
    "X_test = np.reshape(X,(-1,256))\n",
    "print(X_test.shape)\n",
    "print(type(X_test))"
   ]
  },
  {
   "cell_type": "code",
   "execution_count": 11,
   "metadata": {},
   "outputs": [],
   "source": [
    "#X_train2 = X.reshape(X.shape[0], X.shape[1], X.shape[2], 1) ############# 리셰입 해야 "
   ]
  },
  {
   "cell_type": "code",
   "execution_count": 12,
   "metadata": {},
   "outputs": [
    {
     "name": "stdout",
     "output_type": "stream",
     "text": [
      "(176, 5)\n"
     ]
    }
   ],
   "source": [
    "n_labels = y.shape[0]\n",
    "n_unique_labels = 5\n",
    "y_encoded = np.zeros((n_labels, n_unique_labels))\n",
    "y_encoded[np.arange(n_labels), y] = 1\n",
    "print(y_encoded.shape)"
   ]
  },
  {
   "cell_type": "markdown",
   "metadata": {},
   "source": [
    "# test init"
   ]
  },
  {
   "cell_type": "code",
   "execution_count": 13,
   "metadata": {},
   "outputs": [],
   "source": [
    "tf.reset_default_graph()"
   ]
  },
  {
   "cell_type": "code",
   "execution_count": 14,
   "metadata": {},
   "outputs": [],
   "source": [
    "n_mfcc = 16\n",
    "n_frame = 16\n",
    "n_classes = 5\n",
    "n_channels = 1\n",
    "\n",
    "kernel_size = 3\n",
    "stride = 1\n",
    "pad = \"SAME\"\n",
    "\n",
    "learning_rate = 0.0002"
   ]
  },
  {
   "cell_type": "code",
   "execution_count": 15,
   "metadata": {},
   "outputs": [],
   "source": [
    "X = tf.placeholder(tf.float32, shape=[None,n_mfcc*n_frame*n_channels])\n",
    "#X = tf.reshape(X, [-1, n_mfcc, n_frame, n_channels]) #fully connected에는 리셰입 안해도 된다 \n",
    "Y = tf.placeholder(tf.float32, shape=[None,n_classes])\n",
    "\n",
    "keep_prob = tf.placeholder(tf.float32)\n",
    "\n",
    "#dense2 = tf.layers.dense(inputs=flat, units=625, activation=tf.nn.relu)\n",
    "#dropout2 = tf.layers.dropout(inputs=dense2, rate=0.5, training=True)\n",
    "dense1 = tf.layers.dense(inputs=X, units=256, activation=tf.nn.relu)\n",
    "dropout1 = tf.nn.dropout(dense1, keep_prob=keep_prob)\n",
    "dense2 = tf.layers.dense(inputs=dropout1, units=256, activation=tf.nn.relu)\n",
    "dropout2 = tf.nn.dropout(dense2, keep_prob=keep_prob)\n",
    "dense3 = tf.layers.dense(inputs=dropout2, units=512, activation=tf.nn.relu)\n",
    "dropout3 = tf.nn.dropout(dense3, keep_prob=keep_prob)\n",
    "#이거 지워보고 돌려보고 \n",
    "dense4 = tf.layers.dense(inputs=dropout3, units=512, activation=tf.nn.relu)\n",
    "dropout4 = tf.nn.dropout(dense4, keep_prob=keep_prob)\n",
    "dense5 = tf.layers.dense(inputs=dropout4, units=256, activation=tf.nn.relu)\n",
    "dropout5 = tf.nn.dropout(dense5, keep_prob=keep_prob)\n",
    "\n",
    "logits= tf.layers.dense(inputs=dropout5, units=5)"
   ]
  },
  {
   "cell_type": "code",
   "execution_count": 16,
   "metadata": {},
   "outputs": [],
   "source": [
    "cost = tf.reduce_mean(tf.nn.softmax_cross_entropy_with_logits_v2(logits=logits, labels=Y))\n",
    "optimizer = tf.train.AdamOptimizer(learning_rate=learning_rate).minimize(cost)"
   ]
  },
  {
   "cell_type": "code",
   "execution_count": 17,
   "metadata": {
    "scrolled": true
   },
   "outputs": [
    {
     "name": "stdout",
     "output_type": "stream",
     "text": [
      "INFO:tensorflow:Restoring parameters from ../../model/DNN/4_dense_model\n"
     ]
    }
   ],
   "source": [
    "# Model Save\n",
    "sess=tf.Session()\n",
    "saver = tf.train.Saver()\n",
    "saver.restore(sess, '../../model/DNN/4_dense_model')"
   ]
  },
  {
   "cell_type": "code",
   "execution_count": 18,
   "metadata": {
    "scrolled": true
   },
   "outputs": [
    {
     "name": "stdout",
     "output_type": "stream",
     "text": [
      "<class 'numpy.ndarray'>\n"
     ]
    }
   ],
   "source": [
    "# Prediction\n",
    "y_test = sess.run(tf.nn.softmax(logits), feed_dict={X: X_test, keep_prob:1})\n",
    "y_pred = sess.run(tf.argmax(logits,1),feed_dict={X: X_test , keep_prob:1}) \n",
    "y_true = sess.run(tf.argmax(y_encoded,1))\n",
    "print(type(y_test))"
   ]
  },
  {
   "cell_type": "code",
   "execution_count": 19,
   "metadata": {},
   "outputs": [],
   "source": [
    "def conversion(input):\n",
    "    switcher ={\n",
    "        4: 1,\n",
    "        3: 10,\n",
    "        2: 20,\n",
    "        1: 50,\n",
    "        0: 100\n",
    "    }\n",
    "    return switcher.get(input)"
   ]
  },
  {
   "cell_type": "code",
   "execution_count": 20,
   "metadata": {
    "scrolled": true
   },
   "outputs": [],
   "source": [
    "import pandas as pd\n",
    "pd.options.display.max_rows = 4000\n",
    "#print(pd.DataFrame(y_test))\n",
    "resultX = []\n",
    "resultY = []\n",
    "predX = []\n",
    "meanX = []\n",
    "meanY = []\n",
    "out_mean = []\n",
    "\n",
    "# 1m\n",
    "sum = 0\n",
    "out_sum = 0\n",
    "for i in range(0,24):\n",
    "    cal = round(y_test[i][0]*100+y_test[i][1]*50+y_test[i][2]*20+y_test[i][3]*10+y_test[i][4]*1,2)\n",
    "    sum += cal\n",
    "    resultX.append(cal)\n",
    "    resultY.append(1)\n",
    "    \n",
    "    out = int(conversion(y_pred[i]))\n",
    "    predX.append(out)\n",
    "    out_sum += out\n",
    "\n",
    "meanX.append(sum/24)\n",
    "meanY.append(1)\n",
    "out_mean.append(out_sum/24)\n",
    "sum = 0\n",
    "out_sum = 0\n",
    "\n",
    "# 10m\n",
    "for i in range(34,58):\n",
    "    cal = round(y_test[i][0]*100+y_test[i][1]*50+y_test[i][2]*20+y_test[i][3]*10+y_test[i][4]*1,2)\n",
    "    sum += cal\n",
    "    resultX.append(cal)\n",
    "    resultY.append(10)\n",
    "    \n",
    "    out = int(conversion(y_pred[i]))\n",
    "    predX.append(out)\n",
    "    out_sum += out\n",
    "\n",
    "meanX.append(sum/24)\n",
    "meanY.append(10)\n",
    "out_mean.append(out_sum/24)\n",
    "sum = 0\n",
    "out_sum = 0\n",
    "\n",
    "# 20m\n",
    "for i in range(58,82):\n",
    "    cal = round(y_test[i][0]*100+y_test[i][1]*50+y_test[i][2]*20+y_test[i][3]*10+y_test[i][4]*1,2)\n",
    "    sum += cal\n",
    "    resultX.append(cal)\n",
    "    resultY.append(20)\n",
    "    \n",
    "    out = int(conversion(y_pred[i]))\n",
    "    predX.append(out)\n",
    "    out_sum += out\n",
    "\n",
    "meanX.append(sum/24)\n",
    "meanY.append(20)\n",
    "out_mean.append(out_sum/24)\n",
    "sum = 0\n",
    "out_sum = 0\n",
    "\n",
    "# 30m\n",
    "for i in range(82,106):\n",
    "    cal = round(y_test[i][0]*100+y_test[i][1]*50+y_test[i][2]*20+y_test[i][3]*10+y_test[i][4]*1,2)\n",
    "    sum += cal\n",
    "    resultX.append(cal)\n",
    "    resultY.append(30)\n",
    "    \n",
    "    out = int(conversion(y_pred[i]))\n",
    "    predX.append(out)\n",
    "    out_sum += out\n",
    "\n",
    "meanX.append(sum/24)\n",
    "meanY.append(30)\n",
    "out_mean.append(out_sum/24)\n",
    "sum = 0\n",
    "out_sum = 0\n",
    "\n",
    "# 40m\n",
    "for i in range(108,132):\n",
    "    cal = round(y_test[i][0]*100+y_test[i][1]*50+y_test[i][2]*20+y_test[i][3]*10+y_test[i][4]*1,2)\n",
    "    sum += cal\n",
    "    resultX.append(cal)\n",
    "    resultY.append(40)\n",
    "    \n",
    "    out = int(conversion(y_pred[i]))\n",
    "    predX.append(out)\n",
    "    out_sum += out\n",
    "\n",
    "meanX.append(sum/24)\n",
    "meanY.append(40)\n",
    "out_mean.append(out_sum/24)\n",
    "sum = 0\n",
    "out_sum = 0\n",
    "\n",
    "# 50m\n",
    "for i in range(142,166):\n",
    "    cal = round(y_test[i][0]*100+y_test[i][1]*50+y_test[i][2]*20+y_test[i][3]*10+y_test[i][4]*1,2)\n",
    "    sum += cal\n",
    "    resultX.append(cal)\n",
    "    resultY.append(50)\n",
    "    \n",
    "    out = int(conversion(y_pred[i]))\n",
    "    predX.append(out)\n",
    "    out_sum += out\n",
    "\n",
    "meanX.append(sum/24)\n",
    "meanY.append(50)\n",
    "out_mean.append(out_sum/24)"
   ]
  },
  {
   "cell_type": "code",
   "execution_count": 21,
   "metadata": {},
   "outputs": [
    {
     "data": {
      "text/plain": [
       "[<matplotlib.axis.YTick at 0x7fcb00112dd8>,\n",
       " <matplotlib.axis.YTick at 0x7fcba19f0128>,\n",
       " <matplotlib.axis.YTick at 0x7fcbc65cc240>,\n",
       " <matplotlib.axis.YTick at 0x7fcb001730f0>,\n",
       " <matplotlib.axis.YTick at 0x7fcb00137908>,\n",
       " <matplotlib.axis.YTick at 0x7fcb00137518>,\n",
       " <matplotlib.axis.YTick at 0x7fcb00137128>,\n",
       " <matplotlib.axis.YTick at 0x7fcb0046ee10>,\n",
       " <matplotlib.axis.YTick at 0x7fcb001dd588>,\n",
       " <matplotlib.axis.YTick at 0x7fcb001dda90>,\n",
       " <matplotlib.axis.YTick at 0x7fcb001ddeb8>]"
      ]
     },
     "execution_count": 21,
     "metadata": {},
     "output_type": "execute_result"
    },
    {
     "data": {
      "image/png": "[encoded data removed]",
      "text/plain": [
       "<Figure size 360x720 with 1 Axes>"
      ]
     },
     "metadata": {
      "needs_background": "light"
     },
     "output_type": "display_data"
    }
   ],
   "source": [
    "import matplotlib.pyplot as plt\n",
    "%matplotlib inline\n",
    "\n",
    "fig= plt.figure(figsize=(5,10))\n",
    "axes= fig.add_subplot(111)\n",
    "\n",
    "plt.ylim(0, 100)\n",
    "plt.xlim(0,50)\n",
    "axes.plot(resultY, resultX,'x')\n",
    "plt.xlabel('Actual Distance (m)')\n",
    "plt.ylabel('Calculated Distance (m)')\n",
    "axes.plot(meanY, meanX)\n",
    "\n",
    "axes.set_yticks([0,10,20,30,40,50,60,70,80,90,100])"
   ]
  },
  {
   "cell_type": "code",
   "execution_count": 22,
   "metadata": {},
   "outputs": [
    {
     "data": {
      "text/plain": [
       "[<matplotlib.axis.YTick at 0x7fcb001c3da0>,\n",
       " <matplotlib.axis.YTick at 0x7fcb001c3a20>,\n",
       " <matplotlib.axis.YTick at 0x7fcb001ca048>,\n",
       " <matplotlib.axis.YTick at 0x7fcb003bda90>,\n",
       " <matplotlib.axis.YTick at 0x7fcb003bd6d8>,\n",
       " <matplotlib.axis.YTick at 0x7fcb003bd940>,\n",
       " <matplotlib.axis.YTick at 0x7fcb00363470>,\n",
       " <matplotlib.axis.YTick at 0x7fcb00363978>,\n",
       " <matplotlib.axis.YTick at 0x7fcb00363320>,\n",
       " <matplotlib.axis.YTick at 0x7fcb0037c3c8>,\n",
       " <matplotlib.axis.YTick at 0x7fcb0037c9e8>]"
      ]
     },
     "execution_count": 22,
     "metadata": {},
     "output_type": "execute_result"
    },
    {
     "data": {
      "image/png": "[encoded data removed]",
      "text/plain": [
       "<Figure size 360x720 with 1 Axes>"
      ]
     },
     "metadata": {
      "needs_background": "light"
     },
     "output_type": "display_data"
    }
   ],
   "source": [
    "import matplotlib.pyplot as plt\n",
    "%matplotlib inline\n",
    "\n",
    "fig= plt.figure(figsize=(5,10))\n",
    "axes= fig.add_subplot(111)\n",
    "\n",
    "plt.ylim(0, 100)\n",
    "plt.xlim(0,50)\n",
    "plt.xlabel('Actual Distance (m)')\n",
    "plt.ylabel('Calculated Distance (m)')\n",
    "axes.plot(resultY,predX,'x')\n",
    "axes.plot(meanY, out_mean)\n",
    "\n",
    "axes.set_yticks([0,10,20,30,40,50,60,70,80,90,100])"
   ]
  },
  {
   "cell_type": "code",
   "execution_count": 23,
   "metadata": {
    "scrolled": false
   },
   "outputs": [
    {
     "name": "stdout",
     "output_type": "stream",
     "text": [
      "F-Score: 0.73\n",
      "Accuracy:  0.7272727272727273\n",
      "              precision    recall  f1-score   support\n",
      "\n",
      "           0       0.00      0.00      0.00         0\n",
      "           1       1.00      0.49      0.65        68\n",
      "           2       0.56      0.98      0.71        50\n",
      "           3       1.00      0.65      0.79        34\n",
      "           4       0.92      1.00      0.96        24\n",
      "\n",
      "   micro avg       0.73      0.73      0.73       176\n",
      "   macro avg       0.70      0.62      0.62       176\n",
      "weighted avg       0.86      0.73      0.74       176\n",
      "\n",
      "[[ 0  0  0  0  0]\n",
      " [ 6 33 29  0  0]\n",
      " [ 1  0 49  0  0]\n",
      " [ 0  0 10 22  2]\n",
      " [ 0  0  0  0 24]]\n"
     ]
    },
    {
     "name": "stderr",
     "output_type": "stream",
     "text": [
      "/usr/local/lib/python3.6/dist-packages/sklearn/metrics/classification.py:1145: UndefinedMetricWarning: Recall and F-score are ill-defined and being set to 0.0 in labels with no true samples.\n",
      "  'recall', 'true', average, warn_for)\n"
     ]
    },
    {
     "data": {
      "image/png": "[encoded data removed]",
      "text/plain": [
       "<Figure size 1080x648 with 1 Axes>"
      ]
     },
     "metadata": {
      "needs_background": "light"
     },
     "output_type": "display_data"
    },
    {
     "data": {
      "image/png": "[encoded data removed]",
      "text/plain": [
       "<Figure size 1080x648 with 1 Axes>"
      ]
     },
     "metadata": {
      "needs_background": "light"
     },
     "output_type": "display_data"
    }
   ],
   "source": [
    "# Print Result\n",
    "\n",
    "from sklearn.metrics import precision_recall_fscore_support\n",
    "y_true = y_true\n",
    "y_pred = y_pred\n",
    "\n",
    "p,r,f,s = precision_recall_fscore_support(y_true, y_pred, average='micro')\n",
    "print(\"F-Score:\", round(f,2))\n",
    "from sklearn.metrics import accuracy_score\n",
    "print(\"Accuracy: \", accuracy_score(y_true, y_pred))\n",
    "\n",
    "\n",
    "fig = plt.figure(figsize=(15,9))\n",
    "ax = fig.add_subplot(1,1,1)\n",
    "ax.plot(np.linspace(0,len(y_pred), len(y_pred)),y_true, 'x')\n",
    "\n",
    "\n",
    "fig = plt.figure(figsize=(15,9))\n",
    "ax = fig.add_subplot(1,1,1)\n",
    "ax.plot(np.linspace(0,len(y_pred), len(y_pred)),y_pred, 'x')\n",
    "\n",
    "from sklearn.metrics import classification_report\n",
    "print(classification_report(y_true, y_pred))\n",
    "from sklearn.metrics import confusion_matrix\n",
    "print(confusion_matrix(y_true, y_pred))"
   ]
  },
  {
   "cell_type": "code",
   "execution_count": null,
   "metadata": {},
   "outputs": [],
   "source": []
  }
 ],
 "metadata": {
  "kernelspec": {
   "display_name": "Python 3",
   "language": "python",
   "name": "python3"
  },
  "language_info": {
   "codemirror_mode": {
    "name": "ipython",
    "version": 3
   },
   "file_extension": ".py",
   "mimetype": "text/x-python",
   "name": "python",
   "nbconvert_exporter": "python",
   "pygments_lexer": "ipython3",
   "version": "3.6.8"
  }
 },
 "nbformat": 4,
 "nbformat_minor": 2
}
