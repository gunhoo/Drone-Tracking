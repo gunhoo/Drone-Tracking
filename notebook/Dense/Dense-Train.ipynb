{
 "cells": [
  {
   "cell_type": "code",
   "execution_count": 1,
   "metadata": {},
   "outputs": [],
   "source": [
    "import matplotlib.pyplot as plt\n",
    "%matplotlib inline\n",
    "import IPython.display\n",
    "import librosa.display\n",
    "import numpy as np\n",
    "import librosa\n",
    "import tensorflow as tf\n",
    "import glob"
   ]
  },
  {
   "cell_type": "markdown",
   "metadata": {},
   "source": [
    "### If you have been save the data, you don't have to preprocessing and save the data"
   ]
  },
  {
   "cell_type": "code",
   "execution_count": 2,
   "metadata": {},
   "outputs": [],
   "source": [
    "drone_path = '../../data/drone/*.wav'\n",
    "background_path = '../../data/background/*.wav'\n",
    "\n",
    "drone_files = glob.glob(drone_path)\n",
    "background_files = glob.glob(background_path)"
   ]
  },
  {
   "cell_type": "code",
   "execution_count": 3,
   "metadata": {},
   "outputs": [],
   "source": [
    "CHUNK_SIZE = 8192\n",
    "SR = 44100\n",
    "N_MFCC = 16"
   ]
  },
  {
   "cell_type": "code",
   "execution_count": 4,
   "metadata": {},
   "outputs": [],
   "source": [
    "def load(files, sr=44100):\n",
    "    [raw, sr] = librosa.load(files[0], sr=sr)\n",
    "    for f in files[1:]:\n",
    "        [array, sr] = librosa.load(f, sr=sr)\n",
    "        raw = np.hstack((raw, array))\n",
    "    print(raw.shape)\n",
    "    return raw"
   ]
  },
  {
   "cell_type": "code",
   "execution_count": 5,
   "metadata": {},
   "outputs": [
    {
     "name": "stdout",
     "output_type": "stream",
     "text": [
      "(2983765,)\n",
      "(5437727,)\n"
     ]
    }
   ],
   "source": [
    "drone_raw = load(drone_files)\n",
    "background_raw = load(background_files)"
   ]
  },
  {
   "cell_type": "markdown",
   "metadata": {},
   "source": [
    "# Data preprocessing"
   ]
  },
  {
   "cell_type": "markdown",
   "metadata": {},
   "source": [
    "Chose `mfcc4` among functions below:\n",
    "- input size 16x16; `n_mfcc=16`, used first 16 data points from 16x17 mfcc of a chunk with size 8192\n",
    "- chunk siez 8192, overlapped half of it"
   ]
  },
  {
   "cell_type": "code",
   "execution_count": 6,
   "metadata": {},
   "outputs": [],
   "source": [
    "def mfcc4(raw, label, chunk_size=8192, window_size=4096, sr=22050, n_mfcc=16, n_frame=16):\n",
    "    mfcc = np.empty((0, n_mfcc, n_frame))\n",
    "    y = []\n",
    "    print(raw.shape)\n",
    "    for i in range(0, len(raw), chunk_size//2):\n",
    "        mfcc_slice = librosa.feature.mfcc(raw[i:i+chunk_size], sr=sr, n_mfcc=n_mfcc) #n_mfcc,17\n",
    "        if mfcc_slice.shape[1] < 17:\n",
    "            print(\"small end:\", mfcc_slice.shape)\n",
    "            continue\n",
    "        mfcc_slice = mfcc_slice[:,:-1]\n",
    "        mfcc_slice = mfcc_slice.reshape((1, mfcc_slice.shape[0], mfcc_slice.shape[1]))\n",
    "        mfcc = np.vstack((mfcc, mfcc_slice))\n",
    "        y.append(label)\n",
    "    y = np.array(y)\n",
    "    return mfcc, y"
   ]
  },
  {
   "cell_type": "code",
   "execution_count": 7,
   "metadata": {},
   "outputs": [
    {
     "name": "stdout",
     "output_type": "stream",
     "text": [
      "(2983765,)\n",
      "small end: (16, 12)\n",
      "small end: (16, 4)\n",
      "(5437727,)\n",
      "small end: (16, 13)\n",
      "small end: (16, 5)\n",
      "(727, 16, 16) (727,)\n",
      "(1326, 16, 16) (1326,)\n"
     ]
    }
   ],
   "source": [
    "mfcc_drone, y_drone = mfcc4(drone_raw, 1)\n",
    "mfcc_background, y_background = mfcc4(background_raw, 0)\n",
    "\n",
    "print(mfcc_drone.shape, y_drone.shape)\n",
    "print(mfcc_background.shape, y_background.shape)"
   ]
  },
  {
   "cell_type": "code",
   "execution_count": 8,
   "metadata": {},
   "outputs": [
    {
     "name": "stdout",
     "output_type": "stream",
     "text": [
      "(2053, 16, 16) (2053,)\n"
     ]
    }
   ],
   "source": [
    "X = np.concatenate((mfcc_drone, mfcc_background), axis=0)\n",
    "y = np.hstack((y_drone, y_background))\n",
    "print(X.shape, y.shape)"
   ]
  },
  {
   "cell_type": "code",
   "execution_count": 9,
   "metadata": {},
   "outputs": [],
   "source": [
    "X = np.reshape(X,(X.shape[0],-1))"
   ]
  },
  {
   "cell_type": "code",
   "execution_count": 10,
   "metadata": {},
   "outputs": [
    {
     "data": {
      "text/plain": [
       "(2053, 256)"
      ]
     },
     "execution_count": 10,
     "metadata": {},
     "output_type": "execute_result"
    }
   ],
   "source": [
    "X.shape"
   ]
  },
  {
   "cell_type": "code",
   "execution_count": 11,
   "metadata": {},
   "outputs": [
    {
     "name": "stdout",
     "output_type": "stream",
     "text": [
      "(2053, 2)\n"
     ]
    }
   ],
   "source": [
    "n_labels = y.shape[0]\n",
    "n_unique_labels = 2\n",
    "y_encoded = np.zeros((n_labels, n_unique_labels))\n",
    "y_encoded[np.arange(n_labels), y] = 1\n",
    "print(y_encoded.shape)"
   ]
  },
  {
   "cell_type": "code",
   "execution_count": 12,
   "metadata": {},
   "outputs": [],
   "source": [
    "# Split data\n",
    "from sklearn import model_selection\n",
    "X_train, X_test, y_train, y_test = model_selection.train_test_split(X, y_encoded, test_size=0.2, random_state=42)\n",
    "X_train, X_val, y_train, y_val = model_selection.train_test_split(X_train, y_train, test_size=0.2, random_state=42)"
   ]
  },
  {
   "cell_type": "code",
   "execution_count": 13,
   "metadata": {},
   "outputs": [
    {
     "name": "stdout",
     "output_type": "stream",
     "text": [
      "(1313, 256) (1313, 2)\n",
      "(329, 256) (329, 2)\n",
      "(411, 256) (411, 2)\n"
     ]
    }
   ],
   "source": [
    "print(X_train.shape,y_train.shape)\n",
    "print(X_val.shape, y_val.shape)\n",
    "print(X_test.shape, y_test.shape)"
   ]
  },
  {
   "cell_type": "code",
   "execution_count": 14,
   "metadata": {},
   "outputs": [],
   "source": [
    "# Save Data\n",
    "np.save('../../model/X_train', X_train)\n",
    "np.save('../../model/X_test', X_test)\n",
    "np.save('../../model/X_val', X_val)\n",
    "np.save('../../model/y_val', y_val)\n",
    "np.save('../../model/y_train', y_train)\n",
    "np.save('../../model/y_test', y_test)"
   ]
  },
  {
   "cell_type": "markdown",
   "metadata": {},
   "source": [
    "### Until this part"
   ]
  },
  {
   "cell_type": "code",
   "execution_count": 15,
   "metadata": {},
   "outputs": [],
   "source": [
    "# Load Data\n",
    "X_train = np.load('../../model/X_train.npy')\n",
    "X_test = np.load('../../model/X_test.npy')\n",
    "X_val = np.load('../../model/X_val.npy')\n",
    "y_val = np.load('../../model/y_val.npy')\n",
    "y_train = np.load('../../model/y_train.npy')\n",
    "y_test = np.load('../../model/y_test.npy')"
   ]
  },
  {
   "cell_type": "markdown",
   "metadata": {},
   "source": [
    "# Experiment 3 - One convolutional layer /w no dropout\n"
   ]
  },
  {
   "cell_type": "markdown",
   "metadata": {},
   "source": [
    "##Experiment 3-2\n",
    "- learning rate 0.005\n",
    "- pooling stride 1x1\n",
    "- #filter 1\n",
    "- best result among every other settings\n",
    "- cost kept fluctuated during training. (0.8 -> 1.3) -- why is that?"
   ]
  },
  {
   "cell_type": "code",
   "execution_count": 16,
   "metadata": {},
   "outputs": [],
   "source": [
    "tf.reset_default_graph()"
   ]
  },
  {
   "cell_type": "code",
   "execution_count": 17,
   "metadata": {},
   "outputs": [],
   "source": [
    "n_mfcc = 16\n",
    "n_frame = 16\n",
    "n_classes = 2\n",
    "n_channels = 1\n",
    "\n",
    "kernel_size = 3\n",
    "stride = 1\n",
    "pad = \"SAME\"\n",
    "\n",
    "learning_rate = 0.0002  # 0.005\n",
    "training_epochs = 500 # 수정해야해"
   ]
  },
  {
   "cell_type": "markdown",
   "metadata": {},
   "source": [
    "# Layer"
   ]
  },
  {
   "cell_type": "markdown",
   "metadata": {},
   "source": [
    "## Experiment\n",
    "- learning rate 0.0002\n",
    "- no cnn/ pooling \n",
    "- just dense with dropout "
   ]
  },
  {
   "cell_type": "code",
   "execution_count": 18,
   "metadata": {},
   "outputs": [],
   "source": [
    "X = tf.placeholder(tf.float32, shape=[None,n_mfcc*n_frame*n_channels])\n",
    "Y = tf.placeholder(tf.float32, shape=[None,n_classes])\n",
    "\n",
    "keep_prob = tf.placeholder(tf.float32)\n",
    "\n",
    "dense1 = tf.layers.dense(inputs=X, units=256, activation=tf.nn.relu)\n",
    "dropout1 = tf.nn.dropout(dense1, keep_prob=keep_prob)\n",
    "dense2 = tf.layers.dense(inputs=dropout1, units=256, activation=tf.nn.relu)\n",
    "dropout2 = tf.nn.dropout(dense2, keep_prob=keep_prob)\n",
    "dense3 = tf.layers.dense(inputs=dropout2, units=512, activation=tf.nn.relu)\n",
    "dropout3 = tf.nn.dropout(dense3, keep_prob=keep_prob)\n",
    "dense4 = tf.layers.dense(inputs=dropout3, units=512, activation=tf.nn.relu)\n",
    "dropout4 = tf.nn.dropout(dense4, keep_prob=keep_prob)\n",
    "dense5 = tf.layers.dense(inputs=dropout4, units=256, activation=tf.nn.relu)\n",
    "dropout5 = tf.nn.dropout(dense5, keep_prob=keep_prob)\n",
    "\n",
    "logits= tf.layers.dense(inputs=dropout5, units=2)"
   ]
  },
  {
   "cell_type": "code",
   "execution_count": 19,
   "metadata": {},
   "outputs": [],
   "source": [
    "cost = tf.reduce_mean(tf.nn.softmax_cross_entropy_with_logits_v2(logits=logits, labels=Y))\n",
    "optimizer = tf.train.AdamOptimizer(learning_rate=learning_rate).minimize(cost)"
   ]
  },
  {
   "cell_type": "code",
   "execution_count": 20,
   "metadata": {},
   "outputs": [],
   "source": [
    "sess = tf.Session()\n",
    "sess.run(tf.global_variables_initializer())"
   ]
  },
  {
   "cell_type": "code",
   "execution_count": 21,
   "metadata": {},
   "outputs": [],
   "source": [
    "# model save\n",
    "model_path = '../../model/Dense/dense_model'\n",
    "saver = tf.train.Saver()"
   ]
  },
  {
   "cell_type": "markdown",
   "metadata": {},
   "source": [
    "# Trainning"
   ]
  },
  {
   "cell_type": "code",
   "execution_count": 22,
   "metadata": {},
   "outputs": [],
   "source": [
    "import math"
   ]
  },
  {
   "cell_type": "code",
   "execution_count": 23,
   "metadata": {
    "scrolled": false
   },
   "outputs": [],
   "source": [
    "with tf.name_scope(\"eval\"):\n",
    "    correct = tf.nn.in_top_k(logits, y, 1)\n",
    "    accuracy = tf.reduce_mean(tf.cast(correct, tf.float32))\n",
    "#    accuracy_summary = tf.summary.scalar('accuracy', accuracy)"
   ]
  },
  {
   "cell_type": "code",
   "execution_count": 24,
   "metadata": {},
   "outputs": [],
   "source": [
    "from sklearn.metrics import accuracy_score"
   ]
  },
  {
   "cell_type": "code",
   "execution_count": 25,
   "metadata": {
    "scrolled": true
   },
   "outputs": [
    {
     "name": "stdout",
     "output_type": "stream",
     "text": [
      "Epoch: 0001 cost =  1.063838098 \t검증 세트 정확도: 69.301%\n",
      "Epoch: 0002 cost =  0.567076119 \t검증 세트 정확도: 62.006%\n",
      "Epoch: 0003 cost =  0.383590998 \t검증 세트 정확도: 70.213%\n",
      "Epoch: 0004 cost =  0.284246269 \t검증 세트 정확도: 70.213%\n",
      "Epoch: 0005 cost =  0.202628277 \t검증 세트 정확도: 70.213%\n",
      "Epoch: 0006 cost =  0.162068490 \t검증 세트 정확도: 69.909%\n",
      "Epoch: 0007 cost =  0.130244631 \t검증 세트 정확도: 78.723%\n",
      "Epoch: 0008 cost =  0.104755350 \t검증 세트 정확도: 70.213%\n",
      "Epoch: 0009 cost =  0.079891076 \t검증 세트 정확도: 72.948%\n",
      "Epoch: 0010 cost =  0.073044692 \t검증 세트 정확도: 78.419%\n",
      "Epoch: 0011 cost =  0.060774161 \t검증 세트 정확도: 76.900%\n",
      "Epoch: 0012 cost =  0.052158027 \t검증 세트 정확도: 79.635%\n",
      "Epoch: 0013 cost =  0.042880295 \t검증 세트 정확도: 82.979%\n",
      "Epoch: 0014 cost =  0.036182708 \t검증 세트 정확도: 91.793%\n",
      "Epoch: 0015 cost =  0.031994261 \t검증 세트 정확도: 92.097%\n",
      "Epoch: 0016 cost =  0.026039931 \t검증 세트 정확도: 93.009%\n",
      "Epoch: 0017 cost =  0.021011189 \t검증 세트 정확도: 94.833%\n",
      "Epoch: 0018 cost =  0.021652419 \t검증 세트 정확도: 95.137%\n",
      "Epoch: 0019 cost =  0.016450230 \t검증 세트 정확도: 95.137%\n",
      "Epoch: 0020 cost =  0.014879574 \t검증 세트 정확도: 95.441%\n",
      "Epoch: 0021 cost =  0.011219280 \t검증 세트 정확도: 96.049%\n",
      "Epoch: 0022 cost =  0.011873634 \t검증 세트 정확도: 95.745%\n",
      "Epoch: 0023 cost =  0.009912003 \t검증 세트 정확도: 96.657%\n",
      "Epoch: 0024 cost =  0.008633840 \t검증 세트 정확도: 97.264%\n",
      "Epoch: 0025 cost =  0.007771557 \t검증 세트 정확도: 99.088%\n",
      "Epoch: 0026 cost =  0.007848182 \t검증 세트 정확도: 97.568%\n",
      "Epoch: 0027 cost =  0.006869667 \t검증 세트 정확도: 98.480%\n",
      "Epoch: 0028 cost =  0.007065752 \t검증 세트 정확도: 99.088%\n",
      "Epoch: 0029 cost =  0.006410907 \t검증 세트 정확도: 98.784%\n",
      "Epoch: 0030 cost =  0.005732474 \t검증 세트 정확도: 98.784%\n",
      "Epoch: 0031 cost =  0.005329422 \t검증 세트 정확도: 99.392%\n",
      "Epoch: 0032 cost =  0.004979452 \t검증 세트 정확도: 99.392%\n",
      "Epoch: 0033 cost =  0.004419606 \t검증 세트 정확도: 99.392%\n",
      "Epoch: 0034 cost =  0.003601022 \t검증 세트 정확도: 99.392%\n",
      "Epoch: 0035 cost =  0.003925478 \t검증 세트 정확도: 99.392%\n",
      "Epoch: 0036 cost =  0.003404717 \t검증 세트 정확도: 99.392%\n",
      "Epoch: 0037 cost =  0.003605213 \t검증 세트 정확도: 99.696%\n",
      "Epoch: 0038 cost =  0.003794674 \t검증 세트 정확도: 99.696%\n",
      "Epoch: 0039 cost =  0.003391711 \t검증 세트 정확도: 99.392%\n",
      "Epoch: 0040 cost =  0.003376206 \t검증 세트 정확도: 100.000%\n",
      "Epoch: 0041 cost =  0.002926428 \t검증 세트 정확도: 100.000%\n",
      "Epoch: 0042 cost =  0.003105696 \t검증 세트 정확도: 99.392%\n",
      "Epoch: 0043 cost =  0.003051552 \t검증 세트 정확도: 100.000%\n",
      "Epoch: 0044 cost =  0.002658630 \t검증 세트 정확도: 99.696%\n",
      "Epoch: 0045 cost =  0.002455975 \t검증 세트 정확도: 99.696%\n",
      "Epoch: 0046 cost =  0.002880026 \t검증 세트 정확도: 99.696%\n",
      "Epoch: 0047 cost =  0.002442203 \t검증 세트 정확도: 99.696%\n",
      "Epoch: 0048 cost =  0.002416054 \t검증 세트 정확도: 100.000%\n",
      "Epoch: 0049 cost =  0.002352742 \t검증 세트 정확도: 100.000%\n",
      "Epoch: 0050 cost =  0.002377046 \t검증 세트 정확도: 100.000%\n",
      "Epoch: 0051 cost =  0.001852486 \t검증 세트 정확도: 100.000%\n",
      "Epoch: 0052 cost =  0.001866060 \t검증 세트 정확도: 100.000%\n",
      "Epoch: 0053 cost =  0.002467376 \t검증 세트 정확도: 100.000%\n",
      "Epoch: 0054 cost =  0.001931016 \t검증 세트 정확도: 100.000%\n",
      "Epoch: 0055 cost =  0.001841036 \t검증 세트 정확도: 100.000%\n",
      "Epoch: 0056 cost =  0.002450683 \t검증 세트 정확도: 100.000%\n",
      "Epoch: 0057 cost =  0.002343709 \t검증 세트 정확도: 100.000%\n",
      "Epoch: 0058 cost =  0.001663728 \t검증 세트 정확도: 100.000%\n",
      "Epoch: 0059 cost =  0.001919330 \t검증 세트 정확도: 99.696%\n",
      "Epoch: 0060 cost =  0.001674619 \t검증 세트 정확도: 100.000%\n",
      "Epoch: 0061 cost =  0.001785717 \t검증 세트 정확도: 100.000%\n",
      "Epoch: 0062 cost =  0.001851610 \t검증 세트 정확도: 100.000%\n",
      "Epoch: 0063 cost =  0.001366521 \t검증 세트 정확도: 99.696%\n",
      "Epoch: 0064 cost =  0.001309985 \t검증 세트 정확도: 99.696%\n",
      "Epoch: 0065 cost =  0.001452716 \t검증 세트 정확도: 100.000%\n",
      "Epoch: 0066 cost =  0.001683699 \t검증 세트 정확도: 100.000%\n",
      "Epoch: 0067 cost =  0.001378620 \t검증 세트 정확도: 100.000%\n",
      "Epoch: 0068 cost =  0.001537029 \t검증 세트 정확도: 100.000%\n",
      "Epoch: 0069 cost =  0.001376717 \t검증 세트 정확도: 99.696%\n",
      "Epoch: 0070 cost =  0.001642713 \t검증 세트 정확도: 100.000%\n",
      "Epoch: 0071 cost =  0.001760269 \t검증 세트 정확도: 100.000%\n",
      "Epoch: 0072 cost =  0.001234310 \t검증 세트 정확도: 100.000%\n",
      "Epoch: 0073 cost =  0.001346047 \t검증 세트 정확도: 100.000%\n",
      "Epoch: 0074 cost =  0.001135696 \t검증 세트 정확도: 100.000%\n",
      "Epoch: 0075 cost =  0.001501417 \t검증 세트 정확도: 100.000%\n",
      "Epoch: 0076 cost =  0.001334745 \t검증 세트 정확도: 100.000%\n",
      "Epoch: 0077 cost =  0.001191169 \t검증 세트 정확도: 100.000%\n",
      "Epoch: 0078 cost =  0.001121733 \t검증 세트 정확도: 100.000%\n",
      "Epoch: 0079 cost =  0.000946201 \t검증 세트 정확도: 100.000%\n",
      "Epoch: 0080 cost =  0.000755358 \t검증 세트 정확도: 100.000%\n",
      "Epoch: 0081 cost =  0.001359548 \t검증 세트 정확도: 99.696%\n",
      "Epoch: 0082 cost =  0.001355053 \t검증 세트 정확도: 100.000%\n",
      "Epoch: 0083 cost =  0.001137510 \t검증 세트 정확도: 100.000%\n",
      "Epoch: 0084 cost =  0.000969916 \t검증 세트 정확도: 100.000%\n",
      "Epoch: 0085 cost =  0.000790285 \t검증 세트 정확도: 100.000%\n",
      "Epoch: 0086 cost =  0.001020565 \t검증 세트 정확도: 100.000%\n",
      "Epoch: 0087 cost =  0.000734487 \t검증 세트 정확도: 100.000%\n",
      "Epoch: 0088 cost =  0.001055597 \t검증 세트 정확도: 100.000%\n",
      "Epoch: 0089 cost =  0.001304351 \t검증 세트 정확도: 100.000%\n",
      "Epoch: 0090 cost =  0.000863300 \t검증 세트 정확도: 100.000%\n",
      "Epoch: 0091 cost =  0.000693468 \t검증 세트 정확도: 100.000%\n",
      "Epoch: 0092 cost =  0.000643397 \t검증 세트 정확도: 100.000%\n",
      "Epoch: 0093 cost =  0.000689759 \t검증 세트 정확도: 99.696%\n",
      "Epoch: 0094 cost =  0.000832020 \t검증 세트 정확도: 100.000%\n",
      "Epoch: 0095 cost =  0.000944277 \t검증 세트 정확도: 100.000%\n",
      "Epoch: 0096 cost =  0.000508690 \t검증 세트 정확도: 100.000%\n",
      "Epoch: 0097 cost =  0.001125472 \t검증 세트 정확도: 100.000%\n",
      "Epoch: 0098 cost =  0.000569408 \t검증 세트 정확도: 100.000%\n",
      "Epoch: 0099 cost =  0.000318930 \t검증 세트 정확도: 100.000%\n",
      "Epoch: 0100 cost =  0.000590063 \t검증 세트 정확도: 100.000%\n",
      "Epoch: 0101 cost =  0.000770532 \t검증 세트 정확도: 100.000%\n",
      "Epoch: 0102 cost =  0.000577607 \t검증 세트 정확도: 100.000%\n",
      "Epoch: 0103 cost =  0.000865924 \t검증 세트 정확도: 100.000%\n",
      "Epoch: 0104 cost =  0.000647865 \t검증 세트 정확도: 99.696%\n",
      "Epoch: 0105 cost =  0.000389728 \t검증 세트 정확도: 99.696%\n",
      "Epoch: 0106 cost =  0.000670408 \t검증 세트 정확도: 100.000%\n",
      "Epoch: 0107 cost =  0.000575811 \t검증 세트 정확도: 100.000%\n",
      "Epoch: 0108 cost =  0.000759535 \t검증 세트 정확도: 100.000%\n",
      "Epoch: 0109 cost =  0.000696627 \t검증 세트 정확도: 99.696%\n",
      "Epoch: 0110 cost =  0.000806565 \t검증 세트 정확도: 99.696%\n",
      "Epoch: 0111 cost =  0.000578001 \t검증 세트 정확도: 98.784%\n",
      "Epoch: 0112 cost =  0.000942487 \t검증 세트 정확도: 100.000%\n",
      "Epoch: 0113 cost =  0.000603756 \t검증 세트 정확도: 100.000%\n",
      "Epoch: 0114 cost =  0.000356475 \t검증 세트 정확도: 100.000%\n",
      "Epoch: 0115 cost =  0.000563560 \t검증 세트 정확도: 100.000%\n",
      "Epoch: 0116 cost =  0.000416022 \t검증 세트 정확도: 100.000%\n",
      "Epoch: 0117 cost =  0.000661578 \t검증 세트 정확도: 99.696%\n",
      "Epoch: 0118 cost =  0.000351925 \t검증 세트 정확도: 100.000%\n",
      "Epoch: 0119 cost =  0.000385955 \t검증 세트 정확도: 99.696%\n",
      "Epoch: 0120 cost =  0.000791777 \t검증 세트 정확도: 100.000%\n",
      "Epoch: 0121 cost =  0.000531191 \t검증 세트 정확도: 100.000%\n",
      "Epoch: 0122 cost =  0.000427245 \t검증 세트 정확도: 100.000%\n",
      "Epoch: 0123 cost =  0.001379208 \t검증 세트 정확도: 99.696%\n",
      "Epoch: 0124 cost =  0.000936364 \t검증 세트 정확도: 100.000%\n",
      "Epoch: 0125 cost =  0.000924503 \t검증 세트 정확도: 99.392%\n",
      "Epoch: 0126 cost =  0.000679610 \t검증 세트 정확도: 99.696%\n",
      "Epoch: 0127 cost =  0.000410698 \t검증 세트 정확도: 99.696%\n",
      "Epoch: 0128 cost =  0.000669961 \t검증 세트 정확도: 100.000%\n",
      "Epoch: 0129 cost =  0.000360903 \t검증 세트 정확도: 100.000%\n",
      "Epoch: 0130 cost =  0.000266594 \t검증 세트 정확도: 100.000%\n",
      "Epoch: 0131 cost =  0.000216963 \t검증 세트 정확도: 99.696%\n",
      "Epoch: 0132 cost =  0.000140935 \t검증 세트 정확도: 99.696%\n",
      "Epoch: 0133 cost =  0.000194817 \t검증 세트 정확도: 100.000%\n",
      "Epoch: 0134 cost =  0.000416888 \t검증 세트 정확도: 100.000%\n",
      "Epoch: 0135 cost =  0.000473937 \t검증 세트 정확도: 100.000%\n",
      "Epoch: 0136 cost =  0.000327102 \t검증 세트 정확도: 100.000%\n",
      "Epoch: 0137 cost =  0.000580083 \t검증 세트 정확도: 99.696%\n",
      "Epoch: 0138 cost =  0.000672264 \t검증 세트 정확도: 99.696%\n",
      "Epoch: 0139 cost =  0.000268175 \t검증 세트 정확도: 100.000%\n",
      "Epoch: 0140 cost =  0.000295024 \t검증 세트 정확도: 100.000%\n",
      "Epoch: 0141 cost =  0.000496686 \t검증 세트 정확도: 100.000%\n",
      "Epoch: 0142 cost =  0.000454678 \t검증 세트 정확도: 100.000%\n",
      "Epoch: 0143 cost =  0.000439969 \t검증 세트 정확도: 100.000%\n",
      "Epoch: 0144 cost =  0.000420076 \t검증 세트 정확도: 100.000%\n",
      "Epoch: 0145 cost =  0.000347078 \t검증 세트 정확도: 100.000%\n",
      "Epoch: 0146 cost =  0.000352338 \t검증 세트 정확도: 100.000%\n",
      "Epoch: 0147 cost =  0.000325784 \t검증 세트 정확도: 100.000%\n",
      "Epoch: 0148 cost =  0.000266707 \t검증 세트 정확도: 100.000%\n",
      "Epoch: 0149 cost =  0.000872072 \t검증 세트 정확도: 100.000%\n",
      "Epoch: 0150 cost =  0.000586715 \t검증 세트 정확도: 100.000%\n",
      "Epoch: 0151 cost =  0.000635839 \t검증 세트 정확도: 100.000%\n",
      "Epoch: 0152 cost =  0.000570455 \t검증 세트 정확도: 100.000%\n",
      "Epoch: 0153 cost =  0.000504552 \t검증 세트 정확도: 99.696%\n",
      "Epoch: 0154 cost =  0.000501970 \t검증 세트 정확도: 100.000%\n",
      "Epoch: 0155 cost =  0.000341816 \t검증 세트 정확도: 100.000%\n",
      "Epoch: 0156 cost =  0.000293699 \t검증 세트 정확도: 100.000%\n"
     ]
    },
    {
     "name": "stdout",
     "output_type": "stream",
     "text": [
      "Epoch: 0157 cost =  0.000470794 \t검증 세트 정확도: 100.000%\n",
      "Epoch: 0158 cost =  0.000389641 \t검증 세트 정확도: 99.696%\n",
      "Epoch: 0159 cost =  0.000537848 \t검증 세트 정확도: 100.000%\n",
      "Epoch: 0160 cost =  0.000309387 \t검증 세트 정확도: 100.000%\n",
      "Epoch: 0161 cost =  0.000530682 \t검증 세트 정확도: 100.000%\n",
      "Epoch: 0162 cost =  0.000321480 \t검증 세트 정확도: 100.000%\n",
      "Epoch: 0163 cost =  0.000572801 \t검증 세트 정확도: 100.000%\n",
      "Epoch: 0164 cost =  0.000409312 \t검증 세트 정확도: 99.696%\n",
      "Epoch: 0165 cost =  0.000834778 \t검증 세트 정확도: 99.696%\n",
      "Epoch: 0166 cost =  0.000287177 \t검증 세트 정확도: 100.000%\n",
      "Epoch: 0167 cost =  0.000471358 \t검증 세트 정확도: 100.000%\n",
      "Epoch: 0168 cost =  0.000437727 \t검증 세트 정확도: 99.088%\n",
      "Epoch: 0169 cost =  0.000954511 \t검증 세트 정확도: 100.000%\n",
      "Epoch: 0170 cost =  0.000411771 \t검증 세트 정확도: 100.000%\n",
      "Epoch: 0171 cost =  0.000426448 \t검증 세트 정확도: 100.000%\n",
      "Epoch: 0172 cost =  0.000593675 \t검증 세트 정확도: 98.784%\n",
      "Epoch: 0173 cost =  0.000603134 \t검증 세트 정확도: 100.000%\n",
      "Epoch: 0174 cost =  0.000435048 \t검증 세트 정확도: 100.000%\n",
      "Epoch: 0175 cost =  0.000219459 \t검증 세트 정확도: 100.000%\n",
      "Epoch: 0176 cost =  0.000765501 \t검증 세트 정확도: 99.392%\n",
      "Epoch: 0177 cost =  0.000595713 \t검증 세트 정확도: 99.696%\n",
      "Epoch: 0178 cost =  0.000492165 \t검증 세트 정확도: 100.000%\n",
      "Epoch: 0179 cost =  0.000702946 \t검증 세트 정확도: 99.696%\n",
      "Epoch: 0180 cost =  0.000434027 \t검증 세트 정확도: 100.000%\n",
      "Epoch: 0181 cost =  0.000763738 \t검증 세트 정확도: 100.000%\n",
      "Epoch: 0182 cost =  0.000253495 \t검증 세트 정확도: 100.000%\n",
      "Epoch: 0183 cost =  0.000218166 \t검증 세트 정확도: 100.000%\n",
      "Epoch: 0184 cost =  0.000352052 \t검증 세트 정확도: 100.000%\n",
      "Epoch: 0185 cost =  0.000156677 \t검증 세트 정확도: 100.000%\n",
      "Epoch: 0186 cost =  0.000040170 \t검증 세트 정확도: 100.000%\n",
      "Epoch: 0187 cost =  0.000140131 \t검증 세트 정확도: 100.000%\n",
      "Epoch: 0188 cost =  0.000091873 \t검증 세트 정확도: 100.000%\n",
      "Epoch: 0189 cost =  0.000064897 \t검증 세트 정확도: 100.000%\n",
      "Epoch: 0190 cost =  0.000067723 \t검증 세트 정확도: 100.000%\n",
      "Epoch: 0191 cost =  0.000442381 \t검증 세트 정확도: 100.000%\n",
      "Epoch: 0192 cost =  0.000294943 \t검증 세트 정확도: 100.000%\n",
      "Epoch: 0193 cost =  0.000590073 \t검증 세트 정확도: 99.696%\n",
      "Epoch: 0194 cost =  0.000087328 \t검증 세트 정확도: 99.392%\n",
      "Epoch: 0195 cost =  0.000343153 \t검증 세트 정확도: 100.000%\n",
      "Epoch: 0196 cost =  0.000521527 \t검증 세트 정확도: 99.696%\n",
      "Epoch: 0197 cost =  0.000407642 \t검증 세트 정확도: 99.696%\n",
      "Epoch: 0198 cost =  0.000190577 \t검증 세트 정확도: 99.696%\n",
      "Epoch: 0199 cost =  0.000186432 \t검증 세트 정확도: 99.392%\n",
      "Epoch: 0200 cost =  0.000179532 \t검증 세트 정확도: 100.000%\n",
      "Epoch: 0201 cost =  0.000391782 \t검증 세트 정확도: 100.000%\n",
      "Epoch: 0202 cost =  0.000193838 \t검증 세트 정확도: 100.000%\n",
      "Epoch: 0203 cost =  0.000164466 \t검증 세트 정확도: 100.000%\n",
      "Epoch: 0204 cost =  0.000138163 \t검증 세트 정확도: 100.000%\n",
      "Epoch: 0205 cost =  0.000433319 \t검증 세트 정확도: 100.000%\n",
      "Epoch: 0206 cost =  0.000280227 \t검증 세트 정확도: 100.000%\n",
      "Epoch: 0207 cost =  0.000450899 \t검증 세트 정확도: 100.000%\n",
      "Epoch: 0208 cost =  0.000092089 \t검증 세트 정확도: 100.000%\n",
      "Epoch: 0209 cost =  0.000218245 \t검증 세트 정확도: 100.000%\n",
      "Epoch: 0210 cost =  0.000205318 \t검증 세트 정확도: 99.392%\n",
      "Epoch: 0211 cost =  0.000159335 \t검증 세트 정확도: 99.696%\n",
      "Epoch: 0212 cost =  0.000107596 \t검증 세트 정확도: 100.000%\n",
      "Epoch: 0213 cost =  0.000107990 \t검증 세트 정확도: 100.000%\n",
      "Epoch: 0214 cost =  0.000123311 \t검증 세트 정확도: 100.000%\n",
      "Epoch: 0215 cost =  0.000366345 \t검증 세트 정확도: 100.000%\n",
      "Epoch: 0216 cost =  0.000184798 \t검증 세트 정확도: 100.000%\n",
      "Epoch: 0217 cost =  0.000256158 \t검증 세트 정확도: 99.696%\n",
      "Epoch: 0218 cost =  0.000293221 \t검증 세트 정확도: 99.392%\n",
      "Epoch: 0219 cost =  0.001002653 \t검증 세트 정확도: 99.392%\n",
      "Epoch: 0220 cost =  0.000581941 \t검증 세트 정확도: 100.000%\n",
      "Epoch: 0221 cost =  0.000338161 \t검증 세트 정확도: 100.000%\n",
      "Epoch: 0222 cost =  0.000350735 \t검증 세트 정확도: 99.392%\n",
      "Epoch: 0223 cost =  0.000381785 \t검증 세트 정확도: 100.000%\n",
      "Epoch: 0224 cost =  0.000510243 \t검증 세트 정확도: 100.000%\n",
      "Epoch: 0225 cost =  0.000345360 \t검증 세트 정확도: 100.000%\n",
      "Epoch: 0226 cost =  0.000069023 \t검증 세트 정확도: 100.000%\n",
      "Epoch: 0227 cost =  0.000207520 \t검증 세트 정확도: 100.000%\n",
      "Epoch: 0228 cost =  0.000227136 \t검증 세트 정확도: 100.000%\n",
      "Epoch: 0229 cost =  0.000186443 \t검증 세트 정확도: 100.000%\n",
      "Epoch: 0230 cost =  0.000196806 \t검증 세트 정확도: 100.000%\n",
      "Epoch: 0231 cost =  0.000181006 \t검증 세트 정확도: 100.000%\n",
      "Epoch: 0232 cost =  0.000066826 \t검증 세트 정확도: 100.000%\n",
      "Epoch: 0233 cost =  0.000090137 \t검증 세트 정확도: 100.000%\n",
      "Epoch: 0234 cost =  0.000305685 \t검증 세트 정확도: 100.000%\n",
      "Epoch: 0235 cost =  0.000274975 \t검증 세트 정확도: 100.000%\n",
      "Epoch: 0236 cost =  0.000332967 \t검증 세트 정확도: 100.000%\n",
      "Epoch: 0237 cost =  0.000205546 \t검증 세트 정확도: 100.000%\n",
      "Epoch: 0238 cost =  0.000280490 \t검증 세트 정확도: 100.000%\n",
      "Epoch: 0239 cost =  0.000074476 \t검증 세트 정확도: 100.000%\n",
      "Epoch: 0240 cost =  0.000171734 \t검증 세트 정확도: 100.000%\n",
      "Epoch: 0241 cost =  0.000207692 \t검증 세트 정확도: 100.000%\n",
      "Epoch: 0242 cost =  0.000167821 \t검증 세트 정확도: 100.000%\n",
      "Epoch: 0243 cost =  0.000264030 \t검증 세트 정확도: 99.696%\n",
      "Epoch: 0244 cost =  0.000394748 \t검증 세트 정확도: 100.000%\n",
      "Epoch: 0245 cost =  0.000351160 \t검증 세트 정확도: 100.000%\n",
      "Epoch: 0246 cost =  0.000844907 \t검증 세트 정확도: 99.696%\n",
      "Epoch: 0247 cost =  0.000584491 \t검증 세트 정확도: 100.000%\n",
      "Epoch: 0248 cost =  0.000469401 \t검증 세트 정확도: 100.000%\n",
      "Epoch: 0249 cost =  0.000130619 \t검증 세트 정확도: 100.000%\n",
      "Epoch: 0250 cost =  0.000105244 \t검증 세트 정확도: 100.000%\n",
      "Epoch: 0251 cost =  0.000250838 \t검증 세트 정확도: 100.000%\n",
      "Epoch: 0252 cost =  0.000189105 \t검증 세트 정확도: 100.000%\n",
      "Epoch: 0253 cost =  0.000078228 \t검증 세트 정확도: 100.000%\n",
      "Epoch: 0254 cost =  0.000076385 \t검증 세트 정확도: 100.000%\n",
      "Epoch: 0255 cost =  0.000061239 \t검증 세트 정확도: 100.000%\n",
      "Epoch: 0256 cost =  0.000543734 \t검증 세트 정확도: 100.000%\n",
      "Epoch: 0257 cost =  0.000129848 \t검증 세트 정확도: 100.000%\n",
      "Epoch: 0258 cost =  0.000379423 \t검증 세트 정확도: 100.000%\n",
      "Epoch: 0259 cost =  0.000129771 \t검증 세트 정확도: 100.000%\n",
      "Epoch: 0260 cost =  0.000045685 \t검증 세트 정확도: 100.000%\n",
      "Epoch: 0261 cost =  0.000096664 \t검증 세트 정확도: 100.000%\n",
      "Epoch: 0262 cost =  0.000077288 \t검증 세트 정확도: 100.000%\n",
      "Epoch: 0263 cost =  0.000051776 \t검증 세트 정확도: 100.000%\n",
      "Epoch: 0264 cost =  0.000438813 \t검증 세트 정확도: 99.088%\n",
      "Epoch: 0265 cost =  0.001980579 \t검증 세트 정확도: 99.696%\n",
      "Epoch: 0266 cost =  0.000524825 \t검증 세트 정확도: 99.696%\n",
      "Epoch: 0267 cost =  0.000233452 \t검증 세트 정확도: 100.000%\n",
      "Epoch: 0268 cost =  0.000132261 \t검증 세트 정확도: 100.000%\n",
      "Epoch: 0269 cost =  0.000457245 \t검증 세트 정확도: 99.696%\n",
      "Epoch: 0270 cost =  0.000208112 \t검증 세트 정확도: 100.000%\n",
      "Epoch: 0271 cost =  0.000243615 \t검증 세트 정확도: 99.696%\n",
      "Epoch: 0272 cost =  0.000258154 \t검증 세트 정확도: 100.000%\n",
      "Epoch: 0273 cost =  0.000338358 \t검증 세트 정확도: 99.696%\n",
      "Epoch: 0274 cost =  0.000169449 \t검증 세트 정확도: 100.000%\n",
      "Epoch: 0275 cost =  0.000206466 \t검증 세트 정확도: 99.392%\n",
      "Epoch: 0276 cost =  0.000367259 \t검증 세트 정확도: 100.000%\n",
      "Epoch: 0277 cost =  0.000189518 \t검증 세트 정확도: 99.696%\n",
      "Epoch: 0278 cost =  0.000055898 \t검증 세트 정확도: 100.000%\n",
      "Epoch: 0279 cost =  0.000080330 \t검증 세트 정확도: 100.000%\n",
      "Epoch: 0280 cost =  0.000273341 \t검증 세트 정확도: 100.000%\n",
      "Epoch: 0281 cost =  0.000046674 \t검증 세트 정확도: 99.392%\n",
      "Epoch: 0282 cost =  0.000144385 \t검증 세트 정확도: 100.000%\n",
      "Epoch: 0283 cost =  0.000391038 \t검증 세트 정확도: 99.696%\n",
      "Epoch: 0284 cost =  0.000265091 \t검증 세트 정확도: 100.000%\n",
      "Epoch: 0285 cost =  0.000397886 \t검증 세트 정확도: 99.696%\n",
      "Epoch: 0286 cost =  0.000403305 \t검증 세트 정확도: 100.000%\n",
      "Epoch: 0287 cost =  0.000340787 \t검증 세트 정확도: 100.000%\n",
      "Epoch: 0288 cost =  0.000131667 \t검증 세트 정확도: 100.000%\n",
      "Epoch: 0289 cost =  0.000097191 \t검증 세트 정확도: 99.696%\n",
      "Epoch: 0290 cost =  0.000279579 \t검증 세트 정확도: 99.696%\n",
      "Epoch: 0291 cost =  0.000242984 \t검증 세트 정확도: 99.696%\n",
      "Epoch: 0292 cost =  0.000323056 \t검증 세트 정확도: 99.696%\n",
      "Epoch: 0293 cost =  0.000162660 \t검증 세트 정확도: 100.000%\n",
      "Epoch: 0294 cost =  0.000078921 \t검증 세트 정확도: 100.000%\n",
      "Epoch: 0295 cost =  0.000169469 \t검증 세트 정확도: 99.696%\n",
      "Epoch: 0296 cost =  0.000141595 \t검증 세트 정확도: 99.696%\n",
      "Epoch: 0297 cost =  0.000073439 \t검증 세트 정확도: 99.696%\n",
      "Epoch: 0298 cost =  0.000017413 \t검증 세트 정확도: 99.696%\n",
      "Epoch: 0299 cost =  0.000034922 \t검증 세트 정확도: 99.392%\n",
      "Epoch: 0300 cost =  0.000396420 \t검증 세트 정확도: 100.000%\n",
      "Epoch: 0301 cost =  0.000080237 \t검증 세트 정확도: 99.696%\n",
      "Epoch: 0302 cost =  0.000081322 \t검증 세트 정확도: 100.000%\n",
      "Epoch: 0303 cost =  0.000051578 \t검증 세트 정확도: 99.696%\n",
      "Epoch: 0304 cost =  0.000143677 \t검증 세트 정확도: 100.000%\n",
      "Epoch: 0305 cost =  0.000096666 \t검증 세트 정확도: 100.000%\n",
      "Epoch: 0306 cost =  0.000078497 \t검증 세트 정확도: 99.696%\n",
      "Epoch: 0307 cost =  0.001525932 \t검증 세트 정확도: 99.392%\n",
      "Epoch: 0308 cost =  0.000523158 \t검증 세트 정확도: 100.000%\n",
      "Epoch: 0309 cost =  0.000550504 \t검증 세트 정확도: 99.392%\n",
      "Epoch: 0310 cost =  0.000619030 \t검증 세트 정확도: 99.696%\n",
      "Epoch: 0311 cost =  0.000581697 \t검증 세트 정확도: 99.392%\n",
      "Epoch: 0312 cost =  0.000202558 \t검증 세트 정확도: 99.696%\n"
     ]
    },
    {
     "name": "stdout",
     "output_type": "stream",
     "text": [
      "Epoch: 0313 cost =  0.000083933 \t검증 세트 정확도: 99.696%\n",
      "Epoch: 0314 cost =  0.000106147 \t검증 세트 정확도: 100.000%\n",
      "Epoch: 0315 cost =  0.000242840 \t검증 세트 정확도: 100.000%\n",
      "Epoch: 0316 cost =  0.000360949 \t검증 세트 정확도: 100.000%\n",
      "Epoch: 0317 cost =  0.000409513 \t검증 세트 정확도: 100.000%\n",
      "Epoch: 0318 cost =  0.000262288 \t검증 세트 정확도: 100.000%\n",
      "Epoch: 0319 cost =  0.000214630 \t검증 세트 정확도: 100.000%\n",
      "Epoch: 0320 cost =  0.000119621 \t검증 세트 정확도: 100.000%\n",
      "Epoch: 0321 cost =  0.000271448 \t검증 세트 정확도: 100.000%\n",
      "Epoch: 0322 cost =  0.001731901 \t검증 세트 정확도: 99.088%\n",
      "Epoch: 0323 cost =  0.001117103 \t검증 세트 정확도: 100.000%\n",
      "Epoch: 0324 cost =  0.000707323 \t검증 세트 정확도: 100.000%\n",
      "Epoch: 0325 cost =  0.000426538 \t검증 세트 정확도: 99.696%\n",
      "Epoch: 0326 cost =  0.000096446 \t검증 세트 정확도: 100.000%\n",
      "Epoch: 0327 cost =  0.000115243 \t검증 세트 정확도: 100.000%\n",
      "Epoch: 0328 cost =  0.000086520 \t검증 세트 정확도: 100.000%\n",
      "Epoch: 0329 cost =  0.000087985 \t검증 세트 정확도: 100.000%\n",
      "Epoch: 0330 cost =  0.000158473 \t검증 세트 정확도: 100.000%\n",
      "Epoch: 0331 cost =  0.000033245 \t검증 세트 정확도: 100.000%\n",
      "Epoch: 0332 cost =  0.000087467 \t검증 세트 정확도: 100.000%\n",
      "Epoch: 0333 cost =  0.000208906 \t검증 세트 정확도: 100.000%\n",
      "Epoch: 0334 cost =  0.000056849 \t검증 세트 정확도: 100.000%\n",
      "Epoch: 0335 cost =  0.000098633 \t검증 세트 정확도: 100.000%\n",
      "Epoch: 0336 cost =  0.000562313 \t검증 세트 정확도: 100.000%\n",
      "Epoch: 0337 cost =  0.000388013 \t검증 세트 정확도: 100.000%\n",
      "Epoch: 0338 cost =  0.000150084 \t검증 세트 정확도: 100.000%\n",
      "Epoch: 0339 cost =  0.000209526 \t검증 세트 정확도: 99.696%\n",
      "Epoch: 0340 cost =  0.000122261 \t검증 세트 정확도: 99.696%\n",
      "Epoch: 0341 cost =  0.000178224 \t검증 세트 정확도: 100.000%\n",
      "Epoch: 0342 cost =  0.000228338 \t검증 세트 정확도: 99.696%\n",
      "Epoch: 0343 cost =  0.000355141 \t검증 세트 정확도: 99.392%\n",
      "Epoch: 0344 cost =  0.000300823 \t검증 세트 정확도: 99.696%\n",
      "Epoch: 0345 cost =  0.001140963 \t검증 세트 정확도: 99.696%\n",
      "Epoch: 0346 cost =  0.000774511 \t검증 세트 정확도: 99.392%\n",
      "Epoch: 0347 cost =  0.000428358 \t검증 세트 정확도: 100.000%\n",
      "Epoch: 0348 cost =  0.000335793 \t검증 세트 정확도: 99.696%\n",
      "Epoch: 0349 cost =  0.000401067 \t검증 세트 정확도: 99.696%\n",
      "Epoch: 0350 cost =  0.000280700 \t검증 세트 정확도: 99.392%\n",
      "Epoch: 0351 cost =  0.000192595 \t검증 세트 정확도: 100.000%\n",
      "Epoch: 0352 cost =  0.000406820 \t검증 세트 정확도: 100.000%\n",
      "Epoch: 0353 cost =  0.000852389 \t검증 세트 정확도: 99.392%\n",
      "Epoch: 0354 cost =  0.000559716 \t검증 세트 정확도: 100.000%\n",
      "Epoch: 0355 cost =  0.000108384 \t검증 세트 정확도: 99.696%\n",
      "Epoch: 0356 cost =  0.000123505 \t검증 세트 정확도: 99.392%\n",
      "Epoch: 0357 cost =  0.000072699 \t검증 세트 정확도: 99.392%\n",
      "Epoch: 0358 cost =  0.000164960 \t검증 세트 정확도: 99.392%\n",
      "Epoch: 0359 cost =  0.000070049 \t검증 세트 정확도: 99.392%\n",
      "Epoch: 0360 cost =  0.000069331 \t검증 세트 정확도: 100.000%\n",
      "Epoch: 0361 cost =  0.000028013 \t검증 세트 정확도: 100.000%\n",
      "Epoch: 0362 cost =  0.000070042 \t검증 세트 정확도: 100.000%\n",
      "Epoch: 0363 cost =  0.000081559 \t검증 세트 정확도: 100.000%\n",
      "Epoch: 0364 cost =  0.000090232 \t검증 세트 정확도: 99.392%\n",
      "Epoch: 0365 cost =  0.000012639 \t검증 세트 정확도: 99.392%\n",
      "Epoch: 0366 cost =  0.000279289 \t검증 세트 정확도: 100.000%\n",
      "Epoch: 0367 cost =  0.000669197 \t검증 세트 정확도: 100.000%\n",
      "Epoch: 0368 cost =  0.000400986 \t검증 세트 정확도: 100.000%\n",
      "Epoch: 0369 cost =  0.000244140 \t검증 세트 정확도: 100.000%\n",
      "Epoch: 0370 cost =  0.000269580 \t검증 세트 정확도: 100.000%\n",
      "Epoch: 0371 cost =  0.000181335 \t검증 세트 정확도: 100.000%\n",
      "Epoch: 0372 cost =  0.000638794 \t검증 세트 정확도: 100.000%\n",
      "Epoch: 0373 cost =  0.000202546 \t검증 세트 정확도: 100.000%\n",
      "Epoch: 0374 cost =  0.000130438 \t검증 세트 정확도: 100.000%\n",
      "Epoch: 0375 cost =  0.000331369 \t검증 세트 정확도: 100.000%\n",
      "Epoch: 0376 cost =  0.000302857 \t검증 세트 정확도: 100.000%\n",
      "Epoch: 0377 cost =  0.000271043 \t검증 세트 정확도: 99.696%\n",
      "Epoch: 0378 cost =  0.000124656 \t검증 세트 정확도: 99.696%\n",
      "Epoch: 0379 cost =  0.000727553 \t검증 세트 정확도: 100.000%\n",
      "Epoch: 0380 cost =  0.000257149 \t검증 세트 정확도: 100.000%\n",
      "Epoch: 0381 cost =  0.000135179 \t검증 세트 정확도: 100.000%\n",
      "Epoch: 0382 cost =  0.000324090 \t검증 세트 정확도: 100.000%\n",
      "Epoch: 0383 cost =  0.000164653 \t검증 세트 정확도: 100.000%\n",
      "Epoch: 0384 cost =  0.000282717 \t검증 세트 정확도: 100.000%\n",
      "Epoch: 0385 cost =  0.000276434 \t검증 세트 정확도: 100.000%\n",
      "Epoch: 0386 cost =  0.000120336 \t검증 세트 정확도: 100.000%\n",
      "Epoch: 0387 cost =  0.000131491 \t검증 세트 정확도: 100.000%\n",
      "Epoch: 0388 cost =  0.000044224 \t검증 세트 정확도: 100.000%\n",
      "Epoch: 0389 cost =  0.000334943 \t검증 세트 정확도: 100.000%\n",
      "Epoch: 0390 cost =  0.000106303 \t검증 세트 정확도: 100.000%\n",
      "Epoch: 0391 cost =  0.000082950 \t검증 세트 정확도: 100.000%\n",
      "Epoch: 0392 cost =  0.000107592 \t검증 세트 정확도: 100.000%\n",
      "Epoch: 0393 cost =  0.000042107 \t검증 세트 정확도: 100.000%\n",
      "Epoch: 0394 cost =  0.000014121 \t검증 세트 정확도: 100.000%\n",
      "Epoch: 0395 cost =  0.000142742 \t검증 세트 정확도: 100.000%\n",
      "Epoch: 0396 cost =  0.001101614 \t검증 세트 정확도: 100.000%\n",
      "Epoch: 0397 cost =  0.000143420 \t검증 세트 정확도: 99.696%\n",
      "Epoch: 0398 cost =  0.000100668 \t검증 세트 정확도: 100.000%\n",
      "Epoch: 0399 cost =  0.000037998 \t검증 세트 정확도: 100.000%\n"
     ]
    },
    {
     "data": {
      "text/plain": [
       "'../../model/Dense/dense_model'"
      ]
     },
     "execution_count": 25,
     "metadata": {},
     "output_type": "execute_result"
    }
   ],
   "source": [
    "#original \n",
    "batch_size = 32\n",
    "cost_history = np.empty(shape=[1], dtype=float)\n",
    "\n",
    "for epoch in range(1,400):\n",
    "    avg_cost = 0    \n",
    "#    total_batch = int(X_train.shape[0] / batch_size)\n",
    "    for i in range( int(math.ceil(len(X_train)/batch_size)) ): # 배치 사이즈로 나눈 나머지 다 돌 수 있게 \n",
    "        x_ = X_train[batch_size * i: batch_size * (i + 1)]\n",
    "        y_ = y_train[batch_size * i: batch_size * (i + 1)]\n",
    "        feed_dict={X:x_, Y:y_, keep_prob:0.6}    \n",
    "        c, _ = sess.run([cost, optimizer], feed_dict=feed_dict)\n",
    "        cost_history = np.append(cost_history,cost)\n",
    "        avg_cost += c\n",
    "    #accuracy_val = sess.run([accuracy], feed_dict={X:X_val, Y:y_val\n",
    "    val_pred = sess.run(tf.argmax(logits,1),feed_dict={X: X_val , keep_prob:1})  \n",
    "    val_true = sess.run(tf.argmax(y_val,1))\n",
    "    accuracy_val = accuracy_score(val_pred, val_true)\n",
    "    print('Epoch:', '%04d' % (epoch), 'cost = ', '{:.9f}'.format(avg_cost / len(X_train)), \"\\t검증 세트 정확도: {:.3f}%\".format(accuracy_val * 100),)\n",
    "saver.save(sess, model_path)\n",
    "\n",
    "#if epoch% 20 == 0:\n",
    "#   save"
   ]
  },
  {
   "cell_type": "markdown",
   "metadata": {},
   "source": [
    "## Prediction"
   ]
  },
  {
   "cell_type": "code",
   "execution_count": 26,
   "metadata": {},
   "outputs": [],
   "source": [
    "y_pred = sess.run(tf.argmax(logits,1),feed_dict={X: X_test , keep_prob:1}) \n",
    "y_true = sess.run(tf.argmax(y_test,1))"
   ]
  },
  {
   "cell_type": "code",
   "execution_count": 27,
   "metadata": {},
   "outputs": [
    {
     "name": "stdout",
     "output_type": "stream",
     "text": [
      "F-Score: 0.995\n",
      "Accuracy:  0.9951338199513382\n",
      "              precision    recall  f1-score   support\n",
      "\n",
      "           0       1.00      0.99      1.00       262\n",
      "           1       0.99      1.00      0.99       149\n",
      "\n",
      "   micro avg       1.00      1.00      1.00       411\n",
      "   macro avg       0.99      1.00      0.99       411\n",
      "weighted avg       1.00      1.00      1.00       411\n",
      "\n",
      "[[260   2]\n",
      " [  0 149]]\n"
     ]
    }
   ],
   "source": [
    "# Ptint Result\n",
    "\n",
    "from sklearn.metrics import precision_recall_fscore_support\n",
    "p,r,f,s = precision_recall_fscore_support(y_true, y_pred, average='micro')\n",
    "print(\"F-Score:\", round(f,3))\n",
    "from sklearn.metrics import accuracy_score\n",
    "print(\"Accuracy: \", accuracy_score(y_true, y_pred))\n",
    "\n",
    "from sklearn.metrics import classification_report\n",
    "print(classification_report(y_true, y_pred))\n",
    "from sklearn.metrics import confusion_matrix\n",
    "print(confusion_matrix(y_true, y_pred))"
   ]
  }
 ],
 "metadata": {
  "kernelspec": {
   "display_name": "Python 3",
   "language": "python",
   "name": "python3"
  },
  "language_info": {
   "codemirror_mode": {
    "name": "ipython",
    "version": 3
   },
   "file_extension": ".py",
   "mimetype": "text/x-python",
   "name": "python",
   "nbconvert_exporter": "python",
   "pygments_lexer": "ipython3",
   "version": "3.6.7"
  }
 },
 "nbformat": 4,
 "nbformat_minor": 2
}
