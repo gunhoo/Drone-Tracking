{
 "cells": [
  {
   "cell_type": "code",
   "execution_count": 1,
   "metadata": {},
   "outputs": [],
   "source": [
    "import matplotlib.pyplot as plt\n",
    "%matplotlib inline\n",
    "import IPython.display\n",
    "import librosa.display\n",
    "import numpy as np\n",
    "import librosa\n",
    "import tensorflow as tf\n",
    "import glob"
   ]
  },
  {
   "cell_type": "markdown",
   "metadata": {},
   "source": [
    "### If you have been save the data, you don't have to preprocessing and save the data"
   ]
  },
  {
   "cell_type": "code",
   "execution_count": 2,
   "metadata": {},
   "outputs": [],
   "source": [
    "drone_path_1 = '../../data/1m/*.wav'\n",
    "drone_path_10 = '../../data/10m/*.wav'\n",
    "drone_path_20 = '../../data/20m/*.wav'\n",
    "drone_path_30 = '../../data/30m/*.wav'\n",
    "drone_path_40 = '../../data/40m/*.wav'\n",
    "drone_path_50 = '../../data/50m/*.wav'\n",
    "background_path = '../../data/background/*.wav'\n",
    "\n",
    "drone_files_1 = glob.glob(drone_path_1)\n",
    "drone_files_10 = glob.glob(drone_path_10)\n",
    "drone_files_20 = glob.glob(drone_path_20)\n",
    "drone_files_30 = glob.glob(drone_path_30)\n",
    "drone_files_40 = glob.glob(drone_path_40)\n",
    "drone_files_50 = glob.glob(drone_path_50)\n",
    "background_files = glob.glob(background_path)"
   ]
  },
  {
   "cell_type": "code",
   "execution_count": 3,
   "metadata": {},
   "outputs": [],
   "source": [
    "CHUNK_SIZE = 8192\n",
    "SR = 22050\n",
    "N_MFCC = 16"
   ]
  },
  {
   "cell_type": "code",
   "execution_count": 4,
   "metadata": {},
   "outputs": [],
   "source": [
    "def load(files, sr=22050):\n",
    "    [raw, sr] = librosa.load(files[0], sr=sr)\n",
    "    for f in files[1:]:\n",
    "        [array, sr] = librosa.load(f, sr=sr)\n",
    "        raw = np.hstack((raw, array))\n",
    "    print(raw.shape)\n",
    "    return raw"
   ]
  },
  {
   "cell_type": "code",
   "execution_count": 5,
   "metadata": {},
   "outputs": [
    {
     "name": "stdout",
     "output_type": "stream",
     "text": [
      "(2088960,)\n",
      "(2088960,)\n",
      "(2088960,)\n",
      "(2072565,)\n",
      "(2085722,)\n",
      "(2088960,)\n",
      "(6032517,)\n"
     ]
    }
   ],
   "source": [
    "drone_raw_1 = load(drone_files_1)\n",
    "drone_raw_10 = load(drone_files_10)\n",
    "drone_raw_20 = load(drone_files_20)\n",
    "drone_raw_30 = load(drone_files_30)\n",
    "drone_raw_40 = load(drone_files_40)\n",
    "drone_raw_50 = load(drone_files_50)\n",
    "\n",
    "background_raw = load(background_files)"
   ]
  },
  {
   "cell_type": "markdown",
   "metadata": {},
   "source": [
    "# Data preprocessing"
   ]
  },
  {
   "cell_type": "markdown",
   "metadata": {},
   "source": [
    "Chose `mfcc4` among functions below:\n",
    "- input size 16x16; `n_mfcc=16`, used first 16 data points from 16x17 mfcc of a chunk with size 8192\n",
    "- chunk siez 8192, overlapped half of it"
   ]
  },
  {
   "cell_type": "code",
   "execution_count": 6,
   "metadata": {},
   "outputs": [],
   "source": [
    "def mfcc4(raw, label, chunk_size=8192, window_size=4096, sr=22050, n_mfcc=16, n_frame=16):\n",
    "    mfcc = np.empty((0, n_mfcc, n_frame))\n",
    "    y = []\n",
    "    print(raw.shape)\n",
    "    for i in range(0, len(raw), chunk_size//2):\n",
    "        mfcc_slice = librosa.feature.mfcc(raw[i:i+chunk_size], sr=sr, n_mfcc=n_mfcc) #n_mfcc,17\n",
    "        if mfcc_slice.shape[1] < 17:\n",
    "            print(\"small end:\", mfcc_slice.shape)\n",
    "            continue\n",
    "        mfcc_slice = mfcc_slice[:,:-1]\n",
    "        mfcc_slice = mfcc_slice.reshape((1, mfcc_slice.shape[0], mfcc_slice.shape[1]))\n",
    "        mfcc = np.vstack((mfcc, mfcc_slice))\n",
    "        y.append(label)\n",
    "    y = np.array(y)\n",
    "    return mfcc, y"
   ]
  },
  {
   "cell_type": "code",
   "execution_count": 7,
   "metadata": {},
   "outputs": [
    {
     "name": "stdout",
     "output_type": "stream",
     "text": [
      "(2088960,)\n",
      "small end: (16, 9)\n",
      "(2088960,)\n",
      "small end: (16, 9)\n",
      "(2088960,)\n",
      "small end: (16, 9)\n",
      "(2072565,)\n",
      "small end: (16, 16)\n",
      "small end: (16, 8)\n",
      "(2085722,)\n",
      "small end: (16, 10)\n",
      "small end: (16, 2)\n",
      "(2088960,)\n",
      "small end: (16, 9)\n",
      "(6032517,)\n",
      "small end: (16, 15)\n",
      "small end: (16, 7)\n"
     ]
    }
   ],
   "source": [
    "mfcc_drone_1, y_drone_1 = mfcc4(drone_raw_1, 0)\n",
    "mfcc_drone_10, y_drone_10 = mfcc4(drone_raw_10, 1)\n",
    "mfcc_drone_20, y_drone_20 = mfcc4(drone_raw_20, 2)\n",
    "mfcc_drone_30, y_drone_30 = mfcc4(drone_raw_30, 3)\n",
    "mfcc_drone_40, y_drone_40 = mfcc4(drone_raw_40, 4)\n",
    "mfcc_drone_50, y_drone_50 = mfcc4(drone_raw_50, 5)\n",
    "\n",
    "mfcc_background, y_background = mfcc4(background_raw, 6)"
   ]
  },
  {
   "cell_type": "code",
   "execution_count": 8,
   "metadata": {},
   "outputs": [
    {
     "name": "stdout",
     "output_type": "stream",
     "text": [
      "(509, 16, 16) (509,)\n",
      "(509, 16, 16) (509,)\n",
      "(509, 16, 16) (509,)\n",
      "(504, 16, 16) (504,)\n",
      "(508, 16, 16) (508,)\n",
      "(509, 16, 16) (509,)\n",
      "(1471, 16, 16) (1471,)\n"
     ]
    }
   ],
   "source": [
    "print(mfcc_drone_1.shape, y_drone_1.shape)\n",
    "print(mfcc_drone_10.shape, y_drone_10.shape)\n",
    "print(mfcc_drone_20.shape, y_drone_20.shape)\n",
    "print(mfcc_drone_30.shape, y_drone_30.shape)\n",
    "print(mfcc_drone_40.shape, y_drone_40.shape)\n",
    "print(mfcc_drone_50.shape, y_drone_50.shape)\n",
    "print(mfcc_background.shape, y_background.shape)"
   ]
  },
  {
   "cell_type": "code",
   "execution_count": 9,
   "metadata": {},
   "outputs": [
    {
     "name": "stdout",
     "output_type": "stream",
     "text": [
      "(4519, 16, 16) (4519,)\n"
     ]
    }
   ],
   "source": [
    "X = np.concatenate((mfcc_drone_1,mfcc_drone_10,mfcc_drone_20,mfcc_drone_30,mfcc_drone_40,mfcc_drone_50, mfcc_background), axis=0)\n",
    "y = np.hstack((y_drone_1, y_drone_10, y_drone_20, y_drone_30, y_drone_40, y_drone_50, y_background))\n",
    "print(X.shape, y.shape)"
   ]
  },
  {
   "cell_type": "code",
   "execution_count": 10,
   "metadata": {},
   "outputs": [],
   "source": [
    "X = np.reshape(X,(X.shape[0],-1))"
   ]
  },
  {
   "cell_type": "code",
   "execution_count": 11,
   "metadata": {},
   "outputs": [
    {
     "data": {
      "text/plain": [
       "(4519, 256)"
      ]
     },
     "execution_count": 11,
     "metadata": {},
     "output_type": "execute_result"
    }
   ],
   "source": [
    "X.shape"
   ]
  },
  {
   "cell_type": "code",
   "execution_count": 12,
   "metadata": {},
   "outputs": [
    {
     "name": "stdout",
     "output_type": "stream",
     "text": [
      "(4519, 7)\n"
     ]
    }
   ],
   "source": [
    "n_labels = y.shape[0]\n",
    "n_unique_labels = 7\n",
    "y_encoded = np.zeros((n_labels, n_unique_labels))\n",
    "y_encoded[np.arange(n_labels), y] = 1\n",
    "print(y_encoded.shape)"
   ]
  },
  {
   "cell_type": "code",
   "execution_count": 13,
   "metadata": {},
   "outputs": [],
   "source": [
    "# Split data\n",
    "from sklearn import model_selection\n",
    "X_train, X_test, y_train, y_test = model_selection.train_test_split(X, y_encoded, test_size=0.2, random_state=42)\n",
    "X_train, X_val, y_train, y_val = model_selection.train_test_split(X_train, y_train, test_size=0.2, random_state=42)"
   ]
  },
  {
   "cell_type": "code",
   "execution_count": 14,
   "metadata": {},
   "outputs": [
    {
     "name": "stdout",
     "output_type": "stream",
     "text": [
      "(2892, 256) (2892, 7)\n",
      "(723, 256) (723, 7)\n",
      "(904, 256) (904, 7)\n"
     ]
    }
   ],
   "source": [
    "print(X_train.shape,y_train.shape)\n",
    "print(X_val.shape, y_val.shape)\n",
    "print(X_test.shape, y_test.shape)"
   ]
  },
  {
   "cell_type": "code",
   "execution_count": 15,
   "metadata": {},
   "outputs": [],
   "source": [
    "# Save Data\n",
    "np.save('../../model/X_train', X_train)\n",
    "np.save('../../model/X_test', X_test)\n",
    "np.save('../../model/X_val', X_val)\n",
    "np.save('../../model/y_val', y_val)\n",
    "np.save('../../model/y_train', y_train)\n",
    "np.save('../../model/y_test', y_test)"
   ]
  },
  {
   "cell_type": "markdown",
   "metadata": {},
   "source": [
    "### Until this part"
   ]
  },
  {
   "cell_type": "code",
   "execution_count": 16,
   "metadata": {},
   "outputs": [],
   "source": [
    "# Load Data\n",
    "X_train = np.load('../../model/X_train.npy')\n",
    "X_test = np.load('../../model/X_test.npy')\n",
    "X_val = np.load('../../model/X_val.npy')\n",
    "y_val = np.load('../../model/y_val.npy')\n",
    "y_train = np.load('../../model/y_train.npy')\n",
    "y_test = np.load('../../model/y_test.npy')"
   ]
  },
  {
   "cell_type": "markdown",
   "metadata": {},
   "source": [
    "# Experiment 3 - One convolutional layer /w no dropout\n"
   ]
  },
  {
   "cell_type": "markdown",
   "metadata": {},
   "source": [
    "##Experiment 3-2\n",
    "- learning rate 0.005\n",
    "- pooling stride 1x1\n",
    "- #filter 1\n",
    "- best result among every other settings\n",
    "- cost kept fluctuated during training. (0.8 -> 1.3) -- why is that?"
   ]
  },
  {
   "cell_type": "code",
   "execution_count": 17,
   "metadata": {},
   "outputs": [],
   "source": [
    "tf.reset_default_graph()"
   ]
  },
  {
   "cell_type": "code",
   "execution_count": 18,
   "metadata": {},
   "outputs": [],
   "source": [
    "n_mfcc = 16\n",
    "n_frame = 16\n",
    "n_classes = 7\n",
    "n_channels = 1\n",
    "\n",
    "kernel_size = 3\n",
    "stride = 1\n",
    "pad = \"SAME\"\n",
    "\n",
    "learning_rate = 0.0002  # 0.005\n",
    "training_epochs = 500 # 수정해야해"
   ]
  },
  {
   "cell_type": "markdown",
   "metadata": {},
   "source": [
    "# Layer"
   ]
  },
  {
   "cell_type": "markdown",
   "metadata": {},
   "source": [
    "## Experiment\n",
    "- learning rate 0.0002\n",
    "- no cnn/ pooling \n",
    "- just dense with dropout "
   ]
  },
  {
   "cell_type": "code",
   "execution_count": 19,
   "metadata": {},
   "outputs": [],
   "source": [
    "X = tf.placeholder(tf.float32, shape=[None,n_mfcc*n_frame*n_channels])\n",
    "Y = tf.placeholder(tf.float32, shape=[None,n_classes])\n",
    "\n",
    "keep_prob = tf.placeholder(tf.float32)\n",
    "\n",
    "dense1 = tf.layers.dense(inputs=X, units=256, activation=tf.nn.relu)\n",
    "dropout1 = tf.nn.dropout(dense1, keep_prob=keep_prob)\n",
    "dense2 = tf.layers.dense(inputs=dropout1, units=256, activation=tf.nn.relu)\n",
    "dropout2 = tf.nn.dropout(dense2, keep_prob=keep_prob)\n",
    "dense3 = tf.layers.dense(inputs=dropout2, units=512, activation=tf.nn.relu)\n",
    "dropout3 = tf.nn.dropout(dense3, keep_prob=keep_prob)\n",
    "dense4 = tf.layers.dense(inputs=dropout3, units=512, activation=tf.nn.relu)\n",
    "dropout4 = tf.nn.dropout(dense4, keep_prob=keep_prob)\n",
    "dense5 = tf.layers.dense(inputs=dropout4, units=256, activation=tf.nn.relu)\n",
    "dropout5 = tf.nn.dropout(dense5, keep_prob=keep_prob)\n",
    "\n",
    "logits= tf.layers.dense(inputs=dropout5, units=7)"
   ]
  },
  {
   "cell_type": "code",
   "execution_count": 20,
   "metadata": {},
   "outputs": [],
   "source": [
    "cost = tf.reduce_mean(tf.nn.softmax_cross_entropy_with_logits_v2(logits=logits, labels=Y))\n",
    "optimizer = tf.train.AdamOptimizer(learning_rate=learning_rate).minimize(cost)"
   ]
  },
  {
   "cell_type": "code",
   "execution_count": 37,
   "metadata": {},
   "outputs": [],
   "source": [
    "#sess = tf.Session()\n",
    "#\n",
    "config = tf.ConfigProto(allow_soft_placement = True)\n",
    "sess = tf.Session(config = config)\n",
    "sess.run(tf.global_variables_initializer())"
   ]
  },
  {
   "cell_type": "code",
   "execution_count": 38,
   "metadata": {},
   "outputs": [],
   "source": [
    "# model save\n",
    "model_path = '../../model/DNN/7_dense_model'\n",
    "saver = tf.train.Saver()"
   ]
  },
  {
   "cell_type": "markdown",
   "metadata": {},
   "source": [
    "# Trainning"
   ]
  },
  {
   "cell_type": "code",
   "execution_count": 39,
   "metadata": {},
   "outputs": [],
   "source": [
    "import math"
   ]
  },
  {
   "cell_type": "code",
   "execution_count": 40,
   "metadata": {
    "scrolled": false
   },
   "outputs": [],
   "source": [
    "with tf.name_scope(\"eval\"):\n",
    "    correct = tf.nn.in_top_k(logits, y, 1)\n",
    "    accuracy = tf.reduce_mean(tf.cast(correct, tf.float32))\n",
    "#    accuracy_summary = tf.summary.scalar('accuracy', accuracy)"
   ]
  },
  {
   "cell_type": "code",
   "execution_count": 41,
   "metadata": {},
   "outputs": [],
   "source": [
    "from sklearn.metrics import accuracy_score"
   ]
  },
  {
   "cell_type": "code",
   "execution_count": 42,
   "metadata": {
    "scrolled": false
   },
   "outputs": [
    {
     "name": "stdout",
     "output_type": "stream",
     "text": [
      "Epoch: 0001 cost =  1.260486548 \t검증 세트 정확도: 30.290%\n",
      "Epoch: 0002 cost =  0.356774255 \t검증 세트 정확도: 28.077%\n",
      "Epoch: 0003 cost =  0.169232626 \t검증 세트 정확도: 38.036%\n",
      "Epoch: 0004 cost =  0.102083877 \t검증 세트 정확도: 43.845%\n",
      "Epoch: 0005 cost =  0.074644716 \t검증 세트 정확도: 44.952%\n",
      "Epoch: 0006 cost =  0.061628814 \t검증 세트 정확도: 46.611%\n",
      "Epoch: 0007 cost =  0.055182774 \t검증 세트 정확도: 45.367%\n",
      "Epoch: 0008 cost =  0.050316864 \t검증 세트 정확도: 51.037%\n",
      "Epoch: 0009 cost =  0.045726227 \t검증 세트 정확도: 57.123%\n",
      "Epoch: 0010 cost =  0.043110019 \t검증 세트 정확도: 58.230%\n",
      "Epoch: 0011 cost =  0.040265841 \t검증 세트 정확도: 64.869%\n",
      "Epoch: 0012 cost =  0.039394458 \t검증 세트 정확도: 67.082%\n",
      "Epoch: 0013 cost =  0.037533719 \t검증 세트 정확도: 62.241%\n",
      "Epoch: 0014 cost =  0.037190467 \t검증 세트 정확도: 61.549%\n",
      "Epoch: 0015 cost =  0.035854630 \t검증 세트 정확도: 61.964%\n",
      "Epoch: 0016 cost =  0.035316632 \t검증 세트 정확도: 60.858%\n",
      "Epoch: 0017 cost =  0.034552740 \t검증 세트 정확도: 61.549%\n",
      "Epoch: 0018 cost =  0.033565900 \t검증 세트 정확도: 62.517%\n",
      "Epoch: 0019 cost =  0.032663211 \t검증 세트 정확도: 65.145%\n",
      "Epoch: 0020 cost =  0.031966649 \t검증 세트 정확도: 64.730%\n",
      "Epoch: 0021 cost =  0.031347363 \t검증 세트 정확도: 65.007%\n",
      "Epoch: 0022 cost =  0.030485675 \t검증 세트 정확도: 65.145%\n",
      "Epoch: 0023 cost =  0.029120516 \t검증 세트 정확도: 65.837%\n",
      "Epoch: 0024 cost =  0.028458820 \t검증 세트 정확도: 65.837%\n",
      "Epoch: 0025 cost =  0.027274946 \t검증 세트 정확도: 67.358%\n",
      "Epoch: 0026 cost =  0.026636032 \t검증 세트 정확도: 68.603%\n",
      "Epoch: 0027 cost =  0.025802384 \t검증 세트 정확도: 71.508%\n",
      "Epoch: 0028 cost =  0.025129917 \t검증 세트 정확도: 70.539%\n",
      "Epoch: 0029 cost =  0.024028964 \t검증 세트 정확도: 71.784%\n",
      "Epoch: 0030 cost =  0.023707617 \t검증 세트 정확도: 73.167%\n",
      "Epoch: 0031 cost =  0.022301405 \t검증 세트 정확도: 73.997%\n",
      "Epoch: 0032 cost =  0.021656655 \t검증 세트 정확도: 72.891%\n",
      "Epoch: 0033 cost =  0.021110900 \t검증 세트 정확도: 74.274%\n",
      "Epoch: 0034 cost =  0.020809332 \t검증 세트 정확도: 73.721%\n",
      "Epoch: 0035 cost =  0.019848150 \t검증 세트 정확도: 74.965%\n",
      "Epoch: 0036 cost =  0.020006594 \t검증 세트 정확도: 75.519%\n",
      "Epoch: 0037 cost =  0.019192290 \t검증 세트 정확도: 76.625%\n",
      "Epoch: 0038 cost =  0.018676625 \t검증 세트 정확도: 76.072%\n",
      "Epoch: 0039 cost =  0.019089389 \t검증 세트 정확도: 74.689%\n",
      "Epoch: 0040 cost =  0.018792359 \t검증 세트 정확도: 73.306%\n",
      "Epoch: 0041 cost =  0.019161040 \t검증 세트 정확도: 73.721%\n",
      "Epoch: 0042 cost =  0.017541617 \t검증 세트 정확도: 76.763%\n",
      "Epoch: 0043 cost =  0.017043410 \t검증 세트 정확도: 77.593%\n",
      "Epoch: 0044 cost =  0.018296537 \t검증 세트 정확도: 77.593%\n",
      "Epoch: 0045 cost =  0.017712816 \t검증 세트 정확도: 78.147%\n",
      "Epoch: 0046 cost =  0.016714080 \t검증 세트 정확도: 78.838%\n",
      "Epoch: 0047 cost =  0.016564635 \t검증 세트 정확도: 76.487%\n",
      "Epoch: 0048 cost =  0.017876793 \t검증 세트 정확도: 79.115%\n",
      "Epoch: 0049 cost =  0.016246480 \t검증 세트 정확도: 78.700%\n",
      "Epoch: 0050 cost =  0.016658639 \t검증 세트 정확도: 80.083%\n",
      "Epoch: 0051 cost =  0.016747611 \t검증 세트 정확도: 79.668%\n",
      "Epoch: 0052 cost =  0.016164752 \t검증 세트 정확도: 78.976%\n",
      "Epoch: 0053 cost =  0.016062175 \t검증 세트 정확도: 79.253%\n",
      "Epoch: 0054 cost =  0.016024879 \t검증 세트 정확도: 78.838%\n",
      "Epoch: 0055 cost =  0.015749323 \t검증 세트 정확도: 77.870%\n",
      "Epoch: 0056 cost =  0.015499055 \t검증 세트 정확도: 79.668%\n",
      "Epoch: 0057 cost =  0.015709840 \t검증 세트 정확도: 79.530%\n",
      "Epoch: 0058 cost =  0.015017172 \t검증 세트 정확도: 78.285%\n",
      "Epoch: 0059 cost =  0.015322477 \t검증 세트 정확도: 80.360%\n",
      "Epoch: 0060 cost =  0.014723658 \t검증 세트 정확도: 81.051%\n",
      "Epoch: 0061 cost =  0.015055141 \t검증 세트 정확도: 78.562%\n",
      "Epoch: 0062 cost =  0.015128753 \t검증 세트 정확도: 79.530%\n",
      "Epoch: 0063 cost =  0.015102491 \t검증 세트 정확도: 80.498%\n",
      "Epoch: 0064 cost =  0.014830018 \t검증 세트 정확도: 78.562%\n",
      "Epoch: 0065 cost =  0.014927220 \t검증 세트 정확도: 80.221%\n",
      "Epoch: 0066 cost =  0.013704342 \t검증 세트 정확도: 81.051%\n",
      "Epoch: 0067 cost =  0.014308496 \t검증 세트 정확도: 80.083%\n",
      "Epoch: 0068 cost =  0.013985556 \t검증 세트 정확도: 76.902%\n",
      "Epoch: 0069 cost =  0.013646287 \t검증 세트 정확도: 78.700%\n",
      "Epoch: 0070 cost =  0.013818345 \t검증 세트 정확도: 80.636%\n",
      "Epoch: 0071 cost =  0.013178997 \t검증 세트 정확도: 81.189%\n",
      "Epoch: 0072 cost =  0.014167599 \t검증 세트 정확도: 78.976%\n",
      "Epoch: 0073 cost =  0.013833441 \t검증 세트 정확도: 79.530%\n",
      "Epoch: 0074 cost =  0.014389647 \t검증 세트 정확도: 80.221%\n",
      "Epoch: 0075 cost =  0.013922457 \t검증 세트 정확도: 79.945%\n",
      "Epoch: 0076 cost =  0.013033487 \t검증 세트 정확도: 79.115%\n",
      "Epoch: 0077 cost =  0.012831162 \t검증 세트 정확도: 79.115%\n",
      "Epoch: 0078 cost =  0.013325785 \t검증 세트 정확도: 75.242%\n",
      "Epoch: 0079 cost =  0.013733670 \t검증 세트 정확도: 76.349%\n",
      "Epoch: 0080 cost =  0.013076622 \t검증 세트 정확도: 80.360%\n",
      "Epoch: 0081 cost =  0.012491852 \t검증 세트 정확도: 80.360%\n",
      "Epoch: 0082 cost =  0.012150822 \t검증 세트 정확도: 79.945%\n",
      "Epoch: 0083 cost =  0.013622329 \t검증 세트 정확도: 80.913%\n",
      "Epoch: 0084 cost =  0.012430457 \t검증 세트 정확도: 79.945%\n",
      "Epoch: 0085 cost =  0.012482689 \t검증 세트 정확도: 80.083%\n",
      "Epoch: 0086 cost =  0.012379897 \t검증 세트 정확도: 80.636%\n",
      "Epoch: 0087 cost =  0.012661872 \t검증 세트 정확도: 79.806%\n",
      "Epoch: 0088 cost =  0.011970947 \t검증 세트 정확도: 79.115%\n",
      "Epoch: 0089 cost =  0.012294954 \t검증 세트 정확도: 78.423%\n",
      "Epoch: 0090 cost =  0.012137605 \t검증 세트 정확도: 77.317%\n",
      "Epoch: 0091 cost =  0.012416676 \t검증 세트 정확도: 80.913%\n",
      "Epoch: 0092 cost =  0.011837398 \t검증 세트 정확도: 80.221%\n",
      "Epoch: 0093 cost =  0.012065564 \t검증 세트 정확도: 80.360%\n",
      "Epoch: 0094 cost =  0.011623406 \t검증 세트 정확도: 80.498%\n",
      "Epoch: 0095 cost =  0.011894266 \t검증 세트 정확도: 78.700%\n",
      "Epoch: 0096 cost =  0.012343213 \t검증 세트 정확도: 77.732%\n",
      "Epoch: 0097 cost =  0.011987238 \t검증 세트 정확도: 80.083%\n",
      "Epoch: 0098 cost =  0.011630704 \t검증 세트 정확도: 80.913%\n",
      "Epoch: 0099 cost =  0.011847173 \t검증 세트 정확도: 83.126%\n",
      "Epoch: 0100 cost =  0.011862809 \t검증 세트 정확도: 80.221%\n",
      "Epoch: 0101 cost =  0.011484685 \t검증 세트 정확도: 75.934%\n",
      "Epoch: 0102 cost =  0.011713798 \t검증 세트 정확도: 79.668%\n",
      "Epoch: 0103 cost =  0.011394029 \t검증 세트 정확도: 80.083%\n",
      "Epoch: 0104 cost =  0.011170077 \t검증 세트 정확도: 80.775%\n",
      "Epoch: 0105 cost =  0.011459197 \t검증 세트 정확도: 80.498%\n",
      "Epoch: 0106 cost =  0.011873597 \t검증 세트 정확도: 80.498%\n",
      "Epoch: 0107 cost =  0.011188215 \t검증 세트 정확도: 79.115%\n",
      "Epoch: 0108 cost =  0.011276869 \t검증 세트 정확도: 81.051%\n",
      "Epoch: 0109 cost =  0.010749434 \t검증 세트 정확도: 79.945%\n",
      "Epoch: 0110 cost =  0.011097981 \t검증 세트 정확도: 80.360%\n",
      "Epoch: 0111 cost =  0.010941932 \t검증 세트 정확도: 80.775%\n",
      "Epoch: 0112 cost =  0.011152863 \t검증 세트 정확도: 80.636%\n",
      "Epoch: 0113 cost =  0.011491784 \t검증 세트 정확도: 81.051%\n",
      "Epoch: 0114 cost =  0.010701963 \t검증 세트 정확도: 84.647%\n",
      "Epoch: 0115 cost =  0.010981785 \t검증 세트 정확도: 86.722%\n",
      "Epoch: 0116 cost =  0.010790803 \t검증 세트 정확도: 85.339%\n",
      "Epoch: 0117 cost =  0.010561197 \t검증 세트 정확도: 78.838%\n",
      "Epoch: 0118 cost =  0.011236762 \t검증 세트 정확도: 85.754%\n",
      "Epoch: 0119 cost =  0.011101942 \t검증 세트 정확도: 86.169%\n",
      "Epoch: 0120 cost =  0.010855170 \t검증 세트 정확도: 85.892%\n",
      "Epoch: 0121 cost =  0.010541584 \t검증 세트 정확도: 81.881%\n",
      "Epoch: 0122 cost =  0.010673722 \t검증 세트 정확도: 86.030%\n",
      "Epoch: 0123 cost =  0.010204884 \t검증 세트 정확도: 80.083%\n",
      "Epoch: 0124 cost =  0.009800870 \t검증 세트 정확도: 82.573%\n",
      "Epoch: 0125 cost =  0.010060544 \t검증 세트 정확도: 78.285%\n",
      "Epoch: 0126 cost =  0.010525166 \t검증 세트 정확도: 86.307%\n",
      "Epoch: 0127 cost =  0.009834671 \t검증 세트 정확도: 87.967%\n",
      "Epoch: 0128 cost =  0.009755032 \t검증 세트 정확도: 85.062%\n",
      "Epoch: 0129 cost =  0.009948717 \t검증 세트 정확도: 87.137%\n",
      "Epoch: 0130 cost =  0.009711282 \t검증 세트 정확도: 92.531%\n",
      "Epoch: 0131 cost =  0.009892049 \t검증 세트 정확도: 90.871%\n",
      "Epoch: 0132 cost =  0.010524427 \t검증 세트 정확도: 91.286%\n",
      "Epoch: 0133 cost =  0.008890957 \t검증 세트 정확도: 91.286%\n",
      "Epoch: 0134 cost =  0.009393899 \t검증 세트 정확도: 93.638%\n",
      "Epoch: 0135 cost =  0.008976717 \t검증 세트 정확도: 93.499%\n",
      "Epoch: 0136 cost =  0.008848483 \t검증 세트 정확도: 93.499%\n",
      "Epoch: 0137 cost =  0.009302157 \t검증 세트 정확도: 92.669%\n",
      "Epoch: 0138 cost =  0.008385648 \t검증 세트 정확도: 93.084%\n",
      "Epoch: 0139 cost =  0.008022247 \t검증 세트 정확도: 91.840%\n",
      "Epoch: 0140 cost =  0.008495992 \t검증 세트 정확도: 94.191%\n",
      "Epoch: 0141 cost =  0.008448064 \t검증 세트 정확도: 93.223%\n",
      "Epoch: 0142 cost =  0.008671227 \t검증 세트 정확도: 92.946%\n",
      "Epoch: 0143 cost =  0.007979630 \t검증 세트 정확도: 93.499%\n",
      "Epoch: 0144 cost =  0.008677809 \t검증 세트 정확도: 92.946%\n",
      "Epoch: 0145 cost =  0.008680806 \t검증 세트 정확도: 93.914%\n",
      "Epoch: 0146 cost =  0.008818172 \t검증 세트 정확도: 93.361%\n",
      "Epoch: 0147 cost =  0.008847662 \t검증 세트 정확도: 95.021%\n",
      "Epoch: 0148 cost =  0.008376577 \t검증 세트 정확도: 94.053%\n",
      "Epoch: 0149 cost =  0.008253109 \t검증 세트 정확도: 93.776%\n",
      "Epoch: 0150 cost =  0.008351279 \t검증 세트 정확도: 94.191%\n",
      "Epoch: 0151 cost =  0.008104986 \t검증 세트 정확도: 94.744%\n",
      "Epoch: 0152 cost =  0.007921342 \t검증 세트 정확도: 94.882%\n",
      "Epoch: 0153 cost =  0.008152560 \t검증 세트 정확도: 93.361%\n",
      "Epoch: 0154 cost =  0.007334973 \t검증 세트 정확도: 93.223%\n",
      "Epoch: 0155 cost =  0.007708084 \t검증 세트 정확도: 93.776%\n",
      "Epoch: 0156 cost =  0.009311795 \t검증 세트 정확도: 91.840%\n",
      "Epoch: 0157 cost =  0.007373854 \t검증 세트 정확도: 93.914%\n",
      "Epoch: 0158 cost =  0.007271754 \t검증 세트 정확도: 93.084%\n"
     ]
    },
    {
     "name": "stdout",
     "output_type": "stream",
     "text": [
      "Epoch: 0159 cost =  0.008826407 \t검증 세트 정확도: 94.467%\n",
      "Epoch: 0160 cost =  0.009035328 \t검증 세트 정확도: 87.414%\n",
      "Epoch: 0161 cost =  0.008722789 \t검증 세트 정확도: 90.456%\n",
      "Epoch: 0162 cost =  0.008169196 \t검증 세트 정확도: 93.638%\n",
      "Epoch: 0163 cost =  0.007340604 \t검증 세트 정확도: 95.297%\n",
      "Epoch: 0164 cost =  0.007896530 \t검증 세트 정확도: 94.329%\n",
      "Epoch: 0165 cost =  0.007965227 \t검증 세트 정확도: 93.638%\n",
      "Epoch: 0166 cost =  0.008182946 \t검증 세트 정확도: 94.329%\n",
      "Epoch: 0167 cost =  0.006892680 \t검증 세트 정확도: 90.180%\n",
      "Epoch: 0168 cost =  0.006801100 \t검증 세트 정확도: 94.467%\n",
      "Epoch: 0169 cost =  0.006777055 \t검증 세트 정확도: 90.871%\n",
      "Epoch: 0170 cost =  0.006875784 \t검증 세트 정확도: 93.084%\n",
      "Epoch: 0171 cost =  0.006934608 \t검증 세트 정확도: 94.606%\n",
      "Epoch: 0172 cost =  0.006710479 \t검증 세트 정확도: 91.563%\n",
      "Epoch: 0173 cost =  0.008095129 \t검증 세트 정확도: 94.744%\n",
      "Epoch: 0174 cost =  0.007233485 \t검증 세트 정확도: 92.393%\n",
      "Epoch: 0175 cost =  0.006844003 \t검증 세트 정확도: 92.946%\n",
      "Epoch: 0176 cost =  0.006288816 \t검증 세트 정확도: 94.744%\n",
      "Epoch: 0177 cost =  0.006734947 \t검증 세트 정확도: 94.053%\n",
      "Epoch: 0178 cost =  0.006530518 \t검증 세트 정확도: 93.914%\n",
      "Epoch: 0179 cost =  0.006584985 \t검증 세트 정확도: 94.882%\n",
      "Epoch: 0180 cost =  0.007315437 \t검증 세트 정확도: 93.638%\n",
      "Epoch: 0181 cost =  0.006903982 \t검증 세트 정확도: 93.084%\n",
      "Epoch: 0182 cost =  0.006704847 \t검증 세트 정확도: 94.606%\n",
      "Epoch: 0183 cost =  0.006040706 \t검증 세트 정확도: 94.191%\n",
      "Epoch: 0184 cost =  0.006133401 \t검증 세트 정확도: 94.882%\n",
      "Epoch: 0185 cost =  0.006163823 \t검증 세트 정확도: 93.361%\n",
      "Epoch: 0186 cost =  0.005637537 \t검증 세트 정확도: 94.606%\n",
      "Epoch: 0187 cost =  0.006282767 \t검증 세트 정확도: 95.021%\n",
      "Epoch: 0188 cost =  0.007093379 \t검증 세트 정확도: 91.148%\n",
      "Epoch: 0189 cost =  0.006581218 \t검증 세트 정확도: 95.159%\n",
      "Epoch: 0190 cost =  0.006001299 \t검증 세트 정확도: 93.361%\n",
      "Epoch: 0191 cost =  0.007212682 \t검증 세트 정확도: 93.776%\n",
      "Epoch: 0192 cost =  0.006116222 \t검증 세트 정확도: 95.851%\n",
      "Epoch: 0193 cost =  0.006098820 \t검증 세트 정확도: 94.053%\n",
      "Epoch: 0194 cost =  0.007032981 \t검증 세트 정확도: 94.329%\n",
      "Epoch: 0195 cost =  0.005617191 \t검증 세트 정확도: 92.531%\n",
      "Epoch: 0196 cost =  0.006943885 \t검증 세트 정확도: 93.084%\n",
      "Epoch: 0197 cost =  0.006639313 \t검증 세트 정확도: 94.329%\n",
      "Epoch: 0198 cost =  0.006121576 \t검증 세트 정확도: 91.010%\n",
      "Epoch: 0199 cost =  0.006571647 \t검증 세트 정확도: 95.159%\n",
      "Epoch: 0200 cost =  0.005595391 \t검증 세트 정확도: 93.361%\n",
      "Epoch: 0201 cost =  0.005592680 \t검증 세트 정확도: 93.499%\n",
      "Epoch: 0202 cost =  0.006083318 \t검증 세트 정확도: 93.499%\n",
      "Epoch: 0203 cost =  0.005719178 \t검증 세트 정확도: 92.669%\n",
      "Epoch: 0204 cost =  0.005378878 \t검증 세트 정확도: 93.638%\n",
      "Epoch: 0205 cost =  0.005931510 \t검증 세트 정확도: 92.393%\n",
      "Epoch: 0206 cost =  0.005999436 \t검증 세트 정확도: 90.456%\n",
      "Epoch: 0207 cost =  0.006302665 \t검증 세트 정확도: 93.361%\n",
      "Epoch: 0208 cost =  0.004960731 \t검증 세트 정확도: 94.467%\n",
      "Epoch: 0209 cost =  0.005931452 \t검증 세트 정확도: 92.531%\n",
      "Epoch: 0210 cost =  0.005015176 \t검증 세트 정확도: 94.606%\n",
      "Epoch: 0211 cost =  0.004942708 \t검증 세트 정확도: 94.882%\n",
      "Epoch: 0212 cost =  0.006000646 \t검증 세트 정확도: 94.053%\n",
      "Epoch: 0213 cost =  0.005493275 \t검증 세트 정확도: 93.638%\n",
      "Epoch: 0214 cost =  0.005806778 \t검증 세트 정확도: 94.744%\n",
      "Epoch: 0215 cost =  0.006137832 \t검증 세트 정확도: 94.191%\n",
      "Epoch: 0216 cost =  0.005244678 \t검증 세트 정확도: 92.946%\n",
      "Epoch: 0217 cost =  0.005685713 \t검증 세트 정확도: 89.765%\n",
      "Epoch: 0218 cost =  0.005979896 \t검증 세트 정확도: 90.595%\n",
      "Epoch: 0219 cost =  0.005755628 \t검증 세트 정확도: 93.914%\n",
      "Epoch: 0220 cost =  0.004929030 \t검증 세트 정확도: 94.882%\n",
      "Epoch: 0221 cost =  0.005856903 \t검증 세트 정확도: 93.638%\n",
      "Epoch: 0222 cost =  0.007159712 \t검증 세트 정확도: 94.467%\n",
      "Epoch: 0223 cost =  0.005743521 \t검증 세트 정확도: 93.084%\n",
      "Epoch: 0224 cost =  0.006223417 \t검증 세트 정확도: 91.978%\n",
      "Epoch: 0225 cost =  0.005854379 \t검증 세트 정확도: 91.701%\n",
      "Epoch: 0226 cost =  0.006522709 \t검증 세트 정확도: 93.361%\n",
      "Epoch: 0227 cost =  0.005993513 \t검증 세트 정확도: 93.084%\n",
      "Epoch: 0228 cost =  0.005623463 \t검증 세트 정확도: 94.606%\n",
      "Epoch: 0229 cost =  0.005750819 \t검증 세트 정확도: 92.669%\n",
      "Epoch: 0230 cost =  0.006412195 \t검증 세트 정확도: 92.808%\n",
      "Epoch: 0231 cost =  0.006062432 \t검증 세트 정확도: 94.882%\n",
      "Epoch: 0232 cost =  0.005259231 \t검증 세트 정확도: 95.712%\n",
      "Epoch: 0233 cost =  0.005506613 \t검증 세트 정확도: 95.436%\n",
      "Epoch: 0234 cost =  0.005437175 \t검증 세트 정확도: 94.882%\n",
      "Epoch: 0235 cost =  0.005443468 \t검증 세트 정확도: 93.914%\n",
      "Epoch: 0236 cost =  0.005165963 \t검증 세트 정확도: 94.606%\n",
      "Epoch: 0237 cost =  0.005962401 \t검증 세트 정확도: 95.574%\n",
      "Epoch: 0238 cost =  0.006123851 \t검증 세트 정확도: 93.914%\n",
      "Epoch: 0239 cost =  0.005372988 \t검증 세트 정확도: 95.989%\n",
      "Epoch: 0240 cost =  0.005434763 \t검증 세트 정확도: 95.159%\n",
      "Epoch: 0241 cost =  0.005582723 \t검증 세트 정확도: 95.021%\n",
      "Epoch: 0242 cost =  0.004884329 \t검증 세트 정확도: 94.329%\n",
      "Epoch: 0243 cost =  0.004674774 \t검증 세트 정확도: 95.851%\n",
      "Epoch: 0244 cost =  0.004829118 \t검증 세트 정확도: 94.744%\n",
      "Epoch: 0245 cost =  0.004946203 \t검증 세트 정확도: 95.297%\n",
      "Epoch: 0246 cost =  0.005107511 \t검증 세트 정확도: 94.744%\n",
      "Epoch: 0247 cost =  0.005959378 \t검증 세트 정확도: 94.882%\n",
      "Epoch: 0248 cost =  0.005871929 \t검증 세트 정확도: 93.914%\n",
      "Epoch: 0249 cost =  0.005390115 \t검증 세트 정확도: 92.946%\n",
      "Epoch: 0250 cost =  0.005882883 \t검증 세트 정확도: 93.638%\n",
      "Epoch: 0251 cost =  0.005548145 \t검증 세트 정확도: 93.499%\n",
      "Epoch: 0252 cost =  0.004692213 \t검증 세트 정확도: 94.606%\n",
      "Epoch: 0253 cost =  0.004803298 \t검증 세트 정확도: 94.882%\n",
      "Epoch: 0254 cost =  0.006164343 \t검증 세트 정확도: 92.531%\n",
      "Epoch: 0255 cost =  0.005466454 \t검증 세트 정확도: 95.297%\n",
      "Epoch: 0256 cost =  0.005347541 \t검증 세트 정확도: 95.712%\n",
      "Epoch: 0257 cost =  0.005183118 \t검증 세트 정확도: 93.499%\n",
      "Epoch: 0258 cost =  0.004815863 \t검증 세트 정확도: 96.266%\n",
      "Epoch: 0259 cost =  0.004565581 \t검증 세트 정확도: 94.467%\n",
      "Epoch: 0260 cost =  0.005153290 \t검증 세트 정확도: 95.021%\n",
      "Epoch: 0261 cost =  0.004636786 \t검증 세트 정확도: 95.436%\n",
      "Epoch: 0262 cost =  0.004838025 \t검증 세트 정확도: 94.606%\n",
      "Epoch: 0263 cost =  0.004364879 \t검증 세트 정확도: 94.882%\n",
      "Epoch: 0264 cost =  0.004445212 \t검증 세트 정확도: 94.882%\n",
      "Epoch: 0265 cost =  0.004777204 \t검증 세트 정확도: 95.574%\n",
      "Epoch: 0266 cost =  0.005334923 \t검증 세트 정확도: 93.776%\n",
      "Epoch: 0267 cost =  0.004946755 \t검증 세트 정확도: 92.808%\n",
      "Epoch: 0268 cost =  0.004470806 \t검증 세트 정확도: 93.223%\n",
      "Epoch: 0269 cost =  0.004791574 \t검증 세트 정확도: 91.701%\n",
      "Epoch: 0270 cost =  0.005202966 \t검증 세트 정확도: 91.286%\n",
      "Epoch: 0271 cost =  0.005299682 \t검증 세트 정확도: 92.669%\n",
      "Epoch: 0272 cost =  0.005210306 \t검증 세트 정확도: 91.286%\n",
      "Epoch: 0273 cost =  0.005309900 \t검증 세트 정확도: 93.084%\n",
      "Epoch: 0274 cost =  0.004678961 \t검증 세트 정확도: 95.021%\n",
      "Epoch: 0275 cost =  0.004834241 \t검증 세트 정확도: 93.361%\n",
      "Epoch: 0276 cost =  0.004382712 \t검증 세트 정확도: 93.361%\n",
      "Epoch: 0277 cost =  0.005041523 \t검증 세트 정확도: 95.574%\n",
      "Epoch: 0278 cost =  0.004634609 \t검증 세트 정확도: 94.882%\n",
      "Epoch: 0279 cost =  0.004503851 \t검증 세트 정확도: 95.712%\n",
      "Epoch: 0280 cost =  0.004926844 \t검증 세트 정확도: 93.223%\n",
      "Epoch: 0281 cost =  0.004135543 \t검증 세트 정확도: 94.329%\n",
      "Epoch: 0282 cost =  0.004819559 \t검증 세트 정확도: 95.574%\n",
      "Epoch: 0283 cost =  0.005390427 \t검증 세트 정확도: 95.851%\n",
      "Epoch: 0284 cost =  0.004374083 \t검증 세트 정확도: 94.744%\n",
      "Epoch: 0285 cost =  0.004678991 \t검증 세트 정확도: 91.701%\n",
      "Epoch: 0286 cost =  0.004399765 \t검증 세트 정확도: 93.499%\n",
      "Epoch: 0287 cost =  0.004167873 \t검증 세트 정확도: 95.159%\n",
      "Epoch: 0288 cost =  0.004952943 \t검증 세트 정확도: 94.882%\n",
      "Epoch: 0289 cost =  0.004749663 \t검증 세트 정확도: 94.744%\n",
      "Epoch: 0290 cost =  0.005439802 \t검증 세트 정확도: 96.127%\n",
      "Epoch: 0291 cost =  0.004959448 \t검증 세트 정확도: 94.191%\n",
      "Epoch: 0292 cost =  0.004392923 \t검증 세트 정확도: 94.606%\n",
      "Epoch: 0293 cost =  0.004999639 \t검증 세트 정확도: 95.297%\n",
      "Epoch: 0294 cost =  0.004575670 \t검증 세트 정확도: 93.361%\n",
      "Epoch: 0295 cost =  0.004686776 \t검증 세트 정확도: 94.744%\n",
      "Epoch: 0296 cost =  0.004330541 \t검증 세트 정확도: 93.361%\n",
      "Epoch: 0297 cost =  0.004343365 \t검증 세트 정확도: 95.159%\n",
      "Epoch: 0298 cost =  0.005270974 \t검증 세트 정확도: 94.191%\n",
      "Epoch: 0299 cost =  0.004680275 \t검증 세트 정확도: 95.021%\n"
     ]
    },
    {
     "data": {
      "text/plain": [
       "'../../model/DNN/7_dense_model'"
      ]
     },
     "execution_count": 42,
     "metadata": {},
     "output_type": "execute_result"
    }
   ],
   "source": [
    "#original \n",
    "batch_size = 32\n",
    "cost_history = np.empty(shape=[1], dtype=float)\n",
    "with tf.device(\"/gpu:0\"):\n",
    "    for epoch in range(1,300):\n",
    "        avg_cost = 0    \n",
    "#    total_batch = int(X_train.shape[0] / batch_size)\n",
    "        for i in range( int(math.ceil(len(X_train)/batch_size)) ): # 배치 사이즈로 나눈 나머지 다 돌 수 있게 \n",
    "            x_ = X_train[batch_size * i: batch_size * (i + 1)]\n",
    "            y_ = y_train[batch_size * i: batch_size * (i + 1)]\n",
    "            feed_dict={X:x_, Y:y_, keep_prob:0.6}    \n",
    "            c, _ = sess.run([cost, optimizer], feed_dict=feed_dict)\n",
    "            cost_history = np.append(cost_history,cost)\n",
    "            avg_cost += c\n",
    "            #accuracy_val = sess.run([accuracy], feed_dict={X:X_val, Y:y_val})\n",
    "        val_pred = sess.run(tf.argmax(logits,1),feed_dict={X: X_val , keep_prob:1})  \n",
    "        val_true = sess.run(tf.argmax(y_val,1))\n",
    "        accuracy_val = accuracy_score(val_pred, val_true)\n",
    "        print('Epoch:', '%04d' % (epoch), 'cost = ', '{:.9f}'.format(avg_cost / len(X_train)), \"\\t검증 세트 정확도: {:.3f}%\".format(accuracy_val * 100),)\n",
    "saver.save(sess, model_path)"
   ]
  },
  {
   "cell_type": "markdown",
   "metadata": {},
   "source": [
    "## Prediction"
   ]
  },
  {
   "cell_type": "code",
   "execution_count": 43,
   "metadata": {},
   "outputs": [],
   "source": [
    "y_pred = sess.run(tf.argmax(logits,1),feed_dict={X: X_test , keep_prob:1}) \n",
    "y_true = sess.run(tf.argmax(y_test,1))"
   ]
  },
  {
   "cell_type": "code",
   "execution_count": 44,
   "metadata": {},
   "outputs": [
    {
     "name": "stdout",
     "output_type": "stream",
     "text": [
      "F-Score: 0.948\n",
      "Accuracy:  0.9480088495575221\n",
      "              precision    recall  f1-score   support\n",
      "\n",
      "           0       1.00      0.97      0.99       116\n",
      "           1       0.99      0.89      0.94        90\n",
      "           2       0.73      0.95      0.83       109\n",
      "           3       0.99      0.99      0.99        93\n",
      "           4       0.99      1.00      1.00       101\n",
      "           5       0.99      0.72      0.84        98\n",
      "           6       0.98      1.00      0.99       297\n",
      "\n",
      "   micro avg       0.95      0.95      0.95       904\n",
      "   macro avg       0.95      0.93      0.94       904\n",
      "weighted avg       0.96      0.95      0.95       904\n",
      "\n",
      "[[113   0   0   1   0   0   2]\n",
      " [  0  80  10   0   0   0   0]\n",
      " [  0   1 104   0   0   1   3]\n",
      " [  0   0   0  92   1   0   0]\n",
      " [  0   0   0   0 101   0   0]\n",
      " [  0   0  27   0   0  71   0]\n",
      " [  0   0   1   0   0   0 296]]\n"
     ]
    }
   ],
   "source": [
    "# Ptint Result\n",
    "\n",
    "from sklearn.metrics import precision_recall_fscore_support\n",
    "p,r,f,s = precision_recall_fscore_support(y_true, y_pred, average='micro')\n",
    "print(\"F-Score:\", round(f,3))\n",
    "from sklearn.metrics import accuracy_score\n",
    "print(\"Accuracy: \", accuracy_score(y_true, y_pred))\n",
    "\n",
    "from sklearn.metrics import classification_report\n",
    "print(classification_report(y_true, y_pred))\n",
    "from sklearn.metrics import confusion_matrix\n",
    "print(confusion_matrix(y_true, y_pred))"
   ]
  },
  {
   "cell_type": "code",
   "execution_count": null,
   "metadata": {},
   "outputs": [],
   "source": []
  }
 ],
 "metadata": {
  "kernelspec": {
   "display_name": "Python 3",
   "language": "python",
   "name": "python3"
  },
  "language_info": {
   "codemirror_mode": {
    "name": "ipython",
    "version": 3
   },
   "file_extension": ".py",
   "mimetype": "text/x-python",
   "name": "python",
   "nbconvert_exporter": "python",
   "pygments_lexer": "ipython3",
   "version": "3.6.7"
  }
 },
 "nbformat": 4,
 "nbformat_minor": 2
}
