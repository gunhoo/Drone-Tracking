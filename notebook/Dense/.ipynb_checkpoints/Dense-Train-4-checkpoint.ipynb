{
 "cells": [
  {
   "cell_type": "code",
   "execution_count": 1,
   "metadata": {},
   "outputs": [],
   "source": [
    "import matplotlib.pyplot as plt\n",
    "%matplotlib inline\n",
    "import IPython.display\n",
    "import librosa.display\n",
    "import numpy as np\n",
    "import librosa\n",
    "import tensorflow as tf\n",
    "import glob"
   ]
  },
  {
   "cell_type": "markdown",
   "metadata": {},
   "source": [
    "### If you have been save the data, you don't have to preprocessing and save the data"
   ]
  },
  {
   "cell_type": "code",
   "execution_count": 2,
   "metadata": {},
   "outputs": [],
   "source": [
    "c_drone_path = '../../../inner10m/*.wav'\n",
    "m_drone_path = '../../../20m/*.wav'\n",
    "f_drone_path = '../../../50m/*.wav'\n",
    "background_path = '../../data/background/*.wav'\n",
    "\n",
    "c_drone_files = glob.glob(c_drone_path)\n",
    "m_drone_files = glob.glob(m_drone_path)\n",
    "f_drone_files = glob.glob(f_drone_path)\n",
    "background_files = glob.glob(background_path)"
   ]
  },
  {
   "cell_type": "code",
   "execution_count": 3,
   "metadata": {},
   "outputs": [],
   "source": [
    "CHUNK_SIZE = 8192\n",
    "SR = 22050\n",
    "N_MFCC = 16"
   ]
  },
  {
   "cell_type": "code",
   "execution_count": 4,
   "metadata": {},
   "outputs": [],
   "source": [
    "def load(files, sr=22050):\n",
    "    [raw, sr] = librosa.load(files[0], sr=sr)\n",
    "    for f in files[1:]:\n",
    "        [array, sr] = librosa.load(f, sr=sr)\n",
    "        raw = np.hstack((raw, array))\n",
    "    print(raw.shape)\n",
    "    return raw"
   ]
  },
  {
   "cell_type": "code",
   "execution_count": 5,
   "metadata": {},
   "outputs": [
    {
     "name": "stdout",
     "output_type": "stream",
     "text": [
      "(4464640,)\n",
      "(2232320,)\n",
      "(2232320,)\n",
      "(23317637,)\n"
     ]
    }
   ],
   "source": [
    "c_drone_raw = load(c_drone_files)\n",
    "m_drone_raw = load(m_drone_files)\n",
    "f_drone_raw = load(f_drone_files)\n",
    "background_raw = load(background_files)"
   ]
  },
  {
   "cell_type": "markdown",
   "metadata": {},
   "source": [
    "# Data preprocessing"
   ]
  },
  {
   "cell_type": "markdown",
   "metadata": {},
   "source": [
    "Chose `mfcc4` among functions below:\n",
    "- input size 16x16; `n_mfcc=16`, used first 16 data points from 16x17 mfcc of a chunk with size 8192\n",
    "- chunk siez 8192, overlapped half of it"
   ]
  },
  {
   "cell_type": "code",
   "execution_count": 6,
   "metadata": {},
   "outputs": [],
   "source": [
    "def mfcc4(raw, label, chunk_size=8192, window_size=4096, sr=22050, n_mfcc=16, n_frame=16):\n",
    "    mfcc = np.empty((0, n_mfcc, n_frame))\n",
    "    y = []\n",
    "    print(raw.shape)\n",
    "    for i in range(0, len(raw), chunk_size//2):\n",
    "        mfcc_slice = librosa.feature.mfcc(raw[i:i+chunk_size], sr=sr, n_mfcc=n_mfcc) #n_mfcc,17\n",
    "        if mfcc_slice.shape[1] < 17:\n",
    "            print(\"small end:\", mfcc_slice.shape)\n",
    "            continue\n",
    "        mfcc_slice = mfcc_slice[:,:-1]\n",
    "        mfcc_slice = mfcc_slice.reshape((1, mfcc_slice.shape[0], mfcc_slice.shape[1]))\n",
    "        mfcc = np.vstack((mfcc, mfcc_slice))\n",
    "        y.append(label)\n",
    "    y = np.array(y)\n",
    "    return mfcc, y"
   ]
  },
  {
   "cell_type": "code",
   "execution_count": 7,
   "metadata": {},
   "outputs": [
    {
     "name": "stdout",
     "output_type": "stream",
     "text": [
      "(4464640,)\n",
      "small end: (16, 9)\n",
      "(2232320,)\n",
      "small end: (16, 9)\n",
      "(2232320,)\n",
      "small end: (16, 9)\n",
      "(23317637,)\n",
      "small end: (16, 15)\n",
      "small end: (16, 7)\n",
      "(1089, 16, 16) (1089,)\n",
      "(544, 16, 16) (544,)\n",
      "(544, 16, 16) (544,)\n",
      "(5691, 16, 16) (5691,)\n"
     ]
    }
   ],
   "source": [
    "c_mfcc_drone, c_y_drone = mfcc4(c_drone_raw, 3)\n",
    "m_mfcc_drone, m_y_drone = mfcc4(m_drone_raw, 2)\n",
    "f_mfcc_drone, f_y_drone = mfcc4(f_drone_raw, 1)\n",
    "mfcc_background, y_background = mfcc4(background_raw, 0)\n",
    "\n",
    "print(c_mfcc_drone.shape, c_y_drone.shape)\n",
    "print(m_mfcc_drone.shape, m_y_drone.shape)\n",
    "print(f_mfcc_drone.shape, f_y_drone.shape)\n",
    "print(mfcc_background.shape, y_background.shape)"
   ]
  },
  {
   "cell_type": "code",
   "execution_count": 8,
   "metadata": {},
   "outputs": [
    {
     "name": "stdout",
     "output_type": "stream",
     "text": [
      "(7868, 16, 16) (7868,)\n"
     ]
    }
   ],
   "source": [
    "X = np.concatenate((c_mfcc_drone,m_mfcc_drone,f_mfcc_drone, mfcc_background), axis=0)\n",
    "y = np.hstack((c_y_drone, m_y_drone, f_y_drone, y_background))\n",
    "print(X.shape, y.shape)"
   ]
  },
  {
   "cell_type": "code",
   "execution_count": 9,
   "metadata": {},
   "outputs": [],
   "source": [
    "X = np.reshape(X,(X.shape[0],-1))"
   ]
  },
  {
   "cell_type": "code",
   "execution_count": 10,
   "metadata": {},
   "outputs": [
    {
     "data": {
      "text/plain": [
       "(7868, 256)"
      ]
     },
     "execution_count": 10,
     "metadata": {},
     "output_type": "execute_result"
    }
   ],
   "source": [
    "X.shape"
   ]
  },
  {
   "cell_type": "code",
   "execution_count": 11,
   "metadata": {},
   "outputs": [
    {
     "name": "stdout",
     "output_type": "stream",
     "text": [
      "(7868, 4)\n"
     ]
    }
   ],
   "source": [
    "n_labels = y.shape[0]\n",
    "n_unique_labels = 4\n",
    "y_encoded = np.zeros((n_labels, n_unique_labels))\n",
    "y_encoded[np.arange(n_labels), y] = 1\n",
    "print(y_encoded.shape)"
   ]
  },
  {
   "cell_type": "code",
   "execution_count": 12,
   "metadata": {},
   "outputs": [],
   "source": [
    "# Split data\n",
    "from sklearn import model_selection\n",
    "X_train, X_test, y_train, y_test = model_selection.train_test_split(X, y_encoded, test_size=0.2, random_state=42)\n",
    "X_train, X_val, y_train, y_val = model_selection.train_test_split(X_train, y_train, test_size=0.2, random_state=42)"
   ]
  },
  {
   "cell_type": "code",
   "execution_count": 13,
   "metadata": {},
   "outputs": [
    {
     "name": "stdout",
     "output_type": "stream",
     "text": [
      "(5035, 256) (5035, 4)\n",
      "(1259, 256) (1259, 4)\n",
      "(1574, 256) (1574, 4)\n"
     ]
    }
   ],
   "source": [
    "print(X_train.shape,y_train.shape)\n",
    "print(X_val.shape, y_val.shape)\n",
    "print(X_test.shape, y_test.shape)"
   ]
  },
  {
   "cell_type": "code",
   "execution_count": 14,
   "metadata": {},
   "outputs": [],
   "source": [
    "# Save Data\n",
    "np.save('../../model/X_train', X_train)\n",
    "np.save('../../model/X_test', X_test)\n",
    "np.save('../../model/X_val', X_val)\n",
    "np.save('../../model/y_val', y_val)\n",
    "np.save('../../model/y_train', y_train)\n",
    "np.save('../../model/y_test', y_test)"
   ]
  },
  {
   "cell_type": "markdown",
   "metadata": {},
   "source": [
    "### Until this part"
   ]
  },
  {
   "cell_type": "code",
   "execution_count": 15,
   "metadata": {},
   "outputs": [],
   "source": [
    "# Load Data\n",
    "X_train = np.load('../../model/X_train.npy')\n",
    "X_test = np.load('../../model/X_test.npy')\n",
    "X_val = np.load('../../model/X_val.npy')\n",
    "y_val = np.load('../../model/y_val.npy')\n",
    "y_train = np.load('../../model/y_train.npy')\n",
    "y_test = np.load('../../model/y_test.npy')"
   ]
  },
  {
   "cell_type": "markdown",
   "metadata": {},
   "source": [
    "# Experiment 3 - One convolutional layer /w no dropout\n"
   ]
  },
  {
   "cell_type": "markdown",
   "metadata": {},
   "source": [
    "##Experiment 3-2\n",
    "- learning rate 0.005\n",
    "- pooling stride 1x1\n",
    "- #filter 1\n",
    "- best result among every other settings\n",
    "- cost kept fluctuated during training. (0.8 -> 1.3) -- why is that?"
   ]
  },
  {
   "cell_type": "code",
   "execution_count": 16,
   "metadata": {},
   "outputs": [],
   "source": [
    "tf.reset_default_graph()"
   ]
  },
  {
   "cell_type": "code",
   "execution_count": 17,
   "metadata": {},
   "outputs": [],
   "source": [
    "n_mfcc = 16\n",
    "n_frame = 16\n",
    "n_classes = 4\n",
    "n_channels = 1\n",
    "\n",
    "kernel_size = 3\n",
    "stride = 1\n",
    "pad = \"SAME\"\n",
    "\n",
    "learning_rate = 0.0002  # 0.005\n",
    "training_epochs = 500 # 수정해야해"
   ]
  },
  {
   "cell_type": "markdown",
   "metadata": {},
   "source": [
    "# Layer"
   ]
  },
  {
   "cell_type": "markdown",
   "metadata": {},
   "source": [
    "## Experiment\n",
    "- learning rate 0.0002\n",
    "- no cnn/ pooling \n",
    "- just dense with dropout "
   ]
  },
  {
   "cell_type": "code",
   "execution_count": 18,
   "metadata": {},
   "outputs": [],
   "source": [
    "X = tf.placeholder(tf.float32, shape=[None,n_mfcc*n_frame*n_channels])\n",
    "Y = tf.placeholder(tf.float32, shape=[None,n_classes])\n",
    "\n",
    "keep_prob = tf.placeholder(tf.float32)\n",
    "\n",
    "dense1 = tf.layers.dense(inputs=X, units=256, activation=tf.nn.relu)\n",
    "dropout1 = tf.nn.dropout(dense1, keep_prob=keep_prob)\n",
    "dense2 = tf.layers.dense(inputs=dropout1, units=256, activation=tf.nn.relu)\n",
    "dropout2 = tf.nn.dropout(dense2, keep_prob=keep_prob)\n",
    "dense3 = tf.layers.dense(inputs=dropout2, units=512, activation=tf.nn.relu)\n",
    "dropout3 = tf.nn.dropout(dense3, keep_prob=keep_prob)\n",
    "dense4 = tf.layers.dense(inputs=dropout3, units=512, activation=tf.nn.relu)\n",
    "dropout4 = tf.nn.dropout(dense4, keep_prob=keep_prob)\n",
    "dense5 = tf.layers.dense(inputs=dropout4, units=256, activation=tf.nn.relu)\n",
    "dropout5 = tf.nn.dropout(dense5, keep_prob=keep_prob)\n",
    "\n",
    "logits= tf.layers.dense(inputs=dropout5, units=4)"
   ]
  },
  {
   "cell_type": "code",
   "execution_count": 19,
   "metadata": {},
   "outputs": [],
   "source": [
    "cost = tf.reduce_mean(tf.nn.softmax_cross_entropy_with_logits_v2(logits=logits, labels=Y))\n",
    "optimizer = tf.train.AdamOptimizer(learning_rate=learning_rate).minimize(cost)"
   ]
  },
  {
   "cell_type": "code",
   "execution_count": 20,
   "metadata": {},
   "outputs": [],
   "source": [
    "sess = tf.Session()\n",
    "sess.run(tf.global_variables_initializer())"
   ]
  },
  {
   "cell_type": "code",
   "execution_count": 21,
   "metadata": {},
   "outputs": [],
   "source": [
    "# model save\n",
    "model_path = '../../model/Dense/4_dense_model'\n",
    "saver = tf.train.Saver()"
   ]
  },
  {
   "cell_type": "markdown",
   "metadata": {},
   "source": [
    "# Trainning"
   ]
  },
  {
   "cell_type": "code",
   "execution_count": 22,
   "metadata": {},
   "outputs": [],
   "source": [
    "import math"
   ]
  },
  {
   "cell_type": "code",
   "execution_count": 23,
   "metadata": {
    "scrolled": false
   },
   "outputs": [],
   "source": [
    "with tf.name_scope(\"eval\"):\n",
    "    correct = tf.nn.in_top_k(logits, y, 1)\n",
    "    accuracy = tf.reduce_mean(tf.cast(correct, tf.float32))\n",
    "#    accuracy_summary = tf.summary.scalar('accuracy', accuracy)"
   ]
  },
  {
   "cell_type": "code",
   "execution_count": 24,
   "metadata": {},
   "outputs": [],
   "source": [
    "from sklearn.metrics import accuracy_score"
   ]
  },
  {
   "cell_type": "code",
   "execution_count": 25,
   "metadata": {
    "scrolled": true
   },
   "outputs": [
    {
     "name": "stdout",
     "output_type": "stream",
     "text": [
      "Epoch: 0001 cost =  0.528293707 \t검증 세트 정확도: 79.508%\n",
      "Epoch: 0002 cost =  0.100578214 \t검증 세트 정확도: 85.862%\n",
      "Epoch: 0003 cost =  0.041064029 \t검증 세트 정확도: 86.815%\n",
      "Epoch: 0004 cost =  0.021976017 \t검증 세트 정확도: 87.133%\n",
      "Epoch: 0005 cost =  0.015915848 \t검증 세트 정확도: 86.974%\n",
      "Epoch: 0006 cost =  0.013592620 \t검증 세트 정확도: 87.609%\n",
      "Epoch: 0007 cost =  0.011502199 \t검증 세트 정확도: 89.277%\n",
      "Epoch: 0008 cost =  0.010565212 \t검증 세트 정확도: 91.025%\n",
      "Epoch: 0009 cost =  0.009712832 \t검증 세트 정확도: 90.469%\n",
      "Epoch: 0010 cost =  0.009286954 \t검증 세트 정확도: 91.501%\n",
      "Epoch: 0011 cost =  0.008396189 \t검증 세트 정확도: 91.978%\n",
      "Epoch: 0012 cost =  0.008062281 \t검증 세트 정확도: 93.407%\n",
      "Epoch: 0013 cost =  0.007671934 \t검증 세트 정확도: 93.566%\n",
      "Epoch: 0014 cost =  0.007066152 \t검증 세트 정확도: 93.725%\n",
      "Epoch: 0015 cost =  0.006332787 \t검증 세트 정확도: 93.249%\n",
      "Epoch: 0016 cost =  0.006164792 \t검증 세트 정확도: 93.646%\n",
      "Epoch: 0017 cost =  0.006266285 \t검증 세트 정확도: 93.646%\n",
      "Epoch: 0018 cost =  0.005806972 \t검증 세트 정확도: 93.407%\n",
      "Epoch: 0019 cost =  0.005720743 \t검증 세트 정확도: 93.725%\n",
      "Epoch: 0020 cost =  0.005631506 \t검증 세트 정확도: 93.090%\n",
      "Epoch: 0021 cost =  0.005668494 \t검증 세트 정확도: 93.963%\n",
      "Epoch: 0022 cost =  0.005559648 \t검증 세트 정확도: 93.805%\n",
      "Epoch: 0023 cost =  0.005562330 \t검증 세트 정확도: 94.043%\n",
      "Epoch: 0024 cost =  0.005361490 \t검증 세트 정확도: 93.805%\n",
      "Epoch: 0025 cost =  0.005469687 \t검증 세트 정확도: 94.043%\n",
      "Epoch: 0026 cost =  0.005254855 \t검증 세트 정확도: 94.758%\n",
      "Epoch: 0027 cost =  0.005140184 \t검증 세트 정확도: 94.440%\n",
      "Epoch: 0028 cost =  0.004957349 \t검증 세트 정확도: 94.361%\n",
      "Epoch: 0029 cost =  0.005140470 \t검증 세트 정확도: 93.963%\n",
      "Epoch: 0030 cost =  0.005025273 \t검증 세트 정확도: 95.155%\n",
      "Epoch: 0031 cost =  0.005084922 \t검증 세트 정확도: 95.155%\n",
      "Epoch: 0032 cost =  0.004926960 \t검증 세트 정확도: 95.234%\n",
      "Epoch: 0033 cost =  0.004911604 \t검증 세트 정확도: 94.678%\n",
      "Epoch: 0034 cost =  0.005050463 \t검증 세트 정확도: 94.202%\n",
      "Epoch: 0035 cost =  0.004706413 \t검증 세트 정확도: 94.917%\n",
      "Epoch: 0036 cost =  0.004608590 \t검증 세트 정확도: 95.234%\n",
      "Epoch: 0037 cost =  0.004681238 \t검증 세트 정확도: 95.234%\n",
      "Epoch: 0038 cost =  0.004550094 \t검증 세트 정확도: 95.552%\n",
      "Epoch: 0039 cost =  0.004592432 \t검증 세트 정확도: 95.155%\n",
      "Epoch: 0040 cost =  0.004385789 \t검증 세트 정확도: 94.917%\n",
      "Epoch: 0041 cost =  0.004521770 \t검증 세트 정확도: 95.949%\n",
      "Epoch: 0042 cost =  0.004507456 \t검증 세트 정확도: 95.075%\n",
      "Epoch: 0043 cost =  0.004466038 \t검증 세트 정확도: 95.075%\n",
      "Epoch: 0044 cost =  0.004405879 \t검증 세트 정확도: 95.790%\n",
      "Epoch: 0045 cost =  0.004223241 \t검증 세트 정확도: 96.029%\n",
      "Epoch: 0046 cost =  0.004242179 \t검증 세트 정확도: 95.314%\n",
      "Epoch: 0047 cost =  0.004339455 \t검증 세트 정확도: 95.790%\n",
      "Epoch: 0048 cost =  0.004612612 \t검증 세트 정확도: 95.552%\n",
      "Epoch: 0049 cost =  0.004201911 \t검증 세트 정확도: 95.870%\n",
      "Epoch: 0050 cost =  0.003932452 \t검증 세트 정확도: 97.061%\n",
      "Epoch: 0051 cost =  0.004190925 \t검증 세트 정확도: 95.870%\n",
      "Epoch: 0052 cost =  0.003812894 \t검증 세트 정확도: 96.426%\n",
      "Epoch: 0053 cost =  0.003798745 \t검증 세트 정확도: 96.902%\n",
      "Epoch: 0054 cost =  0.003736007 \t검증 세트 정확도: 96.982%\n",
      "Epoch: 0055 cost =  0.003511332 \t검증 세트 정확도: 95.870%\n",
      "Epoch: 0056 cost =  0.003622514 \t검증 세트 정확도: 96.187%\n",
      "Epoch: 0057 cost =  0.003693527 \t검증 세트 정확도: 96.108%\n",
      "Epoch: 0058 cost =  0.003643452 \t검증 세트 정확도: 96.823%\n",
      "Epoch: 0059 cost =  0.003545614 \t검증 세트 정확도: 96.823%\n",
      "Epoch: 0060 cost =  0.003470604 \t검증 세트 정확도: 96.743%\n",
      "Epoch: 0061 cost =  0.003559778 \t검증 세트 정확도: 95.949%\n",
      "Epoch: 0062 cost =  0.003702031 \t검증 세트 정확도: 96.426%\n",
      "Epoch: 0063 cost =  0.003922936 \t검증 세트 정확도: 96.743%\n",
      "Epoch: 0064 cost =  0.003272177 \t검증 세트 정확도: 96.982%\n",
      "Epoch: 0065 cost =  0.003192599 \t검증 세트 정확도: 97.061%\n",
      "Epoch: 0066 cost =  0.003343364 \t검증 세트 정확도: 97.299%\n",
      "Epoch: 0067 cost =  0.003276872 \t검증 세트 정확도: 96.823%\n",
      "Epoch: 0068 cost =  0.003126965 \t검증 세트 정확도: 96.743%\n",
      "Epoch: 0069 cost =  0.003591467 \t검증 세트 정확도: 95.552%\n",
      "Epoch: 0070 cost =  0.003495862 \t검증 세트 정확도: 96.823%\n",
      "Epoch: 0071 cost =  0.003433587 \t검증 세트 정확도: 96.902%\n",
      "Epoch: 0072 cost =  0.003333805 \t검증 세트 정확도: 97.141%\n",
      "Epoch: 0073 cost =  0.003245984 \t검증 세트 정확도: 96.426%\n",
      "Epoch: 0074 cost =  0.003242154 \t검증 세트 정확도: 96.664%\n",
      "Epoch: 0075 cost =  0.003229952 \t검증 세트 정확도: 96.108%\n",
      "Epoch: 0076 cost =  0.002925658 \t검증 세트 정확도: 97.379%\n",
      "Epoch: 0077 cost =  0.003090660 \t검증 세트 정확도: 96.267%\n",
      "Epoch: 0078 cost =  0.002904998 \t검증 세트 정확도: 96.346%\n",
      "Epoch: 0079 cost =  0.003223248 \t검증 세트 정확도: 96.902%\n",
      "Epoch: 0080 cost =  0.003057757 \t검증 세트 정확도: 97.379%\n",
      "Epoch: 0081 cost =  0.003114843 \t검증 세트 정확도: 97.220%\n",
      "Epoch: 0082 cost =  0.003090286 \t검증 세트 정확도: 97.061%\n",
      "Epoch: 0083 cost =  0.003012319 \t검증 세트 정확도: 96.823%\n",
      "Epoch: 0084 cost =  0.003043253 \t검증 세트 정확도: 97.141%\n",
      "Epoch: 0085 cost =  0.002922967 \t검증 세트 정확도: 97.061%\n",
      "Epoch: 0086 cost =  0.002928397 \t검증 세트 정확도: 96.982%\n",
      "Epoch: 0087 cost =  0.002925888 \t검증 세트 정확도: 97.379%\n",
      "Epoch: 0088 cost =  0.002864112 \t검증 세트 정확도: 97.299%\n",
      "Epoch: 0089 cost =  0.002767581 \t검증 세트 정확도: 96.823%\n",
      "Epoch: 0090 cost =  0.002784099 \t검증 세트 정확도: 96.982%\n",
      "Epoch: 0091 cost =  0.002589857 \t검증 세트 정확도: 96.585%\n",
      "Epoch: 0092 cost =  0.002613291 \t검증 세트 정확도: 96.426%\n",
      "Epoch: 0093 cost =  0.002662380 \t검증 세트 정확도: 96.982%\n",
      "Epoch: 0094 cost =  0.002578742 \t검증 세트 정확도: 97.299%\n",
      "Epoch: 0095 cost =  0.002683187 \t검증 세트 정확도: 97.617%\n",
      "Epoch: 0096 cost =  0.002730623 \t검증 세트 정확도: 97.299%\n",
      "Epoch: 0097 cost =  0.002678262 \t검증 세트 정확도: 97.379%\n",
      "Epoch: 0098 cost =  0.002536282 \t검증 세트 정확도: 96.664%\n",
      "Epoch: 0099 cost =  0.002700563 \t검증 세트 정확도: 97.220%\n",
      "Epoch: 0100 cost =  0.002241163 \t검증 세트 정확도: 96.982%\n",
      "Epoch: 0101 cost =  0.002407731 \t검증 세트 정확도: 97.617%\n",
      "Epoch: 0102 cost =  0.002792766 \t검증 세트 정확도: 96.823%\n",
      "Epoch: 0103 cost =  0.003175969 \t검증 세트 정확도: 97.299%\n",
      "Epoch: 0104 cost =  0.002795093 \t검증 세트 정확도: 96.426%\n",
      "Epoch: 0105 cost =  0.002821940 \t검증 세트 정확도: 96.743%\n",
      "Epoch: 0106 cost =  0.003193026 \t검증 세트 정확도: 96.823%\n",
      "Epoch: 0107 cost =  0.002779483 \t검증 세트 정확도: 97.299%\n",
      "Epoch: 0108 cost =  0.002567324 \t검증 세트 정확도: 97.538%\n",
      "Epoch: 0109 cost =  0.002719114 \t검증 세트 정확도: 96.505%\n",
      "Epoch: 0110 cost =  0.002771944 \t검증 세트 정확도: 97.379%\n",
      "Epoch: 0111 cost =  0.002493909 \t검증 세트 정확도: 97.379%\n",
      "Epoch: 0112 cost =  0.002554744 \t검증 세트 정확도: 97.379%\n",
      "Epoch: 0113 cost =  0.002608311 \t검증 세트 정확도: 95.790%\n",
      "Epoch: 0114 cost =  0.002731852 \t검증 세트 정확도: 94.122%\n",
      "Epoch: 0115 cost =  0.002374090 \t검증 세트 정확도: 95.314%\n",
      "Epoch: 0116 cost =  0.002577819 \t검증 세트 정확도: 97.299%\n",
      "Epoch: 0117 cost =  0.002778279 \t검증 세트 정확도: 97.617%\n",
      "Epoch: 0118 cost =  0.002442907 \t검증 세트 정확도: 97.220%\n",
      "Epoch: 0119 cost =  0.002489337 \t검증 세트 정확도: 97.220%\n",
      "Epoch: 0120 cost =  0.002657121 \t검증 세트 정확도: 97.299%\n",
      "Epoch: 0121 cost =  0.002357401 \t검증 세트 정확도: 97.379%\n",
      "Epoch: 0122 cost =  0.003045624 \t검증 세트 정확도: 97.538%\n",
      "Epoch: 0123 cost =  0.002816708 \t검증 세트 정확도: 95.552%\n",
      "Epoch: 0124 cost =  0.003050868 \t검증 세트 정확도: 97.538%\n",
      "Epoch: 0125 cost =  0.002424102 \t검증 세트 정확도: 97.538%\n",
      "Epoch: 0126 cost =  0.002458464 \t검증 세트 정확도: 97.299%\n",
      "Epoch: 0127 cost =  0.003288514 \t검증 세트 정확도: 96.585%\n",
      "Epoch: 0128 cost =  0.002664803 \t검증 세트 정확도: 97.379%\n",
      "Epoch: 0129 cost =  0.002458766 \t검증 세트 정확도: 97.776%\n",
      "Epoch: 0130 cost =  0.002270898 \t검증 세트 정확도: 97.141%\n",
      "Epoch: 0131 cost =  0.002878710 \t검증 세트 정확도: 97.299%\n",
      "Epoch: 0132 cost =  0.002364431 \t검증 세트 정확도: 96.585%\n",
      "Epoch: 0133 cost =  0.002250818 \t검증 세트 정확도: 97.855%\n",
      "Epoch: 0134 cost =  0.002448150 \t검증 세트 정확도: 96.743%\n",
      "Epoch: 0135 cost =  0.002204066 \t검증 세트 정확도: 97.379%\n",
      "Epoch: 0136 cost =  0.002294185 \t검증 세트 정확도: 97.379%\n",
      "Epoch: 0137 cost =  0.002419516 \t검증 세트 정확도: 97.538%\n",
      "Epoch: 0138 cost =  0.002673028 \t검증 세트 정확도: 97.379%\n",
      "Epoch: 0139 cost =  0.002274288 \t검증 세트 정확도: 97.697%\n",
      "Epoch: 0140 cost =  0.002606531 \t검증 세트 정확도: 96.664%\n",
      "Epoch: 0141 cost =  0.002397225 \t검증 세트 정확도: 97.697%\n",
      "Epoch: 0142 cost =  0.002258873 \t검증 세트 정확도: 97.141%\n",
      "Epoch: 0143 cost =  0.002212409 \t검증 세트 정확도: 98.014%\n",
      "Epoch: 0144 cost =  0.002240879 \t검증 세트 정확도: 97.697%\n",
      "Epoch: 0145 cost =  0.002196415 \t검증 세트 정확도: 97.538%\n",
      "Epoch: 0146 cost =  0.002172290 \t검증 세트 정확도: 97.220%\n",
      "Epoch: 0147 cost =  0.002413067 \t검증 세트 정확도: 97.379%\n",
      "Epoch: 0148 cost =  0.002320881 \t검증 세트 정확도: 97.379%\n",
      "Epoch: 0149 cost =  0.002479274 \t검증 세트 정확도: 97.538%\n",
      "Epoch: 0150 cost =  0.002897884 \t검증 세트 정확도: 96.029%\n",
      "Epoch: 0151 cost =  0.002693375 \t검증 세트 정확도: 96.664%\n",
      "Epoch: 0152 cost =  0.002821212 \t검증 세트 정확도: 97.061%\n",
      "Epoch: 0153 cost =  0.002301819 \t검증 세트 정확도: 97.379%\n",
      "Epoch: 0154 cost =  0.002093686 \t검증 세트 정확도: 97.061%\n",
      "Epoch: 0155 cost =  0.002666501 \t검증 세트 정확도: 97.141%\n",
      "Epoch: 0156 cost =  0.002255980 \t검증 세트 정확도: 97.617%\n",
      "Epoch: 0157 cost =  0.001921873 \t검증 세트 정확도: 97.299%\n",
      "Epoch: 0158 cost =  0.002099174 \t검증 세트 정확도: 97.776%\n"
     ]
    },
    {
     "name": "stdout",
     "output_type": "stream",
     "text": [
      "Epoch: 0159 cost =  0.001975095 \t검증 세트 정확도: 97.776%\n",
      "Epoch: 0160 cost =  0.002006073 \t검증 세트 정확도: 97.855%\n",
      "Epoch: 0161 cost =  0.002007493 \t검증 세트 정확도: 98.173%\n",
      "Epoch: 0162 cost =  0.002279371 \t검증 세트 정확도: 97.458%\n",
      "Epoch: 0163 cost =  0.002121837 \t검증 세트 정확도: 97.458%\n",
      "Epoch: 0164 cost =  0.002595594 \t검증 세트 정확도: 95.473%\n",
      "Epoch: 0165 cost =  0.002518616 \t검증 세트 정확도: 97.458%\n",
      "Epoch: 0166 cost =  0.002231641 \t검증 세트 정확도: 97.855%\n",
      "Epoch: 0167 cost =  0.002402985 \t검증 세트 정확도: 97.220%\n",
      "Epoch: 0168 cost =  0.002434656 \t검증 세트 정확도: 97.776%\n",
      "Epoch: 0169 cost =  0.002652993 \t검증 세트 정확도: 96.664%\n",
      "Epoch: 0170 cost =  0.002593531 \t검증 세트 정확도: 97.617%\n",
      "Epoch: 0171 cost =  0.002373710 \t검증 세트 정확도: 97.458%\n",
      "Epoch: 0172 cost =  0.002407863 \t검증 세트 정확도: 92.693%\n",
      "Epoch: 0173 cost =  0.002554306 \t검증 세트 정확도: 97.538%\n",
      "Epoch: 0174 cost =  0.001997279 \t검증 세트 정확도: 97.855%\n",
      "Epoch: 0175 cost =  0.001947345 \t검증 세트 정확도: 97.220%\n",
      "Epoch: 0176 cost =  0.001994654 \t검증 세트 정확도: 97.776%\n",
      "Epoch: 0177 cost =  0.001927990 \t검증 세트 정확도: 97.617%\n",
      "Epoch: 0178 cost =  0.001818982 \t검증 세트 정확도: 97.855%\n",
      "Epoch: 0179 cost =  0.002461192 \t검증 세트 정확도: 96.982%\n",
      "Epoch: 0180 cost =  0.002259232 \t검증 세트 정확도: 96.823%\n",
      "Epoch: 0181 cost =  0.002088802 \t검증 세트 정확도: 96.664%\n",
      "Epoch: 0182 cost =  0.002510367 \t검증 세트 정확도: 96.823%\n",
      "Epoch: 0183 cost =  0.002113698 \t검증 세트 정확도: 97.141%\n",
      "Epoch: 0184 cost =  0.002203674 \t검증 세트 정확도: 97.855%\n",
      "Epoch: 0185 cost =  0.002655937 \t검증 세트 정확도: 97.855%\n",
      "Epoch: 0186 cost =  0.002773678 \t검증 세트 정확도: 97.697%\n",
      "Epoch: 0187 cost =  0.002629391 \t검증 세트 정확도: 97.141%\n",
      "Epoch: 0188 cost =  0.002587313 \t검증 세트 정확도: 97.220%\n",
      "Epoch: 0189 cost =  0.002129862 \t검증 세트 정확도: 97.617%\n",
      "Epoch: 0190 cost =  0.002368041 \t검증 세트 정확도: 97.141%\n",
      "Epoch: 0191 cost =  0.002297531 \t검증 세트 정확도: 97.935%\n",
      "Epoch: 0192 cost =  0.002367705 \t검증 세트 정확도: 97.379%\n",
      "Epoch: 0193 cost =  0.002200797 \t검증 세트 정확도: 97.299%\n",
      "Epoch: 0194 cost =  0.002184999 \t검증 세트 정확도: 97.697%\n",
      "Epoch: 0195 cost =  0.001964459 \t검증 세트 정확도: 97.141%\n",
      "Epoch: 0196 cost =  0.001931421 \t검증 세트 정확도: 97.141%\n",
      "Epoch: 0197 cost =  0.002138507 \t검증 세트 정확도: 97.935%\n",
      "Epoch: 0198 cost =  0.002506982 \t검증 세트 정확도: 97.617%\n",
      "Epoch: 0199 cost =  0.002277079 \t검증 세트 정확도: 96.982%\n"
     ]
    },
    {
     "data": {
      "text/plain": [
       "'../../model/Dense/4_dense_model'"
      ]
     },
     "execution_count": 25,
     "metadata": {},
     "output_type": "execute_result"
    }
   ],
   "source": [
    "#original \n",
    "batch_size = 32\n",
    "cost_history = np.empty(shape=[1], dtype=float)\n",
    "with tf.device(\"/gpu:0\"):\n",
    "    for epoch in range(1,200):\n",
    "        avg_cost = 0    \n",
    "#    total_batch = int(X_train.shape[0] / batch_size)\n",
    "        for i in range( int(math.ceil(len(X_train)/batch_size)) ): # 배치 사이즈로 나눈 나머지 다 돌 수 있게 \n",
    "            x_ = X_train[batch_size * i: batch_size * (i + 1)]\n",
    "            y_ = y_train[batch_size * i: batch_size * (i + 1)]\n",
    "            feed_dict={X:x_, Y:y_, keep_prob:0.6}    \n",
    "            c, _ = sess.run([cost, optimizer], feed_dict=feed_dict)\n",
    "            cost_history = np.append(cost_history,cost)\n",
    "            avg_cost += c\n",
    "            #accuracy_val = sess.run([accuracy], feed_dict={X:X_val, Y:y_val\n",
    "        val_pred = sess.run(tf.argmax(logits,1),feed_dict={X: X_val , keep_prob:1})  \n",
    "        val_true = sess.run(tf.argmax(y_val,1))\n",
    "        accuracy_val = accuracy_score(val_pred, val_true)\n",
    "        print('Epoch:', '%04d' % (epoch), 'cost = ', '{:.9f}'.format(avg_cost / len(X_train)), \"\\t검증 세트 정확도: {:.3f}%\".format(accuracy_val * 100),)\n",
    "saver.save(sess, model_path)"
   ]
  },
  {
   "cell_type": "markdown",
   "metadata": {},
   "source": [
    "## Prediction"
   ]
  },
  {
   "cell_type": "code",
   "execution_count": 26,
   "metadata": {},
   "outputs": [],
   "source": [
    "y_pred = sess.run(tf.argmax(logits,1),feed_dict={X: X_test , keep_prob:1}) \n",
    "y_true = sess.run(tf.argmax(y_test,1))"
   ]
  },
  {
   "cell_type": "code",
   "execution_count": 27,
   "metadata": {},
   "outputs": [
    {
     "name": "stdout",
     "output_type": "stream",
     "text": [
      "F-Score: 0.972\n",
      "Accuracy:  0.9720457433290979\n",
      "              precision    recall  f1-score   support\n",
      "\n",
      "           0       1.00      0.99      0.99      1118\n",
      "           1       0.92      0.89      0.91       104\n",
      "           2       0.76      0.96      0.85       117\n",
      "           3       1.00      0.94      0.96       235\n",
      "\n",
      "   micro avg       0.97      0.97      0.97      1574\n",
      "   macro avg       0.92      0.94      0.93      1574\n",
      "weighted avg       0.98      0.97      0.97      1574\n",
      "\n",
      "[[1105    1   12    0]\n",
      " [   0   93   11    0]\n",
      " [   0    4  112    1]\n",
      " [   0    3   12  220]]\n"
     ]
    }
   ],
   "source": [
    "# Ptint Result\n",
    "\n",
    "from sklearn.metrics import precision_recall_fscore_support\n",
    "p,r,f,s = precision_recall_fscore_support(y_true, y_pred, average='micro')\n",
    "print(\"F-Score:\", round(f,3))\n",
    "from sklearn.metrics import accuracy_score\n",
    "print(\"Accuracy: \", accuracy_score(y_true, y_pred))\n",
    "\n",
    "from sklearn.metrics import classification_report\n",
    "print(classification_report(y_true, y_pred))\n",
    "from sklearn.metrics import confusion_matrix\n",
    "print(confusion_matrix(y_true, y_pred))"
   ]
  }
 ],
 "metadata": {
  "kernelspec": {
   "display_name": "Python 3",
   "language": "python",
   "name": "python3"
  },
  "language_info": {
   "codemirror_mode": {
    "name": "ipython",
    "version": 3
   },
   "file_extension": ".py",
   "mimetype": "text/x-python",
   "name": "python",
   "nbconvert_exporter": "python",
   "pygments_lexer": "ipython3",
   "version": "3.6.7"
  }
 },
 "nbformat": 4,
 "nbformat_minor": 2
}
