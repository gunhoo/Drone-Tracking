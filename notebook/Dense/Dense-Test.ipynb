{
 "cells": [
  {
   "cell_type": "code",
   "execution_count": 1,
   "metadata": {
    "scrolled": false
   },
   "outputs": [],
   "source": [
    "import matplotlib.pyplot as plt\n",
    "%matplotlib inline\n",
    "import IPython.display\n",
    "import librosa.display\n",
    "import numpy as np\n",
    "import librosa\n",
    "import tensorflow as tf\n",
    "import glob"
   ]
  },
  {
   "cell_type": "code",
   "execution_count": 2,
   "metadata": {},
   "outputs": [],
   "source": [
    "drone_path = '../../../1mtmp/*.wav'\n",
    "background_path = '../../data/test_background/second*.wav'\n",
    "\n",
    "drone_files = glob.glob(drone_path)\n",
    "background_files = glob.glob(background_path)"
   ]
  },
  {
   "cell_type": "code",
   "execution_count": 3,
   "metadata": {},
   "outputs": [],
   "source": [
    "CHUNK_SIZE = 8192\n",
    "SR = 22050\n",
    "N_MFCC = 16"
   ]
  },
  {
   "cell_type": "code",
   "execution_count": 4,
   "metadata": {},
   "outputs": [],
   "source": [
    "def load(files, sr=22050):\n",
    "    [raw, sr] = librosa.load(files[0], sr=sr)\n",
    "    for f in files[1:]:\n",
    "        [array, sr] = librosa.load(f, sr=sr)\n",
    "        raw = np.hstack((raw, array))\n",
    "    print(raw.shape)\n",
    "    return raw"
   ]
  },
  {
   "cell_type": "code",
   "execution_count": 5,
   "metadata": {},
   "outputs": [
    {
     "name": "stdout",
     "output_type": "stream",
     "text": [
      "(512000,)\n",
      "(20480,)\n"
     ]
    }
   ],
   "source": [
    "drone_raw = load(drone_files)\n",
    "background_raw = load(background_files)"
   ]
  },
  {
   "cell_type": "code",
   "execution_count": 6,
   "metadata": {},
   "outputs": [],
   "source": [
    "def mfcc4(raw, label, chunk_size=8192, window_size=4096, sr=22050, n_mfcc=16, n_frame=16):\n",
    "    mfcc = np.empty((0, n_mfcc, n_frame))\n",
    "    y = []\n",
    "    print(raw.shape)\n",
    "    for i in range(0, len(raw), chunk_size//2):\n",
    "        mfcc_slice = librosa.feature.mfcc(raw[i:i+chunk_size], sr=sr, n_mfcc=n_mfcc) #n_mfcc,17\n",
    "        if mfcc_slice.shape[1] < 17:\n",
    "            print(i,\">small end:\", mfcc_slice.shape)\n",
    "            continue\n",
    "        mfcc_slice = mfcc_slice[:,:-1]\n",
    "        mfcc_slice = mfcc_slice.reshape((1, mfcc_slice.shape[0], mfcc_slice.shape[1]))\n",
    "        mfcc = np.vstack((mfcc, mfcc_slice))\n",
    "        y.append(label)\n",
    "    y = np.array(y)\n",
    "    return mfcc, y"
   ]
  },
  {
   "cell_type": "code",
   "execution_count": 7,
   "metadata": {},
   "outputs": [
    {
     "name": "stdout",
     "output_type": "stream",
     "text": [
      "(512000,)\n",
      "507904 >small end: (16, 9)\n",
      "(20480,)\n",
      "16384 >small end: (16, 9)\n",
      "(124, 16, 16) (124,)\n",
      "(4, 16, 16) (4,)\n"
     ]
    }
   ],
   "source": [
    "mfcc_drone, y_drone = mfcc4(drone_raw, 1)\n",
    "mfcc_background, y_background = mfcc4(background_raw, 0)\n",
    "\n",
    "print(mfcc_drone.shape, y_drone.shape)\n",
    "print(mfcc_background.shape, y_background.shape)"
   ]
  },
  {
   "cell_type": "code",
   "execution_count": 8,
   "metadata": {},
   "outputs": [
    {
     "name": "stdout",
     "output_type": "stream",
     "text": [
      "(128, 16, 16) (128,)\n"
     ]
    }
   ],
   "source": [
    "X = np.concatenate((mfcc_drone, mfcc_background), axis=0)\n",
    "y = np.hstack((y_drone, y_background))\n",
    "print(X.shape, y.shape)"
   ]
  },
  {
   "cell_type": "code",
   "execution_count": 9,
   "metadata": {},
   "outputs": [
    {
     "name": "stdout",
     "output_type": "stream",
     "text": [
      "(128, 256)\n",
      "<class 'numpy.ndarray'>\n"
     ]
    }
   ],
   "source": [
    "X_test = X.reshape(X.shape[0],-1)\n",
    "print(X_test.shape)\n",
    "print(type(X_test))"
   ]
  },
  {
   "cell_type": "code",
   "execution_count": 10,
   "metadata": {},
   "outputs": [],
   "source": [
    "#X_train2 = X.reshape(X.shape[0], X.shape[1], X.shape[2], 1) ############# 리셰입 해야 "
   ]
  },
  {
   "cell_type": "code",
   "execution_count": 11,
   "metadata": {},
   "outputs": [
    {
     "name": "stdout",
     "output_type": "stream",
     "text": [
      "(128, 2)\n"
     ]
    }
   ],
   "source": [
    "n_labels = y.shape[0]\n",
    "n_unique_labels = 2\n",
    "y_encoded = np.zeros((n_labels, n_unique_labels))\n",
    "y_encoded[np.arange(n_labels), y] = 1\n",
    "print(y_encoded.shape)"
   ]
  },
  {
   "cell_type": "markdown",
   "metadata": {},
   "source": [
    "# test init"
   ]
  },
  {
   "cell_type": "code",
   "execution_count": 12,
   "metadata": {},
   "outputs": [],
   "source": [
    "n_mfcc = 16\n",
    "n_frame = 16\n",
    "n_classes = 2\n",
    "n_channels = 1\n",
    "\n",
    "kernel_size = 3\n",
    "stride = 1\n",
    "pad = \"SAME\"\n",
    "\n",
    "learning_rate = 0.0002"
   ]
  },
  {
   "cell_type": "code",
   "execution_count": 13,
   "metadata": {},
   "outputs": [],
   "source": [
    "X = tf.placeholder(tf.float32, shape=[None,n_mfcc*n_frame*n_channels])\n",
    "#X = tf.reshape(X, [-1, n_mfcc, n_frame, n_channels]) #fully connected에는 리셰입 안해도 된다 \n",
    "Y = tf.placeholder(tf.float32, shape=[None,n_classes])\n",
    "\n",
    "keep_prob = tf.placeholder(tf.float32)\n",
    "\n",
    "#dense2 = tf.layers.dense(inputs=flat, units=625, activation=tf.nn.relu)\n",
    "#dropout2 = tf.layers.dropout(inputs=dense2, rate=0.5, training=True)\n",
    "dense1 = tf.layers.dense(inputs=X, units=256, activation=tf.nn.relu)\n",
    "dropout1 = tf.nn.dropout(dense1, keep_prob=keep_prob)\n",
    "dense2 = tf.layers.dense(inputs=dropout1, units=256, activation=tf.nn.relu)\n",
    "dropout2 = tf.nn.dropout(dense2, keep_prob=keep_prob)\n",
    "dense3 = tf.layers.dense(inputs=dropout2, units=512, activation=tf.nn.relu)\n",
    "dropout3 = tf.nn.dropout(dense3, keep_prob=keep_prob)\n",
    "#이거 지워보고 돌려보고 \n",
    "dense4 = tf.layers.dense(inputs=dropout3, units=512, activation=tf.nn.relu)\n",
    "dropout4 = tf.nn.dropout(dense4, keep_prob=keep_prob)\n",
    "dense5 = tf.layers.dense(inputs=dropout4, units=256, activation=tf.nn.relu)\n",
    "dropout5 = tf.nn.dropout(dense5, keep_prob=keep_prob)\n",
    "\n",
    "logits= tf.layers.dense(inputs=dropout5, units=2)"
   ]
  },
  {
   "cell_type": "code",
   "execution_count": 14,
   "metadata": {},
   "outputs": [],
   "source": [
    "cost = tf.reduce_mean(tf.nn.softmax_cross_entropy_with_logits_v2(logits=logits, labels=Y))\n",
    "optimizer = tf.train.AdamOptimizer(learning_rate=learning_rate).minimize(cost)"
   ]
  },
  {
   "cell_type": "code",
   "execution_count": 15,
   "metadata": {
    "scrolled": false
   },
   "outputs": [
    {
     "name": "stdout",
     "output_type": "stream",
     "text": [
      "INFO:tensorflow:Restoring parameters from ../../model/Dense/dense_model\n"
     ]
    }
   ],
   "source": [
    "# Model Save\n",
    "sess=tf.Session()\n",
    "saver = tf.train.Saver()\n",
    "saver.restore(sess, '../../model/Dense/dense_model')"
   ]
  },
  {
   "cell_type": "code",
   "execution_count": 16,
   "metadata": {
    "scrolled": true
   },
   "outputs": [
    {
     "name": "stdout",
     "output_type": "stream",
     "text": [
      "                0             1\n",
      "0    1.246278e-30  1.000000e+00\n",
      "1    1.657266e-22  1.000000e+00\n",
      "2    2.347753e-22  1.000000e+00\n",
      "3    3.692449e-22  1.000000e+00\n",
      "4    3.101794e-30  1.000000e+00\n",
      "5    0.000000e+00  1.000000e+00\n",
      "6    8.885591e-34  1.000000e+00\n",
      "7    6.013129e-30  1.000000e+00\n",
      "8    4.915927e-36  1.000000e+00\n",
      "9    3.026734e-35  1.000000e+00\n",
      "10   5.558082e-20  1.000000e+00\n",
      "11   5.692480e-17  1.000000e+00\n",
      "12   6.516880e-18  1.000000e+00\n",
      "13   5.954956e-18  1.000000e+00\n",
      "14   1.500827e-24  1.000000e+00\n",
      "15   6.272971e-23  1.000000e+00\n",
      "16   1.373752e-25  1.000000e+00\n",
      "17   1.865743e-26  1.000000e+00\n",
      "18   3.640071e-16  1.000000e+00\n",
      "19   3.531278e-26  1.000000e+00\n",
      "20   5.815701e-33  1.000000e+00\n",
      "21   1.360051e-29  1.000000e+00\n",
      "22   5.610120e-28  1.000000e+00\n",
      "23   2.409635e-29  1.000000e+00\n",
      "24   8.432815e-28  1.000000e+00\n",
      "25   2.947738e-25  1.000000e+00\n",
      "26   8.122502e-16  1.000000e+00\n",
      "27   1.766674e-09  1.000000e+00\n",
      "28   7.744599e-10  1.000000e+00\n",
      "29   6.495608e-26  1.000000e+00\n",
      "30   8.728336e-33  1.000000e+00\n",
      "31   2.594125e-33  1.000000e+00\n",
      "32   1.035009e-26  1.000000e+00\n",
      "33   4.061048e-27  1.000000e+00\n",
      "34   1.894270e-35  1.000000e+00\n",
      "35   0.000000e+00  1.000000e+00\n",
      "36   2.066982e-37  1.000000e+00\n",
      "37   1.400306e-34  1.000000e+00\n",
      "38   1.887022e-34  1.000000e+00\n",
      "39   1.893537e-38  1.000000e+00\n",
      "40   3.444604e-37  1.000000e+00\n",
      "41   2.365255e-37  1.000000e+00\n",
      "42   1.312843e-35  1.000000e+00\n",
      "43   1.971197e-32  1.000000e+00\n",
      "44   1.135008e-32  1.000000e+00\n",
      "45   4.272596e-36  1.000000e+00\n",
      "46   7.909179e-37  1.000000e+00\n",
      "47   0.000000e+00  1.000000e+00\n",
      "48   0.000000e+00  1.000000e+00\n",
      "49   7.555344e-37  1.000000e+00\n",
      "50   3.090796e-24  1.000000e+00\n",
      "51   4.818621e-28  1.000000e+00\n",
      "52   2.701676e-25  1.000000e+00\n",
      "53   1.728588e-25  1.000000e+00\n",
      "54   3.292005e-32  1.000000e+00\n",
      "55   0.000000e+00  1.000000e+00\n",
      "56   0.000000e+00  1.000000e+00\n",
      "57   0.000000e+00  1.000000e+00\n",
      "58   0.000000e+00  1.000000e+00\n",
      "59   8.952911e-37  1.000000e+00\n",
      "60   1.815341e-27  1.000000e+00\n",
      "61   9.703388e-32  1.000000e+00\n",
      "62   1.270423e-37  1.000000e+00\n",
      "63   1.468463e-37  1.000000e+00\n",
      "64   9.449172e-35  1.000000e+00\n",
      "65   0.000000e+00  1.000000e+00\n",
      "66   4.291886e-37  1.000000e+00\n",
      "67   5.072208e-36  1.000000e+00\n",
      "68   9.261179e-35  1.000000e+00\n",
      "69   2.098642e-31  1.000000e+00\n",
      "70   4.154112e-23  1.000000e+00\n",
      "71   4.473500e-26  1.000000e+00\n",
      "72   7.362175e-33  1.000000e+00\n",
      "73   3.996830e-38  1.000000e+00\n",
      "74   0.000000e+00  1.000000e+00\n",
      "75   1.187180e-38  1.000000e+00\n",
      "76   3.861501e-36  1.000000e+00\n",
      "77   4.407003e-33  1.000000e+00\n",
      "78   8.454069e-29  1.000000e+00\n",
      "79   1.754500e-29  1.000000e+00\n",
      "80   8.727005e-33  1.000000e+00\n",
      "81   1.555154e-37  1.000000e+00\n",
      "82   3.058826e-36  1.000000e+00\n",
      "83   2.036834e-35  1.000000e+00\n",
      "84   2.728674e-35  1.000000e+00\n",
      "85   4.731694e-37  1.000000e+00\n",
      "86   1.143912e-35  1.000000e+00\n",
      "87   6.246623e-33  1.000000e+00\n",
      "88   4.646791e-26  1.000000e+00\n",
      "89   5.309570e-28  1.000000e+00\n",
      "90   0.000000e+00  1.000000e+00\n",
      "91   1.073709e-34  1.000000e+00\n",
      "92   1.102116e-31  1.000000e+00\n",
      "93   1.753080e-31  1.000000e+00\n",
      "94   2.491700e-35  1.000000e+00\n",
      "95   6.476319e-38  1.000000e+00\n",
      "96   0.000000e+00  1.000000e+00\n",
      "97   5.440766e-38  1.000000e+00\n",
      "98   2.843273e-38  1.000000e+00\n",
      "99   1.159994e-30  1.000000e+00\n",
      "100  1.097839e-19  1.000000e+00\n",
      "101  3.857377e-29  1.000000e+00\n",
      "102  9.655123e-26  1.000000e+00\n",
      "103  6.308737e-20  1.000000e+00\n",
      "104  2.540606e-32  1.000000e+00\n",
      "105  0.000000e+00  1.000000e+00\n",
      "106  0.000000e+00  1.000000e+00\n",
      "107  0.000000e+00  1.000000e+00\n",
      "108  0.000000e+00  1.000000e+00\n",
      "109  8.914088e-31  1.000000e+00\n",
      "110  2.379391e-22  1.000000e+00\n",
      "111  1.178929e-18  1.000000e+00\n",
      "112  5.174782e-18  1.000000e+00\n",
      "113  9.315716e-11  1.000000e+00\n",
      "114  6.047963e-21  1.000000e+00\n",
      "115  1.061876e-35  1.000000e+00\n",
      "116  6.673339e-31  1.000000e+00\n",
      "117  1.441352e-22  1.000000e+00\n",
      "118  1.687025e-18  1.000000e+00\n",
      "119  6.800614e-19  1.000000e+00\n",
      "120  3.681158e-28  1.000000e+00\n",
      "121  2.731507e-28  1.000000e+00\n",
      "122  2.056692e-32  1.000000e+00\n",
      "123  9.018389e-35  1.000000e+00\n",
      "124  1.000000e+00  1.820265e-18\n",
      "125  1.000000e+00  3.503287e-20\n",
      "126  1.000000e+00  6.880220e-21\n",
      "127  1.000000e+00  1.048344e-20\n"
     ]
    }
   ],
   "source": [
    "# Prediction\n",
    "y_test = sess.run(tf.nn.softmax(logits), feed_dict={X: X_test, keep_prob:1})\n",
    "y_pred = sess.run(tf.argmax(logits,1),feed_dict={X: X_test,keep_prob:1 })\n",
    "y_true = sess.run(tf.argmax(y_encoded,1))\n",
    "\n",
    "import pandas as pd\n",
    "pd.options.display.max_rows = 4000\n",
    "print(pd.DataFrame(y_test))"
   ]
  },
  {
   "cell_type": "code",
   "execution_count": 17,
   "metadata": {},
   "outputs": [
    {
     "name": "stdout",
     "output_type": "stream",
     "text": [
      "124.0 1.0\n"
     ]
    }
   ],
   "source": [
    "sum = 0\n",
    "for i in range(0, len(y_test)-4):\n",
    "    sum = sum + y_test[i][1]\n",
    "print(sum, sum/(len(y_test)-4))"
   ]
  },
  {
   "cell_type": "code",
   "execution_count": 18,
   "metadata": {
    "scrolled": false
   },
   "outputs": [
    {
     "name": "stdout",
     "output_type": "stream",
     "text": [
      "F-Score: 1.0\n",
      "Accuracy:  1.0\n",
      "              precision    recall  f1-score   support\n",
      "\n",
      "           0       1.00      1.00      1.00         4\n",
      "           1       1.00      1.00      1.00       124\n",
      "\n",
      "   micro avg       1.00      1.00      1.00       128\n",
      "   macro avg       1.00      1.00      1.00       128\n",
      "weighted avg       1.00      1.00      1.00       128\n",
      "\n",
      "[[  4   0]\n",
      " [  0 124]]\n"
     ]
    },
    {
     "data": {
      "image/png": "[encoded data removed]",
      "text/plain": [
       "<Figure size 1080x648 with 1 Axes>"
      ]
     },
     "metadata": {
      "needs_background": "light"
     },
     "output_type": "display_data"
    },
    {
     "data": {
      "image/png": "[encoded data removed]",
      "text/plain": [
       "<Figure size 1080x648 with 1 Axes>"
      ]
     },
     "metadata": {
      "needs_background": "light"
     },
     "output_type": "display_data"
    }
   ],
   "source": [
    "# Print Result\n",
    "\n",
    "from sklearn.metrics import precision_recall_fscore_support\n",
    "y_true = y_true\n",
    "y_pred = y_pred\n",
    "\n",
    "p,r,f,s = precision_recall_fscore_support(y_true, y_pred, average='micro')\n",
    "print(\"F-Score:\", round(f,2))\n",
    "from sklearn.metrics import accuracy_score\n",
    "print(\"Accuracy: \", accuracy_score(y_true, y_pred))\n",
    "\n",
    "\n",
    "fig = plt.figure(figsize=(15,9))\n",
    "ax = fig.add_subplot(1,1,1)\n",
    "ax.plot(np.linspace(0,len(y_pred), len(y_pred)),y_true, 'x')\n",
    "\n",
    "fig = plt.figure(figsize=(15,9))\n",
    "ax = fig.add_subplot(1,1,1)\n",
    "ax.plot(np.linspace(0,len(y_pred), len(y_pred)),y_pred, 'x')\n",
    "\n",
    "from sklearn.metrics import classification_report\n",
    "print(classification_report(y_true, y_pred))\n",
    "from sklearn.metrics import confusion_matrix\n",
    "print(confusion_matrix(y_true, y_pred))"
   ]
  },
  {
   "cell_type": "code",
   "execution_count": null,
   "metadata": {},
   "outputs": [],
   "source": []
  },
  {
   "cell_type": "code",
   "execution_count": null,
   "metadata": {},
   "outputs": [],
   "source": []
  }
 ],
 "metadata": {
  "kernelspec": {
   "display_name": "Python 3",
   "language": "python",
   "name": "python3"
  },
  "language_info": {
   "codemirror_mode": {
    "name": "ipython",
    "version": 3
   },
   "file_extension": ".py",
   "mimetype": "text/x-python",
   "name": "python",
   "nbconvert_exporter": "python",
   "pygments_lexer": "ipython3",
   "version": "3.6.7"
  }
 },
 "nbformat": 4,
 "nbformat_minor": 2
}
