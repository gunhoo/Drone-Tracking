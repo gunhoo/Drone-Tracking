{
 "cells": [
  {
   "cell_type": "code",
   "execution_count": 1,
   "metadata": {
    "scrolled": true
   },
   "outputs": [],
   "source": [
    "import matplotlib.pyplot as plt\n",
    "%matplotlib inline\n",
    "import IPython.display\n",
    "import librosa.display\n",
    "import numpy as np\n",
    "import librosa\n",
    "import tensorflow as tf\n",
    "import glob"
   ]
  },
  {
   "cell_type": "markdown",
   "metadata": {},
   "source": [
    "### If you have been save the data, you don't have to preprocessing and save the data"
   ]
  },
  {
   "cell_type": "code",
   "execution_count": 2,
   "metadata": {},
   "outputs": [],
   "source": [
    "drone_path = '../../second.wav'\n",
    "background_path = '../../test.wav'\n",
    "\n",
    "drone_files = glob.glob(drone_path)\n",
    "background_files = glob.glob(background_path)"
   ]
  },
  {
   "cell_type": "code",
   "execution_count": 3,
   "metadata": {},
   "outputs": [],
   "source": [
    "CHUNK_SIZE = 8192\n",
    "SR = 44100\n",
    "N_MFCC = 16"
   ]
  },
  {
   "cell_type": "code",
   "execution_count": 4,
   "metadata": {},
   "outputs": [],
   "source": [
    "def load(files, sr=44100):\n",
    "    [raw, sr] = librosa.load(files[0], sr=sr)\n",
    "    for f in files[1:]:\n",
    "        [array, sr] = librosa.load(f, sr=sr)\n",
    "        raw = np.hstack((raw, array))\n",
    "    print(raw.shape)\n",
    "    return raw"
   ]
  },
  {
   "cell_type": "code",
   "execution_count": 5,
   "metadata": {},
   "outputs": [
    {
     "name": "stdout",
     "output_type": "stream",
     "text": [
      "(40960,)\n",
      "(440320,)\n"
     ]
    }
   ],
   "source": [
    "drone_raw = load(drone_files)\n",
    "background_raw = load(background_files)"
   ]
  },
  {
   "cell_type": "markdown",
   "metadata": {},
   "source": [
    "# Data Processing"
   ]
  },
  {
   "cell_type": "code",
   "execution_count": 6,
   "metadata": {},
   "outputs": [],
   "source": [
    "def mfcc4(raw, label, chunk_size=8192, window_size=4096, sr=44100, n_mfcc=16, n_frame=16):\n",
    "    mfcc = np.empty((0, n_mfcc, n_frame))\n",
    "    y = []\n",
    "    print(raw.shape)\n",
    "    for i in range(0, len(raw), chunk_size//2):\n",
    "        mfcc_slice = librosa.feature.mfcc(raw[i:i+chunk_size], sr=sr, n_mfcc=n_mfcc) #n_mfcc,17\n",
    "        if mfcc_slice.shape[1] < 17:\n",
    "            print(\"small end:\", mfcc_slice.shape)\n",
    "            continue\n",
    "        mfcc_slice = mfcc_slice[:,:-1]\n",
    "        mfcc_slice = mfcc_slice.reshape((1, mfcc_slice.shape[0], mfcc_slice.shape[1]))\n",
    "        mfcc = np.vstack((mfcc, mfcc_slice))\n",
    "        y.append(label)\n",
    "    y = np.array(y)\n",
    "    return mfcc, y"
   ]
  },
  {
   "cell_type": "code",
   "execution_count": 7,
   "metadata": {},
   "outputs": [
    {
     "name": "stdout",
     "output_type": "stream",
     "text": [
      "(40960,)\n",
      "small end: (16, 9)\n",
      "(440320,)\n",
      "small end: (16, 13)\n",
      "small end: (16, 5)\n",
      "(9, 16, 16) (9,)\n",
      "(106, 16, 16) (106,)\n"
     ]
    }
   ],
   "source": [
    "mfcc_drone, y_drone = mfcc4(drone_raw, 1)\n",
    "mfcc_background, y_background = mfcc4(background_raw, 0)\n",
    "\n",
    "print(mfcc_drone.shape, y_drone.shape)\n",
    "print(mfcc_background.shape, y_background.shape)"
   ]
  },
  {
   "cell_type": "code",
   "execution_count": 8,
   "metadata": {},
   "outputs": [
    {
     "name": "stdout",
     "output_type": "stream",
     "text": [
      "(115, 16, 16) (115,)\n"
     ]
    }
   ],
   "source": [
    "X = np.concatenate((mfcc_drone, mfcc_background), axis=0)\n",
    "y = np.hstack((y_drone, y_background))\n",
    "print(X.shape, y.shape)"
   ]
  },
  {
   "cell_type": "code",
   "execution_count": 9,
   "metadata": {},
   "outputs": [
    {
     "name": "stdout",
     "output_type": "stream",
     "text": [
      "(115, 2)\n"
     ]
    }
   ],
   "source": [
    "n_labels = y.shape[0]\n",
    "n_unique_labels = 2\n",
    "y_encoded = np.zeros((n_labels, n_unique_labels))\n",
    "y_encoded[np.arange(n_labels), y] = 1\n",
    "print(y_encoded.shape)"
   ]
  },
  {
   "cell_type": "code",
   "execution_count": 10,
   "metadata": {},
   "outputs": [],
   "source": [
    "# Split data\n",
    "from sklearn import model_selection\n",
    "X_train, X_test, y_train, y_test = model_selection.train_test_split(X, y_encoded, test_size=0.2, random_state=42)\n",
    "#X_train, X_val, y_train, y_val = model_selection.train_test_split(X_train, y_train, test_size=0.2, random_state=42)"
   ]
  },
  {
   "cell_type": "code",
   "execution_count": 11,
   "metadata": {},
   "outputs": [
    {
     "name": "stdout",
     "output_type": "stream",
     "text": [
      "(92, 16, 16) (23, 16, 16)\n",
      "(92, 2) (23, 2)\n"
     ]
    }
   ],
   "source": [
    "print(X_train.shape, X_test.shape)\n",
    "#print(X_val.shape, y_val.shape)\n",
    "print(y_train.shape, y_test.shape)"
   ]
  },
  {
   "cell_type": "code",
   "execution_count": 12,
   "metadata": {},
   "outputs": [],
   "source": [
    "# Save Data\n",
    "np.save('../../model/X_train', X_train)\n",
    "np.save('../../model/X_test', X_test)\n",
    "#np.save('../../model/X_val', X_val)\n",
    "#np.save('../../model/y_val', y_val)\n",
    "np.save('../../model/y_train', y_train)\n",
    "np.save('../../model/y_test', y_test)"
   ]
  },
  {
   "cell_type": "markdown",
   "metadata": {},
   "source": [
    "### Until this part"
   ]
  },
  {
   "cell_type": "code",
   "execution_count": 13,
   "metadata": {},
   "outputs": [],
   "source": [
    "# Load Data\n",
    "X_train = np.load('../../model/X_train.npy')\n",
    "X_test = np.load('../../model/X_test.npy')\n",
    "#X_val = np.load('../../model/X_val.npy')\n",
    "#y_val = np.load('../../model/y_val.npy')\n",
    "y_train = np.load('../../model/y_train.npy')\n",
    "y_test = np.load('../../model/y_test.npy')"
   ]
  },
  {
   "cell_type": "markdown",
   "metadata": {},
   "source": [
    "# Experiment 3 - One convolutional layer /w no dropout"
   ]
  },
  {
   "cell_type": "markdown",
   "metadata": {},
   "source": [
    "##Experiment 3-2\n",
    "- learning rate 0.005\n",
    "- pooling stride 1x1\n",
    "- #filter 1\n",
    "- best result among every other settings\n",
    "- cost kept fluctuated during training. (0.8 -> 1.3) -- why is that?"
   ]
  },
  {
   "cell_type": "code",
   "execution_count": 14,
   "metadata": {},
   "outputs": [],
   "source": [
    "tf.reset_default_graph()"
   ]
  },
  {
   "cell_type": "code",
   "execution_count": 15,
   "metadata": {},
   "outputs": [],
   "source": [
    "n_mfcc = 16\n",
    "n_frame = 16\n",
    "n_classes = 2\n",
    "n_channels = 1\n",
    "\n",
    "learning_rate = 0.0002  # 0.005\n",
    "training_epochs = 500 # 수정해봐"
   ]
  },
  {
   "cell_type": "markdown",
   "metadata": {},
   "source": [
    "# Layer"
   ]
  },
  {
   "cell_type": "code",
   "execution_count": 16,
   "metadata": {},
   "outputs": [],
   "source": [
    "X = tf.placeholder(tf.float32, shape=[None,n_mfcc*n_frame*n_channels])\n",
    "X = tf.reshape(X, [-1, n_mfcc, n_frame, n_channels])\n",
    "Y = tf.placeholder(tf.float32, shape=[None,n_classes])\n",
    "\n",
    "conv1 = tf.layers.conv2d(inputs=X, filters=1, kernel_size=[3, 3],\n",
    "                         padding=\"SAME\", activation=tf.nn.relu)\n",
    "pool1 = tf.layers.max_pooling2d(inputs=conv1, pool_size=[2, 2],\n",
    "                                padding=\"SAME\", strides=1)\n",
    "# dropout넣어야하나\n",
    "conv2 = tf.layers.conv2d(inputs=pool1, filters=1, kernel_size=[3, 3],\n",
    "                         padding=\"SAME\", activation=tf.nn.relu)\n",
    "pool2 = tf.layers.max_pooling2d(inputs=conv2, pool_size=[2, 2],\n",
    "                                padding=\"SAME\", strides=1)\n",
    "# 여기도\n",
    "flat = tf.reshape(pool2, [-1, 16*16*1])\n",
    "dense2 = tf.layers.dense(inputs=flat, units=625, activation=tf.nn.relu)\n",
    "logits = tf.layers.dense(inputs=dense2, units=2)"
   ]
  },
  {
   "cell_type": "code",
   "execution_count": 17,
   "metadata": {},
   "outputs": [],
   "source": [
    "cost = tf.reduce_mean(tf.nn.softmax_cross_entropy_with_logits_v2(logits=logits, labels=Y))\n",
    "optimizer = tf.train.AdamOptimizer(learning_rate=learning_rate).minimize(cost)"
   ]
  },
  {
   "cell_type": "code",
   "execution_count": 18,
   "metadata": {},
   "outputs": [],
   "source": [
    "Y_pred = tf.contrib.layers.fully_connected(logits,n_classes,activation_fn = None)"
   ]
  },
  {
   "cell_type": "code",
   "execution_count": 19,
   "metadata": {},
   "outputs": [],
   "source": [
    "sess = tf.Session()\n",
    "sess.run(tf.global_variables_initializer())"
   ]
  },
  {
   "cell_type": "code",
   "execution_count": 20,
   "metadata": {},
   "outputs": [],
   "source": [
    "X_train2 = X_train.reshape(X_train.shape[0], X_train.shape[1], X_train.shape[2], 1)\n",
    "X_test2 = X_test.reshape(X_test.shape[0], X_test.shape[1], X_test.shape[2], 1)\n",
    "#X_val2 = X_val.reshape(X_val.shape[0], X_val.shape[1], X_val.shape[2], 1)"
   ]
  },
  {
   "cell_type": "code",
   "execution_count": 21,
   "metadata": {},
   "outputs": [],
   "source": [
    "# model save\n",
    "model_path = '../../model/CNN/cnn_model'\n",
    "saver = tf.train.Saver()"
   ]
  },
  {
   "cell_type": "markdown",
   "metadata": {},
   "source": [
    "# Trainning"
   ]
  },
  {
   "cell_type": "code",
   "execution_count": 22,
   "metadata": {},
   "outputs": [],
   "source": [
    "from sklearn.metrics import precision_recall_fscore_support\n",
    "from sklearn.metrics import accuracy_score\n",
    "from sklearn.metrics import classification_report\n",
    "from sklearn.metrics import confusion_matrix\n",
    "import itertools as it"
   ]
  },
  {
   "cell_type": "code",
   "execution_count": 24,
   "metadata": {
    "scrolled": true
   },
   "outputs": [
    {
     "name": "stderr",
     "output_type": "stream",
     "text": [
      "/usr/local/lib/python3.6/dist-packages/ipykernel_launcher.py:13: RuntimeWarning: divide by zero encountered in true_divide\n",
      "  del sys.path[0]\n"
     ]
    },
    {
     "name": "stdout",
     "output_type": "stream",
     "text": [
      "Epoch: 0001 cost =  inf\n",
      "Epoch: 0002 cost =  inf\n",
      "Epoch: 0003 cost =  inf\n",
      "Epoch: 0004 cost =  inf\n",
      "Epoch: 0005 cost =  inf\n",
      "Epoch: 0006 cost =  inf\n",
      "Epoch: 0007 cost =  inf\n",
      "Epoch: 0008 cost =  inf\n",
      "Epoch: 0009 cost =  inf\n",
      "Epoch: 0010 cost =  inf\n",
      "Epoch: 0011 cost =  inf\n",
      "Epoch: 0012 cost =  inf\n",
      "Epoch: 0013 cost =  inf\n",
      "Epoch: 0014 cost =  inf\n",
      "Epoch: 0015 cost =  inf\n",
      "Epoch: 0016 cost =  inf\n",
      "Epoch: 0017 cost =  inf\n",
      "Epoch: 0018 cost =  inf\n",
      "Epoch: 0019 cost =  inf\n",
      "Epoch: 0020 cost =  inf\n",
      "Epoch: 0021 cost =  inf\n",
      "Epoch: 0022 cost =  inf\n",
      "Epoch: 0023 cost =  inf\n",
      "Epoch: 0024 cost =  inf\n",
      "Epoch: 0025 cost =  inf\n",
      "Epoch: 0026 cost =  inf\n",
      "Epoch: 0027 cost =  inf\n",
      "Epoch: 0028 cost =  inf\n",
      "Epoch: 0029 cost =  inf\n",
      "Epoch: 0030 cost =  inf\n",
      "Epoch: 0031 cost =  inf\n",
      "Epoch: 0032 cost =  inf\n",
      "Epoch: 0033 cost =  inf\n",
      "Epoch: 0034 cost =  inf\n",
      "Epoch: 0035 cost =  inf\n",
      "Epoch: 0036 cost =  inf\n",
      "Epoch: 0037 cost =  inf\n",
      "Epoch: 0038 cost =  inf\n",
      "Epoch: 0039 cost =  inf\n",
      "Epoch: 0040 cost =  inf\n",
      "Epoch: 0041 cost =  inf\n",
      "Epoch: 0042 cost =  inf\n",
      "Epoch: 0043 cost =  inf\n",
      "Epoch: 0044 cost =  inf\n",
      "Epoch: 0045 cost =  inf\n",
      "Epoch: 0046 cost =  inf\n",
      "Epoch: 0047 cost =  inf\n",
      "Epoch: 0048 cost =  inf\n",
      "Epoch: 0049 cost =  inf\n",
      "Epoch: 0050 cost =  inf\n",
      "Epoch: 0051 cost =  inf\n",
      "Epoch: 0052 cost =  inf\n",
      "Epoch: 0053 cost =  inf\n",
      "Epoch: 0054 cost =  inf\n",
      "Epoch: 0055 cost =  inf\n",
      "Epoch: 0056 cost =  inf\n",
      "Epoch: 0057 cost =  inf\n",
      "Epoch: 0058 cost =  inf\n",
      "Epoch: 0059 cost =  inf\n",
      "Epoch: 0060 cost =  inf\n",
      "Epoch: 0061 cost =  inf\n",
      "Epoch: 0062 cost =  inf\n",
      "Epoch: 0063 cost =  inf\n",
      "Epoch: 0064 cost =  inf\n",
      "Epoch: 0065 cost =  inf\n",
      "Epoch: 0066 cost =  inf\n",
      "Epoch: 0067 cost =  inf\n",
      "Epoch: 0068 cost =  inf\n",
      "Epoch: 0069 cost =  inf\n",
      "Epoch: 0070 cost =  inf\n",
      "Epoch: 0071 cost =  inf\n",
      "Epoch: 0072 cost =  inf\n",
      "Epoch: 0073 cost =  inf\n",
      "Epoch: 0074 cost =  inf\n",
      "Epoch: 0075 cost =  inf\n",
      "Epoch: 0076 cost =  inf\n",
      "Epoch: 0077 cost =  inf\n",
      "Epoch: 0078 cost =  inf\n",
      "Epoch: 0079 cost =  inf\n",
      "Epoch: 0080 cost =  inf\n",
      "Epoch: 0081 cost =  inf\n",
      "Epoch: 0082 cost =  inf\n",
      "Epoch: 0083 cost =  inf\n",
      "Epoch: 0084 cost =  inf\n",
      "Epoch: 0085 cost =  inf\n",
      "Epoch: 0086 cost =  inf\n",
      "Epoch: 0087 cost =  inf\n",
      "Epoch: 0088 cost =  inf\n",
      "Epoch: 0089 cost =  inf\n",
      "Epoch: 0090 cost =  inf\n",
      "Epoch: 0091 cost =  inf\n",
      "Epoch: 0092 cost =  inf\n",
      "Epoch: 0093 cost =  inf\n",
      "Epoch: 0094 cost =  inf\n",
      "Epoch: 0095 cost =  inf\n",
      "Epoch: 0096 cost =  inf\n",
      "Epoch: 0097 cost =  inf\n",
      "Epoch: 0098 cost =  inf\n",
      "Epoch: 0099 cost =  inf\n",
      "Epoch: 0100 cost =  inf\n",
      "Epoch: 0101 cost =  inf\n",
      "Epoch: 0102 cost =  inf\n",
      "Epoch: 0103 cost =  inf\n",
      "Epoch: 0104 cost =  inf\n",
      "Epoch: 0105 cost =  inf\n",
      "Epoch: 0106 cost =  inf\n",
      "Epoch: 0107 cost =  inf\n",
      "Epoch: 0108 cost =  inf\n",
      "Epoch: 0109 cost =  inf\n",
      "Epoch: 0110 cost =  inf\n",
      "Epoch: 0111 cost =  inf\n",
      "Epoch: 0112 cost =  inf\n",
      "Epoch: 0113 cost =  inf\n",
      "Epoch: 0114 cost =  inf\n",
      "Epoch: 0115 cost =  inf\n",
      "Epoch: 0116 cost =  inf\n",
      "Epoch: 0117 cost =  inf\n",
      "Epoch: 0118 cost =  inf\n",
      "Epoch: 0119 cost =  inf\n",
      "Epoch: 0120 cost =  inf\n",
      "Epoch: 0121 cost =  inf\n",
      "Epoch: 0122 cost =  inf\n",
      "Epoch: 0123 cost =  inf\n",
      "Epoch: 0124 cost =  inf\n",
      "Epoch: 0125 cost =  inf\n",
      "Epoch: 0126 cost =  inf\n",
      "Epoch: 0127 cost =  inf\n",
      "Epoch: 0128 cost =  inf\n",
      "Epoch: 0129 cost =  inf\n",
      "Epoch: 0130 cost =  inf\n",
      "Epoch: 0131 cost =  inf\n",
      "Epoch: 0132 cost =  inf\n",
      "Epoch: 0133 cost =  inf\n",
      "Epoch: 0134 cost =  inf\n",
      "Epoch: 0135 cost =  inf\n",
      "Epoch: 0136 cost =  inf\n",
      "Epoch: 0137 cost =  inf\n",
      "Epoch: 0138 cost =  inf\n",
      "Epoch: 0139 cost =  inf\n",
      "Epoch: 0140 cost =  inf\n",
      "Epoch: 0141 cost =  inf\n",
      "Epoch: 0142 cost =  inf\n",
      "Epoch: 0143 cost =  inf\n",
      "Epoch: 0144 cost =  inf\n",
      "Epoch: 0145 cost =  inf\n",
      "Epoch: 0146 cost =  inf\n",
      "Epoch: 0147 cost =  inf\n",
      "Epoch: 0148 cost =  inf\n",
      "Epoch: 0149 cost =  inf\n",
      "Epoch: 0150 cost =  inf\n",
      "Epoch: 0151 cost =  inf\n",
      "Epoch: 0152 cost =  inf\n",
      "Epoch: 0153 cost =  inf\n",
      "Epoch: 0154 cost =  inf\n",
      "Epoch: 0155 cost =  inf\n",
      "Epoch: 0156 cost =  inf\n",
      "Epoch: 0157 cost =  inf\n",
      "Epoch: 0158 cost =  inf\n",
      "Epoch: 0159 cost =  inf\n",
      "Epoch: 0160 cost =  inf\n",
      "Epoch: 0161 cost =  inf\n",
      "Epoch: 0162 cost =  inf\n",
      "Epoch: 0163 cost =  inf\n",
      "Epoch: 0164 cost =  inf\n",
      "Epoch: 0165 cost =  inf\n",
      "Epoch: 0166 cost =  inf\n",
      "Epoch: 0167 cost =  inf\n",
      "Epoch: 0168 cost =  inf\n",
      "Epoch: 0169 cost =  inf\n",
      "Epoch: 0170 cost =  inf\n",
      "Epoch: 0171 cost =  inf\n",
      "Epoch: 0172 cost =  inf\n",
      "Epoch: 0173 cost =  inf\n",
      "Epoch: 0174 cost =  inf\n",
      "Epoch: 0175 cost =  inf\n",
      "Epoch: 0176 cost =  inf\n",
      "Epoch: 0177 cost =  inf\n",
      "Epoch: 0178 cost =  inf\n",
      "Epoch: 0179 cost =  inf\n",
      "Epoch: 0180 cost =  inf\n",
      "Epoch: 0181 cost =  inf\n",
      "Epoch: 0182 cost =  inf\n",
      "Epoch: 0183 cost =  inf\n",
      "Epoch: 0184 cost =  inf\n",
      "Epoch: 0185 cost =  inf\n",
      "Epoch: 0186 cost =  inf\n",
      "Epoch: 0187 cost =  inf\n",
      "Epoch: 0188 cost =  inf\n",
      "Epoch: 0189 cost =  inf\n",
      "Epoch: 0190 cost =  inf\n",
      "Epoch: 0191 cost =  inf\n",
      "Epoch: 0192 cost =  inf\n",
      "Epoch: 0193 cost =  inf\n",
      "Epoch: 0194 cost =  inf\n",
      "Epoch: 0195 cost =  inf\n",
      "Epoch: 0196 cost =  inf\n",
      "Epoch: 0197 cost =  inf\n",
      "Epoch: 0198 cost =  inf\n",
      "Epoch: 0199 cost =  inf\n",
      "Epoch: 0200 cost =  inf\n",
      "Epoch: 0201 cost =  inf\n",
      "Epoch: 0202 cost =  inf\n",
      "Epoch: 0203 cost =  inf\n",
      "Epoch: 0204 cost =  inf\n",
      "Epoch: 0205 cost =  inf\n",
      "Epoch: 0206 cost =  inf\n",
      "Epoch: 0207 cost =  inf\n",
      "Epoch: 0208 cost =  inf\n",
      "Epoch: 0209 cost =  inf\n",
      "Epoch: 0210 cost =  inf\n",
      "Epoch: 0211 cost =  inf\n",
      "Epoch: 0212 cost =  inf\n",
      "Epoch: 0213 cost =  inf\n",
      "Epoch: 0214 cost =  inf\n",
      "Epoch: 0215 cost =  inf\n",
      "Epoch: 0216 cost =  inf\n",
      "Epoch: 0217 cost =  inf\n",
      "Epoch: 0218 cost =  inf\n",
      "Epoch: 0219 cost =  inf\n",
      "Epoch: 0220 cost =  inf\n",
      "Epoch: 0221 cost =  inf\n",
      "Epoch: 0222 cost =  inf\n",
      "Epoch: 0223 cost =  inf\n",
      "Epoch: 0224 cost =  inf\n",
      "Epoch: 0225 cost =  inf\n",
      "Epoch: 0226 cost =  inf\n",
      "Epoch: 0227 cost =  inf\n",
      "Epoch: 0228 cost =  inf\n",
      "Epoch: 0229 cost =  inf\n",
      "Epoch: 0230 cost =  inf\n",
      "Epoch: 0231 cost =  inf\n",
      "Epoch: 0232 cost =  inf\n",
      "Epoch: 0233 cost =  inf\n",
      "Epoch: 0234 cost =  inf\n",
      "Epoch: 0235 cost =  inf\n",
      "Epoch: 0236 cost =  inf\n",
      "Epoch: 0237 cost =  inf\n",
      "Epoch: 0238 cost =  inf\n",
      "Epoch: 0239 cost =  inf\n",
      "Epoch: 0240 cost =  inf\n",
      "Epoch: 0241 cost =  inf\n",
      "Epoch: 0242 cost =  inf\n",
      "Epoch: 0243 cost =  inf\n",
      "Epoch: 0244 cost =  inf\n",
      "Epoch: 0245 cost =  inf\n",
      "Epoch: 0246 cost =  inf\n",
      "Epoch: 0247 cost =  inf\n",
      "Epoch: 0248 cost =  inf\n",
      "Epoch: 0249 cost =  inf\n",
      "Epoch: 0250 cost =  inf\n",
      "Epoch: 0251 cost =  inf\n",
      "Epoch: 0252 cost =  inf\n",
      "Epoch: 0253 cost =  inf\n",
      "Epoch: 0254 cost =  inf\n",
      "Epoch: 0255 cost =  inf\n",
      "Epoch: 0256 cost =  inf\n",
      "Epoch: 0257 cost =  inf\n",
      "Epoch: 0258 cost =  inf\n",
      "Epoch: 0259 cost =  inf\n",
      "Epoch: 0260 cost =  inf\n",
      "Epoch: 0261 cost =  inf\n",
      "Epoch: 0262 cost =  inf\n",
      "Epoch: 0263 cost =  inf\n",
      "Epoch: 0264 cost =  inf\n",
      "Epoch: 0265 cost =  inf\n",
      "Epoch: 0266 cost =  inf\n",
      "Epoch: 0267 cost =  inf\n",
      "Epoch: 0268 cost =  inf\n",
      "Epoch: 0269 cost =  inf\n",
      "Epoch: 0270 cost =  inf\n",
      "Epoch: 0271 cost =  inf\n",
      "Epoch: 0272 cost =  inf\n",
      "Epoch: 0273 cost =  inf\n",
      "Epoch: 0274 cost =  inf\n",
      "Epoch: 0275 cost =  inf\n",
      "Epoch: 0276 cost =  inf\n",
      "Epoch: 0277 cost =  inf\n",
      "Epoch: 0278 cost =  inf\n",
      "Epoch: 0279 cost =  inf\n",
      "Epoch: 0280 cost =  inf\n",
      "Epoch: 0281 cost =  inf\n",
      "Epoch: 0282 cost =  inf\n",
      "Epoch: 0283 cost =  inf\n",
      "Epoch: 0284 cost =  inf\n",
      "Epoch: 0285 cost =  inf\n",
      "Epoch: 0286 cost =  inf\n",
      "Epoch: 0287 cost =  inf\n",
      "Epoch: 0288 cost =  inf\n",
      "Epoch: 0289 cost =  inf\n",
      "Epoch: 0290 cost =  inf\n",
      "Epoch: 0291 cost =  inf\n",
      "Epoch: 0292 cost =  inf\n",
      "Epoch: 0293 cost =  inf\n",
      "Epoch: 0294 cost =  inf\n",
      "Epoch: 0295 cost =  inf\n",
      "Epoch: 0296 cost =  inf\n",
      "Epoch: 0297 cost =  inf\n",
      "Epoch: 0298 cost =  inf\n",
      "Epoch: 0299 cost =  inf\n",
      "Epoch: 0300 cost =  inf\n",
      "Epoch: 0301 cost =  inf\n",
      "Epoch: 0302 cost =  inf\n",
      "Epoch: 0303 cost =  inf\n",
      "Epoch: 0304 cost =  inf\n",
      "Epoch: 0305 cost =  inf\n",
      "Epoch: 0306 cost =  inf\n",
      "Epoch: 0307 cost =  inf\n",
      "Epoch: 0308 cost =  inf\n",
      "Epoch: 0309 cost =  inf\n",
      "Epoch: 0310 cost =  inf\n",
      "Epoch: 0311 cost =  inf\n",
      "Epoch: 0312 cost =  inf\n",
      "Epoch: 0313 cost =  inf\n",
      "Epoch: 0314 cost =  inf\n",
      "Epoch: 0315 cost =  inf\n",
      "Epoch: 0316 cost =  inf\n",
      "Epoch: 0317 cost =  inf\n",
      "Epoch: 0318 cost =  inf\n",
      "Epoch: 0319 cost =  inf\n",
      "Epoch: 0320 cost =  inf\n",
      "Epoch: 0321 cost =  inf\n",
      "Epoch: 0322 cost =  inf\n",
      "Epoch: 0323 cost =  inf\n",
      "Epoch: 0324 cost =  inf\n",
      "Epoch: 0325 cost =  inf\n",
      "Epoch: 0326 cost =  inf\n",
      "Epoch: 0327 cost =  inf\n",
      "Epoch: 0328 cost =  inf\n",
      "Epoch: 0329 cost =  inf\n",
      "Epoch: 0330 cost =  inf\n",
      "Epoch: 0331 cost =  inf\n",
      "Epoch: 0332 cost =  inf\n",
      "Epoch: 0333 cost =  inf\n",
      "Epoch: 0334 cost =  inf\n",
      "Epoch: 0335 cost =  inf\n",
      "Epoch: 0336 cost =  inf\n",
      "Epoch: 0337 cost =  inf\n",
      "Epoch: 0338 cost =  inf\n",
      "Epoch: 0339 cost =  inf\n",
      "Epoch: 0340 cost =  inf\n",
      "Epoch: 0341 cost =  inf\n",
      "Epoch: 0342 cost =  inf\n",
      "Epoch: 0343 cost =  inf\n",
      "Epoch: 0344 cost =  inf\n",
      "Epoch: 0345 cost =  inf\n",
      "Epoch: 0346 cost =  inf\n",
      "Epoch: 0347 cost =  inf\n",
      "Epoch: 0348 cost =  inf\n",
      "Epoch: 0349 cost =  inf\n",
      "Epoch: 0350 cost =  inf\n",
      "Epoch: 0351 cost =  inf\n",
      "Epoch: 0352 cost =  inf\n",
      "Epoch: 0353 cost =  inf\n",
      "Epoch: 0354 cost =  inf\n",
      "Epoch: 0355 cost =  inf\n",
      "Epoch: 0356 cost =  inf\n",
      "Epoch: 0357 cost =  inf\n",
      "Epoch: 0358 cost =  inf\n",
      "Epoch: 0359 cost =  inf\n",
      "Epoch: 0360 cost =  inf\n",
      "Epoch: 0361 cost =  inf\n"
     ]
    },
    {
     "name": "stdout",
     "output_type": "stream",
     "text": [
      "Epoch: 0362 cost =  inf\n",
      "Epoch: 0363 cost =  inf\n",
      "Epoch: 0364 cost =  inf\n",
      "Epoch: 0365 cost =  inf\n",
      "Epoch: 0366 cost =  inf\n",
      "Epoch: 0367 cost =  inf\n",
      "Epoch: 0368 cost =  inf\n",
      "Epoch: 0369 cost =  inf\n",
      "Epoch: 0370 cost =  inf\n",
      "Epoch: 0371 cost =  inf\n",
      "Epoch: 0372 cost =  inf\n",
      "Epoch: 0373 cost =  inf\n",
      "Epoch: 0374 cost =  inf\n",
      "Epoch: 0375 cost =  inf\n",
      "Epoch: 0376 cost =  inf\n",
      "Epoch: 0377 cost =  inf\n",
      "Epoch: 0378 cost =  inf\n",
      "Epoch: 0379 cost =  inf\n",
      "Epoch: 0380 cost =  inf\n",
      "Epoch: 0381 cost =  inf\n",
      "Epoch: 0382 cost =  inf\n",
      "Epoch: 0383 cost =  inf\n",
      "Epoch: 0384 cost =  inf\n",
      "Epoch: 0385 cost =  inf\n",
      "Epoch: 0386 cost =  inf\n",
      "Epoch: 0387 cost =  inf\n",
      "Epoch: 0388 cost =  inf\n",
      "Epoch: 0389 cost =  inf\n",
      "Epoch: 0390 cost =  inf\n",
      "Epoch: 0391 cost =  inf\n",
      "Epoch: 0392 cost =  inf\n",
      "Epoch: 0393 cost =  inf\n",
      "Epoch: 0394 cost =  inf\n",
      "Epoch: 0395 cost =  inf\n",
      "Epoch: 0396 cost =  inf\n",
      "Epoch: 0397 cost =  inf\n",
      "Epoch: 0398 cost =  inf\n",
      "Epoch: 0399 cost =  inf\n",
      "Epoch: 0400 cost =  inf\n",
      "Epoch: 0401 cost =  inf\n",
      "Epoch: 0402 cost =  inf\n",
      "Epoch: 0403 cost =  inf\n",
      "Epoch: 0404 cost =  inf\n",
      "Epoch: 0405 cost =  inf\n",
      "Epoch: 0406 cost =  inf\n",
      "Epoch: 0407 cost =  inf\n",
      "Epoch: 0408 cost =  inf\n",
      "Epoch: 0409 cost =  inf\n",
      "Epoch: 0410 cost =  inf\n",
      "Epoch: 0411 cost =  inf\n",
      "Epoch: 0412 cost =  inf\n",
      "Epoch: 0413 cost =  inf\n",
      "Epoch: 0414 cost =  inf\n",
      "Epoch: 0415 cost =  inf\n",
      "Epoch: 0416 cost =  inf\n",
      "Epoch: 0417 cost =  inf\n",
      "Epoch: 0418 cost =  inf\n",
      "Epoch: 0419 cost =  inf\n",
      "Epoch: 0420 cost =  inf\n",
      "Epoch: 0421 cost =  inf\n",
      "Epoch: 0422 cost =  inf\n",
      "Epoch: 0423 cost =  inf\n",
      "Epoch: 0424 cost =  inf\n",
      "Epoch: 0425 cost =  inf\n",
      "Epoch: 0426 cost =  inf\n",
      "Epoch: 0427 cost =  inf\n",
      "Epoch: 0428 cost =  inf\n",
      "Epoch: 0429 cost =  inf\n",
      "Epoch: 0430 cost =  inf\n",
      "Epoch: 0431 cost =  inf\n",
      "Epoch: 0432 cost =  inf\n",
      "Epoch: 0433 cost =  inf\n",
      "Epoch: 0434 cost =  inf\n",
      "Epoch: 0435 cost =  inf\n",
      "Epoch: 0436 cost =  inf\n",
      "Epoch: 0437 cost =  inf\n",
      "Epoch: 0438 cost =  inf\n",
      "Epoch: 0439 cost =  inf\n",
      "Epoch: 0440 cost =  inf\n",
      "Epoch: 0441 cost =  inf\n",
      "Epoch: 0442 cost =  inf\n",
      "Epoch: 0443 cost =  inf\n",
      "Epoch: 0444 cost =  inf\n",
      "Epoch: 0445 cost =  inf\n",
      "Epoch: 0446 cost =  inf\n",
      "Epoch: 0447 cost =  inf\n",
      "Epoch: 0448 cost =  inf\n",
      "Epoch: 0449 cost =  inf\n",
      "Epoch: 0450 cost =  inf\n",
      "Epoch: 0451 cost =  inf\n",
      "Epoch: 0452 cost =  inf\n",
      "Epoch: 0453 cost =  inf\n",
      "Epoch: 0454 cost =  inf\n",
      "Epoch: 0455 cost =  inf\n",
      "Epoch: 0456 cost =  inf\n",
      "Epoch: 0457 cost =  inf\n",
      "Epoch: 0458 cost =  inf\n",
      "Epoch: 0459 cost =  inf\n",
      "Epoch: 0460 cost =  inf\n",
      "Epoch: 0461 cost =  inf\n",
      "Epoch: 0462 cost =  inf\n",
      "Epoch: 0463 cost =  inf\n",
      "Epoch: 0464 cost =  inf\n",
      "Epoch: 0465 cost =  inf\n",
      "Epoch: 0466 cost =  inf\n",
      "Epoch: 0467 cost =  inf\n",
      "Epoch: 0468 cost =  inf\n",
      "Epoch: 0469 cost =  inf\n",
      "Epoch: 0470 cost =  inf\n",
      "Epoch: 0471 cost =  inf\n",
      "Epoch: 0472 cost =  inf\n",
      "Epoch: 0473 cost =  inf\n",
      "Epoch: 0474 cost =  inf\n",
      "Epoch: 0475 cost =  inf\n",
      "Epoch: 0476 cost =  inf\n",
      "Epoch: 0477 cost =  inf\n",
      "Epoch: 0478 cost =  inf\n",
      "Epoch: 0479 cost =  inf\n",
      "Epoch: 0480 cost =  inf\n",
      "Epoch: 0481 cost =  inf\n",
      "Epoch: 0482 cost =  inf\n",
      "Epoch: 0483 cost =  inf\n",
      "Epoch: 0484 cost =  inf\n",
      "Epoch: 0485 cost =  inf\n",
      "Epoch: 0486 cost =  inf\n",
      "Epoch: 0487 cost =  inf\n",
      "Epoch: 0488 cost =  inf\n",
      "Epoch: 0489 cost =  inf\n",
      "Epoch: 0490 cost =  inf\n",
      "Epoch: 0491 cost =  inf\n",
      "Epoch: 0492 cost =  inf\n",
      "Epoch: 0493 cost =  inf\n",
      "Epoch: 0494 cost =  inf\n",
      "Epoch: 0495 cost =  inf\n",
      "Epoch: 0496 cost =  inf\n",
      "Epoch: 0497 cost =  inf\n",
      "Epoch: 0498 cost =  inf\n",
      "Epoch: 0499 cost =  inf\n",
      "Epoch: 0500 cost =  inf\n"
     ]
    },
    {
     "data": {
      "text/plain": [
       "'../../model/CNN/cnn_model'"
      ]
     },
     "execution_count": 24,
     "metadata": {},
     "output_type": "execute_result"
    }
   ],
   "source": [
    "###########################\n",
    "batch_size = 128 ## 조절해보자!\n",
    "cost_history = np.empty(shape=[1], dtype=float)\n",
    "\n",
    "for epoch in range(training_epochs):#training epoch 500 / batch_size 128 --> acc 90%\n",
    "    avg_cost = 0\n",
    "    val_avg_cost =0\n",
    "    total_batch = int(y_train.shape[0] / batch_size)\n",
    "    for i in range(0, y_train.shape[0], batch_size):\n",
    "        feed_dict={X:X_train2[i:i+batch_size,:,:,:], Y:y_train[i:i+batch_size,:]}\n",
    "        c, _ = sess.run([cost, optimizer], feed_dict=feed_dict)\n",
    "        cost_history = np.append(cost_history,cost)\n",
    "        avg_cost += c/total_batch \n",
    "    \n",
    "    #y_pred = sess.run(logits, feed_dict={X:X_val2})\n",
    "    #y_pred = sess.run(tf.argmax(y_pred,1))\n",
    "    #y_true = y_val\n",
    "        \n",
    "    #y_true = sess.run(tf.argmax(y_true,1))\n",
    "    #print(len(y_pred),end=' ')\n",
    "    print('Epoch:', '%04d' % (epoch+1), 'cost = ', '{:.9f}'.format(avg_cost))#, 'val = ','%f' %(accuracy_score(y_true, y_pred)) )\n",
    "saver.save(sess, model_path)"
   ]
  },
  {
   "cell_type": "markdown",
   "metadata": {},
   "source": [
    "## Prediction"
   ]
  },
  {
   "cell_type": "code",
   "execution_count": 25,
   "metadata": {},
   "outputs": [],
   "source": [
    "y_pred = sess.run(tf.argmax(logits,1),feed_dict={X: X_test2})\n",
    "y_true = sess.run(tf.argmax(y_test,1))"
   ]
  },
  {
   "cell_type": "code",
   "execution_count": 26,
   "metadata": {},
   "outputs": [
    {
     "name": "stdout",
     "output_type": "stream",
     "text": [
      "F-Score: 0.913\n",
      "Accuracy:  0.9130434782608695\n",
      "              precision    recall  f1-score   support\n",
      "\n",
      "           0       0.91      1.00      0.95        21\n",
      "           1       0.00      0.00      0.00         2\n",
      "\n",
      "   micro avg       0.91      0.91      0.91        23\n",
      "   macro avg       0.46      0.50      0.48        23\n",
      "weighted avg       0.83      0.91      0.87        23\n",
      "\n",
      "[[21  0]\n",
      " [ 2  0]]\n"
     ]
    },
    {
     "name": "stderr",
     "output_type": "stream",
     "text": [
      "/usr/local/lib/python3.6/dist-packages/sklearn/metrics/classification.py:1143: UndefinedMetricWarning: Precision and F-score are ill-defined and being set to 0.0 in labels with no predicted samples.\n",
      "  'precision', 'predicted', average, warn_for)\n"
     ]
    }
   ],
   "source": [
    "# Print Result\n",
    "\n",
    "from sklearn.metrics import precision_recall_fscore_support\n",
    "p,r,f,s = precision_recall_fscore_support(y_true, y_pred, average='micro')\n",
    "print(\"F-Score:\", round(f,3))\n",
    "from sklearn.metrics import accuracy_score\n",
    "print(\"Accuracy: \", accuracy_score(y_true, y_pred))\n",
    "\n",
    "from sklearn.metrics import classification_report\n",
    "print(classification_report(y_true, y_pred))\n",
    "from sklearn.metrics import confusion_matrix\n",
    "print(confusion_matrix(y_true, y_pred))"
   ]
  },
  {
   "cell_type": "code",
   "execution_count": null,
   "metadata": {},
   "outputs": [],
   "source": []
  }
 ],
 "metadata": {
  "kernelspec": {
   "display_name": "Python 3",
   "language": "python",
   "name": "python3"
  },
  "language_info": {
   "codemirror_mode": {
    "name": "ipython",
    "version": 3
   },
   "file_extension": ".py",
   "mimetype": "text/x-python",
   "name": "python",
   "nbconvert_exporter": "python",
   "pygments_lexer": "ipython3",
   "version": "3.6.7"
  }
 },
 "nbformat": 4,
 "nbformat_minor": 2
}
