{
 "cells": [
  {
   "cell_type": "code",
   "execution_count": 1,
   "metadata": {
    "scrolled": true
   },
   "outputs": [],
   "source": [
    "import matplotlib.pyplot as plt\n",
    "%matplotlib inline\n",
    "import IPython.display\n",
    "import librosa.display\n",
    "import numpy as np\n",
    "import librosa\n",
    "import tensorflow as tf\n",
    "import glob"
   ]
  },
  {
   "cell_type": "code",
   "execution_count": 2,
   "metadata": {},
   "outputs": [],
   "source": [
    "c_drone_path = '../../../1mtest/*.wav'\n",
    "cm_drone_path = '../../../10mtest/*.wav'\n",
    "m_drone_path = '../../../20mtest/*.wav'\n",
    "f_drone_path = '../../../50mtest/*.wav'\n",
    "background_path = '../../../backgroundtest/*.wav'\n",
    "c_drone_files = glob.glob(c_drone_path)\n",
    "cm_drone_files = glob.glob(cm_drone_path)\n",
    "m_drone_files = glob.glob(m_drone_path)\n",
    "f_drone_files = glob.glob(f_drone_path)\n",
    "background_files = glob.glob(background_path)"
   ]
  },
  {
   "cell_type": "code",
   "execution_count": 3,
   "metadata": {},
   "outputs": [],
   "source": [
    "CHUNK_SIZE = 8192\n",
    "SR = 22050\n",
    "N_MFCC = 16"
   ]
  },
  {
   "cell_type": "code",
   "execution_count": 4,
   "metadata": {},
   "outputs": [],
   "source": [
    "def load(files, sr=22050):\n",
    "    [raw, sr] = librosa.load(files[0], sr=sr)\n",
    "    for f in files[1:]:\n",
    "        [array, sr] = librosa.load(f, sr=sr)\n",
    "        raw = np.hstack((raw, array))\n",
    "    print(raw.shape)\n",
    "    return raw"
   ]
  },
  {
   "cell_type": "code",
   "execution_count": 5,
   "metadata": {},
   "outputs": [
    {
     "name": "stdout",
     "output_type": "stream",
     "text": [
      "(143360,)\n",
      "(143360,)\n",
      "(143360,)\n",
      "(143360,)\n",
      "(91372,)\n"
     ]
    }
   ],
   "source": [
    "c_drone_raw = load(c_drone_files)\n",
    "cm_drone_raw = load(cm_drone_files)\n",
    "m_drone_raw = load(m_drone_files)\n",
    "f_drone_raw = load(f_drone_files)\n",
    "background_raw = load(background_files)"
   ]
  },
  {
   "cell_type": "code",
   "execution_count": 6,
   "metadata": {},
   "outputs": [],
   "source": [
    "def mfcc4(raw, label, chunk_size=8192, window_size=4096, sr=22050, n_mfcc=16, n_frame=16):\n",
    "    mfcc = np.empty((0, n_mfcc, n_frame))\n",
    "    y = []\n",
    "    print(raw.shape)\n",
    "    for i in range(0, len(raw), chunk_size//2):\n",
    "        mfcc_slice = librosa.feature.mfcc(raw[i:i+chunk_size], sr=sr, n_mfcc=n_mfcc) #n_mfcc,17\n",
    "        if mfcc_slice.shape[1] < 17:\n",
    "            print(i,\">small end:\", mfcc_slice.shape)\n",
    "            continue\n",
    "        mfcc_slice = mfcc_slice[:,:-1]\n",
    "        mfcc_slice = mfcc_slice.reshape((1, mfcc_slice.shape[0], mfcc_slice.shape[1]))\n",
    "        mfcc = np.vstack((mfcc, mfcc_slice))\n",
    "        y.append(label)\n",
    "    y = np.array(y)\n",
    "    return mfcc, y"
   ]
  },
  {
   "cell_type": "code",
   "execution_count": 7,
   "metadata": {},
   "outputs": [
    {
     "name": "stdout",
     "output_type": "stream",
     "text": [
      "(143360,)\n",
      "139264 >small end: (16, 9)\n",
      "(143360,)\n",
      "139264 >small end: (16, 9)\n",
      "(143360,)\n",
      "139264 >small end: (16, 9)\n",
      "(143360,)\n",
      "139264 >small end: (16, 9)\n",
      "(91372,)\n",
      "86016 >small end: (16, 11)\n",
      "90112 >small end: (16, 3)\n",
      "(34, 16, 16) (34,)\n",
      "(34, 16, 16) (34,)\n",
      "(34, 16, 16) (34,)\n",
      "(34, 16, 16) (34,)\n",
      "(21, 16, 16) (21,)\n"
     ]
    }
   ],
   "source": [
    "c_mfcc_drone, c_y_drone = mfcc4(c_drone_raw, 4)\n",
    "cm_mfcc_drone, cm_y_drone = mfcc4(cm_drone_raw, 3)\n",
    "m_mfcc_drone, m_y_drone = mfcc4(m_drone_raw, 2)\n",
    "f_mfcc_drone, f_y_drone = mfcc4(f_drone_raw, 1)\n",
    "mfcc_background, y_background = mfcc4(background_raw, 0)\n",
    "\n",
    "print(c_mfcc_drone.shape, c_y_drone.shape)\n",
    "print(cm_mfcc_drone.shape, cm_y_drone.shape)\n",
    "print(m_mfcc_drone.shape, m_y_drone.shape)\n",
    "print(f_mfcc_drone.shape, f_y_drone.shape)\n",
    "\n",
    "print(mfcc_background.shape, y_background.shape)"
   ]
  },
  {
   "cell_type": "code",
   "execution_count": 8,
   "metadata": {},
   "outputs": [
    {
     "name": "stdout",
     "output_type": "stream",
     "text": [
      "(157, 16, 16) (157,)\n"
     ]
    }
   ],
   "source": [
    "X = np.concatenate((c_mfcc_drone, cm_mfcc_drone, m_mfcc_drone, f_mfcc_drone, mfcc_background), axis=0)\n",
    "y = np.hstack((c_y_drone, cm_y_drone, m_y_drone, f_y_drone, y_background))\n",
    "print(X.shape, y.shape)"
   ]
  },
  {
   "cell_type": "code",
   "execution_count": 9,
   "metadata": {},
   "outputs": [
    {
     "name": "stdout",
     "output_type": "stream",
     "text": [
      "(157, 256)\n",
      "<class 'numpy.ndarray'>\n"
     ]
    }
   ],
   "source": [
    "X_test = np.reshape(X,(X.shape[0],-1))\n",
    "print(X_test.shape)\n",
    "print(type(X_test))"
   ]
  },
  {
   "cell_type": "code",
   "execution_count": 10,
   "metadata": {},
   "outputs": [],
   "source": [
    "#X_train2 = X.reshape(X.shape[0], X.shape[1], X.shape[2], 1) ############# 리셰입 해야 "
   ]
  },
  {
   "cell_type": "code",
   "execution_count": 11,
   "metadata": {},
   "outputs": [
    {
     "name": "stdout",
     "output_type": "stream",
     "text": [
      "(157, 5)\n"
     ]
    }
   ],
   "source": [
    "n_labels = y.shape[0]\n",
    "n_unique_labels = 5\n",
    "y_encoded = np.zeros((n_labels, n_unique_labels))\n",
    "y_encoded[np.arange(n_labels), y] = 1\n",
    "print(y_encoded.shape)"
   ]
  },
  {
   "cell_type": "markdown",
   "metadata": {},
   "source": [
    "# test init"
   ]
  },
  {
   "cell_type": "code",
   "execution_count": 12,
   "metadata": {},
   "outputs": [],
   "source": [
    "tf.reset_default_graph()"
   ]
  },
  {
   "cell_type": "code",
   "execution_count": 13,
   "metadata": {},
   "outputs": [],
   "source": [
    "n_mfcc = 16\n",
    "n_frame = 16\n",
    "n_classes = 5\n",
    "n_channels = 1\n",
    "\n",
    "kernel_size = 3\n",
    "stride = 1\n",
    "pad = \"SAME\"\n",
    "\n",
    "learning_rate = 0.0002"
   ]
  },
  {
   "cell_type": "code",
   "execution_count": 14,
   "metadata": {},
   "outputs": [],
   "source": [
    "X = tf.placeholder(tf.float32, shape=[None,n_mfcc*n_frame*n_channels])\n",
    "#X = tf.reshape(X, [-1, n_mfcc, n_frame, n_channels]) #fully connected에는 리셰입 안해도 된다 \n",
    "Y = tf.placeholder(tf.float32, shape=[None,n_classes])\n",
    "\n",
    "keep_prob = tf.placeholder(tf.float32)\n",
    "\n",
    "#dense2 = tf.layers.dense(inputs=flat, units=625, activation=tf.nn.relu)\n",
    "#dropout2 = tf.layers.dropout(inputs=dense2, rate=0.5, training=True)\n",
    "dense1 = tf.layers.dense(inputs=X, units=256, activation=tf.nn.relu)\n",
    "dropout1 = tf.nn.dropout(dense1, keep_prob=keep_prob)\n",
    "dense2 = tf.layers.dense(inputs=dropout1, units=256, activation=tf.nn.relu)\n",
    "dropout2 = tf.nn.dropout(dense2, keep_prob=keep_prob)\n",
    "dense3 = tf.layers.dense(inputs=dropout2, units=512, activation=tf.nn.relu)\n",
    "dropout3 = tf.nn.dropout(dense3, keep_prob=keep_prob)\n",
    "#이거 지워보고 돌려보고 \n",
    "dense4 = tf.layers.dense(inputs=dropout3, units=512, activation=tf.nn.relu)\n",
    "dropout4 = tf.nn.dropout(dense4, keep_prob=keep_prob)\n",
    "dense5 = tf.layers.dense(inputs=dropout4, units=256, activation=tf.nn.relu)\n",
    "dropout5 = tf.nn.dropout(dense5, keep_prob=keep_prob)\n",
    "\n",
    "logits= tf.layers.dense(inputs=dropout5, units=5)"
   ]
  },
  {
   "cell_type": "code",
   "execution_count": 15,
   "metadata": {},
   "outputs": [],
   "source": [
    "cost = tf.reduce_mean(tf.nn.softmax_cross_entropy_with_logits_v2(logits=logits, labels=Y))\n",
    "optimizer = tf.train.AdamOptimizer(learning_rate=learning_rate).minimize(cost)"
   ]
  },
  {
   "cell_type": "code",
   "execution_count": 16,
   "metadata": {
    "scrolled": true
   },
   "outputs": [
    {
     "name": "stdout",
     "output_type": "stream",
     "text": [
      "INFO:tensorflow:Restoring parameters from ../../model/Dense/4_dense_model\n"
     ]
    }
   ],
   "source": [
    "# Model Save\n",
    "sess=tf.Session()\n",
    "saver = tf.train.Saver()\n",
    "saver.restore(sess, '../../model/Dense/4_dense_model')"
   ]
  },
  {
   "cell_type": "code",
   "execution_count": 17,
   "metadata": {
    "scrolled": true
   },
   "outputs": [
    {
     "name": "stdout",
     "output_type": "stream",
     "text": [
      "<class 'numpy.ndarray'>\n"
     ]
    }
   ],
   "source": [
    "# Prediction\n",
    "y_test = sess.run(tf.nn.softmax(logits), feed_dict={X: X_test, keep_prob:1})\n",
    "y_pred = sess.run(tf.argmax(logits,1),feed_dict={X: X_test , keep_prob:1}) \n",
    "y_true = sess.run(tf.argmax(y_encoded,1))\n",
    "print(type(y_test))"
   ]
  },
  {
   "cell_type": "code",
   "execution_count": 18,
   "metadata": {
    "scrolled": true
   },
   "outputs": [
    {
     "name": "stdout",
     "output_type": "stream",
     "text": [
      "            0             1             2             3             4\n",
      "0    0.000000  0.000000e+00  0.000000e+00  0.000000e+00  1.000000e+00\n",
      "1    0.000000  0.000000e+00  0.000000e+00  0.000000e+00  1.000000e+00\n",
      "2    0.000000  0.000000e+00  0.000000e+00  0.000000e+00  1.000000e+00\n",
      "3    0.000000  0.000000e+00  0.000000e+00  0.000000e+00  1.000000e+00\n",
      "4    0.000000  0.000000e+00  0.000000e+00  0.000000e+00  1.000000e+00\n",
      "5    0.000000  0.000000e+00  0.000000e+00  0.000000e+00  1.000000e+00\n",
      "6    0.000000  0.000000e+00  0.000000e+00  0.000000e+00  1.000000e+00\n",
      "7    0.000000  0.000000e+00  0.000000e+00  0.000000e+00  1.000000e+00\n",
      "8    0.000000  0.000000e+00  0.000000e+00  0.000000e+00  1.000000e+00\n",
      "9    0.000000  0.000000e+00  0.000000e+00  0.000000e+00  1.000000e+00\n",
      "10   0.000000  0.000000e+00  0.000000e+00  0.000000e+00  1.000000e+00\n",
      "11   0.000000  0.000000e+00  0.000000e+00  0.000000e+00  1.000000e+00\n",
      "12   0.000000  0.000000e+00  0.000000e+00  0.000000e+00  1.000000e+00\n",
      "13   0.000000  0.000000e+00  0.000000e+00  0.000000e+00  1.000000e+00\n",
      "14   0.000000  0.000000e+00  0.000000e+00  0.000000e+00  1.000000e+00\n",
      "15   0.000000  0.000000e+00  0.000000e+00  0.000000e+00  1.000000e+00\n",
      "16   0.000000  0.000000e+00  0.000000e+00  0.000000e+00  1.000000e+00\n",
      "17   0.000000  0.000000e+00  0.000000e+00  0.000000e+00  1.000000e+00\n",
      "18   0.000000  0.000000e+00  0.000000e+00  0.000000e+00  1.000000e+00\n",
      "19   0.000000  0.000000e+00  0.000000e+00  0.000000e+00  1.000000e+00\n",
      "20   0.000000  0.000000e+00  0.000000e+00  0.000000e+00  1.000000e+00\n",
      "21   0.000000  0.000000e+00  0.000000e+00  0.000000e+00  1.000000e+00\n",
      "22   0.000000  0.000000e+00  0.000000e+00  0.000000e+00  1.000000e+00\n",
      "23   0.000000  0.000000e+00  0.000000e+00  0.000000e+00  1.000000e+00\n",
      "24   0.000000  0.000000e+00  0.000000e+00  0.000000e+00  1.000000e+00\n",
      "25   0.000000  0.000000e+00  0.000000e+00  0.000000e+00  1.000000e+00\n",
      "26   0.000000  0.000000e+00  0.000000e+00  0.000000e+00  1.000000e+00\n",
      "27   0.000000  0.000000e+00  0.000000e+00  0.000000e+00  1.000000e+00\n",
      "28   0.000000  0.000000e+00  0.000000e+00  0.000000e+00  1.000000e+00\n",
      "29   0.000000  0.000000e+00  0.000000e+00  0.000000e+00  1.000000e+00\n",
      "30   0.000000  0.000000e+00  0.000000e+00  0.000000e+00  1.000000e+00\n",
      "31   0.000000  0.000000e+00  0.000000e+00  0.000000e+00  1.000000e+00\n",
      "32   0.000000  0.000000e+00  0.000000e+00  0.000000e+00  1.000000e+00\n",
      "33   0.000000  0.000000e+00  0.000000e+00  0.000000e+00  1.000000e+00\n",
      "34   0.000303  2.103991e-03  4.684945e-02  9.505289e-01  2.145521e-04\n",
      "35   0.000691  4.187316e-03  4.157497e-01  5.790898e-01  2.822459e-04\n",
      "36   0.000845  7.298821e-03  8.755336e-01  1.163186e-01  4.130846e-06\n",
      "37   0.000868  3.257377e-03  4.736078e-01  5.221034e-01  1.639985e-04\n",
      "38   0.000862  1.485971e-02  8.475775e-01  1.366904e-01  9.960720e-06\n",
      "39   0.000998  9.818546e-03  5.851547e-01  4.037274e-01  3.010732e-04\n",
      "40   0.000143  6.161765e-04  2.412825e-02  9.749766e-01  1.363298e-04\n",
      "41   0.000133  7.578491e-04  1.743255e-02  9.815294e-01  1.471734e-04\n",
      "42   0.000023  2.228032e-04  1.634745e-03  9.977899e-01  3.297727e-04\n",
      "43   0.000884  1.992189e-02  6.409826e-01  3.379415e-01  2.696075e-04\n",
      "44   0.000777  9.906383e-03  8.165966e-01  1.727026e-01  1.772214e-05\n",
      "45   0.000356  1.756110e-03  2.147706e-01  7.827970e-01  3.206929e-04\n",
      "46   0.000060  1.565907e-04  1.537590e-02  9.843503e-01  5.747043e-05\n",
      "47   0.000657  1.673828e-02  8.191667e-01  1.634213e-01  1.673386e-05\n",
      "48   0.001079  1.646469e-02  1.945508e-01  7.868870e-01  1.018354e-03\n",
      "49   0.000822  4.967209e-02  2.347400e-02  9.000933e-01  2.593899e-02\n",
      "50   0.000661  4.046988e-02  4.885955e-01  4.697396e-01  5.344820e-04\n",
      "51   0.001123  2.324880e-02  5.450649e-01  4.299627e-01  6.005032e-04\n",
      "52   0.001997  5.835969e-03  9.432345e-01  4.893166e-02  1.171059e-06\n",
      "53   0.000744  3.274695e-02  7.943709e-01  1.720993e-01  3.885121e-05\n",
      "54   0.001587  2.800298e-02  4.234915e-01  5.456042e-01  1.314417e-03\n",
      "55   0.001848  2.731745e-02  1.268147e-02  7.784193e-01  1.797340e-01\n",
      "56   0.000503  3.550675e-03  7.112697e-02  9.244016e-01  4.175668e-04\n",
      "57   0.000836  4.846067e-03  2.706355e-01  7.230853e-01  5.973087e-04\n",
      "58   0.000522  3.472619e-03  1.096353e-01  8.859343e-01  4.357960e-04\n",
      "59   0.000359  3.398312e-03  8.537332e-02  9.102780e-01  5.916282e-04\n",
      "60   0.000699  7.147461e-03  6.892079e-02  9.192517e-01  3.981495e-03\n",
      "61   0.000867  7.921468e-03  3.291566e-01  6.612691e-01  7.854550e-04\n",
      "62   0.000659  9.462638e-03  2.053095e-01  7.832800e-01  1.288610e-03\n",
      "63   0.000686  6.085540e-03  3.676434e-01  6.249942e-01  5.906773e-04\n",
      "64   0.000548  3.577332e-03  3.610244e-02  9.585251e-01  1.247013e-03\n",
      "65   0.000193  2.624176e-03  1.430553e-04  5.049732e-02  9.465427e-01\n",
      "66   0.002611  4.624407e-02  6.408339e-03  1.659823e-01  7.787547e-01\n",
      "67   0.000959  1.144239e-02  7.584860e-02  9.093489e-01  2.400660e-03\n",
      "68   0.194697  1.057550e-01  6.845606e-01  1.172890e-02  3.258683e-03\n",
      "69   0.019388  1.139848e-01  8.318047e-01  3.477170e-02  5.102284e-05\n",
      "70   0.965721  1.676355e-04  3.411102e-02  3.742090e-08  1.435798e-07\n",
      "71   0.894635  1.131562e-03  1.042296e-01  1.632142e-06  2.648299e-06\n",
      "72   0.096044  1.145069e-01  7.657591e-01  2.251852e-02  1.171168e-03\n",
      "73   0.002571  8.485249e-02  8.213114e-01  9.125188e-02  1.344806e-05\n",
      "74   0.002492  1.419885e-01  7.653954e-01  9.010659e-02  1.757477e-05\n",
      "75   0.003383  7.766312e-02  8.428382e-01  7.610355e-02  1.229440e-05\n",
      "76   0.001782  3.959068e-01  5.400142e-01  6.227893e-02  1.829516e-05\n",
      "77   0.003981  1.086332e-01  8.194456e-01  6.792550e-02  1.482116e-05\n",
      "78   0.025492  1.455912e-01  7.976198e-01  3.118628e-02  1.109633e-04\n",
      "79   0.013916  5.861088e-02  8.915063e-01  3.594827e-02  1.890335e-05\n",
      "80   0.033450  1.000028e-01  8.363358e-01  3.009574e-02  1.154480e-04\n",
      "81   0.107957  8.046492e-02  7.901435e-01  2.044873e-02  9.856587e-04\n",
      "82   0.484584  2.399130e-02  4.907269e-01  4.314760e-04  2.661506e-04\n",
      "83   0.162974  7.988245e-02  7.442608e-01  1.139989e-02  1.482602e-03\n",
      "84   0.002721  8.984704e-02  8.243547e-01  8.306547e-02  1.211653e-05\n",
      "85   0.004555  1.145583e-01  8.179470e-01  6.292465e-02  1.561121e-05\n",
      "86   0.005749  4.817480e-02  8.793167e-01  6.674542e-02  1.407576e-05\n",
      "87   0.008791  1.373338e-01  7.953570e-01  5.848116e-02  3.705638e-05\n",
      "88   0.008981  1.330545e-01  7.990481e-01  5.887876e-02  3.733750e-05\n",
      "89   0.004885  1.003568e-01  8.136861e-01  8.104867e-02  2.353938e-05\n",
      "90   0.002644  5.764672e-02  8.544751e-01  8.522343e-02  1.025812e-05\n",
      "91   0.005268  1.882447e-01  7.345265e-01  7.192614e-02  3.516969e-05\n",
      "92   0.997176  7.348590e-06  2.816331e-03  5.768873e-11  1.588914e-09\n",
      "93   0.933726  5.652499e-04  6.570703e-02  3.642526e-07  9.012708e-07\n",
      "94   0.909917  6.611904e-04  8.941934e-02  8.937936e-07  1.406675e-06\n",
      "95   0.741260  4.824465e-03  2.538709e-01  2.213096e-05  2.223638e-05\n",
      "96   0.972813  7.976730e-05  2.710714e-02  2.875433e-08  8.452254e-08\n",
      "97   0.865065  1.987902e-03  1.329390e-01  3.115291e-06  5.486299e-06\n",
      "98   0.049819  2.077349e-01  7.001029e-01  4.141160e-02  9.320800e-04\n",
      "99   0.006916  1.755708e-01  7.681170e-01  4.936564e-02  3.014766e-05\n",
      "100  0.007307  2.242903e-01  7.088616e-01  5.949559e-02  4.506959e-05\n",
      "101  0.004929  8.165766e-02  8.529866e-01  6.041392e-02  1.323808e-05\n",
      "102  0.000098  9.424239e-01  4.925118e-02  8.224471e-03  2.689422e-06\n",
      "103  0.000098  9.424239e-01  4.925118e-02  8.224471e-03  2.689422e-06\n",
      "104  0.000098  9.424239e-01  4.925118e-02  8.224471e-03  2.689422e-06\n",
      "105  0.000098  9.424239e-01  4.925118e-02  8.224471e-03  2.689422e-06\n",
      "106  0.000098  9.424239e-01  4.925118e-02  8.224471e-03  2.689422e-06\n",
      "107  0.000098  9.424239e-01  4.925118e-02  8.224471e-03  2.689422e-06\n",
      "108  0.000144  9.263366e-01  6.315017e-02  1.036535e-02  4.273694e-06\n",
      "109  0.000098  9.424239e-01  4.925118e-02  8.224471e-03  2.689422e-06\n",
      "110  0.000098  9.424239e-01  4.925118e-02  8.224471e-03  2.689422e-06\n",
      "111  0.000297  8.738448e-01  1.094081e-01  1.644099e-02  8.737467e-06\n",
      "112  0.000888  5.983880e-01  3.525500e-01  4.815803e-02  1.583982e-05\n",
      "113  0.000098  9.424239e-01  4.925118e-02  8.224471e-03  2.689422e-06\n",
      "114  0.000877  6.551641e-01  3.028921e-01  4.105001e-02  1.659138e-05\n",
      "115  0.000914  6.010984e-01  3.502857e-01  4.768618e-02  1.574346e-05\n",
      "116  0.000098  9.424239e-01  4.925118e-02  8.224471e-03  2.689422e-06\n",
      "117  0.000098  9.424239e-01  4.925118e-02  8.224471e-03  2.689422e-06\n",
      "118  0.000098  9.424239e-01  4.925118e-02  8.224471e-03  2.689422e-06\n",
      "119  0.000098  9.424239e-01  4.925118e-02  8.224471e-03  2.689422e-06\n",
      "120  0.000098  9.424239e-01  4.925118e-02  8.224471e-03  2.689422e-06\n",
      "121  0.000098  9.424239e-01  4.925118e-02  8.224471e-03  2.689422e-06\n",
      "122  0.000874  6.563356e-01  3.018707e-01  4.090314e-02  1.655606e-05\n",
      "123  0.000098  9.424239e-01  4.925118e-02  8.224471e-03  2.689422e-06\n",
      "124  0.000098  9.424239e-01  4.925118e-02  8.224471e-03  2.689422e-06\n",
      "125  0.000098  9.424239e-01  4.925118e-02  8.224471e-03  2.689422e-06\n",
      "126  0.000098  9.424239e-01  4.925118e-02  8.224471e-03  2.689422e-06\n",
      "127  0.000098  9.424239e-01  4.925118e-02  8.224471e-03  2.689422e-06\n",
      "128  0.000098  9.424239e-01  4.925118e-02  8.224471e-03  2.689422e-06\n",
      "129  0.000098  9.424239e-01  4.925118e-02  8.224471e-03  2.689422e-06\n",
      "130  0.000098  9.424239e-01  4.925118e-02  8.224471e-03  2.689422e-06\n",
      "131  0.000098  9.424239e-01  4.925118e-02  8.224471e-03  2.689422e-06\n",
      "132  0.000098  9.424239e-01  4.925118e-02  8.224471e-03  2.689422e-06\n",
      "133  0.000098  9.424239e-01  4.925118e-02  8.224471e-03  2.689422e-06\n",
      "134  0.000098  9.424239e-01  4.925118e-02  8.224471e-03  2.689422e-06\n",
      "135  0.001357  4.044749e-01  5.203081e-01  7.383776e-02  2.261310e-05\n",
      "136  1.000000  0.000000e+00  8.111189e-34  0.000000e+00  0.000000e+00\n",
      "137  1.000000  2.039311e-38  2.668968e-25  0.000000e+00  0.000000e+00\n",
      "138  1.000000  6.852100e-33  9.588779e-22  0.000000e+00  0.000000e+00\n",
      "139  1.000000  3.289257e-31  1.843519e-20  0.000000e+00  0.000000e+00\n",
      "140  1.000000  2.427226e-15  9.360570e-10  6.854209e-28  3.506971e-23\n",
      "141  1.000000  1.801028e-19  1.476644e-12  2.364464e-35  5.347599e-29\n",
      "142  1.000000  3.212355e-36  2.046519e-23  0.000000e+00  0.000000e+00\n",
      "143  1.000000  1.241156e-19  4.240189e-13  2.023134e-36  9.502804e-30\n",
      "144  1.000000  1.765381e-24  4.785860e-16  0.000000e+00  9.407442e-37\n",
      "145  1.000000  7.224129e-26  8.369919e-17  0.000000e+00  1.482743e-38\n",
      "146  1.000000  1.470029e-34  4.889869e-23  0.000000e+00  0.000000e+00\n",
      "147  1.000000  3.334925e-27  2.751957e-18  0.000000e+00  0.000000e+00\n",
      "148  0.999999  3.731363e-11  7.716156e-07  1.692082e-20  4.235554e-17\n",
      "149  0.978285  8.339993e-05  2.163100e-02  1.224636e-08  6.105513e-08\n",
      "150  0.950522  2.985083e-04  4.917938e-02  1.504078e-07  3.889591e-07\n",
      "151  0.996552  3.929686e-06  3.444494e-03  1.057794e-10  1.362643e-09\n",
      "152  0.998147  1.111510e-06  1.851425e-03  1.419934e-11  1.798894e-10\n",
      "153  0.984640  4.729539e-05  1.531252e-02  6.831428e-09  3.676772e-08\n",
      "154  0.994719  9.340963e-06  5.271244e-03  2.992121e-10  2.767187e-09\n",
      "155  0.978350  1.025761e-04  2.154694e-02  1.851080e-08  1.000385e-07\n",
      "156  0.997489  2.653661e-06  2.508256e-03  4.469371e-11  6.343034e-10\n"
     ]
    }
   ],
   "source": [
    "import pandas as pd\n",
    "pd.options.display.max_rows = 4000\n",
    "print(pd.DataFrame(y_test))\n"
   ]
  },
  {
   "cell_type": "code",
   "execution_count": 21,
   "metadata": {
    "scrolled": false
   },
   "outputs": [
    {
     "name": "stdout",
     "output_type": "stream",
     "text": [
      "F-Score: 0.87\n",
      "Accuracy:  0.8662420382165605\n",
      "              precision    recall  f1-score   support\n",
      "\n",
      "           0       0.72      1.00      0.84        21\n",
      "           1       1.00      0.97      0.99        34\n",
      "           2       0.70      0.76      0.73        34\n",
      "           3       1.00      0.65      0.79        34\n",
      "           4       0.94      1.00      0.97        34\n",
      "\n",
      "   micro avg       0.87      0.87      0.87       157\n",
      "   macro avg       0.87      0.88      0.86       157\n",
      "weighted avg       0.89      0.87      0.86       157\n",
      "\n",
      "[[21  0  0  0  0]\n",
      " [ 0 33  1  0  0]\n",
      " [ 8  0 26  0  0]\n",
      " [ 0  0 10 22  2]\n",
      " [ 0  0  0  0 34]]\n"
     ]
    },
    {
     "data": {
      "image/png": "[encoded data removed]",
      "text/plain": [
       "<Figure size 1080x648 with 1 Axes>"
      ]
     },
     "metadata": {
      "needs_background": "light"
     },
     "output_type": "display_data"
    }
   ],
   "source": [
    "# Print Result\n",
    "\n",
    "from sklearn.metrics import precision_recall_fscore_support\n",
    "y_true = y_true\n",
    "y_pred = y_pred\n",
    "\n",
    "p,r,f,s = precision_recall_fscore_support(y_true, y_pred, average='micro')\n",
    "print(\"F-Score:\", round(f,2))\n",
    "from sklearn.metrics import accuracy_score\n",
    "print(\"Accuracy: \", accuracy_score(y_true, y_pred))\n",
    "\n",
    "\n",
    "#fig = plt.figure(figsize=(15,9))\n",
    "#ax = fig.add_subplot(1,1,1)\n",
    "#ax.plot(np.linspace(0,len(y_pred), len(y_pred)),y_true, 'x')\n",
    "\n",
    "\n",
    "fig = plt.figure(figsize=(15,9))\n",
    "ax = fig.add_subplot(1,1,1)\n",
    "ax.plot(np.linspace(0,len(y_pred), len(y_pred)),y_pred, 'x')\n",
    "\n",
    "from sklearn.metrics import classification_report\n",
    "print(classification_report(y_true, y_pred))\n",
    "from sklearn.metrics import confusion_matrix\n",
    "print(confusion_matrix(y_true, y_pred))"
   ]
  },
  {
   "cell_type": "code",
   "execution_count": 22,
   "metadata": {},
   "outputs": [],
   "source": [
    "from sklearn.metrics import confusion_matrix\n",
    "mat = confusion_matrix(y_true, y_pred)"
   ]
  },
  {
   "cell_type": "code",
   "execution_count": 23,
   "metadata": {},
   "outputs": [
    {
     "name": "stdout",
     "output_type": "stream",
     "text": [
      "[[21  0  0  0  0]\n",
      " [ 0 33  1  0  0]\n",
      " [ 8  0 26  0  0]\n",
      " [ 0  0 10 22  2]\n",
      " [ 0  0  0  0 34]]\n"
     ]
    }
   ],
   "source": [
    "print(mat)"
   ]
  },
  {
   "cell_type": "code",
   "execution_count": 24,
   "metadata": {},
   "outputs": [
    {
     "name": "stdout",
     "output_type": "stream",
     "text": [
      "[21  0  0  0  0]\n"
     ]
    }
   ],
   "source": [
    "print(mat[0])"
   ]
  },
  {
   "cell_type": "code",
   "execution_count": null,
   "metadata": {},
   "outputs": [],
   "source": []
  }
 ],
 "metadata": {
  "kernelspec": {
   "display_name": "Python 3",
   "language": "python",
   "name": "python3"
  },
  "language_info": {
   "codemirror_mode": {
    "name": "ipython",
    "version": 3
   },
   "file_extension": ".py",
   "mimetype": "text/x-python",
   "name": "python",
   "nbconvert_exporter": "python",
   "pygments_lexer": "ipython3",
   "version": "3.6.7"
  }
 },
 "nbformat": 4,
 "nbformat_minor": 2
}
