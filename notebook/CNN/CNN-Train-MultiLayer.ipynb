{
 "cells": [
  {
   "cell_type": "code",
   "execution_count": 1,
   "metadata": {
    "scrolled": true
   },
   "outputs": [],
   "source": [
    "import matplotlib.pyplot as plt\n",
    "%matplotlib inline\n",
    "import IPython.display\n",
    "import librosa.display\n",
    "import numpy as np\n",
    "import librosa\n",
    "import tensorflow as tf\n",
    "import glob"
   ]
  },
  {
   "cell_type": "markdown",
   "metadata": {},
   "source": [
    "### If you have been save the data, you don't have to preprocessing and save the data"
   ]
  },
  {
   "cell_type": "code",
   "execution_count": 2,
   "metadata": {},
   "outputs": [],
   "source": [
    "drone_path = '../../data/drone/*.wav'\n",
    "background_path = '../../data/background/*.wav'\n",
    "\n",
    "drone_files = glob.glob(drone_path)\n",
    "background_files = glob.glob(background_path)"
   ]
  },
  {
   "cell_type": "code",
   "execution_count": 3,
   "metadata": {},
   "outputs": [],
   "source": [
    "CHUNK_SIZE = 8192\n",
    "SR = 44100\n",
    "N_MFCC = 16"
   ]
  },
  {
   "cell_type": "code",
   "execution_count": 4,
   "metadata": {},
   "outputs": [],
   "source": [
    "def load(files, sr=44100):\n",
    "    [raw, sr] = librosa.load(files[0], sr=sr)\n",
    "    for f in files[1:]:\n",
    "        [array, sr] = librosa.load(f, sr=sr)\n",
    "        raw = np.hstack((raw, array))\n",
    "    print(raw.shape)\n",
    "    return raw"
   ]
  },
  {
   "cell_type": "code",
   "execution_count": 5,
   "metadata": {},
   "outputs": [
    {
     "name": "stdout",
     "output_type": "stream",
     "text": [
      "(2983765,)\n",
      "(5437727,)\n"
     ]
    }
   ],
   "source": [
    "drone_raw = load(drone_files)\n",
    "background_raw = load(background_files)"
   ]
  },
  {
   "cell_type": "markdown",
   "metadata": {},
   "source": [
    "# Data Processing"
   ]
  },
  {
   "cell_type": "code",
   "execution_count": 6,
   "metadata": {},
   "outputs": [],
   "source": [
    "def mfcc4(raw, label, chunk_size=8192, window_size=4096, sr=44100, n_mfcc=16, n_frame=16):\n",
    "    mfcc = np.empty((0, n_mfcc, n_frame))\n",
    "    y = []\n",
    "    print(raw.shape)\n",
    "    for i in range(0, len(raw), chunk_size//2):\n",
    "        mfcc_slice = librosa.feature.mfcc(raw[i:i+chunk_size], sr=sr, n_mfcc=n_mfcc) #n_mfcc,17\n",
    "        if mfcc_slice.shape[1] < 17:\n",
    "            print(\"small end:\", mfcc_slice.shape)\n",
    "            continue\n",
    "        mfcc_slice = mfcc_slice[:,:-1]\n",
    "        mfcc_slice = mfcc_slice.reshape((1, mfcc_slice.shape[0], mfcc_slice.shape[1]))\n",
    "        mfcc = np.vstack((mfcc, mfcc_slice))\n",
    "        y.append(label)\n",
    "    y = np.array(y)\n",
    "    return mfcc, y"
   ]
  },
  {
   "cell_type": "code",
   "execution_count": 7,
   "metadata": {},
   "outputs": [
    {
     "name": "stdout",
     "output_type": "stream",
     "text": [
      "(2983765,)\n",
      "small end: (16, 12)\n",
      "small end: (16, 4)\n",
      "(5437727,)\n",
      "small end: (16, 13)\n",
      "small end: (16, 5)\n",
      "(727, 16, 16) (727,)\n",
      "(1326, 16, 16) (1326,)\n"
     ]
    }
   ],
   "source": [
    "mfcc_drone, y_drone = mfcc4(drone_raw, 1)\n",
    "mfcc_background, y_background = mfcc4(background_raw, 0)\n",
    "\n",
    "print(mfcc_drone.shape, y_drone.shape)\n",
    "print(mfcc_background.shape, y_background.shape)"
   ]
  },
  {
   "cell_type": "code",
   "execution_count": 8,
   "metadata": {},
   "outputs": [
    {
     "name": "stdout",
     "output_type": "stream",
     "text": [
      "(2053, 16, 16) (2053,)\n"
     ]
    }
   ],
   "source": [
    "X = np.concatenate((mfcc_drone, mfcc_background), axis=0)\n",
    "#X = np.concatenate((mfcc_drone), axis=0)\n",
    "#X = X.reshape(-1, 16,16,1)\n",
    "y = np.hstack((y_drone, y_background))\n",
    "#y = np.hstack(y_drone)\n",
    "print(X.shape, y.shape)"
   ]
  },
  {
   "cell_type": "code",
   "execution_count": 9,
   "metadata": {},
   "outputs": [
    {
     "name": "stdout",
     "output_type": "stream",
     "text": [
      "(2053, 2)\n"
     ]
    }
   ],
   "source": [
    "n_labels = y.shape[0]\n",
    "n_unique_labels = 2\n",
    "y_encoded = np.zeros((n_labels, n_unique_labels))\n",
    "y_encoded[np.arange(n_labels), y] = 1\n",
    "print(y_encoded.shape)"
   ]
  },
  {
   "cell_type": "code",
   "execution_count": 10,
   "metadata": {},
   "outputs": [],
   "source": [
    "# Split data\n",
    "from sklearn import model_selection\n",
    "X_train, X_test, y_train, y_test = model_selection.train_test_split(X, y_encoded, test_size=0.2, random_state=42)\n",
    "X_train, X_val, y_train, y_val = model_selection.train_test_split(X_train, y_train, test_size=0.2, random_state=42)"
   ]
  },
  {
   "cell_type": "code",
   "execution_count": 11,
   "metadata": {},
   "outputs": [
    {
     "name": "stdout",
     "output_type": "stream",
     "text": [
      "(1313, 16, 16) (411, 16, 16)\n",
      "(329, 16, 16) (329, 2)\n",
      "(1313, 2) (411, 2)\n"
     ]
    }
   ],
   "source": [
    "print(X_train.shape, X_test.shape)\n",
    "print(X_val.shape, y_val.shape)\n",
    "print(y_train.shape, y_test.shape)"
   ]
  },
  {
   "cell_type": "code",
   "execution_count": 12,
   "metadata": {},
   "outputs": [],
   "source": [
    "# Save Data\n",
    "np.save('../../data/X_train', X_train)\n",
    "np.save('../../data/X_test', X_test)\n",
    "np.save('../../model/X_val', X_val)\n",
    "np.save('../../model/y_val', y_val)\n",
    "np.save('../../data/y_train', y_train)\n",
    "np.save('../../data/y_test', y_test)"
   ]
  },
  {
   "cell_type": "markdown",
   "metadata": {},
   "source": [
    "### Until this part"
   ]
  },
  {
   "cell_type": "code",
   "execution_count": 13,
   "metadata": {},
   "outputs": [],
   "source": [
    "# Load Data\n",
    "X_train = np.load('../../data/X_train.npy')\n",
    "X_test = np.load('../../data/X_test.npy')\n",
    "X_val = np.load('../../model/X_val.npy')\n",
    "y_val = np.load('../../model/y_val.npy')\n",
    "y_train = np.load('../../data/y_train.npy')\n",
    "y_test = np.load('../../data/y_test.npy')"
   ]
  },
  {
   "cell_type": "markdown",
   "metadata": {},
   "source": [
    "# Experiment 3 - One convolutional layer /w no dropout"
   ]
  },
  {
   "cell_type": "markdown",
   "metadata": {},
   "source": [
    "##Experiment 3-2\n",
    "- learning rate 0.005\n",
    "- pooling stride 1x1\n",
    "- #filter 1\n",
    "- best result among every other settings\n",
    "- cost kept fluctuated during training. (0.8 -> 1.3) -- why is that?"
   ]
  },
  {
   "cell_type": "code",
   "execution_count": 14,
   "metadata": {},
   "outputs": [],
   "source": [
    "tf.reset_default_graph()"
   ]
  },
  {
   "cell_type": "code",
   "execution_count": 15,
   "metadata": {},
   "outputs": [],
   "source": [
    "n_mfcc = 16\n",
    "n_frame = 16\n",
    "n_classes = 2\n",
    "n_channels = 1\n",
    "\n",
    "learning_rate = 0.0002  # 0.005\n",
    "training_epochs = 500 # 수정해봐"
   ]
  },
  {
   "cell_type": "markdown",
   "metadata": {},
   "source": [
    "# Layer"
   ]
  },
  {
   "cell_type": "code",
   "execution_count": 16,
   "metadata": {},
   "outputs": [],
   "source": [
    "X = tf.placeholder(tf.float32, shape=[None,n_mfcc*n_frame*n_channels])\n",
    "X = tf.reshape(X, [-1, n_mfcc, n_frame, n_channels])\n",
    "Y = tf.placeholder(tf.float32, shape=[None,n_classes])\n",
    "\n",
    "conv1 = tf.layers.conv2d(inputs=X, filters=1, kernel_size=[3, 3],\n",
    "                         padding=\"SAME\", activation=tf.nn.relu)\n",
    "pool1 = tf.layers.max_pooling2d(inputs=conv1, pool_size=[2, 2],\n",
    "                                padding=\"SAME\", strides=1)\n",
    "# dropout넣어야하나\n",
    "conv2 = tf.layers.conv2d(inputs=pool1, filters=1, kernel_size=[3, 3],\n",
    "                         padding=\"SAME\", activation=tf.nn.relu)\n",
    "pool2 = tf.layers.max_pooling2d(inputs=conv2, pool_size=[2, 2],\n",
    "                                padding=\"SAME\", strides=1)\n",
    "# 여기도\n",
    "flat = tf.reshape(pool2, [-1, 16*16*1])\n",
    "dense2 = tf.layers.dense(inputs=flat, units=625, activation=tf.nn.relu)\n",
    "logits = tf.layers.dense(inputs=dense2, units=2)"
   ]
  },
  {
   "cell_type": "code",
   "execution_count": 17,
   "metadata": {},
   "outputs": [],
   "source": [
    "cost = tf.reduce_mean(tf.nn.softmax_cross_entropy_with_logits_v2(logits=logits, labels=Y))\n",
    "optimizer = tf.train.AdamOptimizer(learning_rate=learning_rate).minimize(cost)"
   ]
  },
  {
   "cell_type": "code",
   "execution_count": 18,
   "metadata": {},
   "outputs": [],
   "source": [
    "Y_pred = tf.contrib.layers.fully_connected(logits,n_classes,activation_fn = None)"
   ]
  },
  {
   "cell_type": "code",
   "execution_count": 19,
   "metadata": {},
   "outputs": [],
   "source": [
    "sess = tf.Session()\n",
    "sess.run(tf.global_variables_initializer())"
   ]
  },
  {
   "cell_type": "code",
   "execution_count": 20,
   "metadata": {},
   "outputs": [],
   "source": [
    "X_train2 = X_train.reshape(X_train.shape[0], X_train.shape[1], X_train.shape[2], 1)\n",
    "X_test2 = X_test.reshape(X_test.shape[0], X_test.shape[1], X_test.shape[2], 1)\n",
    "X_val2 = X_val.reshape(X_val.shape[0], X_val.shape[1], X_val.shape[2], 1)"
   ]
  },
  {
   "cell_type": "code",
   "execution_count": 21,
   "metadata": {},
   "outputs": [],
   "source": [
    "# model save\n",
    "model_path = '../../model/CNN/cnn_model'\n",
    "saver = tf.train.Saver()"
   ]
  },
  {
   "cell_type": "markdown",
   "metadata": {},
   "source": [
    "# Trainning"
   ]
  },
  {
   "cell_type": "code",
   "execution_count": 22,
   "metadata": {},
   "outputs": [],
   "source": [
    "from sklearn.metrics import precision_recall_fscore_support\n",
    "from sklearn.metrics import accuracy_score\n",
    "from sklearn.metrics import classification_report\n",
    "from sklearn.metrics import confusion_matrix\n",
    "import itertools as it"
   ]
  },
  {
   "cell_type": "code",
   "execution_count": 23,
   "metadata": {
    "scrolled": false
   },
   "outputs": [
    {
     "name": "stdout",
     "output_type": "stream",
     "text": [
      "329 Epoch: 0001 cost =  7.770405310 val =  0.784195\n",
      "329 Epoch: 0002 cost =  0.607410669 val =  0.911854\n",
      "329 Epoch: 0003 cost =  0.421317469 val =  0.732523\n",
      "329 Epoch: 0004 cost =  0.591277858 val =  0.917933\n",
      "329 Epoch: 0005 cost =  0.383363604 val =  0.817629\n",
      "329 Epoch: 0006 cost =  0.352509294 val =  0.790274\n",
      "329 Epoch: 0007 cost =  0.305857438 val =  0.744681\n",
      "329 Epoch: 0008 cost =  0.267452165 val =  0.656535\n",
      "329 Epoch: 0009 cost =  0.259643213 val =  0.604863\n",
      "329 Epoch: 0010 cost =  0.282544655 val =  0.528875\n",
      "329 Epoch: 0011 cost =  0.327643001 val =  0.528875\n",
      "329 Epoch: 0012 cost =  0.344144859 val =  0.544073\n",
      "329 Epoch: 0013 cost =  0.365384437 val =  0.927052\n",
      "329 Epoch: 0014 cost =  0.318812984 val =  0.881459\n",
      "329 Epoch: 0015 cost =  0.312805244 val =  0.933131\n",
      "329 Epoch: 0016 cost =  0.315324846 val =  0.954407\n",
      "329 Epoch: 0017 cost =  0.289039014 val =  0.951368\n",
      "329 Epoch: 0018 cost =  0.224036404 val =  0.957447\n",
      "329 Epoch: 0019 cost =  0.190561958 val =  0.954407\n",
      "329 Epoch: 0020 cost =  0.169987650 val =  0.942249\n",
      "329 Epoch: 0021 cost =  0.152470270 val =  0.942249\n",
      "329 Epoch: 0022 cost =  0.133836769 val =  0.945289\n",
      "329 Epoch: 0023 cost =  0.116787481 val =  0.939210\n",
      "329 Epoch: 0024 cost =  0.155225770 val =  0.796353\n",
      "329 Epoch: 0025 cost =  0.132602465 val =  0.920973\n",
      "329 Epoch: 0026 cost =  0.161955602 val =  0.741641\n",
      "329 Epoch: 0027 cost =  0.158740638 val =  0.899696\n",
      "329 Epoch: 0028 cost =  0.124651651 val =  0.884498\n",
      "329 Epoch: 0029 cost =  0.101282847 val =  0.933131\n",
      "329 Epoch: 0030 cost =  0.087492982 val =  0.939210\n",
      "329 Epoch: 0031 cost =  0.088045094 val =  0.945289\n",
      "329 Epoch: 0032 cost =  0.082704265 val =  0.948328\n",
      "329 Epoch: 0033 cost =  0.072586590 val =  0.954407\n",
      "329 Epoch: 0034 cost =  0.067376570 val =  0.954407\n",
      "329 Epoch: 0035 cost =  0.066715980 val =  0.957447\n",
      "329 Epoch: 0036 cost =  0.067336056 val =  0.951368\n",
      "329 Epoch: 0037 cost =  0.070557389 val =  0.945289\n",
      "329 Epoch: 0038 cost =  0.069299979 val =  0.911854\n",
      "329 Epoch: 0039 cost =  0.082789055 val =  0.917933\n",
      "329 Epoch: 0040 cost =  0.084432064 val =  0.872340\n",
      "329 Epoch: 0041 cost =  0.160540720 val =  0.957447\n",
      "329 Epoch: 0042 cost =  0.325036694 val =  0.471125\n",
      "329 Epoch: 0043 cost =  0.470530728 val =  0.936170\n",
      "329 Epoch: 0044 cost =  0.219419940 val =  0.951368\n",
      "329 Epoch: 0045 cost =  0.191093179 val =  0.963526\n",
      "329 Epoch: 0046 cost =  0.151836980 val =  0.981763\n",
      "329 Epoch: 0047 cost =  0.134208340 val =  0.954407\n",
      "329 Epoch: 0048 cost =  0.183332098 val =  0.942249\n",
      "329 Epoch: 0049 cost =  0.170958172 val =  0.978723\n",
      "329 Epoch: 0050 cost =  0.089269015 val =  0.838906\n",
      "329 Epoch: 0051 cost =  0.117706221 val =  0.972644\n",
      "329 Epoch: 0052 cost =  0.058864192 val =  0.896657\n",
      "329 Epoch: 0053 cost =  0.058480410 val =  0.905775\n",
      "329 Epoch: 0054 cost =  0.049124635 val =  0.942249\n",
      "329 Epoch: 0055 cost =  0.038710493 val =  0.936170\n",
      "329 Epoch: 0056 cost =  0.034910992 val =  0.939210\n",
      "329 Epoch: 0057 cost =  0.033247857 val =  0.933131\n",
      "329 Epoch: 0058 cost =  0.032102508 val =  0.945289\n",
      "329 Epoch: 0059 cost =  0.030707629 val =  0.948328\n",
      "329 Epoch: 0060 cost =  0.028801707 val =  0.945289\n",
      "329 Epoch: 0061 cost =  0.028665905 val =  0.948328\n",
      "329 Epoch: 0062 cost =  0.027939126 val =  0.936170\n",
      "329 Epoch: 0063 cost =  0.026519363 val =  0.951368\n",
      "329 Epoch: 0064 cost =  0.027477892 val =  0.942249\n",
      "329 Epoch: 0065 cost =  0.024920693 val =  0.951368\n",
      "329 Epoch: 0066 cost =  0.025263660 val =  0.945289\n",
      "329 Epoch: 0067 cost =  0.030495002 val =  0.924012\n",
      "329 Epoch: 0068 cost =  0.031703886 val =  0.896657\n",
      "329 Epoch: 0069 cost =  0.027448032 val =  0.975684\n",
      "329 Epoch: 0070 cost =  0.029024747 val =  0.975684\n",
      "329 Epoch: 0071 cost =  0.046785481 val =  0.896657\n",
      "329 Epoch: 0072 cost =  0.034768768 val =  0.981763\n",
      "329 Epoch: 0073 cost =  0.035788535 val =  0.914894\n",
      "329 Epoch: 0074 cost =  0.067316850 val =  0.848024\n",
      "329 Epoch: 0075 cost =  0.036979743 val =  0.981763\n",
      "329 Epoch: 0076 cost =  0.574255268 val =  0.449848\n",
      "329 Epoch: 0077 cost =  1.127477081 val =  0.939210\n",
      "329 Epoch: 0078 cost =  0.259932431 val =  0.972644\n",
      "329 Epoch: 0079 cost =  0.112899760 val =  0.981763\n",
      "329 Epoch: 0080 cost =  0.078587779 val =  0.978723\n",
      "329 Epoch: 0081 cost =  0.064190156 val =  0.978723\n",
      "329 Epoch: 0082 cost =  0.051362384 val =  0.981763\n",
      "329 Epoch: 0083 cost =  0.043695017 val =  0.978723\n",
      "329 Epoch: 0084 cost =  0.035522266 val =  0.978723\n",
      "329 Epoch: 0085 cost =  0.032049274 val =  0.981763\n",
      "329 Epoch: 0086 cost =  0.029748131 val =  0.981763\n",
      "329 Epoch: 0087 cost =  0.027282805 val =  0.984802\n",
      "329 Epoch: 0088 cost =  0.025532705 val =  0.987842\n",
      "329 Epoch: 0089 cost =  0.025777611 val =  0.984802\n",
      "329 Epoch: 0090 cost =  0.023283932 val =  0.981763\n",
      "329 Epoch: 0091 cost =  0.024468978 val =  0.981763\n",
      "329 Epoch: 0092 cost =  0.022837962 val =  0.978723\n",
      "329 Epoch: 0093 cost =  0.022909891 val =  0.981763\n",
      "329 Epoch: 0094 cost =  0.024105552 val =  0.984802\n",
      "329 Epoch: 0095 cost =  0.019877484 val =  0.984802\n",
      "329 Epoch: 0096 cost =  0.015412655 val =  0.984802\n",
      "329 Epoch: 0097 cost =  0.012221428 val =  0.975684\n",
      "329 Epoch: 0098 cost =  0.013198449 val =  0.984802\n",
      "329 Epoch: 0099 cost =  0.011891385 val =  0.984802\n",
      "329 Epoch: 0100 cost =  0.011620230 val =  0.981763\n",
      "329 Epoch: 0101 cost =  0.011470143 val =  0.981763\n",
      "329 Epoch: 0102 cost =  0.011716874 val =  0.981763\n",
      "329 Epoch: 0103 cost =  0.011015297 val =  0.978723\n",
      "329 Epoch: 0104 cost =  0.011470024 val =  0.981763\n",
      "329 Epoch: 0105 cost =  0.010817144 val =  0.981763\n",
      "329 Epoch: 0106 cost =  0.010940781 val =  0.978723\n",
      "329 Epoch: 0107 cost =  0.011457170 val =  0.981763\n",
      "329 Epoch: 0108 cost =  0.011287457 val =  0.981763\n",
      "329 Epoch: 0109 cost =  0.011427569 val =  0.981763\n",
      "329 Epoch: 0110 cost =  0.011289010 val =  0.981763\n",
      "329 Epoch: 0111 cost =  0.011875468 val =  0.981763\n",
      "329 Epoch: 0112 cost =  0.012214624 val =  0.987842\n",
      "329 Epoch: 0113 cost =  0.012516088 val =  0.987842\n",
      "329 Epoch: 0114 cost =  0.023297701 val =  0.987842\n",
      "329 Epoch: 0115 cost =  0.013370694 val =  0.984802\n",
      "329 Epoch: 0116 cost =  0.057972156 val =  0.981763\n",
      "329 Epoch: 0117 cost =  0.033038640 val =  0.917933\n",
      "329 Epoch: 0118 cost =  0.189741147 val =  0.917933\n",
      "329 Epoch: 0119 cost =  0.072289606 val =  0.987842\n",
      "329 Epoch: 0120 cost =  0.046154383 val =  0.875380\n",
      "329 Epoch: 0121 cost =  0.208678335 val =  0.963526\n",
      "329 Epoch: 0122 cost =  0.062206495 val =  0.966565\n",
      "329 Epoch: 0123 cost =  0.022867812 val =  0.978723\n",
      "329 Epoch: 0124 cost =  0.037522886 val =  0.978723\n",
      "329 Epoch: 0125 cost =  0.022774896 val =  0.975684\n",
      "329 Epoch: 0126 cost =  0.021740351 val =  0.972644\n",
      "329 Epoch: 0127 cost =  0.018869537 val =  0.987842\n",
      "329 Epoch: 0128 cost =  0.024374851 val =  0.987842\n",
      "329 Epoch: 0129 cost =  0.023258590 val =  0.984802\n",
      "329 Epoch: 0130 cost =  0.027742194 val =  0.987842\n",
      "329 Epoch: 0131 cost =  0.025232824 val =  0.990881\n",
      "329 Epoch: 0132 cost =  0.026833978 val =  0.984802\n",
      "329 Epoch: 0133 cost =  0.026434007 val =  0.984802\n",
      "329 Epoch: 0134 cost =  0.024675715 val =  0.984802\n",
      "329 Epoch: 0135 cost =  0.037213807 val =  0.984802\n",
      "329 Epoch: 0136 cost =  0.029937667 val =  0.978723\n",
      "329 Epoch: 0137 cost =  0.038952574 val =  0.966565\n",
      "329 Epoch: 0138 cost =  0.053467723 val =  0.984802\n",
      "329 Epoch: 0139 cost =  0.035004739 val =  0.981763\n",
      "329 Epoch: 0140 cost =  0.040615348 val =  0.984802\n",
      "329 Epoch: 0141 cost =  0.043168826 val =  0.984802\n",
      "329 Epoch: 0142 cost =  0.035854388 val =  0.984802\n",
      "329 Epoch: 0143 cost =  0.044315315 val =  0.981763\n",
      "329 Epoch: 0144 cost =  0.038185108 val =  0.981763\n",
      "329 Epoch: 0145 cost =  0.044613465 val =  0.987842\n",
      "329 Epoch: 0146 cost =  0.042843367 val =  0.987842\n",
      "329 Epoch: 0147 cost =  0.030989907 val =  0.978723\n",
      "329 Epoch: 0148 cost =  0.043635994 val =  0.969605\n",
      "329 Epoch: 0149 cost =  0.049834576 val =  0.984802\n",
      "329 Epoch: 0150 cost =  0.048053526 val =  0.987842\n",
      "329 Epoch: 0151 cost =  0.064090086 val =  0.975684\n",
      "329 Epoch: 0152 cost =  0.045386291 val =  0.990881\n",
      "329 Epoch: 0153 cost =  0.058080720 val =  0.984802\n",
      "329 Epoch: 0154 cost =  0.035386125 val =  0.954407\n",
      "329 Epoch: 0155 cost =  0.075335385 val =  0.954407\n",
      "329 Epoch: 0156 cost =  0.090820688 val =  0.978723\n",
      "329 Epoch: 0157 cost =  0.041432956 val =  0.948328\n",
      "329 Epoch: 0158 cost =  0.102969041 val =  0.981763\n"
     ]
    },
    {
     "name": "stdout",
     "output_type": "stream",
     "text": [
      "329 Epoch: 0159 cost =  0.040562658 val =  0.948328\n",
      "329 Epoch: 0160 cost =  0.091336330 val =  0.939210\n",
      "329 Epoch: 0161 cost =  0.087876913 val =  0.966565\n",
      "329 Epoch: 0162 cost =  0.070840002 val =  0.972644\n",
      "329 Epoch: 0163 cost =  0.066805561 val =  0.969605\n",
      "329 Epoch: 0164 cost =  0.070175880 val =  0.948328\n",
      "329 Epoch: 0165 cost =  0.091789590 val =  0.945289\n",
      "329 Epoch: 0166 cost =  0.111808672 val =  0.963526\n",
      "329 Epoch: 0167 cost =  0.085214455 val =  0.939210\n",
      "329 Epoch: 0168 cost =  0.153168896 val =  0.957447\n",
      "329 Epoch: 0169 cost =  0.060095248 val =  0.978723\n",
      "329 Epoch: 0170 cost =  0.032443038 val =  0.978723\n",
      "329 Epoch: 0171 cost =  0.034051083 val =  0.981763\n",
      "329 Epoch: 0172 cost =  0.023716250 val =  0.975684\n",
      "329 Epoch: 0173 cost =  0.022145924 val =  0.972644\n",
      "329 Epoch: 0174 cost =  0.017441291 val =  0.978723\n",
      "329 Epoch: 0175 cost =  0.015318722 val =  0.975684\n",
      "329 Epoch: 0176 cost =  0.011676757 val =  0.978723\n",
      "329 Epoch: 0177 cost =  0.008937429 val =  0.978723\n",
      "329 Epoch: 0178 cost =  0.005767285 val =  0.975684\n",
      "329 Epoch: 0179 cost =  0.005079944 val =  0.969605\n",
      "329 Epoch: 0180 cost =  0.003896067 val =  0.975684\n",
      "329 Epoch: 0181 cost =  0.000972542 val =  0.975684\n",
      "329 Epoch: 0182 cost =  0.002604352 val =  0.975684\n",
      "329 Epoch: 0183 cost =  0.001302780 val =  0.975684\n",
      "329 Epoch: 0184 cost =  0.001432801 val =  0.975684\n",
      "329 Epoch: 0185 cost =  0.001546498 val =  0.978723\n",
      "329 Epoch: 0186 cost =  0.001430112 val =  0.978723\n",
      "329 Epoch: 0187 cost =  0.001384887 val =  0.975684\n",
      "329 Epoch: 0188 cost =  0.001408378 val =  0.975684\n",
      "329 Epoch: 0189 cost =  0.001387146 val =  0.975684\n",
      "329 Epoch: 0190 cost =  0.001317582 val =  0.975684\n",
      "329 Epoch: 0191 cost =  0.001330173 val =  0.975684\n",
      "329 Epoch: 0192 cost =  0.001281454 val =  0.975684\n",
      "329 Epoch: 0193 cost =  0.001246441 val =  0.975684\n",
      "329 Epoch: 0194 cost =  0.001190975 val =  0.975684\n",
      "329 Epoch: 0195 cost =  0.001244657 val =  0.978723\n",
      "329 Epoch: 0196 cost =  0.001177567 val =  0.975684\n",
      "329 Epoch: 0197 cost =  0.001120348 val =  0.975684\n",
      "329 Epoch: 0198 cost =  0.001133341 val =  0.975684\n",
      "329 Epoch: 0199 cost =  0.001093204 val =  0.975684\n",
      "329 Epoch: 0200 cost =  0.001071002 val =  0.975684\n",
      "329 Epoch: 0201 cost =  0.001065332 val =  0.975684\n",
      "329 Epoch: 0202 cost =  0.001006144 val =  0.975684\n",
      "329 Epoch: 0203 cost =  0.001018629 val =  0.978723\n",
      "329 Epoch: 0204 cost =  0.000995319 val =  0.978723\n",
      "329 Epoch: 0205 cost =  0.000944746 val =  0.975684\n",
      "329 Epoch: 0206 cost =  0.000937994 val =  0.975684\n",
      "329 Epoch: 0207 cost =  0.000938082 val =  0.975684\n",
      "329 Epoch: 0208 cost =  0.000913446 val =  0.978723\n",
      "329 Epoch: 0209 cost =  0.000885826 val =  0.978723\n",
      "329 Epoch: 0210 cost =  0.000876752 val =  0.975684\n",
      "329 Epoch: 0211 cost =  0.000854887 val =  0.975684\n",
      "329 Epoch: 0212 cost =  0.000833864 val =  0.972644\n",
      "329 Epoch: 0213 cost =  0.000829336 val =  0.978723\n",
      "329 Epoch: 0214 cost =  0.000791825 val =  0.975684\n",
      "329 Epoch: 0215 cost =  0.000786799 val =  0.972644\n",
      "329 Epoch: 0216 cost =  0.000776032 val =  0.978723\n",
      "329 Epoch: 0217 cost =  0.000736929 val =  0.972644\n",
      "329 Epoch: 0218 cost =  0.000752156 val =  0.975684\n",
      "329 Epoch: 0219 cost =  0.000741729 val =  0.975684\n",
      "329 Epoch: 0220 cost =  0.000704230 val =  0.972644\n",
      "329 Epoch: 0221 cost =  0.000699577 val =  0.972644\n",
      "329 Epoch: 0222 cost =  0.000695258 val =  0.975684\n",
      "329 Epoch: 0223 cost =  0.000661986 val =  0.972644\n",
      "329 Epoch: 0224 cost =  0.000664590 val =  0.972644\n",
      "329 Epoch: 0225 cost =  0.000668371 val =  0.978723\n",
      "329 Epoch: 0226 cost =  0.000625613 val =  0.972644\n",
      "329 Epoch: 0227 cost =  0.000620214 val =  0.972644\n",
      "329 Epoch: 0228 cost =  0.000628964 val =  0.975684\n",
      "329 Epoch: 0229 cost =  0.000606127 val =  0.972644\n",
      "329 Epoch: 0230 cost =  0.000583219 val =  0.972644\n",
      "329 Epoch: 0231 cost =  0.000563122 val =  0.972644\n",
      "329 Epoch: 0232 cost =  0.000563473 val =  0.972644\n",
      "329 Epoch: 0233 cost =  0.000564628 val =  0.972644\n",
      "329 Epoch: 0234 cost =  0.000553805 val =  0.972644\n",
      "329 Epoch: 0235 cost =  0.000525608 val =  0.972644\n",
      "329 Epoch: 0236 cost =  0.000520484 val =  0.972644\n",
      "329 Epoch: 0237 cost =  0.000506352 val =  0.972644\n",
      "329 Epoch: 0238 cost =  0.000492351 val =  0.972644\n",
      "329 Epoch: 0239 cost =  0.000491600 val =  0.972644\n",
      "329 Epoch: 0240 cost =  0.000468392 val =  0.972644\n",
      "329 Epoch: 0241 cost =  0.000475813 val =  0.972644\n",
      "329 Epoch: 0242 cost =  0.000472128 val =  0.975684\n",
      "329 Epoch: 0243 cost =  0.000447225 val =  0.975684\n",
      "329 Epoch: 0244 cost =  0.000440001 val =  0.975684\n",
      "329 Epoch: 0245 cost =  0.000429062 val =  0.975684\n",
      "329 Epoch: 0246 cost =  0.000421525 val =  0.975684\n",
      "329 Epoch: 0247 cost =  0.000409004 val =  0.975684\n",
      "329 Epoch: 0248 cost =  0.000396543 val =  0.975684\n",
      "329 Epoch: 0249 cost =  0.000393927 val =  0.975684\n",
      "329 Epoch: 0250 cost =  0.000389563 val =  0.975684\n",
      "329 Epoch: 0251 cost =  0.000371771 val =  0.975684\n",
      "329 Epoch: 0252 cost =  0.000367186 val =  0.975684\n",
      "329 Epoch: 0253 cost =  0.000362253 val =  0.975684\n",
      "329 Epoch: 0254 cost =  0.000362016 val =  0.975684\n",
      "329 Epoch: 0255 cost =  0.000350185 val =  0.975684\n",
      "329 Epoch: 0256 cost =  0.000344774 val =  0.975684\n",
      "329 Epoch: 0257 cost =  0.000338486 val =  0.975684\n",
      "329 Epoch: 0258 cost =  0.000324587 val =  0.975684\n",
      "329 Epoch: 0259 cost =  0.000316368 val =  0.975684\n",
      "329 Epoch: 0260 cost =  0.000306086 val =  0.975684\n",
      "329 Epoch: 0261 cost =  0.000310444 val =  0.975684\n",
      "329 Epoch: 0262 cost =  0.000300427 val =  0.975684\n",
      "329 Epoch: 0263 cost =  0.000290875 val =  0.975684\n",
      "329 Epoch: 0264 cost =  0.000291797 val =  0.975684\n",
      "329 Epoch: 0265 cost =  0.000285170 val =  0.975684\n",
      "329 Epoch: 0266 cost =  0.000270734 val =  0.975684\n",
      "329 Epoch: 0267 cost =  0.000262464 val =  0.975684\n",
      "329 Epoch: 0268 cost =  0.000261626 val =  0.975684\n",
      "329 Epoch: 0269 cost =  0.000254983 val =  0.975684\n",
      "329 Epoch: 0270 cost =  0.000249635 val =  0.975684\n",
      "329 Epoch: 0271 cost =  0.000246944 val =  0.975684\n",
      "329 Epoch: 0272 cost =  0.000242556 val =  0.975684\n",
      "329 Epoch: 0273 cost =  0.000236109 val =  0.975684\n",
      "329 Epoch: 0274 cost =  0.000237297 val =  0.975684\n",
      "329 Epoch: 0275 cost =  0.000234624 val =  0.975684\n",
      "329 Epoch: 0276 cost =  0.000222627 val =  0.975684\n",
      "329 Epoch: 0277 cost =  0.000213277 val =  0.975684\n",
      "329 Epoch: 0278 cost =  0.000214762 val =  0.975684\n",
      "329 Epoch: 0279 cost =  0.000208994 val =  0.975684\n",
      "329 Epoch: 0280 cost =  0.000205216 val =  0.975684\n",
      "329 Epoch: 0281 cost =  0.000204524 val =  0.975684\n",
      "329 Epoch: 0282 cost =  0.000195133 val =  0.975684\n",
      "329 Epoch: 0283 cost =  0.000188915 val =  0.975684\n",
      "329 Epoch: 0284 cost =  0.000188702 val =  0.975684\n",
      "329 Epoch: 0285 cost =  0.000182422 val =  0.975684\n",
      "329 Epoch: 0286 cost =  0.000176128 val =  0.975684\n",
      "329 Epoch: 0287 cost =  0.000175237 val =  0.975684\n",
      "329 Epoch: 0288 cost =  0.000172752 val =  0.975684\n",
      "329 Epoch: 0289 cost =  0.000169278 val =  0.975684\n",
      "329 Epoch: 0290 cost =  0.000165180 val =  0.975684\n",
      "329 Epoch: 0291 cost =  0.000163051 val =  0.975684\n",
      "329 Epoch: 0292 cost =  0.000158719 val =  0.975684\n",
      "329 Epoch: 0293 cost =  0.000155613 val =  0.975684\n",
      "329 Epoch: 0294 cost =  0.000152417 val =  0.975684\n",
      "329 Epoch: 0295 cost =  0.000148499 val =  0.975684\n",
      "329 Epoch: 0296 cost =  0.000143743 val =  0.975684\n",
      "329 Epoch: 0297 cost =  0.000143882 val =  0.975684\n",
      "329 Epoch: 0298 cost =  0.000141157 val =  0.975684\n",
      "329 Epoch: 0299 cost =  0.000137153 val =  0.975684\n",
      "329 Epoch: 0300 cost =  0.000135670 val =  0.975684\n",
      "329 Epoch: 0301 cost =  0.000130427 val =  0.975684\n",
      "329 Epoch: 0302 cost =  0.000129537 val =  0.975684\n",
      "329 Epoch: 0303 cost =  0.000127357 val =  0.975684\n",
      "329 Epoch: 0304 cost =  0.000123049 val =  0.975684\n",
      "329 Epoch: 0305 cost =  0.000119315 val =  0.975684\n",
      "329 Epoch: 0306 cost =  0.000115791 val =  0.975684\n",
      "329 Epoch: 0307 cost =  0.000115228 val =  0.975684\n",
      "329 Epoch: 0308 cost =  0.000112130 val =  0.975684\n",
      "329 Epoch: 0309 cost =  0.000109807 val =  0.975684\n",
      "329 Epoch: 0310 cost =  0.000109155 val =  0.975684\n",
      "329 Epoch: 0311 cost =  0.000106384 val =  0.975684\n",
      "329 Epoch: 0312 cost =  0.000103112 val =  0.975684\n",
      "329 Epoch: 0313 cost =  0.000100844 val =  0.975684\n",
      "329 Epoch: 0314 cost =  0.000100396 val =  0.975684\n",
      "329 Epoch: 0315 cost =  0.000096423 val =  0.975684\n",
      "329 Epoch: 0316 cost =  0.000095775 val =  0.975684\n"
     ]
    },
    {
     "name": "stdout",
     "output_type": "stream",
     "text": [
      "329 Epoch: 0317 cost =  0.000092936 val =  0.975684\n",
      "329 Epoch: 0318 cost =  0.000090980 val =  0.975684\n",
      "329 Epoch: 0319 cost =  0.000088562 val =  0.975684\n",
      "329 Epoch: 0320 cost =  0.000087209 val =  0.975684\n",
      "329 Epoch: 0321 cost =  0.000085389 val =  0.975684\n",
      "329 Epoch: 0322 cost =  0.000083173 val =  0.975684\n",
      "329 Epoch: 0323 cost =  0.000081568 val =  0.975684\n",
      "329 Epoch: 0324 cost =  0.000079790 val =  0.975684\n",
      "329 Epoch: 0325 cost =  0.000078429 val =  0.975684\n",
      "329 Epoch: 0326 cost =  0.000077250 val =  0.975684\n",
      "329 Epoch: 0327 cost =  0.000074375 val =  0.975684\n",
      "329 Epoch: 0328 cost =  0.000073833 val =  0.975684\n",
      "329 Epoch: 0329 cost =  0.000071547 val =  0.975684\n",
      "329 Epoch: 0330 cost =  0.000070714 val =  0.975684\n",
      "329 Epoch: 0331 cost =  0.000069165 val =  0.975684\n",
      "329 Epoch: 0332 cost =  0.000067767 val =  0.975684\n",
      "329 Epoch: 0333 cost =  0.000065821 val =  0.975684\n",
      "329 Epoch: 0334 cost =  0.000065154 val =  0.975684\n",
      "329 Epoch: 0335 cost =  0.000063883 val =  0.975684\n",
      "329 Epoch: 0336 cost =  0.000062580 val =  0.975684\n",
      "329 Epoch: 0337 cost =  0.000061688 val =  0.975684\n",
      "329 Epoch: 0338 cost =  0.000059799 val =  0.975684\n",
      "329 Epoch: 0339 cost =  0.000058834 val =  0.975684\n",
      "329 Epoch: 0340 cost =  0.000056985 val =  0.978723\n",
      "329 Epoch: 0341 cost =  0.000056466 val =  0.975684\n",
      "329 Epoch: 0342 cost =  0.000054071 val =  0.978723\n",
      "329 Epoch: 0343 cost =  0.000052945 val =  0.978723\n",
      "329 Epoch: 0344 cost =  0.000052006 val =  0.978723\n",
      "329 Epoch: 0345 cost =  0.000050935 val =  0.978723\n",
      "329 Epoch: 0346 cost =  0.000049065 val =  0.978723\n",
      "329 Epoch: 0347 cost =  0.000048291 val =  0.978723\n",
      "329 Epoch: 0348 cost =  0.000047138 val =  0.978723\n",
      "329 Epoch: 0349 cost =  0.000046410 val =  0.978723\n",
      "329 Epoch: 0350 cost =  0.000045409 val =  0.978723\n",
      "329 Epoch: 0351 cost =  0.000044374 val =  0.978723\n",
      "329 Epoch: 0352 cost =  0.000043582 val =  0.978723\n",
      "329 Epoch: 0353 cost =  0.000042524 val =  0.978723\n",
      "329 Epoch: 0354 cost =  0.000041746 val =  0.978723\n",
      "329 Epoch: 0355 cost =  0.000040927 val =  0.978723\n",
      "329 Epoch: 0356 cost =  0.000039723 val =  0.978723\n",
      "329 Epoch: 0357 cost =  0.000039344 val =  0.975684\n",
      "329 Epoch: 0358 cost =  0.000038683 val =  0.978723\n",
      "329 Epoch: 0359 cost =  0.000037521 val =  0.978723\n",
      "329 Epoch: 0360 cost =  0.000036751 val =  0.978723\n",
      "329 Epoch: 0361 cost =  0.000036088 val =  0.978723\n",
      "329 Epoch: 0362 cost =  0.000035324 val =  0.978723\n",
      "329 Epoch: 0363 cost =  0.000034897 val =  0.978723\n",
      "329 Epoch: 0364 cost =  0.000034038 val =  0.978723\n",
      "329 Epoch: 0365 cost =  0.000033403 val =  0.978723\n",
      "329 Epoch: 0366 cost =  0.000032842 val =  0.978723\n",
      "329 Epoch: 0367 cost =  0.000032322 val =  0.975684\n",
      "329 Epoch: 0368 cost =  0.000031574 val =  0.978723\n",
      "329 Epoch: 0369 cost =  0.000030718 val =  0.975684\n",
      "329 Epoch: 0370 cost =  0.000030262 val =  0.975684\n",
      "329 Epoch: 0371 cost =  0.000029585 val =  0.975684\n",
      "329 Epoch: 0372 cost =  0.000029146 val =  0.975684\n",
      "329 Epoch: 0373 cost =  0.000028368 val =  0.975684\n",
      "329 Epoch: 0374 cost =  0.000027788 val =  0.978723\n",
      "329 Epoch: 0375 cost =  0.000027219 val =  0.978723\n",
      "329 Epoch: 0376 cost =  0.000026926 val =  0.975684\n",
      "329 Epoch: 0377 cost =  0.000025904 val =  0.978723\n",
      "329 Epoch: 0378 cost =  0.000025582 val =  0.978723\n",
      "329 Epoch: 0379 cost =  0.000024538 val =  0.981763\n",
      "329 Epoch: 0380 cost =  0.000024352 val =  0.978723\n",
      "329 Epoch: 0381 cost =  0.000023399 val =  0.978723\n",
      "329 Epoch: 0382 cost =  0.000023216 val =  0.981763\n",
      "329 Epoch: 0383 cost =  0.000022797 val =  0.978723\n",
      "329 Epoch: 0384 cost =  0.000022156 val =  0.981763\n",
      "329 Epoch: 0385 cost =  0.000021505 val =  0.981763\n",
      "329 Epoch: 0386 cost =  0.000020952 val =  0.981763\n",
      "329 Epoch: 0387 cost =  0.000020210 val =  0.981763\n",
      "329 Epoch: 0388 cost =  0.000019894 val =  0.981763\n",
      "329 Epoch: 0389 cost =  0.000019349 val =  0.981763\n",
      "329 Epoch: 0390 cost =  0.000018636 val =  0.981763\n",
      "329 Epoch: 0391 cost =  0.000018515 val =  0.981763\n",
      "329 Epoch: 0392 cost =  0.000017941 val =  0.981763\n",
      "329 Epoch: 0393 cost =  0.000017382 val =  0.981763\n",
      "329 Epoch: 0394 cost =  0.000017030 val =  0.981763\n",
      "329 Epoch: 0395 cost =  0.000016695 val =  0.981763\n",
      "329 Epoch: 0396 cost =  0.000016309 val =  0.981763\n",
      "329 Epoch: 0397 cost =  0.000016155 val =  0.981763\n",
      "329 Epoch: 0398 cost =  0.000015694 val =  0.981763\n",
      "329 Epoch: 0399 cost =  0.000015300 val =  0.981763\n",
      "329 Epoch: 0400 cost =  0.000015090 val =  0.981763\n",
      "329 Epoch: 0401 cost =  0.000014795 val =  0.981763\n",
      "329 Epoch: 0402 cost =  0.000014401 val =  0.981763\n",
      "329 Epoch: 0403 cost =  0.000014161 val =  0.981763\n",
      "329 Epoch: 0404 cost =  0.000013957 val =  0.981763\n",
      "329 Epoch: 0405 cost =  0.000013644 val =  0.981763\n",
      "329 Epoch: 0406 cost =  0.000013422 val =  0.981763\n",
      "329 Epoch: 0407 cost =  0.000013132 val =  0.981763\n",
      "329 Epoch: 0408 cost =  0.000012874 val =  0.981763\n",
      "329 Epoch: 0409 cost =  0.000012611 val =  0.981763\n",
      "329 Epoch: 0410 cost =  0.000012357 val =  0.981763\n",
      "329 Epoch: 0411 cost =  0.000012150 val =  0.981763\n",
      "329 Epoch: 0412 cost =  0.000011893 val =  0.981763\n",
      "329 Epoch: 0413 cost =  0.000011717 val =  0.981763\n",
      "329 Epoch: 0414 cost =  0.000011442 val =  0.981763\n",
      "329 Epoch: 0415 cost =  0.000011292 val =  0.981763\n",
      "329 Epoch: 0416 cost =  0.000011048 val =  0.981763\n",
      "329 Epoch: 0417 cost =  0.000010914 val =  0.981763\n",
      "329 Epoch: 0418 cost =  0.000010581 val =  0.981763\n",
      "329 Epoch: 0419 cost =  0.000010523 val =  0.981763\n",
      "329 Epoch: 0420 cost =  0.000010138 val =  0.981763\n",
      "329 Epoch: 0421 cost =  0.000010124 val =  0.981763\n",
      "329 Epoch: 0422 cost =  0.000009724 val =  0.981763\n",
      "329 Epoch: 0423 cost =  0.000009755 val =  0.978723\n",
      "329 Epoch: 0424 cost =  0.000009249 val =  0.981763\n",
      "329 Epoch: 0425 cost =  0.000009460 val =  0.978723\n",
      "329 Epoch: 0426 cost =  0.000009073 val =  0.981763\n",
      "329 Epoch: 0427 cost =  0.000009540 val =  0.981763\n",
      "329 Epoch: 0428 cost =  0.000013395 val =  0.984802\n",
      "329 Epoch: 0429 cost =  0.000009497 val =  0.981763\n",
      "329 Epoch: 0430 cost =  2.543095878 val =  0.954407\n",
      "329 Epoch: 0431 cost =  0.147095138 val =  0.981763\n",
      "329 Epoch: 0432 cost =  0.057094946 val =  0.972644\n",
      "329 Epoch: 0433 cost =  0.038688917 val =  0.966565\n",
      "329 Epoch: 0434 cost =  0.038668698 val =  0.972644\n",
      "329 Epoch: 0435 cost =  0.025953628 val =  0.972644\n",
      "329 Epoch: 0436 cost =  0.020371740 val =  0.972644\n",
      "329 Epoch: 0437 cost =  0.006548847 val =  0.981763\n",
      "329 Epoch: 0438 cost =  0.001774133 val =  0.978723\n",
      "329 Epoch: 0439 cost =  0.003097331 val =  0.978723\n",
      "329 Epoch: 0440 cost =  0.002112292 val =  0.975684\n",
      "329 Epoch: 0441 cost =  0.002400177 val =  0.978723\n",
      "329 Epoch: 0442 cost =  0.002059827 val =  0.975684\n",
      "329 Epoch: 0443 cost =  0.002282349 val =  0.978723\n",
      "329 Epoch: 0444 cost =  0.001995060 val =  0.975684\n",
      "329 Epoch: 0445 cost =  0.002095494 val =  0.978723\n",
      "329 Epoch: 0446 cost =  0.001960356 val =  0.975684\n",
      "329 Epoch: 0447 cost =  0.001949571 val =  0.978723\n",
      "329 Epoch: 0448 cost =  0.001860656 val =  0.975684\n",
      "329 Epoch: 0449 cost =  0.001807232 val =  0.978723\n",
      "329 Epoch: 0450 cost =  0.001792948 val =  0.978723\n",
      "329 Epoch: 0451 cost =  0.001715466 val =  0.978723\n",
      "329 Epoch: 0452 cost =  0.001719322 val =  0.978723\n",
      "329 Epoch: 0453 cost =  0.001650122 val =  0.978723\n",
      "329 Epoch: 0454 cost =  0.001658477 val =  0.978723\n",
      "329 Epoch: 0455 cost =  0.001604666 val =  0.978723\n",
      "329 Epoch: 0456 cost =  0.001569921 val =  0.978723\n",
      "329 Epoch: 0457 cost =  0.001538583 val =  0.978723\n",
      "329 Epoch: 0458 cost =  0.001502194 val =  0.978723\n",
      "329 Epoch: 0459 cost =  0.001460289 val =  0.978723\n",
      "329 Epoch: 0460 cost =  0.001434646 val =  0.978723\n",
      "329 Epoch: 0461 cost =  0.001397924 val =  0.978723\n",
      "329 Epoch: 0462 cost =  0.001352210 val =  0.978723\n",
      "329 Epoch: 0463 cost =  0.001339287 val =  0.978723\n",
      "329 Epoch: 0464 cost =  0.001289279 val =  0.978723\n",
      "329 Epoch: 0465 cost =  0.001275839 val =  0.978723\n",
      "329 Epoch: 0466 cost =  0.001225347 val =  0.978723\n",
      "329 Epoch: 0467 cost =  0.001210190 val =  0.978723\n",
      "329 Epoch: 0468 cost =  0.001183132 val =  0.978723\n",
      "329 Epoch: 0469 cost =  0.001160185 val =  0.978723\n",
      "329 Epoch: 0470 cost =  0.001122421 val =  0.978723\n",
      "329 Epoch: 0471 cost =  0.001096467 val =  0.978723\n",
      "329 Epoch: 0472 cost =  0.001065629 val =  0.978723\n",
      "329 Epoch: 0473 cost =  0.001029777 val =  0.975684\n",
      "329 Epoch: 0474 cost =  0.001005439 val =  0.975684\n"
     ]
    },
    {
     "name": "stdout",
     "output_type": "stream",
     "text": [
      "329 Epoch: 0475 cost =  0.000973735 val =  0.975684\n",
      "329 Epoch: 0476 cost =  0.000955130 val =  0.975684\n",
      "329 Epoch: 0477 cost =  0.000914684 val =  0.975684\n",
      "329 Epoch: 0478 cost =  0.000898988 val =  0.975684\n",
      "329 Epoch: 0479 cost =  0.000873467 val =  0.975684\n",
      "329 Epoch: 0480 cost =  0.000842866 val =  0.975684\n",
      "329 Epoch: 0481 cost =  0.000833708 val =  0.975684\n",
      "329 Epoch: 0482 cost =  0.000795792 val =  0.978723\n",
      "329 Epoch: 0483 cost =  0.000782880 val =  0.978723\n",
      "329 Epoch: 0484 cost =  0.000757306 val =  0.978723\n",
      "329 Epoch: 0485 cost =  0.000742924 val =  0.978723\n",
      "329 Epoch: 0486 cost =  0.000711186 val =  0.975684\n",
      "329 Epoch: 0487 cost =  0.000707488 val =  0.975684\n",
      "329 Epoch: 0488 cost =  0.000678635 val =  0.975684\n",
      "329 Epoch: 0489 cost =  0.000667201 val =  0.975684\n",
      "329 Epoch: 0490 cost =  0.000642763 val =  0.975684\n",
      "329 Epoch: 0491 cost =  0.000638049 val =  0.975684\n",
      "329 Epoch: 0492 cost =  0.000608413 val =  0.975684\n",
      "329 Epoch: 0493 cost =  0.000600683 val =  0.975684\n",
      "329 Epoch: 0494 cost =  0.000578014 val =  0.975684\n",
      "329 Epoch: 0495 cost =  0.000569977 val =  0.975684\n",
      "329 Epoch: 0496 cost =  0.000541558 val =  0.975684\n",
      "329 Epoch: 0497 cost =  0.000540517 val =  0.975684\n",
      "329 Epoch: 0498 cost =  0.000522231 val =  0.975684\n",
      "329 Epoch: 0499 cost =  0.000506279 val =  0.975684\n",
      "329 Epoch: 0500 cost =  0.000490261 val =  0.975684\n"
     ]
    },
    {
     "data": {
      "text/plain": [
       "'../../model/CNN/cnn_model'"
      ]
     },
     "execution_count": 23,
     "metadata": {},
     "output_type": "execute_result"
    }
   ],
   "source": [
    "###########################\n",
    "batch_size = 32\n",
    "cost_history = np.empty(shape=[1], dtype=float)\n",
    "\n",
    "for epoch in range(training_epochs):#training epoch 500 / batch_size 128 --> acc 90%\n",
    "    avg_cost = 0\n",
    "    val_avg_cost =0\n",
    "    total_batch = int(y_train.shape[0] / batch_size)\n",
    "    for i in range(0, y_train.shape[0], batch_size):\n",
    "        feed_dict={X:X_train2[i:i+batch_size,:,:,:], Y:y_train[i:i+batch_size,:]}\n",
    "        c, _ = sess.run([cost, optimizer], feed_dict=feed_dict)\n",
    "        cost_history = np.append(cost_history,cost)\n",
    "        avg_cost += c/total_batch \n",
    "    \n",
    "    y_pred = sess.run(logits, feed_dict={X:X_val2})\n",
    "    y_pred = sess.run(tf.argmax(y_pred,1))\n",
    "    y_true = y_val\n",
    "        \n",
    "    y_true = sess.run(tf.argmax(y_true,1))\n",
    "    print(len(y_pred),end=' ')\n",
    "    print('Epoch:', '%04d' % (epoch+1), 'cost = ', '{:.9f}'.format(avg_cost), 'val = ','%f' %(accuracy_score(y_true, y_pred)) )\n",
    "saver.save(sess, model_path)"
   ]
  },
  {
   "cell_type": "markdown",
   "metadata": {},
   "source": [
    "## Prediction"
   ]
  },
  {
   "cell_type": "code",
   "execution_count": 24,
   "metadata": {},
   "outputs": [],
   "source": [
    "y_pred = sess.run(tf.argmax(logits,1),feed_dict={X: X_test2})\n",
    "y_true = sess.run(tf.argmax(y_test,1))"
   ]
  },
  {
   "cell_type": "code",
   "execution_count": 25,
   "metadata": {},
   "outputs": [
    {
     "name": "stdout",
     "output_type": "stream",
     "text": [
      "F-Score: 0.985\n",
      "Accuracy:  0.9854014598540146\n",
      "              precision    recall  f1-score   support\n",
      "\n",
      "           0       1.00      0.98      0.99       262\n",
      "           1       0.97      0.99      0.98       149\n",
      "\n",
      "   micro avg       0.99      0.99      0.99       411\n",
      "   macro avg       0.98      0.99      0.98       411\n",
      "weighted avg       0.99      0.99      0.99       411\n",
      "\n",
      "[[257   5]\n",
      " [  1 148]]\n"
     ]
    }
   ],
   "source": [
    "# Print Result\n",
    "\n",
    "from sklearn.metrics import precision_recall_fscore_support\n",
    "p,r,f,s = precision_recall_fscore_support(y_true, y_pred, average='micro')\n",
    "print(\"F-Score:\", round(f,3))\n",
    "from sklearn.metrics import accuracy_score\n",
    "print(\"Accuracy: \", accuracy_score(y_true, y_pred))\n",
    "\n",
    "from sklearn.metrics import classification_report\n",
    "print(classification_report(y_true, y_pred))\n",
    "from sklearn.metrics import confusion_matrix\n",
    "print(confusion_matrix(y_true, y_pred))"
   ]
  },
  {
   "cell_type": "code",
   "execution_count": null,
   "metadata": {},
   "outputs": [],
   "source": []
  }
 ],
 "metadata": {
  "kernelspec": {
   "display_name": "Python 3",
   "language": "python",
   "name": "python3"
  },
  "language_info": {
   "codemirror_mode": {
    "name": "ipython",
    "version": 3
   },
   "file_extension": ".py",
   "mimetype": "text/x-python",
   "name": "python",
   "nbconvert_exporter": "python",
   "pygments_lexer": "ipython3",
   "version": "3.6.7"
  }
 },
 "nbformat": 4,
 "nbformat_minor": 2
}
