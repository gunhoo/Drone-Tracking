{
 "cells": [
  {
   "cell_type": "code",
   "execution_count": 1,
   "metadata": {
    "scrolled": true
   },
   "outputs": [],
   "source": [
    "import matplotlib.pyplot as plt\n",
    "%matplotlib inline\n",
    "import IPython.display\n",
    "import librosa.display\n",
    "import numpy as np\n",
    "import librosa\n",
    "import tensorflow as tf\n",
    "import glob"
   ]
  },
  {
   "cell_type": "code",
   "execution_count": 2,
   "metadata": {},
   "outputs": [],
   "source": [
    "drone_path_1 = '../../data/10mtest/*.wav'\n",
    "#drone_path_10 = '../../data/10mtest/*.wav'\n",
    "#drone_path_20 = '../../data/20mtest/*.wav'\n",
    "#drone_path_30 = '../../data/30mtest/*.wav'\n",
    "#drone_path_40 = '../../data/40mtest/*.wav'\n",
    "#drone_path_50 = '../../data/50mtest/*.wav'\n",
    "#background_path = '../../data/backgroundtest/*.wav'\n",
    "\n",
    "drone_files_1 = glob.glob(drone_path_1)\n",
    "#drone_files_10 = glob.glob(drone_path_10)\n",
    "#drone_files_20 = glob.glob(drone_path_20)\n",
    "#drone_files_30 = glob.glob(drone_path_30)\n",
    "#drone_files_40 = glob.glob(drone_path_40)\n",
    "#drone_files_50 = glob.glob(drone_path_50)\n",
    "#background_files = glob.glob(background_path)"
   ]
  },
  {
   "cell_type": "code",
   "execution_count": 3,
   "metadata": {},
   "outputs": [],
   "source": [
    "CHUNK_SIZE = 8192\n",
    "SR = 22050\n",
    "N_MFCC = 16"
   ]
  },
  {
   "cell_type": "code",
   "execution_count": 4,
   "metadata": {},
   "outputs": [],
   "source": [
    "def load(files, sr=22050):\n",
    "    [raw, sr] = librosa.load(files[0], sr=sr)\n",
    "    for f in files[1:]:\n",
    "        [array, sr] = librosa.load(f, sr=sr)\n",
    "        raw = np.hstack((raw, array))\n",
    "    print(raw.shape)\n",
    "    return raw"
   ]
  },
  {
   "cell_type": "code",
   "execution_count": 5,
   "metadata": {},
   "outputs": [
    {
     "name": "stdout",
     "output_type": "stream",
     "text": [
      "(143360,)\n"
     ]
    }
   ],
   "source": [
    "drone_raw_1 = load(drone_files_1)\n",
    "#drone_raw_10 = load(drone_files_10)\n",
    "#drone_raw_20 = load(drone_files_20)\n",
    "#drone_raw_30 = load(drone_files_30)\n",
    "#drone_raw_40 = load(drone_files_40)\n",
    "#drone_raw_50 = load(drone_files_50)\n",
    "\n",
    "#background_raw = load(background_files)"
   ]
  },
  {
   "cell_type": "code",
   "execution_count": 6,
   "metadata": {},
   "outputs": [],
   "source": [
    "def mfcc4(raw, label, chunk_size=8192, window_size=4096, sr=22050, n_mfcc=16, n_frame=16):\n",
    "    mfcc = np.empty((0, n_mfcc, n_frame))\n",
    "    y = []\n",
    "    print(raw.shape)\n",
    "    for i in range(0, len(raw), chunk_size//2):\n",
    "        mfcc_slice = librosa.feature.mfcc(raw[i:i+chunk_size], sr=sr, n_mfcc=n_mfcc) #n_mfcc,17\n",
    "        if mfcc_slice.shape[1] < 17:\n",
    "            print(i,\">small end:\", mfcc_slice.shape)\n",
    "            continue\n",
    "        mfcc_slice = mfcc_slice[:,:-1]\n",
    "        mfcc_slice = mfcc_slice.reshape((1, mfcc_slice.shape[0], mfcc_slice.shape[1]))\n",
    "        mfcc = np.vstack((mfcc, mfcc_slice))\n",
    "        y.append(label)\n",
    "    y = np.array(y)\n",
    "    return mfcc, y"
   ]
  },
  {
   "cell_type": "code",
   "execution_count": 7,
   "metadata": {},
   "outputs": [
    {
     "name": "stdout",
     "output_type": "stream",
     "text": [
      "(143360,)\n",
      "139264 >small end: (16, 9)\n"
     ]
    }
   ],
   "source": [
    "mfcc_drone_1, y_drone_1 = mfcc4(drone_raw_1, 3)\n",
    "#mfcc_drone_10, y_drone_10 = mfcc4(drone_raw_10, 3)\n",
    "#mfcc_drone_20, y_drone_20 = mfcc4(drone_raw_20, 2)\n",
    "#mfcc_drone_30, y_drone_30 = mfcc4(drone_raw_30, 2)\n",
    "#mfcc_drone_40, y_drone_40 = mfcc4(drone_raw_40, 1)\n",
    "#mfcc_drone_50, y_drone_50 = mfcc4(drone_raw_50, 1)\n",
    "\n",
    "#mfcc_background, y_background = mfcc4(background_raw, 0)"
   ]
  },
  {
   "cell_type": "code",
   "execution_count": 8,
   "metadata": {},
   "outputs": [],
   "source": [
    "#print(mfcc_drone_1.shape, y_drone_1.shape)\n",
    "#print(mfcc_drone_10.shape, y_drone_10.shape)\n",
    "#print(mfcc_drone_20.shape, y_drone_20.shape)\n",
    "#print(mfcc_drone_30.shape, y_drone_30.shape)\n",
    "#print(mfcc_drone_40.shape, y_drone_40.shape)\n",
    "#print(mfcc_drone_50.shape, y_drone_50.shape)\n",
    "#print(mfcc_background.shape, y_background.shape)"
   ]
  },
  {
   "cell_type": "code",
   "execution_count": 9,
   "metadata": {},
   "outputs": [
    {
     "name": "stdout",
     "output_type": "stream",
     "text": [
      "(544, 16) (34,)\n"
     ]
    }
   ],
   "source": [
    "#X = np.concatenate((mfcc_drone_1,mfcc_drone_10,mfcc_drone_20,mfcc_drone_30,mfcc_drone_40,mfcc_drone_50, mfcc_background), axis=0)\n",
    "#y = np.hstack((y_drone_1, y_drone_10, y_drone_20, y_drone_30, y_drone_40, y_drone_50, y_background))\n",
    "\n",
    "X = np.concatenate((mfcc_drone_1), axis=0)\n",
    "y = np.hstack((y_drone_1))\n",
    "\n",
    "print(X.shape, y.shape)"
   ]
  },
  {
   "cell_type": "code",
   "execution_count": 10,
   "metadata": {},
   "outputs": [
    {
     "name": "stdout",
     "output_type": "stream",
     "text": [
      "(34, 256)\n",
      "<class 'numpy.ndarray'>\n"
     ]
    }
   ],
   "source": [
    "X_test = np.reshape(X,(-1,256))\n",
    "print(X_test.shape)\n",
    "print(type(X_test))"
   ]
  },
  {
   "cell_type": "code",
   "execution_count": 11,
   "metadata": {},
   "outputs": [],
   "source": [
    "#X_train2 = X.reshape(X.shape[0], X.shape[1], X.shape[2], 1) ############# 리셰입 해야 "
   ]
  },
  {
   "cell_type": "code",
   "execution_count": 12,
   "metadata": {},
   "outputs": [
    {
     "name": "stdout",
     "output_type": "stream",
     "text": [
      "(34, 5)\n"
     ]
    }
   ],
   "source": [
    "n_labels = y.shape[0]\n",
    "n_unique_labels = 5\n",
    "y_encoded = np.zeros((n_labels, n_unique_labels))\n",
    "y_encoded[np.arange(n_labels), y] = 1\n",
    "print(y_encoded.shape)"
   ]
  },
  {
   "cell_type": "markdown",
   "metadata": {},
   "source": [
    "# test init"
   ]
  },
  {
   "cell_type": "code",
   "execution_count": 13,
   "metadata": {},
   "outputs": [],
   "source": [
    "tf.reset_default_graph()"
   ]
  },
  {
   "cell_type": "code",
   "execution_count": 14,
   "metadata": {},
   "outputs": [],
   "source": [
    "n_mfcc = 16\n",
    "n_frame = 16\n",
    "n_classes = 5\n",
    "n_channels = 1\n",
    "\n",
    "kernel_size = 3\n",
    "stride = 1\n",
    "pad = \"SAME\"\n",
    "\n",
    "learning_rate = 0.0002"
   ]
  },
  {
   "cell_type": "code",
   "execution_count": 15,
   "metadata": {},
   "outputs": [],
   "source": [
    "X = tf.placeholder(tf.float32, shape=[None,n_mfcc*n_frame*n_channels])\n",
    "#X = tf.reshape(X, [-1, n_mfcc, n_frame, n_channels]) #fully connected에는 리셰입 안해도 된다 \n",
    "Y = tf.placeholder(tf.float32, shape=[None,n_classes])\n",
    "\n",
    "keep_prob = tf.placeholder(tf.float32)\n",
    "\n",
    "#dense2 = tf.layers.dense(inputs=flat, units=625, activation=tf.nn.relu)\n",
    "#dropout2 = tf.layers.dropout(inputs=dense2, rate=0.5, training=True)\n",
    "dense1 = tf.layers.dense(inputs=X, units=256, activation=tf.nn.relu)\n",
    "dropout1 = tf.nn.dropout(dense1, keep_prob=keep_prob)\n",
    "dense2 = tf.layers.dense(inputs=dropout1, units=256, activation=tf.nn.relu)\n",
    "dropout2 = tf.nn.dropout(dense2, keep_prob=keep_prob)\n",
    "dense3 = tf.layers.dense(inputs=dropout2, units=512, activation=tf.nn.relu)\n",
    "dropout3 = tf.nn.dropout(dense3, keep_prob=keep_prob)\n",
    "#이거 지워보고 돌려보고 \n",
    "dense4 = tf.layers.dense(inputs=dropout3, units=512, activation=tf.nn.relu)\n",
    "dropout4 = tf.nn.dropout(dense4, keep_prob=keep_prob)\n",
    "dense5 = tf.layers.dense(inputs=dropout4, units=256, activation=tf.nn.relu)\n",
    "dropout5 = tf.nn.dropout(dense5, keep_prob=keep_prob)\n",
    "\n",
    "logits= tf.layers.dense(inputs=dropout5, units=5)"
   ]
  },
  {
   "cell_type": "code",
   "execution_count": 16,
   "metadata": {},
   "outputs": [],
   "source": [
    "cost = tf.reduce_mean(tf.nn.softmax_cross_entropy_with_logits_v2(logits=logits, labels=Y))\n",
    "optimizer = tf.train.AdamOptimizer(learning_rate=learning_rate).minimize(cost)"
   ]
  },
  {
   "cell_type": "code",
   "execution_count": 17,
   "metadata": {
    "scrolled": true
   },
   "outputs": [
    {
     "name": "stdout",
     "output_type": "stream",
     "text": [
      "INFO:tensorflow:Restoring parameters from ../../model/DNN/4_dense_model\n"
     ]
    }
   ],
   "source": [
    "# Model Save\n",
    "sess=tf.Session()\n",
    "saver = tf.train.Saver()\n",
    "saver.restore(sess, '../../model/DNN/4_dense_model')"
   ]
  },
  {
   "cell_type": "code",
   "execution_count": 18,
   "metadata": {
    "scrolled": true
   },
   "outputs": [
    {
     "name": "stdout",
     "output_type": "stream",
     "text": [
      "<class 'numpy.ndarray'>\n"
     ]
    }
   ],
   "source": [
    "# Prediction\n",
    "y_test = sess.run(tf.nn.softmax(logits), feed_dict={X: X_test, keep_prob:1})\n",
    "y_pred = sess.run(tf.argmax(logits,1),feed_dict={X: X_test , keep_prob:1}) \n",
    "y_true = sess.run(tf.argmax(y_encoded,1))\n",
    "print(type(y_test))"
   ]
  },
  {
   "cell_type": "code",
   "execution_count": 19,
   "metadata": {
    "scrolled": false
   },
   "outputs": [
    {
     "name": "stdout",
     "output_type": "stream",
     "text": [
      "    0\n",
      "0   3\n",
      "1   3\n",
      "2   3\n",
      "3   3\n",
      "4   3\n",
      "5   3\n",
      "6   3\n",
      "7   3\n",
      "8   3\n",
      "9   3\n",
      "10  3\n",
      "11  3\n",
      "12  3\n",
      "13  3\n",
      "14  3\n",
      "15  3\n",
      "16  3\n",
      "17  3\n",
      "18  3\n",
      "19  3\n",
      "20  3\n",
      "21  3\n",
      "22  3\n",
      "23  3\n",
      "24  3\n",
      "25  3\n",
      "26  3\n",
      "27  3\n",
      "28  3\n",
      "29  3\n",
      "30  3\n",
      "31  3\n",
      "32  3\n",
      "33  3\n",
      "           0         1         2         3         4\n",
      "0   0.000303  0.002104  0.046850  0.950529  0.000215\n",
      "1   0.000691  0.004187  0.415749  0.579091  0.000282\n",
      "2   0.000845  0.007299  0.875534  0.116319  0.000004\n",
      "3   0.000868  0.003257  0.473609  0.522103  0.000164\n",
      "4   0.000862  0.014860  0.847578  0.136690  0.000010\n",
      "5   0.000998  0.009818  0.585153  0.403729  0.000301\n",
      "6   0.000143  0.000616  0.024128  0.974977  0.000136\n",
      "7   0.000133  0.000758  0.017433  0.981529  0.000147\n",
      "8   0.000023  0.000223  0.001635  0.997790  0.000330\n",
      "9   0.000884  0.019922  0.640981  0.337944  0.000270\n",
      "10  0.000777  0.009906  0.816597  0.172702  0.000018\n",
      "11  0.000356  0.001756  0.214770  0.782797  0.000321\n",
      "12  0.000060  0.000157  0.015376  0.984350  0.000057\n",
      "13  0.000657  0.016738  0.819167  0.163421  0.000017\n",
      "14  0.001079  0.016465  0.194551  0.786887  0.001018\n",
      "15  0.000822  0.049672  0.023474  0.900092  0.025940\n",
      "16  0.000661  0.040470  0.488596  0.469739  0.000534\n",
      "17  0.001123  0.023249  0.545065  0.429962  0.000601\n",
      "18  0.001997  0.005836  0.943235  0.048932  0.000001\n",
      "19  0.000744  0.032747  0.794371  0.172100  0.000039\n",
      "20  0.001587  0.028003  0.423491  0.545605  0.001314\n",
      "21  0.001848  0.027318  0.012681  0.778416  0.179737\n",
      "22  0.000503  0.003551  0.071127  0.924402  0.000418\n",
      "23  0.000836  0.004846  0.270635  0.723086  0.000597\n",
      "24  0.000522  0.003473  0.109636  0.885934  0.000436\n",
      "25  0.000359  0.003398  0.085373  0.910278  0.000592\n",
      "26  0.000699  0.007147  0.068921  0.919252  0.003981\n",
      "27  0.000867  0.007921  0.329156  0.661270  0.000785\n",
      "28  0.000659  0.009463  0.205310  0.783280  0.001289\n",
      "29  0.000686  0.006086  0.367643  0.624995  0.000591\n",
      "30  0.000548  0.003577  0.036103  0.958525  0.001247\n",
      "31  0.000193  0.002624  0.000143  0.050497  0.946543\n",
      "32  0.002611  0.046244  0.006408  0.165983  0.778754\n",
      "33  0.000959  0.011442  0.075849  0.909349  0.002401\n"
     ]
    }
   ],
   "source": [
    "import pandas as pd\n",
    "pd.options.display.max_rows = 4000\n",
    "print(pd.DataFrame(y_true))\n",
    "print(pd.DataFrame(y_test))\n"
   ]
  },
  {
   "cell_type": "code",
   "execution_count": 20,
   "metadata": {
    "scrolled": false
   },
   "outputs": [
    {
     "name": "stdout",
     "output_type": "stream",
     "text": [
      "F-Score: 0.65\n",
      "Accuracy:  0.6470588235294118\n",
      "              precision    recall  f1-score   support\n",
      "\n",
      "           2       0.00      0.00      0.00         0\n",
      "           3       1.00      0.65      0.79        34\n",
      "           4       0.00      0.00      0.00         0\n",
      "\n",
      "   micro avg       0.65      0.65      0.65        34\n",
      "   macro avg       0.33      0.22      0.26        34\n",
      "weighted avg       1.00      0.65      0.79        34\n",
      "\n",
      "[[ 0  0  0]\n",
      " [10 22  2]\n",
      " [ 0  0  0]]\n"
     ]
    },
    {
     "name": "stderr",
     "output_type": "stream",
     "text": [
      "/usr/local/lib/python3.6/dist-packages/sklearn/metrics/classification.py:1145: UndefinedMetricWarning: Recall and F-score are ill-defined and being set to 0.0 in labels with no true samples.\n",
      "  'recall', 'true', average, warn_for)\n"
     ]
    },
    {
     "data": {
      "image/png": "[encoded data removed]",
      "text/plain": [
       "<Figure size 1080x648 with 1 Axes>"
      ]
     },
     "metadata": {
      "needs_background": "light"
     },
     "output_type": "display_data"
    },
    {
     "data": {
      "image/png": "[encoded data removed]",
      "text/plain": [
       "<Figure size 1080x648 with 1 Axes>"
      ]
     },
     "metadata": {
      "needs_background": "light"
     },
     "output_type": "display_data"
    }
   ],
   "source": [
    "# Print Result\n",
    "\n",
    "from sklearn.metrics import precision_recall_fscore_support\n",
    "y_true = y_true\n",
    "y_pred = y_pred\n",
    "\n",
    "p,r,f,s = precision_recall_fscore_support(y_true, y_pred, average='micro')\n",
    "print(\"F-Score:\", round(f,2))\n",
    "from sklearn.metrics import accuracy_score\n",
    "print(\"Accuracy: \", accuracy_score(y_true, y_pred))\n",
    "\n",
    "\n",
    "fig = plt.figure(figsize=(15,9))\n",
    "ax = fig.add_subplot(1,1,1)\n",
    "ax.plot(np.linspace(0,len(y_pred), len(y_pred)),y_true, 'x')\n",
    "\n",
    "\n",
    "fig = plt.figure(figsize=(15,9))\n",
    "ax = fig.add_subplot(1,1,1)\n",
    "ax.plot(np.linspace(0,len(y_pred), len(y_pred)),y_pred, 'x')\n",
    "\n",
    "from sklearn.metrics import classification_report\n",
    "print(classification_report(y_true, y_pred))\n",
    "from sklearn.metrics import confusion_matrix\n",
    "print(confusion_matrix(y_true, y_pred))"
   ]
  },
  {
   "cell_type": "code",
   "execution_count": 21,
   "metadata": {},
   "outputs": [
    {
     "ename": "SyntaxError",
     "evalue": "invalid syntax (<ipython-input-21-64a22509ac47>, line 3)",
     "output_type": "error",
     "traceback": [
      "\u001b[0;36m  File \u001b[0;32m\"<ipython-input-21-64a22509ac47>\"\u001b[0;36m, line \u001b[0;32m3\u001b[0m\n\u001b[0;31m    mat = confusion_matrix(y_true, y_pred)0 0 0 2 2 2 2 1 1 1 1 1 1 1 1 1\u001b[0m\n\u001b[0m                                          ^\u001b[0m\n\u001b[0;31mSyntaxError\u001b[0m\u001b[0;31m:\u001b[0m invalid syntax\n"
     ]
    }
   ],
   "source": [
    "from sklearn.metrics import confusion_matrix\n",
    "print(y_pred)\n",
    "mat = confusion_matrix(y_true, y_pred)0 0 0 2 2 2 2 1 1 1 1 1 1 1 1 1\n",
    " 1 1 1 1 1 1 1 1 1 1 1 1 1 1 1 1 1 1 1 1 1 1 1 1"
   ]
  },
  {
   "cell_type": "code",
   "execution_count": null,
   "metadata": {},
   "outputs": [],
   "source": [
    "print(mat)"
   ]
  },
  {
   "cell_type": "code",
   "execution_count": null,
   "metadata": {},
   "outputs": [],
   "source": [
    "print(mat[0])"
   ]
  },
  {
   "cell_type": "code",
   "execution_count": null,
   "metadata": {},
   "outputs": [],
   "source": []
  }
 ],
 "metadata": {
  "kernelspec": {
   "display_name": "Python 3",
   "language": "python",
   "name": "python3"
  },
  "language_info": {
   "codemirror_mode": {
    "name": "ipython",
    "version": 3
   },
   "file_extension": ".py",
   "mimetype": "text/x-python",
   "name": "python",
   "nbconvert_exporter": "python",
   "pygments_lexer": "ipython3",
   "version": "3.6.8"
  }
 },
 "nbformat": 4,
 "nbformat_minor": 2
}
