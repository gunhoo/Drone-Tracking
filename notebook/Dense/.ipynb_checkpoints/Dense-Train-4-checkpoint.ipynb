{
 "cells": [
  {
   "cell_type": "code",
   "execution_count": 1,
   "metadata": {},
   "outputs": [],
   "source": [
    "import matplotlib.pyplot as plt\n",
    "%matplotlib inline\n",
    "import IPython.display\n",
    "import librosa.display\n",
    "import numpy as np\n",
    "import librosa\n",
    "import tensorflow as tf\n",
    "import glob"
   ]
  },
  {
   "cell_type": "markdown",
   "metadata": {},
   "source": [
    "### If you have been save the data, you don't have to preprocessing and save the data"
   ]
  },
  {
   "cell_type": "code",
   "execution_count": 2,
   "metadata": {},
   "outputs": [],
   "source": [
    "c_drone_path = '../../../1m/*.wav'\n",
    "m_drone_path = '../../../20m/*.wav'\n",
    "f_drone_path = '../../../50m/*.wav'\n",
    "background_path = '../../data/background/*.wav'\n",
    "\n",
    "c_drone_files = glob.glob(c_drone_path)\n",
    "m_drone_files = glob.glob(m_drone_path)\n",
    "f_drone_files = glob.glob(f_drone_path)\n",
    "background_files = glob.glob(background_path)"
   ]
  },
  {
   "cell_type": "code",
   "execution_count": 3,
   "metadata": {},
   "outputs": [],
   "source": [
    "CHUNK_SIZE = 8192\n",
    "SR = 22050\n",
    "N_MFCC = 16"
   ]
  },
  {
   "cell_type": "code",
   "execution_count": 4,
   "metadata": {},
   "outputs": [],
   "source": [
    "def load(files, sr=22050):\n",
    "    [raw, sr] = librosa.load(files[0], sr=sr)\n",
    "    for f in files[1:]:\n",
    "        [array, sr] = librosa.load(f, sr=sr)\n",
    "        raw = np.hstack((raw, array))\n",
    "    print(raw.shape)\n",
    "    return raw"
   ]
  },
  {
   "cell_type": "code",
   "execution_count": 5,
   "metadata": {},
   "outputs": [
    {
     "name": "stdout",
     "output_type": "stream",
     "text": [
      "(2232320,)\n",
      "(2232320,)\n",
      "(2232320,)\n",
      "(23317637,)\n"
     ]
    }
   ],
   "source": [
    "c_drone_raw = load(c_drone_files)\n",
    "m_drone_raw = load(m_drone_files)\n",
    "f_drone_raw = load(f_drone_files)\n",
    "background_raw = load(background_files)"
   ]
  },
  {
   "cell_type": "markdown",
   "metadata": {},
   "source": [
    "# Data preprocessing"
   ]
  },
  {
   "cell_type": "markdown",
   "metadata": {},
   "source": [
    "Chose `mfcc4` among functions below:\n",
    "- input size 16x16; `n_mfcc=16`, used first 16 data points from 16x17 mfcc of a chunk with size 8192\n",
    "- chunk siez 8192, overlapped half of it"
   ]
  },
  {
   "cell_type": "code",
   "execution_count": 6,
   "metadata": {},
   "outputs": [],
   "source": [
    "def mfcc4(raw, label, chunk_size=8192, window_size=4096, sr=22050, n_mfcc=16, n_frame=16):\n",
    "    mfcc = np.empty((0, n_mfcc, n_frame))\n",
    "    y = []\n",
    "    print(raw.shape)\n",
    "    for i in range(0, len(raw), chunk_size//2):\n",
    "        mfcc_slice = librosa.feature.mfcc(raw[i:i+chunk_size], sr=sr, n_mfcc=n_mfcc) #n_mfcc,17\n",
    "        if mfcc_slice.shape[1] < 17:\n",
    "            print(\"small end:\", mfcc_slice.shape)\n",
    "            continue\n",
    "        mfcc_slice = mfcc_slice[:,:-1]\n",
    "        mfcc_slice = mfcc_slice.reshape((1, mfcc_slice.shape[0], mfcc_slice.shape[1]))\n",
    "        mfcc = np.vstack((mfcc, mfcc_slice))\n",
    "        y.append(label)\n",
    "    y = np.array(y)\n",
    "    return mfcc, y"
   ]
  },
  {
   "cell_type": "code",
   "execution_count": 7,
   "metadata": {},
   "outputs": [
    {
     "name": "stdout",
     "output_type": "stream",
     "text": [
      "(2232320,)\n",
      "small end: (16, 9)\n",
      "(2232320,)\n",
      "small end: (16, 9)\n",
      "(2232320,)\n",
      "small end: (16, 9)\n",
      "(23317637,)\n",
      "small end: (16, 15)\n",
      "small end: (16, 7)\n",
      "(544, 16, 16) (544,)\n",
      "(544, 16, 16) (544,)\n",
      "(544, 16, 16) (544,)\n",
      "(5691, 16, 16) (5691,)\n"
     ]
    }
   ],
   "source": [
    "c_mfcc_drone, c_y_drone = mfcc4(c_drone_raw, 3)\n",
    "m_mfcc_drone, m_y_drone = mfcc4(m_drone_raw, 2)\n",
    "f_mfcc_drone, f_y_drone = mfcc4(f_drone_raw, 1)\n",
    "mfcc_background, y_background = mfcc4(background_raw, 0)\n",
    "\n",
    "print(c_mfcc_drone.shape, c_y_drone.shape)\n",
    "print(m_mfcc_drone.shape, m_y_drone.shape)\n",
    "print(f_mfcc_drone.shape, f_y_drone.shape)\n",
    "print(mfcc_background.shape, y_background.shape)"
   ]
  },
  {
   "cell_type": "code",
   "execution_count": 8,
   "metadata": {},
   "outputs": [
    {
     "name": "stdout",
     "output_type": "stream",
     "text": [
      "(7323, 16, 16) (7323,)\n"
     ]
    }
   ],
   "source": [
    "X = np.concatenate((c_mfcc_drone,m_mfcc_drone,f_mfcc_drone, mfcc_background), axis=0)\n",
    "y = np.hstack((c_y_drone, m_y_drone, f_y_drone, y_background))\n",
    "print(X.shape, y.shape)"
   ]
  },
  {
   "cell_type": "code",
   "execution_count": 9,
   "metadata": {},
   "outputs": [],
   "source": [
    "X = np.reshape(X,(X.shape[0],-1))"
   ]
  },
  {
   "cell_type": "code",
   "execution_count": 10,
   "metadata": {},
   "outputs": [
    {
     "data": {
      "text/plain": [
       "(7323, 256)"
      ]
     },
     "execution_count": 10,
     "metadata": {},
     "output_type": "execute_result"
    }
   ],
   "source": [
    "X.shape"
   ]
  },
  {
   "cell_type": "code",
   "execution_count": 11,
   "metadata": {},
   "outputs": [
    {
     "name": "stdout",
     "output_type": "stream",
     "text": [
      "(7323, 4)\n"
     ]
    }
   ],
   "source": [
    "n_labels = y.shape[0]\n",
    "n_unique_labels = 4\n",
    "y_encoded = np.zeros((n_labels, n_unique_labels))\n",
    "y_encoded[np.arange(n_labels), y] = 1\n",
    "print(y_encoded.shape)"
   ]
  },
  {
   "cell_type": "code",
   "execution_count": 12,
   "metadata": {},
   "outputs": [],
   "source": [
    "# Split data\n",
    "from sklearn import model_selection\n",
    "X_train, X_test, y_train, y_test = model_selection.train_test_split(X, y_encoded, test_size=0.2, random_state=42)\n",
    "X_train, X_val, y_train, y_val = model_selection.train_test_split(X_train, y_train, test_size=0.2, random_state=42)"
   ]
  },
  {
   "cell_type": "code",
   "execution_count": 13,
   "metadata": {},
   "outputs": [
    {
     "name": "stdout",
     "output_type": "stream",
     "text": [
      "(4686, 256) (4686, 4)\n",
      "(1172, 256) (1172, 4)\n",
      "(1465, 256) (1465, 4)\n"
     ]
    }
   ],
   "source": [
    "print(X_train.shape,y_train.shape)\n",
    "print(X_val.shape, y_val.shape)\n",
    "print(X_test.shape, y_test.shape)"
   ]
  },
  {
   "cell_type": "code",
   "execution_count": 14,
   "metadata": {},
   "outputs": [],
   "source": [
    "# Save Data\n",
    "np.save('../../model/X_train', X_train)\n",
    "np.save('../../model/X_test', X_test)\n",
    "np.save('../../model/X_val', X_val)\n",
    "np.save('../../model/y_val', y_val)\n",
    "np.save('../../model/y_train', y_train)\n",
    "np.save('../../model/y_test', y_test)"
   ]
  },
  {
   "cell_type": "markdown",
   "metadata": {},
   "source": [
    "### Until this part"
   ]
  },
  {
   "cell_type": "code",
   "execution_count": 15,
   "metadata": {},
   "outputs": [],
   "source": [
    "# Load Data\n",
    "X_train = np.load('../../model/X_train.npy')\n",
    "X_test = np.load('../../model/X_test.npy')\n",
    "X_val = np.load('../../model/X_val.npy')\n",
    "y_val = np.load('../../model/y_val.npy')\n",
    "y_train = np.load('../../model/y_train.npy')\n",
    "y_test = np.load('../../model/y_test.npy')"
   ]
  },
  {
   "cell_type": "markdown",
   "metadata": {},
   "source": [
    "# Experiment 3 - One convolutional layer /w no dropout\n"
   ]
  },
  {
   "cell_type": "markdown",
   "metadata": {},
   "source": [
    "##Experiment 3-2\n",
    "- learning rate 0.005\n",
    "- pooling stride 1x1\n",
    "- #filter 1\n",
    "- best result among every other settings\n",
    "- cost kept fluctuated during training. (0.8 -> 1.3) -- why is that?"
   ]
  },
  {
   "cell_type": "code",
   "execution_count": 16,
   "metadata": {},
   "outputs": [],
   "source": [
    "tf.reset_default_graph()"
   ]
  },
  {
   "cell_type": "code",
   "execution_count": 17,
   "metadata": {},
   "outputs": [],
   "source": [
    "n_mfcc = 16\n",
    "n_frame = 16\n",
    "n_classes = 4\n",
    "n_channels = 1\n",
    "\n",
    "kernel_size = 3\n",
    "stride = 1\n",
    "pad = \"SAME\"\n",
    "\n",
    "learning_rate = 0.0002  # 0.005\n",
    "training_epochs = 500 # 수정해야해"
   ]
  },
  {
   "cell_type": "markdown",
   "metadata": {},
   "source": [
    "# Layer"
   ]
  },
  {
   "cell_type": "markdown",
   "metadata": {},
   "source": [
    "## Experiment\n",
    "- learning rate 0.0002\n",
    "- no cnn/ pooling \n",
    "- just dense with dropout "
   ]
  },
  {
   "cell_type": "code",
   "execution_count": 18,
   "metadata": {},
   "outputs": [],
   "source": [
    "X = tf.placeholder(tf.float32, shape=[None,n_mfcc*n_frame*n_channels])\n",
    "Y = tf.placeholder(tf.float32, shape=[None,n_classes])\n",
    "\n",
    "keep_prob = tf.placeholder(tf.float32)\n",
    "\n",
    "dense1 = tf.layers.dense(inputs=X, units=256, activation=tf.nn.relu)\n",
    "dropout1 = tf.nn.dropout(dense1, keep_prob=keep_prob)\n",
    "dense2 = tf.layers.dense(inputs=dropout1, units=256, activation=tf.nn.relu)\n",
    "dropout2 = tf.nn.dropout(dense2, keep_prob=keep_prob)\n",
    "dense3 = tf.layers.dense(inputs=dropout2, units=512, activation=tf.nn.relu)\n",
    "dropout3 = tf.nn.dropout(dense3, keep_prob=keep_prob)\n",
    "dense4 = tf.layers.dense(inputs=dropout3, units=512, activation=tf.nn.relu)\n",
    "dropout4 = tf.nn.dropout(dense4, keep_prob=keep_prob)\n",
    "dense5 = tf.layers.dense(inputs=dropout4, units=256, activation=tf.nn.relu)\n",
    "dropout5 = tf.nn.dropout(dense5, keep_prob=keep_prob)\n",
    "\n",
    "logits= tf.layers.dense(inputs=dropout5, units=4)"
   ]
  },
  {
   "cell_type": "code",
   "execution_count": 19,
   "metadata": {},
   "outputs": [],
   "source": [
    "cost = tf.reduce_mean(tf.nn.softmax_cross_entropy_with_logits_v2(logits=logits, labels=Y))\n",
    "optimizer = tf.train.AdamOptimizer(learning_rate=learning_rate).minimize(cost)"
   ]
  },
  {
   "cell_type": "code",
   "execution_count": 20,
   "metadata": {},
   "outputs": [],
   "source": [
    "sess = tf.Session()\n",
    "sess.run(tf.global_variables_initializer())"
   ]
  },
  {
   "cell_type": "code",
   "execution_count": 21,
   "metadata": {},
   "outputs": [],
   "source": [
    "# model save\n",
    "model_path = '../../model/Dense/4_dense_model'\n",
    "saver = tf.train.Saver()"
   ]
  },
  {
   "cell_type": "markdown",
   "metadata": {},
   "source": [
    "# Trainning"
   ]
  },
  {
   "cell_type": "code",
   "execution_count": 22,
   "metadata": {},
   "outputs": [],
   "source": [
    "import math"
   ]
  },
  {
   "cell_type": "code",
   "execution_count": 23,
   "metadata": {
    "scrolled": false
   },
   "outputs": [],
   "source": [
    "with tf.name_scope(\"eval\"):\n",
    "    correct = tf.nn.in_top_k(logits, y, 1)\n",
    "    accuracy = tf.reduce_mean(tf.cast(correct, tf.float32))\n",
    "#    accuracy_summary = tf.summary.scalar('accuracy', accuracy)"
   ]
  },
  {
   "cell_type": "code",
   "execution_count": 24,
   "metadata": {},
   "outputs": [],
   "source": [
    "from sklearn.metrics import accuracy_score"
   ]
  },
  {
   "cell_type": "code",
   "execution_count": 25,
   "metadata": {
    "scrolled": true
   },
   "outputs": [
    {
     "name": "stdout",
     "output_type": "stream",
     "text": [
      "Epoch: 0001 cost =  0.527284852 \t검증 세트 정확도: 76.621%\n",
      "Epoch: 0002 cost =  0.142887823 \t검증 세트 정확도: 80.461%\n",
      "Epoch: 0003 cost =  0.071463084 \t검증 세트 정확도: 81.741%\n",
      "Epoch: 0004 cost =  0.044629508 \t검증 세트 정확도: 84.642%\n",
      "Epoch: 0005 cost =  0.029527563 \t검증 세트 정확도: 85.410%\n",
      "Epoch: 0006 cost =  0.023168026 \t검증 세트 정확도: 85.068%\n",
      "Epoch: 0007 cost =  0.018284930 \t검증 세트 정확도: 86.604%\n",
      "Epoch: 0008 cost =  0.015460608 \t검증 세트 정확도: 88.567%\n",
      "Epoch: 0009 cost =  0.013718713 \t검증 세트 정확도: 86.945%\n",
      "Epoch: 0010 cost =  0.012136823 \t검증 세트 정확도: 88.481%\n",
      "Epoch: 0011 cost =  0.010506067 \t검증 세트 정확도: 88.652%\n",
      "Epoch: 0012 cost =  0.009418304 \t검증 세트 정확도: 89.505%\n",
      "Epoch: 0013 cost =  0.008760448 \t검증 세트 정확도: 90.102%\n",
      "Epoch: 0014 cost =  0.008003777 \t검증 세트 정확도: 92.491%\n",
      "Epoch: 0015 cost =  0.007359405 \t검증 세트 정확도: 93.601%\n",
      "Epoch: 0016 cost =  0.007044017 \t검증 세트 정확도: 92.833%\n",
      "Epoch: 0017 cost =  0.006639728 \t검증 세트 정확도: 93.089%\n",
      "Epoch: 0018 cost =  0.006180297 \t검증 세트 정확도: 93.430%\n",
      "Epoch: 0019 cost =  0.005830182 \t검증 세트 정확도: 92.491%\n",
      "Epoch: 0020 cost =  0.005688192 \t검증 세트 정확도: 92.577%\n",
      "Epoch: 0021 cost =  0.005494065 \t검증 세트 정확도: 92.577%\n",
      "Epoch: 0022 cost =  0.004973723 \t검증 세트 정확도: 92.406%\n",
      "Epoch: 0023 cost =  0.004813524 \t검증 세트 정확도: 92.321%\n",
      "Epoch: 0024 cost =  0.004849678 \t검증 세트 정확도: 92.747%\n",
      "Epoch: 0025 cost =  0.004452003 \t검증 세트 정확도: 93.601%\n",
      "Epoch: 0026 cost =  0.004507108 \t검증 세트 정확도: 92.833%\n",
      "Epoch: 0027 cost =  0.004477665 \t검증 세트 정확도: 92.491%\n",
      "Epoch: 0028 cost =  0.004317166 \t검증 세트 정확도: 93.345%\n",
      "Epoch: 0029 cost =  0.004315834 \t검증 세트 정확도: 93.601%\n",
      "Epoch: 0030 cost =  0.004261494 \t검증 세트 정확도: 93.601%\n",
      "Epoch: 0031 cost =  0.004416519 \t검증 세트 정확도: 92.833%\n",
      "Epoch: 0032 cost =  0.004281233 \t검증 세트 정확도: 93.686%\n",
      "Epoch: 0033 cost =  0.004324981 \t검증 세트 정확도: 92.747%\n",
      "Epoch: 0034 cost =  0.004072874 \t검증 세트 정확도: 93.345%\n",
      "Epoch: 0035 cost =  0.004017113 \t검증 세트 정확도: 94.539%\n",
      "Epoch: 0036 cost =  0.004063111 \t검증 세트 정확도: 94.113%\n",
      "Epoch: 0037 cost =  0.004200571 \t검증 세트 정확도: 93.430%\n",
      "Epoch: 0038 cost =  0.003910904 \t검증 세트 정확도: 93.686%\n",
      "Epoch: 0039 cost =  0.003866528 \t검증 세트 정확도: 95.307%\n",
      "Epoch: 0040 cost =  0.003870829 \t검증 세트 정확도: 94.539%\n",
      "Epoch: 0041 cost =  0.003929024 \t검증 세트 정확도: 93.174%\n",
      "Epoch: 0042 cost =  0.004136694 \t검증 세트 정확도: 94.283%\n",
      "Epoch: 0043 cost =  0.004002793 \t검증 세트 정확도: 94.454%\n",
      "Epoch: 0044 cost =  0.003747406 \t검증 세트 정확도: 93.601%\n",
      "Epoch: 0045 cost =  0.003825701 \t검증 세트 정확도: 94.539%\n",
      "Epoch: 0046 cost =  0.003838292 \t검증 세트 정확도: 95.990%\n",
      "Epoch: 0047 cost =  0.003669202 \t검증 세트 정확도: 93.601%\n",
      "Epoch: 0048 cost =  0.003801470 \t검증 세트 정확도: 94.369%\n",
      "Epoch: 0049 cost =  0.003665416 \t검증 세트 정확도: 94.113%\n",
      "Epoch: 0050 cost =  0.003374088 \t검증 세트 정확도: 96.416%\n",
      "Epoch: 0051 cost =  0.003513512 \t검증 세트 정확도: 96.416%\n",
      "Epoch: 0052 cost =  0.003629598 \t검증 세트 정확도: 96.672%\n",
      "Epoch: 0053 cost =  0.003376471 \t검증 세트 정확도: 97.099%\n",
      "Epoch: 0054 cost =  0.003253758 \t검증 세트 정확도: 95.563%\n",
      "Epoch: 0055 cost =  0.003104561 \t검증 세트 정확도: 97.014%\n",
      "Epoch: 0056 cost =  0.003362686 \t검증 세트 정확도: 97.184%\n",
      "Epoch: 0057 cost =  0.003219448 \t검증 세트 정확도: 97.611%\n",
      "Epoch: 0058 cost =  0.003256035 \t검증 세트 정확도: 96.758%\n",
      "Epoch: 0059 cost =  0.003545404 \t검증 세트 정확도: 97.611%\n",
      "Epoch: 0060 cost =  0.003204382 \t검증 세트 정확도: 97.696%\n",
      "Epoch: 0061 cost =  0.003348376 \t검증 세트 정확도: 97.355%\n",
      "Epoch: 0062 cost =  0.003199497 \t검증 세트 정확도: 97.014%\n",
      "Epoch: 0063 cost =  0.003330333 \t검증 세트 정확도: 97.782%\n",
      "Epoch: 0064 cost =  0.002858657 \t검증 세트 정확도: 96.928%\n",
      "Epoch: 0065 cost =  0.003050478 \t검증 세트 정확도: 96.331%\n",
      "Epoch: 0066 cost =  0.003247928 \t검증 세트 정확도: 97.526%\n",
      "Epoch: 0067 cost =  0.003149500 \t검증 세트 정확도: 97.440%\n",
      "Epoch: 0068 cost =  0.003316828 \t검증 세트 정확도: 97.184%\n",
      "Epoch: 0069 cost =  0.003166272 \t검증 세트 정확도: 97.867%\n",
      "Epoch: 0070 cost =  0.002754117 \t검증 세트 정확도: 98.123%\n",
      "Epoch: 0071 cost =  0.002965174 \t검증 세트 정확도: 97.696%\n",
      "Epoch: 0072 cost =  0.002834814 \t검증 세트 정확도: 96.928%\n",
      "Epoch: 0073 cost =  0.002801840 \t검증 세트 정확도: 97.952%\n",
      "Epoch: 0074 cost =  0.002887017 \t검증 세트 정확도: 97.526%\n",
      "Epoch: 0075 cost =  0.002645363 \t검증 세트 정확도: 97.782%\n",
      "Epoch: 0076 cost =  0.002730834 \t검증 세트 정확도: 97.526%\n",
      "Epoch: 0077 cost =  0.002975910 \t검증 세트 정확도: 97.867%\n",
      "Epoch: 0078 cost =  0.002812514 \t검증 세트 정확도: 97.611%\n",
      "Epoch: 0079 cost =  0.002626581 \t검증 세트 정확도: 97.270%\n",
      "Epoch: 0080 cost =  0.002717874 \t검증 세트 정확도: 97.611%\n",
      "Epoch: 0081 cost =  0.002332132 \t검증 세트 정확도: 97.867%\n",
      "Epoch: 0082 cost =  0.002612624 \t검증 세트 정확도: 97.867%\n",
      "Epoch: 0083 cost =  0.002406333 \t검증 세트 정확도: 98.208%\n",
      "Epoch: 0084 cost =  0.002494739 \t검증 세트 정확도: 97.782%\n",
      "Epoch: 0085 cost =  0.002571132 \t검증 세트 정확도: 97.952%\n",
      "Epoch: 0086 cost =  0.002512520 \t검증 세트 정확도: 98.123%\n",
      "Epoch: 0087 cost =  0.002235855 \t검증 세트 정확도: 97.696%\n",
      "Epoch: 0088 cost =  0.002388678 \t검증 세트 정확도: 98.208%\n",
      "Epoch: 0089 cost =  0.002458037 \t검증 세트 정확도: 97.952%\n",
      "Epoch: 0090 cost =  0.002220736 \t검증 세트 정확도: 97.782%\n",
      "Epoch: 0091 cost =  0.002675869 \t검증 세트 정확도: 98.379%\n",
      "Epoch: 0092 cost =  0.002309656 \t검증 세트 정확도: 98.208%\n",
      "Epoch: 0093 cost =  0.002703850 \t검증 세트 정확도: 98.464%\n",
      "Epoch: 0094 cost =  0.002082568 \t검증 세트 정확도: 97.782%\n",
      "Epoch: 0095 cost =  0.002166823 \t검증 세트 정확도: 98.635%\n",
      "Epoch: 0096 cost =  0.002088698 \t검증 세트 정확도: 97.270%\n",
      "Epoch: 0097 cost =  0.002723939 \t검증 세트 정확도: 97.782%\n",
      "Epoch: 0098 cost =  0.002398266 \t검증 세트 정확도: 98.294%\n",
      "Epoch: 0099 cost =  0.002417106 \t검증 세트 정확도: 97.696%\n",
      "Epoch: 0100 cost =  0.002286385 \t검증 세트 정확도: 98.208%\n",
      "Epoch: 0101 cost =  0.001917653 \t검증 세트 정확도: 98.720%\n",
      "Epoch: 0102 cost =  0.002018331 \t검증 세트 정확도: 97.867%\n",
      "Epoch: 0103 cost =  0.002103987 \t검증 세트 정확도: 97.355%\n",
      "Epoch: 0104 cost =  0.001908421 \t검증 세트 정확도: 98.294%\n",
      "Epoch: 0105 cost =  0.002310096 \t검증 세트 정확도: 98.635%\n",
      "Epoch: 0106 cost =  0.002376624 \t검증 세트 정확도: 98.294%\n",
      "Epoch: 0107 cost =  0.002004431 \t검증 세트 정확도: 97.184%\n",
      "Epoch: 0108 cost =  0.002536439 \t검증 세트 정확도: 98.294%\n",
      "Epoch: 0109 cost =  0.002267148 \t검증 세트 정확도: 98.464%\n",
      "Epoch: 0110 cost =  0.002018260 \t검증 세트 정확도: 98.208%\n",
      "Epoch: 0111 cost =  0.002208056 \t검증 세트 정확도: 98.464%\n",
      "Epoch: 0112 cost =  0.001991016 \t검증 세트 정확도: 98.464%\n",
      "Epoch: 0113 cost =  0.001942062 \t검증 세트 정확도: 98.123%\n",
      "Epoch: 0114 cost =  0.001909221 \t검증 세트 정확도: 98.635%\n",
      "Epoch: 0115 cost =  0.001911271 \t검증 세트 정확도: 97.952%\n",
      "Epoch: 0116 cost =  0.002094733 \t검증 세트 정확도: 98.123%\n",
      "Epoch: 0117 cost =  0.001873504 \t검증 세트 정확도: 98.038%\n",
      "Epoch: 0118 cost =  0.002125863 \t검증 세트 정확도: 98.123%\n",
      "Epoch: 0119 cost =  0.001666896 \t검증 세트 정확도: 98.805%\n",
      "Epoch: 0120 cost =  0.002036391 \t검증 세트 정확도: 98.720%\n",
      "Epoch: 0121 cost =  0.002181266 \t검증 세트 정확도: 97.099%\n",
      "Epoch: 0122 cost =  0.002110445 \t검증 세트 정확도: 98.549%\n",
      "Epoch: 0123 cost =  0.002500335 \t검증 세트 정확도: 98.123%\n",
      "Epoch: 0124 cost =  0.002343201 \t검증 세트 정확도: 98.464%\n",
      "Epoch: 0125 cost =  0.001996169 \t검증 세트 정확도: 98.549%\n",
      "Epoch: 0126 cost =  0.002325953 \t검증 세트 정확도: 97.611%\n",
      "Epoch: 0127 cost =  0.002168673 \t검증 세트 정확도: 98.208%\n",
      "Epoch: 0128 cost =  0.002268793 \t검증 세트 정확도: 98.549%\n",
      "Epoch: 0129 cost =  0.002201708 \t검증 세트 정확도: 98.123%\n",
      "Epoch: 0130 cost =  0.002082839 \t검증 세트 정확도: 98.720%\n",
      "Epoch: 0131 cost =  0.001986283 \t검증 세트 정확도: 98.464%\n",
      "Epoch: 0132 cost =  0.002291957 \t검증 세트 정확도: 98.038%\n",
      "Epoch: 0133 cost =  0.001964319 \t검증 세트 정확도: 98.379%\n",
      "Epoch: 0134 cost =  0.001921101 \t검증 세트 정확도: 98.464%\n",
      "Epoch: 0135 cost =  0.002370936 \t검증 세트 정확도: 97.355%\n",
      "Epoch: 0136 cost =  0.002234461 \t검증 세트 정확도: 98.635%\n",
      "Epoch: 0137 cost =  0.002094977 \t검증 세트 정확도: 98.549%\n",
      "Epoch: 0138 cost =  0.002201647 \t검증 세트 정확도: 98.549%\n",
      "Epoch: 0139 cost =  0.002145943 \t검증 세트 정확도: 98.891%\n",
      "Epoch: 0140 cost =  0.001945226 \t검증 세트 정확도: 98.635%\n",
      "Epoch: 0141 cost =  0.001811010 \t검증 세트 정확도: 98.294%\n",
      "Epoch: 0142 cost =  0.002078375 \t검증 세트 정확도: 98.549%\n",
      "Epoch: 0143 cost =  0.001902243 \t검증 세트 정확도: 98.379%\n",
      "Epoch: 0144 cost =  0.001757161 \t검증 세트 정확도: 98.635%\n",
      "Epoch: 0145 cost =  0.002006634 \t검증 세트 정확도: 98.805%\n",
      "Epoch: 0146 cost =  0.002018133 \t검증 세트 정확도: 98.549%\n",
      "Epoch: 0147 cost =  0.001948551 \t검증 세트 정확도: 98.635%\n",
      "Epoch: 0148 cost =  0.002201353 \t검증 세트 정확도: 98.635%\n",
      "Epoch: 0149 cost =  0.002133932 \t검증 세트 정확도: 98.464%\n",
      "Epoch: 0150 cost =  0.001974143 \t검증 세트 정확도: 98.635%\n",
      "Epoch: 0151 cost =  0.001916183 \t검증 세트 정확도: 98.549%\n",
      "Epoch: 0152 cost =  0.001844967 \t검증 세트 정확도: 98.294%\n",
      "Epoch: 0153 cost =  0.001861624 \t검증 세트 정확도: 98.464%\n",
      "Epoch: 0154 cost =  0.001910985 \t검증 세트 정확도: 98.549%\n",
      "Epoch: 0155 cost =  0.001723634 \t검증 세트 정확도: 98.720%\n",
      "Epoch: 0156 cost =  0.002091203 \t검증 세트 정확도: 96.758%\n",
      "Epoch: 0157 cost =  0.001802337 \t검증 세트 정확도: 98.379%\n",
      "Epoch: 0158 cost =  0.002090358 \t검증 세트 정확도: 98.549%\n"
     ]
    },
    {
     "name": "stdout",
     "output_type": "stream",
     "text": [
      "Epoch: 0159 cost =  0.001673954 \t검증 세트 정확도: 98.379%\n",
      "Epoch: 0160 cost =  0.001715540 \t검증 세트 정확도: 98.720%\n",
      "Epoch: 0161 cost =  0.001921981 \t검증 세트 정확도: 98.720%\n",
      "Epoch: 0162 cost =  0.001690865 \t검증 세트 정확도: 98.635%\n",
      "Epoch: 0163 cost =  0.001952290 \t검증 세트 정확도: 98.635%\n",
      "Epoch: 0164 cost =  0.001871463 \t검증 세트 정확도: 98.123%\n",
      "Epoch: 0165 cost =  0.001947718 \t검증 세트 정확도: 98.549%\n",
      "Epoch: 0166 cost =  0.001808026 \t검증 세트 정확도: 98.635%\n",
      "Epoch: 0167 cost =  0.001771396 \t검증 세트 정확도: 98.549%\n",
      "Epoch: 0168 cost =  0.001586888 \t검증 세트 정확도: 98.891%\n",
      "Epoch: 0169 cost =  0.001451922 \t검증 세트 정확도: 98.720%\n",
      "Epoch: 0170 cost =  0.001569622 \t검증 세트 정확도: 98.379%\n",
      "Epoch: 0171 cost =  0.001756799 \t검증 세트 정확도: 98.549%\n",
      "Epoch: 0172 cost =  0.001692928 \t검증 세트 정확도: 98.635%\n",
      "Epoch: 0173 cost =  0.001322846 \t검증 세트 정확도: 98.635%\n",
      "Epoch: 0174 cost =  0.001811637 \t검증 세트 정확도: 98.805%\n",
      "Epoch: 0175 cost =  0.001631373 \t검증 세트 정확도: 98.635%\n",
      "Epoch: 0176 cost =  0.001566116 \t검증 세트 정확도: 98.549%\n",
      "Epoch: 0177 cost =  0.001494930 \t검증 세트 정확도: 98.294%\n",
      "Epoch: 0178 cost =  0.001588468 \t검증 세트 정확도: 98.720%\n",
      "Epoch: 0179 cost =  0.001605476 \t검증 세트 정확도: 98.379%\n",
      "Epoch: 0180 cost =  0.002148051 \t검증 세트 정확도: 98.549%\n",
      "Epoch: 0181 cost =  0.002019647 \t검증 세트 정확도: 98.635%\n",
      "Epoch: 0182 cost =  0.001521869 \t검증 세트 정확도: 98.464%\n",
      "Epoch: 0183 cost =  0.002192247 \t검증 세트 정확도: 98.720%\n",
      "Epoch: 0184 cost =  0.001921806 \t검증 세트 정확도: 98.635%\n",
      "Epoch: 0185 cost =  0.001915108 \t검증 세트 정확도: 98.464%\n",
      "Epoch: 0186 cost =  0.001948998 \t검증 세트 정확도: 98.379%\n",
      "Epoch: 0187 cost =  0.001873165 \t검증 세트 정확도: 98.720%\n",
      "Epoch: 0188 cost =  0.001859365 \t검증 세트 정확도: 98.123%\n",
      "Epoch: 0189 cost =  0.001727086 \t검증 세트 정확도: 98.635%\n",
      "Epoch: 0190 cost =  0.001616568 \t검증 세트 정확도: 98.635%\n",
      "Epoch: 0191 cost =  0.001989724 \t검증 세트 정확도: 98.635%\n",
      "Epoch: 0192 cost =  0.001934608 \t검증 세트 정확도: 98.464%\n",
      "Epoch: 0193 cost =  0.001837378 \t검증 세트 정확도: 98.549%\n",
      "Epoch: 0194 cost =  0.001662750 \t검증 세트 정확도: 98.635%\n",
      "Epoch: 0195 cost =  0.001910413 \t검증 세트 정확도: 98.464%\n",
      "Epoch: 0196 cost =  0.001936399 \t검증 세트 정확도: 98.805%\n",
      "Epoch: 0197 cost =  0.001835382 \t검증 세트 정확도: 98.549%\n",
      "Epoch: 0198 cost =  0.001809008 \t검증 세트 정확도: 98.720%\n",
      "Epoch: 0199 cost =  0.001663081 \t검증 세트 정확도: 98.464%\n",
      "Epoch: 0200 cost =  0.001622114 \t검증 세트 정확도: 98.720%\n",
      "Epoch: 0201 cost =  0.001720861 \t검증 세트 정확도: 98.635%\n",
      "Epoch: 0202 cost =  0.002074704 \t검증 세트 정확도: 98.720%\n",
      "Epoch: 0203 cost =  0.001721722 \t검증 세트 정확도: 98.464%\n",
      "Epoch: 0204 cost =  0.002157305 \t검증 세트 정확도: 98.635%\n",
      "Epoch: 0205 cost =  0.001408265 \t검증 세트 정확도: 98.891%\n",
      "Epoch: 0206 cost =  0.001745105 \t검증 세트 정확도: 98.464%\n",
      "Epoch: 0207 cost =  0.001573590 \t검증 세트 정확도: 98.464%\n",
      "Epoch: 0208 cost =  0.001500333 \t검증 세트 정확도: 98.379%\n",
      "Epoch: 0209 cost =  0.001652114 \t검증 세트 정확도: 98.635%\n",
      "Epoch: 0210 cost =  0.001664421 \t검증 세트 정확도: 98.294%\n",
      "Epoch: 0211 cost =  0.001757109 \t검증 세트 정확도: 98.123%\n",
      "Epoch: 0212 cost =  0.001670214 \t검증 세트 정확도: 98.464%\n",
      "Epoch: 0213 cost =  0.001832149 \t검증 세트 정확도: 98.549%\n",
      "Epoch: 0214 cost =  0.001433329 \t검증 세트 정확도: 97.952%\n",
      "Epoch: 0215 cost =  0.001606686 \t검증 세트 정확도: 98.464%\n",
      "Epoch: 0216 cost =  0.001397716 \t검증 세트 정확도: 98.464%\n",
      "Epoch: 0217 cost =  0.001604742 \t검증 세트 정확도: 98.549%\n",
      "Epoch: 0218 cost =  0.001341379 \t검증 세트 정확도: 98.464%\n",
      "Epoch: 0219 cost =  0.001820711 \t검증 세트 정확도: 98.379%\n",
      "Epoch: 0220 cost =  0.001388093 \t검증 세트 정확도: 98.294%\n",
      "Epoch: 0221 cost =  0.001552808 \t검증 세트 정확도: 98.123%\n",
      "Epoch: 0222 cost =  0.001937701 \t검증 세트 정확도: 98.891%\n",
      "Epoch: 0223 cost =  0.001487760 \t검증 세트 정확도: 98.635%\n",
      "Epoch: 0224 cost =  0.001628380 \t검증 세트 정확도: 98.379%\n",
      "Epoch: 0225 cost =  0.001711796 \t검증 세트 정확도: 98.549%\n",
      "Epoch: 0226 cost =  0.001482220 \t검증 세트 정확도: 98.464%\n",
      "Epoch: 0227 cost =  0.001792543 \t검증 세트 정확도: 98.635%\n",
      "Epoch: 0228 cost =  0.001458577 \t검증 세트 정확도: 98.379%\n",
      "Epoch: 0229 cost =  0.001997956 \t검증 세트 정확도: 98.720%\n",
      "Epoch: 0230 cost =  0.001644441 \t검증 세트 정확도: 98.635%\n",
      "Epoch: 0231 cost =  0.001569455 \t검증 세트 정확도: 98.379%\n",
      "Epoch: 0232 cost =  0.001296710 \t검증 세트 정확도: 98.464%\n",
      "Epoch: 0233 cost =  0.001422519 \t검증 세트 정확도: 98.208%\n",
      "Epoch: 0234 cost =  0.001781703 \t검증 세트 정확도: 98.464%\n",
      "Epoch: 0235 cost =  0.001956298 \t검증 세트 정확도: 98.635%\n",
      "Epoch: 0236 cost =  0.002323560 \t검증 세트 정확도: 98.549%\n",
      "Epoch: 0237 cost =  0.001980934 \t검증 세트 정확도: 98.635%\n",
      "Epoch: 0238 cost =  0.001753052 \t검증 세트 정확도: 98.294%\n",
      "Epoch: 0239 cost =  0.001726886 \t검증 세트 정확도: 98.549%\n",
      "Epoch: 0240 cost =  0.001579967 \t검증 세트 정확도: 99.061%\n",
      "Epoch: 0241 cost =  0.001894529 \t검증 세트 정확도: 98.805%\n",
      "Epoch: 0242 cost =  0.002059047 \t검증 세트 정확도: 98.805%\n",
      "Epoch: 0243 cost =  0.001732219 \t검증 세트 정확도: 98.464%\n",
      "Epoch: 0244 cost =  0.001580480 \t검증 세트 정확도: 98.464%\n",
      "Epoch: 0245 cost =  0.001670726 \t검증 세트 정확도: 98.379%\n",
      "Epoch: 0246 cost =  0.001352616 \t검증 세트 정확도: 98.635%\n",
      "Epoch: 0247 cost =  0.001511062 \t검증 세트 정확도: 98.805%\n",
      "Epoch: 0248 cost =  0.001356156 \t검증 세트 정확도: 98.635%\n",
      "Epoch: 0249 cost =  0.001485614 \t검증 세트 정확도: 98.805%\n",
      "Epoch: 0250 cost =  0.001396028 \t검증 세트 정확도: 98.720%\n",
      "Epoch: 0251 cost =  0.001545032 \t검증 세트 정확도: 98.720%\n",
      "Epoch: 0252 cost =  0.001569956 \t검증 세트 정확도: 98.720%\n",
      "Epoch: 0253 cost =  0.001798532 \t검증 세트 정확도: 98.294%\n",
      "Epoch: 0254 cost =  0.001635390 \t검증 세트 정확도: 98.549%\n",
      "Epoch: 0255 cost =  0.001690545 \t검증 세트 정확도: 98.294%\n",
      "Epoch: 0256 cost =  0.001414600 \t검증 세트 정확도: 98.464%\n",
      "Epoch: 0257 cost =  0.001464004 \t검증 세트 정확도: 98.891%\n",
      "Epoch: 0258 cost =  0.001645464 \t검증 세트 정확도: 98.720%\n",
      "Epoch: 0259 cost =  0.001813440 \t검증 세트 정확도: 98.805%\n",
      "Epoch: 0260 cost =  0.001511500 \t검증 세트 정확도: 98.805%\n",
      "Epoch: 0261 cost =  0.001546290 \t검증 세트 정확도: 98.464%\n",
      "Epoch: 0262 cost =  0.001505465 \t검증 세트 정확도: 98.123%\n",
      "Epoch: 0263 cost =  0.001329012 \t검증 세트 정확도: 98.379%\n",
      "Epoch: 0264 cost =  0.001524317 \t검증 세트 정확도: 98.464%\n",
      "Epoch: 0265 cost =  0.001341836 \t검증 세트 정확도: 98.464%\n",
      "Epoch: 0266 cost =  0.001681560 \t검증 세트 정확도: 98.208%\n",
      "Epoch: 0267 cost =  0.001517651 \t검증 세트 정확도: 98.294%\n",
      "Epoch: 0268 cost =  0.001669173 \t검증 세트 정확도: 98.294%\n",
      "Epoch: 0269 cost =  0.001735079 \t검증 세트 정확도: 97.867%\n",
      "Epoch: 0270 cost =  0.001705639 \t검증 세트 정확도: 97.867%\n",
      "Epoch: 0271 cost =  0.001524891 \t검증 세트 정확도: 98.123%\n",
      "Epoch: 0272 cost =  0.001444041 \t검증 세트 정확도: 98.208%\n",
      "Epoch: 0273 cost =  0.001704133 \t검증 세트 정확도: 98.208%\n",
      "Epoch: 0274 cost =  0.001506666 \t검증 세트 정확도: 98.549%\n",
      "Epoch: 0275 cost =  0.001539218 \t검증 세트 정확도: 98.123%\n",
      "Epoch: 0276 cost =  0.001623138 \t검증 세트 정확도: 98.294%\n",
      "Epoch: 0277 cost =  0.001376863 \t검증 세트 정확도: 98.123%\n",
      "Epoch: 0278 cost =  0.001521200 \t검증 세트 정확도: 98.208%\n",
      "Epoch: 0279 cost =  0.001398863 \t검증 세트 정확도: 98.123%\n",
      "Epoch: 0280 cost =  0.001620791 \t검증 세트 정확도: 98.464%\n",
      "Epoch: 0281 cost =  0.001606448 \t검증 세트 정확도: 98.294%\n",
      "Epoch: 0282 cost =  0.001770297 \t검증 세트 정확도: 98.294%\n",
      "Epoch: 0283 cost =  0.001829206 \t검증 세트 정확도: 98.038%\n",
      "Epoch: 0284 cost =  0.001786350 \t검증 세트 정확도: 98.294%\n",
      "Epoch: 0285 cost =  0.001784195 \t검증 세트 정확도: 98.720%\n",
      "Epoch: 0286 cost =  0.001410168 \t검증 세트 정확도: 98.294%\n",
      "Epoch: 0287 cost =  0.001731582 \t검증 세트 정확도: 98.805%\n",
      "Epoch: 0288 cost =  0.001725672 \t검증 세트 정확도: 98.294%\n",
      "Epoch: 0289 cost =  0.001718394 \t검증 세트 정확도: 98.805%\n",
      "Epoch: 0290 cost =  0.001373965 \t검증 세트 정확도: 98.464%\n",
      "Epoch: 0291 cost =  0.001671352 \t검증 세트 정확도: 98.635%\n",
      "Epoch: 0292 cost =  0.001473149 \t검증 세트 정확도: 98.805%\n",
      "Epoch: 0293 cost =  0.001614410 \t검증 세트 정확도: 98.038%\n",
      "Epoch: 0294 cost =  0.001529169 \t검증 세트 정확도: 98.635%\n",
      "Epoch: 0295 cost =  0.001367171 \t검증 세트 정확도: 98.805%\n",
      "Epoch: 0296 cost =  0.001591711 \t검증 세트 정확도: 97.611%\n",
      "Epoch: 0297 cost =  0.001670309 \t검증 세트 정확도: 98.208%\n",
      "Epoch: 0298 cost =  0.001305880 \t검증 세트 정확도: 97.952%\n",
      "Epoch: 0299 cost =  0.001258689 \t검증 세트 정확도: 98.038%\n",
      "Epoch: 0300 cost =  0.001209426 \t검증 세트 정확도: 98.379%\n",
      "Epoch: 0301 cost =  0.001945486 \t검증 세트 정확도: 96.416%\n",
      "Epoch: 0302 cost =  0.001461798 \t검증 세트 정확도: 97.782%\n",
      "Epoch: 0303 cost =  0.001291135 \t검증 세트 정확도: 98.208%\n",
      "Epoch: 0304 cost =  0.001070352 \t검증 세트 정확도: 98.123%\n",
      "Epoch: 0305 cost =  0.001106723 \t검증 세트 정확도: 98.208%\n",
      "Epoch: 0306 cost =  0.001254583 \t검증 세트 정확도: 98.549%\n",
      "Epoch: 0307 cost =  0.001721628 \t검증 세트 정확도: 98.294%\n",
      "Epoch: 0308 cost =  0.001409907 \t검증 세트 정확도: 98.294%\n",
      "Epoch: 0309 cost =  0.001705361 \t검증 세트 정확도: 98.208%\n",
      "Epoch: 0310 cost =  0.001672221 \t검증 세트 정확도: 98.038%\n",
      "Epoch: 0311 cost =  0.001527900 \t검증 세트 정확도: 98.038%\n",
      "Epoch: 0312 cost =  0.001498894 \t검증 세트 정확도: 97.270%\n",
      "Epoch: 0313 cost =  0.001709497 \t검증 세트 정확도: 98.123%\n",
      "Epoch: 0314 cost =  0.001484991 \t검증 세트 정확도: 98.635%\n",
      "Epoch: 0315 cost =  0.001440943 \t검증 세트 정확도: 98.805%\n",
      "Epoch: 0316 cost =  0.001398011 \t검증 세트 정확도: 98.805%\n"
     ]
    },
    {
     "name": "stdout",
     "output_type": "stream",
     "text": [
      "Epoch: 0317 cost =  0.001336452 \t검증 세트 정확도: 98.891%\n",
      "Epoch: 0318 cost =  0.001417432 \t검증 세트 정확도: 98.379%\n",
      "Epoch: 0319 cost =  0.001216666 \t검증 세트 정확도: 98.720%\n",
      "Epoch: 0320 cost =  0.001566367 \t검증 세트 정확도: 98.549%\n",
      "Epoch: 0321 cost =  0.001198915 \t검증 세트 정확도: 98.635%\n",
      "Epoch: 0322 cost =  0.001228826 \t검증 세트 정확도: 98.464%\n",
      "Epoch: 0323 cost =  0.001311360 \t검증 세트 정확도: 98.720%\n",
      "Epoch: 0324 cost =  0.001396916 \t검증 세트 정확도: 98.208%\n",
      "Epoch: 0325 cost =  0.001350714 \t검증 세트 정확도: 98.208%\n",
      "Epoch: 0326 cost =  0.001439776 \t검증 세트 정확도: 98.891%\n",
      "Epoch: 0327 cost =  0.001339469 \t검증 세트 정확도: 98.549%\n",
      "Epoch: 0328 cost =  0.001490462 \t검증 세트 정확도: 98.720%\n",
      "Epoch: 0329 cost =  0.001111524 \t검증 세트 정확도: 98.549%\n",
      "Epoch: 0330 cost =  0.001903716 \t검증 세트 정확도: 98.635%\n",
      "Epoch: 0331 cost =  0.001725269 \t검증 세트 정확도: 98.123%\n",
      "Epoch: 0332 cost =  0.001277177 \t검증 세트 정확도: 98.720%\n",
      "Epoch: 0333 cost =  0.001114712 \t검증 세트 정확도: 98.635%\n",
      "Epoch: 0334 cost =  0.001582189 \t검증 세트 정확도: 98.123%\n",
      "Epoch: 0335 cost =  0.001225056 \t검증 세트 정확도: 98.208%\n",
      "Epoch: 0336 cost =  0.001610249 \t검증 세트 정확도: 98.294%\n",
      "Epoch: 0337 cost =  0.001422021 \t검증 세트 정확도: 98.635%\n",
      "Epoch: 0338 cost =  0.001325309 \t검증 세트 정확도: 98.294%\n",
      "Epoch: 0339 cost =  0.001261445 \t검증 세트 정확도: 98.379%\n",
      "Epoch: 0340 cost =  0.001876916 \t검증 세트 정확도: 98.294%\n",
      "Epoch: 0341 cost =  0.001774103 \t검증 세트 정확도: 98.720%\n",
      "Epoch: 0342 cost =  0.001230560 \t검증 세트 정확도: 98.805%\n",
      "Epoch: 0343 cost =  0.001235070 \t검증 세트 정확도: 98.976%\n",
      "Epoch: 0344 cost =  0.001418506 \t검증 세트 정확도: 98.805%\n",
      "Epoch: 0345 cost =  0.001305930 \t검증 세트 정확도: 98.549%\n",
      "Epoch: 0346 cost =  0.001297667 \t검증 세트 정확도: 98.379%\n",
      "Epoch: 0347 cost =  0.001573837 \t검증 세트 정확도: 98.123%\n",
      "Epoch: 0348 cost =  0.001095279 \t검증 세트 정확도: 98.379%\n",
      "Epoch: 0349 cost =  0.001044391 \t검증 세트 정확도: 98.464%\n",
      "Epoch: 0350 cost =  0.001399376 \t검증 세트 정확도: 98.549%\n",
      "Epoch: 0351 cost =  0.001629075 \t검증 세트 정확도: 98.464%\n",
      "Epoch: 0352 cost =  0.001187964 \t검증 세트 정확도: 98.635%\n",
      "Epoch: 0353 cost =  0.001307601 \t검증 세트 정확도: 98.379%\n",
      "Epoch: 0354 cost =  0.001174120 \t검증 세트 정확도: 98.379%\n",
      "Epoch: 0355 cost =  0.001165551 \t검증 세트 정확도: 98.464%\n",
      "Epoch: 0356 cost =  0.001004446 \t검증 세트 정확도: 98.123%\n",
      "Epoch: 0357 cost =  0.001281457 \t검증 세트 정확도: 98.891%\n",
      "Epoch: 0358 cost =  0.001264400 \t검증 세트 정확도: 98.635%\n",
      "Epoch: 0359 cost =  0.000999347 \t검증 세트 정확도: 98.379%\n",
      "Epoch: 0360 cost =  0.001230709 \t검증 세트 정확도: 98.805%\n",
      "Epoch: 0361 cost =  0.001481732 \t검증 세트 정확도: 98.464%\n",
      "Epoch: 0362 cost =  0.001376265 \t검증 세트 정확도: 98.976%\n",
      "Epoch: 0363 cost =  0.001318383 \t검증 세트 정확도: 98.805%\n",
      "Epoch: 0364 cost =  0.001113689 \t검증 세트 정확도: 98.635%\n",
      "Epoch: 0365 cost =  0.001061024 \t검증 세트 정확도: 99.061%\n",
      "Epoch: 0366 cost =  0.001394081 \t검증 세트 정확도: 98.720%\n",
      "Epoch: 0367 cost =  0.001593471 \t검증 세트 정확도: 98.038%\n",
      "Epoch: 0368 cost =  0.001632464 \t검증 세트 정확도: 98.635%\n",
      "Epoch: 0369 cost =  0.001682672 \t검증 세트 정확도: 98.464%\n",
      "Epoch: 0370 cost =  0.001325070 \t검증 세트 정확도: 98.805%\n",
      "Epoch: 0371 cost =  0.001608043 \t검증 세트 정확도: 98.464%\n",
      "Epoch: 0372 cost =  0.001444434 \t검증 세트 정확도: 97.696%\n",
      "Epoch: 0373 cost =  0.001434119 \t검증 세트 정확도: 98.635%\n",
      "Epoch: 0374 cost =  0.001058588 \t검증 세트 정확도: 98.891%\n",
      "Epoch: 0375 cost =  0.001292574 \t검증 세트 정확도: 98.720%\n",
      "Epoch: 0376 cost =  0.001619633 \t검증 세트 정확도: 98.891%\n",
      "Epoch: 0377 cost =  0.001178227 \t검증 세트 정확도: 98.891%\n",
      "Epoch: 0378 cost =  0.001402702 \t검증 세트 정확도: 98.805%\n",
      "Epoch: 0379 cost =  0.001254933 \t검증 세트 정확도: 98.635%\n",
      "Epoch: 0380 cost =  0.001400967 \t검증 세트 정확도: 98.720%\n",
      "Epoch: 0381 cost =  0.001178382 \t검증 세트 정확도: 98.635%\n",
      "Epoch: 0382 cost =  0.001637477 \t검증 세트 정확도: 98.805%\n",
      "Epoch: 0383 cost =  0.001435281 \t검증 세트 정확도: 98.635%\n",
      "Epoch: 0384 cost =  0.001523648 \t검증 세트 정확도: 98.549%\n",
      "Epoch: 0385 cost =  0.001767129 \t검증 세트 정확도: 98.549%\n",
      "Epoch: 0386 cost =  0.001467308 \t검증 세트 정확도: 98.549%\n",
      "Epoch: 0387 cost =  0.001015503 \t검증 세트 정확도: 98.635%\n",
      "Epoch: 0388 cost =  0.001666740 \t검증 세트 정확도: 98.549%\n",
      "Epoch: 0389 cost =  0.001182995 \t검증 세트 정확도: 98.635%\n",
      "Epoch: 0390 cost =  0.001615108 \t검증 세트 정확도: 98.976%\n",
      "Epoch: 0391 cost =  0.001380384 \t검증 세트 정확도: 98.720%\n",
      "Epoch: 0392 cost =  0.001278359 \t검증 세트 정확도: 98.720%\n",
      "Epoch: 0393 cost =  0.001334208 \t검증 세트 정확도: 98.805%\n",
      "Epoch: 0394 cost =  0.001132589 \t검증 세트 정확도: 98.805%\n",
      "Epoch: 0395 cost =  0.001553095 \t검증 세트 정확도: 98.379%\n",
      "Epoch: 0396 cost =  0.001304579 \t검증 세트 정확도: 98.549%\n",
      "Epoch: 0397 cost =  0.001285386 \t검증 세트 정확도: 98.464%\n",
      "Epoch: 0398 cost =  0.001314646 \t검증 세트 정확도: 98.720%\n",
      "Epoch: 0399 cost =  0.001118447 \t검증 세트 정확도: 98.379%\n",
      "Epoch: 0400 cost =  0.001414555 \t검증 세트 정확도: 98.635%\n",
      "Epoch: 0401 cost =  0.001271117 \t검증 세트 정확도: 98.720%\n",
      "Epoch: 0402 cost =  0.001223178 \t검증 세트 정확도: 98.805%\n",
      "Epoch: 0403 cost =  0.001082672 \t검증 세트 정확도: 98.720%\n",
      "Epoch: 0404 cost =  0.001237914 \t검증 세트 정확도: 98.805%\n",
      "Epoch: 0405 cost =  0.001437709 \t검증 세트 정확도: 98.720%\n",
      "Epoch: 0406 cost =  0.001134058 \t검증 세트 정확도: 98.635%\n",
      "Epoch: 0407 cost =  0.001431487 \t검증 세트 정확도: 98.635%\n",
      "Epoch: 0408 cost =  0.001339557 \t검증 세트 정확도: 98.464%\n",
      "Epoch: 0409 cost =  0.001375455 \t검증 세트 정확도: 98.805%\n",
      "Epoch: 0410 cost =  0.000894968 \t검증 세트 정확도: 98.720%\n",
      "Epoch: 0411 cost =  0.001154837 \t검증 세트 정확도: 98.379%\n",
      "Epoch: 0412 cost =  0.000919537 \t검증 세트 정확도: 98.635%\n",
      "Epoch: 0413 cost =  0.001383649 \t검증 세트 정확도: 98.805%\n",
      "Epoch: 0414 cost =  0.001082703 \t검증 세트 정확도: 98.720%\n",
      "Epoch: 0415 cost =  0.000961692 \t검증 세트 정확도: 98.891%\n",
      "Epoch: 0416 cost =  0.001454361 \t검증 세트 정확도: 98.976%\n",
      "Epoch: 0417 cost =  0.001267344 \t검증 세트 정확도: 99.061%\n",
      "Epoch: 0418 cost =  0.001815431 \t검증 세트 정확도: 98.635%\n",
      "Epoch: 0419 cost =  0.001453375 \t검증 세트 정확도: 99.061%\n",
      "Epoch: 0420 cost =  0.001518686 \t검증 세트 정확도: 98.891%\n",
      "Epoch: 0421 cost =  0.001798510 \t검증 세트 정확도: 98.635%\n",
      "Epoch: 0422 cost =  0.001252337 \t검증 세트 정확도: 98.805%\n",
      "Epoch: 0423 cost =  0.001073489 \t검증 세트 정확도: 99.061%\n",
      "Epoch: 0424 cost =  0.001098176 \t검증 세트 정확도: 98.805%\n",
      "Epoch: 0425 cost =  0.001114918 \t검증 세트 정확도: 98.976%\n",
      "Epoch: 0426 cost =  0.003452182 \t검증 세트 정확도: 96.160%\n",
      "Epoch: 0427 cost =  0.001493478 \t검증 세트 정확도: 98.720%\n",
      "Epoch: 0428 cost =  0.001466352 \t검증 세트 정확도: 99.061%\n",
      "Epoch: 0429 cost =  0.001113046 \t검증 세트 정확도: 99.061%\n",
      "Epoch: 0430 cost =  0.001433515 \t검증 세트 정확도: 98.635%\n",
      "Epoch: 0431 cost =  0.001440823 \t검증 세트 정확도: 98.720%\n",
      "Epoch: 0432 cost =  0.001837978 \t검증 세트 정확도: 99.061%\n",
      "Epoch: 0433 cost =  0.001282140 \t검증 세트 정확도: 98.720%\n",
      "Epoch: 0434 cost =  0.001099834 \t검증 세트 정확도: 98.549%\n",
      "Epoch: 0435 cost =  0.001354974 \t검증 세트 정확도: 98.891%\n",
      "Epoch: 0436 cost =  0.001180180 \t검증 세트 정확도: 99.147%\n",
      "Epoch: 0437 cost =  0.001256319 \t검증 세트 정확도: 98.720%\n",
      "Epoch: 0438 cost =  0.001060899 \t검증 세트 정확도: 98.891%\n",
      "Epoch: 0439 cost =  0.001203391 \t검증 세트 정확도: 99.147%\n",
      "Epoch: 0440 cost =  0.001109635 \t검증 세트 정확도: 99.061%\n",
      "Epoch: 0441 cost =  0.000981959 \t검증 세트 정확도: 98.720%\n",
      "Epoch: 0442 cost =  0.001208980 \t검증 세트 정확도: 96.672%\n",
      "Epoch: 0443 cost =  0.001832703 \t검증 세트 정확도: 98.976%\n",
      "Epoch: 0444 cost =  0.001304491 \t검증 세트 정확도: 98.891%\n",
      "Epoch: 0445 cost =  0.001448275 \t검증 세트 정확도: 98.720%\n",
      "Epoch: 0446 cost =  0.001333987 \t검증 세트 정확도: 99.061%\n",
      "Epoch: 0447 cost =  0.001424186 \t검증 세트 정확도: 98.805%\n",
      "Epoch: 0448 cost =  0.000885247 \t검증 세트 정확도: 98.805%\n",
      "Epoch: 0449 cost =  0.001457541 \t검증 세트 정확도: 98.549%\n",
      "Epoch: 0450 cost =  0.001436203 \t검증 세트 정확도: 98.891%\n",
      "Epoch: 0451 cost =  0.001070372 \t검증 세트 정확도: 98.891%\n",
      "Epoch: 0452 cost =  0.001352960 \t검증 세트 정확도: 98.805%\n",
      "Epoch: 0453 cost =  0.001584624 \t검증 세트 정확도: 99.061%\n",
      "Epoch: 0454 cost =  0.000909454 \t검증 세트 정확도: 98.635%\n",
      "Epoch: 0455 cost =  0.001031179 \t검증 세트 정확도: 98.549%\n",
      "Epoch: 0456 cost =  0.001374749 \t검증 세트 정확도: 98.549%\n",
      "Epoch: 0457 cost =  0.001227836 \t검증 세트 정확도: 98.549%\n",
      "Epoch: 0458 cost =  0.001539766 \t검증 세트 정확도: 98.464%\n",
      "Epoch: 0459 cost =  0.001226540 \t검증 세트 정확도: 98.549%\n",
      "Epoch: 0460 cost =  0.001931467 \t검증 세트 정확도: 98.805%\n",
      "Epoch: 0461 cost =  0.001327240 \t검증 세트 정확도: 98.720%\n",
      "Epoch: 0462 cost =  0.001630859 \t검증 세트 정확도: 98.635%\n",
      "Epoch: 0463 cost =  0.001345167 \t검증 세트 정확도: 98.720%\n",
      "Epoch: 0464 cost =  0.001561808 \t검증 세트 정확도: 99.061%\n",
      "Epoch: 0465 cost =  0.001419714 \t검증 세트 정확도: 98.891%\n",
      "Epoch: 0466 cost =  0.001471598 \t검증 세트 정확도: 98.635%\n",
      "Epoch: 0467 cost =  0.001439870 \t검증 세트 정확도: 99.061%\n",
      "Epoch: 0468 cost =  0.001326212 \t검증 세트 정확도: 98.976%\n",
      "Epoch: 0469 cost =  0.001768605 \t검증 세트 정확도: 98.976%\n",
      "Epoch: 0470 cost =  0.001609806 \t검증 세트 정확도: 98.549%\n",
      "Epoch: 0471 cost =  0.001414864 \t검증 세트 정확도: 99.061%\n",
      "Epoch: 0472 cost =  0.001575586 \t검증 세트 정확도: 98.976%\n",
      "Epoch: 0473 cost =  0.001559188 \t검증 세트 정확도: 99.061%\n",
      "Epoch: 0474 cost =  0.001380946 \t검증 세트 정확도: 98.464%\n"
     ]
    },
    {
     "name": "stdout",
     "output_type": "stream",
     "text": [
      "Epoch: 0475 cost =  0.000967715 \t검증 세트 정확도: 98.891%\n",
      "Epoch: 0476 cost =  0.001094228 \t검증 세트 정확도: 98.805%\n",
      "Epoch: 0477 cost =  0.001401269 \t검증 세트 정확도: 98.720%\n",
      "Epoch: 0478 cost =  0.001323891 \t검증 세트 정확도: 98.720%\n",
      "Epoch: 0479 cost =  0.001463720 \t검증 세트 정확도: 98.805%\n",
      "Epoch: 0480 cost =  0.001019005 \t검증 세트 정확도: 98.805%\n",
      "Epoch: 0481 cost =  0.001172360 \t검증 세트 정확도: 98.720%\n",
      "Epoch: 0482 cost =  0.001347905 \t검증 세트 정확도: 98.464%\n",
      "Epoch: 0483 cost =  0.001042513 \t검증 세트 정확도: 98.720%\n",
      "Epoch: 0484 cost =  0.000830194 \t검증 세트 정확도: 98.379%\n",
      "Epoch: 0485 cost =  0.001184577 \t검증 세트 정확도: 98.549%\n",
      "Epoch: 0486 cost =  0.001831395 \t검증 세트 정확도: 98.464%\n",
      "Epoch: 0487 cost =  0.001036150 \t검증 세트 정확도: 98.891%\n",
      "Epoch: 0488 cost =  0.001079720 \t검증 세트 정확도: 98.720%\n",
      "Epoch: 0489 cost =  0.001408100 \t검증 세트 정확도: 98.976%\n",
      "Epoch: 0490 cost =  0.001079698 \t검증 세트 정확도: 98.976%\n",
      "Epoch: 0491 cost =  0.001233052 \t검증 세트 정확도: 98.976%\n",
      "Epoch: 0492 cost =  0.001772966 \t검증 세트 정확도: 98.294%\n",
      "Epoch: 0493 cost =  0.001134242 \t검증 세트 정확도: 99.147%\n",
      "Epoch: 0494 cost =  0.001019657 \t검증 세트 정확도: 98.635%\n",
      "Epoch: 0495 cost =  0.001264801 \t검증 세트 정확도: 98.635%\n",
      "Epoch: 0496 cost =  0.000885819 \t검증 세트 정확도: 98.805%\n",
      "Epoch: 0497 cost =  0.001382312 \t검증 세트 정확도: 98.720%\n",
      "Epoch: 0498 cost =  0.001080846 \t검증 세트 정확도: 97.782%\n",
      "Epoch: 0499 cost =  0.001252964 \t검증 세트 정확도: 98.635%\n"
     ]
    },
    {
     "data": {
      "text/plain": [
       "'../../model/Dense/dense_model_4'"
      ]
     },
     "execution_count": 25,
     "metadata": {},
     "output_type": "execute_result"
    }
   ],
   "source": [
    "#original \n",
    "batch_size = 32\n",
    "cost_history = np.empty(shape=[1], dtype=float)\n",
    "with tf.device(\"/gpu:0\"):\n",
    "    for epoch in range(1,500):\n",
    "        avg_cost = 0    \n",
    "#    total_batch = int(X_train.shape[0] / batch_size)\n",
    "        for i in range( int(math.ceil(len(X_train)/batch_size)) ): # 배치 사이즈로 나눈 나머지 다 돌 수 있게 \n",
    "            x_ = X_train[batch_size * i: batch_size * (i + 1)]\n",
    "            y_ = y_train[batch_size * i: batch_size * (i + 1)]\n",
    "            feed_dict={X:x_, Y:y_, keep_prob:0.6}    \n",
    "            c, _ = sess.run([cost, optimizer], feed_dict=feed_dict)\n",
    "            cost_history = np.append(cost_history,cost)\n",
    "            avg_cost += c\n",
    "            #accuracy_val = sess.run([accuracy], feed_dict={X:X_val, Y:y_val\n",
    "        val_pred = sess.run(tf.argmax(logits,1),feed_dict={X: X_val , keep_prob:1})  \n",
    "        val_true = sess.run(tf.argmax(y_val,1))\n",
    "        accuracy_val = accuracy_score(val_pred, val_true)\n",
    "        print('Epoch:', '%04d' % (epoch), 'cost = ', '{:.9f}'.format(avg_cost / len(X_train)), \"\\t검증 세트 정확도: {:.3f}%\".format(accuracy_val * 100),)\n",
    "saver.save(sess, model_path)"
   ]
  },
  {
   "cell_type": "markdown",
   "metadata": {},
   "source": [
    "## Prediction"
   ]
  },
  {
   "cell_type": "code",
   "execution_count": 26,
   "metadata": {},
   "outputs": [],
   "source": [
    "y_pred = sess.run(tf.argmax(logits,1),feed_dict={X: X_test , keep_prob:1}) \n",
    "y_true = sess.run(tf.argmax(y_test,1))"
   ]
  },
  {
   "cell_type": "code",
   "execution_count": 27,
   "metadata": {},
   "outputs": [
    {
     "name": "stdout",
     "output_type": "stream",
     "text": [
      "F-Score: 0.985\n",
      "Accuracy:  0.9849829351535836\n",
      "              precision    recall  f1-score   support\n",
      "\n",
      "           0       1.00      1.00      1.00      1113\n",
      "           1       0.93      0.93      0.93       121\n",
      "           2       0.89      0.90      0.90       103\n",
      "           3       0.99      1.00      1.00       128\n",
      "\n",
      "   micro avg       0.98      0.98      0.98      1465\n",
      "   macro avg       0.95      0.96      0.96      1465\n",
      "weighted avg       0.99      0.98      0.99      1465\n",
      "\n",
      "[[1109    0    4    0]\n",
      " [   0  113    7    1]\n",
      " [   1    9   93    0]\n",
      " [   0    0    0  128]]\n"
     ]
    }
   ],
   "source": [
    "# Ptint Result\n",
    "\n",
    "from sklearn.metrics import precision_recall_fscore_support\n",
    "p,r,f,s = precision_recall_fscore_support(y_true, y_pred, average='micro')\n",
    "print(\"F-Score:\", round(f,3))\n",
    "from sklearn.metrics import accuracy_score\n",
    "print(\"Accuracy: \", accuracy_score(y_true, y_pred))\n",
    "\n",
    "from sklearn.metrics import classification_report\n",
    "print(classification_report(y_true, y_pred))\n",
    "from sklearn.metrics import confusion_matrix\n",
    "print(confusion_matrix(y_true, y_pred))"
   ]
  }
 ],
 "metadata": {
  "kernelspec": {
   "display_name": "Python 3",
   "language": "python",
   "name": "python3"
  },
  "language_info": {
   "codemirror_mode": {
    "name": "ipython",
    "version": 3
   },
   "file_extension": ".py",
   "mimetype": "text/x-python",
   "name": "python",
   "nbconvert_exporter": "python",
   "pygments_lexer": "ipython3",
   "version": "3.6.7"
  }
 },
 "nbformat": 4,
 "nbformat_minor": 2
}
