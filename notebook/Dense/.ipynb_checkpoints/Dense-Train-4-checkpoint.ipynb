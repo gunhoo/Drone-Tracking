{
 "cells": [
  {
   "cell_type": "code",
   "execution_count": 1,
   "metadata": {},
   "outputs": [],
   "source": [
    "import matplotlib.pyplot as plt\n",
    "%matplotlib inline\n",
    "import IPython.display\n",
    "import librosa.display\n",
    "import numpy as np\n",
    "import librosa\n",
    "import tensorflow as tf\n",
    "import glob"
   ]
  },
  {
   "cell_type": "markdown",
   "metadata": {},
   "source": [
    "### If you have been save the data, you don't have to preprocessing and save the data"
   ]
  },
  {
   "cell_type": "code",
   "execution_count": 2,
   "metadata": {},
   "outputs": [],
   "source": [
    "c_drone_path = '../../../1m/*.wav'\n",
    "cm_drone_path = '../../../10m/*.wav'\n",
    "m_drone_path = '../../../20m/*.wav'\n",
    "f_drone_path = '../../../50m/*.wav'\n",
    "background_path = '../../data/background/*.wav'\n",
    "\n",
    "c_drone_files = glob.glob(c_drone_path)\n",
    "cm_drone_files = glob.glob(cm_drone_path)\n",
    "m_drone_files = glob.glob(m_drone_path)\n",
    "f_drone_files = glob.glob(f_drone_path)\n",
    "background_files = glob.glob(background_path)"
   ]
  },
  {
   "cell_type": "code",
   "execution_count": 3,
   "metadata": {},
   "outputs": [],
   "source": [
    "CHUNK_SIZE = 8192\n",
    "SR = 22050\n",
    "N_MFCC = 16"
   ]
  },
  {
   "cell_type": "code",
   "execution_count": 4,
   "metadata": {},
   "outputs": [],
   "source": [
    "def load(files, sr=22050):\n",
    "    [raw, sr] = librosa.load(files[0], sr=sr)\n",
    "    for f in files[1:]:\n",
    "        [array, sr] = librosa.load(f, sr=sr)\n",
    "        raw = np.hstack((raw, array))\n",
    "    print(raw.shape)\n",
    "    return raw"
   ]
  },
  {
   "cell_type": "code",
   "execution_count": 5,
   "metadata": {},
   "outputs": [
    {
     "name": "stdout",
     "output_type": "stream",
     "text": [
      "(2088960,)\n",
      "(2088960,)\n",
      "(2088960,)\n",
      "(2088960,)\n",
      "(22498437,)\n"
     ]
    }
   ],
   "source": [
    "c_drone_raw = load(c_drone_files)\n",
    "cm_drone_raw = load(cm_drone_files)\n",
    "m_drone_raw = load(m_drone_files)\n",
    "f_drone_raw = load(f_drone_files)\n",
    "background_raw = load(background_files)"
   ]
  },
  {
   "cell_type": "markdown",
   "metadata": {},
   "source": [
    "# Data preprocessing"
   ]
  },
  {
   "cell_type": "markdown",
   "metadata": {},
   "source": [
    "Chose `mfcc4` among functions below:\n",
    "- input size 16x16; `n_mfcc=16`, used first 16 data points from 16x17 mfcc of a chunk with size 8192\n",
    "- chunk siez 8192, overlapped half of it"
   ]
  },
  {
   "cell_type": "code",
   "execution_count": 6,
   "metadata": {},
   "outputs": [],
   "source": [
    "def mfcc4(raw, label, chunk_size=8192, window_size=4096, sr=22050, n_mfcc=16, n_frame=16):\n",
    "    mfcc = np.empty((0, n_mfcc, n_frame))\n",
    "    y = []\n",
    "    print(raw.shape)\n",
    "    for i in range(0, len(raw), chunk_size//2):\n",
    "        mfcc_slice = librosa.feature.mfcc(raw[i:i+chunk_size], sr=sr, n_mfcc=n_mfcc) #n_mfcc,17\n",
    "        if mfcc_slice.shape[1] < 17:\n",
    "            print(\"small end:\", mfcc_slice.shape)\n",
    "            continue\n",
    "        mfcc_slice = mfcc_slice[:,:-1]\n",
    "        mfcc_slice = mfcc_slice.reshape((1, mfcc_slice.shape[0], mfcc_slice.shape[1]))\n",
    "        mfcc = np.vstack((mfcc, mfcc_slice))\n",
    "        y.append(label)\n",
    "    y = np.array(y)\n",
    "    return mfcc, y"
   ]
  },
  {
   "cell_type": "code",
   "execution_count": 7,
   "metadata": {},
   "outputs": [
    {
     "name": "stdout",
     "output_type": "stream",
     "text": [
      "(2088960,)\n",
      "small end: (16, 9)\n",
      "(2088960,)\n",
      "small end: (16, 9)\n",
      "(2088960,)\n",
      "small end: (16, 9)\n",
      "(2088960,)\n",
      "small end: (16, 9)\n",
      "(22498437,)\n",
      "small end: (16, 15)\n",
      "small end: (16, 7)\n",
      "(509, 16, 16) (509,)\n",
      "(509, 16, 16) (509,)\n",
      "(509, 16, 16) (509,)\n",
      "(509, 16, 16) (509,)\n",
      "(5491, 16, 16) (5491,)\n"
     ]
    }
   ],
   "source": [
    "c_mfcc_drone, c_y_drone = mfcc4(c_drone_raw, 4)\n",
    "cm_mfcc_drone, cm_y_drone = mfcc4(cm_drone_raw, 3)\n",
    "m_mfcc_drone, m_y_drone = mfcc4(m_drone_raw, 2)\n",
    "f_mfcc_drone, f_y_drone = mfcc4(f_drone_raw, 1)\n",
    "mfcc_background, y_background = mfcc4(background_raw, 0)\n",
    "\n",
    "print(c_mfcc_drone.shape, c_y_drone.shape)\n",
    "print(cm_mfcc_drone.shape, cm_y_drone.shape)\n",
    "print(m_mfcc_drone.shape, m_y_drone.shape)\n",
    "print(f_mfcc_drone.shape, f_y_drone.shape)\n",
    "print(mfcc_background.shape, y_background.shape)"
   ]
  },
  {
   "cell_type": "code",
   "execution_count": 8,
   "metadata": {},
   "outputs": [
    {
     "name": "stdout",
     "output_type": "stream",
     "text": [
      "(7527, 16, 16) (7527,)\n"
     ]
    }
   ],
   "source": [
    "X = np.concatenate((c_mfcc_drone,cm_mfcc_drone,m_mfcc_drone,f_mfcc_drone, mfcc_background), axis=0)\n",
    "y = np.hstack((c_y_drone, cm_y_drone, m_y_drone, f_y_drone, y_background))\n",
    "print(X.shape, y.shape)"
   ]
  },
  {
   "cell_type": "code",
   "execution_count": 9,
   "metadata": {},
   "outputs": [],
   "source": [
    "X = np.reshape(X,(X.shape[0],-1))"
   ]
  },
  {
   "cell_type": "code",
   "execution_count": 10,
   "metadata": {},
   "outputs": [
    {
     "data": {
      "text/plain": [
       "(7527, 256)"
      ]
     },
     "execution_count": 10,
     "metadata": {},
     "output_type": "execute_result"
    }
   ],
   "source": [
    "X.shape"
   ]
  },
  {
   "cell_type": "code",
   "execution_count": 11,
   "metadata": {},
   "outputs": [
    {
     "name": "stdout",
     "output_type": "stream",
     "text": [
      "(7527, 5)\n"
     ]
    }
   ],
   "source": [
    "n_labels = y.shape[0]\n",
    "n_unique_labels = 5\n",
    "y_encoded = np.zeros((n_labels, n_unique_labels))\n",
    "y_encoded[np.arange(n_labels), y] = 1\n",
    "print(y_encoded.shape)"
   ]
  },
  {
   "cell_type": "code",
   "execution_count": 12,
   "metadata": {},
   "outputs": [],
   "source": [
    "# Split data\n",
    "from sklearn import model_selection\n",
    "X_train, X_test, y_train, y_test = model_selection.train_test_split(X, y_encoded, test_size=0.2, random_state=42)\n",
    "X_train, X_val, y_train, y_val = model_selection.train_test_split(X_train, y_train, test_size=0.2, random_state=42)"
   ]
  },
  {
   "cell_type": "code",
   "execution_count": 13,
   "metadata": {},
   "outputs": [
    {
     "name": "stdout",
     "output_type": "stream",
     "text": [
      "(4816, 256) (4816, 5)\n",
      "(1205, 256) (1205, 5)\n",
      "(1506, 256) (1506, 5)\n"
     ]
    }
   ],
   "source": [
    "print(X_train.shape,y_train.shape)\n",
    "print(X_val.shape, y_val.shape)\n",
    "print(X_test.shape, y_test.shape)"
   ]
  },
  {
   "cell_type": "code",
   "execution_count": 14,
   "metadata": {},
   "outputs": [],
   "source": [
    "# Save Data\n",
    "np.save('../../model/X_train', X_train)\n",
    "np.save('../../model/X_test', X_test)\n",
    "np.save('../../model/X_val', X_val)\n",
    "np.save('../../model/y_val', y_val)\n",
    "np.save('../../model/y_train', y_train)\n",
    "np.save('../../model/y_test', y_test)"
   ]
  },
  {
   "cell_type": "markdown",
   "metadata": {},
   "source": [
    "### Until this part"
   ]
  },
  {
   "cell_type": "code",
   "execution_count": 15,
   "metadata": {},
   "outputs": [],
   "source": [
    "# Load Data\n",
    "X_train = np.load('../../model/X_train.npy')\n",
    "X_test = np.load('../../model/X_test.npy')\n",
    "X_val = np.load('../../model/X_val.npy')\n",
    "y_val = np.load('../../model/y_val.npy')\n",
    "y_train = np.load('../../model/y_train.npy')\n",
    "y_test = np.load('../../model/y_test.npy')"
   ]
  },
  {
   "cell_type": "markdown",
   "metadata": {},
   "source": [
    "# Experiment 3 - One convolutional layer /w no dropout\n"
   ]
  },
  {
   "cell_type": "markdown",
   "metadata": {},
   "source": [
    "##Experiment 3-2\n",
    "- learning rate 0.005\n",
    "- pooling stride 1x1\n",
    "- #filter 1\n",
    "- best result among every other settings\n",
    "- cost kept fluctuated during training. (0.8 -> 1.3) -- why is that?"
   ]
  },
  {
   "cell_type": "code",
   "execution_count": 16,
   "metadata": {},
   "outputs": [],
   "source": [
    "tf.reset_default_graph()"
   ]
  },
  {
   "cell_type": "code",
   "execution_count": 17,
   "metadata": {},
   "outputs": [],
   "source": [
    "n_mfcc = 16\n",
    "n_frame = 16\n",
    "n_classes = 5\n",
    "n_channels = 1\n",
    "\n",
    "kernel_size = 3\n",
    "stride = 1\n",
    "pad = \"SAME\"\n",
    "\n",
    "learning_rate = 0.0002  # 0.005\n",
    "training_epochs = 500 # 수정해야해"
   ]
  },
  {
   "cell_type": "markdown",
   "metadata": {},
   "source": [
    "# Layer"
   ]
  },
  {
   "cell_type": "markdown",
   "metadata": {},
   "source": [
    "## Experiment\n",
    "- learning rate 0.0002\n",
    "- no cnn/ pooling \n",
    "- just dense with dropout "
   ]
  },
  {
   "cell_type": "code",
   "execution_count": 18,
   "metadata": {},
   "outputs": [],
   "source": [
    "X = tf.placeholder(tf.float32, shape=[None,n_mfcc*n_frame*n_channels])\n",
    "Y = tf.placeholder(tf.float32, shape=[None,n_classes])\n",
    "\n",
    "keep_prob = tf.placeholder(tf.float32)\n",
    "\n",
    "dense1 = tf.layers.dense(inputs=X, units=256, activation=tf.nn.relu)\n",
    "dropout1 = tf.nn.dropout(dense1, keep_prob=keep_prob)\n",
    "dense2 = tf.layers.dense(inputs=dropout1, units=256, activation=tf.nn.relu)\n",
    "dropout2 = tf.nn.dropout(dense2, keep_prob=keep_prob)\n",
    "dense3 = tf.layers.dense(inputs=dropout2, units=512, activation=tf.nn.relu)\n",
    "dropout3 = tf.nn.dropout(dense3, keep_prob=keep_prob)\n",
    "dense4 = tf.layers.dense(inputs=dropout3, units=512, activation=tf.nn.relu)\n",
    "dropout4 = tf.nn.dropout(dense4, keep_prob=keep_prob)\n",
    "dense5 = tf.layers.dense(inputs=dropout4, units=256, activation=tf.nn.relu)\n",
    "dropout5 = tf.nn.dropout(dense5, keep_prob=keep_prob)\n",
    "\n",
    "logits= tf.layers.dense(inputs=dropout5, units=5)"
   ]
  },
  {
   "cell_type": "code",
   "execution_count": 19,
   "metadata": {},
   "outputs": [],
   "source": [
    "cost = tf.reduce_mean(tf.nn.softmax_cross_entropy_with_logits_v2(logits=logits, labels=Y))\n",
    "optimizer = tf.train.AdamOptimizer(learning_rate=learning_rate).minimize(cost)"
   ]
  },
  {
   "cell_type": "code",
   "execution_count": 20,
   "metadata": {},
   "outputs": [],
   "source": [
    "sess = tf.Session()\n",
    "sess.run(tf.global_variables_initializer())"
   ]
  },
  {
   "cell_type": "code",
   "execution_count": 21,
   "metadata": {},
   "outputs": [],
   "source": [
    "# model save\n",
    "model_path = '../../model/Dense/4_dense_model'\n",
    "saver = tf.train.Saver()"
   ]
  },
  {
   "cell_type": "markdown",
   "metadata": {},
   "source": [
    "# Trainning"
   ]
  },
  {
   "cell_type": "code",
   "execution_count": 22,
   "metadata": {},
   "outputs": [],
   "source": [
    "import math"
   ]
  },
  {
   "cell_type": "code",
   "execution_count": 23,
   "metadata": {
    "scrolled": false
   },
   "outputs": [],
   "source": [
    "with tf.name_scope(\"eval\"):\n",
    "    correct = tf.nn.in_top_k(logits, y, 1)\n",
    "    accuracy = tf.reduce_mean(tf.cast(correct, tf.float32))\n",
    "#    accuracy_summary = tf.summary.scalar('accuracy', accuracy)"
   ]
  },
  {
   "cell_type": "code",
   "execution_count": 24,
   "metadata": {},
   "outputs": [],
   "source": [
    "from sklearn.metrics import accuracy_score"
   ]
  },
  {
   "cell_type": "code",
   "execution_count": 25,
   "metadata": {
    "scrolled": false
   },
   "outputs": [
    {
     "name": "stdout",
     "output_type": "stream",
     "text": [
      "Epoch: 0001 cost =  0.644987623 \t검증 세트 정확도: 72.282%\n",
      "Epoch: 0002 cost =  0.150615978 \t검증 세트 정확도: 79.668%\n",
      "Epoch: 0003 cost =  0.068368325 \t검증 세트 정확도: 82.905%\n",
      "Epoch: 0004 cost =  0.040811197 \t검증 세트 정확도: 80.249%\n",
      "Epoch: 0005 cost =  0.029971841 \t검증 세트 정확도: 79.668%\n",
      "Epoch: 0006 cost =  0.023049998 \t검증 세트 정확도: 79.253%\n",
      "Epoch: 0007 cost =  0.018850360 \t검증 세트 정확도: 81.494%\n",
      "Epoch: 0008 cost =  0.017188166 \t검증 세트 정확도: 80.498%\n",
      "Epoch: 0009 cost =  0.015150855 \t검증 세트 정확도: 79.917%\n",
      "Epoch: 0010 cost =  0.014125897 \t검증 세트 정확도: 85.228%\n",
      "Epoch: 0011 cost =  0.012902674 \t검증 세트 정확도: 85.726%\n",
      "Epoch: 0012 cost =  0.011994590 \t검증 세트 정확도: 86.307%\n",
      "Epoch: 0013 cost =  0.011822654 \t검증 세트 정확도: 86.390%\n",
      "Epoch: 0014 cost =  0.010757974 \t검증 세트 정확도: 87.220%\n",
      "Epoch: 0015 cost =  0.010410605 \t검증 세트 정확도: 86.805%\n",
      "Epoch: 0016 cost =  0.010045811 \t검증 세트 정확도: 87.386%\n",
      "Epoch: 0017 cost =  0.009475453 \t검증 세트 정확도: 86.971%\n",
      "Epoch: 0018 cost =  0.009112428 \t검증 세트 정확도: 86.722%\n",
      "Epoch: 0019 cost =  0.008760764 \t검증 세트 정확도: 87.054%\n",
      "Epoch: 0020 cost =  0.008415847 \t검증 세트 정확도: 87.303%\n",
      "Epoch: 0021 cost =  0.008079060 \t검증 세트 정확도: 91.037%\n",
      "Epoch: 0022 cost =  0.007681175 \t검증 세트 정확도: 91.452%\n",
      "Epoch: 0023 cost =  0.007366717 \t검증 세트 정확도: 91.452%\n",
      "Epoch: 0024 cost =  0.007050253 \t검증 세트 정확도: 91.535%\n",
      "Epoch: 0025 cost =  0.006902409 \t검증 세트 정확도: 91.452%\n",
      "Epoch: 0026 cost =  0.006321168 \t검증 세트 정확도: 92.614%\n",
      "Epoch: 0027 cost =  0.006245347 \t검증 세트 정확도: 92.863%\n",
      "Epoch: 0028 cost =  0.006048152 \t검증 세트 정확도: 92.946%\n",
      "Epoch: 0029 cost =  0.005750168 \t검증 세트 정확도: 93.278%\n",
      "Epoch: 0030 cost =  0.005875441 \t검증 세트 정확도: 93.278%\n",
      "Epoch: 0031 cost =  0.005252294 \t검증 세트 정확도: 94.357%\n",
      "Epoch: 0032 cost =  0.005152838 \t검증 세트 정확도: 93.527%\n",
      "Epoch: 0033 cost =  0.005319978 \t검증 세트 정확도: 93.610%\n",
      "Epoch: 0034 cost =  0.004903967 \t검증 세트 정확도: 94.689%\n",
      "Epoch: 0035 cost =  0.004763500 \t검증 세트 정확도: 94.606%\n",
      "Epoch: 0036 cost =  0.004940769 \t검증 세트 정확도: 95.187%\n",
      "Epoch: 0037 cost =  0.004691100 \t검증 세트 정확도: 95.602%\n",
      "Epoch: 0038 cost =  0.004909464 \t검증 세트 정확도: 93.942%\n",
      "Epoch: 0039 cost =  0.005007668 \t검증 세트 정확도: 96.100%\n",
      "Epoch: 0040 cost =  0.004883318 \t검증 세트 정확도: 95.270%\n",
      "Epoch: 0041 cost =  0.004560318 \t검증 세트 정확도: 95.270%\n",
      "Epoch: 0042 cost =  0.004706128 \t검증 세트 정확도: 96.183%\n",
      "Epoch: 0043 cost =  0.004911459 \t검증 세트 정확도: 96.515%\n",
      "Epoch: 0044 cost =  0.004374870 \t검증 세트 정확도: 94.938%\n",
      "Epoch: 0045 cost =  0.004635195 \t검증 세트 정확도: 93.610%\n",
      "Epoch: 0046 cost =  0.004300167 \t검증 세트 정확도: 95.934%\n",
      "Epoch: 0047 cost =  0.004396415 \t검증 세트 정확도: 96.598%\n",
      "Epoch: 0048 cost =  0.004268092 \t검증 세트 정확도: 96.100%\n",
      "Epoch: 0049 cost =  0.004334621 \t검증 세트 정확도: 95.685%\n",
      "Epoch: 0050 cost =  0.004013908 \t검증 세트 정확도: 95.021%\n",
      "Epoch: 0051 cost =  0.004293627 \t검증 세트 정확도: 96.266%\n",
      "Epoch: 0052 cost =  0.004186941 \t검증 세트 정확도: 96.598%\n",
      "Epoch: 0053 cost =  0.004023059 \t검증 세트 정확도: 97.344%\n",
      "Epoch: 0054 cost =  0.003909911 \t검증 세트 정확도: 96.183%\n",
      "Epoch: 0055 cost =  0.004116507 \t검증 세트 정확도: 95.768%\n",
      "Epoch: 0056 cost =  0.004139084 \t검증 세트 정확도: 96.349%\n",
      "Epoch: 0057 cost =  0.004470108 \t검증 세트 정확도: 95.768%\n",
      "Epoch: 0058 cost =  0.003652917 \t검증 세트 정확도: 96.680%\n",
      "Epoch: 0059 cost =  0.004034934 \t검증 세트 정확도: 96.100%\n",
      "Epoch: 0060 cost =  0.003778529 \t검증 세트 정확도: 97.427%\n",
      "Epoch: 0061 cost =  0.004044957 \t검증 세트 정확도: 97.178%\n",
      "Epoch: 0062 cost =  0.004000543 \t검증 세트 정확도: 96.846%\n",
      "Epoch: 0063 cost =  0.003743443 \t검증 세트 정확도: 97.261%\n",
      "Epoch: 0064 cost =  0.003995921 \t검증 세트 정확도: 94.855%\n",
      "Epoch: 0065 cost =  0.004269622 \t검증 세트 정확도: 95.436%\n",
      "Epoch: 0066 cost =  0.003639277 \t검증 세트 정확도: 95.851%\n",
      "Epoch: 0067 cost =  0.003591090 \t검증 세트 정확도: 97.344%\n",
      "Epoch: 0068 cost =  0.003660024 \t검증 세트 정확도: 95.436%\n",
      "Epoch: 0069 cost =  0.003669826 \t검증 세트 정확도: 97.012%\n",
      "Epoch: 0070 cost =  0.003977737 \t검증 세트 정확도: 96.349%\n",
      "Epoch: 0071 cost =  0.003293356 \t검증 세트 정확도: 96.680%\n",
      "Epoch: 0072 cost =  0.003621844 \t검증 세트 정확도: 95.602%\n",
      "Epoch: 0073 cost =  0.003668412 \t검증 세트 정확도: 94.357%\n",
      "Epoch: 0074 cost =  0.003659858 \t검증 세트 정확도: 96.017%\n",
      "Epoch: 0075 cost =  0.003454984 \t검증 세트 정확도: 97.510%\n",
      "Epoch: 0076 cost =  0.003583979 \t검증 세트 정확도: 96.349%\n",
      "Epoch: 0077 cost =  0.003381328 \t검증 세트 정확도: 95.685%\n",
      "Epoch: 0078 cost =  0.003962564 \t검증 세트 정확도: 97.427%\n",
      "Epoch: 0079 cost =  0.003798920 \t검증 세트 정확도: 97.593%\n",
      "Epoch: 0080 cost =  0.003333288 \t검증 세트 정확도: 96.763%\n",
      "Epoch: 0081 cost =  0.003154858 \t검증 세트 정확도: 96.100%\n",
      "Epoch: 0082 cost =  0.003560243 \t검증 세트 정확도: 95.685%\n",
      "Epoch: 0083 cost =  0.003442919 \t검증 세트 정확도: 96.349%\n",
      "Epoch: 0084 cost =  0.002999975 \t검증 세트 정확도: 96.598%\n",
      "Epoch: 0085 cost =  0.003053751 \t검증 세트 정확도: 97.427%\n",
      "Epoch: 0086 cost =  0.003015811 \t검증 세트 정확도: 96.349%\n",
      "Epoch: 0087 cost =  0.003463295 \t검증 세트 정확도: 97.095%\n",
      "Epoch: 0088 cost =  0.003489028 \t검증 세트 정확도: 95.104%\n",
      "Epoch: 0089 cost =  0.003268833 \t검증 세트 정확도: 95.187%\n",
      "Epoch: 0090 cost =  0.002934119 \t검증 세트 정확도: 97.095%\n",
      "Epoch: 0091 cost =  0.003303758 \t검증 세트 정확도: 95.934%\n",
      "Epoch: 0092 cost =  0.003112278 \t검증 세트 정확도: 97.510%\n",
      "Epoch: 0093 cost =  0.003315382 \t검증 세트 정확도: 95.602%\n",
      "Epoch: 0094 cost =  0.003298190 \t검증 세트 정확도: 96.515%\n",
      "Epoch: 0095 cost =  0.003198353 \t검증 세트 정확도: 97.178%\n",
      "Epoch: 0096 cost =  0.003238121 \t검증 세트 정확도: 97.261%\n",
      "Epoch: 0097 cost =  0.003015086 \t검증 세트 정확도: 96.763%\n",
      "Epoch: 0098 cost =  0.003093404 \t검증 세트 정확도: 96.598%\n",
      "Epoch: 0099 cost =  0.003469500 \t검증 세트 정확도: 97.095%\n",
      "Epoch: 0100 cost =  0.003062105 \t검증 세트 정확도: 97.593%\n",
      "Epoch: 0101 cost =  0.003493923 \t검증 세트 정확도: 96.763%\n",
      "Epoch: 0102 cost =  0.003877601 \t검증 세트 정확도: 97.261%\n",
      "Epoch: 0103 cost =  0.003541747 \t검증 세트 정확도: 97.344%\n",
      "Epoch: 0104 cost =  0.003423651 \t검증 세트 정확도: 97.178%\n",
      "Epoch: 0105 cost =  0.003403867 \t검증 세트 정확도: 97.012%\n",
      "Epoch: 0106 cost =  0.003331135 \t검증 세트 정확도: 97.012%\n",
      "Epoch: 0107 cost =  0.002892572 \t검증 세트 정확도: 96.100%\n",
      "Epoch: 0108 cost =  0.003194530 \t검증 세트 정확도: 96.929%\n",
      "Epoch: 0109 cost =  0.003178880 \t검증 세트 정확도: 97.261%\n",
      "Epoch: 0110 cost =  0.002668959 \t검증 세트 정확도: 96.846%\n",
      "Epoch: 0111 cost =  0.002838739 \t검증 세트 정확도: 97.593%\n",
      "Epoch: 0112 cost =  0.002628813 \t검증 세트 정확도: 96.846%\n",
      "Epoch: 0113 cost =  0.003087071 \t검증 세트 정확도: 97.427%\n",
      "Epoch: 0114 cost =  0.002906993 \t검증 세트 정확도: 96.598%\n",
      "Epoch: 0115 cost =  0.003381694 \t검증 세트 정확도: 97.261%\n",
      "Epoch: 0116 cost =  0.003126274 \t검증 세트 정확도: 97.676%\n",
      "Epoch: 0117 cost =  0.002897769 \t검증 세트 정확도: 97.593%\n",
      "Epoch: 0118 cost =  0.003288604 \t검증 세트 정확도: 96.515%\n",
      "Epoch: 0119 cost =  0.002972728 \t검증 세트 정확도: 97.178%\n",
      "Epoch: 0120 cost =  0.002640144 \t검증 세트 정확도: 97.510%\n",
      "Epoch: 0121 cost =  0.002659598 \t검증 세트 정확도: 97.676%\n",
      "Epoch: 0122 cost =  0.002943811 \t검증 세트 정확도: 97.842%\n",
      "Epoch: 0123 cost =  0.002646713 \t검증 세트 정확도: 97.095%\n",
      "Epoch: 0124 cost =  0.002674495 \t검증 세트 정확도: 97.593%\n",
      "Epoch: 0125 cost =  0.002898492 \t검증 세트 정확도: 97.178%\n",
      "Epoch: 0126 cost =  0.002626033 \t검증 세트 정확도: 96.680%\n",
      "Epoch: 0127 cost =  0.002944263 \t검증 세트 정확도: 97.676%\n",
      "Epoch: 0128 cost =  0.002777827 \t검증 세트 정확도: 97.095%\n",
      "Epoch: 0129 cost =  0.002849864 \t검증 세트 정확도: 95.353%\n",
      "Epoch: 0130 cost =  0.003007891 \t검증 세트 정확도: 97.427%\n",
      "Epoch: 0131 cost =  0.003064832 \t검증 세트 정확도: 96.763%\n",
      "Epoch: 0132 cost =  0.002987772 \t검증 세트 정확도: 97.676%\n",
      "Epoch: 0133 cost =  0.002745188 \t검증 세트 정확도: 97.095%\n",
      "Epoch: 0134 cost =  0.002576250 \t검증 세트 정확도: 97.261%\n",
      "Epoch: 0135 cost =  0.002710562 \t검증 세트 정확도: 97.095%\n",
      "Epoch: 0136 cost =  0.002637831 \t검증 세트 정확도: 97.178%\n",
      "Epoch: 0137 cost =  0.002635912 \t검증 세트 정확도: 97.178%\n",
      "Epoch: 0138 cost =  0.002797049 \t검증 세트 정확도: 96.763%\n",
      "Epoch: 0139 cost =  0.003097056 \t검증 세트 정확도: 97.759%\n",
      "Epoch: 0140 cost =  0.002694754 \t검증 세트 정확도: 97.593%\n",
      "Epoch: 0141 cost =  0.002429890 \t검증 세트 정확도: 97.759%\n",
      "Epoch: 0142 cost =  0.002759175 \t검증 세트 정확도: 97.593%\n",
      "Epoch: 0143 cost =  0.002753765 \t검증 세트 정확도: 96.266%\n",
      "Epoch: 0144 cost =  0.003115179 \t검증 세트 정확도: 97.095%\n",
      "Epoch: 0145 cost =  0.002513084 \t검증 세트 정확도: 97.593%\n",
      "Epoch: 0146 cost =  0.002658741 \t검증 세트 정확도: 97.510%\n",
      "Epoch: 0147 cost =  0.002622978 \t검증 세트 정확도: 97.593%\n",
      "Epoch: 0148 cost =  0.002873043 \t검증 세트 정확도: 97.012%\n",
      "Epoch: 0149 cost =  0.002372501 \t검증 세트 정확도: 97.676%\n",
      "Epoch: 0150 cost =  0.002461795 \t검증 세트 정확도: 96.846%\n",
      "Epoch: 0151 cost =  0.002545678 \t검증 세트 정확도: 97.095%\n",
      "Epoch: 0152 cost =  0.002453280 \t검증 세트 정확도: 97.261%\n",
      "Epoch: 0153 cost =  0.002704822 \t검증 세트 정확도: 97.261%\n",
      "Epoch: 0154 cost =  0.002735152 \t검증 세트 정확도: 96.432%\n",
      "Epoch: 0155 cost =  0.002657719 \t검증 세트 정확도: 96.266%\n",
      "Epoch: 0156 cost =  0.002802596 \t검증 세트 정확도: 96.929%\n",
      "Epoch: 0157 cost =  0.002877227 \t검증 세트 정확도: 96.680%\n",
      "Epoch: 0158 cost =  0.002686674 \t검증 세트 정확도: 97.427%\n"
     ]
    },
    {
     "name": "stdout",
     "output_type": "stream",
     "text": [
      "Epoch: 0159 cost =  0.002563027 \t검증 세트 정확도: 97.344%\n",
      "Epoch: 0160 cost =  0.002867799 \t검증 세트 정확도: 97.842%\n",
      "Epoch: 0161 cost =  0.002589032 \t검증 세트 정확도: 96.929%\n",
      "Epoch: 0162 cost =  0.002832942 \t검증 세트 정확도: 97.261%\n",
      "Epoch: 0163 cost =  0.002704587 \t검증 세트 정확도: 97.759%\n",
      "Epoch: 0164 cost =  0.002515618 \t검증 세트 정확도: 98.008%\n",
      "Epoch: 0165 cost =  0.002393987 \t검증 세트 정확도: 97.344%\n",
      "Epoch: 0166 cost =  0.002703980 \t검증 세트 정확도: 97.427%\n",
      "Epoch: 0167 cost =  0.002526686 \t검증 세트 정확도: 96.598%\n",
      "Epoch: 0168 cost =  0.002375649 \t검증 세트 정확도: 96.929%\n",
      "Epoch: 0169 cost =  0.002985683 \t검증 세트 정확도: 97.261%\n",
      "Epoch: 0170 cost =  0.002912338 \t검증 세트 정확도: 96.929%\n",
      "Epoch: 0171 cost =  0.002832045 \t검증 세트 정확도: 97.925%\n",
      "Epoch: 0172 cost =  0.003144613 \t검증 세트 정확도: 97.427%\n",
      "Epoch: 0173 cost =  0.003118850 \t검증 세트 정확도: 97.344%\n",
      "Epoch: 0174 cost =  0.002865642 \t검증 세트 정확도: 96.763%\n",
      "Epoch: 0175 cost =  0.002463380 \t검증 세트 정확도: 97.676%\n",
      "Epoch: 0176 cost =  0.002366556 \t검증 세트 정확도: 97.676%\n",
      "Epoch: 0177 cost =  0.002337690 \t검증 세트 정확도: 96.432%\n",
      "Epoch: 0178 cost =  0.002679542 \t검증 세트 정확도: 97.178%\n",
      "Epoch: 0179 cost =  0.002541553 \t검증 세트 정확도: 97.012%\n",
      "Epoch: 0180 cost =  0.002527987 \t검증 세트 정확도: 97.344%\n",
      "Epoch: 0181 cost =  0.002568527 \t검증 세트 정확도: 97.427%\n",
      "Epoch: 0182 cost =  0.002384498 \t검증 세트 정확도: 97.510%\n",
      "Epoch: 0183 cost =  0.002783912 \t검증 세트 정확도: 96.929%\n",
      "Epoch: 0184 cost =  0.002410361 \t검증 세트 정확도: 97.593%\n",
      "Epoch: 0185 cost =  0.002374624 \t검증 세트 정확도: 97.095%\n",
      "Epoch: 0186 cost =  0.002794443 \t검증 세트 정확도: 97.012%\n",
      "Epoch: 0187 cost =  0.002159442 \t검증 세트 정확도: 97.759%\n",
      "Epoch: 0188 cost =  0.002415792 \t검증 세트 정확도: 97.344%\n",
      "Epoch: 0189 cost =  0.002413828 \t검증 세트 정확도: 96.846%\n",
      "Epoch: 0190 cost =  0.003005234 \t검증 세트 정확도: 96.680%\n",
      "Epoch: 0191 cost =  0.002605551 \t검증 세트 정확도: 97.510%\n",
      "Epoch: 0192 cost =  0.002307537 \t검증 세트 정확도: 97.676%\n",
      "Epoch: 0193 cost =  0.002308483 \t검증 세트 정확도: 97.427%\n",
      "Epoch: 0194 cost =  0.002310840 \t검증 세트 정확도: 97.427%\n",
      "Epoch: 0195 cost =  0.002691893 \t검증 세트 정확도: 97.593%\n",
      "Epoch: 0196 cost =  0.002971422 \t검증 세트 정확도: 97.012%\n",
      "Epoch: 0197 cost =  0.002175500 \t검증 세트 정확도: 97.178%\n",
      "Epoch: 0198 cost =  0.002122088 \t검증 세트 정확도: 97.676%\n",
      "Epoch: 0199 cost =  0.002668363 \t검증 세트 정확도: 97.344%\n",
      "Epoch: 0200 cost =  0.002430435 \t검증 세트 정확도: 97.510%\n",
      "Epoch: 0201 cost =  0.002171891 \t검증 세트 정확도: 97.759%\n",
      "Epoch: 0202 cost =  0.002416572 \t검증 세트 정확도: 96.929%\n",
      "Epoch: 0203 cost =  0.002208207 \t검증 세트 정확도: 97.427%\n",
      "Epoch: 0204 cost =  0.002154524 \t검증 세트 정확도: 96.846%\n",
      "Epoch: 0205 cost =  0.002363381 \t검증 세트 정확도: 97.676%\n",
      "Epoch: 0206 cost =  0.002061585 \t검증 세트 정확도: 96.929%\n",
      "Epoch: 0207 cost =  0.002678455 \t검증 세트 정확도: 96.680%\n",
      "Epoch: 0208 cost =  0.002102347 \t검증 세트 정확도: 97.344%\n",
      "Epoch: 0209 cost =  0.002536217 \t검증 세트 정확도: 97.842%\n",
      "Epoch: 0210 cost =  0.002121140 \t검증 세트 정확도: 96.432%\n",
      "Epoch: 0211 cost =  0.002422843 \t검증 세트 정확도: 97.759%\n",
      "Epoch: 0212 cost =  0.002218233 \t검증 세트 정확도: 97.427%\n",
      "Epoch: 0213 cost =  0.002493793 \t검증 세트 정확도: 96.846%\n",
      "Epoch: 0214 cost =  0.002417581 \t검증 세트 정확도: 97.012%\n",
      "Epoch: 0215 cost =  0.002567959 \t검증 세트 정확도: 97.012%\n",
      "Epoch: 0216 cost =  0.002524889 \t검증 세트 정확도: 97.759%\n",
      "Epoch: 0217 cost =  0.002881976 \t검증 세트 정확도: 97.842%\n",
      "Epoch: 0218 cost =  0.002157810 \t검증 세트 정확도: 96.929%\n",
      "Epoch: 0219 cost =  0.001990778 \t검증 세트 정확도: 97.759%\n",
      "Epoch: 0220 cost =  0.002261729 \t검증 세트 정확도: 98.091%\n",
      "Epoch: 0221 cost =  0.002219526 \t검증 세트 정확도: 97.012%\n",
      "Epoch: 0222 cost =  0.001986764 \t검증 세트 정확도: 97.012%\n",
      "Epoch: 0223 cost =  0.002173390 \t검증 세트 정확도: 97.759%\n",
      "Epoch: 0224 cost =  0.002183115 \t검증 세트 정확도: 96.929%\n",
      "Epoch: 0225 cost =  0.002397450 \t검증 세트 정확도: 97.344%\n",
      "Epoch: 0226 cost =  0.002032399 \t검증 세트 정확도: 97.593%\n",
      "Epoch: 0227 cost =  0.001982114 \t검증 세트 정확도: 97.759%\n",
      "Epoch: 0228 cost =  0.002138822 \t검증 세트 정확도: 96.846%\n",
      "Epoch: 0229 cost =  0.002277288 \t검증 세트 정확도: 97.012%\n",
      "Epoch: 0230 cost =  0.002319884 \t검증 세트 정확도: 96.349%\n",
      "Epoch: 0231 cost =  0.001882106 \t검증 세트 정확도: 97.759%\n",
      "Epoch: 0232 cost =  0.002032805 \t검증 세트 정확도: 97.593%\n",
      "Epoch: 0233 cost =  0.002130526 \t검증 세트 정확도: 97.012%\n",
      "Epoch: 0234 cost =  0.001951178 \t검증 세트 정확도: 97.842%\n",
      "Epoch: 0235 cost =  0.002202042 \t검증 세트 정확도: 97.510%\n",
      "Epoch: 0236 cost =  0.002312725 \t검증 세트 정확도: 97.510%\n",
      "Epoch: 0237 cost =  0.002256370 \t검증 세트 정확도: 97.593%\n",
      "Epoch: 0238 cost =  0.001912985 \t검증 세트 정확도: 97.593%\n",
      "Epoch: 0239 cost =  0.002262333 \t검증 세트 정확도: 97.178%\n",
      "Epoch: 0240 cost =  0.001989628 \t검증 세트 정확도: 97.261%\n",
      "Epoch: 0241 cost =  0.002234343 \t검증 세트 정확도: 97.261%\n",
      "Epoch: 0242 cost =  0.002181330 \t검증 세트 정확도: 97.095%\n",
      "Epoch: 0243 cost =  0.002060243 \t검증 세트 정확도: 96.598%\n",
      "Epoch: 0244 cost =  0.002169106 \t검증 세트 정확도: 97.261%\n",
      "Epoch: 0245 cost =  0.001831530 \t검증 세트 정확도: 97.510%\n",
      "Epoch: 0246 cost =  0.002161436 \t검증 세트 정확도: 97.593%\n",
      "Epoch: 0247 cost =  0.001933312 \t검증 세트 정확도: 97.759%\n",
      "Epoch: 0248 cost =  0.002162229 \t검증 세트 정확도: 97.842%\n",
      "Epoch: 0249 cost =  0.002046214 \t검증 세트 정확도: 97.759%\n",
      "Epoch: 0250 cost =  0.001960527 \t검증 세트 정확도: 97.095%\n",
      "Epoch: 0251 cost =  0.002028766 \t검증 세트 정확도: 97.842%\n",
      "Epoch: 0252 cost =  0.001826017 \t검증 세트 정확도: 97.759%\n",
      "Epoch: 0253 cost =  0.001702672 \t검증 세트 정확도: 97.593%\n",
      "Epoch: 0254 cost =  0.002386985 \t검증 세트 정확도: 97.676%\n",
      "Epoch: 0255 cost =  0.002227283 \t검증 세트 정확도: 96.763%\n",
      "Epoch: 0256 cost =  0.001966569 \t검증 세트 정확도: 97.427%\n",
      "Epoch: 0257 cost =  0.002249981 \t검증 세트 정확도: 97.593%\n",
      "Epoch: 0258 cost =  0.002044236 \t검증 세트 정확도: 97.593%\n",
      "Epoch: 0259 cost =  0.002019007 \t검증 세트 정확도: 97.012%\n",
      "Epoch: 0260 cost =  0.002392721 \t검증 세트 정확도: 97.510%\n",
      "Epoch: 0261 cost =  0.001943636 \t검증 세트 정확도: 97.261%\n",
      "Epoch: 0262 cost =  0.002168243 \t검증 세트 정확도: 97.593%\n",
      "Epoch: 0263 cost =  0.002506176 \t검증 세트 정확도: 97.593%\n",
      "Epoch: 0264 cost =  0.002079313 \t검증 세트 정확도: 97.593%\n",
      "Epoch: 0265 cost =  0.002164765 \t검증 세트 정확도: 97.510%\n",
      "Epoch: 0266 cost =  0.001899240 \t검증 세트 정확도: 97.012%\n",
      "Epoch: 0267 cost =  0.002435537 \t검증 세트 정확도: 97.759%\n",
      "Epoch: 0268 cost =  0.001764955 \t검증 세트 정확도: 97.842%\n",
      "Epoch: 0269 cost =  0.002083638 \t검증 세트 정확도: 97.178%\n",
      "Epoch: 0270 cost =  0.002374247 \t검증 세트 정확도: 97.510%\n",
      "Epoch: 0271 cost =  0.002579993 \t검증 세트 정확도: 97.427%\n",
      "Epoch: 0272 cost =  0.001770879 \t검증 세트 정확도: 97.759%\n",
      "Epoch: 0273 cost =  0.002162726 \t검증 세트 정확도: 97.759%\n",
      "Epoch: 0274 cost =  0.002082938 \t검증 세트 정확도: 97.178%\n",
      "Epoch: 0275 cost =  0.002124405 \t검증 세트 정확도: 97.012%\n",
      "Epoch: 0276 cost =  0.001997283 \t검증 세트 정확도: 96.598%\n",
      "Epoch: 0277 cost =  0.001940087 \t검증 세트 정확도: 97.510%\n",
      "Epoch: 0278 cost =  0.002281329 \t검증 세트 정확도: 97.261%\n",
      "Epoch: 0279 cost =  0.001986449 \t검증 세트 정확도: 98.008%\n",
      "Epoch: 0280 cost =  0.001940158 \t검증 세트 정확도: 97.593%\n",
      "Epoch: 0281 cost =  0.001816329 \t검증 세트 정확도: 97.925%\n",
      "Epoch: 0282 cost =  0.001943767 \t검증 세트 정확도: 97.344%\n",
      "Epoch: 0283 cost =  0.001871877 \t검증 세트 정확도: 97.759%\n",
      "Epoch: 0284 cost =  0.002416611 \t검증 세트 정확도: 97.842%\n",
      "Epoch: 0285 cost =  0.002322399 \t검증 세트 정확도: 97.759%\n",
      "Epoch: 0286 cost =  0.002207556 \t검증 세트 정확도: 97.593%\n",
      "Epoch: 0287 cost =  0.002216414 \t검증 세트 정확도: 97.012%\n",
      "Epoch: 0288 cost =  0.002425426 \t검증 세트 정확도: 97.095%\n",
      "Epoch: 0289 cost =  0.002231152 \t검증 세트 정확도: 98.008%\n",
      "Epoch: 0290 cost =  0.002285667 \t검증 세트 정확도: 96.515%\n",
      "Epoch: 0291 cost =  0.002035777 \t검증 세트 정확도: 97.178%\n",
      "Epoch: 0292 cost =  0.001960950 \t검증 세트 정확도: 97.095%\n",
      "Epoch: 0293 cost =  0.001821767 \t검증 세트 정확도: 96.763%\n",
      "Epoch: 0294 cost =  0.001987545 \t검증 세트 정확도: 98.008%\n",
      "Epoch: 0295 cost =  0.001911793 \t검증 세트 정확도: 97.593%\n",
      "Epoch: 0296 cost =  0.002594340 \t검증 세트 정확도: 98.091%\n",
      "Epoch: 0297 cost =  0.001719845 \t검증 세트 정확도: 97.344%\n",
      "Epoch: 0298 cost =  0.001760488 \t검증 세트 정확도: 97.095%\n",
      "Epoch: 0299 cost =  0.002047996 \t검증 세트 정확도: 97.427%\n"
     ]
    },
    {
     "data": {
      "text/plain": [
       "'../../model/Dense/4_dense_model'"
      ]
     },
     "execution_count": 25,
     "metadata": {},
     "output_type": "execute_result"
    }
   ],
   "source": [
    "#original \n",
    "batch_size = 32\n",
    "cost_history = np.empty(shape=[1], dtype=float)\n",
    "with tf.device(\"/gpu:0\"):\n",
    "    for epoch in range(1,300):\n",
    "        avg_cost = 0    \n",
    "#    total_batch = int(X_train.shape[0] / batch_size)\n",
    "        for i in range( int(math.ceil(len(X_train)/batch_size)) ): # 배치 사이즈로 나눈 나머지 다 돌 수 있게 \n",
    "            x_ = X_train[batch_size * i: batch_size * (i + 1)]\n",
    "            y_ = y_train[batch_size * i: batch_size * (i + 1)]\n",
    "            feed_dict={X:x_, Y:y_, keep_prob:0.6}    \n",
    "            c, _ = sess.run([cost, optimizer], feed_dict=feed_dict)\n",
    "            cost_history = np.append(cost_history,cost)\n",
    "            avg_cost += c\n",
    "            #accuracy_val = sess.run([accuracy], feed_dict={X:X_val, Y:y_val\n",
    "        val_pred = sess.run(tf.argmax(logits,1),feed_dict={X: X_val , keep_prob:1})  \n",
    "        val_true = sess.run(tf.argmax(y_val,1))\n",
    "        accuracy_val = accuracy_score(val_pred, val_true)\n",
    "        print('Epoch:', '%04d' % (epoch), 'cost = ', '{:.9f}'.format(avg_cost / len(X_train)), \"\\t검증 세트 정확도: {:.3f}%\".format(accuracy_val * 100),)\n",
    "saver.save(sess, model_path)"
   ]
  },
  {
   "cell_type": "markdown",
   "metadata": {},
   "source": [
    "## Prediction"
   ]
  },
  {
   "cell_type": "code",
   "execution_count": 26,
   "metadata": {},
   "outputs": [],
   "source": [
    "y_pred = sess.run(tf.argmax(logits,1),feed_dict={X: X_test , keep_prob:1}) \n",
    "y_true = sess.run(tf.argmax(y_test,1))"
   ]
  },
  {
   "cell_type": "code",
   "execution_count": 27,
   "metadata": {},
   "outputs": [
    {
     "name": "stdout",
     "output_type": "stream",
     "text": [
      "F-Score: 0.971\n",
      "Accuracy:  0.9707835325365206\n",
      "              precision    recall  f1-score   support\n",
      "\n",
      "           0       1.00      1.00      1.00      1071\n",
      "           1       0.84      0.96      0.90       113\n",
      "           2       0.82      0.85      0.83       114\n",
      "           3       1.00      0.79      0.88        90\n",
      "           4       0.99      0.99      0.99       118\n",
      "\n",
      "   micro avg       0.97      0.97      0.97      1506\n",
      "   macro avg       0.93      0.92      0.92      1506\n",
      "weighted avg       0.97      0.97      0.97      1506\n",
      "\n",
      "[[1069    0    2    0    0]\n",
      " [   0  108    5    0    0]\n",
      " [   0   17   97    0    0]\n",
      " [   0    3   15   71    1]\n",
      " [   1    0    0    0  117]]\n"
     ]
    }
   ],
   "source": [
    "# Ptint Result\n",
    "\n",
    "from sklearn.metrics import precision_recall_fscore_support\n",
    "p,r,f,s = precision_recall_fscore_support(y_true, y_pred, average='micro')\n",
    "print(\"F-Score:\", round(f,3))\n",
    "from sklearn.metrics import accuracy_score\n",
    "print(\"Accuracy: \", accuracy_score(y_true, y_pred))\n",
    "\n",
    "from sklearn.metrics import classification_report\n",
    "print(classification_report(y_true, y_pred))\n",
    "from sklearn.metrics import confusion_matrix\n",
    "print(confusion_matrix(y_true, y_pred))"
   ]
  }
 ],
 "metadata": {
  "kernelspec": {
   "display_name": "Python 3",
   "language": "python",
   "name": "python3"
  },
  "language_info": {
   "codemirror_mode": {
    "name": "ipython",
    "version": 3
   },
   "file_extension": ".py",
   "mimetype": "text/x-python",
   "name": "python",
   "nbconvert_exporter": "python",
   "pygments_lexer": "ipython3",
   "version": "3.6.7"
  }
 },
 "nbformat": 4,
 "nbformat_minor": 2
}
