{
 "cells": [
  {
   "cell_type": "code",
   "execution_count": 1,
   "metadata": {},
   "outputs": [],
   "source": [
    "import matplotlib.pyplot as plt\n",
    "%matplotlib inline\n",
    "import IPython.display\n",
    "import librosa.display\n",
    "import numpy as np\n",
    "import librosa\n",
    "import tensorflow as tf\n",
    "import glob"
   ]
  },
  {
   "cell_type": "markdown",
   "metadata": {},
   "source": [
    "### If you have been save the data, you don't have to preprocessing and save the data"
   ]
  },
  {
   "cell_type": "code",
   "execution_count": 2,
   "metadata": {},
   "outputs": [],
   "source": [
    "drone_path = '../../data/inner10m/*.wav'\n",
    "background_path = '../../data/background/*.wav'\n",
    "\n",
    "drone_files = glob.glob(drone_path)\n",
    "background_files = glob.glob(background_path)"
   ]
  },
  {
   "cell_type": "code",
   "execution_count": 3,
   "metadata": {},
   "outputs": [],
   "source": [
    "CHUNK_SIZE = 8192\n",
    "SR = 22050\n",
    "N_MFCC = 16"
   ]
  },
  {
   "cell_type": "code",
   "execution_count": 4,
   "metadata": {},
   "outputs": [],
   "source": [
    "def load(files, sr=22050):\n",
    "    [raw, sr] = librosa.load(files[0], sr=sr)\n",
    "    for f in files[1:]:\n",
    "        [array, sr] = librosa.load(f, sr=sr)\n",
    "        raw = np.hstack((raw, array))\n",
    "    print(raw.shape)\n",
    "    return raw"
   ]
  },
  {
   "cell_type": "code",
   "execution_count": 5,
   "metadata": {},
   "outputs": [
    {
     "name": "stdout",
     "output_type": "stream",
     "text": [
      "(4464640,)\n",
      "(6032517,)\n"
     ]
    }
   ],
   "source": [
    "drone_raw = load(drone_files)\n",
    "background_raw = load(background_files)"
   ]
  },
  {
   "cell_type": "markdown",
   "metadata": {},
   "source": [
    "# Data preprocessing"
   ]
  },
  {
   "cell_type": "markdown",
   "metadata": {},
   "source": [
    "Chose `mfcc4` among functions below:\n",
    "- input size 16x16; `n_mfcc=16`, used first 16 data points from 16x17 mfcc of a chunk with size 8192\n",
    "- chunk siez 8192, overlapped half of it"
   ]
  },
  {
   "cell_type": "code",
   "execution_count": 6,
   "metadata": {},
   "outputs": [],
   "source": [
    "def mfcc4(raw, label, chunk_size=8192, window_size=4096, sr=22050, n_mfcc=16, n_frame=16):\n",
    "    mfcc = np.empty((0, n_mfcc, n_frame))\n",
    "    y = []\n",
    "    print(raw.shape)\n",
    "    for i in range(0, len(raw), chunk_size//2):\n",
    "        mfcc_slice = librosa.feature.mfcc(raw[i:i+chunk_size], sr=sr, n_mfcc=n_mfcc) #n_mfcc,17\n",
    "        if mfcc_slice.shape[1] < 17:\n",
    "            print(\"small end:\", mfcc_slice.shape)\n",
    "            continue\n",
    "        mfcc_slice = mfcc_slice[:,:-1]\n",
    "        mfcc_slice = mfcc_slice.reshape((1, mfcc_slice.shape[0], mfcc_slice.shape[1]))\n",
    "        mfcc = np.vstack((mfcc, mfcc_slice))\n",
    "        y.append(label)\n",
    "    y = np.array(y)\n",
    "    return mfcc, y"
   ]
  },
  {
   "cell_type": "code",
   "execution_count": 7,
   "metadata": {},
   "outputs": [
    {
     "name": "stdout",
     "output_type": "stream",
     "text": [
      "(4464640,)\n",
      "small end: (16, 9)\n",
      "(6032517,)\n",
      "small end: (16, 15)\n",
      "small end: (16, 7)\n",
      "(1089, 16, 16) (1089,)\n",
      "(1471, 16, 16) (1471,)\n"
     ]
    }
   ],
   "source": [
    "mfcc_drone, y_drone = mfcc4(drone_raw, 1)\n",
    "mfcc_background, y_background = mfcc4(background_raw, 0)\n",
    "\n",
    "print(mfcc_drone.shape, y_drone.shape)\n",
    "print(mfcc_background.shape, y_background.shape)"
   ]
  },
  {
   "cell_type": "code",
   "execution_count": 8,
   "metadata": {},
   "outputs": [
    {
     "name": "stdout",
     "output_type": "stream",
     "text": [
      "(2560, 16, 16) (2560,)\n"
     ]
    }
   ],
   "source": [
    "X = np.concatenate((mfcc_drone, mfcc_background), axis=0)\n",
    "y = np.hstack((y_drone, y_background))\n",
    "print(X.shape, y.shape)"
   ]
  },
  {
   "cell_type": "code",
   "execution_count": 9,
   "metadata": {},
   "outputs": [],
   "source": [
    "X = np.reshape(X,(X.shape[0],-1))"
   ]
  },
  {
   "cell_type": "code",
   "execution_count": 10,
   "metadata": {},
   "outputs": [
    {
     "data": {
      "text/plain": [
       "(2560, 256)"
      ]
     },
     "execution_count": 10,
     "metadata": {},
     "output_type": "execute_result"
    }
   ],
   "source": [
    "X.shape"
   ]
  },
  {
   "cell_type": "code",
   "execution_count": 11,
   "metadata": {},
   "outputs": [
    {
     "name": "stdout",
     "output_type": "stream",
     "text": [
      "(2560, 2)\n"
     ]
    }
   ],
   "source": [
    "n_labels = y.shape[0]\n",
    "n_unique_labels = 2\n",
    "y_encoded = np.zeros((n_labels, n_unique_labels))\n",
    "y_encoded[np.arange(n_labels), y] = 1\n",
    "print(y_encoded.shape)"
   ]
  },
  {
   "cell_type": "code",
   "execution_count": 12,
   "metadata": {},
   "outputs": [],
   "source": [
    "# Split data\n",
    "from sklearn import model_selection\n",
    "X_train, X_test, y_train, y_test = model_selection.train_test_split(X, y_encoded, test_size=0.2, random_state=42)\n",
    "X_train, X_val, y_train, y_val = model_selection.train_test_split(X_train, y_train, test_size=0.2, random_state=42)"
   ]
  },
  {
   "cell_type": "code",
   "execution_count": 13,
   "metadata": {},
   "outputs": [
    {
     "name": "stdout",
     "output_type": "stream",
     "text": [
      "(1638, 256) (1638, 2)\n",
      "(410, 256) (410, 2)\n",
      "(512, 256) (512, 2)\n"
     ]
    }
   ],
   "source": [
    "print(X_train.shape,y_train.shape)\n",
    "print(X_val.shape, y_val.shape)\n",
    "print(X_test.shape, y_test.shape)"
   ]
  },
  {
   "cell_type": "code",
   "execution_count": 14,
   "metadata": {},
   "outputs": [],
   "source": [
    "# Save Data\n",
    "np.save('../../model/X_train', X_train)\n",
    "np.save('../../model/X_test', X_test)\n",
    "np.save('../../model/X_val', X_val)\n",
    "np.save('../../model/y_val', y_val)\n",
    "np.save('../../model/y_train', y_train)\n",
    "np.save('../../model/y_test', y_test)"
   ]
  },
  {
   "cell_type": "markdown",
   "metadata": {},
   "source": [
    "### Until this part"
   ]
  },
  {
   "cell_type": "code",
   "execution_count": 15,
   "metadata": {},
   "outputs": [],
   "source": [
    "# Load Data\n",
    "X_train = np.load('../../model/X_train.npy')\n",
    "X_test = np.load('../../model/X_test.npy')\n",
    "X_val = np.load('../../model/X_val.npy')\n",
    "y_val = np.load('../../model/y_val.npy')\n",
    "y_train = np.load('../../model/y_train.npy')\n",
    "y_test = np.load('../../model/y_test.npy')"
   ]
  },
  {
   "cell_type": "markdown",
   "metadata": {},
   "source": [
    "# Experiment 3 - One convolutional layer /w no dropout\n"
   ]
  },
  {
   "cell_type": "markdown",
   "metadata": {},
   "source": [
    "##Experiment 3-2\n",
    "- learning rate 0.005\n",
    "- pooling stride 1x1\n",
    "- #filter 1\n",
    "- best result among every other settings\n",
    "- cost kept fluctuated during training. (0.8 -> 1.3) -- why is that?"
   ]
  },
  {
   "cell_type": "code",
   "execution_count": 16,
   "metadata": {},
   "outputs": [],
   "source": [
    "tf.reset_default_graph()"
   ]
  },
  {
   "cell_type": "code",
   "execution_count": 17,
   "metadata": {},
   "outputs": [],
   "source": [
    "n_mfcc = 16\n",
    "n_frame = 16\n",
    "n_classes = 2\n",
    "n_channels = 1\n",
    "\n",
    "kernel_size = 3\n",
    "stride = 1\n",
    "pad = \"SAME\"\n",
    "\n",
    "learning_rate = 0.0002  # 0.005\n",
    "training_epochs = 200 # 수정해야해"
   ]
  },
  {
   "cell_type": "markdown",
   "metadata": {},
   "source": [
    "# Layer"
   ]
  },
  {
   "cell_type": "markdown",
   "metadata": {},
   "source": [
    "## Experiment\n",
    "- learning rate 0.0002\n",
    "- no cnn/ pooling \n",
    "- just dense with dropout "
   ]
  },
  {
   "cell_type": "code",
   "execution_count": 18,
   "metadata": {},
   "outputs": [],
   "source": [
    "X = tf.placeholder(tf.float32, shape=[None,n_mfcc*n_frame*n_channels])\n",
    "Y = tf.placeholder(tf.float32, shape=[None,n_classes])\n",
    "\n",
    "keep_prob = tf.placeholder(tf.float32)\n",
    "\n",
    "dense1 = tf.layers.dense(inputs=X, units=256, activation=tf.nn.relu)\n",
    "dropout1 = tf.nn.dropout(dense1, keep_prob=keep_prob)\n",
    "dense2 = tf.layers.dense(inputs=dropout1, units=256, activation=tf.nn.relu)\n",
    "dropout2 = tf.nn.dropout(dense2, keep_prob=keep_prob)\n",
    "dense3 = tf.layers.dense(inputs=dropout2, units=512, activation=tf.nn.relu)\n",
    "dropout3 = tf.nn.dropout(dense3, keep_prob=keep_prob)\n",
    "dense4 = tf.layers.dense(inputs=dropout3, units=512, activation=tf.nn.relu)\n",
    "dropout4 = tf.nn.dropout(dense4, keep_prob=keep_prob)\n",
    "dense5 = tf.layers.dense(inputs=dropout4, units=256, activation=tf.nn.relu)\n",
    "dropout5 = tf.nn.dropout(dense5, keep_prob=keep_prob)\n",
    "\n",
    "logits= tf.layers.dense(inputs=dropout5, units=2)"
   ]
  },
  {
   "cell_type": "code",
   "execution_count": 19,
   "metadata": {},
   "outputs": [],
   "source": [
    "cost = tf.reduce_mean(tf.nn.softmax_cross_entropy_with_logits_v2(logits=logits, labels=Y))\n",
    "optimizer = tf.train.AdamOptimizer(learning_rate=learning_rate).minimize(cost)"
   ]
  },
  {
   "cell_type": "code",
   "execution_count": 20,
   "metadata": {},
   "outputs": [],
   "source": [
    "config = tf.ConfigProto(allow_soft_placement = True)\n",
    "sess = tf.Session(config = config)\n",
    "sess.run(tf.global_variables_initializer())"
   ]
  },
  {
   "cell_type": "code",
   "execution_count": 21,
   "metadata": {},
   "outputs": [],
   "source": [
    "# model save\n",
    "model_path = '../../model/DNN/dense_model'\n",
    "saver = tf.train.Saver()"
   ]
  },
  {
   "cell_type": "markdown",
   "metadata": {},
   "source": [
    "# Trainning"
   ]
  },
  {
   "cell_type": "code",
   "execution_count": 22,
   "metadata": {},
   "outputs": [],
   "source": [
    "import math"
   ]
  },
  {
   "cell_type": "code",
   "execution_count": 23,
   "metadata": {
    "scrolled": false
   },
   "outputs": [],
   "source": [
    "with tf.name_scope(\"eval\"):\n",
    "    correct = tf.nn.in_top_k(logits, y, 1)\n",
    "    accuracy = tf.reduce_mean(tf.cast(correct, tf.float32))\n",
    "#    accuracy_summary = tf.summary.scalar('accuracy', accuracy)"
   ]
  },
  {
   "cell_type": "code",
   "execution_count": 24,
   "metadata": {},
   "outputs": [],
   "source": [
    "from sklearn.metrics import accuracy_score"
   ]
  },
  {
   "cell_type": "code",
   "execution_count": 25,
   "metadata": {
    "scrolled": true
   },
   "outputs": [
    {
     "name": "stdout",
     "output_type": "stream",
     "text": [
      "Epoch: 0001 cost =  0.682523796 \t검증 세트 정확도: 58.293%\n",
      "Epoch: 0002 cost =  0.301079272 \t검증 세트 정확도: 85.122%\n",
      "Epoch: 0003 cost =  0.173845883 \t검증 세트 정확도: 83.171%\n",
      "Epoch: 0004 cost =  0.106154031 \t검증 세트 정확도: 95.122%\n",
      "Epoch: 0005 cost =  0.066531261 \t검증 세트 정확도: 97.805%\n",
      "Epoch: 0006 cost =  0.045270017 \t검증 세트 정확도: 97.073%\n",
      "Epoch: 0007 cost =  0.027817263 \t검증 세트 정확도: 97.561%\n",
      "Epoch: 0008 cost =  0.021835600 \t검증 세트 정확도: 98.049%\n",
      "Epoch: 0009 cost =  0.012960028 \t검증 세트 정확도: 98.049%\n",
      "Epoch: 0010 cost =  0.009583503 \t검증 세트 정확도: 98.049%\n",
      "Epoch: 0011 cost =  0.008304387 \t검증 세트 정확도: 98.293%\n",
      "Epoch: 0012 cost =  0.006058376 \t검증 세트 정확도: 98.049%\n",
      "Epoch: 0013 cost =  0.004921037 \t검증 세트 정확도: 98.049%\n",
      "Epoch: 0014 cost =  0.004219738 \t검증 세트 정확도: 98.049%\n",
      "Epoch: 0015 cost =  0.002923502 \t검증 세트 정확도: 98.049%\n",
      "Epoch: 0016 cost =  0.004333270 \t검증 세트 정확도: 98.780%\n",
      "Epoch: 0017 cost =  0.003727446 \t검증 세트 정확도: 98.780%\n",
      "Epoch: 0018 cost =  0.002391747 \t검증 세트 정확도: 98.780%\n",
      "Epoch: 0019 cost =  0.002625933 \t검증 세트 정확도: 98.537%\n",
      "Epoch: 0020 cost =  0.001596073 \t검증 세트 정확도: 98.780%\n",
      "Epoch: 0021 cost =  0.002581014 \t검증 세트 정확도: 98.780%\n",
      "Epoch: 0022 cost =  0.001803837 \t검증 세트 정확도: 98.780%\n",
      "Epoch: 0023 cost =  0.001368626 \t검증 세트 정확도: 98.780%\n",
      "Epoch: 0024 cost =  0.001301993 \t검증 세트 정확도: 98.537%\n",
      "Epoch: 0025 cost =  0.001832315 \t검증 세트 정확도: 98.780%\n",
      "Epoch: 0026 cost =  0.001280448 \t검증 세트 정확도: 98.537%\n",
      "Epoch: 0027 cost =  0.000899745 \t검증 세트 정확도: 98.780%\n",
      "Epoch: 0028 cost =  0.000929833 \t검증 세트 정확도: 98.537%\n",
      "Epoch: 0029 cost =  0.000870612 \t검증 세트 정확도: 98.780%\n",
      "Epoch: 0030 cost =  0.001134665 \t검증 세트 정확도: 98.780%\n",
      "Epoch: 0031 cost =  0.001108270 \t검증 세트 정확도: 99.024%\n",
      "Epoch: 0032 cost =  0.001388660 \t검증 세트 정확도: 98.780%\n",
      "Epoch: 0033 cost =  0.001116474 \t검증 세트 정확도: 98.780%\n",
      "Epoch: 0034 cost =  0.000883193 \t검증 세트 정확도: 98.780%\n",
      "Epoch: 0035 cost =  0.000780240 \t검증 세트 정확도: 98.537%\n",
      "Epoch: 0036 cost =  0.000843487 \t검증 세트 정확도: 98.537%\n",
      "Epoch: 0037 cost =  0.000921798 \t검증 세트 정확도: 98.780%\n",
      "Epoch: 0038 cost =  0.000892599 \t검증 세트 정확도: 98.537%\n",
      "Epoch: 0039 cost =  0.000493141 \t검증 세트 정확도: 98.780%\n",
      "Epoch: 0040 cost =  0.000612717 \t검증 세트 정확도: 98.537%\n",
      "Epoch: 0041 cost =  0.000541611 \t검증 세트 정확도: 98.780%\n",
      "Epoch: 0042 cost =  0.000431701 \t검증 세트 정확도: 98.780%\n",
      "Epoch: 0043 cost =  0.001123832 \t검증 세트 정확도: 98.780%\n",
      "Epoch: 0044 cost =  0.000477320 \t검증 세트 정확도: 98.780%\n",
      "Epoch: 0045 cost =  0.000479634 \t검증 세트 정확도: 98.780%\n",
      "Epoch: 0046 cost =  0.000548412 \t검증 세트 정확도: 99.024%\n",
      "Epoch: 0047 cost =  0.000402381 \t검증 세트 정확도: 98.780%\n",
      "Epoch: 0048 cost =  0.000776656 \t검증 세트 정확도: 99.024%\n",
      "Epoch: 0049 cost =  0.000572522 \t검증 세트 정확도: 99.268%\n",
      "Epoch: 0050 cost =  0.001006477 \t검증 세트 정확도: 99.512%\n",
      "Epoch: 0051 cost =  0.000479571 \t검증 세트 정확도: 99.024%\n",
      "Epoch: 0052 cost =  0.000637795 \t검증 세트 정확도: 99.024%\n",
      "Epoch: 0053 cost =  0.000490651 \t검증 세트 정확도: 99.512%\n",
      "Epoch: 0054 cost =  0.000449568 \t검증 세트 정확도: 99.024%\n",
      "Epoch: 0055 cost =  0.000339317 \t검증 세트 정확도: 98.780%\n",
      "Epoch: 0056 cost =  0.000106710 \t검증 세트 정확도: 99.024%\n",
      "Epoch: 0057 cost =  0.000257366 \t검증 세트 정확도: 98.780%\n",
      "Epoch: 0058 cost =  0.000128572 \t검증 세트 정확도: 98.780%\n",
      "Epoch: 0059 cost =  0.000122986 \t검증 세트 정확도: 99.024%\n",
      "Epoch: 0060 cost =  0.000139650 \t검증 세트 정확도: 98.780%\n",
      "Epoch: 0061 cost =  0.000425283 \t검증 세트 정확도: 99.268%\n",
      "Epoch: 0062 cost =  0.000493141 \t검증 세트 정확도: 99.512%\n",
      "Epoch: 0063 cost =  0.000523237 \t검증 세트 정확도: 99.024%\n",
      "Epoch: 0064 cost =  0.000504323 \t검증 세트 정확도: 99.024%\n",
      "Epoch: 0065 cost =  0.000208556 \t검증 세트 정확도: 99.268%\n",
      "Epoch: 0066 cost =  0.000770759 \t검증 세트 정확도: 99.024%\n",
      "Epoch: 0067 cost =  0.000377481 \t검증 세트 정확도: 99.512%\n",
      "Epoch: 0068 cost =  0.000299733 \t검증 세트 정확도: 99.268%\n",
      "Epoch: 0069 cost =  0.000239941 \t검증 세트 정확도: 99.024%\n",
      "Epoch: 0070 cost =  0.000267498 \t검증 세트 정확도: 99.268%\n",
      "Epoch: 0071 cost =  0.000507249 \t검증 세트 정확도: 99.024%\n",
      "Epoch: 0072 cost =  0.000266338 \t검증 세트 정확도: 98.780%\n",
      "Epoch: 0073 cost =  0.000256412 \t검증 세트 정확도: 99.024%\n",
      "Epoch: 0074 cost =  0.000246081 \t검증 세트 정확도: 99.024%\n",
      "Epoch: 0075 cost =  0.000261018 \t검증 세트 정확도: 99.268%\n",
      "Epoch: 0076 cost =  0.000303466 \t검증 세트 정확도: 99.512%\n",
      "Epoch: 0077 cost =  0.000054700 \t검증 세트 정확도: 99.512%\n",
      "Epoch: 0078 cost =  0.000263860 \t검증 세트 정확도: 99.024%\n",
      "Epoch: 0079 cost =  0.000453028 \t검증 세트 정확도: 99.512%\n",
      "Epoch: 0080 cost =  0.000290201 \t검증 세트 정확도: 99.024%\n",
      "Epoch: 0081 cost =  0.000224862 \t검증 세트 정확도: 99.268%\n",
      "Epoch: 0082 cost =  0.000573160 \t검증 세트 정확도: 99.024%\n",
      "Epoch: 0083 cost =  0.000280104 \t검증 세트 정확도: 99.024%\n",
      "Epoch: 0084 cost =  0.000391637 \t검증 세트 정확도: 99.024%\n",
      "Epoch: 0085 cost =  0.000209239 \t검증 세트 정확도: 99.024%\n",
      "Epoch: 0086 cost =  0.000226603 \t검증 세트 정확도: 99.024%\n",
      "Epoch: 0087 cost =  0.000240795 \t검증 세트 정확도: 99.512%\n",
      "Epoch: 0088 cost =  0.000265413 \t검증 세트 정확도: 99.024%\n",
      "Epoch: 0089 cost =  0.000240531 \t검증 세트 정확도: 99.024%\n",
      "Epoch: 0090 cost =  0.000077060 \t검증 세트 정확도: 99.024%\n",
      "Epoch: 0091 cost =  0.000348362 \t검증 세트 정확도: 99.268%\n",
      "Epoch: 0092 cost =  0.000113680 \t검증 세트 정확도: 99.512%\n",
      "Epoch: 0093 cost =  0.000354264 \t검증 세트 정확도: 99.024%\n",
      "Epoch: 0094 cost =  0.000303034 \t검증 세트 정확도: 99.512%\n",
      "Epoch: 0095 cost =  0.000605902 \t검증 세트 정확도: 99.024%\n",
      "Epoch: 0096 cost =  0.000580302 \t검증 세트 정확도: 99.268%\n",
      "Epoch: 0097 cost =  0.000281741 \t검증 세트 정확도: 99.512%\n",
      "Epoch: 0098 cost =  0.000211046 \t검증 세트 정확도: 99.268%\n",
      "Epoch: 0099 cost =  0.000170117 \t검증 세트 정확도: 99.268%\n"
     ]
    },
    {
     "data": {
      "text/plain": [
       "'../../model/DNN/dense_model'"
      ]
     },
     "execution_count": 25,
     "metadata": {},
     "output_type": "execute_result"
    }
   ],
   "source": [
    "#original \n",
    "epochX = []\n",
    "costY = []\n",
    "accuracyY = []\n",
    "\n",
    "batch_size = 32\n",
    "cost_history = np.empty(shape=[1], dtype=float)\n",
    "with tf.device(\"/gpu:0\"):\n",
    "    for epoch in range(1,100):\n",
    "        avg_cost = 0    \n",
    "#    total_batch = int(X_train.shape[0] / batch_size)\n",
    "        for i in range( int(math.ceil(len(X_train)/batch_size)) ): # 배치 사이즈로 나눈 나머지 다 돌 수 있게 \n",
    "            x_ = X_train[batch_size * i: batch_size * (i + 1)]\n",
    "            y_ = y_train[batch_size * i: batch_size * (i + 1)]\n",
    "            feed_dict={X:x_, Y:y_, keep_prob:0.6}    \n",
    "            c, _ = sess.run([cost, optimizer], feed_dict=feed_dict)\n",
    "            cost_history = np.append(cost_history,cost)\n",
    "            avg_cost += c\n",
    "            #accuracy_val = sess.run([accuracy], feed_dict={X:X_val, Y:y_val\n",
    "        val_pred = sess.run(tf.argmax(logits,1),feed_dict={X: X_val , keep_prob:1})  \n",
    "        val_true = sess.run(tf.argmax(y_val,1))\n",
    "        accuracy_val = accuracy_score(val_pred, val_true)\n",
    "        epochX.append(epoch)\n",
    "        costY.append(avg_cost/len(X_train))\n",
    "        accuracyY.append(accuracy_val)\n",
    "        print('Epoch:', '%04d' % (epoch), 'cost = ', '{:.9f}'.format(avg_cost / len(X_train)), \"\\t검증 세트 정확도: {:.3f}%\".format(accuracy_val * 100),)\n",
    "saver.save(sess, model_path)"
   ]
  },
  {
   "cell_type": "code",
   "execution_count": 30,
   "metadata": {},
   "outputs": [
    {
     "data": {
      "text/plain": [
       "[<matplotlib.lines.Line2D at 0x7fb7ec64f160>]"
      ]
     },
     "execution_count": 30,
     "metadata": {},
     "output_type": "execute_result"
    },
    {
     "data": {
      "image/png": "[encoded data removed]",
      "text/plain": [
       "<Figure size 720x360 with 1 Axes>"
      ]
     },
     "metadata": {
      "needs_background": "light"
     },
     "output_type": "display_data"
    }
   ],
   "source": [
    "import matplotlib.pyplot as plt\n",
    "%matplotlib inline\n",
    "\n",
    "fig= plt.figure(figsize=(10,5))\n",
    "axes= fig.add_subplot(111)\n",
    "\n",
    "\n",
    "axes.plot(epochX, costY)\n",
    "plt.xlabel('Actual Distance (m)')\n",
    "plt.ylabel('Calculated Distance (m)')\n",
    "\n",
    "axes.plot(epochX, accuracyY)\n",
    "#axes.set_yticks([0,10,20,30,40,50,60,70])\n",
    "#plt.show()\n",
    "\n",
    "#plt.savefig('graph7-04percentage.png',dpi=900)"
   ]
  },
  {
   "cell_type": "markdown",
   "metadata": {},
   "source": [
    "## Prediction"
   ]
  },
  {
   "cell_type": "code",
   "execution_count": 27,
   "metadata": {},
   "outputs": [],
   "source": [
    "y_pred = sess.run(tf.argmax(logits,1),feed_dict={X: X_test , keep_prob:1}) \n",
    "y_true = sess.run(tf.argmax(y_test,1))"
   ]
  },
  {
   "cell_type": "code",
   "execution_count": 28,
   "metadata": {},
   "outputs": [
    {
     "name": "stdout",
     "output_type": "stream",
     "text": [
      "F-Score: 1.0\n",
      "Accuracy:  1.0\n",
      "              precision    recall  f1-score   support\n",
      "\n",
      "           0       1.00      1.00      1.00       298\n",
      "           1       1.00      1.00      1.00       214\n",
      "\n",
      "   micro avg       1.00      1.00      1.00       512\n",
      "   macro avg       1.00      1.00      1.00       512\n",
      "weighted avg       1.00      1.00      1.00       512\n",
      "\n",
      "[[298   0]\n",
      " [  0 214]]\n"
     ]
    }
   ],
   "source": [
    "# Ptint Result\n",
    "\n",
    "from sklearn.metrics import precision_recall_fscore_support\n",
    "p,r,f,s = precision_recall_fscore_support(y_true, y_pred, average='micro')\n",
    "print(\"F-Score:\", round(f,3))\n",
    "from sklearn.metrics import accuracy_score\n",
    "print(\"Accuracy: \", accuracy_score(y_true, y_pred))\n",
    "\n",
    "from sklearn.metrics import classification_report\n",
    "print(classification_report(y_true, y_pred))\n",
    "from sklearn.metrics import confusion_matrix\n",
    "print(confusion_matrix(y_true, y_pred))"
   ]
  },
  {
   "cell_type": "code",
   "execution_count": null,
   "metadata": {},
   "outputs": [],
   "source": []
  }
 ],
 "metadata": {
  "kernelspec": {
   "display_name": "Python 3",
   "language": "python",
   "name": "python3"
  },
  "language_info": {
   "codemirror_mode": {
    "name": "ipython",
    "version": 3
   },
   "file_extension": ".py",
   "mimetype": "text/x-python",
   "name": "python",
   "nbconvert_exporter": "python",
   "pygments_lexer": "ipython3",
   "version": "3.6.8"
  }
 },
 "nbformat": 4,
 "nbformat_minor": 2
}
