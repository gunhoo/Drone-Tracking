{
 "cells": [
  {
   "cell_type": "code",
   "execution_count": 1,
   "metadata": {},
   "outputs": [],
   "source": [
    "import matplotlib.pyplot as plt\n",
    "%matplotlib inline\n",
    "import IPython.display\n",
    "import librosa.display\n",
    "import numpy as np\n",
    "import librosa\n",
    "import tensorflow as tf\n",
    "import glob"
   ]
  },
  {
   "cell_type": "markdown",
   "metadata": {},
   "source": [
    "### If you have been save the data, you don't have to preprocessing and save the data"
   ]
  },
  {
   "cell_type": "code",
   "execution_count": 2,
   "metadata": {},
   "outputs": [],
   "source": [
    "drone_path = '../../data/drone/*.wav'\n",
    "background_path = '../../data/background (copy)/*.wav'\n",
    "\n",
    "drone_files = glob.glob(drone_path)\n",
    "background_files = glob.glob(background_path)"
   ]
  },
  {
   "cell_type": "code",
   "execution_count": 3,
   "metadata": {},
   "outputs": [],
   "source": [
    "CHUNK_SIZE = 8192\n",
    "SR = 22050\n",
    "N_MFCC = 16"
   ]
  },
  {
   "cell_type": "code",
   "execution_count": 4,
   "metadata": {},
   "outputs": [],
   "source": [
    "def load(files, sr=22050):\n",
    "    [raw, sr] = librosa.load(files[0], sr=sr)\n",
    "    for f in files[1:]:\n",
    "        [array, sr] = librosa.load(f, sr=sr)\n",
    "        raw = np.hstack((raw, array))\n",
    "    print(raw.shape)\n",
    "    return raw"
   ]
  },
  {
   "cell_type": "code",
   "execution_count": 5,
   "metadata": {},
   "outputs": [
    {
     "name": "stdout",
     "output_type": "stream",
     "text": [
      "(12202923,)\n",
      "(9309317,)\n"
     ]
    }
   ],
   "source": [
    "drone_raw = load(drone_files)\n",
    "background_raw = load(background_files)"
   ]
  },
  {
   "cell_type": "markdown",
   "metadata": {},
   "source": [
    "# Data preprocessing"
   ]
  },
  {
   "cell_type": "markdown",
   "metadata": {},
   "source": [
    "Chose `mfcc4` among functions below:\n",
    "- input size 16x16; `n_mfcc=16`, used first 16 data points from 16x17 mfcc of a chunk with size 8192\n",
    "- chunk siez 8192, overlapped half of it"
   ]
  },
  {
   "cell_type": "code",
   "execution_count": 6,
   "metadata": {},
   "outputs": [],
   "source": [
    "def mfcc4(raw, label, chunk_size=8192, window_size=4096, sr=22050, n_mfcc=16, n_frame=16):\n",
    "    mfcc = np.empty((0, n_mfcc, n_frame))\n",
    "    y = []\n",
    "    print(raw.shape)\n",
    "    for i in range(0, len(raw), chunk_size//2):\n",
    "        mfcc_slice = librosa.feature.mfcc(raw[i:i+chunk_size], sr=sr, n_mfcc=n_mfcc) #n_mfcc,17\n",
    "        if mfcc_slice.shape[1] < 17:\n",
    "            print(\"small end:\", mfcc_slice.shape)\n",
    "            continue\n",
    "        mfcc_slice = mfcc_slice[:,:-1]\n",
    "        mfcc_slice = mfcc_slice.reshape((1, mfcc_slice.shape[0], mfcc_slice.shape[1]))\n",
    "        mfcc = np.vstack((mfcc, mfcc_slice))\n",
    "        y.append(label)\n",
    "    y = np.array(y)\n",
    "    return mfcc, y"
   ]
  },
  {
   "cell_type": "code",
   "execution_count": 7,
   "metadata": {},
   "outputs": [
    {
     "name": "stdout",
     "output_type": "stream",
     "text": [
      "(12202923,)\n",
      "small end: (16, 10)\n",
      "small end: (16, 2)\n",
      "(9309317,)\n",
      "small end: (16, 15)\n",
      "small end: (16, 7)\n",
      "(2978, 16, 16) (2978,)\n",
      "(2271, 16, 16) (2271,)\n"
     ]
    }
   ],
   "source": [
    "mfcc_drone, y_drone = mfcc4(drone_raw, 1)\n",
    "mfcc_background, y_background = mfcc4(background_raw, 0)\n",
    "\n",
    "print(mfcc_drone.shape, y_drone.shape)\n",
    "print(mfcc_background.shape, y_background.shape)"
   ]
  },
  {
   "cell_type": "code",
   "execution_count": 8,
   "metadata": {},
   "outputs": [
    {
     "name": "stdout",
     "output_type": "stream",
     "text": [
      "(5249, 16, 16) (5249,)\n"
     ]
    }
   ],
   "source": [
    "X = np.concatenate((mfcc_drone, mfcc_background), axis=0)\n",
    "y = np.hstack((y_drone, y_background))\n",
    "print(X.shape, y.shape)"
   ]
  },
  {
   "cell_type": "code",
   "execution_count": 9,
   "metadata": {},
   "outputs": [],
   "source": [
    "X = np.reshape(X,(X.shape[0],-1))"
   ]
  },
  {
   "cell_type": "code",
   "execution_count": 10,
   "metadata": {},
   "outputs": [
    {
     "data": {
      "text/plain": [
       "(5249, 256)"
      ]
     },
     "execution_count": 10,
     "metadata": {},
     "output_type": "execute_result"
    }
   ],
   "source": [
    "X.shape"
   ]
  },
  {
   "cell_type": "code",
   "execution_count": 11,
   "metadata": {},
   "outputs": [
    {
     "name": "stdout",
     "output_type": "stream",
     "text": [
      "(5249, 2)\n"
     ]
    }
   ],
   "source": [
    "n_labels = y.shape[0]\n",
    "n_unique_labels = 2\n",
    "y_encoded = np.zeros((n_labels, n_unique_labels))\n",
    "y_encoded[np.arange(n_labels), y] = 1\n",
    "print(y_encoded.shape)"
   ]
  },
  {
   "cell_type": "code",
   "execution_count": 12,
   "metadata": {},
   "outputs": [],
   "source": [
    "# Split data\n",
    "from sklearn import model_selection\n",
    "X_train, X_test, y_train, y_test = model_selection.train_test_split(X, y_encoded, test_size=0.2, random_state=42)\n",
    "X_train, X_val, y_train, y_val = model_selection.train_test_split(X_train, y_train, test_size=0.2, random_state=42)"
   ]
  },
  {
   "cell_type": "code",
   "execution_count": 13,
   "metadata": {},
   "outputs": [
    {
     "name": "stdout",
     "output_type": "stream",
     "text": [
      "(3359, 256) (3359, 2)\n",
      "(840, 256) (840, 2)\n",
      "(1050, 256) (1050, 2)\n"
     ]
    }
   ],
   "source": [
    "print(X_train.shape,y_train.shape)\n",
    "print(X_val.shape, y_val.shape)\n",
    "print(X_test.shape, y_test.shape)"
   ]
  },
  {
   "cell_type": "code",
   "execution_count": 14,
   "metadata": {},
   "outputs": [],
   "source": [
    "# Save Data\n",
    "np.save('../../model/X_train', X_train)\n",
    "np.save('../../model/X_test', X_test)\n",
    "np.save('../../model/X_val', X_val)\n",
    "np.save('../../model/y_val', y_val)\n",
    "np.save('../../model/y_train', y_train)\n",
    "np.save('../../model/y_test', y_test)"
   ]
  },
  {
   "cell_type": "markdown",
   "metadata": {},
   "source": [
    "### Until this part"
   ]
  },
  {
   "cell_type": "code",
   "execution_count": 15,
   "metadata": {},
   "outputs": [],
   "source": [
    "# Load Data\n",
    "X_train = np.load('../../model/X_train.npy')\n",
    "X_test = np.load('../../model/X_test.npy')\n",
    "X_val = np.load('../../model/X_val.npy')\n",
    "y_val = np.load('../../model/y_val.npy')\n",
    "y_train = np.load('../../model/y_train.npy')\n",
    "y_test = np.load('../../model/y_test.npy')"
   ]
  },
  {
   "cell_type": "markdown",
   "metadata": {},
   "source": [
    "# Experiment 3 - One convolutional layer /w no dropout\n"
   ]
  },
  {
   "cell_type": "markdown",
   "metadata": {},
   "source": [
    "##Experiment 3-2\n",
    "- learning rate 0.005\n",
    "- pooling stride 1x1\n",
    "- #filter 1\n",
    "- best result among every other settings\n",
    "- cost kept fluctuated during training. (0.8 -> 1.3) -- why is that?"
   ]
  },
  {
   "cell_type": "code",
   "execution_count": 16,
   "metadata": {},
   "outputs": [],
   "source": [
    "tf.reset_default_graph()"
   ]
  },
  {
   "cell_type": "code",
   "execution_count": 17,
   "metadata": {},
   "outputs": [],
   "source": [
    "n_mfcc = 16\n",
    "n_frame = 16\n",
    "n_classes = 2\n",
    "n_channels = 1\n",
    "\n",
    "kernel_size = 3\n",
    "stride = 1\n",
    "pad = \"SAME\"\n",
    "\n",
    "learning_rate = 0.0002  # 0.005\n",
    "training_epochs = 500 # 수정해야해"
   ]
  },
  {
   "cell_type": "markdown",
   "metadata": {},
   "source": [
    "# Layer"
   ]
  },
  {
   "cell_type": "markdown",
   "metadata": {},
   "source": [
    "## Experiment\n",
    "- learning rate 0.0002\n",
    "- no cnn/ pooling \n",
    "- just dense with dropout "
   ]
  },
  {
   "cell_type": "code",
   "execution_count": 18,
   "metadata": {},
   "outputs": [],
   "source": [
    "X = tf.placeholder(tf.float32, shape=[None,n_mfcc*n_frame*n_channels])\n",
    "Y = tf.placeholder(tf.float32, shape=[None,n_classes])\n",
    "\n",
    "keep_prob = tf.placeholder(tf.float32)\n",
    "\n",
    "dense1 = tf.layers.dense(inputs=X, units=256, activation=tf.nn.relu)\n",
    "dropout1 = tf.nn.dropout(dense1, keep_prob=keep_prob)\n",
    "dense2 = tf.layers.dense(inputs=dropout1, units=256, activation=tf.nn.relu)\n",
    "dropout2 = tf.nn.dropout(dense2, keep_prob=keep_prob)\n",
    "dense3 = tf.layers.dense(inputs=dropout2, units=512, activation=tf.nn.relu)\n",
    "dropout3 = tf.nn.dropout(dense3, keep_prob=keep_prob)\n",
    "dense4 = tf.layers.dense(inputs=dropout3, units=512, activation=tf.nn.relu)\n",
    "dropout4 = tf.nn.dropout(dense4, keep_prob=keep_prob)\n",
    "dense5 = tf.layers.dense(inputs=dropout4, units=256, activation=tf.nn.relu)\n",
    "dropout5 = tf.nn.dropout(dense5, keep_prob=keep_prob)\n",
    "\n",
    "logits= tf.layers.dense(inputs=dropout5, units=2)"
   ]
  },
  {
   "cell_type": "code",
   "execution_count": 19,
   "metadata": {},
   "outputs": [],
   "source": [
    "cost = tf.reduce_mean(tf.nn.softmax_cross_entropy_with_logits_v2(logits=logits, labels=Y))\n",
    "optimizer = tf.train.AdamOptimizer(learning_rate=learning_rate).minimize(cost)"
   ]
  },
  {
   "cell_type": "code",
   "execution_count": 20,
   "metadata": {},
   "outputs": [],
   "source": [
    "sess = tf.Session()\n",
    "sess.run(tf.global_variables_initializer())"
   ]
  },
  {
   "cell_type": "code",
   "execution_count": 21,
   "metadata": {},
   "outputs": [],
   "source": [
    "# model save\n",
    "model_path = '../../model/Dense/dense_model'\n",
    "saver = tf.train.Saver()"
   ]
  },
  {
   "cell_type": "markdown",
   "metadata": {},
   "source": [
    "# Trainning"
   ]
  },
  {
   "cell_type": "code",
   "execution_count": 22,
   "metadata": {},
   "outputs": [],
   "source": [
    "import math"
   ]
  },
  {
   "cell_type": "code",
   "execution_count": 23,
   "metadata": {
    "scrolled": false
   },
   "outputs": [],
   "source": [
    "with tf.name_scope(\"eval\"):\n",
    "    correct = tf.nn.in_top_k(logits, y, 1)\n",
    "    accuracy = tf.reduce_mean(tf.cast(correct, tf.float32))\n",
    "#    accuracy_summary = tf.summary.scalar('accuracy', accuracy)"
   ]
  },
  {
   "cell_type": "code",
   "execution_count": 24,
   "metadata": {},
   "outputs": [],
   "source": [
    "from sklearn.metrics import accuracy_score"
   ]
  },
  {
   "cell_type": "code",
   "execution_count": 25,
   "metadata": {
    "scrolled": false
   },
   "outputs": [
    {
     "name": "stdout",
     "output_type": "stream",
     "text": [
      "Epoch: 0001 cost =  0.569390084 \t검증 세트 정확도: 58.214%\n",
      "Epoch: 0002 cost =  0.182050890 \t검증 세트 정확도: 85.714%\n",
      "Epoch: 0003 cost =  0.083581452 \t검증 세트 정확도: 89.762%\n",
      "Epoch: 0004 cost =  0.050504105 \t검증 세트 정확도: 92.143%\n",
      "Epoch: 0005 cost =  0.032900263 \t검증 세트 정확도: 92.857%\n",
      "Epoch: 0006 cost =  0.022006723 \t검증 세트 정확도: 93.690%\n",
      "Epoch: 0007 cost =  0.019251293 \t검증 세트 정확도: 95.000%\n",
      "Epoch: 0008 cost =  0.012831240 \t검증 세트 정확도: 95.595%\n",
      "Epoch: 0009 cost =  0.009590113 \t검증 세트 정확도: 96.786%\n",
      "Epoch: 0010 cost =  0.008675440 \t검증 세트 정확도: 96.429%\n",
      "Epoch: 0011 cost =  0.006961251 \t검증 세트 정확도: 96.667%\n",
      "Epoch: 0012 cost =  0.006030162 \t검증 세트 정확도: 97.619%\n",
      "Epoch: 0013 cost =  0.005005994 \t검증 세트 정확도: 97.738%\n",
      "Epoch: 0014 cost =  0.004170614 \t검증 세트 정확도: 98.214%\n",
      "Epoch: 0015 cost =  0.003968001 \t검증 세트 정확도: 98.333%\n",
      "Epoch: 0016 cost =  0.003626306 \t검증 세트 정확도: 98.452%\n",
      "Epoch: 0017 cost =  0.003887292 \t검증 세트 정확도: 98.452%\n",
      "Epoch: 0018 cost =  0.002868059 \t검증 세트 정확도: 98.810%\n",
      "Epoch: 0019 cost =  0.002857364 \t검증 세트 정확도: 98.690%\n",
      "Epoch: 0020 cost =  0.003004607 \t검증 세트 정확도: 98.690%\n",
      "Epoch: 0021 cost =  0.002616597 \t검증 세트 정확도: 98.690%\n",
      "Epoch: 0022 cost =  0.002672413 \t검증 세트 정확도: 99.167%\n",
      "Epoch: 0023 cost =  0.002293852 \t검증 세트 정확도: 98.810%\n",
      "Epoch: 0024 cost =  0.002074177 \t검증 세트 정확도: 99.405%\n",
      "Epoch: 0025 cost =  0.001672926 \t검증 세트 정확도: 99.048%\n",
      "Epoch: 0026 cost =  0.002135375 \t검증 세트 정확도: 99.286%\n",
      "Epoch: 0027 cost =  0.001676483 \t검증 세트 정확도: 99.048%\n",
      "Epoch: 0028 cost =  0.001484504 \t검증 세트 정확도: 99.286%\n",
      "Epoch: 0029 cost =  0.001653397 \t검증 세트 정확도: 99.286%\n",
      "Epoch: 0030 cost =  0.001289995 \t검증 세트 정확도: 99.405%\n",
      "Epoch: 0031 cost =  0.001604953 \t검증 세트 정확도: 99.405%\n",
      "Epoch: 0032 cost =  0.001489131 \t검증 세트 정확도: 99.286%\n",
      "Epoch: 0033 cost =  0.001421296 \t검증 세트 정확도: 99.405%\n",
      "Epoch: 0034 cost =  0.001489129 \t검증 세트 정확도: 99.405%\n",
      "Epoch: 0035 cost =  0.001453887 \t검증 세트 정확도: 99.405%\n",
      "Epoch: 0036 cost =  0.001305059 \t검증 세트 정확도: 99.524%\n",
      "Epoch: 0037 cost =  0.001254424 \t검증 세트 정확도: 99.643%\n",
      "Epoch: 0038 cost =  0.001194187 \t검증 세트 정확도: 99.524%\n",
      "Epoch: 0039 cost =  0.001398163 \t검증 세트 정확도: 99.524%\n",
      "Epoch: 0040 cost =  0.001152065 \t검증 세트 정확도: 99.643%\n",
      "Epoch: 0041 cost =  0.001507805 \t검증 세트 정확도: 99.524%\n",
      "Epoch: 0042 cost =  0.001131758 \t검증 세트 정확도: 99.524%\n",
      "Epoch: 0043 cost =  0.000989117 \t검증 세트 정확도: 99.524%\n",
      "Epoch: 0044 cost =  0.001075524 \t검증 세트 정확도: 99.286%\n",
      "Epoch: 0045 cost =  0.001056726 \t검증 세트 정확도: 99.524%\n",
      "Epoch: 0046 cost =  0.001156855 \t검증 세트 정확도: 99.643%\n",
      "Epoch: 0047 cost =  0.000914740 \t검증 세트 정확도: 99.762%\n",
      "Epoch: 0048 cost =  0.000955713 \t검증 세트 정확도: 99.643%\n",
      "Epoch: 0049 cost =  0.001216264 \t검증 세트 정확도: 99.286%\n",
      "Epoch: 0050 cost =  0.001202580 \t검증 세트 정확도: 99.643%\n",
      "Epoch: 0051 cost =  0.001084351 \t검증 세트 정확도: 99.762%\n",
      "Epoch: 0052 cost =  0.000968960 \t검증 세트 정확도: 99.643%\n",
      "Epoch: 0053 cost =  0.000754248 \t검증 세트 정확도: 99.405%\n",
      "Epoch: 0054 cost =  0.000988340 \t검증 세트 정확도: 99.762%\n",
      "Epoch: 0055 cost =  0.001243308 \t검증 세트 정확도: 99.643%\n",
      "Epoch: 0056 cost =  0.000756396 \t검증 세트 정확도: 99.524%\n",
      "Epoch: 0057 cost =  0.000922007 \t검증 세트 정확도: 99.643%\n",
      "Epoch: 0058 cost =  0.001050592 \t검증 세트 정확도: 99.643%\n",
      "Epoch: 0059 cost =  0.001204232 \t검증 세트 정확도: 99.643%\n",
      "Epoch: 0060 cost =  0.000889873 \t검증 세트 정확도: 99.643%\n",
      "Epoch: 0061 cost =  0.000867449 \t검증 세트 정확도: 99.643%\n",
      "Epoch: 0062 cost =  0.000984362 \t검증 세트 정확도: 99.762%\n",
      "Epoch: 0063 cost =  0.000891461 \t검증 세트 정확도: 99.524%\n",
      "Epoch: 0064 cost =  0.001057857 \t검증 세트 정확도: 99.643%\n",
      "Epoch: 0065 cost =  0.000693149 \t검증 세트 정확도: 99.762%\n",
      "Epoch: 0066 cost =  0.000629156 \t검증 세트 정확도: 99.881%\n",
      "Epoch: 0067 cost =  0.001005157 \t검증 세트 정확도: 99.762%\n",
      "Epoch: 0068 cost =  0.000856194 \t검증 세트 정확도: 99.762%\n",
      "Epoch: 0069 cost =  0.000744307 \t검증 세트 정확도: 99.762%\n",
      "Epoch: 0070 cost =  0.000620770 \t검증 세트 정확도: 99.881%\n",
      "Epoch: 0071 cost =  0.000672097 \t검증 세트 정확도: 99.524%\n",
      "Epoch: 0072 cost =  0.000826642 \t검증 세트 정확도: 99.762%\n",
      "Epoch: 0073 cost =  0.000851503 \t검증 세트 정확도: 99.643%\n",
      "Epoch: 0074 cost =  0.000636808 \t검증 세트 정확도: 99.762%\n",
      "Epoch: 0075 cost =  0.000581234 \t검증 세트 정확도: 99.881%\n",
      "Epoch: 0076 cost =  0.000558033 \t검증 세트 정확도: 99.643%\n",
      "Epoch: 0077 cost =  0.000605154 \t검증 세트 정확도: 99.405%\n",
      "Epoch: 0078 cost =  0.000828670 \t검증 세트 정확도: 99.881%\n",
      "Epoch: 0079 cost =  0.000896384 \t검증 세트 정확도: 99.643%\n",
      "Epoch: 0080 cost =  0.000780555 \t검증 세트 정확도: 99.762%\n",
      "Epoch: 0081 cost =  0.000792831 \t검증 세트 정확도: 99.762%\n",
      "Epoch: 0082 cost =  0.000612215 \t검증 세트 정확도: 99.762%\n",
      "Epoch: 0083 cost =  0.000978440 \t검증 세트 정확도: 99.881%\n",
      "Epoch: 0084 cost =  0.000777062 \t검증 세트 정확도: 99.762%\n",
      "Epoch: 0085 cost =  0.000555984 \t검증 세트 정확도: 99.881%\n",
      "Epoch: 0086 cost =  0.000903081 \t검증 세트 정확도: 99.762%\n",
      "Epoch: 0087 cost =  0.000730069 \t검증 세트 정확도: 99.762%\n",
      "Epoch: 0088 cost =  0.000529614 \t검증 세트 정확도: 99.881%\n",
      "Epoch: 0089 cost =  0.000587621 \t검증 세트 정확도: 99.881%\n",
      "Epoch: 0090 cost =  0.000748740 \t검증 세트 정확도: 99.881%\n",
      "Epoch: 0091 cost =  0.000569217 \t검증 세트 정확도: 99.881%\n",
      "Epoch: 0092 cost =  0.000653239 \t검증 세트 정확도: 99.881%\n",
      "Epoch: 0093 cost =  0.000599585 \t검증 세트 정확도: 99.881%\n",
      "Epoch: 0094 cost =  0.000460101 \t검증 세트 정확도: 99.762%\n",
      "Epoch: 0095 cost =  0.000505280 \t검증 세트 정확도: 99.881%\n",
      "Epoch: 0096 cost =  0.000613057 \t검증 세트 정확도: 99.524%\n",
      "Epoch: 0097 cost =  0.000649202 \t검증 세트 정확도: 99.881%\n",
      "Epoch: 0098 cost =  0.000709578 \t검증 세트 정확도: 99.881%\n",
      "Epoch: 0099 cost =  0.000735139 \t검증 세트 정확도: 99.881%\n"
     ]
    },
    {
     "data": {
      "text/plain": [
       "'../../model/Dense/dense_model'"
      ]
     },
     "execution_count": 25,
     "metadata": {},
     "output_type": "execute_result"
    }
   ],
   "source": [
    "#original \n",
    "batch_size = 32\n",
    "cost_history = np.empty(shape=[1], dtype=float)\n",
    "with tf.device(\"/gpu:0\"):\n",
    "    for epoch in range(1,100):\n",
    "        avg_cost = 0    \n",
    "#    total_batch = int(X_train.shape[0] / batch_size)\n",
    "        for i in range( int(math.ceil(len(X_train)/batch_size)) ): # 배치 사이즈로 나눈 나머지 다 돌 수 있게 \n",
    "            x_ = X_train[batch_size * i: batch_size * (i + 1)]\n",
    "            y_ = y_train[batch_size * i: batch_size * (i + 1)]\n",
    "            feed_dict={X:x_, Y:y_, keep_prob:0.6}    \n",
    "            c, _ = sess.run([cost, optimizer], feed_dict=feed_dict)\n",
    "            cost_history = np.append(cost_history,cost)\n",
    "            avg_cost += c\n",
    "            #accuracy_val = sess.run([accuracy], feed_dict={X:X_val, Y:y_val\n",
    "        val_pred = sess.run(tf.argmax(logits,1),feed_dict={X: X_val , keep_prob:1})  \n",
    "        val_true = sess.run(tf.argmax(y_val,1))\n",
    "        accuracy_val = accuracy_score(val_pred, val_true)\n",
    "        print('Epoch:', '%04d' % (epoch), 'cost = ', '{:.9f}'.format(avg_cost / len(X_train)), \"\\t검증 세트 정확도: {:.3f}%\".format(accuracy_val * 100),)\n",
    "saver.save(sess, model_path)"
   ]
  },
  {
   "cell_type": "markdown",
   "metadata": {},
   "source": [
    "## Prediction"
   ]
  },
  {
   "cell_type": "code",
   "execution_count": 26,
   "metadata": {},
   "outputs": [],
   "source": [
    "y_pred = sess.run(tf.argmax(logits,1),feed_dict={X: X_test , keep_prob:1}) \n",
    "y_true = sess.run(tf.argmax(y_test,1))"
   ]
  },
  {
   "cell_type": "code",
   "execution_count": 27,
   "metadata": {},
   "outputs": [
    {
     "name": "stdout",
     "output_type": "stream",
     "text": [
      "F-Score: 0.998\n",
      "Accuracy:  0.9980952380952381\n",
      "              precision    recall  f1-score   support\n",
      "\n",
      "           0       1.00      1.00      1.00       447\n",
      "           1       1.00      1.00      1.00       603\n",
      "\n",
      "   micro avg       1.00      1.00      1.00      1050\n",
      "   macro avg       1.00      1.00      1.00      1050\n",
      "weighted avg       1.00      1.00      1.00      1050\n",
      "\n",
      "[[445   2]\n",
      " [  0 603]]\n"
     ]
    }
   ],
   "source": [
    "# Ptint Result\n",
    "\n",
    "from sklearn.metrics import precision_recall_fscore_support\n",
    "p,r,f,s = precision_recall_fscore_support(y_true, y_pred, average='micro')\n",
    "print(\"F-Score:\", round(f,3))\n",
    "from sklearn.metrics import accuracy_score\n",
    "print(\"Accuracy: \", accuracy_score(y_true, y_pred))\n",
    "\n",
    "from sklearn.metrics import classification_report\n",
    "print(classification_report(y_true, y_pred))\n",
    "from sklearn.metrics import confusion_matrix\n",
    "print(confusion_matrix(y_true, y_pred))"
   ]
  },
  {
   "cell_type": "code",
   "execution_count": null,
   "metadata": {},
   "outputs": [],
   "source": []
  }
 ],
 "metadata": {
  "kernelspec": {
   "display_name": "Python 3",
   "language": "python",
   "name": "python3"
  },
  "language_info": {
   "codemirror_mode": {
    "name": "ipython",
    "version": 3
   },
   "file_extension": ".py",
   "mimetype": "text/x-python",
   "name": "python",
   "nbconvert_exporter": "python",
   "pygments_lexer": "ipython3",
   "version": "3.6.7"
  }
 },
 "nbformat": 4,
 "nbformat_minor": 2
}
