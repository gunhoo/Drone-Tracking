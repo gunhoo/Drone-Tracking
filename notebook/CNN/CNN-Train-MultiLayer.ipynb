{
 "cells": [
  {
   "cell_type": "code",
   "execution_count": 1,
   "metadata": {
    "scrolled": true
   },
   "outputs": [],
   "source": [
    "import matplotlib.pyplot as plt\n",
    "%matplotlib inline\n",
    "import IPython.display\n",
    "import librosa.display\n",
    "import numpy as np\n",
    "import librosa\n",
    "import tensorflow as tf\n",
    "import glob"
   ]
  },
  {
   "cell_type": "markdown",
   "metadata": {},
   "source": [
    "### If you have been save the data, you don't have to preprocessing and save the data"
   ]
  },
  {
   "cell_type": "code",
   "execution_count": 2,
   "metadata": {},
   "outputs": [],
   "source": [
    "drone_path = '../../data/drone/*.wav'\n",
    "background_path = '../../data/background/*.wav'\n",
    "\n",
    "drone_files = glob.glob(drone_path)\n",
    "background_files = glob.glob(background_path)"
   ]
  },
  {
   "cell_type": "code",
   "execution_count": 3,
   "metadata": {},
   "outputs": [],
   "source": [
    "CHUNK_SIZE = 8192\n",
    "SR = 44100\n",
    "N_MFCC = 16"
   ]
  },
  {
   "cell_type": "code",
   "execution_count": 4,
   "metadata": {},
   "outputs": [],
   "source": [
    "def load(files, sr=44100):\n",
    "    [raw, sr] = librosa.load(files[0], sr=sr)\n",
    "    for f in files[1:]:\n",
    "        [array, sr] = librosa.load(f, sr=sr)\n",
    "        raw = np.hstack((raw, array))\n",
    "    print(raw.shape)\n",
    "    return raw"
   ]
  },
  {
   "cell_type": "code",
   "execution_count": 5,
   "metadata": {},
   "outputs": [
    {
     "name": "stdout",
     "output_type": "stream",
     "text": [
      "(22813237,)\n",
      "(20257033,)\n"
     ]
    }
   ],
   "source": [
    "drone_raw = load(drone_files)\n",
    "background_raw = load(background_files)"
   ]
  },
  {
   "cell_type": "markdown",
   "metadata": {},
   "source": [
    "# Data Processing"
   ]
  },
  {
   "cell_type": "code",
   "execution_count": 6,
   "metadata": {},
   "outputs": [],
   "source": [
    "def mfcc4(raw, label, chunk_size=8192, window_size=4096, sr=44100, n_mfcc=16, n_frame=16):\n",
    "    mfcc = np.empty((0, n_mfcc, n_frame))\n",
    "    y = []\n",
    "    print(raw.shape)\n",
    "    for i in range(0, len(raw), chunk_size//2):\n",
    "        mfcc_slice = librosa.feature.mfcc(raw[i:i+chunk_size], sr=sr, n_mfcc=n_mfcc) #n_mfcc,17\n",
    "        if mfcc_slice.shape[1] < 17:\n",
    "            print(\"small end:\", mfcc_slice.shape)\n",
    "            continue\n",
    "        mfcc_slice = mfcc_slice[:,:-1]\n",
    "        mfcc_slice = mfcc_slice.reshape((1, mfcc_slice.shape[0], mfcc_slice.shape[1]))\n",
    "        mfcc = np.vstack((mfcc, mfcc_slice))\n",
    "        y.append(label)\n",
    "    y = np.array(y)\n",
    "    return mfcc, y"
   ]
  },
  {
   "cell_type": "code",
   "execution_count": 7,
   "metadata": {},
   "outputs": [
    {
     "name": "stdout",
     "output_type": "stream",
     "text": [
      "(22813237,)\n",
      "small end: (16, 14)\n",
      "small end: (16, 6)\n",
      "(20257033,)\n",
      "small end: (16, 13)\n",
      "small end: (16, 5)\n",
      "(5568, 16, 16) (5568,)\n",
      "(4944, 16, 16) (4944,)\n"
     ]
    }
   ],
   "source": [
    "mfcc_drone, y_drone = mfcc4(drone_raw, 1)\n",
    "mfcc_background, y_background = mfcc4(background_raw, 0)\n",
    "\n",
    "print(mfcc_drone.shape, y_drone.shape)\n",
    "print(mfcc_background.shape, y_background.shape)"
   ]
  },
  {
   "cell_type": "code",
   "execution_count": 8,
   "metadata": {},
   "outputs": [
    {
     "name": "stdout",
     "output_type": "stream",
     "text": [
      "(10512, 16, 16) (10512,)\n"
     ]
    }
   ],
   "source": [
    "X = np.concatenate((mfcc_drone, mfcc_background), axis=0)\n",
    "#X = np.concatenate((mfcc_drone), axis=0)\n",
    "#X = X.reshape(-1, 16,16,1)\n",
    "y = np.hstack((y_drone, y_background))\n",
    "#y = np.hstack(y_drone)\n",
    "print(X.shape, y.shape)"
   ]
  },
  {
   "cell_type": "code",
   "execution_count": 9,
   "metadata": {},
   "outputs": [
    {
     "name": "stdout",
     "output_type": "stream",
     "text": [
      "(10512, 2)\n"
     ]
    }
   ],
   "source": [
    "n_labels = y.shape[0]\n",
    "n_unique_labels = 2\n",
    "y_encoded = np.zeros((n_labels, n_unique_labels))\n",
    "y_encoded[np.arange(n_labels), y] = 1\n",
    "print(y_encoded.shape)"
   ]
  },
  {
   "cell_type": "code",
   "execution_count": 10,
   "metadata": {},
   "outputs": [],
   "source": [
    "# Split data\n",
    "from sklearn import model_selection\n",
    "X_train, X_test, y_train, y_test = model_selection.train_test_split(X, y_encoded, test_size=0.2, random_state=42)\n",
    "X_train, X_val, y_train, y_val = model_selection.train_test_split(X_train, y_train, test_size=0.2, random_state=42)"
   ]
  },
  {
   "cell_type": "code",
   "execution_count": 11,
   "metadata": {},
   "outputs": [
    {
     "name": "stdout",
     "output_type": "stream",
     "text": [
      "(6727, 16, 16) (2103, 16, 16)\n",
      "(1682, 16, 16) (1682, 2)\n",
      "(6727, 2) (2103, 2)\n"
     ]
    }
   ],
   "source": [
    "print(X_train.shape, X_test.shape)\n",
    "print(X_val.shape, y_val.shape)\n",
    "print(y_train.shape, y_test.shape)"
   ]
  },
  {
   "cell_type": "code",
   "execution_count": 12,
   "metadata": {},
   "outputs": [],
   "source": [
    "# Save Data\n",
    "np.save('../../data/X_train', X_train)\n",
    "np.save('../../data/X_test', X_test)\n",
    "np.save('../../model/X_val', X_val)\n",
    "np.save('../../model/y_val', y_val)\n",
    "np.save('../../data/y_train', y_train)\n",
    "np.save('../../data/y_test', y_test)"
   ]
  },
  {
   "cell_type": "markdown",
   "metadata": {},
   "source": [
    "### Until this part"
   ]
  },
  {
   "cell_type": "code",
   "execution_count": 13,
   "metadata": {},
   "outputs": [],
   "source": [
    "# Load Data\n",
    "X_train = np.load('../../data/X_train.npy')\n",
    "X_test = np.load('../../data/X_test.npy')\n",
    "X_val = np.load('../../model/X_val.npy')\n",
    "y_val = np.load('../../model/y_val.npy')\n",
    "y_train = np.load('../../data/y_train.npy')\n",
    "y_test = np.load('../../data/y_test.npy')"
   ]
  },
  {
   "cell_type": "markdown",
   "metadata": {},
   "source": [
    "# Experiment 3 - One convolutional layer /w no dropout"
   ]
  },
  {
   "cell_type": "markdown",
   "metadata": {},
   "source": [
    "##Experiment 3-2\n",
    "- learning rate 0.005\n",
    "- pooling stride 1x1\n",
    "- #filter 1\n",
    "- best result among every other settings\n",
    "- cost kept fluctuated during training. (0.8 -> 1.3) -- why is that?"
   ]
  },
  {
   "cell_type": "code",
   "execution_count": 14,
   "metadata": {},
   "outputs": [],
   "source": [
    "tf.reset_default_graph()"
   ]
  },
  {
   "cell_type": "code",
   "execution_count": 15,
   "metadata": {},
   "outputs": [],
   "source": [
    "n_mfcc = 16\n",
    "n_frame = 16\n",
    "n_classes = 2\n",
    "n_channels = 1\n",
    "\n",
    "learning_rate = 0.0002  # 0.005\n",
    "training_epochs = 500 # 수정해봐"
   ]
  },
  {
   "cell_type": "markdown",
   "metadata": {},
   "source": [
    "# Layer"
   ]
  },
  {
   "cell_type": "code",
   "execution_count": 16,
   "metadata": {},
   "outputs": [],
   "source": [
    "X = tf.placeholder(tf.float32, shape=[None,n_mfcc*n_frame*n_channels])\n",
    "X = tf.reshape(X, [-1, n_mfcc, n_frame, n_channels])\n",
    "Y = tf.placeholder(tf.float32, shape=[None,n_classes])\n",
    "\n",
    "conv1 = tf.layers.conv2d(inputs=X, filters=1, kernel_size=[3, 3],\n",
    "                         padding=\"SAME\", activation=tf.nn.relu)\n",
    "pool1 = tf.layers.max_pooling2d(inputs=conv1, pool_size=[2, 2],\n",
    "                                padding=\"SAME\", strides=1)\n",
    "# dropout넣어야하나\n",
    "conv2 = tf.layers.conv2d(inputs=pool1, filters=1, kernel_size=[3, 3],\n",
    "                         padding=\"SAME\", activation=tf.nn.relu)\n",
    "pool2 = tf.layers.max_pooling2d(inputs=conv2, pool_size=[2, 2],\n",
    "                                padding=\"SAME\", strides=1)\n",
    "# 여기도\n",
    "flat = tf.reshape(pool2, [-1, 16*16*1])\n",
    "dense2 = tf.layers.dense(inputs=flat, units=625, activation=tf.nn.relu)\n",
    "logits = tf.layers.dense(inputs=dense2, units=2)"
   ]
  },
  {
   "cell_type": "code",
   "execution_count": 17,
   "metadata": {},
   "outputs": [],
   "source": [
    "cost = tf.reduce_mean(tf.nn.softmax_cross_entropy_with_logits_v2(logits=logits, labels=Y))\n",
    "optimizer = tf.train.AdamOptimizer(learning_rate=learning_rate).minimize(cost)"
   ]
  },
  {
   "cell_type": "code",
   "execution_count": 18,
   "metadata": {},
   "outputs": [],
   "source": [
    "Y_pred = tf.contrib.layers.fully_connected(logits,n_classes,activation_fn = None)"
   ]
  },
  {
   "cell_type": "code",
   "execution_count": 19,
   "metadata": {},
   "outputs": [],
   "source": [
    "sess = tf.Session()\n",
    "sess.run(tf.global_variables_initializer())"
   ]
  },
  {
   "cell_type": "code",
   "execution_count": 20,
   "metadata": {},
   "outputs": [],
   "source": [
    "X_train2 = X_train.reshape(X_train.shape[0], X_train.shape[1], X_train.shape[2], 1)\n",
    "X_test2 = X_test.reshape(X_test.shape[0], X_test.shape[1], X_test.shape[2], 1)\n",
    "X_val2 = X_val.reshape(X_val.shape[0], X_val.shape[1], X_val.shape[2], 1)"
   ]
  },
  {
   "cell_type": "code",
   "execution_count": 21,
   "metadata": {},
   "outputs": [],
   "source": [
    "# model save\n",
    "model_path = '../../model/CNN/cnn_model'\n",
    "saver = tf.train.Saver()"
   ]
  },
  {
   "cell_type": "markdown",
   "metadata": {},
   "source": [
    "# Trainning"
   ]
  },
  {
   "cell_type": "code",
   "execution_count": 22,
   "metadata": {},
   "outputs": [],
   "source": [
    "from sklearn.metrics import precision_recall_fscore_support\n",
    "from sklearn.metrics import accuracy_score\n",
    "from sklearn.metrics import classification_report\n",
    "from sklearn.metrics import confusion_matrix\n",
    "import itertools as it"
   ]
  },
  {
   "cell_type": "code",
   "execution_count": 23,
   "metadata": {
    "scrolled": false
   },
   "outputs": [
    {
     "name": "stdout",
     "output_type": "stream",
     "text": [
      "1682 Epoch: 0001 cost =  2.776207676 val =  0.960761\n",
      "1682 Epoch: 0002 cost =  0.205617780 val =  0.964328\n",
      "1682 Epoch: 0003 cost =  0.162430421 val =  0.976813\n",
      "1682 Epoch: 0004 cost =  0.185757574 val =  0.980380\n",
      "1682 Epoch: 0005 cost =  0.178073363 val =  0.958977\n",
      "1682 Epoch: 0006 cost =  0.201009900 val =  0.969679\n",
      "1682 Epoch: 0007 cost =  0.166507518 val =  0.978002\n",
      "1682 Epoch: 0008 cost =  0.193725958 val =  0.987515\n",
      "1682 Epoch: 0009 cost =  0.137854683 val =  0.986920\n",
      "1682 Epoch: 0010 cost =  0.142151556 val =  0.970273\n",
      "1682 Epoch: 0011 cost =  0.188005917 val =  0.986326\n",
      "1682 Epoch: 0012 cost =  0.112348739 val =  0.986920\n",
      "1682 Epoch: 0013 cost =  0.090218548 val =  0.988109\n",
      "1682 Epoch: 0014 cost =  0.076901870 val =  0.991677\n",
      "1682 Epoch: 0015 cost =  0.063762991 val =  0.985731\n",
      "1682 Epoch: 0016 cost =  0.059946184 val =  0.986920\n",
      "1682 Epoch: 0017 cost =  0.054682031 val =  0.987515\n",
      "1682 Epoch: 0018 cost =  0.054143201 val =  0.984542\n",
      "1682 Epoch: 0019 cost =  0.053038884 val =  0.986326\n",
      "1682 Epoch: 0020 cost =  0.054693152 val =  0.994055\n",
      "1682 Epoch: 0021 cost =  0.058550016 val =  0.994649\n",
      "1682 Epoch: 0022 cost =  0.063962467 val =  0.983353\n",
      "1682 Epoch: 0023 cost =  0.068695243 val =  0.995244\n",
      "1682 Epoch: 0024 cost =  0.045752359 val =  0.995838\n",
      "1682 Epoch: 0025 cost =  0.038683400 val =  0.994055\n",
      "1682 Epoch: 0026 cost =  0.062363963 val =  0.991082\n",
      "1682 Epoch: 0027 cost =  0.039540572 val =  0.973841\n",
      "1682 Epoch: 0028 cost =  0.032209843 val =  0.982759\n",
      "1682 Epoch: 0029 cost =  0.034540957 val =  0.976219\n",
      "1682 Epoch: 0030 cost =  0.030571107 val =  0.995838\n",
      "1682 Epoch: 0031 cost =  0.025454738 val =  0.987515\n",
      "1682 Epoch: 0032 cost =  0.034689656 val =  0.985137\n",
      "1682 Epoch: 0033 cost =  0.045451363 val =  0.986920\n",
      "1682 Epoch: 0034 cost =  0.037869829 val =  0.987515\n",
      "1682 Epoch: 0035 cost =  0.025896077 val =  0.996433\n",
      "1682 Epoch: 0036 cost =  0.027757502 val =  0.988704\n",
      "1682 Epoch: 0037 cost =  0.040033743 val =  0.993460\n",
      "1682 Epoch: 0038 cost =  0.024401447 val =  0.996433\n",
      "1682 Epoch: 0039 cost =  0.023429130 val =  0.994649\n",
      "1682 Epoch: 0040 cost =  0.019595155 val =  0.995244\n",
      "1682 Epoch: 0041 cost =  0.025684335 val =  0.979191\n",
      "1682 Epoch: 0042 cost =  0.026401342 val =  0.995244\n",
      "1682 Epoch: 0043 cost =  0.018862255 val =  0.989893\n",
      "1682 Epoch: 0044 cost =  0.023646004 val =  0.982759\n",
      "1682 Epoch: 0045 cost =  0.024261305 val =  0.995244\n",
      "1682 Epoch: 0046 cost =  0.020175026 val =  0.993460\n",
      "1682 Epoch: 0047 cost =  0.019501589 val =  0.996433\n",
      "1682 Epoch: 0048 cost =  0.019677692 val =  0.994649\n",
      "1682 Epoch: 0049 cost =  0.018564745 val =  0.995244\n",
      "1682 Epoch: 0050 cost =  0.035206994 val =  0.995244\n",
      "1682 Epoch: 0051 cost =  0.025235342 val =  0.994649\n",
      "1682 Epoch: 0052 cost =  0.028597761 val =  0.995838\n",
      "1682 Epoch: 0053 cost =  0.020300351 val =  0.995838\n",
      "1682 Epoch: 0054 cost =  0.018067399 val =  0.995838\n",
      "1682 Epoch: 0055 cost =  0.017053123 val =  0.994649\n",
      "1682 Epoch: 0056 cost =  0.018002973 val =  0.994055\n",
      "1682 Epoch: 0057 cost =  0.015882312 val =  0.994055\n",
      "1682 Epoch: 0058 cost =  0.013586588 val =  0.994055\n",
      "1682 Epoch: 0059 cost =  0.009366345 val =  0.995838\n",
      "1682 Epoch: 0060 cost =  0.006671724 val =  0.995838\n",
      "1682 Epoch: 0061 cost =  0.004860677 val =  0.996433\n",
      "1682 Epoch: 0062 cost =  0.004900950 val =  0.995838\n",
      "1682 Epoch: 0063 cost =  0.003450332 val =  0.995838\n",
      "1682 Epoch: 0064 cost =  0.003718192 val =  0.995838\n",
      "1682 Epoch: 0065 cost =  0.002851019 val =  0.995838\n",
      "1682 Epoch: 0066 cost =  0.002330975 val =  0.996433\n",
      "1682 Epoch: 0067 cost =  0.004416510 val =  0.994055\n",
      "1682 Epoch: 0068 cost =  0.002914899 val =  0.994649\n",
      "1682 Epoch: 0069 cost =  0.005687770 val =  0.991082\n",
      "1682 Epoch: 0070 cost =  0.019276891 val =  0.992866\n",
      "1682 Epoch: 0071 cost =  0.004841622 val =  0.995838\n",
      "1682 Epoch: 0072 cost =  0.004110768 val =  0.994649\n",
      "1682 Epoch: 0073 cost =  0.001715552 val =  0.994649\n",
      "1682 Epoch: 0074 cost =  0.010716931 val =  0.995244\n",
      "1682 Epoch: 0075 cost =  0.003944326 val =  0.994055\n",
      "1682 Epoch: 0076 cost =  0.002656847 val =  0.993460\n",
      "1682 Epoch: 0077 cost =  0.006411263 val =  0.991082\n",
      "1682 Epoch: 0078 cost =  0.019865141 val =  0.994055\n",
      "1682 Epoch: 0079 cost =  0.004480629 val =  0.992271\n",
      "1682 Epoch: 0080 cost =  0.003065792 val =  0.995244\n",
      "1682 Epoch: 0081 cost =  0.001318521 val =  0.994649\n",
      "1682 Epoch: 0082 cost =  0.001070917 val =  0.994649\n",
      "1682 Epoch: 0083 cost =  0.002586501 val =  0.994055\n",
      "1682 Epoch: 0084 cost =  0.002163053 val =  0.994649\n",
      "1682 Epoch: 0085 cost =  0.003122633 val =  0.993460\n",
      "1682 Epoch: 0086 cost =  0.004842383 val =  0.991677\n",
      "1682 Epoch: 0087 cost =  0.006479891 val =  0.994055\n",
      "1682 Epoch: 0088 cost =  0.001231655 val =  0.995244\n",
      "1682 Epoch: 0089 cost =  0.005996388 val =  0.994649\n",
      "1682 Epoch: 0090 cost =  0.003176445 val =  0.995244\n",
      "1682 Epoch: 0091 cost =  0.002908732 val =  0.995244\n",
      "1682 Epoch: 0092 cost =  0.001299613 val =  0.995244\n",
      "1682 Epoch: 0093 cost =  0.000881544 val =  0.994649\n",
      "1682 Epoch: 0094 cost =  0.001755761 val =  0.995838\n",
      "1682 Epoch: 0095 cost =  0.000297735 val =  0.994649\n",
      "1682 Epoch: 0096 cost =  0.000227557 val =  0.994055\n",
      "1682 Epoch: 0097 cost =  0.000094873 val =  0.994055\n",
      "1682 Epoch: 0098 cost =  0.000067421 val =  0.994649\n",
      "1682 Epoch: 0099 cost =  0.000054087 val =  0.994649\n",
      "1682 Epoch: 0100 cost =  0.000047387 val =  0.994649\n",
      "1682 Epoch: 0101 cost =  0.000042376 val =  0.994649\n",
      "1682 Epoch: 0102 cost =  0.000039028 val =  0.995244\n",
      "1682 Epoch: 0103 cost =  0.000034838 val =  0.995244\n",
      "1682 Epoch: 0104 cost =  0.000032457 val =  0.995244\n",
      "1682 Epoch: 0105 cost =  0.000030089 val =  0.995244\n",
      "1682 Epoch: 0106 cost =  0.000028146 val =  0.995244\n",
      "1682 Epoch: 0107 cost =  0.000026343 val =  0.995244\n",
      "1682 Epoch: 0108 cost =  0.000024711 val =  0.995244\n",
      "1682 Epoch: 0109 cost =  0.000023450 val =  0.995244\n",
      "1682 Epoch: 0110 cost =  0.000021780 val =  0.995244\n",
      "1682 Epoch: 0111 cost =  0.000020207 val =  0.995244\n",
      "1682 Epoch: 0112 cost =  0.000019251 val =  0.995244\n",
      "1682 Epoch: 0113 cost =  0.000018053 val =  0.995244\n",
      "1682 Epoch: 0114 cost =  0.000017048 val =  0.995244\n",
      "1682 Epoch: 0115 cost =  0.000015972 val =  0.995244\n",
      "1682 Epoch: 0116 cost =  0.000014681 val =  0.995244\n",
      "1682 Epoch: 0117 cost =  0.000013859 val =  0.995244\n",
      "1682 Epoch: 0118 cost =  0.000013044 val =  0.995244\n",
      "1682 Epoch: 0119 cost =  0.000012226 val =  0.995244\n",
      "1682 Epoch: 0120 cost =  0.000011101 val =  0.995244\n",
      "1682 Epoch: 0121 cost =  0.000010398 val =  0.995244\n",
      "1682 Epoch: 0122 cost =  0.000009450 val =  0.994649\n",
      "1682 Epoch: 0123 cost =  0.000008650 val =  0.994649\n",
      "1682 Epoch: 0124 cost =  0.000007945 val =  0.994649\n",
      "1682 Epoch: 0125 cost =  0.000007247 val =  0.994649\n",
      "1682 Epoch: 0126 cost =  0.000006788 val =  0.994649\n",
      "1682 Epoch: 0127 cost =  0.000006153 val =  0.994649\n",
      "1682 Epoch: 0128 cost =  0.000005599 val =  0.994649\n",
      "1682 Epoch: 0129 cost =  0.000005115 val =  0.994649\n",
      "1682 Epoch: 0130 cost =  0.000004758 val =  0.994649\n",
      "1682 Epoch: 0131 cost =  0.000004264 val =  0.994649\n",
      "1682 Epoch: 0132 cost =  0.000003877 val =  0.994649\n",
      "1682 Epoch: 0133 cost =  0.000003479 val =  0.994649\n",
      "1682 Epoch: 0134 cost =  0.000003211 val =  0.994649\n",
      "1682 Epoch: 0135 cost =  0.000002786 val =  0.994649\n",
      "1682 Epoch: 0136 cost =  0.000002607 val =  0.994649\n",
      "1682 Epoch: 0137 cost =  0.000002278 val =  0.994649\n",
      "1682 Epoch: 0138 cost =  0.000002069 val =  0.994649\n",
      "1682 Epoch: 0139 cost =  0.000001826 val =  0.994649\n",
      "1682 Epoch: 0140 cost =  0.000001689 val =  0.994649\n",
      "1682 Epoch: 0141 cost =  0.000001438 val =  0.994649\n",
      "1682 Epoch: 0142 cost =  0.000001300 val =  0.994649\n",
      "1682 Epoch: 0143 cost =  0.000001181 val =  0.994649\n",
      "1682 Epoch: 0144 cost =  0.000001073 val =  0.994649\n",
      "1682 Epoch: 0145 cost =  0.000000942 val =  0.994649\n",
      "1682 Epoch: 0146 cost =  0.000000837 val =  0.994649\n",
      "1682 Epoch: 0147 cost =  0.000000779 val =  0.994649\n",
      "1682 Epoch: 0148 cost =  0.000000682 val =  0.994649\n",
      "1682 Epoch: 0149 cost =  0.000000608 val =  0.994649\n",
      "1682 Epoch: 0150 cost =  0.000000556 val =  0.994055\n",
      "1682 Epoch: 0151 cost =  0.000000497 val =  0.994649\n",
      "1682 Epoch: 0152 cost =  0.000000443 val =  0.994649\n",
      "1682 Epoch: 0153 cost =  0.000000406 val =  0.994649\n",
      "1682 Epoch: 0154 cost =  0.000000356 val =  0.994649\n",
      "1682 Epoch: 0155 cost =  0.000000309 val =  0.994649\n"
     ]
    },
    {
     "name": "stdout",
     "output_type": "stream",
     "text": [
      "1682 Epoch: 0156 cost =  0.000000279 val =  0.994649\n",
      "1682 Epoch: 0157 cost =  0.000000250 val =  0.994649\n",
      "1682 Epoch: 0158 cost =  0.000000221 val =  0.994649\n",
      "1682 Epoch: 0159 cost =  0.000000195 val =  0.994649\n",
      "1682 Epoch: 0160 cost =  0.000000175 val =  0.994649\n",
      "1682 Epoch: 0161 cost =  0.000000148 val =  0.994649\n",
      "1682 Epoch: 0162 cost =  0.000000133 val =  0.994649\n",
      "1682 Epoch: 0163 cost =  0.000000117 val =  0.994649\n",
      "1682 Epoch: 0164 cost =  0.000000105 val =  0.994649\n",
      "1682 Epoch: 0165 cost =  0.000000094 val =  0.994649\n",
      "1682 Epoch: 0166 cost =  0.000000084 val =  0.994649\n",
      "1682 Epoch: 0167 cost =  0.000000075 val =  0.994649\n",
      "1682 Epoch: 0168 cost =  0.000000068 val =  0.994649\n",
      "1682 Epoch: 0169 cost =  0.000000062 val =  0.994649\n",
      "1682 Epoch: 0170 cost =  0.000000054 val =  0.995244\n",
      "1682 Epoch: 0171 cost =  0.000000050 val =  0.995244\n",
      "1682 Epoch: 0172 cost =  0.000000044 val =  0.995244\n",
      "1682 Epoch: 0173 cost =  0.000000041 val =  0.995244\n",
      "1682 Epoch: 0174 cost =  0.000000036 val =  0.995244\n",
      "1682 Epoch: 0175 cost =  0.000000033 val =  0.995244\n",
      "1682 Epoch: 0176 cost =  0.000000029 val =  0.995244\n",
      "1682 Epoch: 0177 cost =  0.000000026 val =  0.995244\n",
      "1682 Epoch: 0178 cost =  0.000000024 val =  0.995244\n",
      "1682 Epoch: 0179 cost =  0.000000021 val =  0.995244\n",
      "1682 Epoch: 0180 cost =  0.000000019 val =  0.995244\n",
      "1682 Epoch: 0181 cost =  0.000000017 val =  0.995244\n",
      "1682 Epoch: 0182 cost =  0.000000015 val =  0.995244\n",
      "1682 Epoch: 0183 cost =  0.000000013 val =  0.995244\n",
      "1682 Epoch: 0184 cost =  0.000000012 val =  0.995244\n",
      "1682 Epoch: 0185 cost =  0.000000010 val =  0.995244\n",
      "1682 Epoch: 0186 cost =  0.000000010 val =  0.995244\n",
      "1682 Epoch: 0187 cost =  0.000000009 val =  0.995244\n",
      "1682 Epoch: 0188 cost =  0.000000008 val =  0.995244\n",
      "1682 Epoch: 0189 cost =  0.000000007 val =  0.995244\n",
      "1682 Epoch: 0190 cost =  0.000000006 val =  0.995244\n",
      "1682 Epoch: 0191 cost =  0.000000006 val =  0.994649\n",
      "1682 Epoch: 0192 cost =  0.000000005 val =  0.994649\n",
      "1682 Epoch: 0193 cost =  0.000000004 val =  0.994649\n",
      "1682 Epoch: 0194 cost =  0.000000004 val =  0.994649\n",
      "1682 Epoch: 0195 cost =  0.000000004 val =  0.994649\n",
      "1682 Epoch: 0196 cost =  0.000000003 val =  0.994649\n",
      "1682 Epoch: 0197 cost =  0.000000003 val =  0.994649\n",
      "1682 Epoch: 0198 cost =  0.000000003 val =  0.994649\n",
      "1682 Epoch: 0199 cost =  0.000000002 val =  0.994649\n",
      "1682 Epoch: 0200 cost =  0.000000002 val =  0.994649\n",
      "1682 Epoch: 0201 cost =  0.000000002 val =  0.995244\n",
      "1682 Epoch: 0202 cost =  0.000000002 val =  0.995244\n",
      "1682 Epoch: 0203 cost =  0.000000002 val =  0.995244\n",
      "1682 Epoch: 0204 cost =  0.101375752 val =  0.991677\n",
      "1682 Epoch: 0205 cost =  0.028407537 val =  0.992866\n",
      "1682 Epoch: 0206 cost =  0.001616212 val =  0.992866\n",
      "1682 Epoch: 0207 cost =  0.002222422 val =  0.992866\n",
      "1682 Epoch: 0208 cost =  0.000073583 val =  0.992271\n",
      "1682 Epoch: 0209 cost =  0.000046136 val =  0.992866\n",
      "1682 Epoch: 0210 cost =  0.000030748 val =  0.992866\n",
      "1682 Epoch: 0211 cost =  0.000024965 val =  0.992866\n",
      "1682 Epoch: 0212 cost =  0.000020941 val =  0.992866\n",
      "1682 Epoch: 0213 cost =  0.000018735 val =  0.992866\n",
      "1682 Epoch: 0214 cost =  0.000016488 val =  0.992866\n",
      "1682 Epoch: 0215 cost =  0.000014795 val =  0.992866\n",
      "1682 Epoch: 0216 cost =  0.000013558 val =  0.992866\n",
      "1682 Epoch: 0217 cost =  0.000012310 val =  0.992866\n",
      "1682 Epoch: 0218 cost =  0.000011402 val =  0.992866\n",
      "1682 Epoch: 0219 cost =  0.000010347 val =  0.992866\n",
      "1682 Epoch: 0220 cost =  0.000009626 val =  0.992866\n",
      "1682 Epoch: 0221 cost =  0.000008952 val =  0.992866\n",
      "1682 Epoch: 0222 cost =  0.000008246 val =  0.992866\n",
      "1682 Epoch: 0223 cost =  0.000007711 val =  0.992866\n",
      "1682 Epoch: 0224 cost =  0.000007167 val =  0.992866\n",
      "1682 Epoch: 0225 cost =  0.000006738 val =  0.992866\n",
      "1682 Epoch: 0226 cost =  0.000006309 val =  0.992271\n",
      "1682 Epoch: 0227 cost =  0.000005947 val =  0.992271\n",
      "1682 Epoch: 0228 cost =  0.000005560 val =  0.992271\n",
      "1682 Epoch: 0229 cost =  0.000005232 val =  0.992271\n",
      "1682 Epoch: 0230 cost =  0.000004883 val =  0.992271\n",
      "1682 Epoch: 0231 cost =  0.000004563 val =  0.992271\n",
      "1682 Epoch: 0232 cost =  0.000004283 val =  0.992271\n",
      "1682 Epoch: 0233 cost =  0.000004009 val =  0.992271\n",
      "1682 Epoch: 0234 cost =  0.000003743 val =  0.992271\n",
      "1682 Epoch: 0235 cost =  0.000003483 val =  0.992271\n",
      "1682 Epoch: 0236 cost =  0.000003272 val =  0.992271\n",
      "1682 Epoch: 0237 cost =  0.000003040 val =  0.992271\n",
      "1682 Epoch: 0238 cost =  0.000002834 val =  0.992271\n",
      "1682 Epoch: 0239 cost =  0.000002642 val =  0.992271\n",
      "1682 Epoch: 0240 cost =  0.000002451 val =  0.992271\n",
      "1682 Epoch: 0241 cost =  0.000002288 val =  0.992271\n",
      "1682 Epoch: 0242 cost =  0.000002108 val =  0.992271\n",
      "1682 Epoch: 0243 cost =  0.000001962 val =  0.992271\n",
      "1682 Epoch: 0244 cost =  0.000001821 val =  0.992271\n",
      "1682 Epoch: 0245 cost =  0.000001680 val =  0.992271\n",
      "1682 Epoch: 0246 cost =  0.000001552 val =  0.992271\n",
      "1682 Epoch: 0247 cost =  0.000001442 val =  0.992271\n",
      "1682 Epoch: 0248 cost =  0.000001322 val =  0.992271\n",
      "1682 Epoch: 0249 cost =  0.000001229 val =  0.992271\n",
      "1682 Epoch: 0250 cost =  0.000001139 val =  0.992271\n",
      "1682 Epoch: 0251 cost =  0.000001067 val =  0.992271\n",
      "1682 Epoch: 0252 cost =  0.000000981 val =  0.992271\n",
      "1682 Epoch: 0253 cost =  0.000000912 val =  0.992271\n",
      "1682 Epoch: 0254 cost =  0.000000846 val =  0.992271\n",
      "1682 Epoch: 0255 cost =  0.000000795 val =  0.992271\n",
      "1682 Epoch: 0256 cost =  0.000000733 val =  0.992271\n",
      "1682 Epoch: 0257 cost =  0.000000688 val =  0.992271\n",
      "1682 Epoch: 0258 cost =  0.000000633 val =  0.992271\n",
      "1682 Epoch: 0259 cost =  0.000000588 val =  0.992271\n",
      "1682 Epoch: 0260 cost =  0.000000549 val =  0.992271\n",
      "1682 Epoch: 0261 cost =  0.000000512 val =  0.992271\n",
      "1682 Epoch: 0262 cost =  0.000000477 val =  0.992271\n",
      "1682 Epoch: 0263 cost =  0.000000441 val =  0.992271\n",
      "1682 Epoch: 0264 cost =  0.000000409 val =  0.992271\n",
      "1682 Epoch: 0265 cost =  0.000000375 val =  0.992271\n",
      "1682 Epoch: 0266 cost =  0.000000348 val =  0.992271\n",
      "1682 Epoch: 0267 cost =  0.000000318 val =  0.992271\n",
      "1682 Epoch: 0268 cost =  0.000000294 val =  0.992271\n",
      "1682 Epoch: 0269 cost =  0.000000269 val =  0.992271\n",
      "1682 Epoch: 0270 cost =  0.000000246 val =  0.992271\n",
      "1682 Epoch: 0271 cost =  0.000000229 val =  0.992271\n",
      "1682 Epoch: 0272 cost =  0.000000210 val =  0.992271\n",
      "1682 Epoch: 0273 cost =  0.000000194 val =  0.992271\n",
      "1682 Epoch: 0274 cost =  0.000000177 val =  0.992271\n",
      "1682 Epoch: 0275 cost =  0.000000163 val =  0.992271\n",
      "1682 Epoch: 0276 cost =  0.000000149 val =  0.992271\n",
      "1682 Epoch: 0277 cost =  0.000000136 val =  0.992271\n",
      "1682 Epoch: 0278 cost =  0.000000124 val =  0.992271\n",
      "1682 Epoch: 0279 cost =  0.000000113 val =  0.992271\n",
      "1682 Epoch: 0280 cost =  0.000000103 val =  0.992271\n",
      "1682 Epoch: 0281 cost =  0.000000096 val =  0.992271\n",
      "1682 Epoch: 0282 cost =  0.000000086 val =  0.992271\n",
      "1682 Epoch: 0283 cost =  0.000000079 val =  0.992271\n",
      "1682 Epoch: 0284 cost =  0.000000072 val =  0.992866\n",
      "1682 Epoch: 0285 cost =  0.000000065 val =  0.993460\n",
      "1682 Epoch: 0286 cost =  0.000000059 val =  0.994055\n",
      "1682 Epoch: 0287 cost =  0.000000054 val =  0.994055\n",
      "1682 Epoch: 0288 cost =  0.000000048 val =  0.994055\n",
      "1682 Epoch: 0289 cost =  0.000000044 val =  0.994055\n",
      "1682 Epoch: 0290 cost =  0.000000040 val =  0.994055\n",
      "1682 Epoch: 0291 cost =  0.000000036 val =  0.994055\n",
      "1682 Epoch: 0292 cost =  0.000000032 val =  0.994055\n",
      "1682 Epoch: 0293 cost =  0.000000029 val =  0.994055\n",
      "1682 Epoch: 0294 cost =  0.000000026 val =  0.994055\n",
      "1682 Epoch: 0295 cost =  0.000000023 val =  0.993460\n",
      "1682 Epoch: 0296 cost =  0.000000022 val =  0.994055\n",
      "1682 Epoch: 0297 cost =  0.000000019 val =  0.994055\n",
      "1682 Epoch: 0298 cost =  0.000000017 val =  0.994055\n",
      "1682 Epoch: 0299 cost =  0.000000015 val =  0.994055\n",
      "1682 Epoch: 0300 cost =  0.000000014 val =  0.993460\n",
      "1682 Epoch: 0301 cost =  0.000000013 val =  0.994055\n",
      "1682 Epoch: 0302 cost =  0.000000012 val =  0.993460\n",
      "1682 Epoch: 0303 cost =  0.000000010 val =  0.993460\n",
      "1682 Epoch: 0304 cost =  0.000000009 val =  0.992866\n",
      "1682 Epoch: 0305 cost =  0.000000008 val =  0.993460\n",
      "1682 Epoch: 0306 cost =  0.000000007 val =  0.992866\n",
      "1682 Epoch: 0307 cost =  0.000000007 val =  0.992866\n",
      "1682 Epoch: 0308 cost =  0.000000006 val =  0.992866\n",
      "1682 Epoch: 0309 cost =  0.000000005 val =  0.992866\n",
      "1682 Epoch: 0310 cost =  0.000000005 val =  0.992866\n"
     ]
    },
    {
     "name": "stdout",
     "output_type": "stream",
     "text": [
      "1682 Epoch: 0311 cost =  0.000000004 val =  0.993460\n",
      "1682 Epoch: 0312 cost =  0.000000004 val =  0.993460\n",
      "1682 Epoch: 0313 cost =  0.000000004 val =  0.993460\n",
      "1682 Epoch: 0314 cost =  0.000000003 val =  0.993460\n",
      "1682 Epoch: 0315 cost =  0.000000003 val =  0.992866\n",
      "1682 Epoch: 0316 cost =  0.000000003 val =  0.993460\n",
      "1682 Epoch: 0317 cost =  0.000000002 val =  0.993460\n",
      "1682 Epoch: 0318 cost =  0.000000002 val =  0.993460\n",
      "1682 Epoch: 0319 cost =  0.000000002 val =  0.993460\n",
      "1682 Epoch: 0320 cost =  0.000000002 val =  0.994055\n",
      "1682 Epoch: 0321 cost =  0.000000002 val =  0.993460\n",
      "1682 Epoch: 0322 cost =  0.000000001 val =  0.994055\n",
      "1682 Epoch: 0323 cost =  0.000000001 val =  0.994055\n",
      "1682 Epoch: 0324 cost =  0.000000001 val =  0.994055\n",
      "1682 Epoch: 0325 cost =  0.000000001 val =  0.994649\n",
      "1682 Epoch: 0326 cost =  0.000000001 val =  0.994649\n",
      "1682 Epoch: 0327 cost =  0.074835549 val =  0.992866\n",
      "1682 Epoch: 0328 cost =  0.046700145 val =  0.994649\n",
      "1682 Epoch: 0329 cost =  0.015635779 val =  0.995244\n",
      "1682 Epoch: 0330 cost =  0.001650053 val =  0.992866\n",
      "1682 Epoch: 0331 cost =  0.000642734 val =  0.993460\n",
      "1682 Epoch: 0332 cost =  0.000162640 val =  0.994055\n",
      "1682 Epoch: 0333 cost =  0.000072670 val =  0.994055\n",
      "1682 Epoch: 0334 cost =  0.000060327 val =  0.994055\n",
      "1682 Epoch: 0335 cost =  0.000043482 val =  0.994055\n",
      "1682 Epoch: 0336 cost =  0.000036049 val =  0.994055\n",
      "1682 Epoch: 0337 cost =  0.000031653 val =  0.994055\n",
      "1682 Epoch: 0338 cost =  0.000028755 val =  0.993460\n",
      "1682 Epoch: 0339 cost =  0.000026435 val =  0.993460\n",
      "1682 Epoch: 0340 cost =  0.000024732 val =  0.993460\n",
      "1682 Epoch: 0341 cost =  0.000023165 val =  0.993460\n",
      "1682 Epoch: 0342 cost =  0.000021707 val =  0.993460\n",
      "1682 Epoch: 0343 cost =  0.000020380 val =  0.993460\n",
      "1682 Epoch: 0344 cost =  0.000019115 val =  0.993460\n",
      "1682 Epoch: 0345 cost =  0.000017774 val =  0.993460\n",
      "1682 Epoch: 0346 cost =  0.000016531 val =  0.993460\n",
      "1682 Epoch: 0347 cost =  0.000015404 val =  0.993460\n",
      "1682 Epoch: 0348 cost =  0.000014375 val =  0.993460\n",
      "1682 Epoch: 0349 cost =  0.000013403 val =  0.993460\n",
      "1682 Epoch: 0350 cost =  0.000012488 val =  0.993460\n",
      "1682 Epoch: 0351 cost =  0.000011706 val =  0.993460\n",
      "1682 Epoch: 0352 cost =  0.000010982 val =  0.993460\n",
      "1682 Epoch: 0353 cost =  0.000010229 val =  0.993460\n",
      "1682 Epoch: 0354 cost =  0.000009560 val =  0.993460\n",
      "1682 Epoch: 0355 cost =  0.000008915 val =  0.993460\n",
      "1682 Epoch: 0356 cost =  0.000008311 val =  0.993460\n",
      "1682 Epoch: 0357 cost =  0.000007705 val =  0.993460\n",
      "1682 Epoch: 0358 cost =  0.000007186 val =  0.993460\n",
      "1682 Epoch: 0359 cost =  0.000006615 val =  0.993460\n",
      "1682 Epoch: 0360 cost =  0.000006133 val =  0.993460\n",
      "1682 Epoch: 0361 cost =  0.000005630 val =  0.993460\n",
      "1682 Epoch: 0362 cost =  0.000005160 val =  0.993460\n",
      "1682 Epoch: 0363 cost =  0.000004750 val =  0.993460\n",
      "1682 Epoch: 0364 cost =  0.000004387 val =  0.993460\n",
      "1682 Epoch: 0365 cost =  0.000003996 val =  0.993460\n",
      "1682 Epoch: 0366 cost =  0.000003658 val =  0.993460\n",
      "1682 Epoch: 0367 cost =  0.000003381 val =  0.993460\n",
      "1682 Epoch: 0368 cost =  0.000003132 val =  0.993460\n",
      "1682 Epoch: 0369 cost =  0.000002909 val =  0.993460\n",
      "1682 Epoch: 0370 cost =  0.000002708 val =  0.993460\n",
      "1682 Epoch: 0371 cost =  0.000002510 val =  0.993460\n",
      "1682 Epoch: 0372 cost =  0.000002312 val =  0.993460\n",
      "1682 Epoch: 0373 cost =  0.000002141 val =  0.993460\n",
      "1682 Epoch: 0374 cost =  0.000001956 val =  0.993460\n",
      "1682 Epoch: 0375 cost =  0.000001745 val =  0.993460\n",
      "1682 Epoch: 0376 cost =  0.000001492 val =  0.993460\n",
      "1682 Epoch: 0377 cost =  0.000001333 val =  0.993460\n",
      "1682 Epoch: 0378 cost =  0.000001190 val =  0.993460\n",
      "1682 Epoch: 0379 cost =  0.000001091 val =  0.993460\n",
      "1682 Epoch: 0380 cost =  0.000000999 val =  0.993460\n",
      "1682 Epoch: 0381 cost =  0.000000923 val =  0.993460\n",
      "1682 Epoch: 0382 cost =  0.000000849 val =  0.993460\n",
      "1682 Epoch: 0383 cost =  0.000000783 val =  0.994055\n",
      "1682 Epoch: 0384 cost =  0.000000722 val =  0.994055\n",
      "1682 Epoch: 0385 cost =  0.000000667 val =  0.994055\n",
      "1682 Epoch: 0386 cost =  0.000000619 val =  0.994055\n",
      "1682 Epoch: 0387 cost =  0.000000572 val =  0.994055\n",
      "1682 Epoch: 0388 cost =  0.000000521 val =  0.994055\n",
      "1682 Epoch: 0389 cost =  0.000000481 val =  0.994055\n",
      "1682 Epoch: 0390 cost =  0.000000436 val =  0.994055\n",
      "1682 Epoch: 0391 cost =  0.000000396 val =  0.994055\n",
      "1682 Epoch: 0392 cost =  0.000000367 val =  0.994055\n",
      "1682 Epoch: 0393 cost =  0.000000331 val =  0.994055\n",
      "1682 Epoch: 0394 cost =  0.000000302 val =  0.994055\n",
      "1682 Epoch: 0395 cost =  0.000000269 val =  0.994055\n",
      "1682 Epoch: 0396 cost =  0.000000244 val =  0.994055\n",
      "1682 Epoch: 0397 cost =  0.000000220 val =  0.994055\n",
      "1682 Epoch: 0398 cost =  0.000000199 val =  0.994055\n",
      "1682 Epoch: 0399 cost =  0.000000181 val =  0.994055\n",
      "1682 Epoch: 0400 cost =  0.000000160 val =  0.994055\n",
      "1682 Epoch: 0401 cost =  0.000000145 val =  0.994055\n",
      "1682 Epoch: 0402 cost =  0.000000129 val =  0.994055\n",
      "1682 Epoch: 0403 cost =  0.000000117 val =  0.994055\n",
      "1682 Epoch: 0404 cost =  0.000000105 val =  0.994055\n",
      "1682 Epoch: 0405 cost =  0.000000098 val =  0.994055\n",
      "1682 Epoch: 0406 cost =  0.000000086 val =  0.994055\n",
      "1682 Epoch: 0407 cost =  0.000000077 val =  0.994055\n",
      "1682 Epoch: 0408 cost =  0.000000069 val =  0.994055\n",
      "1682 Epoch: 0409 cost =  0.000000062 val =  0.994055\n",
      "1682 Epoch: 0410 cost =  0.000000057 val =  0.994055\n",
      "1682 Epoch: 0411 cost =  0.000000052 val =  0.994055\n",
      "1682 Epoch: 0412 cost =  0.000000046 val =  0.994055\n",
      "1682 Epoch: 0413 cost =  0.000000041 val =  0.994055\n",
      "1682 Epoch: 0414 cost =  0.000000038 val =  0.993460\n",
      "1682 Epoch: 0415 cost =  0.000000033 val =  0.993460\n",
      "1682 Epoch: 0416 cost =  0.000000030 val =  0.993460\n",
      "1682 Epoch: 0417 cost =  0.000000027 val =  0.993460\n",
      "1682 Epoch: 0418 cost =  0.000000024 val =  0.993460\n",
      "1682 Epoch: 0419 cost =  0.000000022 val =  0.993460\n",
      "1682 Epoch: 0420 cost =  0.000000020 val =  0.993460\n",
      "1682 Epoch: 0421 cost =  0.000000017 val =  0.993460\n",
      "1682 Epoch: 0422 cost =  0.000000016 val =  0.993460\n",
      "1682 Epoch: 0423 cost =  0.000000014 val =  0.993460\n",
      "1682 Epoch: 0424 cost =  0.000000013 val =  0.993460\n",
      "1682 Epoch: 0425 cost =  0.000000012 val =  0.993460\n",
      "1682 Epoch: 0426 cost =  0.000000010 val =  0.993460\n",
      "1682 Epoch: 0427 cost =  0.000000009 val =  0.993460\n",
      "1682 Epoch: 0428 cost =  0.000000008 val =  0.993460\n",
      "1682 Epoch: 0429 cost =  0.000000008 val =  0.993460\n",
      "1682 Epoch: 0430 cost =  0.000000007 val =  0.993460\n",
      "1682 Epoch: 0431 cost =  0.000000006 val =  0.993460\n",
      "1682 Epoch: 0432 cost =  0.000000005 val =  0.993460\n",
      "1682 Epoch: 0433 cost =  0.000000005 val =  0.993460\n",
      "1682 Epoch: 0434 cost =  0.000000005 val =  0.993460\n",
      "1682 Epoch: 0435 cost =  0.000000004 val =  0.993460\n",
      "1682 Epoch: 0436 cost =  0.000000004 val =  0.993460\n",
      "1682 Epoch: 0437 cost =  0.000000004 val =  0.993460\n",
      "1682 Epoch: 0438 cost =  0.000000003 val =  0.993460\n",
      "1682 Epoch: 0439 cost =  0.000000003 val =  0.993460\n",
      "1682 Epoch: 0440 cost =  0.000000003 val =  0.993460\n",
      "1682 Epoch: 0441 cost =  0.000000002 val =  0.993460\n",
      "1682 Epoch: 0442 cost =  0.000000002 val =  0.993460\n",
      "1682 Epoch: 0443 cost =  0.000000002 val =  0.993460\n",
      "1682 Epoch: 0444 cost =  0.000000002 val =  0.993460\n",
      "1682 Epoch: 0445 cost =  0.000000001 val =  0.993460\n",
      "1682 Epoch: 0446 cost =  0.000000001 val =  0.993460\n",
      "1682 Epoch: 0447 cost =  0.000000001 val =  0.993460\n",
      "1682 Epoch: 0448 cost =  0.000000001 val =  0.993460\n",
      "1682 Epoch: 0449 cost =  0.000000001 val =  0.993460\n",
      "1682 Epoch: 0450 cost =  0.000000001 val =  0.993460\n",
      "1682 Epoch: 0451 cost =  0.000000001 val =  0.994055\n",
      "1682 Epoch: 0452 cost =  0.000000001 val =  0.993460\n",
      "1682 Epoch: 0453 cost =  0.000000001 val =  0.993460\n",
      "1682 Epoch: 0454 cost =  0.000000000 val =  0.993460\n",
      "1682 Epoch: 0455 cost =  0.000000001 val =  0.993460\n",
      "1682 Epoch: 0456 cost =  0.000000001 val =  0.993460\n",
      "1682 Epoch: 0457 cost =  0.056774635 val =  0.994649\n",
      "1682 Epoch: 0458 cost =  0.013158232 val =  0.994649\n",
      "1682 Epoch: 0459 cost =  0.000209954 val =  0.994055\n",
      "1682 Epoch: 0460 cost =  0.000063563 val =  0.994055\n",
      "1682 Epoch: 0461 cost =  0.000010938 val =  0.994055\n",
      "1682 Epoch: 0462 cost =  0.000009036 val =  0.994055\n",
      "1682 Epoch: 0463 cost =  0.000006552 val =  0.994055\n",
      "1682 Epoch: 0464 cost =  0.000005282 val =  0.994055\n",
      "1682 Epoch: 0465 cost =  0.000004327 val =  0.994055\n"
     ]
    },
    {
     "name": "stdout",
     "output_type": "stream",
     "text": [
      "1682 Epoch: 0466 cost =  0.000004706 val =  0.994055\n",
      "1682 Epoch: 0467 cost =  0.000003701 val =  0.994055\n",
      "1682 Epoch: 0468 cost =  0.000003405 val =  0.994055\n",
      "1682 Epoch: 0469 cost =  0.000003096 val =  0.994055\n",
      "1682 Epoch: 0470 cost =  0.000002759 val =  0.994055\n",
      "1682 Epoch: 0471 cost =  0.000002902 val =  0.994055\n",
      "1682 Epoch: 0472 cost =  0.000002351 val =  0.994055\n",
      "1682 Epoch: 0473 cost =  0.000002211 val =  0.994055\n",
      "1682 Epoch: 0474 cost =  0.000002032 val =  0.994055\n",
      "1682 Epoch: 0475 cost =  0.000001863 val =  0.994055\n",
      "1682 Epoch: 0476 cost =  0.000001788 val =  0.994055\n",
      "1682 Epoch: 0477 cost =  0.000001532 val =  0.994055\n",
      "1682 Epoch: 0478 cost =  0.000001341 val =  0.994055\n",
      "1682 Epoch: 0479 cost =  0.000001229 val =  0.994055\n",
      "1682 Epoch: 0480 cost =  0.000001138 val =  0.994055\n",
      "1682 Epoch: 0481 cost =  0.000001068 val =  0.994055\n",
      "1682 Epoch: 0482 cost =  0.000000985 val =  0.994055\n",
      "1682 Epoch: 0483 cost =  0.000000945 val =  0.994055\n",
      "1682 Epoch: 0484 cost =  0.000000858 val =  0.994055\n",
      "1682 Epoch: 0485 cost =  0.000000826 val =  0.994055\n",
      "1682 Epoch: 0486 cost =  0.000000768 val =  0.994055\n",
      "1682 Epoch: 0487 cost =  0.000000715 val =  0.994055\n",
      "1682 Epoch: 0488 cost =  0.000000650 val =  0.994055\n",
      "1682 Epoch: 0489 cost =  0.000000610 val =  0.994055\n",
      "1682 Epoch: 0490 cost =  0.000000579 val =  0.994055\n",
      "1682 Epoch: 0491 cost =  0.000000529 val =  0.994055\n",
      "1682 Epoch: 0492 cost =  0.000000503 val =  0.994055\n",
      "1682 Epoch: 0493 cost =  0.000000459 val =  0.994055\n",
      "1682 Epoch: 0494 cost =  0.000000437 val =  0.994055\n",
      "1682 Epoch: 0495 cost =  0.000000400 val =  0.994055\n",
      "1682 Epoch: 0496 cost =  0.000000373 val =  0.994055\n",
      "1682 Epoch: 0497 cost =  0.000000355 val =  0.994055\n",
      "1682 Epoch: 0498 cost =  0.000000332 val =  0.994055\n",
      "1682 Epoch: 0499 cost =  0.000000299 val =  0.994055\n",
      "1682 Epoch: 0500 cost =  0.000000275 val =  0.994055\n"
     ]
    },
    {
     "data": {
      "text/plain": [
       "'../../model/CNN/cnn_model'"
      ]
     },
     "execution_count": 23,
     "metadata": {},
     "output_type": "execute_result"
    }
   ],
   "source": [
    "###########################\n",
    "batch_size = 32\n",
    "cost_history = np.empty(shape=[1], dtype=float)\n",
    "\n",
    "for epoch in range(training_epochs):#training epoch 500 / batch_size 128 --> acc 90%\n",
    "    avg_cost = 0\n",
    "    val_avg_cost =0\n",
    "    total_batch = int(y_train.shape[0] / batch_size)\n",
    "    for i in range(0, y_train.shape[0], batch_size):\n",
    "        feed_dict={X:X_train2[i:i+batch_size,:,:,:], Y:y_train[i:i+batch_size,:]}\n",
    "        c, _ = sess.run([cost, optimizer], feed_dict=feed_dict)\n",
    "        cost_history = np.append(cost_history,cost)\n",
    "        avg_cost += c/total_batch \n",
    "    \n",
    "    y_pred = sess.run(logits, feed_dict={X:X_val2})\n",
    "    y_pred = sess.run(tf.argmax(y_pred,1))\n",
    "    y_true = y_val\n",
    "        \n",
    "    y_true = sess.run(tf.argmax(y_true,1))\n",
    "    print(len(y_pred),end=' ')\n",
    "    print('Epoch:', '%04d' % (epoch+1), 'cost = ', '{:.9f}'.format(avg_cost), 'val = ','%f' %(accuracy_score(y_true, y_pred)) )\n",
    "saver.save(sess, model_path)"
   ]
  },
  {
   "cell_type": "markdown",
   "metadata": {},
   "source": [
    "## Prediction"
   ]
  },
  {
   "cell_type": "code",
   "execution_count": 24,
   "metadata": {},
   "outputs": [],
   "source": [
    "y_pred = sess.run(tf.argmax(logits,1),feed_dict={X: X_test2})\n",
    "y_true = sess.run(tf.argmax(y_test,1))"
   ]
  },
  {
   "cell_type": "code",
   "execution_count": 25,
   "metadata": {},
   "outputs": [
    {
     "name": "stdout",
     "output_type": "stream",
     "text": [
      "F-Score: 0.991\n",
      "Accuracy:  0.9914407988587732\n",
      "              precision    recall  f1-score   support\n",
      "\n",
      "           0       0.99      0.99      0.99       966\n",
      "           1       0.99      1.00      0.99      1137\n",
      "\n",
      "   micro avg       0.99      0.99      0.99      2103\n",
      "   macro avg       0.99      0.99      0.99      2103\n",
      "weighted avg       0.99      0.99      0.99      2103\n",
      "\n",
      "[[ 953   13]\n",
      " [   5 1132]]\n"
     ]
    }
   ],
   "source": [
    "# Print Result\n",
    "\n",
    "from sklearn.metrics import precision_recall_fscore_support\n",
    "p,r,f,s = precision_recall_fscore_support(y_true, y_pred, average='micro')\n",
    "print(\"F-Score:\", round(f,3))\n",
    "from sklearn.metrics import accuracy_score\n",
    "print(\"Accuracy: \", accuracy_score(y_true, y_pred))\n",
    "\n",
    "from sklearn.metrics import classification_report\n",
    "print(classification_report(y_true, y_pred))\n",
    "from sklearn.metrics import confusion_matrix\n",
    "print(confusion_matrix(y_true, y_pred))"
   ]
  },
  {
   "cell_type": "code",
   "execution_count": null,
   "metadata": {},
   "outputs": [],
   "source": []
  }
 ],
 "metadata": {
  "kernelspec": {
   "display_name": "Python 3",
   "language": "python",
   "name": "python3"
  },
  "language_info": {
   "codemirror_mode": {
    "name": "ipython",
    "version": 3
   },
   "file_extension": ".py",
   "mimetype": "text/x-python",
   "name": "python",
   "nbconvert_exporter": "python",
   "pygments_lexer": "ipython3",
   "version": "3.6.7"
  }
 },
 "nbformat": 4,
 "nbformat_minor": 2
}
