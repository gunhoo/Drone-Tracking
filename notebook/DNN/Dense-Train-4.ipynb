{
 "cells": [
  {
   "cell_type": "code",
   "execution_count": 1,
   "metadata": {},
   "outputs": [],
   "source": [
    "import matplotlib.pyplot as plt\n",
    "%matplotlib inline\n",
    "import IPython.display\n",
    "import librosa.display\n",
    "import numpy as np\n",
    "import librosa\n",
    "import tensorflow as tf\n",
    "import glob"
   ]
  },
  {
   "cell_type": "markdown",
   "metadata": {},
   "source": [
    "### If you have been save the data, you don't have to preprocessing and save the data"
   ]
  },
  {
   "cell_type": "code",
   "execution_count": 2,
   "metadata": {},
   "outputs": [],
   "source": [
    "c_drone_path = '../../data/1m/*.wav'\n",
    "cm_drone_path = '../../data/10m/*.wav'\n",
    "m_drone_path = '../../data/20m/*.wav'\n",
    "f_drone_path = '../../data/50m/*.wav'\n",
    "background_path = '../../data/background/*.wav'\n",
    "\n",
    "c_drone_files = glob.glob(c_drone_path)\n",
    "cm_drone_files = glob.glob(cm_drone_path)\n",
    "m_drone_files = glob.glob(m_drone_path)\n",
    "f_drone_files = glob.glob(f_drone_path)\n",
    "background_files = glob.glob(background_path)"
   ]
  },
  {
   "cell_type": "code",
   "execution_count": 3,
   "metadata": {},
   "outputs": [],
   "source": [
    "CHUNK_SIZE = 8192\n",
    "SR = 22050\n",
    "N_MFCC = 16"
   ]
  },
  {
   "cell_type": "code",
   "execution_count": 4,
   "metadata": {},
   "outputs": [],
   "source": [
    "def load(files, sr=22050):\n",
    "    [raw, sr] = librosa.load(files[0], sr=sr)\n",
    "    for f in files[1:]:\n",
    "        [array, sr] = librosa.load(f, sr=sr)\n",
    "        raw = np.hstack((raw, array))\n",
    "    print(raw.shape)\n",
    "    return raw"
   ]
  },
  {
   "cell_type": "code",
   "execution_count": 5,
   "metadata": {},
   "outputs": [
    {
     "name": "stdout",
     "output_type": "stream",
     "text": [
      "(2600960,)\n",
      "(2748416,)\n",
      "(2637824,)\n",
      "(2723840,)\n",
      "(6032517,)\n"
     ]
    }
   ],
   "source": [
    "c_drone_raw = load(c_drone_files)\n",
    "cm_drone_raw = load(cm_drone_files)\n",
    "m_drone_raw = load(m_drone_files)\n",
    "f_drone_raw = load(f_drone_files)\n",
    "background_raw = load(background_files)"
   ]
  },
  {
   "cell_type": "markdown",
   "metadata": {},
   "source": [
    "# Data preprocessing"
   ]
  },
  {
   "cell_type": "markdown",
   "metadata": {},
   "source": [
    "Chose `mfcc4` among functions below:\n",
    "- input size 16x16; `n_mfcc=16`, used first 16 data points from 16x17 mfcc of a chunk with size 8192\n",
    "- chunk siez 8192, overlapped half of it"
   ]
  },
  {
   "cell_type": "code",
   "execution_count": 6,
   "metadata": {},
   "outputs": [],
   "source": [
    "def mfcc4(raw, label, chunk_size=8192, window_size=4096, sr=22050, n_mfcc=16, n_frame=16):\n",
    "    mfcc = np.empty((0, n_mfcc, n_frame))\n",
    "    y = []\n",
    "    print(raw.shape)\n",
    "    for i in range(0, len(raw), chunk_size//2):\n",
    "        mfcc_slice = librosa.feature.mfcc(raw[i:i+chunk_size], sr=sr, n_mfcc=n_mfcc) #n_mfcc,17\n",
    "        if mfcc_slice.shape[1] < 17:\n",
    "            print(\"small end:\", mfcc_slice.shape)\n",
    "            continue\n",
    "        mfcc_slice = mfcc_slice[:,:-1]\n",
    "        mfcc_slice = mfcc_slice.reshape((1, mfcc_slice.shape[0], mfcc_slice.shape[1]))\n",
    "        mfcc = np.vstack((mfcc, mfcc_slice))\n",
    "        y.append(label)\n",
    "    y = np.array(y)\n",
    "    return mfcc, y"
   ]
  },
  {
   "cell_type": "code",
   "execution_count": 7,
   "metadata": {},
   "outputs": [
    {
     "name": "stdout",
     "output_type": "stream",
     "text": [
      "(2600960,)\n",
      "small end: (16, 9)\n",
      "(2748416,)\n",
      "small end: (16, 9)\n",
      "(2637824,)\n",
      "small end: (16, 9)\n",
      "(2723840,)\n",
      "small end: (16, 9)\n",
      "(6032517,)\n",
      "small end: (16, 15)\n",
      "small end: (16, 7)\n",
      "(634, 16, 16) (634,)\n",
      "(670, 16, 16) (670,)\n",
      "(643, 16, 16) (643,)\n",
      "(664, 16, 16) (664,)\n",
      "(1471, 16, 16) (1471,)\n"
     ]
    }
   ],
   "source": [
    "c_mfcc_drone, c_y_drone = mfcc4(c_drone_raw, 4)\n",
    "cm_mfcc_drone, cm_y_drone = mfcc4(cm_drone_raw, 3)\n",
    "m_mfcc_drone, m_y_drone = mfcc4(m_drone_raw, 2)\n",
    "f_mfcc_drone, f_y_drone = mfcc4(f_drone_raw, 1)\n",
    "mfcc_background, y_background = mfcc4(background_raw, 0)\n",
    "\n",
    "print(c_mfcc_drone.shape, c_y_drone.shape)\n",
    "print(cm_mfcc_drone.shape, cm_y_drone.shape)\n",
    "print(m_mfcc_drone.shape, m_y_drone.shape)\n",
    "print(f_mfcc_drone.shape, f_y_drone.shape)\n",
    "print(mfcc_background.shape, y_background.shape)"
   ]
  },
  {
   "cell_type": "code",
   "execution_count": 8,
   "metadata": {},
   "outputs": [
    {
     "name": "stdout",
     "output_type": "stream",
     "text": [
      "(4082, 16, 16) (4082,)\n"
     ]
    }
   ],
   "source": [
    "X = np.concatenate((c_mfcc_drone,cm_mfcc_drone,m_mfcc_drone,f_mfcc_drone, mfcc_background), axis=0)\n",
    "y = np.hstack((c_y_drone, cm_y_drone, m_y_drone, f_y_drone, y_background))\n",
    "print(X.shape, y.shape)"
   ]
  },
  {
   "cell_type": "code",
   "execution_count": 9,
   "metadata": {},
   "outputs": [],
   "source": [
    "X = np.reshape(X,(X.shape[0],-1))"
   ]
  },
  {
   "cell_type": "code",
   "execution_count": 10,
   "metadata": {},
   "outputs": [
    {
     "data": {
      "text/plain": [
       "(4082, 256)"
      ]
     },
     "execution_count": 10,
     "metadata": {},
     "output_type": "execute_result"
    }
   ],
   "source": [
    "X.shape"
   ]
  },
  {
   "cell_type": "code",
   "execution_count": 11,
   "metadata": {},
   "outputs": [
    {
     "name": "stdout",
     "output_type": "stream",
     "text": [
      "(4082, 5)\n"
     ]
    }
   ],
   "source": [
    "n_labels = y.shape[0]\n",
    "n_unique_labels = 5\n",
    "y_encoded = np.zeros((n_labels, n_unique_labels))\n",
    "y_encoded[np.arange(n_labels), y] = 1\n",
    "print(y_encoded.shape)"
   ]
  },
  {
   "cell_type": "code",
   "execution_count": 12,
   "metadata": {},
   "outputs": [],
   "source": [
    "# Split data\n",
    "from sklearn import model_selection\n",
    "X_train, X_test, y_train, y_test = model_selection.train_test_split(X, y_encoded, test_size=0.2, random_state=42)\n",
    "X_train, X_val, y_train, y_val = model_selection.train_test_split(X_train, y_train, test_size=0.2, random_state=42)"
   ]
  },
  {
   "cell_type": "code",
   "execution_count": 13,
   "metadata": {},
   "outputs": [
    {
     "name": "stdout",
     "output_type": "stream",
     "text": [
      "(2612, 256) (2612, 5)\n",
      "(653, 256) (653, 5)\n",
      "(817, 256) (817, 5)\n"
     ]
    }
   ],
   "source": [
    "print(X_train.shape,y_train.shape)\n",
    "print(X_val.shape, y_val.shape)\n",
    "print(X_test.shape, y_test.shape)"
   ]
  },
  {
   "cell_type": "code",
   "execution_count": 14,
   "metadata": {},
   "outputs": [],
   "source": [
    "# Save Data\n",
    "np.save('../../model/X_train', X_train)\n",
    "np.save('../../model/X_test', X_test)\n",
    "np.save('../../model/X_val', X_val)\n",
    "np.save('../../model/y_val', y_val)\n",
    "np.save('../../model/y_train', y_train)\n",
    "np.save('../../model/y_test', y_test)"
   ]
  },
  {
   "cell_type": "markdown",
   "metadata": {},
   "source": [
    "### Until this part"
   ]
  },
  {
   "cell_type": "code",
   "execution_count": 15,
   "metadata": {},
   "outputs": [],
   "source": [
    "# Load Data\n",
    "X_train = np.load('../../model/X_train.npy')\n",
    "X_test = np.load('../../model/X_test.npy')\n",
    "X_val = np.load('../../model/X_val.npy')\n",
    "y_val = np.load('../../model/y_val.npy')\n",
    "y_train = np.load('../../model/y_train.npy')\n",
    "y_test = np.load('../../model/y_test.npy')"
   ]
  },
  {
   "cell_type": "markdown",
   "metadata": {},
   "source": [
    "# Experiment 3 - One convolutional layer /w no dropout\n"
   ]
  },
  {
   "cell_type": "markdown",
   "metadata": {},
   "source": [
    "##Experiment 3-2\n",
    "- learning rate 0.005\n",
    "- pooling stride 1x1\n",
    "- #filter 1\n",
    "- best result among every other settings\n",
    "- cost kept fluctuated during training. (0.8 -> 1.3) -- why is that?"
   ]
  },
  {
   "cell_type": "code",
   "execution_count": 16,
   "metadata": {},
   "outputs": [],
   "source": [
    "tf.reset_default_graph()"
   ]
  },
  {
   "cell_type": "code",
   "execution_count": 17,
   "metadata": {},
   "outputs": [],
   "source": [
    "n_mfcc = 16\n",
    "n_frame = 16\n",
    "n_classes = 5\n",
    "n_channels = 1\n",
    "\n",
    "kernel_size = 3\n",
    "stride = 1\n",
    "pad = \"SAME\"\n",
    "\n",
    "learning_rate = 0.0002  # 0.005\n",
    "training_epochs = 200 # 수정해야해"
   ]
  },
  {
   "cell_type": "markdown",
   "metadata": {},
   "source": [
    "# Layer"
   ]
  },
  {
   "cell_type": "markdown",
   "metadata": {},
   "source": [
    "## Experiment\n",
    "- learning rate 0.0002\n",
    "- no cnn/ pooling \n",
    "- just dense with dropout "
   ]
  },
  {
   "cell_type": "code",
   "execution_count": 18,
   "metadata": {},
   "outputs": [],
   "source": [
    "X = tf.placeholder(tf.float32, shape=[None,n_mfcc*n_frame*n_channels])\n",
    "Y = tf.placeholder(tf.float32, shape=[None,n_classes])\n",
    "\n",
    "keep_prob = tf.placeholder(tf.float32)\n",
    "\n",
    "dense1 = tf.layers.dense(inputs=X, units=256, activation=tf.nn.relu)\n",
    "dropout1 = tf.nn.dropout(dense1, keep_prob=keep_prob)\n",
    "dense2 = tf.layers.dense(inputs=dropout1, units=256, activation=tf.nn.relu)\n",
    "dropout2 = tf.nn.dropout(dense2, keep_prob=keep_prob)\n",
    "dense3 = tf.layers.dense(inputs=dropout2, units=512, activation=tf.nn.relu)\n",
    "dropout3 = tf.nn.dropout(dense3, keep_prob=keep_prob)\n",
    "dense4 = tf.layers.dense(inputs=dropout3, units=512, activation=tf.nn.relu)\n",
    "dropout4 = tf.nn.dropout(dense4, keep_prob=keep_prob)\n",
    "dense5 = tf.layers.dense(inputs=dropout4, units=256, activation=tf.nn.relu)\n",
    "dropout5 = tf.nn.dropout(dense5, keep_prob=keep_prob)\n",
    "\n",
    "logits= tf.layers.dense(inputs=dropout5, units=5)"
   ]
  },
  {
   "cell_type": "code",
   "execution_count": 19,
   "metadata": {},
   "outputs": [],
   "source": [
    "cost = tf.reduce_mean(tf.nn.softmax_cross_entropy_with_logits_v2(logits=logits, labels=Y))\n",
    "optimizer = tf.train.AdamOptimizer(learning_rate=learning_rate).minimize(cost)"
   ]
  },
  {
   "cell_type": "code",
   "execution_count": 20,
   "metadata": {},
   "outputs": [],
   "source": [
    "sess = tf.Session()\n",
    "sess.run(tf.global_variables_initializer())"
   ]
  },
  {
   "cell_type": "code",
   "execution_count": 21,
   "metadata": {},
   "outputs": [],
   "source": [
    "# model save\n",
    "model_path = '../../model/Dense/4_dense_model'\n",
    "saver = tf.train.Saver()"
   ]
  },
  {
   "cell_type": "markdown",
   "metadata": {},
   "source": [
    "# Trainning"
   ]
  },
  {
   "cell_type": "code",
   "execution_count": 22,
   "metadata": {},
   "outputs": [],
   "source": [
    "import math"
   ]
  },
  {
   "cell_type": "code",
   "execution_count": 23,
   "metadata": {
    "scrolled": false
   },
   "outputs": [],
   "source": [
    "with tf.name_scope(\"eval\"):\n",
    "    correct = tf.nn.in_top_k(logits, y, 1)\n",
    "    accuracy = tf.reduce_mean(tf.cast(correct, tf.float32))\n",
    "#    accuracy_summary = tf.summary.scalar('accuracy', accuracy)"
   ]
  },
  {
   "cell_type": "code",
   "execution_count": 24,
   "metadata": {},
   "outputs": [],
   "source": [
    "from sklearn.metrics import accuracy_score"
   ]
  },
  {
   "cell_type": "code",
   "execution_count": 25,
   "metadata": {
    "scrolled": true
   },
   "outputs": [
    {
     "name": "stdout",
     "output_type": "stream",
     "text": [
      "Epoch: 0001 cost =  1.189684512 \t검증 세트 정확도: 43.798%\n",
      "Epoch: 0002 cost =  0.377300225 \t검증 세트 정확도: 59.724%\n",
      "Epoch: 0003 cost =  0.203275264 \t검증 세트 정확도: 56.508%\n",
      "Epoch: 0004 cost =  0.122753100 \t검증 세트 정확도: 59.112%\n",
      "Epoch: 0005 cost =  0.086453096 \t검증 세트 정확도: 58.499%\n",
      "Epoch: 0006 cost =  0.066565759 \t검증 세트 정확도: 56.049%\n",
      "Epoch: 0007 cost =  0.055059523 \t검증 세트 정확도: 54.671%\n",
      "Epoch: 0008 cost =  0.048723253 \t검증 세트 정확도: 65.391%\n",
      "Epoch: 0009 cost =  0.042140689 \t검증 세트 정확도: 67.534%\n",
      "Epoch: 0010 cost =  0.038983110 \t검증 세트 정확도: 61.868%\n",
      "Epoch: 0011 cost =  0.036028808 \t검증 세트 정확도: 66.156%\n",
      "Epoch: 0012 cost =  0.034349324 \t검증 세트 정확도: 66.003%\n",
      "Epoch: 0013 cost =  0.032178376 \t검증 세트 정확도: 71.210%\n",
      "Epoch: 0014 cost =  0.029932789 \t검증 세트 정확도: 77.489%\n",
      "Epoch: 0015 cost =  0.028591424 \t검증 세트 정확도: 78.101%\n",
      "Epoch: 0016 cost =  0.027848142 \t검증 세트 정확도: 73.813%\n",
      "Epoch: 0017 cost =  0.026835296 \t검증 세트 정확도: 78.560%\n",
      "Epoch: 0018 cost =  0.025455853 \t검증 세트 정확도: 81.623%\n",
      "Epoch: 0019 cost =  0.024398377 \t검증 세트 정확도: 86.217%\n",
      "Epoch: 0020 cost =  0.023269197 \t검증 세트 정확도: 85.605%\n",
      "Epoch: 0021 cost =  0.022336892 \t검증 세트 정확도: 86.217%\n",
      "Epoch: 0022 cost =  0.020905323 \t검증 세트 정확도: 86.217%\n",
      "Epoch: 0023 cost =  0.020414282 \t검증 세트 정확도: 88.821%\n",
      "Epoch: 0024 cost =  0.019866383 \t검증 세트 정확도: 91.577%\n",
      "Epoch: 0025 cost =  0.017643887 \t검증 세트 정확도: 91.271%\n",
      "Epoch: 0026 cost =  0.017250109 \t검증 세트 정확도: 91.118%\n",
      "Epoch: 0027 cost =  0.015653833 \t검증 세트 정확도: 92.343%\n",
      "Epoch: 0028 cost =  0.014391206 \t검증 세트 정확도: 92.343%\n",
      "Epoch: 0029 cost =  0.013809945 \t검증 세트 정확도: 92.037%\n",
      "Epoch: 0030 cost =  0.014199213 \t검증 세트 정확도: 92.190%\n",
      "Epoch: 0031 cost =  0.012278006 \t검증 세트 정확도: 92.343%\n",
      "Epoch: 0032 cost =  0.012092795 \t검증 세트 정확도: 92.649%\n",
      "Epoch: 0033 cost =  0.012337277 \t검증 세트 정확도: 92.496%\n",
      "Epoch: 0034 cost =  0.011603682 \t검증 세트 정확도: 92.496%\n",
      "Epoch: 0035 cost =  0.010791839 \t검증 세트 정확도: 93.109%\n",
      "Epoch: 0036 cost =  0.010182336 \t검증 세트 정확도: 92.649%\n",
      "Epoch: 0037 cost =  0.010745706 \t검증 세트 정확도: 92.956%\n",
      "Epoch: 0038 cost =  0.010810745 \t검증 세트 정확도: 94.181%\n",
      "Epoch: 0039 cost =  0.009368623 \t검증 세트 정확도: 94.793%\n",
      "Epoch: 0040 cost =  0.009893597 \t검증 세트 정확도: 93.109%\n",
      "Epoch: 0041 cost =  0.009025546 \t검증 세트 정확도: 93.262%\n",
      "Epoch: 0042 cost =  0.008692827 \t검증 세트 정확도: 95.253%\n",
      "Epoch: 0043 cost =  0.008259825 \t검증 세트 정확도: 94.487%\n",
      "Epoch: 0044 cost =  0.008097207 \t검증 세트 정확도: 93.721%\n",
      "Epoch: 0045 cost =  0.007562528 \t검증 세트 정확도: 94.487%\n",
      "Epoch: 0046 cost =  0.007234968 \t검증 세트 정확도: 94.181%\n",
      "Epoch: 0047 cost =  0.006763863 \t검증 세트 정확도: 94.487%\n",
      "Epoch: 0048 cost =  0.007348494 \t검증 세트 정확도: 95.712%\n",
      "Epoch: 0049 cost =  0.006781430 \t검증 세트 정확도: 94.334%\n",
      "Epoch: 0050 cost =  0.007020300 \t검증 세트 정확도: 94.793%\n",
      "Epoch: 0051 cost =  0.006196718 \t검증 세트 정확도: 95.100%\n",
      "Epoch: 0052 cost =  0.007057618 \t검증 세트 정확도: 95.406%\n",
      "Epoch: 0053 cost =  0.006652951 \t검증 세트 정확도: 95.865%\n",
      "Epoch: 0054 cost =  0.006318862 \t검증 세트 정확도: 96.018%\n",
      "Epoch: 0055 cost =  0.006146893 \t검증 세트 정확도: 96.325%\n",
      "Epoch: 0056 cost =  0.005921745 \t검증 세트 정확도: 96.018%\n",
      "Epoch: 0057 cost =  0.006316545 \t검증 세트 정확도: 96.631%\n",
      "Epoch: 0058 cost =  0.005304289 \t검증 세트 정확도: 95.712%\n",
      "Epoch: 0059 cost =  0.006431273 \t검증 세트 정확도: 95.865%\n",
      "Epoch: 0060 cost =  0.005910085 \t검증 세트 정확도: 96.478%\n",
      "Epoch: 0061 cost =  0.005493965 \t검증 세트 정확도: 95.712%\n",
      "Epoch: 0062 cost =  0.005594238 \t검증 세트 정확도: 95.559%\n",
      "Epoch: 0063 cost =  0.005385214 \t검증 세트 정확도: 96.172%\n",
      "Epoch: 0064 cost =  0.006157786 \t검증 세트 정확도: 96.172%\n",
      "Epoch: 0065 cost =  0.005700763 \t검증 세트 정확도: 95.712%\n",
      "Epoch: 0066 cost =  0.005841092 \t검증 세트 정확도: 96.631%\n",
      "Epoch: 0067 cost =  0.004646310 \t검증 세트 정확도: 95.865%\n",
      "Epoch: 0068 cost =  0.004591454 \t검증 세트 정확도: 95.100%\n",
      "Epoch: 0069 cost =  0.005528026 \t검증 세트 정확도: 96.631%\n",
      "Epoch: 0070 cost =  0.004812838 \t검증 세트 정확도: 96.784%\n",
      "Epoch: 0071 cost =  0.004788663 \t검증 세트 정확도: 95.865%\n",
      "Epoch: 0072 cost =  0.004790437 \t검증 세트 정확도: 96.478%\n",
      "Epoch: 0073 cost =  0.004582834 \t검증 세트 정확도: 95.559%\n",
      "Epoch: 0074 cost =  0.004401796 \t검증 세트 정확도: 96.478%\n",
      "Epoch: 0075 cost =  0.004404058 \t검증 세트 정확도: 95.559%\n",
      "Epoch: 0076 cost =  0.004490841 \t검증 세트 정확도: 96.478%\n",
      "Epoch: 0077 cost =  0.004586322 \t검증 세트 정확도: 96.631%\n",
      "Epoch: 0078 cost =  0.003615720 \t검증 세트 정확도: 96.937%\n",
      "Epoch: 0079 cost =  0.004289622 \t검증 세트 정확도: 97.243%\n",
      "Epoch: 0080 cost =  0.004044771 \t검증 세트 정확도: 97.243%\n",
      "Epoch: 0081 cost =  0.003832110 \t검증 세트 정확도: 96.172%\n",
      "Epoch: 0082 cost =  0.004308986 \t검증 세트 정확도: 96.018%\n",
      "Epoch: 0083 cost =  0.003861997 \t검증 세트 정확도: 96.018%\n",
      "Epoch: 0084 cost =  0.004845928 \t검증 세트 정확도: 97.243%\n",
      "Epoch: 0085 cost =  0.003913216 \t검증 세트 정확도: 96.937%\n",
      "Epoch: 0086 cost =  0.003795892 \t검증 세트 정확도: 96.631%\n",
      "Epoch: 0087 cost =  0.004098710 \t검증 세트 정확도: 97.243%\n",
      "Epoch: 0088 cost =  0.004668835 \t검증 세트 정확도: 95.712%\n",
      "Epoch: 0089 cost =  0.004458281 \t검증 세트 정확도: 96.937%\n",
      "Epoch: 0090 cost =  0.003599946 \t검증 세트 정확도: 96.631%\n",
      "Epoch: 0091 cost =  0.003925054 \t검증 세트 정확도: 97.090%\n",
      "Epoch: 0092 cost =  0.003944947 \t검증 세트 정확도: 96.937%\n",
      "Epoch: 0093 cost =  0.003731573 \t검증 세트 정확도: 96.937%\n",
      "Epoch: 0094 cost =  0.003463432 \t검증 세트 정확도: 96.937%\n",
      "Epoch: 0095 cost =  0.003738035 \t검증 세트 정확도: 97.243%\n",
      "Epoch: 0096 cost =  0.003437887 \t검증 세트 정확도: 97.397%\n",
      "Epoch: 0097 cost =  0.003692764 \t검증 세트 정확도: 96.631%\n",
      "Epoch: 0098 cost =  0.003744141 \t검증 세트 정확도: 97.703%\n",
      "Epoch: 0099 cost =  0.003897806 \t검증 세트 정확도: 96.325%\n"
     ]
    },
    {
     "data": {
      "text/plain": [
       "'../../model/Dense/4_dense_model'"
      ]
     },
     "execution_count": 25,
     "metadata": {},
     "output_type": "execute_result"
    }
   ],
   "source": [
    "#original \n",
    "epochX = []\n",
    "costY = []\n",
    "accuracyY = []\n",
    "\n",
    "batch_size = 32\n",
    "cost_history = np.empty(shape=[1], dtype=float)\n",
    "with tf.device(\"/gpu:0\"):\n",
    "    for epoch in range(1,100):\n",
    "        avg_cost = 0    \n",
    "#    total_batch = int(X_train.shape[0] / batch_size)\n",
    "        for i in range( int(math.ceil(len(X_train)/batch_size)) ): # 배치 사이즈로 나눈 나머지 다 돌 수 있게 \n",
    "            x_ = X_train[batch_size * i: batch_size * (i + 1)]\n",
    "            y_ = y_train[batch_size * i: batch_size * (i + 1)]\n",
    "            feed_dict={X:x_, Y:y_, keep_prob:0.6}    \n",
    "            c, _ = sess.run([cost, optimizer], feed_dict=feed_dict)\n",
    "            cost_history = np.append(cost_history,cost)\n",
    "            avg_cost += c\n",
    "            #accuracy_val = sess.run([accuracy], feed_dict={X:X_val, Y:y_val\n",
    "        val_pred = sess.run(tf.argmax(logits,1),feed_dict={X: X_val , keep_prob:1})  \n",
    "        val_true = sess.run(tf.argmax(y_val,1))\n",
    "        accuracy_val = accuracy_score(val_pred, val_true)\n",
    "        epochX.append(epoch)\n",
    "        costY.append(avg_cost/len(X_train))\n",
    "        accuracyY.append(accuracy_val)\n",
    "        print('Epoch:', '%04d' % (epoch), 'cost = ', '{:.9f}'.format(avg_cost / len(X_train)), \"\\t검증 세트 정확도: {:.3f}%\".format(accuracy_val * 100),)\n",
    "saver.save(sess, model_path)"
   ]
  },
  {
   "cell_type": "code",
   "execution_count": 30,
   "metadata": {},
   "outputs": [
    {
     "data": {
      "text/plain": [
       "[<matplotlib.lines.Line2D at 0x7fc7b8714dd8>]"
      ]
     },
     "execution_count": 30,
     "metadata": {},
     "output_type": "execute_result"
    },
    {
     "data": {
      "image/png": "[encoded data removed]",
      "text/plain": [
       "<Figure size 720x360 with 1 Axes>"
      ]
     },
     "metadata": {
      "needs_background": "light"
     },
     "output_type": "display_data"
    }
   ],
   "source": [
    "import matplotlib.pyplot as plt\n",
    "%matplotlib inline\n",
    "\n",
    "fig= plt.figure(figsize=(10,5))\n",
    "axes= fig.add_subplot(111)\n",
    "\n",
    "\n",
    "axes.plot(epochX, costY)\n",
    "plt.xlabel('Actual Distance (m)')\n",
    "plt.ylabel('Calculated Distance (m)')\n",
    "\n",
    "axes.plot(epochX, accuracyY)\n",
    "#axes.set_yticks([0,10,20,30,40,50,60,70])\n",
    "#plt.show()\n",
    "\n",
    "#plt.savefig('graph7-04percentage.png',dpi=900)"
   ]
  },
  {
   "cell_type": "markdown",
   "metadata": {},
   "source": [
    "## Prediction"
   ]
  },
  {
   "cell_type": "code",
   "execution_count": 27,
   "metadata": {},
   "outputs": [],
   "source": [
    "y_pred = sess.run(tf.argmax(logits,1),feed_dict={X: X_test , keep_prob:1}) \n",
    "y_true = sess.run(tf.argmax(y_test,1))"
   ]
  },
  {
   "cell_type": "code",
   "execution_count": 28,
   "metadata": {},
   "outputs": [
    {
     "name": "stdout",
     "output_type": "stream",
     "text": [
      "F-Score: 0.961\n",
      "Accuracy:  0.9608323133414932\n",
      "              precision    recall  f1-score   support\n",
      "\n",
      "           0       0.98      1.00      0.99       275\n",
      "           1       0.94      0.96      0.95       132\n",
      "           2       0.90      0.97      0.93       135\n",
      "           3       0.96      0.83      0.89       131\n",
      "           4       1.00      0.99      1.00       144\n",
      "\n",
      "   micro avg       0.96      0.96      0.96       817\n",
      "   macro avg       0.96      0.95      0.95       817\n",
      "weighted avg       0.96      0.96      0.96       817\n",
      "\n",
      "[[275   0   0   0   0]\n",
      " [  1 127   0   4   0]\n",
      " [  3   1 131   0   0]\n",
      " [  1   7  14 109   0]\n",
      " [  0   0   1   0 143]]\n"
     ]
    }
   ],
   "source": [
    "# Ptint Result\n",
    "\n",
    "from sklearn.metrics import precision_recall_fscore_support\n",
    "p,r,f,s = precision_recall_fscore_support(y_true, y_pred, average='micro')\n",
    "print(\"F-Score:\", round(f,3))\n",
    "from sklearn.metrics import accuracy_score\n",
    "print(\"Accuracy: \", accuracy_score(y_true, y_pred))\n",
    "\n",
    "from sklearn.metrics import classification_report\n",
    "print(classification_report(y_true, y_pred))\n",
    "from sklearn.metrics import confusion_matrix\n",
    "print(confusion_matrix(y_true, y_pred))"
   ]
  }
 ],
 "metadata": {
  "kernelspec": {
   "display_name": "Python 3",
   "language": "python",
   "name": "python3"
  },
  "language_info": {
   "codemirror_mode": {
    "name": "ipython",
    "version": 3
   },
   "file_extension": ".py",
   "mimetype": "text/x-python",
   "name": "python",
   "nbconvert_exporter": "python",
   "pygments_lexer": "ipython3",
   "version": "3.6.8"
  }
 },
 "nbformat": 4,
 "nbformat_minor": 2
}
